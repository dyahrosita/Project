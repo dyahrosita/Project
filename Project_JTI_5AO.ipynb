{
  "nbformat": 4,
  "nbformat_minor": 0,
  "metadata": {
    "colab": {
      "name": "Project JTI 5AO.ipynb",
      "provenance": [],
      "collapsed_sections": [],
      "toc_visible": true,
      "authorship_tag": "ABX9TyOY7wskgZ2KU/wb8Ln+qdL5",
      "include_colab_link": true
    },
    "kernelspec": {
      "display_name": "Python 3",
      "name": "python3"
    },
    "language_info": {
      "name": "python"
    }
  },
  "cells": [
    {
      "cell_type": "markdown",
      "metadata": {
        "id": "view-in-github",
        "colab_type": "text"
      },
      "source": [
        "<a href=\"https://colab.research.google.com/github/dyahrosita/Project/blob/main/Project_JTI_5AO.ipynb\" target=\"_parent\"><img src=\"https://colab.research.google.com/assets/colab-badge.svg\" alt=\"Open In Colab\"/></a>"
      ]
    },
    {
      "cell_type": "markdown",
      "metadata": {
        "id": "vVehffFvn16E"
      },
      "source": [
        "# Import LIbrary"
      ]
    },
    {
      "cell_type": "code",
      "metadata": {
        "colab": {
          "base_uri": "https://localhost:8080/"
        },
        "id": "tlSJPqdb3Xd2",
        "outputId": "bf0e9104-2cbe-4744-8910-f1ef47224fc6"
      },
      "source": [
        "import pandas as pd\n",
        "import numpy as np\n",
        "import matplotlib.pyplot as plt\n",
        "import re\n",
        "from functools import reduce\n",
        "import datetime as dt\n",
        "\n",
        "from google.colab import files\n",
        "from google.colab import drive\n",
        "drive.mount(\"/content/gdrive/\")"
      ],
      "execution_count": 1894,
      "outputs": [
        {
          "output_type": "stream",
          "name": "stdout",
          "text": [
            "Drive already mounted at /content/gdrive/; to attempt to forcibly remount, call drive.mount(\"/content/gdrive/\", force_remount=True).\n"
          ]
        }
      ]
    },
    {
      "cell_type": "markdown",
      "metadata": {
        "id": "vDrrGj0PZlo5"
      },
      "source": [
        "# Store Observation"
      ]
    },
    {
      "cell_type": "code",
      "metadata": {
        "id": "hM-IyJrqCbj4"
      },
      "source": [
        "drop_column = ['LANGUAGE_ID', 'VERSION', 'RESPONSE_NAME', 'RESPONSE_STATUS', 'SOURCE_OF_ENTRY', 'RESPONSE_MODE',\n",
        "              'BACKCHK_FLAG', 'QC_STATUS', 'START_TIME', 'SUBMIT_TIME', 'SYNC_TIME', 'SERVER_SYNC_TIME',\n",
        "              'CREATED_BY', 'CDAR_USER_ID', 'START_TIME_V1', 'SUBMIT_TIME_V1', 'CREATED_BY_V1', 'CDAR_USER_ID_V1',\n",
        "              'SURVEY_DURATION_V1', 'SURVEY_ID', 'SURVEY_VERSION', 'QC_REMARK', 'QC_START_DATE', 'QC_END_DATE',\n",
        "              'QC_SYNC_DATE', 'QC_SUBMIT_BY', 'APP_VERSION', 'PLATFORM_NAME', 'PLATFORM_MODEL', 'PLATFORM_VERSION',\n",
        "              'FV_STATUS', 'FV_REMARK', 'FV_START_DATE', 'FV_END_DATE', 'FV_SYNC_DATE', 'FV_SUBMIT_BY', 'SCC_STATUS',\n",
        "              'SCC_REMARK', 'SCC_START_DATE', 'SCC_END_DATE', 'SCC_SYNC_DATE', 'SCC_SUBMIT_BY', 'FLAG1', 'FLAG2',\n",
        "              'FLAG3', 'FLAG4', 'FLAG5', 'SURVEY_MINOR_VERSION', 'Default Question Text', 'Q1. ID Auditor / CT',\n",
        "              'Q2. Nama Auditor / CT', 'Q3B. Jam Survey', 'Latitude', 'LON_1', 'Q3L_Status FLAG', 'Q3M_Area Code',\n",
        "              'Q4. Apakah informasi toko sudah benar?', 'Q4A. Apakah informasi nama toko sudah benar?', 'Q4A_1. Nama toko', \n",
        "              'Q4B. Apakah informasi alamat toko sudah benar?', 'Q4B_1. Alamat', 'Q4C. Apakah informasi type toko sudah benar?',\n",
        "              'Q4C_1. Type toko', 'Q4D. Apakah informasi untuk (Provinsi, Kota, Kel, Kec) sudah benar?', 'Q4D_1. Provinsi',\n",
        "              'Q4E_1. Kota', 'Q4F_1. Kecamatan', 'Q4G_1. Kelurahan', 'Q5A. Apakah ada papan penanda toko / spanduk terdapat Nama Toko?',\n",
        "              'Q5B. Nama toko (menanyakan ke responden / tetangga)', 'Q5C. Tidak ada nama toko informasi (NA):NA', 'Q6A',\n",
        "              'Q6. nama toko di penanda toko / toko tanda-tanda / spanduk toko', 'Q8. Lot / Los / Blokir',\n",
        "              'Q9. informasi tambahan', 'Q10. Nama Lengkap pemilik Toko', 'Q11. Nama Penjaga Toko responden (di-interview)',\n",
        "              'Q12. nomor telepon - Telkom (area nomor kode + telepon)', 'Q13. Nomor ponsel', 'Alamat', 'Q50N_1', \n",
        "              'Q50N_2', 'Q50N_3', 'Q50N_4', 'Q25', 'Q26', 'Q16_3', 'Q16_4', 'Q16_5', 'Q16_6', 'Q16_7', 'Q16_8', 'Q16_9',\n",
        "              'Q16_10', 'Q16_11', 'Q16_12', 'Kecamatan', 'Kelurahan',\n",
        "              'Q32_You have completed the survey, please check the data on summary page.']"
      ],
      "execution_count": 1895,
      "outputs": []
    },
    {
      "cell_type": "code",
      "metadata": {
        "id": "Afv_jXOro9y2"
      },
      "source": [
        "Promotion_APM = ['Q50A_Apakah toko anda mendapatkan material promosi (sticker,poster,etc) untuk brand dibawah ini::Brand Apache Merah',\n",
        "                 'Q50B_Apakah ada promosi diskon untuk Brand di bawah ini ::Brand Apache Merah',\n",
        "                 'Q50C_Apakah ada promosi Beli berapa pack gratis berapa pack contoh beli 2 gratis 1, beli 4 gratis 1 untuk Brand di bawah ini ::Brand Apache Merah',\n",
        "                 'Q50D_Apakah ada promosi hadiah penjualan : Dapatkan Poin, Dapatkan Hadiah, dll. untuk Brand di bawah ini ::Brand Apache Merah',\n",
        "                 'Q50E_Apakah ada promosi tukar cangkang/bungkus untuk Brand di bawah ini ::Brand Apache Merah',\n",
        "                 'Q50F_Apakah ada promosi bundling produk untuk Brand di bawah ini ::Brand Apache Merah']\n",
        "\n",
        "Visibility_APM = ['Q50H_Apakah ada POSM sunscreen untuk brand berikut.:Brand Apache Merah',\n",
        "                  'Q50I_Apakah ada POSM Tape Blocking Display untuk brand berikut.:Brand Apache Merah',\n",
        "                  'Q50J_Apakah ada POSM decorative pack untuk brand berikut:Brand Apache Merah',\n",
        "                  'Q50K_Apakah ada POSM sticker per pack atau perbatang untuk brand berikut:Brand Apache Merah',\n",
        "                  'Q50L_Apakah ada POSM Blocking Display (Dummy Pack ada 5 Pack kosong) untuk brand berikut:Brand Apache Merah',\n",
        "                  'Q50M_Apakah ada POSM Hanging Lighter untuk brand berikut:Brand Apache Merah']"
      ],
      "execution_count": 1896,
      "outputs": []
    },
    {
      "cell_type": "code",
      "metadata": {
        "id": "pG37vjtraVTA"
      },
      "source": [
        "MAP = pd.read_excel('gdrive/My Drive/JACOB/Datamap DCT Jacob.xlsx')"
      ],
      "execution_count": 1897,
      "outputs": []
    },
    {
      "cell_type": "markdown",
      "metadata": {
        "id": "M7SwdlGoZy_-"
      },
      "source": [
        "## Store Observation - IA (week 1)"
      ]
    },
    {
      "cell_type": "code",
      "metadata": {
        "id": "Pum8o4cUllpc"
      },
      "source": [
        "SO_IA = pd.read_excel('gdrive/My Drive/JACOB/Data Clean JTI-Jacob 2021 Week 1-IA.xlsx','Rawdata DCT')"
      ],
      "execution_count": 1898,
      "outputs": []
    },
    {
      "cell_type": "code",
      "metadata": {
        "id": "ql0wUwhhbj4u"
      },
      "source": [
        "col_name = pd.DataFrame(SO_IA.columns, columns=['Variable'])\n",
        "col_name = col_name.merge(MAP[['Variable','Label']], on='Variable')\n",
        "col_name = col_name.drop('Variable', axis=1)\n",
        "SO_IA.columns = col_name['Label']"
      ],
      "execution_count": 1899,
      "outputs": []
    },
    {
      "cell_type": "code",
      "metadata": {
        "id": "gjfch5zFPa8y"
      },
      "source": [
        "SO_IA = SO_IA.drop(drop_column, axis=1)"
      ],
      "execution_count": 1900,
      "outputs": []
    },
    {
      "cell_type": "markdown",
      "metadata": {
        "id": "VKTKAeg-dLrG"
      },
      "source": [
        "## Store Observation 1 (week 2)"
      ]
    },
    {
      "cell_type": "code",
      "metadata": {
        "id": "fzg_vJsucV9M"
      },
      "source": [
        "SO1 = pd.read_excel('gdrive/My Drive/JACOB/Data Clean Jacob 2021 Week 2 (RA1).xlsx','Rawdata DCT')"
      ],
      "execution_count": 1901,
      "outputs": []
    },
    {
      "cell_type": "code",
      "metadata": {
        "id": "EaUrjNb4dPmb"
      },
      "source": [
        "col_name = pd.DataFrame(SO1.columns, columns=['Variable'])\n",
        "col_name = col_name.merge(MAP[['Variable','Label']], on='Variable')\n",
        "col_name = col_name.drop('Variable', axis=1)\n",
        "SO1.columns = col_name['Label']"
      ],
      "execution_count": 1902,
      "outputs": []
    },
    {
      "cell_type": "code",
      "metadata": {
        "id": "Vy-SibCKR6Uw"
      },
      "source": [
        "drop_column.append('Q7. Lantai')"
      ],
      "execution_count": 1903,
      "outputs": []
    },
    {
      "cell_type": "code",
      "metadata": {
        "id": "KnLou4lyJ_wn"
      },
      "source": [
        "SO1 = SO1.drop(drop_column, axis=1)"
      ],
      "execution_count": 1904,
      "outputs": []
    },
    {
      "cell_type": "markdown",
      "metadata": {
        "id": "MFTYQhKUZy62"
      },
      "source": [
        "## Store Observation 2 (week 3)"
      ]
    },
    {
      "cell_type": "code",
      "metadata": {
        "id": "U0WYoKAKcZxc"
      },
      "source": [
        "SO2 = pd.read_excel('gdrive/My Drive/JACOB/Data Clean Jacob 2021 Week 3 (RA2).xlsx','DCT')"
      ],
      "execution_count": 1905,
      "outputs": []
    },
    {
      "cell_type": "code",
      "metadata": {
        "id": "jhph1NmMd2k6"
      },
      "source": [
        "col_name = pd.DataFrame(SO2.columns, columns=['Variable'])\n",
        "col_name = col_name.merge(MAP[['Variable','Label']], on='Variable')\n",
        "col_name = col_name.drop('Variable', axis=1)\n",
        "SO2.columns = col_name['Label']"
      ],
      "execution_count": 1906,
      "outputs": []
    },
    {
      "cell_type": "code",
      "metadata": {
        "id": "jUVfNkB0O3Cv"
      },
      "source": [
        "SO2 = SO2.drop(drop_column, axis=1)"
      ],
      "execution_count": 1907,
      "outputs": []
    },
    {
      "cell_type": "markdown",
      "metadata": {
        "id": "qq7baW02eRYA"
      },
      "source": [
        "## Store Observation 3 (week 4)"
      ]
    },
    {
      "cell_type": "code",
      "metadata": {
        "id": "TSVxwsFCceSQ"
      },
      "source": [
        "SO3 = pd.read_excel('gdrive/My Drive/JACOB/Data Clean Jacob 2021 Week 4 (RA3).xlsx','DCT')"
      ],
      "execution_count": 1908,
      "outputs": []
    },
    {
      "cell_type": "code",
      "metadata": {
        "id": "5ycyKTdleaS2"
      },
      "source": [
        "col_name = pd.DataFrame(SO3.columns, columns=['Variable'])\n",
        "col_name = col_name.merge(MAP[['Variable','Label']], on='Variable')\n",
        "col_name = col_name.drop('Variable', axis=1)\n",
        "SO3.columns = col_name['Label']"
      ],
      "execution_count": 1909,
      "outputs": []
    },
    {
      "cell_type": "code",
      "metadata": {
        "id": "eGEDUEGLSGry"
      },
      "source": [
        "SO3 = SO3.drop(drop_column, axis=1)"
      ],
      "execution_count": 1910,
      "outputs": []
    },
    {
      "cell_type": "markdown",
      "metadata": {
        "id": "JWrVMp1uTAQ3"
      },
      "source": [
        "## Store Observation 4 (week 5-6)"
      ]
    },
    {
      "cell_type": "code",
      "metadata": {
        "id": "8QIbHPywTAQ3"
      },
      "source": [
        "SO4 = pd.read_excel('gdrive/My Drive/JACOB/Data Clean Jacob 2021 Week 6 - CS Version.xlsx','DCT')"
      ],
      "execution_count": 1911,
      "outputs": []
    },
    {
      "cell_type": "code",
      "metadata": {
        "id": "LF4qf0noTAQ4"
      },
      "source": [
        "col_name = pd.DataFrame(SO4.columns, columns=['Variable'])\n",
        "col_name = col_name.merge(MAP[['Variable','Label']], on='Variable')\n",
        "col_name = col_name.drop('Variable', axis=1)\n",
        "SO4.columns = col_name['Label']"
      ],
      "execution_count": 1912,
      "outputs": []
    },
    {
      "cell_type": "code",
      "metadata": {
        "id": "TydxoNeNTAQ4"
      },
      "source": [
        "SO4 = SO4.drop(drop_column, axis=1)"
      ],
      "execution_count": 1913,
      "outputs": []
    },
    {
      "cell_type": "code",
      "metadata": {
        "colab": {
          "base_uri": "https://localhost:8080/",
          "height": 572
        },
        "id": "ZDah7rRjaHJY",
        "outputId": "d42d87ec-0a8e-425f-9ff7-01870da71a6a"
      },
      "source": [
        "SO4.head()"
      ],
      "execution_count": 1914,
      "outputs": [
        {
          "output_type": "execute_result",
          "data": {
            "text/html": [
              "<div>\n",
              "<style scoped>\n",
              "    .dataframe tbody tr th:only-of-type {\n",
              "        vertical-align: middle;\n",
              "    }\n",
              "\n",
              "    .dataframe tbody tr th {\n",
              "        vertical-align: top;\n",
              "    }\n",
              "\n",
              "    .dataframe thead th {\n",
              "        text-align: right;\n",
              "    }\n",
              "</style>\n",
              "<table border=\"1\" class=\"dataframe\">\n",
              "  <thead>\n",
              "    <tr style=\"text-align: right;\">\n",
              "      <th>Label</th>\n",
              "      <th>RESPONSE_ID</th>\n",
              "      <th>Q3A. Tanggal Survey</th>\n",
              "      <th>Q3C. Capture GPS koordinat # 1</th>\n",
              "      <th>Q3D1_ID Pelanggan</th>\n",
              "      <th>Store Code</th>\n",
              "      <th>Nama toko</th>\n",
              "      <th>Kota</th>\n",
              "      <th>Type Toko</th>\n",
              "      <th>Provinsi</th>\n",
              "      <th>Q9A. Apakah Anda seorang pemilik toko atau penjaga toko</th>\n",
              "      <th>Q9B. Apakah Anda (penjaga toko) memainkan peran dalam proses pengambilan keputusan?</th>\n",
              "      <th>Q12A. Apakah toko bersedia memberikan informasi Nomor Telephone - Telkom (kode area + nomor telephone)</th>\n",
              "      <th>Q13A. Apakah toko bersedia memberikan informasi nomor Handphone Toko?</th>\n",
              "      <th>Q14. Status toko</th>\n",
              "      <th>Q14A. alasan menolak</th>\n",
              "      <th>Q14A_1. Others disebutkan:</th>\n",
              "      <th>Q40A_Q40A. Apabila penjaga toko, sudah berapa lama PIC bekerja di toko tersebut?</th>\n",
              "      <th>Q40B. Berapakah usia pemilik toko?</th>\n",
              "      <th>Q40C_Sudah berapa lama toko beroperasi?</th>\n",
              "      <th>Q40D_Jumlah karyawan toko</th>\n",
              "      <th>Q40E_Sumber pembelian:Wholesaler/Grosir</th>\n",
              "      <th>Q40E_Sumber pembelian:Salesman</th>\n",
              "      <th>Q40E_Sumber pembelian:Other</th>\n",
              "      <th>Q40E_1_Other Mention</th>\n",
              "      <th>Q40F_Frekuensi pembelian stok rokok</th>\n",
              "      <th>Q40G_Apakah ada product SKT/rokok linting baru di minggu ini?</th>\n",
              "      <th>Q40G_1Apakah nama produk SKT/rokok linting baru itu?</th>\n",
              "      <th>Q40G_1Apakah nama produk SKT/rokok linting baru itu?</th>\n",
              "      <th>Q40H_Darimana asal pembelian produk SKT/Rokok linting baru tersebut?:Salesman</th>\n",
              "      <th>Q40H_Darimana asal pembelian produk SKT/Rokok linting baru tersebut?:Salesman</th>\n",
              "      <th>Q40H_Darimana asal pembelian produk SKT/Rokok linting baru tersebut?:Wholesaler/Grosir</th>\n",
              "      <th>Q40H_Darimana asal pembelian produk SKT/Rokok linting baru tersebut?:Wholesaler/Grosir</th>\n",
              "      <th>Q40H_Darimana asal pembelian produk SKT/Rokok linting baru tersebut?:Other</th>\n",
              "      <th>Q40H_Darimana asal pembelian produk SKT/Rokok linting baru tersebut?:Other</th>\n",
              "      <th>Q40H_1_Other Mention</th>\n",
              "      <th>Q40H_1_Other Mention</th>\n",
              "      <th>Q40I_Berapakah Harga Beli dan Harga Jual produk SKT/rokok linting baru tersebut?:Harga Beli:Produk SKT/roko linting</th>\n",
              "      <th>Q40I_Berapakah Harga Beli dan Harga Jual produk SKT/rokok linting baru tersebut?:Harga Beli:Produk SKT/roko linting</th>\n",
              "      <th>Q40I_Berapakah Harga Beli dan Harga Jual produk SKT/rokok linting baru tersebut?:Harga Jual:Produk SKT/roko linting</th>\n",
              "      <th>Q40I_Berapakah Harga Beli dan Harga Jual produk SKT/rokok linting baru tersebut?:Harga Jual:Produk SKT/roko linting</th>\n",
              "      <th>...</th>\n",
              "      <th>Q50L_Apakah ada POSM Blocking Display (Dummy Pack ada 5 Pack kosong) untuk brand berikut:Brand Nalami</th>\n",
              "      <th>Q50L_Apakah ada POSM Blocking Display (Dummy Pack ada 5 Pack kosong) untuk brand berikut:Brand Panamas</th>\n",
              "      <th>Q50L_Apakah ada POSM Blocking Display (Dummy Pack ada 5 Pack kosong) untuk brand berikut:Brand Sampoerna Kretek</th>\n",
              "      <th>Q50L_Apakah ada POSM Blocking Display (Dummy Pack ada 5 Pack kosong) untuk brand berikut:Brand Simustika</th>\n",
              "      <th>Q50L_Apakah ada POSM Blocking Display (Dummy Pack ada 5 Pack kosong) untuk brand berikut:Brand Vigor</th>\n",
              "      <th>Q50L_Apakah ada POSM Blocking Display (Dummy Pack ada 5 Pack kosong) untuk brand berikut:Brand Warung Kopi</th>\n",
              "      <th>Q50M_Apakah ada POSM Hanging Lighter untuk brand berikut:Brand 153</th>\n",
              "      <th>Q50M_Apakah ada POSM Hanging Lighter untuk brand berikut:Brand A Hijau</th>\n",
              "      <th>Q50M_Apakah ada POSM Hanging Lighter untuk brand berikut:Brand Apache Merah</th>\n",
              "      <th>Q50M_Apakah ada POSM Hanging Lighter untuk brand berikut:Brand Apache Kretek</th>\n",
              "      <th>Q50M_Apakah ada POSM Hanging Lighter untuk brand berikut:Brand Bentoel</th>\n",
              "      <th>Q50M_Apakah ada POSM Hanging Lighter untuk brand berikut:Brand Bulls</th>\n",
              "      <th>Q50M_Apakah ada POSM Hanging Lighter untuk brand berikut:Brand Dados</th>\n",
              "      <th>Q50M_Apakah ada POSM Hanging Lighter untuk brand berikut:Brand Divo</th>\n",
              "      <th>Q50M_Apakah ada POSM Hanging Lighter untuk brand berikut:Brand Djarum 76</th>\n",
              "      <th>Q50M_Apakah ada POSM Hanging Lighter untuk brand berikut:Brand Djarum Coklat</th>\n",
              "      <th>Q50M_Apakah ada POSM Hanging Lighter untuk brand berikut:Brand Djarum Istimewa</th>\n",
              "      <th>Q50M_Apakah ada POSM Hanging Lighter untuk brand berikut:Brand Dji Sam Soe Kretek</th>\n",
              "      <th>Q50M_Apakah ada POSM Hanging Lighter untuk brand berikut:Brand Grendel Utama</th>\n",
              "      <th>Q50M_Apakah ada POSM Hanging Lighter untuk brand berikut:Brand Gudang Baru</th>\n",
              "      <th>Q50M_Apakah ada POSM Hanging Lighter untuk brand berikut:Brand Gudang Garam Djaja</th>\n",
              "      <th>Q50M_Apakah ada POSM Hanging Lighter untuk brand berikut:Brand Gudang Garam Merah</th>\n",
              "      <th>Q50M_Apakah ada POSM Hanging Lighter untuk brand berikut:Brand Gudang Garam Sriwedari</th>\n",
              "      <th>Q50M_Apakah ada POSM Hanging Lighter untuk brand berikut:Brand Kedai Kopi</th>\n",
              "      <th>Q50M_Apakah ada POSM Hanging Lighter untuk brand berikut:Brand Marlboro Crafted</th>\n",
              "      <th>Q50M_Apakah ada POSM Hanging Lighter untuk brand berikut:Brand Menara</th>\n",
              "      <th>Q50M_Apakah ada POSM Hanging Lighter untuk brand berikut:Brand Minak Djinggo</th>\n",
              "      <th>Q50M_Apakah ada POSM Hanging Lighter untuk brand berikut:Brand Nalami</th>\n",
              "      <th>Q50M_Apakah ada POSM Hanging Lighter untuk brand berikut:Brand Panamas</th>\n",
              "      <th>Q50M_Apakah ada POSM Hanging Lighter untuk brand berikut:Brand Sampoerna Kretek</th>\n",
              "      <th>Q50M_Apakah ada POSM Hanging Lighter untuk brand berikut:Brand Simustika</th>\n",
              "      <th>Q50M_Apakah ada POSM Hanging Lighter untuk brand berikut:Brand Vigor</th>\n",
              "      <th>Q50M_Apakah ada POSM Hanging Lighter untuk brand berikut:Brand Warung Kopi</th>\n",
              "      <th>Q50N. Apakah diperbolehkan untuk mengambil foto POSM ?</th>\n",
              "      <th>Q24. Apakah diperbolehkan untuk mengambil foto dalam Toko?</th>\n",
              "      <th>Q28. Status survey</th>\n",
              "      <th>Q26A_ Metode AUDIT yang digunakan :</th>\n",
              "      <th>Q29. Status Audit</th>\n",
              "      <th>Q30. ID Witness</th>\n",
              "      <th>Q31_Store Comment.</th>\n",
              "    </tr>\n",
              "  </thead>\n",
              "  <tbody>\n",
              "    <tr>\n",
              "      <th>0</th>\n",
              "      <td>21116251</td>\n",
              "      <td>01/09/2021</td>\n",
              "      <td>-3.01910142;104.75635915;6.068;gps</td>\n",
              "      <td>C.093-00200000299</td>\n",
              "      <td>1610895</td>\n",
              "      <td>TOKO REZA</td>\n",
              "      <td>PALEMBANG</td>\n",
              "      <td>WARUNG SMALL</td>\n",
              "      <td>SUMATERA SELATAN</td>\n",
              "      <td>Pemilik toko</td>\n",
              "      <td>NaN</td>\n",
              "      <td>Tidak (Tidak Bersedia/Tidak diperbolehkan)</td>\n",
              "      <td>Ya (Bersedia)</td>\n",
              "      <td>Success</td>\n",
              "      <td>NaN</td>\n",
              "      <td>NaN</td>\n",
              "      <td>NaN</td>\n",
              "      <td>40.0</td>\n",
              "      <td>lebih dari 10 tahun</td>\n",
              "      <td>TA (Owner sendiri tanpa karyawan/pegawai)</td>\n",
              "      <td>True</td>\n",
              "      <td>True</td>\n",
              "      <td>False</td>\n",
              "      <td>NaN</td>\n",
              "      <td>Ketika stock sudah habis atau hampir habis</td>\n",
              "      <td>Tidak</td>\n",
              "      <td>NaN</td>\n",
              "      <td>NaN</td>\n",
              "      <td>NaN</td>\n",
              "      <td>NaN</td>\n",
              "      <td>NaN</td>\n",
              "      <td>NaN</td>\n",
              "      <td>NaN</td>\n",
              "      <td>NaN</td>\n",
              "      <td>NaN</td>\n",
              "      <td>NaN</td>\n",
              "      <td>NaN</td>\n",
              "      <td>NaN</td>\n",
              "      <td>NaN</td>\n",
              "      <td>NaN</td>\n",
              "      <td>...</td>\n",
              "      <td>NaN</td>\n",
              "      <td>Tidak Ada</td>\n",
              "      <td>NaN</td>\n",
              "      <td>NaN</td>\n",
              "      <td>Tidak Ada</td>\n",
              "      <td>NaN</td>\n",
              "      <td>NaN</td>\n",
              "      <td>Tidak Ada</td>\n",
              "      <td>Tidak Ada</td>\n",
              "      <td>Tidak Ada</td>\n",
              "      <td>NaN</td>\n",
              "      <td>NaN</td>\n",
              "      <td>Tidak Ada</td>\n",
              "      <td>NaN</td>\n",
              "      <td>NaN</td>\n",
              "      <td>NaN</td>\n",
              "      <td>Tidak Ada</td>\n",
              "      <td>Tidak Ada</td>\n",
              "      <td>NaN</td>\n",
              "      <td>Tidak Ada</td>\n",
              "      <td>NaN</td>\n",
              "      <td>Tidak Ada</td>\n",
              "      <td>NaN</td>\n",
              "      <td>NaN</td>\n",
              "      <td>NaN</td>\n",
              "      <td>NaN</td>\n",
              "      <td>NaN</td>\n",
              "      <td>NaN</td>\n",
              "      <td>Tidak Ada</td>\n",
              "      <td>NaN</td>\n",
              "      <td>NaN</td>\n",
              "      <td>Tidak Ada</td>\n",
              "      <td>NaN</td>\n",
              "      <td>Tidak</td>\n",
              "      <td>Iya</td>\n",
              "      <td>completed</td>\n",
              "      <td>BAU</td>\n",
              "      <td>General Check / Audit</td>\n",
              "      <td>NaN</td>\n",
              "      <td>Oke</td>\n",
              "    </tr>\n",
              "    <tr>\n",
              "      <th>1</th>\n",
              "      <td>21116252</td>\n",
              "      <td>01/09/2021</td>\n",
              "      <td>-3.02114081;104.75869431;6.068;gps</td>\n",
              "      <td>C.093-00200000361</td>\n",
              "      <td>1610897</td>\n",
              "      <td>TOKO SONYA</td>\n",
              "      <td>PALEMBANG</td>\n",
              "      <td>WARUNG MEDIUM</td>\n",
              "      <td>SUMATERA SELATAN</td>\n",
              "      <td>Pemilik toko</td>\n",
              "      <td>NaN</td>\n",
              "      <td>Tidak (Tidak Bersedia/Tidak diperbolehkan)</td>\n",
              "      <td>Ya (Bersedia)</td>\n",
              "      <td>Success</td>\n",
              "      <td>NaN</td>\n",
              "      <td>NaN</td>\n",
              "      <td>NaN</td>\n",
              "      <td>45.0</td>\n",
              "      <td>lebih dari 10 tahun</td>\n",
              "      <td>1 orang</td>\n",
              "      <td>True</td>\n",
              "      <td>True</td>\n",
              "      <td>False</td>\n",
              "      <td>NaN</td>\n",
              "      <td>Ketika stock sudah habis atau hampir habis</td>\n",
              "      <td>Tidak</td>\n",
              "      <td>NaN</td>\n",
              "      <td>NaN</td>\n",
              "      <td>NaN</td>\n",
              "      <td>NaN</td>\n",
              "      <td>NaN</td>\n",
              "      <td>NaN</td>\n",
              "      <td>NaN</td>\n",
              "      <td>NaN</td>\n",
              "      <td>NaN</td>\n",
              "      <td>NaN</td>\n",
              "      <td>NaN</td>\n",
              "      <td>NaN</td>\n",
              "      <td>NaN</td>\n",
              "      <td>NaN</td>\n",
              "      <td>...</td>\n",
              "      <td>NaN</td>\n",
              "      <td>Tidak Ada</td>\n",
              "      <td>NaN</td>\n",
              "      <td>NaN</td>\n",
              "      <td>Tidak Ada</td>\n",
              "      <td>NaN</td>\n",
              "      <td>NaN</td>\n",
              "      <td>Tidak Ada</td>\n",
              "      <td>Tidak Ada</td>\n",
              "      <td>Tidak Ada</td>\n",
              "      <td>NaN</td>\n",
              "      <td>NaN</td>\n",
              "      <td>Tidak Ada</td>\n",
              "      <td>NaN</td>\n",
              "      <td>NaN</td>\n",
              "      <td>NaN</td>\n",
              "      <td>Tidak Ada</td>\n",
              "      <td>Tidak Ada</td>\n",
              "      <td>NaN</td>\n",
              "      <td>Tidak Ada</td>\n",
              "      <td>NaN</td>\n",
              "      <td>Tidak Ada</td>\n",
              "      <td>NaN</td>\n",
              "      <td>NaN</td>\n",
              "      <td>NaN</td>\n",
              "      <td>NaN</td>\n",
              "      <td>NaN</td>\n",
              "      <td>NaN</td>\n",
              "      <td>Tidak Ada</td>\n",
              "      <td>NaN</td>\n",
              "      <td>NaN</td>\n",
              "      <td>Tidak Ada</td>\n",
              "      <td>NaN</td>\n",
              "      <td>Tidak</td>\n",
              "      <td>Iya</td>\n",
              "      <td>completed</td>\n",
              "      <td>BAU</td>\n",
              "      <td>General Check / Audit</td>\n",
              "      <td>NaN</td>\n",
              "      <td>Oke</td>\n",
              "    </tr>\n",
              "    <tr>\n",
              "      <th>2</th>\n",
              "      <td>21116253</td>\n",
              "      <td>01/09/2021</td>\n",
              "      <td>-3.01620215;104.7593171;4.551;gps</td>\n",
              "      <td>C.093-00200000368</td>\n",
              "      <td>1610898</td>\n",
              "      <td>TOKO ALI CELL</td>\n",
              "      <td>PALEMBANG</td>\n",
              "      <td>WARUNG MEDIUM</td>\n",
              "      <td>SUMATERA SELATAN</td>\n",
              "      <td>Pemilik toko</td>\n",
              "      <td>NaN</td>\n",
              "      <td>Tidak (Tidak Bersedia/Tidak diperbolehkan)</td>\n",
              "      <td>Ya (Bersedia)</td>\n",
              "      <td>Success</td>\n",
              "      <td>NaN</td>\n",
              "      <td>NaN</td>\n",
              "      <td>NaN</td>\n",
              "      <td>45.0</td>\n",
              "      <td>lebih dari 10 tahun</td>\n",
              "      <td>1 orang</td>\n",
              "      <td>True</td>\n",
              "      <td>True</td>\n",
              "      <td>False</td>\n",
              "      <td>NaN</td>\n",
              "      <td>Ketika stock sudah habis atau hampir habis</td>\n",
              "      <td>Tidak</td>\n",
              "      <td>NaN</td>\n",
              "      <td>NaN</td>\n",
              "      <td>NaN</td>\n",
              "      <td>NaN</td>\n",
              "      <td>NaN</td>\n",
              "      <td>NaN</td>\n",
              "      <td>NaN</td>\n",
              "      <td>NaN</td>\n",
              "      <td>NaN</td>\n",
              "      <td>NaN</td>\n",
              "      <td>NaN</td>\n",
              "      <td>NaN</td>\n",
              "      <td>NaN</td>\n",
              "      <td>NaN</td>\n",
              "      <td>...</td>\n",
              "      <td>NaN</td>\n",
              "      <td>Tidak Ada</td>\n",
              "      <td>NaN</td>\n",
              "      <td>NaN</td>\n",
              "      <td>Tidak Ada</td>\n",
              "      <td>NaN</td>\n",
              "      <td>NaN</td>\n",
              "      <td>Tidak Ada</td>\n",
              "      <td>Tidak Ada</td>\n",
              "      <td>Tidak Ada</td>\n",
              "      <td>NaN</td>\n",
              "      <td>NaN</td>\n",
              "      <td>Tidak Ada</td>\n",
              "      <td>NaN</td>\n",
              "      <td>NaN</td>\n",
              "      <td>NaN</td>\n",
              "      <td>Tidak Ada</td>\n",
              "      <td>Tidak Ada</td>\n",
              "      <td>NaN</td>\n",
              "      <td>Tidak Ada</td>\n",
              "      <td>NaN</td>\n",
              "      <td>Tidak Ada</td>\n",
              "      <td>NaN</td>\n",
              "      <td>NaN</td>\n",
              "      <td>NaN</td>\n",
              "      <td>NaN</td>\n",
              "      <td>NaN</td>\n",
              "      <td>NaN</td>\n",
              "      <td>Tidak Ada</td>\n",
              "      <td>NaN</td>\n",
              "      <td>NaN</td>\n",
              "      <td>Tidak Ada</td>\n",
              "      <td>NaN</td>\n",
              "      <td>Tidak</td>\n",
              "      <td>Iya</td>\n",
              "      <td>completed</td>\n",
              "      <td>BAU</td>\n",
              "      <td>General Check / Audit</td>\n",
              "      <td>NaN</td>\n",
              "      <td>Oke</td>\n",
              "    </tr>\n",
              "    <tr>\n",
              "      <th>3</th>\n",
              "      <td>21116254</td>\n",
              "      <td>01/09/2021</td>\n",
              "      <td>-3.0214886;104.7593562;13.653;gps</td>\n",
              "      <td>C.093-00200000426</td>\n",
              "      <td>1610901</td>\n",
              "      <td>TOKO HALIMAH</td>\n",
              "      <td>PALEMBANG</td>\n",
              "      <td>WARUNG SMALL</td>\n",
              "      <td>SUMATERA SELATAN</td>\n",
              "      <td>Pemilik toko</td>\n",
              "      <td>NaN</td>\n",
              "      <td>Tidak (Tidak Bersedia/Tidak diperbolehkan)</td>\n",
              "      <td>Ya (Bersedia)</td>\n",
              "      <td>Success</td>\n",
              "      <td>NaN</td>\n",
              "      <td>NaN</td>\n",
              "      <td>NaN</td>\n",
              "      <td>50.0</td>\n",
              "      <td>lebih dari 10 tahun</td>\n",
              "      <td>TA (Owner sendiri tanpa karyawan/pegawai)</td>\n",
              "      <td>True</td>\n",
              "      <td>True</td>\n",
              "      <td>False</td>\n",
              "      <td>NaN</td>\n",
              "      <td>Ketika stock sudah habis atau hampir habis</td>\n",
              "      <td>Tidak</td>\n",
              "      <td>NaN</td>\n",
              "      <td>NaN</td>\n",
              "      <td>NaN</td>\n",
              "      <td>NaN</td>\n",
              "      <td>NaN</td>\n",
              "      <td>NaN</td>\n",
              "      <td>NaN</td>\n",
              "      <td>NaN</td>\n",
              "      <td>NaN</td>\n",
              "      <td>NaN</td>\n",
              "      <td>NaN</td>\n",
              "      <td>NaN</td>\n",
              "      <td>NaN</td>\n",
              "      <td>NaN</td>\n",
              "      <td>...</td>\n",
              "      <td>NaN</td>\n",
              "      <td>Tidak Ada</td>\n",
              "      <td>NaN</td>\n",
              "      <td>NaN</td>\n",
              "      <td>Tidak Ada</td>\n",
              "      <td>NaN</td>\n",
              "      <td>NaN</td>\n",
              "      <td>Tidak Ada</td>\n",
              "      <td>Tidak Ada</td>\n",
              "      <td>Tidak Ada</td>\n",
              "      <td>NaN</td>\n",
              "      <td>NaN</td>\n",
              "      <td>Tidak Ada</td>\n",
              "      <td>NaN</td>\n",
              "      <td>NaN</td>\n",
              "      <td>NaN</td>\n",
              "      <td>Tidak Ada</td>\n",
              "      <td>Tidak Ada</td>\n",
              "      <td>NaN</td>\n",
              "      <td>Tidak Ada</td>\n",
              "      <td>NaN</td>\n",
              "      <td>Tidak Ada</td>\n",
              "      <td>NaN</td>\n",
              "      <td>NaN</td>\n",
              "      <td>NaN</td>\n",
              "      <td>NaN</td>\n",
              "      <td>NaN</td>\n",
              "      <td>NaN</td>\n",
              "      <td>Tidak Ada</td>\n",
              "      <td>NaN</td>\n",
              "      <td>NaN</td>\n",
              "      <td>Tidak Ada</td>\n",
              "      <td>NaN</td>\n",
              "      <td>Tidak</td>\n",
              "      <td>Iya</td>\n",
              "      <td>completed</td>\n",
              "      <td>BAU</td>\n",
              "      <td>General Check / Audit</td>\n",
              "      <td>NaN</td>\n",
              "      <td>Oke</td>\n",
              "    </tr>\n",
              "    <tr>\n",
              "      <th>4</th>\n",
              "      <td>21116255</td>\n",
              "      <td>04/09/2021</td>\n",
              "      <td>-2.89794319;104.77639538;6.068;gps</td>\n",
              "      <td>C.093-00200000509</td>\n",
              "      <td>1610902</td>\n",
              "      <td>TOKO RADJA</td>\n",
              "      <td>BANYU ASIN</td>\n",
              "      <td>WARUNG MEDIUM</td>\n",
              "      <td>SUMATERA SELATAN</td>\n",
              "      <td>Pemilik toko</td>\n",
              "      <td>NaN</td>\n",
              "      <td>Tidak (Tidak Bersedia/Tidak diperbolehkan)</td>\n",
              "      <td>Ya (Bersedia)</td>\n",
              "      <td>Success</td>\n",
              "      <td>NaN</td>\n",
              "      <td>NaN</td>\n",
              "      <td>NaN</td>\n",
              "      <td>40.0</td>\n",
              "      <td>7-9 tahun</td>\n",
              "      <td>TA (Owner sendiri tanpa karyawan/pegawai)</td>\n",
              "      <td>True</td>\n",
              "      <td>False</td>\n",
              "      <td>False</td>\n",
              "      <td>NaN</td>\n",
              "      <td>tidak ada jadwal pasti</td>\n",
              "      <td>Tidak</td>\n",
              "      <td>NaN</td>\n",
              "      <td>NaN</td>\n",
              "      <td>NaN</td>\n",
              "      <td>NaN</td>\n",
              "      <td>NaN</td>\n",
              "      <td>NaN</td>\n",
              "      <td>NaN</td>\n",
              "      <td>NaN</td>\n",
              "      <td>NaN</td>\n",
              "      <td>NaN</td>\n",
              "      <td>NaN</td>\n",
              "      <td>NaN</td>\n",
              "      <td>NaN</td>\n",
              "      <td>NaN</td>\n",
              "      <td>...</td>\n",
              "      <td>NaN</td>\n",
              "      <td>Tidak Ada</td>\n",
              "      <td>NaN</td>\n",
              "      <td>NaN</td>\n",
              "      <td>Tidak Ada</td>\n",
              "      <td>NaN</td>\n",
              "      <td>NaN</td>\n",
              "      <td>Tidak Ada</td>\n",
              "      <td>Tidak Ada</td>\n",
              "      <td>Tidak Ada</td>\n",
              "      <td>NaN</td>\n",
              "      <td>NaN</td>\n",
              "      <td>Tidak Ada</td>\n",
              "      <td>NaN</td>\n",
              "      <td>NaN</td>\n",
              "      <td>NaN</td>\n",
              "      <td>Tidak Ada</td>\n",
              "      <td>Tidak Ada</td>\n",
              "      <td>NaN</td>\n",
              "      <td>Tidak Ada</td>\n",
              "      <td>NaN</td>\n",
              "      <td>Tidak Ada</td>\n",
              "      <td>NaN</td>\n",
              "      <td>NaN</td>\n",
              "      <td>NaN</td>\n",
              "      <td>NaN</td>\n",
              "      <td>NaN</td>\n",
              "      <td>NaN</td>\n",
              "      <td>Tidak Ada</td>\n",
              "      <td>NaN</td>\n",
              "      <td>NaN</td>\n",
              "      <td>Tidak Ada</td>\n",
              "      <td>NaN</td>\n",
              "      <td>Tidak</td>\n",
              "      <td>Iya</td>\n",
              "      <td>completed</td>\n",
              "      <td>BAU</td>\n",
              "      <td>General Check / Audit</td>\n",
              "      <td>NaN</td>\n",
              "      <td>Ok</td>\n",
              "    </tr>\n",
              "  </tbody>\n",
              "</table>\n",
              "<p>5 rows × 415 columns</p>\n",
              "</div>"
            ],
            "text/plain": [
              "Label  RESPONSE_ID Q3A. Tanggal Survey  ... Q30. ID Witness Q31_Store Comment.\n",
              "0         21116251          01/09/2021  ...             NaN                Oke\n",
              "1         21116252          01/09/2021  ...             NaN                Oke\n",
              "2         21116253          01/09/2021  ...             NaN                Oke\n",
              "3         21116254          01/09/2021  ...             NaN                Oke\n",
              "4         21116255          04/09/2021  ...             NaN                 Ok\n",
              "\n",
              "[5 rows x 415 columns]"
            ]
          },
          "metadata": {},
          "execution_count": 1914
        }
      ]
    },
    {
      "cell_type": "markdown",
      "metadata": {
        "id": "jGzUfvVCfPxX"
      },
      "source": [
        "###Membuat mapping area, mapping item, dan mapping toko"
      ]
    },
    {
      "cell_type": "code",
      "metadata": {
        "id": "YUKzgel4aLTg"
      },
      "source": [
        "my_dict = {'Provinsi': ['LAMPUNG','SUMATERA SELATAN','JAWA BARAT','JAWA TIMUR','NUSA TENGGARA TIMUR','JAWA TENGAH'],\n",
        "        'Area': ['LAMPUNG','PALEMBANG','KARAWANG','MADIUN','KUPANG','PURWOKERTO']}\n",
        "area_mapping = pd.DataFrame(my_dict)"
      ],
      "execution_count": 1915,
      "outputs": []
    },
    {
      "cell_type": "code",
      "metadata": {
        "id": "P6EwdT_HcZB4"
      },
      "source": [
        "my_dict2 = {'Product Description': ['153 Satu Lima Tiga Lista Kumala Soft Plain 12 Stc (Sktb)','Apache Brown Box Plain 12 Stc (Sktb)',\n",
        "                                    'Apache Brown Box Plain 20 Stc (Sktb)','Apache Brown Soft Plain 12 Stc (Sktb)',\n",
        "                                    'Apache Merah Box Plain 12 Stc (Sktb)','Bentoel SJT Box Plain 12 Stc (Sktnb)',\n",
        "                                    'Bulls Box Plain 12 Stc (Sktb)','Dados Brown Soft Plain 12 Stc (Sktb)',\n",
        "                                    'Divo Box Plain 12 Stc (Sktb)','Djarum 76 Brown Box Plain 12 Stc (Sktb)',\n",
        "                                    'Djarum Coklat Soft Plain 12 Stc (Sktb)','Djarum Istimewa Soft Coklat Plain 12 Stc (Sktb)',\n",
        "                                    'Dji Sam Soe Edisi Khusus Soft Plain 12 Stc (Sktb)','Dji Sam Soe Soft Plain 12 Stc (Sktb)',\n",
        "                                    'Grendel Utama Yellow Box Plain 12 Stc (Sktb)','Gudang Baru King Size Box Plain 12 Stc (Sktb)',\n",
        "                                    'Gudang Baru King Size Soft Plain 12 Stc (Sktb)','Gudang Garam Djaja Box Kspl 12 Stc (Sktb)',\n",
        "                                    'Gudang Garam Djaja Soft Kspl 12 Stc (Sktb)','Gudang Garam Red Box Kspl 12 Stc (Sktb)',\n",
        "                                    'Gudang Garam Red Soft Kspl 12 Stc (Sktb)','Gudang Garam Taman Sriwedari Soft Kspl 12 Stc (Sktb)',\n",
        "                                    'Gudang Garam Taman Sriwedari Soft Plain 12 Stc (Sktb)','Kedai Kopi Yellow Soft Plain 12 Stc (Sktb)',\n",
        "                                    'Marlboro Box Filter 12 Stc (Skmb)','Menara Special Kuning Box Plain 12 Stc (Sktb)',\n",
        "                                    'Minak Djinggo Kuning Soft Plain 10 Stc (Sktb)','Nalami Na Classic Brown Soft Plain 12 Stc (Sktb)',\n",
        "                                    'Panamas 1 Soft Plain 12 Stc (Sktb)','Sampoerna \\'A\\' Hijau Box Plain 12 Stc (Sktb)',\n",
        "                                    'Sampoerna \\'A\\' Hijau Edisi Khusus Box Plain 10+2 Stc (Sktb)','Sampoerna Kretek 234 Box Plain 12 Stc (Sktb)',\n",
        "                                    'Simustika 269 Gold Brown Box Plain 12 Stc (Sktb)','Vigor Red Box Filter 12 Stc (Sktb)',\n",
        "                                    'Warung Kopi Box Plain 12 Stc (Sktb)','Djarum Coklat Extra Box Plain 12 Stc (Sktb)'],\n",
        "             'Item': ['153 12','APK 12','APK 20','APK 12','APM 12','BENTOEL SJT 12','BULLS 12','DADOS 12',\n",
        "                      'DIVO 12','DJARUM 76 12','DJARUM COKLAT 12','DJARUM ISTIMEWA 12','DSS 12','DSS 12',\n",
        "                      'GRENDEL 12','GUDANG BARU 12','GUDANG BARU 12','DJAJA 12','DJAJA 12','GG MERAH 12',\n",
        "                      'GG MERAH 12','SRIWEDARI 12','SRIWEDARI 12','KEDAI KOPI 12','MARLBORO 12','MENARA 12',\n",
        "                      'MINAK DJINGGO 10','NALAMI 12','PANAMAS 12','A HIJAU 12','A HIJAU 12','SAMPOERNA KRETEK 12',\n",
        "                      'SIMUSTIKA 12','VIGOR 12','WARUNG KOPI 12','DJARUM COKLAT 12']}\n",
        "item_mapping = pd.DataFrame(my_dict2)"
      ],
      "execution_count": 1916,
      "outputs": []
    },
    {
      "cell_type": "code",
      "metadata": {
        "id": "ywOdyx5wPSWM",
        "colab": {
          "base_uri": "https://localhost:8080/"
        },
        "outputId": "47865de3-a525-489c-c867-a3b950f2f37e"
      },
      "source": [
        "mapping_toko = SO_IA[['Store Code','Type Toko','Provinsi']]\n",
        "mapping_toko.shape"
      ],
      "execution_count": 1917,
      "outputs": [
        {
          "output_type": "execute_result",
          "data": {
            "text/plain": [
              "(347, 3)"
            ]
          },
          "metadata": {},
          "execution_count": 1917
        }
      ]
    },
    {
      "cell_type": "code",
      "metadata": {
        "id": "VVxu3322S1C3",
        "colab": {
          "base_uri": "https://localhost:8080/"
        },
        "outputId": "f338d24b-32c5-4f99-8116-82b7a9fc0812"
      },
      "source": [
        "mapping_toko = mapping_toko.append(SO1[['Store Code','Type Toko','Provinsi']])\n",
        "mapping_toko.shape"
      ],
      "execution_count": 1918,
      "outputs": [
        {
          "output_type": "execute_result",
          "data": {
            "text/plain": [
              "(707, 3)"
            ]
          },
          "metadata": {},
          "execution_count": 1918
        }
      ]
    },
    {
      "cell_type": "code",
      "metadata": {
        "id": "WAyGy8b2XbSI",
        "colab": {
          "base_uri": "https://localhost:8080/"
        },
        "outputId": "ab13c2f0-4c92-4276-962d-540a06b146a8"
      },
      "source": [
        "mapping_toko = mapping_toko.append(SO2[['Store Code','Type Toko','Provinsi']])\n",
        "mapping_toko.shape"
      ],
      "execution_count": 1919,
      "outputs": [
        {
          "output_type": "execute_result",
          "data": {
            "text/plain": [
              "(1060, 3)"
            ]
          },
          "metadata": {},
          "execution_count": 1919
        }
      ]
    },
    {
      "cell_type": "code",
      "metadata": {
        "colab": {
          "base_uri": "https://localhost:8080/"
        },
        "id": "nZUNkHodfsbq",
        "outputId": "69b35bb8-e4ab-4ea0-d475-7a3da02ec4f0"
      },
      "source": [
        "mapping_toko = mapping_toko.append(SO3[['Store Code','Type Toko','Provinsi']])\n",
        "mapping_toko.shape"
      ],
      "execution_count": 1920,
      "outputs": [
        {
          "output_type": "execute_result",
          "data": {
            "text/plain": [
              "(1484, 3)"
            ]
          },
          "metadata": {},
          "execution_count": 1920
        }
      ]
    },
    {
      "cell_type": "code",
      "metadata": {
        "colab": {
          "base_uri": "https://localhost:8080/"
        },
        "id": "UZaL7AKpgkOR",
        "outputId": "d62b6813-f86b-4db6-eeb5-4fc892209165"
      },
      "source": [
        "mapping_toko = mapping_toko.append(SO4[['Store Code','Type Toko','Provinsi']])\n",
        "mapping_toko.shape"
      ],
      "execution_count": 1921,
      "outputs": [
        {
          "output_type": "execute_result",
          "data": {
            "text/plain": [
              "(1988, 3)"
            ]
          },
          "metadata": {},
          "execution_count": 1921
        }
      ]
    },
    {
      "cell_type": "code",
      "metadata": {
        "id": "P8CqTK_ZbyYK"
      },
      "source": [
        "mapping_toko = pd.merge(mapping_toko, \n",
        "                     area_mapping, \n",
        "                     on ='Provinsi', \n",
        "                     how ='left')"
      ],
      "execution_count": 1922,
      "outputs": []
    },
    {
      "cell_type": "code",
      "metadata": {
        "id": "XBhuHqenfmfB"
      },
      "source": [
        "mapping_toko = mapping_toko.drop_duplicates(ignore_index=True)\n",
        "mapping_toko.drop('Provinsi', axis=1, inplace=True)"
      ],
      "execution_count": 1923,
      "outputs": []
    },
    {
      "cell_type": "code",
      "metadata": {
        "id": "TpdtcGYw6H82"
      },
      "source": [
        "mapping_toko = mapping_toko.rename(columns = {'Store Code': 'SMS Id'})"
      ],
      "execution_count": 1924,
      "outputs": []
    },
    {
      "cell_type": "markdown",
      "metadata": {
        "id": "erhwr8bNPSAC"
      },
      "source": [
        "### Merge Store Observation"
      ]
    },
    {
      "cell_type": "code",
      "metadata": {
        "id": "qVqANKD9BXiA"
      },
      "source": [
        "# MAPPING AREA, TYPE TOKO, \n",
        "# MAPPING PRODUCT DESC -> BRAND\n",
        "# "
      ],
      "execution_count": 1925,
      "outputs": []
    },
    {
      "cell_type": "markdown",
      "metadata": {
        "id": "a541SGSnhQ2U"
      },
      "source": [
        "#Retail Audit"
      ]
    },
    {
      "cell_type": "markdown",
      "metadata": {
        "id": "rLfvIMO8XWeD"
      },
      "source": [
        "## Initial Audit (week 1)"
      ]
    },
    {
      "cell_type": "code",
      "metadata": {
        "id": "Dy_JKxNmLWIN"
      },
      "source": [
        "# ambil data dari GDrive\n",
        "IA = pd.read_excel('gdrive/My Drive/JACOB/Data Clean JTI-Jacob 2021 Week 1-IA.xlsx','Data Clean LHHT')\n",
        "# ganti data yang memiliki nilai N/A dengan 0\n",
        "IA = IA.fillna(0)"
      ],
      "execution_count": 1926,
      "outputs": []
    },
    {
      "cell_type": "code",
      "metadata": {
        "id": "nrA5F8ks2wB1"
      },
      "source": [
        "# hitung total stol\n",
        "IA['Stock'] = IA['Shop/Front Stock']+IA['Other Stock']\n",
        "#buat kolom unique name utk mapping (concatenate) dengan menggabungkan store code dengan product description\n",
        "IA.insert(0, 'Concatenate', IA['SMS Id'].astype('str')+IA['Product Description'])"
      ],
      "execution_count": 1927,
      "outputs": []
    },
    {
      "cell_type": "code",
      "metadata": {
        "id": "_qZl9czspolj"
      },
      "source": [
        "# menghapus kolom2 yang tidak dibutuhkan\n",
        "IA = IA.drop(['Country Id', 'Country Name', 'Auditor Id', 'Resource Name','Instruction Id', \n",
        "            'Category Id', 'Category Name', 'Module Name','Entity Id','Original Fact Value',\n",
        "            'Cluster Id','alternate audit methodology','Shop/Front Stock','Other Stock',\n",
        "            'Audit Status','Sales'], axis=1)\n",
        "# mengganti nama kolom agar sesuai dengan yg diinginkan\n",
        "IA.columns = IA.columns.str.replace('Number Of Observation by Type of Observation','RBP')"
      ],
      "execution_count": 1928,
      "outputs": []
    },
    {
      "cell_type": "code",
      "metadata": {
        "colab": {
          "base_uri": "https://localhost:8080/",
          "height": 200
        },
        "id": "dcm8pVVBYlrf",
        "outputId": "2296a13d-e1a4-44b0-efb1-8fbf12e4d020"
      },
      "source": [
        "# melihat sekilas data Initial Audit yang sudah dirapihkan\n",
        "IA.head()"
      ],
      "execution_count": 1929,
      "outputs": [
        {
          "output_type": "execute_result",
          "data": {
            "text/html": [
              "<div>\n",
              "<style scoped>\n",
              "    .dataframe tbody tr th:only-of-type {\n",
              "        vertical-align: middle;\n",
              "    }\n",
              "\n",
              "    .dataframe tbody tr th {\n",
              "        vertical-align: top;\n",
              "    }\n",
              "\n",
              "    .dataframe thead th {\n",
              "        text-align: right;\n",
              "    }\n",
              "</style>\n",
              "<table border=\"1\" class=\"dataframe\">\n",
              "  <thead>\n",
              "    <tr style=\"text-align: right;\">\n",
              "      <th></th>\n",
              "      <th>Concatenate</th>\n",
              "      <th>SMS Id</th>\n",
              "      <th>Bar Code</th>\n",
              "      <th>Product Description</th>\n",
              "      <th>Visit Date</th>\n",
              "      <th>RBP</th>\n",
              "      <th>RSP/Price</th>\n",
              "      <th>Stock</th>\n",
              "    </tr>\n",
              "  </thead>\n",
              "  <tbody>\n",
              "    <tr>\n",
              "      <th>0</th>\n",
              "      <td>1609899Djarum Istimewa Soft Coklat Plain 12 St...</td>\n",
              "      <td>1609899</td>\n",
              "      <td>8991906101651</td>\n",
              "      <td>Djarum Istimewa Soft Coklat Plain 12 Stc (Sktb)</td>\n",
              "      <td>2021-07-26</td>\n",
              "      <td>11500</td>\n",
              "      <td>13000</td>\n",
              "      <td>10.0</td>\n",
              "    </tr>\n",
              "    <tr>\n",
              "      <th>1</th>\n",
              "      <td>1609986Gudang Garam Red Soft Kspl 12 Stc (Sktb)</td>\n",
              "      <td>1609986</td>\n",
              "      <td>8998989501125</td>\n",
              "      <td>Gudang Garam Red Soft Kspl 12 Stc (Sktb)</td>\n",
              "      <td>2021-07-26</td>\n",
              "      <td>12500</td>\n",
              "      <td>13000</td>\n",
              "      <td>20.0</td>\n",
              "    </tr>\n",
              "    <tr>\n",
              "      <th>2</th>\n",
              "      <td>1610014Dji Sam Soe Soft Plain 12 Stc (Sktb)</td>\n",
              "      <td>1610014</td>\n",
              "      <td>8999909028234</td>\n",
              "      <td>Dji Sam Soe Soft Plain 12 Stc (Sktb)</td>\n",
              "      <td>2021-07-26</td>\n",
              "      <td>16500</td>\n",
              "      <td>18000</td>\n",
              "      <td>4.0</td>\n",
              "    </tr>\n",
              "    <tr>\n",
              "      <th>3</th>\n",
              "      <td>1610908Dji Sam Soe Soft Plain 12 Stc (Sktb)</td>\n",
              "      <td>1610908</td>\n",
              "      <td>8999909028234</td>\n",
              "      <td>Dji Sam Soe Soft Plain 12 Stc (Sktb)</td>\n",
              "      <td>2021-07-26</td>\n",
              "      <td>16500</td>\n",
              "      <td>18000</td>\n",
              "      <td>5.0</td>\n",
              "    </tr>\n",
              "    <tr>\n",
              "      <th>4</th>\n",
              "      <td>1610908Panamas 1 Soft Plain 12 Stc (Sktb)</td>\n",
              "      <td>1610908</td>\n",
              "      <td>8999909039124</td>\n",
              "      <td>Panamas 1 Soft Plain 12 Stc (Sktb)</td>\n",
              "      <td>2021-07-26</td>\n",
              "      <td>12500</td>\n",
              "      <td>14000</td>\n",
              "      <td>10.0</td>\n",
              "    </tr>\n",
              "  </tbody>\n",
              "</table>\n",
              "</div>"
            ],
            "text/plain": [
              "                                         Concatenate   SMS Id  ...  RSP/Price Stock\n",
              "0  1609899Djarum Istimewa Soft Coklat Plain 12 St...  1609899  ...      13000  10.0\n",
              "1    1609986Gudang Garam Red Soft Kspl 12 Stc (Sktb)  1609986  ...      13000  20.0\n",
              "2        1610014Dji Sam Soe Soft Plain 12 Stc (Sktb)  1610014  ...      18000   4.0\n",
              "3        1610908Dji Sam Soe Soft Plain 12 Stc (Sktb)  1610908  ...      18000   5.0\n",
              "4          1610908Panamas 1 Soft Plain 12 Stc (Sktb)  1610908  ...      14000  10.0\n",
              "\n",
              "[5 rows x 8 columns]"
            ]
          },
          "metadata": {},
          "execution_count": 1929
        }
      ]
    },
    {
      "cell_type": "code",
      "metadata": {
        "id": "k069RySQmzvd",
        "colab": {
          "base_uri": "https://localhost:8080/"
        },
        "outputId": "59c99998-9d4d-4380-d211-79a10b3711b2"
      },
      "source": [
        "# membuat format untuk di merge dengan table lainnya\n",
        "m_IA = IA.copy()\n",
        "# mengganti nama kolom agar sesuai dengan yg diinginkan\n",
        "m_IA.columns = m_IA.columns.str.replace('Visit Date', 'IA').str.replace('RBP', 'RBP_IA').str.replace('RSP/Price','RSP_IA').str.replace('Stock','Stock_IA')\n",
        "m_IA.columns"
      ],
      "execution_count": 1930,
      "outputs": [
        {
          "output_type": "execute_result",
          "data": {
            "text/plain": [
              "Index(['Concatenate', 'SMS Id', 'Bar Code', 'Product Description', 'IA',\n",
              "       'RBP_IA', 'RSP_IA', 'Stock_IA'],\n",
              "      dtype='object')"
            ]
          },
          "metadata": {},
          "execution_count": 1930
        }
      ]
    },
    {
      "cell_type": "markdown",
      "metadata": {
        "id": "hE1gqrh79FRZ"
      },
      "source": [
        "## Retail Audit 1 (week 2)"
      ]
    },
    {
      "cell_type": "code",
      "metadata": {
        "id": "dRZ5SBXncRlE"
      },
      "source": [
        "RA1 = pd.read_excel('gdrive/My Drive/JACOB/Data Clean Jacob 2021 Week 2 (RA1).xlsx','Data Clean')\n",
        "RA1 = RA1.fillna(0)"
      ],
      "execution_count": 1931,
      "outputs": []
    },
    {
      "cell_type": "code",
      "metadata": {
        "id": "KDm9xrpyXPrf"
      },
      "source": [
        "RA1['Visit Date'] = RA1['Visit Date'].str.replace('Agu','Aug')\n",
        "RA1['Visit Date'] = pd.to_datetime(RA1['Visit Date'])"
      ],
      "execution_count": 1932,
      "outputs": []
    },
    {
      "cell_type": "code",
      "metadata": {
        "id": "S30wCW6-5Iup"
      },
      "source": [
        "RA1['Stock'] = RA1['Shop/Front Stock']+RA1['Other Stock']\n",
        "RA1['Purchase'] = RA1['Direct Purchase(Pur1)']+RA1['Missing invoice(Pur3)']+RA1['Missing Stock']-RA1['Double Count']-RA1['Goods Returned']\n",
        "RA1.insert(0, 'Concatenate', RA1['SMS Id'].astype('str')+RA1['Product Description'])"
      ],
      "execution_count": 1933,
      "outputs": []
    },
    {
      "cell_type": "code",
      "metadata": {
        "id": "4vg2RyXmqbmL"
      },
      "source": [
        "RA1 = RA1.drop(['Country Id', 'Country Name', 'Auditor Id', 'Resource Name','Instruction Id', \n",
        "            'Category Id', 'Category Name', 'Module Name','Entity Id','Original Fact Value',\n",
        "            'Cluster Id','alternate audit methodology','Shop/Front Stock','Other Stock',\n",
        "            'Direct Purchase(Pur1)','Double Count', 'Goods Returned', 'Missing invoice(Pur3)',\n",
        "            'Missing Stock','Audit Status'], axis=1)\n",
        "RA1.columns = RA1.columns.str.replace('Number Of Observation by Type of Observation','RBP')"
      ],
      "execution_count": 1934,
      "outputs": []
    },
    {
      "cell_type": "code",
      "metadata": {
        "id": "EobcBeDEWb9t",
        "colab": {
          "base_uri": "https://localhost:8080/",
          "height": 0
        },
        "outputId": "694a10a7-4cbc-4c92-e99d-33a3f16f6aba"
      },
      "source": [
        "'''new_IA = IA[['SMS Id','Visit Date']].drop_duplicates()\n",
        "new_IA.columns = new_IA.columns.str.replace('Visit Date', 'Prev_Visit Date')\n",
        "new2_IA = IA[['Concatenate','Stock']]\n",
        "new2_IA.columns = new2_IA.columns.str.replace('Stock', 'Prev_Stock')'''"
      ],
      "execution_count": 1935,
      "outputs": [
        {
          "output_type": "execute_result",
          "data": {
            "application/vnd.google.colaboratory.intrinsic+json": {
              "type": "string"
            },
            "text/plain": [
              "\"new_IA = IA[['SMS Id','Visit Date']].drop_duplicates()\\nnew_IA.columns = new_IA.columns.str.replace('Visit Date', 'Prev_Visit Date')\\nnew2_IA = IA[['Concatenate','Stock']]\\nnew2_IA.columns = new2_IA.columns.str.replace('Stock', 'Prev_Stock')\""
            ]
          },
          "metadata": {},
          "execution_count": 1935
        }
      ]
    },
    {
      "cell_type": "code",
      "metadata": {
        "id": "w1xMeFI9wheS",
        "colab": {
          "base_uri": "https://localhost:8080/",
          "height": 0
        },
        "outputId": "5eb0557c-a53f-4471-c61c-37057fc4340a"
      },
      "source": [
        "'''RA1 = RA1.merge(new_IA, on='SMS Id')\n",
        "RA1 = RA1.merge(new2_IA, on='Concatenate')'''"
      ],
      "execution_count": 1936,
      "outputs": [
        {
          "output_type": "execute_result",
          "data": {
            "application/vnd.google.colaboratory.intrinsic+json": {
              "type": "string"
            },
            "text/plain": [
              "\"RA1 = RA1.merge(new_IA, on='SMS Id')\\nRA1 = RA1.merge(new2_IA, on='Concatenate')\""
            ]
          },
          "metadata": {},
          "execution_count": 1936
        }
      ]
    },
    {
      "cell_type": "code",
      "metadata": {
        "id": "ebbUU7pA9cPl"
      },
      "source": [
        "#RA1['Recheck_Sales'] = RA1['Prev_Stock']+RA1['Purchase']-RA1['Stock']"
      ],
      "execution_count": 1937,
      "outputs": []
    },
    {
      "cell_type": "code",
      "metadata": {
        "id": "yPFEtOI2-a7q"
      },
      "source": [
        "#RA1[RA1['Recheck_Sales']-RA1['Sales']!=0]"
      ],
      "execution_count": 1938,
      "outputs": []
    },
    {
      "cell_type": "code",
      "metadata": {
        "colab": {
          "base_uri": "https://localhost:8080/"
        },
        "id": "Q9SsXf6hobtW",
        "outputId": "04748a99-a10f-4570-aece-c2e6f05a14eb"
      },
      "source": [
        "# membuat format untuk di merge dengan table lainnya\n",
        "m_RA1 = RA1.copy()\n",
        "# mengganti nama kolom agar sesuai dengan yg diinginkan\n",
        "m_RA1.columns = m_RA1.columns.str.replace('Visit Date', 'RA1').str.replace('RBP', 'RBP_RA1').str.replace('RSP/Price','RSP_RA1').str.replace('Stock','Stock_RA1').str.replace('Purchase','Purchase_RA1')\n",
        "m_RA1.columns"
      ],
      "execution_count": 1939,
      "outputs": [
        {
          "output_type": "execute_result",
          "data": {
            "text/plain": [
              "Index(['Concatenate', 'SMS Id', 'Bar Code', 'Product Description', 'RA1',\n",
              "       'RBP_RA1', 'RSP_RA1', 'Sales', 'Stock_RA1', 'Purchase_RA1'],\n",
              "      dtype='object')"
            ]
          },
          "metadata": {},
          "execution_count": 1939
        }
      ]
    },
    {
      "cell_type": "markdown",
      "metadata": {
        "id": "M2LWKGR-9AZD"
      },
      "source": [
        "## Retail Audit 2 (week 3)"
      ]
    },
    {
      "cell_type": "code",
      "metadata": {
        "id": "yg2CmnZLcX3k"
      },
      "source": [
        "RA2 = pd.read_excel('gdrive/My Drive/JACOB/Data Clean Jacob 2021 Week 3 (RA2).xlsx','Data Clean')\n",
        "RA2 = RA2.fillna(0)"
      ],
      "execution_count": 1940,
      "outputs": []
    },
    {
      "cell_type": "code",
      "metadata": {
        "id": "JVWjOPsZYD9n"
      },
      "source": [
        "RA2['Visit Date'] = RA2['Visit Date'].str.replace('Agu','Aug')\n",
        "RA2['Visit Date'] = pd.to_datetime(RA2['Visit Date'])"
      ],
      "execution_count": 1941,
      "outputs": []
    },
    {
      "cell_type": "code",
      "metadata": {
        "id": "dDkkjqcjQrR4",
        "colab": {
          "base_uri": "https://localhost:8080/",
          "height": 0
        },
        "outputId": "8639ced8-1a20-4b5f-acc0-4cb7db0c7076"
      },
      "source": [
        "RA2.head()"
      ],
      "execution_count": 1942,
      "outputs": [
        {
          "output_type": "execute_result",
          "data": {
            "text/html": [
              "<div>\n",
              "<style scoped>\n",
              "    .dataframe tbody tr th:only-of-type {\n",
              "        vertical-align: middle;\n",
              "    }\n",
              "\n",
              "    .dataframe tbody tr th {\n",
              "        vertical-align: top;\n",
              "    }\n",
              "\n",
              "    .dataframe thead th {\n",
              "        text-align: right;\n",
              "    }\n",
              "</style>\n",
              "<table border=\"1\" class=\"dataframe\">\n",
              "  <thead>\n",
              "    <tr style=\"text-align: right;\">\n",
              "      <th></th>\n",
              "      <th>Country Id</th>\n",
              "      <th>Country Name</th>\n",
              "      <th>Auditor Id</th>\n",
              "      <th>Resource Name</th>\n",
              "      <th>SMS Id</th>\n",
              "      <th>Instruction Id</th>\n",
              "      <th>Category Id</th>\n",
              "      <th>Category Name</th>\n",
              "      <th>Module Name</th>\n",
              "      <th>Entity Id</th>\n",
              "      <th>Bar Code</th>\n",
              "      <th>Product Description</th>\n",
              "      <th>Visit Date</th>\n",
              "      <th>Audit Status</th>\n",
              "      <th>Original Fact Value</th>\n",
              "      <th>Cluster Id</th>\n",
              "      <th>alternate audit methodology</th>\n",
              "      <th>Number Of Observation by Type of Observation</th>\n",
              "      <th>RSP/Price</th>\n",
              "      <th>PREIVIOUS STOCK</th>\n",
              "      <th>Shop/Front Stock</th>\n",
              "      <th>Other Stock</th>\n",
              "      <th>Direct Purchase(Pur1)</th>\n",
              "      <th>Double Count</th>\n",
              "      <th>Goods Returned</th>\n",
              "      <th>Missing invoice(Pur3)</th>\n",
              "      <th>Missing Stock</th>\n",
              "      <th>Sales</th>\n",
              "      <th>Sales_W2</th>\n",
              "      <th>Item Comment</th>\n",
              "    </tr>\n",
              "  </thead>\n",
              "  <tbody>\n",
              "    <tr>\n",
              "      <th>0</th>\n",
              "      <td>360</td>\n",
              "      <td>INDONESIA</td>\n",
              "      <td>316595</td>\n",
              "      <td>Supri Yanto</td>\n",
              "      <td>1610063</td>\n",
              "      <td>122780577</td>\n",
              "      <td>8</td>\n",
              "      <td>Cigarette</td>\n",
              "      <td>Cigarette</td>\n",
              "      <td>80228</td>\n",
              "      <td>8999909028234</td>\n",
              "      <td>Dji Sam Soe Soft Plain 12 Stc (Sktb)</td>\n",
              "      <td>2021-08-09</td>\n",
              "      <td>AUDIT COMPLETE</td>\n",
              "      <td>(blank)</td>\n",
              "      <td>742047</td>\n",
              "      <td>0.0</td>\n",
              "      <td>15800.0</td>\n",
              "      <td>18000.0</td>\n",
              "      <td>20.0</td>\n",
              "      <td>20.0</td>\n",
              "      <td>0.0</td>\n",
              "      <td>0.0</td>\n",
              "      <td>0.0</td>\n",
              "      <td>0.0</td>\n",
              "      <td>10.0</td>\n",
              "      <td>0.0</td>\n",
              "      <td>10</td>\n",
              "      <td>10.0</td>\n",
              "      <td>0</td>\n",
              "    </tr>\n",
              "    <tr>\n",
              "      <th>1</th>\n",
              "      <td>360</td>\n",
              "      <td>INDONESIA</td>\n",
              "      <td>316595</td>\n",
              "      <td>Supri Yanto</td>\n",
              "      <td>1610063</td>\n",
              "      <td>122780577</td>\n",
              "      <td>8</td>\n",
              "      <td>Cigarette</td>\n",
              "      <td>Cigarette</td>\n",
              "      <td>80255</td>\n",
              "      <td>8999909039124</td>\n",
              "      <td>Panamas 1 Soft Plain 12 Stc (Sktb)</td>\n",
              "      <td>2021-08-09</td>\n",
              "      <td>AUDIT COMPLETE</td>\n",
              "      <td>(blank)</td>\n",
              "      <td>742047</td>\n",
              "      <td>0.0</td>\n",
              "      <td>11900.0</td>\n",
              "      <td>13000.0</td>\n",
              "      <td>10.0</td>\n",
              "      <td>10.0</td>\n",
              "      <td>0.0</td>\n",
              "      <td>0.0</td>\n",
              "      <td>0.0</td>\n",
              "      <td>0.0</td>\n",
              "      <td>10.0</td>\n",
              "      <td>0.0</td>\n",
              "      <td>10</td>\n",
              "      <td>20.0</td>\n",
              "      <td>COVID - Sales turun karena kekurangan pasokan</td>\n",
              "    </tr>\n",
              "    <tr>\n",
              "      <th>2</th>\n",
              "      <td>360</td>\n",
              "      <td>INDONESIA</td>\n",
              "      <td>316595</td>\n",
              "      <td>Supri Yanto</td>\n",
              "      <td>1610063</td>\n",
              "      <td>122780577</td>\n",
              "      <td>8</td>\n",
              "      <td>Cigarette</td>\n",
              "      <td>Cigarette</td>\n",
              "      <td>80271</td>\n",
              "      <td>8991906101651</td>\n",
              "      <td>Djarum Istimewa Soft Coklat Plain 12 Stc (Sktb)</td>\n",
              "      <td>2021-08-09</td>\n",
              "      <td>AUDIT COMPLETE</td>\n",
              "      <td>(blank)</td>\n",
              "      <td>742047</td>\n",
              "      <td>0.0</td>\n",
              "      <td>12000.0</td>\n",
              "      <td>14000.0</td>\n",
              "      <td>20.0</td>\n",
              "      <td>20.0</td>\n",
              "      <td>0.0</td>\n",
              "      <td>0.0</td>\n",
              "      <td>0.0</td>\n",
              "      <td>0.0</td>\n",
              "      <td>10.0</td>\n",
              "      <td>0.0</td>\n",
              "      <td>10</td>\n",
              "      <td>10.0</td>\n",
              "      <td>0</td>\n",
              "    </tr>\n",
              "    <tr>\n",
              "      <th>3</th>\n",
              "      <td>360</td>\n",
              "      <td>INDONESIA</td>\n",
              "      <td>316595</td>\n",
              "      <td>Supri Yanto</td>\n",
              "      <td>1610063</td>\n",
              "      <td>122780577</td>\n",
              "      <td>8</td>\n",
              "      <td>Cigarette</td>\n",
              "      <td>Cigarette</td>\n",
              "      <td>80322</td>\n",
              "      <td>8998989501125</td>\n",
              "      <td>Gudang Garam Red Soft Kspl 12 Stc (Sktb)</td>\n",
              "      <td>2021-08-09</td>\n",
              "      <td>AUDIT COMPLETE</td>\n",
              "      <td>(blank)</td>\n",
              "      <td>742047</td>\n",
              "      <td>0.0</td>\n",
              "      <td>12200.0</td>\n",
              "      <td>14000.0</td>\n",
              "      <td>20.0</td>\n",
              "      <td>20.0</td>\n",
              "      <td>0.0</td>\n",
              "      <td>0.0</td>\n",
              "      <td>0.0</td>\n",
              "      <td>0.0</td>\n",
              "      <td>10.0</td>\n",
              "      <td>0.0</td>\n",
              "      <td>10</td>\n",
              "      <td>10.0</td>\n",
              "      <td>0</td>\n",
              "    </tr>\n",
              "    <tr>\n",
              "      <th>4</th>\n",
              "      <td>360</td>\n",
              "      <td>INDONESIA</td>\n",
              "      <td>316595</td>\n",
              "      <td>Supri Yanto</td>\n",
              "      <td>1610063</td>\n",
              "      <td>122780577</td>\n",
              "      <td>8</td>\n",
              "      <td>Cigarette</td>\n",
              "      <td>Cigarette</td>\n",
              "      <td>86810</td>\n",
              "      <td>8997234650021</td>\n",
              "      <td>Dados Brown Soft Plain 12 Stc (Sktb)</td>\n",
              "      <td>2021-08-09</td>\n",
              "      <td>AUDIT COMPLETE</td>\n",
              "      <td>(blank)</td>\n",
              "      <td>742047</td>\n",
              "      <td>0.0</td>\n",
              "      <td>5500.0</td>\n",
              "      <td>6500.0</td>\n",
              "      <td>20.0</td>\n",
              "      <td>20.0</td>\n",
              "      <td>0.0</td>\n",
              "      <td>0.0</td>\n",
              "      <td>0.0</td>\n",
              "      <td>0.0</td>\n",
              "      <td>50.0</td>\n",
              "      <td>0.0</td>\n",
              "      <td>50</td>\n",
              "      <td>20.0</td>\n",
              "      <td>COVID - Sales naik, banyak permintaan produk/k...</td>\n",
              "    </tr>\n",
              "  </tbody>\n",
              "</table>\n",
              "</div>"
            ],
            "text/plain": [
              "   Country Id  ...                                       Item Comment\n",
              "0         360  ...                                                  0\n",
              "1         360  ...      COVID - Sales turun karena kekurangan pasokan\n",
              "2         360  ...                                                  0\n",
              "3         360  ...                                                  0\n",
              "4         360  ...  COVID - Sales naik, banyak permintaan produk/k...\n",
              "\n",
              "[5 rows x 30 columns]"
            ]
          },
          "metadata": {},
          "execution_count": 1942
        }
      ]
    },
    {
      "cell_type": "code",
      "metadata": {
        "id": "sFJvlqxwMZ4N"
      },
      "source": [
        "RA2['Stock'] = RA2['Shop/Front Stock']+RA2['Other Stock']\n",
        "RA2['Purchase'] = RA2['Direct Purchase(Pur1)']+RA2['Missing invoice(Pur3)']+RA2['Missing Stock']-RA2['Double Count']-RA2['Goods Returned']\n",
        "RA2.insert(0, 'Concatenate', RA2['SMS Id'].astype('str')+RA2['Product Description'])"
      ],
      "execution_count": 1943,
      "outputs": []
    },
    {
      "cell_type": "code",
      "metadata": {
        "id": "Cex9yWFJMZ4N"
      },
      "source": [
        "RA2 = RA2.drop(['Country Id', 'Country Name', 'Auditor Id', 'Resource Name','Instruction Id', \n",
        "            'Category Id', 'Category Name', 'Module Name','Entity Id','Original Fact Value',\n",
        "            'Cluster Id','alternate audit methodology','Shop/Front Stock','Other Stock',\n",
        "            'Direct Purchase(Pur1)','Double Count', 'Goods Returned', 'Missing invoice(Pur3)',\n",
        "            'Missing Stock','PREIVIOUS STOCK','Audit Status'], axis=1)\n",
        "RA2.columns = RA2.columns.str.replace('Number Of Observation by Type of Observation','RBP').str.replace('Sales_W2','Claimed_Sales_RA1(di_RA2)').str.replace('Item Comment','Comment_RA2')"
      ],
      "execution_count": 1944,
      "outputs": []
    },
    {
      "cell_type": "code",
      "metadata": {
        "id": "PBs32OZaL7dQ"
      },
      "source": [
        "RA2 = RA2.rename(columns = {'Number Of Observation by Type of Observation':'RBP',\n",
        "                            'Sales':'Claimed_Sales_RA2(di_RA2)',\n",
        "                            'Sales_W2':'Claimed_Sales_RA1(di_RA2)',\n",
        "                            'Item Comment':'Comment_RA2'})"
      ],
      "execution_count": 1945,
      "outputs": []
    },
    {
      "cell_type": "code",
      "metadata": {
        "id": "HJy0gYhXMZ4O",
        "colab": {
          "base_uri": "https://localhost:8080/",
          "height": 0
        },
        "outputId": "1a371223-fb92-4af3-eeb1-facf27db07d1"
      },
      "source": [
        "'''new_RA1 = RA1[['SMS Id','Visit Date']].drop_duplicates()\n",
        "new_RA1.columns = new_RA1.columns.str.replace('Visit Date', 'Prev_Visit Date')\n",
        "new2_RA1 = RA1[['Concatenate','Stock']]\n",
        "new2_RA1.columns = new2_RA1.columns.str.replace('Stock', 'Prev_Stock')'''"
      ],
      "execution_count": 1946,
      "outputs": [
        {
          "output_type": "execute_result",
          "data": {
            "application/vnd.google.colaboratory.intrinsic+json": {
              "type": "string"
            },
            "text/plain": [
              "\"new_RA1 = RA1[['SMS Id','Visit Date']].drop_duplicates()\\nnew_RA1.columns = new_RA1.columns.str.replace('Visit Date', 'Prev_Visit Date')\\nnew2_RA1 = RA1[['Concatenate','Stock']]\\nnew2_RA1.columns = new2_RA1.columns.str.replace('Stock', 'Prev_Stock')\""
            ]
          },
          "metadata": {},
          "execution_count": 1946
        }
      ]
    },
    {
      "cell_type": "code",
      "metadata": {
        "id": "TMsegRGYMZ4O",
        "colab": {
          "base_uri": "https://localhost:8080/",
          "height": 0
        },
        "outputId": "db147e3b-a9d5-4937-cfca-ea19d2a6f70d"
      },
      "source": [
        "'''RA2 = RA2.merge(new_RA1, on='SMS Id')\n",
        "RA2 = RA2.merge(new2_RA1, on='Concatenate')'''"
      ],
      "execution_count": 1947,
      "outputs": [
        {
          "output_type": "execute_result",
          "data": {
            "application/vnd.google.colaboratory.intrinsic+json": {
              "type": "string"
            },
            "text/plain": [
              "\"RA2 = RA2.merge(new_RA1, on='SMS Id')\\nRA2 = RA2.merge(new2_RA1, on='Concatenate')\""
            ]
          },
          "metadata": {},
          "execution_count": 1947
        }
      ]
    },
    {
      "cell_type": "code",
      "metadata": {
        "id": "EfYko72BMZ4O"
      },
      "source": [
        "#RA2['Recheck_Sales'] = RA2['Prev_Stock']+RA2['Purchase']-RA2['Stock']"
      ],
      "execution_count": 1948,
      "outputs": []
    },
    {
      "cell_type": "code",
      "metadata": {
        "id": "qQfpj_tmMZ4O"
      },
      "source": [
        "#RA2[RA2['Recheck_Sales']-RA2['Sales']!=0]"
      ],
      "execution_count": 1949,
      "outputs": []
    },
    {
      "cell_type": "code",
      "metadata": {
        "id": "l_zVJWVeqCrN",
        "colab": {
          "base_uri": "https://localhost:8080/"
        },
        "outputId": "87c4d7c5-a1a6-4990-cffe-5563cde57f8f"
      },
      "source": [
        "# membuat format untuk di merge dengan table lainnya\n",
        "m_RA2 = RA2.copy()\n",
        "# mengganti nama kolom agar sesuai dengan yg diinginkan\n",
        "m_RA2.columns = m_RA2.columns.str.replace('Visit Date', 'RA2').str.replace('RBP', 'RBP_RA2').str.replace('RSP/Price','RSP_RA2').str.replace('Stock','Stock_RA2').str.replace('Purchase','Purchase_RA2')\n",
        "m_RA2.shape"
      ],
      "execution_count": 1950,
      "outputs": [
        {
          "output_type": "execute_result",
          "data": {
            "text/plain": [
              "(1749, 12)"
            ]
          },
          "metadata": {},
          "execution_count": 1950
        }
      ]
    },
    {
      "cell_type": "markdown",
      "metadata": {
        "id": "OirS5nnBVOBw"
      },
      "source": [
        "## Retail Audit 3 (week 4)"
      ]
    },
    {
      "cell_type": "code",
      "metadata": {
        "id": "mBcmdtWncc_M"
      },
      "source": [
        "RA3 = pd.read_excel('gdrive/My Drive/JACOB/Data Clean Jacob 2021 Week 4 (RA3).xlsx','Data Clean')\n",
        "RA3 = RA3.fillna(0)"
      ],
      "execution_count": 1951,
      "outputs": []
    },
    {
      "cell_type": "code",
      "metadata": {
        "id": "XB2-5WrmYPAO"
      },
      "source": [
        "RA3['Visit Date'] = RA3['Visit Date'].str.replace('Agu','Aug')\n",
        "RA3['Visit Date'] = pd.to_datetime(RA3['Visit Date'])"
      ],
      "execution_count": 1952,
      "outputs": []
    },
    {
      "cell_type": "code",
      "metadata": {
        "id": "GI0QQqI0Vgri"
      },
      "source": [
        "RA3['Stock'] = RA3['Shop/Front Stock']+RA3['Other Stock']\n",
        "RA3['Purchase'] = RA3['Direct Purchase(Pur1)']+RA3['Missing invoice(Pur3)']+RA3['Missing Stock']-RA3['Double Count']-RA3['Goods Returned']\n",
        "RA3.insert(0, 'Concatenate', RA3['SMS Id'].astype('str')+RA3['Product Description'])"
      ],
      "execution_count": 1953,
      "outputs": []
    },
    {
      "cell_type": "code",
      "metadata": {
        "colab": {
          "base_uri": "https://localhost:8080/",
          "height": 0
        },
        "id": "4G3fISWIVqzz",
        "outputId": "16d3d2a1-503f-41dd-b980-a065b7a697ea"
      },
      "source": [
        "RA3.head()"
      ],
      "execution_count": 1954,
      "outputs": [
        {
          "output_type": "execute_result",
          "data": {
            "text/html": [
              "<div>\n",
              "<style scoped>\n",
              "    .dataframe tbody tr th:only-of-type {\n",
              "        vertical-align: middle;\n",
              "    }\n",
              "\n",
              "    .dataframe tbody tr th {\n",
              "        vertical-align: top;\n",
              "    }\n",
              "\n",
              "    .dataframe thead th {\n",
              "        text-align: right;\n",
              "    }\n",
              "</style>\n",
              "<table border=\"1\" class=\"dataframe\">\n",
              "  <thead>\n",
              "    <tr style=\"text-align: right;\">\n",
              "      <th></th>\n",
              "      <th>Concatenate</th>\n",
              "      <th>Country Id</th>\n",
              "      <th>Country Name</th>\n",
              "      <th>Auditor Id</th>\n",
              "      <th>Resource Name</th>\n",
              "      <th>SMS Id</th>\n",
              "      <th>Instruction Id</th>\n",
              "      <th>Category Id</th>\n",
              "      <th>Category Name</th>\n",
              "      <th>Module Name</th>\n",
              "      <th>Entity Id</th>\n",
              "      <th>Bar Code</th>\n",
              "      <th>Product Description</th>\n",
              "      <th>Visit Date</th>\n",
              "      <th>Audit Status</th>\n",
              "      <th>Original Fact Value</th>\n",
              "      <th>Cluster Id</th>\n",
              "      <th>alternate audit methodology</th>\n",
              "      <th>Price To Retailer</th>\n",
              "      <th>RSP/Price</th>\n",
              "      <th>PREIVIOUS STOCK</th>\n",
              "      <th>Shop/Front Stock</th>\n",
              "      <th>Other Stock</th>\n",
              "      <th>Direct Purchase(Pur1)</th>\n",
              "      <th>Double Count</th>\n",
              "      <th>Goods Returned</th>\n",
              "      <th>Missing invoice(Pur3)</th>\n",
              "      <th>Missing Stock</th>\n",
              "      <th>Sales</th>\n",
              "      <th>Sales_W3</th>\n",
              "      <th>Sales_W2</th>\n",
              "      <th>Item Comment</th>\n",
              "      <th>Stock</th>\n",
              "      <th>Purchase</th>\n",
              "    </tr>\n",
              "  </thead>\n",
              "  <tbody>\n",
              "    <tr>\n",
              "      <th>0</th>\n",
              "      <td>1610063Dji Sam Soe Soft Plain 12 Stc (Sktb)</td>\n",
              "      <td>360</td>\n",
              "      <td>INDONESIA</td>\n",
              "      <td>316595</td>\n",
              "      <td>Supri Yanto</td>\n",
              "      <td>1610063</td>\n",
              "      <td>122797406</td>\n",
              "      <td>8</td>\n",
              "      <td>Cigarette</td>\n",
              "      <td>Cigarette</td>\n",
              "      <td>80228</td>\n",
              "      <td>8999909028234</td>\n",
              "      <td>Dji Sam Soe Soft Plain 12 Stc (Sktb)</td>\n",
              "      <td>2021-08-16</td>\n",
              "      <td>AUDIT COMPLETE</td>\n",
              "      <td>(blank)</td>\n",
              "      <td>742047</td>\n",
              "      <td>0.0</td>\n",
              "      <td>15800.0</td>\n",
              "      <td>18000.0</td>\n",
              "      <td>20.0</td>\n",
              "      <td>20.0</td>\n",
              "      <td>0.0</td>\n",
              "      <td>0.0</td>\n",
              "      <td>0.0</td>\n",
              "      <td>0.0</td>\n",
              "      <td>10.0</td>\n",
              "      <td>0.0</td>\n",
              "      <td>10</td>\n",
              "      <td>10.0</td>\n",
              "      <td>10.0</td>\n",
              "      <td>0</td>\n",
              "      <td>20.0</td>\n",
              "      <td>10.0</td>\n",
              "    </tr>\n",
              "    <tr>\n",
              "      <th>1</th>\n",
              "      <td>1610063Panamas 1 Soft Plain 12 Stc (Sktb)</td>\n",
              "      <td>360</td>\n",
              "      <td>INDONESIA</td>\n",
              "      <td>316595</td>\n",
              "      <td>Supri Yanto</td>\n",
              "      <td>1610063</td>\n",
              "      <td>122797406</td>\n",
              "      <td>8</td>\n",
              "      <td>Cigarette</td>\n",
              "      <td>Cigarette</td>\n",
              "      <td>80255</td>\n",
              "      <td>8999909039124</td>\n",
              "      <td>Panamas 1 Soft Plain 12 Stc (Sktb)</td>\n",
              "      <td>2021-08-16</td>\n",
              "      <td>AUDIT COMPLETE</td>\n",
              "      <td>(blank)</td>\n",
              "      <td>742047</td>\n",
              "      <td>0.0</td>\n",
              "      <td>11900.0</td>\n",
              "      <td>13000.0</td>\n",
              "      <td>10.0</td>\n",
              "      <td>10.0</td>\n",
              "      <td>0.0</td>\n",
              "      <td>0.0</td>\n",
              "      <td>0.0</td>\n",
              "      <td>0.0</td>\n",
              "      <td>20.0</td>\n",
              "      <td>0.0</td>\n",
              "      <td>20</td>\n",
              "      <td>10.0</td>\n",
              "      <td>20.0</td>\n",
              "      <td>COVID - Sales naik, banyak permintaan produk/k...</td>\n",
              "      <td>10.0</td>\n",
              "      <td>20.0</td>\n",
              "    </tr>\n",
              "    <tr>\n",
              "      <th>2</th>\n",
              "      <td>1610063Djarum Istimewa Soft Coklat Plain 12 St...</td>\n",
              "      <td>360</td>\n",
              "      <td>INDONESIA</td>\n",
              "      <td>316595</td>\n",
              "      <td>Supri Yanto</td>\n",
              "      <td>1610063</td>\n",
              "      <td>122797406</td>\n",
              "      <td>8</td>\n",
              "      <td>Cigarette</td>\n",
              "      <td>Cigarette</td>\n",
              "      <td>80271</td>\n",
              "      <td>8991906101651</td>\n",
              "      <td>Djarum Istimewa Soft Coklat Plain 12 Stc (Sktb)</td>\n",
              "      <td>2021-08-16</td>\n",
              "      <td>AUDIT COMPLETE</td>\n",
              "      <td>(blank)</td>\n",
              "      <td>742047</td>\n",
              "      <td>0.0</td>\n",
              "      <td>12000.0</td>\n",
              "      <td>14000.0</td>\n",
              "      <td>20.0</td>\n",
              "      <td>20.0</td>\n",
              "      <td>0.0</td>\n",
              "      <td>0.0</td>\n",
              "      <td>0.0</td>\n",
              "      <td>0.0</td>\n",
              "      <td>10.0</td>\n",
              "      <td>0.0</td>\n",
              "      <td>10</td>\n",
              "      <td>10.0</td>\n",
              "      <td>10.0</td>\n",
              "      <td>0</td>\n",
              "      <td>20.0</td>\n",
              "      <td>10.0</td>\n",
              "    </tr>\n",
              "    <tr>\n",
              "      <th>3</th>\n",
              "      <td>1610063Gudang Garam Red Soft Kspl 12 Stc (Sktb)</td>\n",
              "      <td>360</td>\n",
              "      <td>INDONESIA</td>\n",
              "      <td>316595</td>\n",
              "      <td>Supri Yanto</td>\n",
              "      <td>1610063</td>\n",
              "      <td>122797406</td>\n",
              "      <td>8</td>\n",
              "      <td>Cigarette</td>\n",
              "      <td>Cigarette</td>\n",
              "      <td>80322</td>\n",
              "      <td>8998989501125</td>\n",
              "      <td>Gudang Garam Red Soft Kspl 12 Stc (Sktb)</td>\n",
              "      <td>2021-08-16</td>\n",
              "      <td>AUDIT COMPLETE</td>\n",
              "      <td>(blank)</td>\n",
              "      <td>742047</td>\n",
              "      <td>0.0</td>\n",
              "      <td>0.0</td>\n",
              "      <td>0.0</td>\n",
              "      <td>20.0</td>\n",
              "      <td>0.0</td>\n",
              "      <td>0.0</td>\n",
              "      <td>0.0</td>\n",
              "      <td>0.0</td>\n",
              "      <td>0.0</td>\n",
              "      <td>0.0</td>\n",
              "      <td>0.0</td>\n",
              "      <td>20</td>\n",
              "      <td>10.0</td>\n",
              "      <td>10.0</td>\n",
              "      <td>COVID - Sales naik, banyak permintaan produk/k...</td>\n",
              "      <td>0.0</td>\n",
              "      <td>0.0</td>\n",
              "    </tr>\n",
              "    <tr>\n",
              "      <th>4</th>\n",
              "      <td>1610063Dados Brown Soft Plain 12 Stc (Sktb)</td>\n",
              "      <td>360</td>\n",
              "      <td>INDONESIA</td>\n",
              "      <td>316595</td>\n",
              "      <td>Supri Yanto</td>\n",
              "      <td>1610063</td>\n",
              "      <td>122797406</td>\n",
              "      <td>8</td>\n",
              "      <td>Cigarette</td>\n",
              "      <td>Cigarette</td>\n",
              "      <td>86810</td>\n",
              "      <td>8997234650021</td>\n",
              "      <td>Dados Brown Soft Plain 12 Stc (Sktb)</td>\n",
              "      <td>2021-08-16</td>\n",
              "      <td>AUDIT COMPLETE</td>\n",
              "      <td>(blank)</td>\n",
              "      <td>742047</td>\n",
              "      <td>0.0</td>\n",
              "      <td>5500.0</td>\n",
              "      <td>6500.0</td>\n",
              "      <td>20.0</td>\n",
              "      <td>20.0</td>\n",
              "      <td>0.0</td>\n",
              "      <td>0.0</td>\n",
              "      <td>0.0</td>\n",
              "      <td>0.0</td>\n",
              "      <td>50.0</td>\n",
              "      <td>0.0</td>\n",
              "      <td>50</td>\n",
              "      <td>50.0</td>\n",
              "      <td>20.0</td>\n",
              "      <td>0</td>\n",
              "      <td>20.0</td>\n",
              "      <td>50.0</td>\n",
              "    </tr>\n",
              "  </tbody>\n",
              "</table>\n",
              "</div>"
            ],
            "text/plain": [
              "                                         Concatenate  ...  Purchase\n",
              "0        1610063Dji Sam Soe Soft Plain 12 Stc (Sktb)  ...      10.0\n",
              "1          1610063Panamas 1 Soft Plain 12 Stc (Sktb)  ...      20.0\n",
              "2  1610063Djarum Istimewa Soft Coklat Plain 12 St...  ...      10.0\n",
              "3    1610063Gudang Garam Red Soft Kspl 12 Stc (Sktb)  ...       0.0\n",
              "4        1610063Dados Brown Soft Plain 12 Stc (Sktb)  ...      50.0\n",
              "\n",
              "[5 rows x 34 columns]"
            ]
          },
          "metadata": {},
          "execution_count": 1954
        }
      ]
    },
    {
      "cell_type": "code",
      "metadata": {
        "id": "-DbKKMfPDTWh"
      },
      "source": [
        "RA3 = RA3.drop(['Country Id', 'Country Name', 'Auditor Id', 'Resource Name','Instruction Id', \n",
        "            'Category Id', 'Category Name', 'Module Name','Entity Id','Original Fact Value',\n",
        "            'Cluster Id','alternate audit methodology','Shop/Front Stock','Other Stock',\n",
        "            'Direct Purchase(Pur1)','Double Count', 'Goods Returned', 'Missing invoice(Pur3)',\n",
        "            'Missing Stock','PREIVIOUS STOCK','Audit Status'], axis=1)"
      ],
      "execution_count": 1955,
      "outputs": []
    },
    {
      "cell_type": "code",
      "metadata": {
        "id": "N87p8tK5GNWJ"
      },
      "source": [
        "RA3 = RA3.rename(columns = {'Price To Retailer':'RBP', 'Sales':'Claimed_Sales_RA3(di_RA3)',\n",
        "                            'Sales_W2':'Claimed_Sales_RA1(di_RA3)',\n",
        "                            'Sales_W3':'Claimed_Sales_RA2(di_RA3)',\n",
        "                            'Item Comment':'Comment_RA3'})"
      ],
      "execution_count": 1956,
      "outputs": []
    },
    {
      "cell_type": "code",
      "metadata": {
        "id": "wJE3URbmVgrj",
        "colab": {
          "base_uri": "https://localhost:8080/",
          "height": 0
        },
        "outputId": "8aa26fa6-a288-40e1-c0e0-90c0f89bad12"
      },
      "source": [
        "'''new_RA2 = RA2[['SMS Id','Visit Date']].drop_duplicates()\n",
        "new_RA2.columns = new_RA2.columns.str.replace('Visit Date', 'Prev_Visit Date')\n",
        "new2_RA2 = RA2[['Concatenate','Stock']]\n",
        "new2_RA2.columns = new2_RA2.columns.str.replace('Stock', 'Prev_Stock')'''"
      ],
      "execution_count": 1957,
      "outputs": [
        {
          "output_type": "execute_result",
          "data": {
            "application/vnd.google.colaboratory.intrinsic+json": {
              "type": "string"
            },
            "text/plain": [
              "\"new_RA2 = RA2[['SMS Id','Visit Date']].drop_duplicates()\\nnew_RA2.columns = new_RA2.columns.str.replace('Visit Date', 'Prev_Visit Date')\\nnew2_RA2 = RA2[['Concatenate','Stock']]\\nnew2_RA2.columns = new2_RA2.columns.str.replace('Stock', 'Prev_Stock')\""
            ]
          },
          "metadata": {},
          "execution_count": 1957
        }
      ]
    },
    {
      "cell_type": "code",
      "metadata": {
        "id": "P9PFhT0oVgrj",
        "colab": {
          "base_uri": "https://localhost:8080/",
          "height": 0
        },
        "outputId": "987a7be3-fbc2-4a89-c995-fa9a02ad462c"
      },
      "source": [
        "'''RA3 = RA3.merge(new_RA2, on='SMS Id')\n",
        "RA3 = RA3.merge(new2_RA2, on='Concatenate')'''"
      ],
      "execution_count": 1958,
      "outputs": [
        {
          "output_type": "execute_result",
          "data": {
            "application/vnd.google.colaboratory.intrinsic+json": {
              "type": "string"
            },
            "text/plain": [
              "\"RA3 = RA3.merge(new_RA2, on='SMS Id')\\nRA3 = RA3.merge(new2_RA2, on='Concatenate')\""
            ]
          },
          "metadata": {},
          "execution_count": 1958
        }
      ]
    },
    {
      "cell_type": "code",
      "metadata": {
        "id": "PRPCkYXsVgrk"
      },
      "source": [
        "#RA3['Recheck_Sales'] = RA3['Prev_Stock']+RA3['Purchase']-RA3['Stock']"
      ],
      "execution_count": 1959,
      "outputs": []
    },
    {
      "cell_type": "code",
      "metadata": {
        "id": "fVHLRhcpVgrk"
      },
      "source": [
        "#RA3[RA3['Recheck_Sales']-RA3['Sales']!=0]"
      ],
      "execution_count": 1960,
      "outputs": []
    },
    {
      "cell_type": "code",
      "metadata": {
        "id": "uLmNVwBnqmCZ"
      },
      "source": [
        "# membuat format untuk di merge dengan table lainnya\n",
        "m_RA3 = RA3.copy()\n",
        "# mengganti nama kolom agar sesuai dengan yg diinginkan\n",
        "m_RA3.columns = m_RA3.columns.str.replace(\n",
        "    'Visit Date', 'RA3').str.replace(\n",
        "        'RBP', 'RBP_RA3').str.replace(\n",
        "            'RSP/Price','RSP_RA3').str.replace(\n",
        "                'Stock','Stock_RA3').str.replace(\n",
        "                    'Purchase','Purchase_RA3')"
      ],
      "execution_count": 1961,
      "outputs": []
    },
    {
      "cell_type": "markdown",
      "metadata": {
        "id": "hfNEoHHNDgOm"
      },
      "source": [
        "## Retail Audit 4 (week 5-6)"
      ]
    },
    {
      "cell_type": "code",
      "metadata": {
        "id": "q1qOshoVDpP7"
      },
      "source": [
        "RA4 = pd.read_excel('gdrive/My Drive/JACOB/Data Clean Jacob 2021 Week 6 - CS Version.xlsx','Data Clean')\n",
        "RA4 = RA4.fillna(0)"
      ],
      "execution_count": 1962,
      "outputs": []
    },
    {
      "cell_type": "code",
      "metadata": {
        "id": "8aHgApCKDpP7"
      },
      "source": [
        "RA4['Stock'] = RA4['Shop/Front Stock']+RA4['Other Stock']\n",
        "RA4['Purchase'] = RA4['Direct Purchase(Pur1)']+RA4['Missing invoice(Pur3)']+RA4['Missing Stock']-RA4['Double Count']-RA4['Goods Returned']\n",
        "RA4.insert(0, 'Concatenate', RA4['SMS Id'].astype('str')+RA4['Product Description'])"
      ],
      "execution_count": 1963,
      "outputs": []
    },
    {
      "cell_type": "code",
      "metadata": {
        "colab": {
          "base_uri": "https://localhost:8080/",
          "height": 577
        },
        "id": "cXYf8BmrDpP8",
        "outputId": "47bc490e-6525-4f55-bea7-a7d48ee2022c"
      },
      "source": [
        "RA4.head()"
      ],
      "execution_count": 1964,
      "outputs": [
        {
          "output_type": "execute_result",
          "data": {
            "text/html": [
              "<div>\n",
              "<style scoped>\n",
              "    .dataframe tbody tr th:only-of-type {\n",
              "        vertical-align: middle;\n",
              "    }\n",
              "\n",
              "    .dataframe tbody tr th {\n",
              "        vertical-align: top;\n",
              "    }\n",
              "\n",
              "    .dataframe thead th {\n",
              "        text-align: right;\n",
              "    }\n",
              "</style>\n",
              "<table border=\"1\" class=\"dataframe\">\n",
              "  <thead>\n",
              "    <tr style=\"text-align: right;\">\n",
              "      <th></th>\n",
              "      <th>Concatenate</th>\n",
              "      <th>Country Id</th>\n",
              "      <th>Country Name</th>\n",
              "      <th>Auditor Id</th>\n",
              "      <th>Resource Name</th>\n",
              "      <th>SMS Id</th>\n",
              "      <th>Instruction Id</th>\n",
              "      <th>Category Id</th>\n",
              "      <th>Category Name</th>\n",
              "      <th>Module Name</th>\n",
              "      <th>Entity Id</th>\n",
              "      <th>Bar Code</th>\n",
              "      <th>Product Description</th>\n",
              "      <th>Visit Date</th>\n",
              "      <th>Audit Status</th>\n",
              "      <th>Original Fact Value</th>\n",
              "      <th>Cluster Id</th>\n",
              "      <th>alternate audit methodology</th>\n",
              "      <th>Price To Retailer</th>\n",
              "      <th>RSP/Price</th>\n",
              "      <th>PREIVIOUS STOCK</th>\n",
              "      <th>Shop/Front Stock</th>\n",
              "      <th>Other Stock</th>\n",
              "      <th>Direct Purchase(Pur1)</th>\n",
              "      <th>Double Count</th>\n",
              "      <th>Goods Returned</th>\n",
              "      <th>Missing invoice(Pur3)</th>\n",
              "      <th>Missing Stock</th>\n",
              "      <th>Sales</th>\n",
              "      <th>Sales_W4&amp;5</th>\n",
              "      <th>Sales_W3</th>\n",
              "      <th>Sales_W2</th>\n",
              "      <th>Item Comment</th>\n",
              "      <th>Stock</th>\n",
              "      <th>Purchase</th>\n",
              "    </tr>\n",
              "  </thead>\n",
              "  <tbody>\n",
              "    <tr>\n",
              "      <th>0</th>\n",
              "      <td>1609895Dji Sam Soe Soft Plain 12 Stc (Sktb)</td>\n",
              "      <td>360</td>\n",
              "      <td>INDONESIA</td>\n",
              "      <td>316595</td>\n",
              "      <td>Supri Yanto</td>\n",
              "      <td>1609895</td>\n",
              "      <td>5433835</td>\n",
              "      <td>198107565</td>\n",
              "      <td>CIGARETTE</td>\n",
              "      <td>CIGARETTE</td>\n",
              "      <td>73047810</td>\n",
              "      <td>8999909028234</td>\n",
              "      <td>Dji Sam Soe Soft Plain 12 Stc (Sktb)</td>\n",
              "      <td>2021-09-02</td>\n",
              "      <td>AUDIT COMPLETE</td>\n",
              "      <td>(blank)</td>\n",
              "      <td>742047</td>\n",
              "      <td>0.0</td>\n",
              "      <td>15800.0</td>\n",
              "      <td>18000.0</td>\n",
              "      <td>2.0</td>\n",
              "      <td>1.0</td>\n",
              "      <td>0.0</td>\n",
              "      <td>0.0</td>\n",
              "      <td>0.0</td>\n",
              "      <td>0.0</td>\n",
              "      <td>40.0</td>\n",
              "      <td>0.0</td>\n",
              "      <td>41</td>\n",
              "      <td>21.0</td>\n",
              "      <td>20.0</td>\n",
              "      <td>22.0</td>\n",
              "      <td>COVID - Sales naik, banyak permintaan produk/k...</td>\n",
              "      <td>1.0</td>\n",
              "      <td>40.0</td>\n",
              "    </tr>\n",
              "    <tr>\n",
              "      <th>1</th>\n",
              "      <td>1609895Apache Brown Soft Plain 12 Stc (Sktb)</td>\n",
              "      <td>360</td>\n",
              "      <td>INDONESIA</td>\n",
              "      <td>316595</td>\n",
              "      <td>Supri Yanto</td>\n",
              "      <td>1609895</td>\n",
              "      <td>5433835</td>\n",
              "      <td>198107565</td>\n",
              "      <td>CIGARETTE</td>\n",
              "      <td>CIGARETTE</td>\n",
              "      <td>73051466</td>\n",
              "      <td>8994729400178</td>\n",
              "      <td>Apache Brown Soft Plain 12 Stc (Sktb)</td>\n",
              "      <td>2021-09-02</td>\n",
              "      <td>AUDIT COMPLETE</td>\n",
              "      <td>(blank)</td>\n",
              "      <td>742047</td>\n",
              "      <td>0.0</td>\n",
              "      <td>9000.0</td>\n",
              "      <td>10000.0</td>\n",
              "      <td>0.0</td>\n",
              "      <td>1.0</td>\n",
              "      <td>0.0</td>\n",
              "      <td>0.0</td>\n",
              "      <td>0.0</td>\n",
              "      <td>0.0</td>\n",
              "      <td>10.0</td>\n",
              "      <td>0.0</td>\n",
              "      <td>9</td>\n",
              "      <td>3.0</td>\n",
              "      <td>10.0</td>\n",
              "      <td>22.0</td>\n",
              "      <td>COVID - Sales naik, banyak permintaan produk/k...</td>\n",
              "      <td>1.0</td>\n",
              "      <td>10.0</td>\n",
              "    </tr>\n",
              "    <tr>\n",
              "      <th>2</th>\n",
              "      <td>1609895Gudang Garam Red Soft Kspl 12 Stc (Sktb)</td>\n",
              "      <td>360</td>\n",
              "      <td>INDONESIA</td>\n",
              "      <td>316595</td>\n",
              "      <td>Supri Yanto</td>\n",
              "      <td>1609895</td>\n",
              "      <td>5433835</td>\n",
              "      <td>198107565</td>\n",
              "      <td>CIGARETTE</td>\n",
              "      <td>CIGARETTE</td>\n",
              "      <td>73104371</td>\n",
              "      <td>8998989501125</td>\n",
              "      <td>Gudang Garam Red Soft Kspl 12 Stc (Sktb)</td>\n",
              "      <td>2021-09-02</td>\n",
              "      <td>AUDIT COMPLETE</td>\n",
              "      <td>(blank)</td>\n",
              "      <td>742047</td>\n",
              "      <td>0.0</td>\n",
              "      <td>12200.0</td>\n",
              "      <td>13000.0</td>\n",
              "      <td>2.0</td>\n",
              "      <td>2.0</td>\n",
              "      <td>0.0</td>\n",
              "      <td>0.0</td>\n",
              "      <td>0.0</td>\n",
              "      <td>0.0</td>\n",
              "      <td>40.0</td>\n",
              "      <td>0.0</td>\n",
              "      <td>40</td>\n",
              "      <td>30.0</td>\n",
              "      <td>26.0</td>\n",
              "      <td>17.0</td>\n",
              "      <td>COVID - Sales naik, banyak permintaan produk/k...</td>\n",
              "      <td>2.0</td>\n",
              "      <td>40.0</td>\n",
              "    </tr>\n",
              "    <tr>\n",
              "      <th>3</th>\n",
              "      <td>1609895Sampoerna 'A' Hijau Edisi Khusus Box Pl...</td>\n",
              "      <td>360</td>\n",
              "      <td>INDONESIA</td>\n",
              "      <td>316595</td>\n",
              "      <td>Supri Yanto</td>\n",
              "      <td>1609895</td>\n",
              "      <td>5433835</td>\n",
              "      <td>198107565</td>\n",
              "      <td>CIGARETTE</td>\n",
              "      <td>CIGARETTE</td>\n",
              "      <td>73203844</td>\n",
              "      <td>8999909000988</td>\n",
              "      <td>Sampoerna 'A' Hijau Edisi Khusus Box Plain 10+...</td>\n",
              "      <td>2021-09-02</td>\n",
              "      <td>AUDIT COMPLETE</td>\n",
              "      <td>(blank)</td>\n",
              "      <td>742047</td>\n",
              "      <td>0.0</td>\n",
              "      <td>11600.0</td>\n",
              "      <td>13000.0</td>\n",
              "      <td>2.0</td>\n",
              "      <td>2.0</td>\n",
              "      <td>0.0</td>\n",
              "      <td>0.0</td>\n",
              "      <td>0.0</td>\n",
              "      <td>0.0</td>\n",
              "      <td>40.0</td>\n",
              "      <td>0.0</td>\n",
              "      <td>40</td>\n",
              "      <td>21.0</td>\n",
              "      <td>21.0</td>\n",
              "      <td>21.0</td>\n",
              "      <td>COVID - Sales naik, banyak permintaan produk/k...</td>\n",
              "      <td>2.0</td>\n",
              "      <td>40.0</td>\n",
              "    </tr>\n",
              "    <tr>\n",
              "      <th>4</th>\n",
              "      <td>1609895Djarum Istimewa Soft Coklat Plain 12 St...</td>\n",
              "      <td>360</td>\n",
              "      <td>INDONESIA</td>\n",
              "      <td>316595</td>\n",
              "      <td>Supri Yanto</td>\n",
              "      <td>1609895</td>\n",
              "      <td>5433835</td>\n",
              "      <td>198107565</td>\n",
              "      <td>CIGARETTE</td>\n",
              "      <td>CIGARETTE</td>\n",
              "      <td>73316560</td>\n",
              "      <td>8991906101651</td>\n",
              "      <td>Djarum Istimewa Soft Coklat Plain 12 Stc (Sktb)</td>\n",
              "      <td>2021-09-02</td>\n",
              "      <td>AUDIT COMPLETE</td>\n",
              "      <td>(blank)</td>\n",
              "      <td>742047</td>\n",
              "      <td>0.0</td>\n",
              "      <td>12100.0</td>\n",
              "      <td>13000.0</td>\n",
              "      <td>5.0</td>\n",
              "      <td>2.0</td>\n",
              "      <td>0.0</td>\n",
              "      <td>0.0</td>\n",
              "      <td>0.0</td>\n",
              "      <td>0.0</td>\n",
              "      <td>200.0</td>\n",
              "      <td>0.0</td>\n",
              "      <td>203</td>\n",
              "      <td>50.0</td>\n",
              "      <td>98.0</td>\n",
              "      <td>22.0</td>\n",
              "      <td>COVID - Sales naik, banyak permintaan produk/k...</td>\n",
              "      <td>2.0</td>\n",
              "      <td>200.0</td>\n",
              "    </tr>\n",
              "  </tbody>\n",
              "</table>\n",
              "</div>"
            ],
            "text/plain": [
              "                                         Concatenate  ...  Purchase\n",
              "0        1609895Dji Sam Soe Soft Plain 12 Stc (Sktb)  ...      40.0\n",
              "1       1609895Apache Brown Soft Plain 12 Stc (Sktb)  ...      10.0\n",
              "2    1609895Gudang Garam Red Soft Kspl 12 Stc (Sktb)  ...      40.0\n",
              "3  1609895Sampoerna 'A' Hijau Edisi Khusus Box Pl...  ...      40.0\n",
              "4  1609895Djarum Istimewa Soft Coklat Plain 12 St...  ...     200.0\n",
              "\n",
              "[5 rows x 35 columns]"
            ]
          },
          "metadata": {},
          "execution_count": 1964
        }
      ]
    },
    {
      "cell_type": "code",
      "metadata": {
        "id": "vcYRAtphDpP8"
      },
      "source": [
        "RA4 = RA4.drop(['Country Id', 'Country Name', 'Auditor Id', 'Resource Name','Instruction Id', \n",
        "            'Category Id', 'Category Name', 'Module Name','Entity Id','Original Fact Value',\n",
        "            'Cluster Id','alternate audit methodology','Shop/Front Stock','Other Stock',\n",
        "            'Direct Purchase(Pur1)','Double Count', 'Goods Returned', 'Missing invoice(Pur3)',\n",
        "            'Missing Stock','PREIVIOUS STOCK','Audit Status'], axis=1)"
      ],
      "execution_count": 1965,
      "outputs": []
    },
    {
      "cell_type": "code",
      "metadata": {
        "id": "vj3YJurHMUZ3"
      },
      "source": [
        "RA4 = RA4.rename(columns = {'Price To Retailer':'RBP', \n",
        "                            'Sales':'Claimed_Sales_RA4(di_RA4)',\n",
        "                            'Sales_W2':'Claimed_Sales_RA1(di_RA4)',\n",
        "                            'Sales_W3':'Claimed_Sales_RA2(di_RA4)',\n",
        "                            'Sales_W4&5':'Claimed_Sales_RA3(di_RA4)',\n",
        "                            'Item Comment':'Comment_RA4'})"
      ],
      "execution_count": 1966,
      "outputs": []
    },
    {
      "cell_type": "code",
      "metadata": {
        "colab": {
          "base_uri": "https://localhost:8080/",
          "height": 51
        },
        "id": "mg6UMDvUDpP8",
        "outputId": "46615d5b-1bba-4486-cdec-b69940c3c5e4"
      },
      "source": [
        "'''new_RA3 = RA3[['SMS Id','Visit Date']].drop_duplicates()\n",
        "new_RA3.columns = new_RA3.columns.str.replace('Visit Date', 'Prev_Visit Date')\n",
        "new2_RA3 = RA3[['Concatenate','Stock']]\n",
        "new2_RA3.columns = new2_RA3.columns.str.replace('Stock', 'Prev_Stock')'''"
      ],
      "execution_count": 1967,
      "outputs": [
        {
          "output_type": "execute_result",
          "data": {
            "application/vnd.google.colaboratory.intrinsic+json": {
              "type": "string"
            },
            "text/plain": [
              "\"new_RA3 = RA3[['SMS Id','Visit Date']].drop_duplicates()\\nnew_RA3.columns = new_RA3.columns.str.replace('Visit Date', 'Prev_Visit Date')\\nnew2_RA3 = RA3[['Concatenate','Stock']]\\nnew2_RA3.columns = new2_RA3.columns.str.replace('Stock', 'Prev_Stock')\""
            ]
          },
          "metadata": {},
          "execution_count": 1967
        }
      ]
    },
    {
      "cell_type": "code",
      "metadata": {
        "colab": {
          "base_uri": "https://localhost:8080/",
          "height": 35
        },
        "id": "fSWAwpy5DpP9",
        "outputId": "3e485cec-1323-4d70-b471-ac75f96c6380"
      },
      "source": [
        "'''RA4 = RA4.merge(new_RA3, on='SMS Id')\n",
        "RA4 = RA4.merge(new2_RA3, on='Concatenate')'''"
      ],
      "execution_count": 1968,
      "outputs": [
        {
          "output_type": "execute_result",
          "data": {
            "application/vnd.google.colaboratory.intrinsic+json": {
              "type": "string"
            },
            "text/plain": [
              "\"RA4 = RA4.merge(new_RA3, on='SMS Id')\\nRA4 = RA4.merge(new2_RA3, on='Concatenate')\""
            ]
          },
          "metadata": {},
          "execution_count": 1968
        }
      ]
    },
    {
      "cell_type": "code",
      "metadata": {
        "id": "qwFfvDx9DpP9"
      },
      "source": [
        "#RA4.head()"
      ],
      "execution_count": 1969,
      "outputs": []
    },
    {
      "cell_type": "code",
      "metadata": {
        "id": "Tl3tj0YKDpP9"
      },
      "source": [
        "#RA4['Recheck_Sales'] = RA4['Prev_Stock']+RA4['Purchase']-RA4['Stock']"
      ],
      "execution_count": 1970,
      "outputs": []
    },
    {
      "cell_type": "code",
      "metadata": {
        "id": "FrtsaNrjDpP-"
      },
      "source": [
        "#RA4[RA4['Recheck_Sales']-RA4['Sales']!=0]"
      ],
      "execution_count": 1971,
      "outputs": []
    },
    {
      "cell_type": "code",
      "metadata": {
        "id": "O1yTGCAIDpP-"
      },
      "source": [
        "# membuat format untuk di merge dengan table lainnya\n",
        "m_RA4 = RA4.copy()\n",
        "# mengganti nama kolom agar sesuai dengan yg diinginkan\n",
        "m_RA4.columns = m_RA4.columns.str.replace(\n",
        "    'Visit Date', 'RA4').str.replace(\n",
        "        'RBP', 'RBP_RA4').str.replace(\n",
        "            'RSP/Price','RSP_RA4').str.replace(\n",
        "                'Stock','Stock_RA4').str.replace(\n",
        "                    'Purchase','Purchase_RA4')"
      ],
      "execution_count": 1972,
      "outputs": []
    },
    {
      "cell_type": "markdown",
      "metadata": {
        "id": "DRiXE-zPVTpf"
      },
      "source": [
        "## Merge Data Retail Audit into 1 Dataframe"
      ]
    },
    {
      "cell_type": "markdown",
      "metadata": {
        "id": "eXbkC-wwqzeP"
      },
      "source": [
        "### Merge DataFrame IA dan RA1"
      ]
    },
    {
      "cell_type": "code",
      "metadata": {
        "id": "MleuCgYarQKc"
      },
      "source": [
        "inner = pd.merge(m_IA, m_RA1[['RA1','RBP_RA1', 'RSP_RA1', 'Stock_RA1', 'Purchase_RA1',\n",
        "       'Concatenate']], on=\"Concatenate\", how=\"inner\")\n",
        "left = pd.merge(m_IA, m_RA1[['RA1','RBP_RA1', 'RSP_RA1', 'Stock_RA1', 'Purchase_RA1',\n",
        "       'Concatenate']], on=\"Concatenate\", how=\"left\", indicator=True)\n",
        "right = pd.merge(m_IA[['IA','RBP_IA','RSP_IA','Stock_IA','Concatenate']], m_RA1, on=\"Concatenate\", how=\"right\", indicator=True)"
      ],
      "execution_count": 1973,
      "outputs": []
    },
    {
      "cell_type": "code",
      "metadata": {
        "id": "GaMWwJnFFnun"
      },
      "source": [
        "df_merge = inner.append(left[left['_merge']=='left_only'], ignore_index = True)\n",
        "df_merge = df_merge.append(right[right['_merge']=='right_only'], ignore_index = True)"
      ],
      "execution_count": 1974,
      "outputs": []
    },
    {
      "cell_type": "code",
      "metadata": {
        "colab": {
          "base_uri": "https://localhost:8080/"
        },
        "id": "3xYJmZ_whBtO",
        "outputId": "5d65384c-4f93-44af-ec02-71532744b8a8"
      },
      "source": [
        "df_merge = df_merge.drop('_merge', axis=1)\n",
        "df_merge.shape"
      ],
      "execution_count": 1975,
      "outputs": [
        {
          "output_type": "execute_result",
          "data": {
            "text/plain": [
              "(1924, 14)"
            ]
          },
          "metadata": {},
          "execution_count": 1975
        }
      ]
    },
    {
      "cell_type": "markdown",
      "metadata": {
        "id": "Xa_JM-ipMbob"
      },
      "source": [
        "### Merge DataFrame IA+RA1 dan RA2"
      ]
    },
    {
      "cell_type": "code",
      "metadata": {
        "id": "PmF0NLN1qxQv"
      },
      "source": [
        "inner = pd.merge(df_merge, m_RA2[['Concatenate','RA2','RBP_RA2', 'RSP_RA2', 'Stock_RA2', 'Purchase_RA2', \n",
        "                                  'Claimed_Sales_RA1(di_RA2)', 'Claimed_Sales_RA2(di_RA2)', 'Comment_RA2']], \n",
        "                 on=\"Concatenate\", how=\"inner\")\n",
        "left = pd.merge(df_merge, m_RA2[['Concatenate','RA2','RBP_RA2', 'RSP_RA2', 'Stock_RA2', 'Purchase_RA2', \n",
        "                                 'Claimed_Sales_RA1(di_RA2)', 'Claimed_Sales_RA2(di_RA2)', 'Comment_RA2']], \n",
        "                on=\"Concatenate\", how=\"left\", indicator=True)\n",
        "right = pd.merge(df_merge[['Concatenate','IA','RBP_IA','RSP_IA','Stock_IA','RA1','RBP_RA1', 'RSP_RA1', 'Stock_RA1', 'Purchase_RA1']], \n",
        "                 m_RA2, on=\"Concatenate\", how=\"right\", indicator=True)"
      ],
      "execution_count": 1976,
      "outputs": []
    },
    {
      "cell_type": "code",
      "metadata": {
        "colab": {
          "base_uri": "https://localhost:8080/"
        },
        "id": "D8QwIBGEeUJa",
        "outputId": "5d6a0cc7-2ad9-4ec7-fed8-91a42bdaa499"
      },
      "source": [
        "inner.shape"
      ],
      "execution_count": 1977,
      "outputs": [
        {
          "output_type": "execute_result",
          "data": {
            "text/plain": [
              "(1693, 22)"
            ]
          },
          "metadata": {},
          "execution_count": 1977
        }
      ]
    },
    {
      "cell_type": "code",
      "metadata": {
        "colab": {
          "base_uri": "https://localhost:8080/"
        },
        "id": "QjZMaxn7elX7",
        "outputId": "6087426d-f615-4b10-f25b-3f069654f818"
      },
      "source": [
        "left[left['_merge']=='left_only'].shape"
      ],
      "execution_count": 1978,
      "outputs": [
        {
          "output_type": "execute_result",
          "data": {
            "text/plain": [
              "(231, 23)"
            ]
          },
          "metadata": {},
          "execution_count": 1978
        }
      ]
    },
    {
      "cell_type": "code",
      "metadata": {
        "colab": {
          "base_uri": "https://localhost:8080/"
        },
        "id": "iepC_x88eqV5",
        "outputId": "7d04c3ad-a0ae-4ca8-e759-909311879991"
      },
      "source": [
        "right[right['_merge']=='right_only'].shape"
      ],
      "execution_count": 1979,
      "outputs": [
        {
          "output_type": "execute_result",
          "data": {
            "text/plain": [
              "(56, 22)"
            ]
          },
          "metadata": {},
          "execution_count": 1979
        }
      ]
    },
    {
      "cell_type": "code",
      "metadata": {
        "id": "0W4--WJVNhc6"
      },
      "source": [
        "df_merge = inner.append(left[left['_merge']=='left_only'], ignore_index = True)\n",
        "df_merge = df_merge.append(right[right['_merge']=='right_only'], ignore_index = True)"
      ],
      "execution_count": 1980,
      "outputs": []
    },
    {
      "cell_type": "code",
      "metadata": {
        "colab": {
          "base_uri": "https://localhost:8080/"
        },
        "id": "1nOEb0OCU84X",
        "outputId": "2881203e-c33e-41d5-8d43-7710801eb50a"
      },
      "source": [
        "df_merge = df_merge.drop('_merge', axis=1)\n",
        "df_merge.shape"
      ],
      "execution_count": 1981,
      "outputs": [
        {
          "output_type": "execute_result",
          "data": {
            "text/plain": [
              "(1980, 22)"
            ]
          },
          "metadata": {},
          "execution_count": 1981
        }
      ]
    },
    {
      "cell_type": "markdown",
      "metadata": {
        "id": "9RfEDrDpU7k7"
      },
      "source": [
        "### Merge DataFrame IA+RA1+RA2 dan RA3"
      ]
    },
    {
      "cell_type": "code",
      "metadata": {
        "colab": {
          "base_uri": "https://localhost:8080/"
        },
        "id": "rmjLqCi5AiVi",
        "outputId": "8d5c2d36-4667-4eb1-9d92-c5dce129c960"
      },
      "source": [
        "m_RA3.columns"
      ],
      "execution_count": 1982,
      "outputs": [
        {
          "output_type": "execute_result",
          "data": {
            "text/plain": [
              "Index(['Concatenate', 'SMS Id', 'Bar Code', 'Product Description', 'RA3',\n",
              "       'RBP_RA3', 'RSP_RA3', 'Claimed_Sales_RA3(di_RA3)',\n",
              "       'Claimed_Sales_RA2(di_RA3)', 'Claimed_Sales_RA1(di_RA3)', 'Comment_RA3',\n",
              "       'Stock_RA3', 'Purchase_RA3'],\n",
              "      dtype='object')"
            ]
          },
          "metadata": {},
          "execution_count": 1982
        }
      ]
    },
    {
      "cell_type": "code",
      "metadata": {
        "id": "DHGUjrlJU_27"
      },
      "source": [
        "inner = pd.merge(df_merge, \n",
        "                 m_RA3[['Concatenate','RA3','RBP_RA3', 'RSP_RA3', 'Stock_RA3', 'Purchase_RA3', \n",
        "                        'Claimed_Sales_RA1(di_RA3)', 'Claimed_Sales_RA2(di_RA3)','Claimed_Sales_RA3(di_RA3)','Comment_RA3']],\n",
        "                 on=\"Concatenate\", how=\"inner\")\n",
        "left = pd.merge(df_merge, \n",
        "                m_RA3[['Concatenate','RA3','RBP_RA3', 'RSP_RA3', 'Stock_RA3', 'Purchase_RA3', \n",
        "                       'Claimed_Sales_RA1(di_RA3)', 'Claimed_Sales_RA2(di_RA3)','Claimed_Sales_RA3(di_RA3)','Comment_RA3']], \n",
        "                on=\"Concatenate\", how=\"left\", indicator=True)\n",
        "right = pd.merge(df_merge[['Concatenate','IA','RBP_IA','RSP_IA','Stock_IA',\n",
        "                           'RA1','RBP_RA1', 'RSP_RA1', 'Stock_RA1', 'Purchase_RA1',\n",
        "                           'RA2','RBP_RA2', 'RSP_RA2', 'Stock_RA2', 'Purchase_RA2','Claimed_Sales_RA1(di_RA2)','Claimed_Sales_RA2(di_RA2)','Comment_RA2']], \n",
        "                 m_RA3, on=\"Concatenate\", how=\"right\", indicator=True)"
      ],
      "execution_count": 1983,
      "outputs": []
    },
    {
      "cell_type": "code",
      "metadata": {
        "id": "qfR9LosMYQT6"
      },
      "source": [
        "df_merge = inner.append(left[left['_merge']=='left_only'], ignore_index = True)\n",
        "df_merge = df_merge.append(right[right['_merge']=='right_only'], ignore_index = True)"
      ],
      "execution_count": 1984,
      "outputs": []
    },
    {
      "cell_type": "code",
      "metadata": {
        "colab": {
          "base_uri": "https://localhost:8080/",
          "height": 0
        },
        "id": "nDKuEvF0PaHy",
        "outputId": "37b7fa87-81d3-4caf-8420-b7a433f2789a"
      },
      "source": [
        "df_merge.head()"
      ],
      "execution_count": 1985,
      "outputs": [
        {
          "output_type": "execute_result",
          "data": {
            "text/html": [
              "<div>\n",
              "<style scoped>\n",
              "    .dataframe tbody tr th:only-of-type {\n",
              "        vertical-align: middle;\n",
              "    }\n",
              "\n",
              "    .dataframe tbody tr th {\n",
              "        vertical-align: top;\n",
              "    }\n",
              "\n",
              "    .dataframe thead th {\n",
              "        text-align: right;\n",
              "    }\n",
              "</style>\n",
              "<table border=\"1\" class=\"dataframe\">\n",
              "  <thead>\n",
              "    <tr style=\"text-align: right;\">\n",
              "      <th></th>\n",
              "      <th>Concatenate</th>\n",
              "      <th>SMS Id</th>\n",
              "      <th>Bar Code</th>\n",
              "      <th>Product Description</th>\n",
              "      <th>IA</th>\n",
              "      <th>RBP_IA</th>\n",
              "      <th>RSP_IA</th>\n",
              "      <th>Stock_IA</th>\n",
              "      <th>RA1</th>\n",
              "      <th>RBP_RA1</th>\n",
              "      <th>RSP_RA1</th>\n",
              "      <th>Stock_RA1</th>\n",
              "      <th>Purchase_RA1</th>\n",
              "      <th>Sales</th>\n",
              "      <th>RA2</th>\n",
              "      <th>RBP_RA2</th>\n",
              "      <th>RSP_RA2</th>\n",
              "      <th>Stock_RA2</th>\n",
              "      <th>Purchase_RA2</th>\n",
              "      <th>Claimed_Sales_RA1(di_RA2)</th>\n",
              "      <th>Claimed_Sales_RA2(di_RA2)</th>\n",
              "      <th>Comment_RA2</th>\n",
              "      <th>RA3</th>\n",
              "      <th>RBP_RA3</th>\n",
              "      <th>RSP_RA3</th>\n",
              "      <th>Stock_RA3</th>\n",
              "      <th>Purchase_RA3</th>\n",
              "      <th>Claimed_Sales_RA1(di_RA3)</th>\n",
              "      <th>Claimed_Sales_RA2(di_RA3)</th>\n",
              "      <th>Claimed_Sales_RA3(di_RA3)</th>\n",
              "      <th>Comment_RA3</th>\n",
              "      <th>_merge</th>\n",
              "    </tr>\n",
              "  </thead>\n",
              "  <tbody>\n",
              "    <tr>\n",
              "      <th>0</th>\n",
              "      <td>1609986Gudang Garam Red Soft Kspl 12 Stc (Sktb)</td>\n",
              "      <td>1609986</td>\n",
              "      <td>8998989501125</td>\n",
              "      <td>Gudang Garam Red Soft Kspl 12 Stc (Sktb)</td>\n",
              "      <td>2021-07-26</td>\n",
              "      <td>12500.0</td>\n",
              "      <td>13000.0</td>\n",
              "      <td>20.0</td>\n",
              "      <td>2021-08-02</td>\n",
              "      <td>12500.0</td>\n",
              "      <td>13000.0</td>\n",
              "      <td>3.0</td>\n",
              "      <td>0.0</td>\n",
              "      <td>NaN</td>\n",
              "      <td>2021-08-10</td>\n",
              "      <td>12500.0</td>\n",
              "      <td>13000.0</td>\n",
              "      <td>3.0</td>\n",
              "      <td>17.0</td>\n",
              "      <td>17.0</td>\n",
              "      <td>17.0</td>\n",
              "      <td>0</td>\n",
              "      <td>2021-08-18</td>\n",
              "      <td>12500.0</td>\n",
              "      <td>13000.0</td>\n",
              "      <td>3.0</td>\n",
              "      <td>20.0</td>\n",
              "      <td>17.0</td>\n",
              "      <td>17.0</td>\n",
              "      <td>20.0</td>\n",
              "      <td>COVID - Sales naik, banyak permintaan produk/k...</td>\n",
              "      <td>NaN</td>\n",
              "    </tr>\n",
              "    <tr>\n",
              "      <th>1</th>\n",
              "      <td>1610014Dji Sam Soe Soft Plain 12 Stc (Sktb)</td>\n",
              "      <td>1610014</td>\n",
              "      <td>8999909028234</td>\n",
              "      <td>Dji Sam Soe Soft Plain 12 Stc (Sktb)</td>\n",
              "      <td>2021-07-26</td>\n",
              "      <td>16500.0</td>\n",
              "      <td>18000.0</td>\n",
              "      <td>4.0</td>\n",
              "      <td>2021-08-02</td>\n",
              "      <td>16500.0</td>\n",
              "      <td>18000.0</td>\n",
              "      <td>4.0</td>\n",
              "      <td>4.0</td>\n",
              "      <td>NaN</td>\n",
              "      <td>2021-08-12</td>\n",
              "      <td>16500.0</td>\n",
              "      <td>17000.0</td>\n",
              "      <td>4.0</td>\n",
              "      <td>0.0</td>\n",
              "      <td>4.0</td>\n",
              "      <td>0.0</td>\n",
              "      <td>0</td>\n",
              "      <td>2021-08-19</td>\n",
              "      <td>16500.0</td>\n",
              "      <td>17000.0</td>\n",
              "      <td>4.0</td>\n",
              "      <td>0.0</td>\n",
              "      <td>4.0</td>\n",
              "      <td>0.0</td>\n",
              "      <td>0.0</td>\n",
              "      <td>0</td>\n",
              "      <td>NaN</td>\n",
              "    </tr>\n",
              "    <tr>\n",
              "      <th>2</th>\n",
              "      <td>1610908Dji Sam Soe Soft Plain 12 Stc (Sktb)</td>\n",
              "      <td>1610908</td>\n",
              "      <td>8999909028234</td>\n",
              "      <td>Dji Sam Soe Soft Plain 12 Stc (Sktb)</td>\n",
              "      <td>2021-07-26</td>\n",
              "      <td>16500.0</td>\n",
              "      <td>18000.0</td>\n",
              "      <td>5.0</td>\n",
              "      <td>2021-08-03</td>\n",
              "      <td>16000.0</td>\n",
              "      <td>18000.0</td>\n",
              "      <td>10.0</td>\n",
              "      <td>10.0</td>\n",
              "      <td>NaN</td>\n",
              "      <td>2021-08-09</td>\n",
              "      <td>16000.0</td>\n",
              "      <td>18000.0</td>\n",
              "      <td>10.0</td>\n",
              "      <td>10.0</td>\n",
              "      <td>5.0</td>\n",
              "      <td>10.0</td>\n",
              "      <td>COVID - Sales naik, banyak permintaan produk/k...</td>\n",
              "      <td>2021-08-18</td>\n",
              "      <td>15850.0</td>\n",
              "      <td>18000.0</td>\n",
              "      <td>10.0</td>\n",
              "      <td>30.0</td>\n",
              "      <td>5.0</td>\n",
              "      <td>10.0</td>\n",
              "      <td>30.0</td>\n",
              "      <td>COVID - Sales naik, banyak permintaan produk/k...</td>\n",
              "      <td>NaN</td>\n",
              "    </tr>\n",
              "    <tr>\n",
              "      <th>3</th>\n",
              "      <td>1610908Panamas 1 Soft Plain 12 Stc (Sktb)</td>\n",
              "      <td>1610908</td>\n",
              "      <td>8999909039124</td>\n",
              "      <td>Panamas 1 Soft Plain 12 Stc (Sktb)</td>\n",
              "      <td>2021-07-26</td>\n",
              "      <td>12500.0</td>\n",
              "      <td>14000.0</td>\n",
              "      <td>10.0</td>\n",
              "      <td>2021-08-03</td>\n",
              "      <td>12500.0</td>\n",
              "      <td>14000.0</td>\n",
              "      <td>10.0</td>\n",
              "      <td>0.0</td>\n",
              "      <td>NaN</td>\n",
              "      <td>2021-08-09</td>\n",
              "      <td>12500.0</td>\n",
              "      <td>14000.0</td>\n",
              "      <td>10.0</td>\n",
              "      <td>10.0</td>\n",
              "      <td>0.0</td>\n",
              "      <td>10.0</td>\n",
              "      <td>COVID - Sales naik, banyak permintaan produk/k...</td>\n",
              "      <td>2021-08-18</td>\n",
              "      <td>12500.0</td>\n",
              "      <td>14000.0</td>\n",
              "      <td>10.0</td>\n",
              "      <td>60.0</td>\n",
              "      <td>0.0</td>\n",
              "      <td>10.0</td>\n",
              "      <td>60.0</td>\n",
              "      <td>COVID - Sales naik, banyak permintaan produk/k...</td>\n",
              "      <td>NaN</td>\n",
              "    </tr>\n",
              "    <tr>\n",
              "      <th>4</th>\n",
              "      <td>1610908Djarum Istimewa Soft Coklat Plain 12 St...</td>\n",
              "      <td>1610908</td>\n",
              "      <td>8991906101651</td>\n",
              "      <td>Djarum Istimewa Soft Coklat Plain 12 Stc (Sktb)</td>\n",
              "      <td>2021-07-26</td>\n",
              "      <td>12500.0</td>\n",
              "      <td>14000.0</td>\n",
              "      <td>10.0</td>\n",
              "      <td>2021-08-03</td>\n",
              "      <td>12500.0</td>\n",
              "      <td>14000.0</td>\n",
              "      <td>10.0</td>\n",
              "      <td>0.0</td>\n",
              "      <td>NaN</td>\n",
              "      <td>2021-08-09</td>\n",
              "      <td>12500.0</td>\n",
              "      <td>14000.0</td>\n",
              "      <td>10.0</td>\n",
              "      <td>10.0</td>\n",
              "      <td>0.0</td>\n",
              "      <td>10.0</td>\n",
              "      <td>COVID - Sales naik, banyak permintaan produk/k...</td>\n",
              "      <td>2021-08-18</td>\n",
              "      <td>12500.0</td>\n",
              "      <td>14000.0</td>\n",
              "      <td>10.0</td>\n",
              "      <td>30.0</td>\n",
              "      <td>0.0</td>\n",
              "      <td>10.0</td>\n",
              "      <td>30.0</td>\n",
              "      <td>COVID - Sales naik, banyak permintaan produk/k...</td>\n",
              "      <td>NaN</td>\n",
              "    </tr>\n",
              "  </tbody>\n",
              "</table>\n",
              "</div>"
            ],
            "text/plain": [
              "                                         Concatenate  ...  _merge\n",
              "0    1609986Gudang Garam Red Soft Kspl 12 Stc (Sktb)  ...     NaN\n",
              "1        1610014Dji Sam Soe Soft Plain 12 Stc (Sktb)  ...     NaN\n",
              "2        1610908Dji Sam Soe Soft Plain 12 Stc (Sktb)  ...     NaN\n",
              "3          1610908Panamas 1 Soft Plain 12 Stc (Sktb)  ...     NaN\n",
              "4  1610908Djarum Istimewa Soft Coklat Plain 12 St...  ...     NaN\n",
              "\n",
              "[5 rows x 32 columns]"
            ]
          },
          "metadata": {},
          "execution_count": 1985
        }
      ]
    },
    {
      "cell_type": "code",
      "metadata": {
        "colab": {
          "base_uri": "https://localhost:8080/"
        },
        "id": "pAQV9d8MarW5",
        "outputId": "d96b2b45-f404-4d3a-fa10-02532f663bae"
      },
      "source": [
        "df_merge = df_merge.drop('_merge', axis=1)\n",
        "df_merge.shape"
      ],
      "execution_count": 1986,
      "outputs": [
        {
          "output_type": "execute_result",
          "data": {
            "text/plain": [
              "(2437, 31)"
            ]
          },
          "metadata": {},
          "execution_count": 1986
        }
      ]
    },
    {
      "cell_type": "markdown",
      "metadata": {
        "id": "HoOnLI1OEwMn"
      },
      "source": [
        "### Merge DataFrame IA+RA1+RA2+RA3 dan RA4"
      ]
    },
    {
      "cell_type": "code",
      "metadata": {
        "id": "9pJlKrBYEwMn"
      },
      "source": [
        "inner = pd.merge(df_merge, \n",
        "                 m_RA4[['Concatenate','RA4','RBP_RA4', 'RSP_RA4', 'Stock_RA4', 'Purchase_RA4', \n",
        "                        'Claimed_Sales_RA1(di_RA4)', 'Claimed_Sales_RA2(di_RA4)','Claimed_Sales_RA3(di_RA4)','Claimed_Sales_RA4(di_RA4)',\n",
        "                        'Comment_RA4']],\n",
        "                 on=\"Concatenate\", how=\"inner\")\n",
        "left = pd.merge(df_merge, \n",
        "                m_RA4[['Concatenate','RA4','RBP_RA4', 'RSP_RA4', 'Stock_RA4', 'Purchase_RA4', \n",
        "                        'Claimed_Sales_RA1(di_RA4)', 'Claimed_Sales_RA2(di_RA4)','Claimed_Sales_RA3(di_RA4)','Claimed_Sales_RA4(di_RA4)',\n",
        "                        'Comment_RA4']], \n",
        "                on=\"Concatenate\", how=\"left\", indicator=True)\n",
        "right = pd.merge(df_merge[['Concatenate','IA','RBP_IA','RSP_IA','Stock_IA',\n",
        "                           'RA1','RBP_RA1', 'RSP_RA1', 'Stock_RA1', 'Purchase_RA1',\n",
        "                           'RA2','RBP_RA2', 'RSP_RA2', 'Stock_RA2', 'Purchase_RA2','Claimed_Sales_RA1(di_RA2)','Claimed_Sales_RA2(di_RA2)','Comment_RA2',\n",
        "                           'RA3','RBP_RA3', 'RSP_RA3', 'Stock_RA3', 'Purchase_RA3','Claimed_Sales_RA1(di_RA3)','Claimed_Sales_RA2(di_RA3)','Claimed_Sales_RA3(di_RA3)','Comment_RA3']],\n",
        "                 m_RA4, on=\"Concatenate\", how=\"right\", indicator=True)"
      ],
      "execution_count": 1987,
      "outputs": []
    },
    {
      "cell_type": "code",
      "metadata": {
        "id": "zBoGml2ETKHN"
      },
      "source": [
        ""
      ],
      "execution_count": 1987,
      "outputs": []
    },
    {
      "cell_type": "code",
      "metadata": {
        "id": "Q4FhZ_xbEwMo"
      },
      "source": [
        "df_merge = inner.append(left[left['_merge']=='left_only'], ignore_index = True)\n",
        "df_merge = df_merge.append(right[right['_merge']=='right_only'], ignore_index = True)"
      ],
      "execution_count": 1988,
      "outputs": []
    },
    {
      "cell_type": "code",
      "metadata": {
        "colab": {
          "base_uri": "https://localhost:8080/",
          "height": 0
        },
        "id": "K31Bqb63EwMo",
        "outputId": "595c31d6-ade5-4e4a-98d7-9074babe7817"
      },
      "source": [
        "df_merge.head()"
      ],
      "execution_count": 1989,
      "outputs": [
        {
          "output_type": "execute_result",
          "data": {
            "text/html": [
              "<div>\n",
              "<style scoped>\n",
              "    .dataframe tbody tr th:only-of-type {\n",
              "        vertical-align: middle;\n",
              "    }\n",
              "\n",
              "    .dataframe tbody tr th {\n",
              "        vertical-align: top;\n",
              "    }\n",
              "\n",
              "    .dataframe thead th {\n",
              "        text-align: right;\n",
              "    }\n",
              "</style>\n",
              "<table border=\"1\" class=\"dataframe\">\n",
              "  <thead>\n",
              "    <tr style=\"text-align: right;\">\n",
              "      <th></th>\n",
              "      <th>Concatenate</th>\n",
              "      <th>SMS Id</th>\n",
              "      <th>Bar Code</th>\n",
              "      <th>Product Description</th>\n",
              "      <th>IA</th>\n",
              "      <th>RBP_IA</th>\n",
              "      <th>RSP_IA</th>\n",
              "      <th>Stock_IA</th>\n",
              "      <th>RA1</th>\n",
              "      <th>RBP_RA1</th>\n",
              "      <th>RSP_RA1</th>\n",
              "      <th>Stock_RA1</th>\n",
              "      <th>Purchase_RA1</th>\n",
              "      <th>Sales</th>\n",
              "      <th>RA2</th>\n",
              "      <th>RBP_RA2</th>\n",
              "      <th>RSP_RA2</th>\n",
              "      <th>Stock_RA2</th>\n",
              "      <th>Purchase_RA2</th>\n",
              "      <th>Claimed_Sales_RA1(di_RA2)</th>\n",
              "      <th>Claimed_Sales_RA2(di_RA2)</th>\n",
              "      <th>Comment_RA2</th>\n",
              "      <th>RA3</th>\n",
              "      <th>RBP_RA3</th>\n",
              "      <th>RSP_RA3</th>\n",
              "      <th>Stock_RA3</th>\n",
              "      <th>Purchase_RA3</th>\n",
              "      <th>Claimed_Sales_RA1(di_RA3)</th>\n",
              "      <th>Claimed_Sales_RA2(di_RA3)</th>\n",
              "      <th>Claimed_Sales_RA3(di_RA3)</th>\n",
              "      <th>Comment_RA3</th>\n",
              "      <th>RA4</th>\n",
              "      <th>RBP_RA4</th>\n",
              "      <th>RSP_RA4</th>\n",
              "      <th>Stock_RA4</th>\n",
              "      <th>Purchase_RA4</th>\n",
              "      <th>Claimed_Sales_RA1(di_RA4)</th>\n",
              "      <th>Claimed_Sales_RA2(di_RA4)</th>\n",
              "      <th>Claimed_Sales_RA3(di_RA4)</th>\n",
              "      <th>Claimed_Sales_RA4(di_RA4)</th>\n",
              "      <th>Comment_RA4</th>\n",
              "      <th>_merge</th>\n",
              "    </tr>\n",
              "  </thead>\n",
              "  <tbody>\n",
              "    <tr>\n",
              "      <th>0</th>\n",
              "      <td>1609986Gudang Garam Red Soft Kspl 12 Stc (Sktb)</td>\n",
              "      <td>1609986</td>\n",
              "      <td>8998989501125</td>\n",
              "      <td>Gudang Garam Red Soft Kspl 12 Stc (Sktb)</td>\n",
              "      <td>2021-07-26</td>\n",
              "      <td>12500.0</td>\n",
              "      <td>13000.0</td>\n",
              "      <td>20.0</td>\n",
              "      <td>2021-08-02</td>\n",
              "      <td>12500.0</td>\n",
              "      <td>13000.0</td>\n",
              "      <td>3.0</td>\n",
              "      <td>0.0</td>\n",
              "      <td>NaN</td>\n",
              "      <td>2021-08-10</td>\n",
              "      <td>12500.0</td>\n",
              "      <td>13000.0</td>\n",
              "      <td>3.0</td>\n",
              "      <td>17.0</td>\n",
              "      <td>17.0</td>\n",
              "      <td>17.0</td>\n",
              "      <td>0</td>\n",
              "      <td>2021-08-18</td>\n",
              "      <td>12500.0</td>\n",
              "      <td>13000.0</td>\n",
              "      <td>3.0</td>\n",
              "      <td>20.0</td>\n",
              "      <td>17.0</td>\n",
              "      <td>17.0</td>\n",
              "      <td>20.0</td>\n",
              "      <td>COVID - Sales naik, banyak permintaan produk/k...</td>\n",
              "      <td>2021-09-03</td>\n",
              "      <td>12200.0</td>\n",
              "      <td>13000.0</td>\n",
              "      <td>2.0</td>\n",
              "      <td>20.0</td>\n",
              "      <td>17.0</td>\n",
              "      <td>17.0</td>\n",
              "      <td>20.0</td>\n",
              "      <td>21.0</td>\n",
              "      <td>0</td>\n",
              "      <td>NaN</td>\n",
              "    </tr>\n",
              "    <tr>\n",
              "      <th>1</th>\n",
              "      <td>1610908Dji Sam Soe Soft Plain 12 Stc (Sktb)</td>\n",
              "      <td>1610908</td>\n",
              "      <td>8999909028234</td>\n",
              "      <td>Dji Sam Soe Soft Plain 12 Stc (Sktb)</td>\n",
              "      <td>2021-07-26</td>\n",
              "      <td>16500.0</td>\n",
              "      <td>18000.0</td>\n",
              "      <td>5.0</td>\n",
              "      <td>2021-08-03</td>\n",
              "      <td>16000.0</td>\n",
              "      <td>18000.0</td>\n",
              "      <td>10.0</td>\n",
              "      <td>10.0</td>\n",
              "      <td>NaN</td>\n",
              "      <td>2021-08-09</td>\n",
              "      <td>16000.0</td>\n",
              "      <td>18000.0</td>\n",
              "      <td>10.0</td>\n",
              "      <td>10.0</td>\n",
              "      <td>5.0</td>\n",
              "      <td>10.0</td>\n",
              "      <td>COVID - Sales naik, banyak permintaan produk/k...</td>\n",
              "      <td>2021-08-18</td>\n",
              "      <td>15850.0</td>\n",
              "      <td>18000.0</td>\n",
              "      <td>10.0</td>\n",
              "      <td>30.0</td>\n",
              "      <td>5.0</td>\n",
              "      <td>10.0</td>\n",
              "      <td>30.0</td>\n",
              "      <td>COVID - Sales naik, banyak permintaan produk/k...</td>\n",
              "      <td>2021-09-03</td>\n",
              "      <td>15900.0</td>\n",
              "      <td>18000.0</td>\n",
              "      <td>1.0</td>\n",
              "      <td>40.0</td>\n",
              "      <td>5.0</td>\n",
              "      <td>10.0</td>\n",
              "      <td>30.0</td>\n",
              "      <td>49.0</td>\n",
              "      <td>COVID - Sales naik, banyak permintaan produk/k...</td>\n",
              "      <td>NaN</td>\n",
              "    </tr>\n",
              "    <tr>\n",
              "      <th>2</th>\n",
              "      <td>1610908Panamas 1 Soft Plain 12 Stc (Sktb)</td>\n",
              "      <td>1610908</td>\n",
              "      <td>8999909039124</td>\n",
              "      <td>Panamas 1 Soft Plain 12 Stc (Sktb)</td>\n",
              "      <td>2021-07-26</td>\n",
              "      <td>12500.0</td>\n",
              "      <td>14000.0</td>\n",
              "      <td>10.0</td>\n",
              "      <td>2021-08-03</td>\n",
              "      <td>12500.0</td>\n",
              "      <td>14000.0</td>\n",
              "      <td>10.0</td>\n",
              "      <td>0.0</td>\n",
              "      <td>NaN</td>\n",
              "      <td>2021-08-09</td>\n",
              "      <td>12500.0</td>\n",
              "      <td>14000.0</td>\n",
              "      <td>10.0</td>\n",
              "      <td>10.0</td>\n",
              "      <td>0.0</td>\n",
              "      <td>10.0</td>\n",
              "      <td>COVID - Sales naik, banyak permintaan produk/k...</td>\n",
              "      <td>2021-08-18</td>\n",
              "      <td>12500.0</td>\n",
              "      <td>14000.0</td>\n",
              "      <td>10.0</td>\n",
              "      <td>60.0</td>\n",
              "      <td>0.0</td>\n",
              "      <td>10.0</td>\n",
              "      <td>60.0</td>\n",
              "      <td>COVID - Sales naik, banyak permintaan produk/k...</td>\n",
              "      <td>2021-09-03</td>\n",
              "      <td>12500.0</td>\n",
              "      <td>14000.0</td>\n",
              "      <td>1.0</td>\n",
              "      <td>10.0</td>\n",
              "      <td>0.0</td>\n",
              "      <td>10.0</td>\n",
              "      <td>60.0</td>\n",
              "      <td>19.0</td>\n",
              "      <td>COVID - Sales turun karena kekurangan pasokan</td>\n",
              "      <td>NaN</td>\n",
              "    </tr>\n",
              "    <tr>\n",
              "      <th>3</th>\n",
              "      <td>1610908Djarum Istimewa Soft Coklat Plain 12 St...</td>\n",
              "      <td>1610908</td>\n",
              "      <td>8991906101651</td>\n",
              "      <td>Djarum Istimewa Soft Coklat Plain 12 Stc (Sktb)</td>\n",
              "      <td>2021-07-26</td>\n",
              "      <td>12500.0</td>\n",
              "      <td>14000.0</td>\n",
              "      <td>10.0</td>\n",
              "      <td>2021-08-03</td>\n",
              "      <td>12500.0</td>\n",
              "      <td>14000.0</td>\n",
              "      <td>10.0</td>\n",
              "      <td>0.0</td>\n",
              "      <td>NaN</td>\n",
              "      <td>2021-08-09</td>\n",
              "      <td>12500.0</td>\n",
              "      <td>14000.0</td>\n",
              "      <td>10.0</td>\n",
              "      <td>10.0</td>\n",
              "      <td>0.0</td>\n",
              "      <td>10.0</td>\n",
              "      <td>COVID - Sales naik, banyak permintaan produk/k...</td>\n",
              "      <td>2021-08-18</td>\n",
              "      <td>12500.0</td>\n",
              "      <td>14000.0</td>\n",
              "      <td>10.0</td>\n",
              "      <td>30.0</td>\n",
              "      <td>0.0</td>\n",
              "      <td>10.0</td>\n",
              "      <td>30.0</td>\n",
              "      <td>COVID - Sales naik, banyak permintaan produk/k...</td>\n",
              "      <td>2021-09-03</td>\n",
              "      <td>12500.0</td>\n",
              "      <td>14000.0</td>\n",
              "      <td>1.0</td>\n",
              "      <td>10.0</td>\n",
              "      <td>0.0</td>\n",
              "      <td>10.0</td>\n",
              "      <td>30.0</td>\n",
              "      <td>19.0</td>\n",
              "      <td>COVID - Sales turun karena kekurangan pasokan</td>\n",
              "      <td>NaN</td>\n",
              "    </tr>\n",
              "    <tr>\n",
              "      <th>4</th>\n",
              "      <td>1610908Gudang Garam Red Soft Kspl 12 Stc (Sktb)</td>\n",
              "      <td>1610908</td>\n",
              "      <td>8998989501125</td>\n",
              "      <td>Gudang Garam Red Soft Kspl 12 Stc (Sktb)</td>\n",
              "      <td>2021-07-26</td>\n",
              "      <td>12500.0</td>\n",
              "      <td>14000.0</td>\n",
              "      <td>10.0</td>\n",
              "      <td>2021-08-03</td>\n",
              "      <td>12500.0</td>\n",
              "      <td>14000.0</td>\n",
              "      <td>10.0</td>\n",
              "      <td>0.0</td>\n",
              "      <td>NaN</td>\n",
              "      <td>2021-08-09</td>\n",
              "      <td>12500.0</td>\n",
              "      <td>14000.0</td>\n",
              "      <td>10.0</td>\n",
              "      <td>10.0</td>\n",
              "      <td>0.0</td>\n",
              "      <td>10.0</td>\n",
              "      <td>COVID - Sales naik, banyak permintaan produk/k...</td>\n",
              "      <td>2021-08-18</td>\n",
              "      <td>12150.0</td>\n",
              "      <td>14000.0</td>\n",
              "      <td>10.0</td>\n",
              "      <td>30.0</td>\n",
              "      <td>0.0</td>\n",
              "      <td>10.0</td>\n",
              "      <td>30.0</td>\n",
              "      <td>COVID - Sales naik, banyak permintaan produk/k...</td>\n",
              "      <td>2021-09-03</td>\n",
              "      <td>12500.0</td>\n",
              "      <td>14000.0</td>\n",
              "      <td>1.0</td>\n",
              "      <td>20.0</td>\n",
              "      <td>0.0</td>\n",
              "      <td>10.0</td>\n",
              "      <td>30.0</td>\n",
              "      <td>29.0</td>\n",
              "      <td>0</td>\n",
              "      <td>NaN</td>\n",
              "    </tr>\n",
              "  </tbody>\n",
              "</table>\n",
              "</div>"
            ],
            "text/plain": [
              "                                         Concatenate  ...  _merge\n",
              "0    1609986Gudang Garam Red Soft Kspl 12 Stc (Sktb)  ...     NaN\n",
              "1        1610908Dji Sam Soe Soft Plain 12 Stc (Sktb)  ...     NaN\n",
              "2          1610908Panamas 1 Soft Plain 12 Stc (Sktb)  ...     NaN\n",
              "3  1610908Djarum Istimewa Soft Coklat Plain 12 St...  ...     NaN\n",
              "4    1610908Gudang Garam Red Soft Kspl 12 Stc (Sktb)  ...     NaN\n",
              "\n",
              "[5 rows x 42 columns]"
            ]
          },
          "metadata": {},
          "execution_count": 1989
        }
      ]
    },
    {
      "cell_type": "code",
      "metadata": {
        "colab": {
          "base_uri": "https://localhost:8080/"
        },
        "id": "7vdEr2AKEwMo",
        "outputId": "74debce2-5d4d-477e-be5d-64b77462a6f9"
      },
      "source": [
        "df_merge = df_merge.drop('_merge', axis=1)\n",
        "df_merge.shape"
      ],
      "execution_count": 1990,
      "outputs": [
        {
          "output_type": "execute_result",
          "data": {
            "text/plain": [
              "(3424, 41)"
            ]
          },
          "metadata": {},
          "execution_count": 1990
        }
      ]
    },
    {
      "cell_type": "markdown",
      "metadata": {
        "id": "P1cvIqKiUc3J"
      },
      "source": [
        "# Perhitungan Sales"
      ]
    },
    {
      "cell_type": "code",
      "metadata": {
        "colab": {
          "base_uri": "https://localhost:8080/",
          "height": 561
        },
        "id": "UwDXFGQ6vzPy",
        "outputId": "a6613e87-d65b-4c05-86c0-5610a362c26a"
      },
      "source": [
        "df_merge = pd.merge(df_merge, \n",
        "                    mapping_toko, \n",
        "                    on='SMS Id',\n",
        "                    how='left')\n",
        "df_merge = pd.merge(df_merge, \n",
        "                    item_mapping, \n",
        "                    on='Product Description',\n",
        "                    how='left')\n",
        "df_merge.head()"
      ],
      "execution_count": 1991,
      "outputs": [
        {
          "output_type": "execute_result",
          "data": {
            "text/html": [
              "<div>\n",
              "<style scoped>\n",
              "    .dataframe tbody tr th:only-of-type {\n",
              "        vertical-align: middle;\n",
              "    }\n",
              "\n",
              "    .dataframe tbody tr th {\n",
              "        vertical-align: top;\n",
              "    }\n",
              "\n",
              "    .dataframe thead th {\n",
              "        text-align: right;\n",
              "    }\n",
              "</style>\n",
              "<table border=\"1\" class=\"dataframe\">\n",
              "  <thead>\n",
              "    <tr style=\"text-align: right;\">\n",
              "      <th></th>\n",
              "      <th>Concatenate</th>\n",
              "      <th>SMS Id</th>\n",
              "      <th>Bar Code</th>\n",
              "      <th>Product Description</th>\n",
              "      <th>IA</th>\n",
              "      <th>RBP_IA</th>\n",
              "      <th>RSP_IA</th>\n",
              "      <th>Stock_IA</th>\n",
              "      <th>RA1</th>\n",
              "      <th>RBP_RA1</th>\n",
              "      <th>RSP_RA1</th>\n",
              "      <th>Stock_RA1</th>\n",
              "      <th>Purchase_RA1</th>\n",
              "      <th>Sales</th>\n",
              "      <th>RA2</th>\n",
              "      <th>RBP_RA2</th>\n",
              "      <th>RSP_RA2</th>\n",
              "      <th>Stock_RA2</th>\n",
              "      <th>Purchase_RA2</th>\n",
              "      <th>Claimed_Sales_RA1(di_RA2)</th>\n",
              "      <th>Claimed_Sales_RA2(di_RA2)</th>\n",
              "      <th>Comment_RA2</th>\n",
              "      <th>RA3</th>\n",
              "      <th>RBP_RA3</th>\n",
              "      <th>RSP_RA3</th>\n",
              "      <th>Stock_RA3</th>\n",
              "      <th>Purchase_RA3</th>\n",
              "      <th>Claimed_Sales_RA1(di_RA3)</th>\n",
              "      <th>Claimed_Sales_RA2(di_RA3)</th>\n",
              "      <th>Claimed_Sales_RA3(di_RA3)</th>\n",
              "      <th>Comment_RA3</th>\n",
              "      <th>RA4</th>\n",
              "      <th>RBP_RA4</th>\n",
              "      <th>RSP_RA4</th>\n",
              "      <th>Stock_RA4</th>\n",
              "      <th>Purchase_RA4</th>\n",
              "      <th>Claimed_Sales_RA1(di_RA4)</th>\n",
              "      <th>Claimed_Sales_RA2(di_RA4)</th>\n",
              "      <th>Claimed_Sales_RA3(di_RA4)</th>\n",
              "      <th>Claimed_Sales_RA4(di_RA4)</th>\n",
              "      <th>Comment_RA4</th>\n",
              "      <th>Type Toko</th>\n",
              "      <th>Area</th>\n",
              "      <th>Item</th>\n",
              "    </tr>\n",
              "  </thead>\n",
              "  <tbody>\n",
              "    <tr>\n",
              "      <th>0</th>\n",
              "      <td>1609986Gudang Garam Red Soft Kspl 12 Stc (Sktb)</td>\n",
              "      <td>1609986</td>\n",
              "      <td>8998989501125</td>\n",
              "      <td>Gudang Garam Red Soft Kspl 12 Stc (Sktb)</td>\n",
              "      <td>2021-07-26</td>\n",
              "      <td>12500.0</td>\n",
              "      <td>13000.0</td>\n",
              "      <td>20.0</td>\n",
              "      <td>2021-08-02</td>\n",
              "      <td>12500.0</td>\n",
              "      <td>13000.0</td>\n",
              "      <td>3.0</td>\n",
              "      <td>0.0</td>\n",
              "      <td>NaN</td>\n",
              "      <td>2021-08-10</td>\n",
              "      <td>12500.0</td>\n",
              "      <td>13000.0</td>\n",
              "      <td>3.0</td>\n",
              "      <td>17.0</td>\n",
              "      <td>17.0</td>\n",
              "      <td>17.0</td>\n",
              "      <td>0</td>\n",
              "      <td>2021-08-18</td>\n",
              "      <td>12500.0</td>\n",
              "      <td>13000.0</td>\n",
              "      <td>3.0</td>\n",
              "      <td>20.0</td>\n",
              "      <td>17.0</td>\n",
              "      <td>17.0</td>\n",
              "      <td>20.0</td>\n",
              "      <td>COVID - Sales naik, banyak permintaan produk/k...</td>\n",
              "      <td>2021-09-03</td>\n",
              "      <td>12200.0</td>\n",
              "      <td>13000.0</td>\n",
              "      <td>2.0</td>\n",
              "      <td>20.0</td>\n",
              "      <td>17.0</td>\n",
              "      <td>17.0</td>\n",
              "      <td>20.0</td>\n",
              "      <td>21.0</td>\n",
              "      <td>0</td>\n",
              "      <td>WARUNG MEDIUM</td>\n",
              "      <td>PALEMBANG</td>\n",
              "      <td>GG MERAH 12</td>\n",
              "    </tr>\n",
              "    <tr>\n",
              "      <th>1</th>\n",
              "      <td>1610908Dji Sam Soe Soft Plain 12 Stc (Sktb)</td>\n",
              "      <td>1610908</td>\n",
              "      <td>8999909028234</td>\n",
              "      <td>Dji Sam Soe Soft Plain 12 Stc (Sktb)</td>\n",
              "      <td>2021-07-26</td>\n",
              "      <td>16500.0</td>\n",
              "      <td>18000.0</td>\n",
              "      <td>5.0</td>\n",
              "      <td>2021-08-03</td>\n",
              "      <td>16000.0</td>\n",
              "      <td>18000.0</td>\n",
              "      <td>10.0</td>\n",
              "      <td>10.0</td>\n",
              "      <td>NaN</td>\n",
              "      <td>2021-08-09</td>\n",
              "      <td>16000.0</td>\n",
              "      <td>18000.0</td>\n",
              "      <td>10.0</td>\n",
              "      <td>10.0</td>\n",
              "      <td>5.0</td>\n",
              "      <td>10.0</td>\n",
              "      <td>COVID - Sales naik, banyak permintaan produk/k...</td>\n",
              "      <td>2021-08-18</td>\n",
              "      <td>15850.0</td>\n",
              "      <td>18000.0</td>\n",
              "      <td>10.0</td>\n",
              "      <td>30.0</td>\n",
              "      <td>5.0</td>\n",
              "      <td>10.0</td>\n",
              "      <td>30.0</td>\n",
              "      <td>COVID - Sales naik, banyak permintaan produk/k...</td>\n",
              "      <td>2021-09-03</td>\n",
              "      <td>15900.0</td>\n",
              "      <td>18000.0</td>\n",
              "      <td>1.0</td>\n",
              "      <td>40.0</td>\n",
              "      <td>5.0</td>\n",
              "      <td>10.0</td>\n",
              "      <td>30.0</td>\n",
              "      <td>49.0</td>\n",
              "      <td>COVID - Sales naik, banyak permintaan produk/k...</td>\n",
              "      <td>WARUNG MEDIUM</td>\n",
              "      <td>PALEMBANG</td>\n",
              "      <td>DSS 12</td>\n",
              "    </tr>\n",
              "    <tr>\n",
              "      <th>2</th>\n",
              "      <td>1610908Panamas 1 Soft Plain 12 Stc (Sktb)</td>\n",
              "      <td>1610908</td>\n",
              "      <td>8999909039124</td>\n",
              "      <td>Panamas 1 Soft Plain 12 Stc (Sktb)</td>\n",
              "      <td>2021-07-26</td>\n",
              "      <td>12500.0</td>\n",
              "      <td>14000.0</td>\n",
              "      <td>10.0</td>\n",
              "      <td>2021-08-03</td>\n",
              "      <td>12500.0</td>\n",
              "      <td>14000.0</td>\n",
              "      <td>10.0</td>\n",
              "      <td>0.0</td>\n",
              "      <td>NaN</td>\n",
              "      <td>2021-08-09</td>\n",
              "      <td>12500.0</td>\n",
              "      <td>14000.0</td>\n",
              "      <td>10.0</td>\n",
              "      <td>10.0</td>\n",
              "      <td>0.0</td>\n",
              "      <td>10.0</td>\n",
              "      <td>COVID - Sales naik, banyak permintaan produk/k...</td>\n",
              "      <td>2021-08-18</td>\n",
              "      <td>12500.0</td>\n",
              "      <td>14000.0</td>\n",
              "      <td>10.0</td>\n",
              "      <td>60.0</td>\n",
              "      <td>0.0</td>\n",
              "      <td>10.0</td>\n",
              "      <td>60.0</td>\n",
              "      <td>COVID - Sales naik, banyak permintaan produk/k...</td>\n",
              "      <td>2021-09-03</td>\n",
              "      <td>12500.0</td>\n",
              "      <td>14000.0</td>\n",
              "      <td>1.0</td>\n",
              "      <td>10.0</td>\n",
              "      <td>0.0</td>\n",
              "      <td>10.0</td>\n",
              "      <td>60.0</td>\n",
              "      <td>19.0</td>\n",
              "      <td>COVID - Sales turun karena kekurangan pasokan</td>\n",
              "      <td>WARUNG MEDIUM</td>\n",
              "      <td>PALEMBANG</td>\n",
              "      <td>PANAMAS 12</td>\n",
              "    </tr>\n",
              "    <tr>\n",
              "      <th>3</th>\n",
              "      <td>1610908Djarum Istimewa Soft Coklat Plain 12 St...</td>\n",
              "      <td>1610908</td>\n",
              "      <td>8991906101651</td>\n",
              "      <td>Djarum Istimewa Soft Coklat Plain 12 Stc (Sktb)</td>\n",
              "      <td>2021-07-26</td>\n",
              "      <td>12500.0</td>\n",
              "      <td>14000.0</td>\n",
              "      <td>10.0</td>\n",
              "      <td>2021-08-03</td>\n",
              "      <td>12500.0</td>\n",
              "      <td>14000.0</td>\n",
              "      <td>10.0</td>\n",
              "      <td>0.0</td>\n",
              "      <td>NaN</td>\n",
              "      <td>2021-08-09</td>\n",
              "      <td>12500.0</td>\n",
              "      <td>14000.0</td>\n",
              "      <td>10.0</td>\n",
              "      <td>10.0</td>\n",
              "      <td>0.0</td>\n",
              "      <td>10.0</td>\n",
              "      <td>COVID - Sales naik, banyak permintaan produk/k...</td>\n",
              "      <td>2021-08-18</td>\n",
              "      <td>12500.0</td>\n",
              "      <td>14000.0</td>\n",
              "      <td>10.0</td>\n",
              "      <td>30.0</td>\n",
              "      <td>0.0</td>\n",
              "      <td>10.0</td>\n",
              "      <td>30.0</td>\n",
              "      <td>COVID - Sales naik, banyak permintaan produk/k...</td>\n",
              "      <td>2021-09-03</td>\n",
              "      <td>12500.0</td>\n",
              "      <td>14000.0</td>\n",
              "      <td>1.0</td>\n",
              "      <td>10.0</td>\n",
              "      <td>0.0</td>\n",
              "      <td>10.0</td>\n",
              "      <td>30.0</td>\n",
              "      <td>19.0</td>\n",
              "      <td>COVID - Sales turun karena kekurangan pasokan</td>\n",
              "      <td>WARUNG MEDIUM</td>\n",
              "      <td>PALEMBANG</td>\n",
              "      <td>DJARUM ISTIMEWA 12</td>\n",
              "    </tr>\n",
              "    <tr>\n",
              "      <th>4</th>\n",
              "      <td>1610908Gudang Garam Red Soft Kspl 12 Stc (Sktb)</td>\n",
              "      <td>1610908</td>\n",
              "      <td>8998989501125</td>\n",
              "      <td>Gudang Garam Red Soft Kspl 12 Stc (Sktb)</td>\n",
              "      <td>2021-07-26</td>\n",
              "      <td>12500.0</td>\n",
              "      <td>14000.0</td>\n",
              "      <td>10.0</td>\n",
              "      <td>2021-08-03</td>\n",
              "      <td>12500.0</td>\n",
              "      <td>14000.0</td>\n",
              "      <td>10.0</td>\n",
              "      <td>0.0</td>\n",
              "      <td>NaN</td>\n",
              "      <td>2021-08-09</td>\n",
              "      <td>12500.0</td>\n",
              "      <td>14000.0</td>\n",
              "      <td>10.0</td>\n",
              "      <td>10.0</td>\n",
              "      <td>0.0</td>\n",
              "      <td>10.0</td>\n",
              "      <td>COVID - Sales naik, banyak permintaan produk/k...</td>\n",
              "      <td>2021-08-18</td>\n",
              "      <td>12150.0</td>\n",
              "      <td>14000.0</td>\n",
              "      <td>10.0</td>\n",
              "      <td>30.0</td>\n",
              "      <td>0.0</td>\n",
              "      <td>10.0</td>\n",
              "      <td>30.0</td>\n",
              "      <td>COVID - Sales naik, banyak permintaan produk/k...</td>\n",
              "      <td>2021-09-03</td>\n",
              "      <td>12500.0</td>\n",
              "      <td>14000.0</td>\n",
              "      <td>1.0</td>\n",
              "      <td>20.0</td>\n",
              "      <td>0.0</td>\n",
              "      <td>10.0</td>\n",
              "      <td>30.0</td>\n",
              "      <td>29.0</td>\n",
              "      <td>0</td>\n",
              "      <td>WARUNG MEDIUM</td>\n",
              "      <td>PALEMBANG</td>\n",
              "      <td>GG MERAH 12</td>\n",
              "    </tr>\n",
              "  </tbody>\n",
              "</table>\n",
              "</div>"
            ],
            "text/plain": [
              "                                         Concatenate  ...                Item\n",
              "0    1609986Gudang Garam Red Soft Kspl 12 Stc (Sktb)  ...         GG MERAH 12\n",
              "1        1610908Dji Sam Soe Soft Plain 12 Stc (Sktb)  ...              DSS 12\n",
              "2          1610908Panamas 1 Soft Plain 12 Stc (Sktb)  ...          PANAMAS 12\n",
              "3  1610908Djarum Istimewa Soft Coklat Plain 12 St...  ...  DJARUM ISTIMEWA 12\n",
              "4    1610908Gudang Garam Red Soft Kspl 12 Stc (Sktb)  ...         GG MERAH 12\n",
              "\n",
              "[5 rows x 44 columns]"
            ]
          },
          "metadata": {},
          "execution_count": 1991
        }
      ]
    },
    {
      "cell_type": "markdown",
      "metadata": {
        "id": "duRrJsLuhdaA"
      },
      "source": [
        "## Perhitungan Elapsed Day"
      ]
    },
    {
      "cell_type": "code",
      "metadata": {
        "id": "RoCIavmcXHW8"
      },
      "source": [
        "df_merge['ED_RA1'] = df_merge['RA1'] - df_merge['IA']\n",
        "df_merge['ED_RA2'] = df_merge['RA2'] - df_merge['RA1']\n",
        "df_merge['ED_RA3'] = df_merge['RA3'] - df_merge['RA2']\n",
        "df_merge['ED_RA4'] = df_merge['RA4'] - df_merge['RA3']"
      ],
      "execution_count": 1992,
      "outputs": []
    },
    {
      "cell_type": "code",
      "metadata": {
        "colab": {
          "base_uri": "https://localhost:8080/",
          "height": 480
        },
        "id": "fw_gZJZzfCll",
        "outputId": "cb033019-1c57-48be-bf5f-f78f24a32673"
      },
      "source": [
        "df_merge[df_merge['ED_RA1'].isna()].head()"
      ],
      "execution_count": 1993,
      "outputs": [
        {
          "output_type": "execute_result",
          "data": {
            "text/html": [
              "<div>\n",
              "<style scoped>\n",
              "    .dataframe tbody tr th:only-of-type {\n",
              "        vertical-align: middle;\n",
              "    }\n",
              "\n",
              "    .dataframe tbody tr th {\n",
              "        vertical-align: top;\n",
              "    }\n",
              "\n",
              "    .dataframe thead th {\n",
              "        text-align: right;\n",
              "    }\n",
              "</style>\n",
              "<table border=\"1\" class=\"dataframe\">\n",
              "  <thead>\n",
              "    <tr style=\"text-align: right;\">\n",
              "      <th></th>\n",
              "      <th>Concatenate</th>\n",
              "      <th>SMS Id</th>\n",
              "      <th>Bar Code</th>\n",
              "      <th>Product Description</th>\n",
              "      <th>IA</th>\n",
              "      <th>RBP_IA</th>\n",
              "      <th>RSP_IA</th>\n",
              "      <th>Stock_IA</th>\n",
              "      <th>RA1</th>\n",
              "      <th>RBP_RA1</th>\n",
              "      <th>RSP_RA1</th>\n",
              "      <th>Stock_RA1</th>\n",
              "      <th>Purchase_RA1</th>\n",
              "      <th>Sales</th>\n",
              "      <th>RA2</th>\n",
              "      <th>RBP_RA2</th>\n",
              "      <th>RSP_RA2</th>\n",
              "      <th>Stock_RA2</th>\n",
              "      <th>Purchase_RA2</th>\n",
              "      <th>Claimed_Sales_RA1(di_RA2)</th>\n",
              "      <th>Claimed_Sales_RA2(di_RA2)</th>\n",
              "      <th>Comment_RA2</th>\n",
              "      <th>RA3</th>\n",
              "      <th>RBP_RA3</th>\n",
              "      <th>RSP_RA3</th>\n",
              "      <th>Stock_RA3</th>\n",
              "      <th>Purchase_RA3</th>\n",
              "      <th>Claimed_Sales_RA1(di_RA3)</th>\n",
              "      <th>Claimed_Sales_RA2(di_RA3)</th>\n",
              "      <th>Claimed_Sales_RA3(di_RA3)</th>\n",
              "      <th>Comment_RA3</th>\n",
              "      <th>RA4</th>\n",
              "      <th>RBP_RA4</th>\n",
              "      <th>RSP_RA4</th>\n",
              "      <th>Stock_RA4</th>\n",
              "      <th>Purchase_RA4</th>\n",
              "      <th>Claimed_Sales_RA1(di_RA4)</th>\n",
              "      <th>Claimed_Sales_RA2(di_RA4)</th>\n",
              "      <th>Claimed_Sales_RA3(di_RA4)</th>\n",
              "      <th>Claimed_Sales_RA4(di_RA4)</th>\n",
              "      <th>Comment_RA4</th>\n",
              "      <th>Type Toko</th>\n",
              "      <th>Area</th>\n",
              "      <th>Item</th>\n",
              "      <th>ED_RA1</th>\n",
              "      <th>ED_RA2</th>\n",
              "      <th>ED_RA3</th>\n",
              "      <th>ED_RA4</th>\n",
              "    </tr>\n",
              "  </thead>\n",
              "  <tbody>\n",
              "    <tr>\n",
              "      <th>847</th>\n",
              "      <td>1610126Minak Djinggo Kuning Soft Plain 10 Stc ...</td>\n",
              "      <td>1610126</td>\n",
              "      <td>8993989111008</td>\n",
              "      <td>Minak Djinggo Kuning Soft Plain 10 Stc (Sktb)</td>\n",
              "      <td>2021-07-26</td>\n",
              "      <td>8000.0</td>\n",
              "      <td>10000.0</td>\n",
              "      <td>3.0</td>\n",
              "      <td>NaT</td>\n",
              "      <td>NaN</td>\n",
              "      <td>NaN</td>\n",
              "      <td>NaN</td>\n",
              "      <td>NaN</td>\n",
              "      <td>NaN</td>\n",
              "      <td>2021-08-10</td>\n",
              "      <td>8000.0</td>\n",
              "      <td>10000.0</td>\n",
              "      <td>3.0</td>\n",
              "      <td>0.0</td>\n",
              "      <td>0.0</td>\n",
              "      <td>0.0</td>\n",
              "      <td>minggu lalu NA</td>\n",
              "      <td>2021-08-17</td>\n",
              "      <td>8000.0</td>\n",
              "      <td>10000.0</td>\n",
              "      <td>3.0</td>\n",
              "      <td>30.0</td>\n",
              "      <td>5.0</td>\n",
              "      <td>10.0</td>\n",
              "      <td>30.0</td>\n",
              "      <td>W3 10</td>\n",
              "      <td>2021-09-04</td>\n",
              "      <td>8000.0</td>\n",
              "      <td>9000.0</td>\n",
              "      <td>20.0</td>\n",
              "      <td>50.0</td>\n",
              "      <td>5.0</td>\n",
              "      <td>10.0</td>\n",
              "      <td>30.0</td>\n",
              "      <td>33.0</td>\n",
              "      <td>0</td>\n",
              "      <td>WARUNG MEDIUM</td>\n",
              "      <td>KARAWANG</td>\n",
              "      <td>MINAK DJINGGO 10</td>\n",
              "      <td>NaT</td>\n",
              "      <td>NaT</td>\n",
              "      <td>7 days</td>\n",
              "      <td>18 days</td>\n",
              "    </tr>\n",
              "    <tr>\n",
              "      <th>848</th>\n",
              "      <td>1610126Djarum Coklat Soft Plain 12 Stc (Sktb)</td>\n",
              "      <td>1610126</td>\n",
              "      <td>8991906101644</td>\n",
              "      <td>Djarum Coklat Soft Plain 12 Stc (Sktb)</td>\n",
              "      <td>2021-07-26</td>\n",
              "      <td>13500.0</td>\n",
              "      <td>15000.0</td>\n",
              "      <td>8.0</td>\n",
              "      <td>NaT</td>\n",
              "      <td>NaN</td>\n",
              "      <td>NaN</td>\n",
              "      <td>NaN</td>\n",
              "      <td>NaN</td>\n",
              "      <td>NaN</td>\n",
              "      <td>2021-08-10</td>\n",
              "      <td>13500.0</td>\n",
              "      <td>15000.0</td>\n",
              "      <td>8.0</td>\n",
              "      <td>0.0</td>\n",
              "      <td>0.0</td>\n",
              "      <td>0.0</td>\n",
              "      <td>minggu lalu NA</td>\n",
              "      <td>2021-08-17</td>\n",
              "      <td>13500.0</td>\n",
              "      <td>15000.0</td>\n",
              "      <td>8.0</td>\n",
              "      <td>40.0</td>\n",
              "      <td>10.0</td>\n",
              "      <td>20.0</td>\n",
              "      <td>40.0</td>\n",
              "      <td>W3 20</td>\n",
              "      <td>2021-09-04</td>\n",
              "      <td>13000.0</td>\n",
              "      <td>14000.0</td>\n",
              "      <td>20.0</td>\n",
              "      <td>60.0</td>\n",
              "      <td>10.0</td>\n",
              "      <td>20.0</td>\n",
              "      <td>40.0</td>\n",
              "      <td>48.0</td>\n",
              "      <td>S4U: Pelanggan Baru</td>\n",
              "      <td>WARUNG MEDIUM</td>\n",
              "      <td>KARAWANG</td>\n",
              "      <td>DJARUM COKLAT 12</td>\n",
              "      <td>NaT</td>\n",
              "      <td>NaT</td>\n",
              "      <td>7 days</td>\n",
              "      <td>18 days</td>\n",
              "    </tr>\n",
              "    <tr>\n",
              "      <th>849</th>\n",
              "      <td>1610126Dji Sam Soe Soft Plain 12 Stc (Sktb)</td>\n",
              "      <td>1610126</td>\n",
              "      <td>8999909028234</td>\n",
              "      <td>Dji Sam Soe Soft Plain 12 Stc (Sktb)</td>\n",
              "      <td>2021-07-26</td>\n",
              "      <td>16000.0</td>\n",
              "      <td>18000.0</td>\n",
              "      <td>15.0</td>\n",
              "      <td>NaT</td>\n",
              "      <td>NaN</td>\n",
              "      <td>NaN</td>\n",
              "      <td>NaN</td>\n",
              "      <td>NaN</td>\n",
              "      <td>NaN</td>\n",
              "      <td>2021-08-10</td>\n",
              "      <td>16000.0</td>\n",
              "      <td>18000.0</td>\n",
              "      <td>15.0</td>\n",
              "      <td>0.0</td>\n",
              "      <td>0.0</td>\n",
              "      <td>0.0</td>\n",
              "      <td>minggu lalu NA</td>\n",
              "      <td>2021-08-17</td>\n",
              "      <td>16000.0</td>\n",
              "      <td>18000.0</td>\n",
              "      <td>15.0</td>\n",
              "      <td>60.0</td>\n",
              "      <td>20.0</td>\n",
              "      <td>30.0</td>\n",
              "      <td>60.0</td>\n",
              "      <td>W3 30</td>\n",
              "      <td>2021-09-04</td>\n",
              "      <td>15900.0</td>\n",
              "      <td>17500.0</td>\n",
              "      <td>45.0</td>\n",
              "      <td>100.0</td>\n",
              "      <td>20.0</td>\n",
              "      <td>30.0</td>\n",
              "      <td>60.0</td>\n",
              "      <td>70.0</td>\n",
              "      <td>S4U: Pelanggan Baru</td>\n",
              "      <td>WARUNG MEDIUM</td>\n",
              "      <td>KARAWANG</td>\n",
              "      <td>DSS 12</td>\n",
              "      <td>NaT</td>\n",
              "      <td>NaT</td>\n",
              "      <td>7 days</td>\n",
              "      <td>18 days</td>\n",
              "    </tr>\n",
              "    <tr>\n",
              "      <th>850</th>\n",
              "      <td>1610126Gudang Garam Red Soft Kspl 12 Stc (Sktb)</td>\n",
              "      <td>1610126</td>\n",
              "      <td>8998989501125</td>\n",
              "      <td>Gudang Garam Red Soft Kspl 12 Stc (Sktb)</td>\n",
              "      <td>2021-07-26</td>\n",
              "      <td>12600.0</td>\n",
              "      <td>14000.0</td>\n",
              "      <td>10.0</td>\n",
              "      <td>NaT</td>\n",
              "      <td>NaN</td>\n",
              "      <td>NaN</td>\n",
              "      <td>NaN</td>\n",
              "      <td>NaN</td>\n",
              "      <td>NaN</td>\n",
              "      <td>2021-08-10</td>\n",
              "      <td>12600.0</td>\n",
              "      <td>14000.0</td>\n",
              "      <td>10.0</td>\n",
              "      <td>0.0</td>\n",
              "      <td>0.0</td>\n",
              "      <td>0.0</td>\n",
              "      <td>Minggu lalu NA</td>\n",
              "      <td>2021-08-17</td>\n",
              "      <td>12600.0</td>\n",
              "      <td>14000.0</td>\n",
              "      <td>10.0</td>\n",
              "      <td>0.0</td>\n",
              "      <td>10.0</td>\n",
              "      <td>0.0</td>\n",
              "      <td>0.0</td>\n",
              "      <td>0</td>\n",
              "      <td>2021-09-04</td>\n",
              "      <td>12200.0</td>\n",
              "      <td>14000.0</td>\n",
              "      <td>50.0</td>\n",
              "      <td>100.0</td>\n",
              "      <td>10.0</td>\n",
              "      <td>0.0</td>\n",
              "      <td>0.0</td>\n",
              "      <td>60.0</td>\n",
              "      <td>baru belanaj</td>\n",
              "      <td>WARUNG MEDIUM</td>\n",
              "      <td>KARAWANG</td>\n",
              "      <td>GG MERAH 12</td>\n",
              "      <td>NaT</td>\n",
              "      <td>NaT</td>\n",
              "      <td>7 days</td>\n",
              "      <td>18 days</td>\n",
              "    </tr>\n",
              "    <tr>\n",
              "      <th>851</th>\n",
              "      <td>1610126Sampoerna 'A' Hijau Box Plain 12 Stc (S...</td>\n",
              "      <td>1610126</td>\n",
              "      <td>8999909085114</td>\n",
              "      <td>Sampoerna 'A' Hijau Box Plain 12 Stc (Sktb)</td>\n",
              "      <td>2021-07-26</td>\n",
              "      <td>11700.0</td>\n",
              "      <td>14000.0</td>\n",
              "      <td>10.0</td>\n",
              "      <td>NaT</td>\n",
              "      <td>NaN</td>\n",
              "      <td>NaN</td>\n",
              "      <td>NaN</td>\n",
              "      <td>NaN</td>\n",
              "      <td>NaN</td>\n",
              "      <td>2021-08-10</td>\n",
              "      <td>11700.0</td>\n",
              "      <td>14000.0</td>\n",
              "      <td>10.0</td>\n",
              "      <td>0.0</td>\n",
              "      <td>0.0</td>\n",
              "      <td>0.0</td>\n",
              "      <td>minggu lalu NA</td>\n",
              "      <td>2021-08-17</td>\n",
              "      <td>11700.0</td>\n",
              "      <td>14000.0</td>\n",
              "      <td>10.0</td>\n",
              "      <td>40.0</td>\n",
              "      <td>10.0</td>\n",
              "      <td>20.0</td>\n",
              "      <td>40.0</td>\n",
              "      <td>w3 20</td>\n",
              "      <td>2021-09-04</td>\n",
              "      <td>11600.0</td>\n",
              "      <td>13000.0</td>\n",
              "      <td>30.0</td>\n",
              "      <td>70.0</td>\n",
              "      <td>10.0</td>\n",
              "      <td>20.0</td>\n",
              "      <td>40.0</td>\n",
              "      <td>50.0</td>\n",
              "      <td>S4U: Pelanggan Baru</td>\n",
              "      <td>WARUNG MEDIUM</td>\n",
              "      <td>KARAWANG</td>\n",
              "      <td>A HIJAU 12</td>\n",
              "      <td>NaT</td>\n",
              "      <td>NaT</td>\n",
              "      <td>7 days</td>\n",
              "      <td>18 days</td>\n",
              "    </tr>\n",
              "  </tbody>\n",
              "</table>\n",
              "</div>"
            ],
            "text/plain": [
              "                                           Concatenate   SMS Id  ...  ED_RA3  ED_RA4\n",
              "847  1610126Minak Djinggo Kuning Soft Plain 10 Stc ...  1610126  ...  7 days 18 days\n",
              "848      1610126Djarum Coklat Soft Plain 12 Stc (Sktb)  1610126  ...  7 days 18 days\n",
              "849        1610126Dji Sam Soe Soft Plain 12 Stc (Sktb)  1610126  ...  7 days 18 days\n",
              "850    1610126Gudang Garam Red Soft Kspl 12 Stc (Sktb)  1610126  ...  7 days 18 days\n",
              "851  1610126Sampoerna 'A' Hijau Box Plain 12 Stc (S...  1610126  ...  7 days 18 days\n",
              "\n",
              "[5 rows x 48 columns]"
            ]
          },
          "metadata": {},
          "execution_count": 1993
        }
      ]
    },
    {
      "cell_type": "markdown",
      "metadata": {
        "id": "nlzbZg1EhjZx"
      },
      "source": [
        "## Perhitungan Sales dengan Elapsed Day"
      ]
    },
    {
      "cell_type": "code",
      "metadata": {
        "id": "3MTd8DzmyeG6"
      },
      "source": [
        "oneday = pd.Timedelta(days=1)"
      ],
      "execution_count": 1994,
      "outputs": []
    },
    {
      "cell_type": "code",
      "metadata": {
        "colab": {
          "base_uri": "https://localhost:8080/",
          "height": 67
        },
        "id": "MkIL3qA_3FPh",
        "outputId": "f76c5bd5-ac68-4155-ffa5-cbe33d1b410d"
      },
      "source": [
        "df_merge['Claimed_Sales_RA1'] = np.where(df_merge['Claimed_Sales_RA1(di_RA4)']>0, df_merge['Claimed_Sales_RA1(di_RA4)'],\n",
        "                                         np.where(df_merge['Claimed_Sales_RA1(di_RA3)']>0, df_merge['Claimed_Sales_RA1(di_RA3)'],\n",
        "                                                   np.where(df_merge['Claimed_Sales_RA1(di_RA2)']>0, df_merge['Claimed_Sales_RA1(di_RA2)'], np.nan)))\n",
        "df_merge['Claimed_Sales_RA2'] = np.where(df_merge['Claimed_Sales_RA2(di_RA4)']>0, df_merge['Claimed_Sales_RA2(di_RA4)'],\n",
        "                                          np.where(df_merge['Claimed_Sales_RA2(di_RA3)']>0, df_merge['Claimed_Sales_RA2(di_RA3)'],\n",
        "                                                   np.where(df_merge['Claimed_Sales_RA2(di_RA2)']>0, df_merge['Claimed_Sales_RA2(di_RA2)'], np.nan)))\n",
        "df_merge['Claimed_Sales_RA3'] = np.where(df_merge['Claimed_Sales_RA3(di_RA4)']>0, df_merge['Claimed_Sales_RA3(di_RA4)'],\n",
        "                                          np.where(df_merge['Claimed_Sales_RA3(di_RA3)']>0, df_merge['Claimed_Sales_RA3(di_RA3)'], np.nan))\n",
        "df_merge['Claimed_Sales_RA4'] = np.where(df_merge['Claimed_Sales_RA4(di_RA4)']>0, df_merge['Claimed_Sales_RA4(di_RA4)'], np.nan)\n",
        "\n",
        "'''df_merge = df_merge.drop(['Claimed_Sales_RA1(di_RA2)','Claimed_Sales_RA2(di_RA2)',\n",
        "                          'Claimed_Sales_RA1(di_RA3)','Claimed_Sales_RA2(di_RA3)','Claimed_Sales_RA3(di_RA3)',\n",
        "                          'Claimed_Sales_RA1(di_RA4)','Claimed_Sales_RA2(di_RA4)','Claimed_Sales_RA3(di_RA4)','Claimed_Sales_RA4(di_RA4)'], \n",
        "                         axis=1)'''"
      ],
      "execution_count": 1995,
      "outputs": [
        {
          "output_type": "execute_result",
          "data": {
            "application/vnd.google.colaboratory.intrinsic+json": {
              "type": "string"
            },
            "text/plain": [
              "\"df_merge = df_merge.drop(['Claimed_Sales_RA1(di_RA2)','Claimed_Sales_RA2(di_RA2)',\\n                          'Claimed_Sales_RA1(di_RA3)','Claimed_Sales_RA2(di_RA3)','Claimed_Sales_RA3(di_RA3)',\\n                          'Claimed_Sales_RA1(di_RA4)','Claimed_Sales_RA2(di_RA4)','Claimed_Sales_RA3(di_RA4)','Claimed_Sales_RA4(di_RA4)'], \\n                         axis=1)\""
            ]
          },
          "metadata": {},
          "execution_count": 1995
        }
      ]
    },
    {
      "cell_type": "code",
      "metadata": {
        "id": "4fyQL0Eoyh7i"
      },
      "source": [
        "df_merge['ED_RA1'] = df_merge['ED_RA1']/oneday\n",
        "df_merge['ED_RA2'] = df_merge['ED_RA2']/oneday\n",
        "df_merge['ED_RA3'] = df_merge['ED_RA3']/oneday\n",
        "df_merge['ED_RA4'] = df_merge['ED_RA4']/oneday"
      ],
      "execution_count": 1996,
      "outputs": []
    },
    {
      "cell_type": "code",
      "metadata": {
        "id": "rK0I9SL915sa"
      },
      "source": [
        "df_merge['ED_RA1'] = df_merge['ED_RA1'].fillna(0)\n",
        "df_merge['ED_RA2'] = df_merge['ED_RA2'].fillna(0)\n",
        "df_merge['ED_RA3'] = df_merge['ED_RA3'].fillna(0)\n",
        "df_merge['ED_RA4'] = df_merge['ED_RA4'].fillna(0)"
      ],
      "execution_count": 1997,
      "outputs": []
    },
    {
      "cell_type": "code",
      "metadata": {
        "id": "vG80_ixSVIta"
      },
      "source": [
        "df_merge['Sales_RA1'] = np.where(df_merge['ED_RA1']!=0, round((df_merge['Stock_IA']+df_merge['Purchase_RA1']-df_merge['Stock_RA1'])/df_merge['ED_RA1']*7), df_merge['Claimed_Sales_RA1'])\n",
        "df_merge['Sales_RA2'] = np.where(df_merge['ED_RA2']!=0, round((df_merge['Stock_RA1']+df_merge['Purchase_RA2']-df_merge['Stock_RA2'])/df_merge['ED_RA2']*7), df_merge['Claimed_Sales_RA2'])\n",
        "df_merge['Sales_RA3'] = np.where(df_merge['ED_RA3']!=0, round((df_merge['Stock_RA2']+df_merge['Purchase_RA3']-df_merge['Stock_RA3'])/df_merge['ED_RA3']*7), df_merge['Claimed_Sales_RA3'])\n",
        "df_merge['Sales_RA4'] = np.where(df_merge['ED_RA4']!=0, round((df_merge['Stock_RA3']+df_merge['Purchase_RA4']-df_merge['Stock_RA4'])/df_merge['ED_RA4']*14), df_merge['Claimed_Sales_RA4'])"
      ],
      "execution_count": 1998,
      "outputs": []
    },
    {
      "cell_type": "code",
      "metadata": {
        "colab": {
          "base_uri": "https://localhost:8080/",
          "height": 561
        },
        "id": "BLitnOog9ORk",
        "outputId": "f60e7f43-8655-46a2-b03e-3cafcbc40407"
      },
      "source": [
        "df_merge.head()"
      ],
      "execution_count": 1999,
      "outputs": [
        {
          "output_type": "execute_result",
          "data": {
            "text/html": [
              "<div>\n",
              "<style scoped>\n",
              "    .dataframe tbody tr th:only-of-type {\n",
              "        vertical-align: middle;\n",
              "    }\n",
              "\n",
              "    .dataframe tbody tr th {\n",
              "        vertical-align: top;\n",
              "    }\n",
              "\n",
              "    .dataframe thead th {\n",
              "        text-align: right;\n",
              "    }\n",
              "</style>\n",
              "<table border=\"1\" class=\"dataframe\">\n",
              "  <thead>\n",
              "    <tr style=\"text-align: right;\">\n",
              "      <th></th>\n",
              "      <th>Concatenate</th>\n",
              "      <th>SMS Id</th>\n",
              "      <th>Bar Code</th>\n",
              "      <th>Product Description</th>\n",
              "      <th>IA</th>\n",
              "      <th>RBP_IA</th>\n",
              "      <th>RSP_IA</th>\n",
              "      <th>Stock_IA</th>\n",
              "      <th>RA1</th>\n",
              "      <th>RBP_RA1</th>\n",
              "      <th>RSP_RA1</th>\n",
              "      <th>Stock_RA1</th>\n",
              "      <th>Purchase_RA1</th>\n",
              "      <th>Sales</th>\n",
              "      <th>RA2</th>\n",
              "      <th>RBP_RA2</th>\n",
              "      <th>RSP_RA2</th>\n",
              "      <th>Stock_RA2</th>\n",
              "      <th>Purchase_RA2</th>\n",
              "      <th>Claimed_Sales_RA1(di_RA2)</th>\n",
              "      <th>Claimed_Sales_RA2(di_RA2)</th>\n",
              "      <th>Comment_RA2</th>\n",
              "      <th>RA3</th>\n",
              "      <th>RBP_RA3</th>\n",
              "      <th>RSP_RA3</th>\n",
              "      <th>Stock_RA3</th>\n",
              "      <th>Purchase_RA3</th>\n",
              "      <th>Claimed_Sales_RA1(di_RA3)</th>\n",
              "      <th>Claimed_Sales_RA2(di_RA3)</th>\n",
              "      <th>Claimed_Sales_RA3(di_RA3)</th>\n",
              "      <th>Comment_RA3</th>\n",
              "      <th>RA4</th>\n",
              "      <th>RBP_RA4</th>\n",
              "      <th>RSP_RA4</th>\n",
              "      <th>Stock_RA4</th>\n",
              "      <th>Purchase_RA4</th>\n",
              "      <th>Claimed_Sales_RA1(di_RA4)</th>\n",
              "      <th>Claimed_Sales_RA2(di_RA4)</th>\n",
              "      <th>Claimed_Sales_RA3(di_RA4)</th>\n",
              "      <th>Claimed_Sales_RA4(di_RA4)</th>\n",
              "      <th>Comment_RA4</th>\n",
              "      <th>Type Toko</th>\n",
              "      <th>Area</th>\n",
              "      <th>Item</th>\n",
              "      <th>ED_RA1</th>\n",
              "      <th>ED_RA2</th>\n",
              "      <th>ED_RA3</th>\n",
              "      <th>ED_RA4</th>\n",
              "      <th>Claimed_Sales_RA1</th>\n",
              "      <th>Claimed_Sales_RA2</th>\n",
              "      <th>Claimed_Sales_RA3</th>\n",
              "      <th>Claimed_Sales_RA4</th>\n",
              "      <th>Sales_RA1</th>\n",
              "      <th>Sales_RA2</th>\n",
              "      <th>Sales_RA3</th>\n",
              "      <th>Sales_RA4</th>\n",
              "    </tr>\n",
              "  </thead>\n",
              "  <tbody>\n",
              "    <tr>\n",
              "      <th>0</th>\n",
              "      <td>1609986Gudang Garam Red Soft Kspl 12 Stc (Sktb)</td>\n",
              "      <td>1609986</td>\n",
              "      <td>8998989501125</td>\n",
              "      <td>Gudang Garam Red Soft Kspl 12 Stc (Sktb)</td>\n",
              "      <td>2021-07-26</td>\n",
              "      <td>12500.0</td>\n",
              "      <td>13000.0</td>\n",
              "      <td>20.0</td>\n",
              "      <td>2021-08-02</td>\n",
              "      <td>12500.0</td>\n",
              "      <td>13000.0</td>\n",
              "      <td>3.0</td>\n",
              "      <td>0.0</td>\n",
              "      <td>NaN</td>\n",
              "      <td>2021-08-10</td>\n",
              "      <td>12500.0</td>\n",
              "      <td>13000.0</td>\n",
              "      <td>3.0</td>\n",
              "      <td>17.0</td>\n",
              "      <td>17.0</td>\n",
              "      <td>17.0</td>\n",
              "      <td>0</td>\n",
              "      <td>2021-08-18</td>\n",
              "      <td>12500.0</td>\n",
              "      <td>13000.0</td>\n",
              "      <td>3.0</td>\n",
              "      <td>20.0</td>\n",
              "      <td>17.0</td>\n",
              "      <td>17.0</td>\n",
              "      <td>20.0</td>\n",
              "      <td>COVID - Sales naik, banyak permintaan produk/k...</td>\n",
              "      <td>2021-09-03</td>\n",
              "      <td>12200.0</td>\n",
              "      <td>13000.0</td>\n",
              "      <td>2.0</td>\n",
              "      <td>20.0</td>\n",
              "      <td>17.0</td>\n",
              "      <td>17.0</td>\n",
              "      <td>20.0</td>\n",
              "      <td>21.0</td>\n",
              "      <td>0</td>\n",
              "      <td>WARUNG MEDIUM</td>\n",
              "      <td>PALEMBANG</td>\n",
              "      <td>GG MERAH 12</td>\n",
              "      <td>7.0</td>\n",
              "      <td>8.0</td>\n",
              "      <td>8.0</td>\n",
              "      <td>16.0</td>\n",
              "      <td>17.0</td>\n",
              "      <td>17.0</td>\n",
              "      <td>20.0</td>\n",
              "      <td>21.0</td>\n",
              "      <td>17.0</td>\n",
              "      <td>15.0</td>\n",
              "      <td>18.0</td>\n",
              "      <td>18.0</td>\n",
              "    </tr>\n",
              "    <tr>\n",
              "      <th>1</th>\n",
              "      <td>1610908Dji Sam Soe Soft Plain 12 Stc (Sktb)</td>\n",
              "      <td>1610908</td>\n",
              "      <td>8999909028234</td>\n",
              "      <td>Dji Sam Soe Soft Plain 12 Stc (Sktb)</td>\n",
              "      <td>2021-07-26</td>\n",
              "      <td>16500.0</td>\n",
              "      <td>18000.0</td>\n",
              "      <td>5.0</td>\n",
              "      <td>2021-08-03</td>\n",
              "      <td>16000.0</td>\n",
              "      <td>18000.0</td>\n",
              "      <td>10.0</td>\n",
              "      <td>10.0</td>\n",
              "      <td>NaN</td>\n",
              "      <td>2021-08-09</td>\n",
              "      <td>16000.0</td>\n",
              "      <td>18000.0</td>\n",
              "      <td>10.0</td>\n",
              "      <td>10.0</td>\n",
              "      <td>5.0</td>\n",
              "      <td>10.0</td>\n",
              "      <td>COVID - Sales naik, banyak permintaan produk/k...</td>\n",
              "      <td>2021-08-18</td>\n",
              "      <td>15850.0</td>\n",
              "      <td>18000.0</td>\n",
              "      <td>10.0</td>\n",
              "      <td>30.0</td>\n",
              "      <td>5.0</td>\n",
              "      <td>10.0</td>\n",
              "      <td>30.0</td>\n",
              "      <td>COVID - Sales naik, banyak permintaan produk/k...</td>\n",
              "      <td>2021-09-03</td>\n",
              "      <td>15900.0</td>\n",
              "      <td>18000.0</td>\n",
              "      <td>1.0</td>\n",
              "      <td>40.0</td>\n",
              "      <td>5.0</td>\n",
              "      <td>10.0</td>\n",
              "      <td>30.0</td>\n",
              "      <td>49.0</td>\n",
              "      <td>COVID - Sales naik, banyak permintaan produk/k...</td>\n",
              "      <td>WARUNG MEDIUM</td>\n",
              "      <td>PALEMBANG</td>\n",
              "      <td>DSS 12</td>\n",
              "      <td>8.0</td>\n",
              "      <td>6.0</td>\n",
              "      <td>9.0</td>\n",
              "      <td>16.0</td>\n",
              "      <td>5.0</td>\n",
              "      <td>10.0</td>\n",
              "      <td>30.0</td>\n",
              "      <td>49.0</td>\n",
              "      <td>4.0</td>\n",
              "      <td>12.0</td>\n",
              "      <td>23.0</td>\n",
              "      <td>43.0</td>\n",
              "    </tr>\n",
              "    <tr>\n",
              "      <th>2</th>\n",
              "      <td>1610908Panamas 1 Soft Plain 12 Stc (Sktb)</td>\n",
              "      <td>1610908</td>\n",
              "      <td>8999909039124</td>\n",
              "      <td>Panamas 1 Soft Plain 12 Stc (Sktb)</td>\n",
              "      <td>2021-07-26</td>\n",
              "      <td>12500.0</td>\n",
              "      <td>14000.0</td>\n",
              "      <td>10.0</td>\n",
              "      <td>2021-08-03</td>\n",
              "      <td>12500.0</td>\n",
              "      <td>14000.0</td>\n",
              "      <td>10.0</td>\n",
              "      <td>0.0</td>\n",
              "      <td>NaN</td>\n",
              "      <td>2021-08-09</td>\n",
              "      <td>12500.0</td>\n",
              "      <td>14000.0</td>\n",
              "      <td>10.0</td>\n",
              "      <td>10.0</td>\n",
              "      <td>0.0</td>\n",
              "      <td>10.0</td>\n",
              "      <td>COVID - Sales naik, banyak permintaan produk/k...</td>\n",
              "      <td>2021-08-18</td>\n",
              "      <td>12500.0</td>\n",
              "      <td>14000.0</td>\n",
              "      <td>10.0</td>\n",
              "      <td>60.0</td>\n",
              "      <td>0.0</td>\n",
              "      <td>10.0</td>\n",
              "      <td>60.0</td>\n",
              "      <td>COVID - Sales naik, banyak permintaan produk/k...</td>\n",
              "      <td>2021-09-03</td>\n",
              "      <td>12500.0</td>\n",
              "      <td>14000.0</td>\n",
              "      <td>1.0</td>\n",
              "      <td>10.0</td>\n",
              "      <td>0.0</td>\n",
              "      <td>10.0</td>\n",
              "      <td>60.0</td>\n",
              "      <td>19.0</td>\n",
              "      <td>COVID - Sales turun karena kekurangan pasokan</td>\n",
              "      <td>WARUNG MEDIUM</td>\n",
              "      <td>PALEMBANG</td>\n",
              "      <td>PANAMAS 12</td>\n",
              "      <td>8.0</td>\n",
              "      <td>6.0</td>\n",
              "      <td>9.0</td>\n",
              "      <td>16.0</td>\n",
              "      <td>NaN</td>\n",
              "      <td>10.0</td>\n",
              "      <td>60.0</td>\n",
              "      <td>19.0</td>\n",
              "      <td>0.0</td>\n",
              "      <td>12.0</td>\n",
              "      <td>47.0</td>\n",
              "      <td>17.0</td>\n",
              "    </tr>\n",
              "    <tr>\n",
              "      <th>3</th>\n",
              "      <td>1610908Djarum Istimewa Soft Coklat Plain 12 St...</td>\n",
              "      <td>1610908</td>\n",
              "      <td>8991906101651</td>\n",
              "      <td>Djarum Istimewa Soft Coklat Plain 12 Stc (Sktb)</td>\n",
              "      <td>2021-07-26</td>\n",
              "      <td>12500.0</td>\n",
              "      <td>14000.0</td>\n",
              "      <td>10.0</td>\n",
              "      <td>2021-08-03</td>\n",
              "      <td>12500.0</td>\n",
              "      <td>14000.0</td>\n",
              "      <td>10.0</td>\n",
              "      <td>0.0</td>\n",
              "      <td>NaN</td>\n",
              "      <td>2021-08-09</td>\n",
              "      <td>12500.0</td>\n",
              "      <td>14000.0</td>\n",
              "      <td>10.0</td>\n",
              "      <td>10.0</td>\n",
              "      <td>0.0</td>\n",
              "      <td>10.0</td>\n",
              "      <td>COVID - Sales naik, banyak permintaan produk/k...</td>\n",
              "      <td>2021-08-18</td>\n",
              "      <td>12500.0</td>\n",
              "      <td>14000.0</td>\n",
              "      <td>10.0</td>\n",
              "      <td>30.0</td>\n",
              "      <td>0.0</td>\n",
              "      <td>10.0</td>\n",
              "      <td>30.0</td>\n",
              "      <td>COVID - Sales naik, banyak permintaan produk/k...</td>\n",
              "      <td>2021-09-03</td>\n",
              "      <td>12500.0</td>\n",
              "      <td>14000.0</td>\n",
              "      <td>1.0</td>\n",
              "      <td>10.0</td>\n",
              "      <td>0.0</td>\n",
              "      <td>10.0</td>\n",
              "      <td>30.0</td>\n",
              "      <td>19.0</td>\n",
              "      <td>COVID - Sales turun karena kekurangan pasokan</td>\n",
              "      <td>WARUNG MEDIUM</td>\n",
              "      <td>PALEMBANG</td>\n",
              "      <td>DJARUM ISTIMEWA 12</td>\n",
              "      <td>8.0</td>\n",
              "      <td>6.0</td>\n",
              "      <td>9.0</td>\n",
              "      <td>16.0</td>\n",
              "      <td>NaN</td>\n",
              "      <td>10.0</td>\n",
              "      <td>30.0</td>\n",
              "      <td>19.0</td>\n",
              "      <td>0.0</td>\n",
              "      <td>12.0</td>\n",
              "      <td>23.0</td>\n",
              "      <td>17.0</td>\n",
              "    </tr>\n",
              "    <tr>\n",
              "      <th>4</th>\n",
              "      <td>1610908Gudang Garam Red Soft Kspl 12 Stc (Sktb)</td>\n",
              "      <td>1610908</td>\n",
              "      <td>8998989501125</td>\n",
              "      <td>Gudang Garam Red Soft Kspl 12 Stc (Sktb)</td>\n",
              "      <td>2021-07-26</td>\n",
              "      <td>12500.0</td>\n",
              "      <td>14000.0</td>\n",
              "      <td>10.0</td>\n",
              "      <td>2021-08-03</td>\n",
              "      <td>12500.0</td>\n",
              "      <td>14000.0</td>\n",
              "      <td>10.0</td>\n",
              "      <td>0.0</td>\n",
              "      <td>NaN</td>\n",
              "      <td>2021-08-09</td>\n",
              "      <td>12500.0</td>\n",
              "      <td>14000.0</td>\n",
              "      <td>10.0</td>\n",
              "      <td>10.0</td>\n",
              "      <td>0.0</td>\n",
              "      <td>10.0</td>\n",
              "      <td>COVID - Sales naik, banyak permintaan produk/k...</td>\n",
              "      <td>2021-08-18</td>\n",
              "      <td>12150.0</td>\n",
              "      <td>14000.0</td>\n",
              "      <td>10.0</td>\n",
              "      <td>30.0</td>\n",
              "      <td>0.0</td>\n",
              "      <td>10.0</td>\n",
              "      <td>30.0</td>\n",
              "      <td>COVID - Sales naik, banyak permintaan produk/k...</td>\n",
              "      <td>2021-09-03</td>\n",
              "      <td>12500.0</td>\n",
              "      <td>14000.0</td>\n",
              "      <td>1.0</td>\n",
              "      <td>20.0</td>\n",
              "      <td>0.0</td>\n",
              "      <td>10.0</td>\n",
              "      <td>30.0</td>\n",
              "      <td>29.0</td>\n",
              "      <td>0</td>\n",
              "      <td>WARUNG MEDIUM</td>\n",
              "      <td>PALEMBANG</td>\n",
              "      <td>GG MERAH 12</td>\n",
              "      <td>8.0</td>\n",
              "      <td>6.0</td>\n",
              "      <td>9.0</td>\n",
              "      <td>16.0</td>\n",
              "      <td>NaN</td>\n",
              "      <td>10.0</td>\n",
              "      <td>30.0</td>\n",
              "      <td>29.0</td>\n",
              "      <td>0.0</td>\n",
              "      <td>12.0</td>\n",
              "      <td>23.0</td>\n",
              "      <td>25.0</td>\n",
              "    </tr>\n",
              "  </tbody>\n",
              "</table>\n",
              "</div>"
            ],
            "text/plain": [
              "                                         Concatenate  ...  Sales_RA4\n",
              "0    1609986Gudang Garam Red Soft Kspl 12 Stc (Sktb)  ...       18.0\n",
              "1        1610908Dji Sam Soe Soft Plain 12 Stc (Sktb)  ...       43.0\n",
              "2          1610908Panamas 1 Soft Plain 12 Stc (Sktb)  ...       17.0\n",
              "3  1610908Djarum Istimewa Soft Coklat Plain 12 St...  ...       17.0\n",
              "4    1610908Gudang Garam Red Soft Kspl 12 Stc (Sktb)  ...       25.0\n",
              "\n",
              "[5 rows x 56 columns]"
            ]
          },
          "metadata": {},
          "execution_count": 1999
        }
      ]
    },
    {
      "cell_type": "markdown",
      "metadata": {
        "id": "0IX_tezfhrv4"
      },
      "source": [
        "## Perhitungan Growth per Product Description per Area"
      ]
    },
    {
      "cell_type": "code",
      "metadata": {
        "id": "2mQ_wUKxibm5"
      },
      "source": [
        "# Hanya ambil data yang lengkap saja dari RA1-RA3\n",
        "C1 = df_merge['Sales_RA1'].notna()\n",
        "C2 = df_merge['Sales_RA2'].notna()\n",
        "C3 = df_merge['Sales_RA3'].notna()\n",
        "data_lengkap = df_merge[C1 & C2 & C3]\n",
        "pivot_data = pd.pivot_table(data_lengkap,\n",
        "                            index=['Area','Product Description'],\n",
        "                            values=['Sales_RA1','Sales_RA2','Sales_RA3'],\n",
        "                            aggfunc='sum').reset_index()\n",
        "pivot_data['Growth RA2'] = (pivot_data['Sales_RA2']-pivot_data['Sales_RA1'])/pivot_data['Sales_RA1']\n",
        "pivot_data['Growth RA3'] = (pivot_data['Sales_RA3']-pivot_data['Sales_RA2'])/pivot_data['Sales_RA2']"
      ],
      "execution_count": 2000,
      "outputs": []
    },
    {
      "cell_type": "code",
      "metadata": {
        "id": "T9yOax3ftMIG"
      },
      "source": [
        "pivot_data.insert(0, 'Concatenate2', pivot_data['Area'] + pivot_data['Product Description'])"
      ],
      "execution_count": 2001,
      "outputs": []
    },
    {
      "cell_type": "code",
      "metadata": {
        "id": "CpozKZLuFGdp"
      },
      "source": [
        "pivot_data.drop(['Area','Product Description','Sales_RA1','Sales_RA2','Sales_RA3'], axis=1, inplace=True)"
      ],
      "execution_count": 2002,
      "outputs": []
    },
    {
      "cell_type": "code",
      "metadata": {
        "id": "XrZwD__DJzxJ"
      },
      "source": [
        "growth_RA2_RA3 = pivot_data.copy()"
      ],
      "execution_count": 2003,
      "outputs": []
    },
    {
      "cell_type": "code",
      "metadata": {
        "id": "6Ku0zu3VEIDM"
      },
      "source": [
        "df_merge.insert(0, 'Concatenate2', df_merge['Area'] + df_merge['Product Description'])"
      ],
      "execution_count": 2004,
      "outputs": []
    },
    {
      "cell_type": "code",
      "metadata": {
        "colab": {
          "base_uri": "https://localhost:8080/",
          "height": 561
        },
        "id": "tu3TGLbPEczC",
        "outputId": "59eee13c-c7ec-48dc-e2b6-ae6b040c80e6"
      },
      "source": [
        "df_merge = pd.merge(df_merge, \n",
        "                    growth_RA2_RA3, \n",
        "                    on='Concatenate2',\n",
        "                    how='left')\n",
        "df_merge.head()"
      ],
      "execution_count": 2005,
      "outputs": [
        {
          "output_type": "execute_result",
          "data": {
            "text/html": [
              "<div>\n",
              "<style scoped>\n",
              "    .dataframe tbody tr th:only-of-type {\n",
              "        vertical-align: middle;\n",
              "    }\n",
              "\n",
              "    .dataframe tbody tr th {\n",
              "        vertical-align: top;\n",
              "    }\n",
              "\n",
              "    .dataframe thead th {\n",
              "        text-align: right;\n",
              "    }\n",
              "</style>\n",
              "<table border=\"1\" class=\"dataframe\">\n",
              "  <thead>\n",
              "    <tr style=\"text-align: right;\">\n",
              "      <th></th>\n",
              "      <th>Concatenate2</th>\n",
              "      <th>Concatenate</th>\n",
              "      <th>SMS Id</th>\n",
              "      <th>Bar Code</th>\n",
              "      <th>Product Description</th>\n",
              "      <th>IA</th>\n",
              "      <th>RBP_IA</th>\n",
              "      <th>RSP_IA</th>\n",
              "      <th>Stock_IA</th>\n",
              "      <th>RA1</th>\n",
              "      <th>RBP_RA1</th>\n",
              "      <th>RSP_RA1</th>\n",
              "      <th>Stock_RA1</th>\n",
              "      <th>Purchase_RA1</th>\n",
              "      <th>Sales</th>\n",
              "      <th>RA2</th>\n",
              "      <th>RBP_RA2</th>\n",
              "      <th>RSP_RA2</th>\n",
              "      <th>Stock_RA2</th>\n",
              "      <th>Purchase_RA2</th>\n",
              "      <th>Claimed_Sales_RA1(di_RA2)</th>\n",
              "      <th>Claimed_Sales_RA2(di_RA2)</th>\n",
              "      <th>Comment_RA2</th>\n",
              "      <th>RA3</th>\n",
              "      <th>RBP_RA3</th>\n",
              "      <th>RSP_RA3</th>\n",
              "      <th>Stock_RA3</th>\n",
              "      <th>Purchase_RA3</th>\n",
              "      <th>Claimed_Sales_RA1(di_RA3)</th>\n",
              "      <th>Claimed_Sales_RA2(di_RA3)</th>\n",
              "      <th>Claimed_Sales_RA3(di_RA3)</th>\n",
              "      <th>Comment_RA3</th>\n",
              "      <th>RA4</th>\n",
              "      <th>RBP_RA4</th>\n",
              "      <th>RSP_RA4</th>\n",
              "      <th>Stock_RA4</th>\n",
              "      <th>Purchase_RA4</th>\n",
              "      <th>Claimed_Sales_RA1(di_RA4)</th>\n",
              "      <th>Claimed_Sales_RA2(di_RA4)</th>\n",
              "      <th>Claimed_Sales_RA3(di_RA4)</th>\n",
              "      <th>Claimed_Sales_RA4(di_RA4)</th>\n",
              "      <th>Comment_RA4</th>\n",
              "      <th>Type Toko</th>\n",
              "      <th>Area</th>\n",
              "      <th>Item</th>\n",
              "      <th>ED_RA1</th>\n",
              "      <th>ED_RA2</th>\n",
              "      <th>ED_RA3</th>\n",
              "      <th>ED_RA4</th>\n",
              "      <th>Claimed_Sales_RA1</th>\n",
              "      <th>Claimed_Sales_RA2</th>\n",
              "      <th>Claimed_Sales_RA3</th>\n",
              "      <th>Claimed_Sales_RA4</th>\n",
              "      <th>Sales_RA1</th>\n",
              "      <th>Sales_RA2</th>\n",
              "      <th>Sales_RA3</th>\n",
              "      <th>Sales_RA4</th>\n",
              "      <th>Growth RA2</th>\n",
              "      <th>Growth RA3</th>\n",
              "    </tr>\n",
              "  </thead>\n",
              "  <tbody>\n",
              "    <tr>\n",
              "      <th>0</th>\n",
              "      <td>PALEMBANGGudang Garam Red Soft Kspl 12 Stc (Sktb)</td>\n",
              "      <td>1609986Gudang Garam Red Soft Kspl 12 Stc (Sktb)</td>\n",
              "      <td>1609986</td>\n",
              "      <td>8998989501125</td>\n",
              "      <td>Gudang Garam Red Soft Kspl 12 Stc (Sktb)</td>\n",
              "      <td>2021-07-26</td>\n",
              "      <td>12500.0</td>\n",
              "      <td>13000.0</td>\n",
              "      <td>20.0</td>\n",
              "      <td>2021-08-02</td>\n",
              "      <td>12500.0</td>\n",
              "      <td>13000.0</td>\n",
              "      <td>3.0</td>\n",
              "      <td>0.0</td>\n",
              "      <td>NaN</td>\n",
              "      <td>2021-08-10</td>\n",
              "      <td>12500.0</td>\n",
              "      <td>13000.0</td>\n",
              "      <td>3.0</td>\n",
              "      <td>17.0</td>\n",
              "      <td>17.0</td>\n",
              "      <td>17.0</td>\n",
              "      <td>0</td>\n",
              "      <td>2021-08-18</td>\n",
              "      <td>12500.0</td>\n",
              "      <td>13000.0</td>\n",
              "      <td>3.0</td>\n",
              "      <td>20.0</td>\n",
              "      <td>17.0</td>\n",
              "      <td>17.0</td>\n",
              "      <td>20.0</td>\n",
              "      <td>COVID - Sales naik, banyak permintaan produk/k...</td>\n",
              "      <td>2021-09-03</td>\n",
              "      <td>12200.0</td>\n",
              "      <td>13000.0</td>\n",
              "      <td>2.0</td>\n",
              "      <td>20.0</td>\n",
              "      <td>17.0</td>\n",
              "      <td>17.0</td>\n",
              "      <td>20.0</td>\n",
              "      <td>21.0</td>\n",
              "      <td>0</td>\n",
              "      <td>WARUNG MEDIUM</td>\n",
              "      <td>PALEMBANG</td>\n",
              "      <td>GG MERAH 12</td>\n",
              "      <td>7.0</td>\n",
              "      <td>8.0</td>\n",
              "      <td>8.0</td>\n",
              "      <td>16.0</td>\n",
              "      <td>17.0</td>\n",
              "      <td>17.0</td>\n",
              "      <td>20.0</td>\n",
              "      <td>21.0</td>\n",
              "      <td>17.0</td>\n",
              "      <td>15.0</td>\n",
              "      <td>18.0</td>\n",
              "      <td>18.0</td>\n",
              "      <td>0.558611</td>\n",
              "      <td>-0.067781</td>\n",
              "    </tr>\n",
              "    <tr>\n",
              "      <th>1</th>\n",
              "      <td>PALEMBANGDji Sam Soe Soft Plain 12 Stc (Sktb)</td>\n",
              "      <td>1610908Dji Sam Soe Soft Plain 12 Stc (Sktb)</td>\n",
              "      <td>1610908</td>\n",
              "      <td>8999909028234</td>\n",
              "      <td>Dji Sam Soe Soft Plain 12 Stc (Sktb)</td>\n",
              "      <td>2021-07-26</td>\n",
              "      <td>16500.0</td>\n",
              "      <td>18000.0</td>\n",
              "      <td>5.0</td>\n",
              "      <td>2021-08-03</td>\n",
              "      <td>16000.0</td>\n",
              "      <td>18000.0</td>\n",
              "      <td>10.0</td>\n",
              "      <td>10.0</td>\n",
              "      <td>NaN</td>\n",
              "      <td>2021-08-09</td>\n",
              "      <td>16000.0</td>\n",
              "      <td>18000.0</td>\n",
              "      <td>10.0</td>\n",
              "      <td>10.0</td>\n",
              "      <td>5.0</td>\n",
              "      <td>10.0</td>\n",
              "      <td>COVID - Sales naik, banyak permintaan produk/k...</td>\n",
              "      <td>2021-08-18</td>\n",
              "      <td>15850.0</td>\n",
              "      <td>18000.0</td>\n",
              "      <td>10.0</td>\n",
              "      <td>30.0</td>\n",
              "      <td>5.0</td>\n",
              "      <td>10.0</td>\n",
              "      <td>30.0</td>\n",
              "      <td>COVID - Sales naik, banyak permintaan produk/k...</td>\n",
              "      <td>2021-09-03</td>\n",
              "      <td>15900.0</td>\n",
              "      <td>18000.0</td>\n",
              "      <td>1.0</td>\n",
              "      <td>40.0</td>\n",
              "      <td>5.0</td>\n",
              "      <td>10.0</td>\n",
              "      <td>30.0</td>\n",
              "      <td>49.0</td>\n",
              "      <td>COVID - Sales naik, banyak permintaan produk/k...</td>\n",
              "      <td>WARUNG MEDIUM</td>\n",
              "      <td>PALEMBANG</td>\n",
              "      <td>DSS 12</td>\n",
              "      <td>8.0</td>\n",
              "      <td>6.0</td>\n",
              "      <td>9.0</td>\n",
              "      <td>16.0</td>\n",
              "      <td>5.0</td>\n",
              "      <td>10.0</td>\n",
              "      <td>30.0</td>\n",
              "      <td>49.0</td>\n",
              "      <td>4.0</td>\n",
              "      <td>12.0</td>\n",
              "      <td>23.0</td>\n",
              "      <td>43.0</td>\n",
              "      <td>0.278383</td>\n",
              "      <td>0.254258</td>\n",
              "    </tr>\n",
              "    <tr>\n",
              "      <th>2</th>\n",
              "      <td>PALEMBANGPanamas 1 Soft Plain 12 Stc (Sktb)</td>\n",
              "      <td>1610908Panamas 1 Soft Plain 12 Stc (Sktb)</td>\n",
              "      <td>1610908</td>\n",
              "      <td>8999909039124</td>\n",
              "      <td>Panamas 1 Soft Plain 12 Stc (Sktb)</td>\n",
              "      <td>2021-07-26</td>\n",
              "      <td>12500.0</td>\n",
              "      <td>14000.0</td>\n",
              "      <td>10.0</td>\n",
              "      <td>2021-08-03</td>\n",
              "      <td>12500.0</td>\n",
              "      <td>14000.0</td>\n",
              "      <td>10.0</td>\n",
              "      <td>0.0</td>\n",
              "      <td>NaN</td>\n",
              "      <td>2021-08-09</td>\n",
              "      <td>12500.0</td>\n",
              "      <td>14000.0</td>\n",
              "      <td>10.0</td>\n",
              "      <td>10.0</td>\n",
              "      <td>0.0</td>\n",
              "      <td>10.0</td>\n",
              "      <td>COVID - Sales naik, banyak permintaan produk/k...</td>\n",
              "      <td>2021-08-18</td>\n",
              "      <td>12500.0</td>\n",
              "      <td>14000.0</td>\n",
              "      <td>10.0</td>\n",
              "      <td>60.0</td>\n",
              "      <td>0.0</td>\n",
              "      <td>10.0</td>\n",
              "      <td>60.0</td>\n",
              "      <td>COVID - Sales naik, banyak permintaan produk/k...</td>\n",
              "      <td>2021-09-03</td>\n",
              "      <td>12500.0</td>\n",
              "      <td>14000.0</td>\n",
              "      <td>1.0</td>\n",
              "      <td>10.0</td>\n",
              "      <td>0.0</td>\n",
              "      <td>10.0</td>\n",
              "      <td>60.0</td>\n",
              "      <td>19.0</td>\n",
              "      <td>COVID - Sales turun karena kekurangan pasokan</td>\n",
              "      <td>WARUNG MEDIUM</td>\n",
              "      <td>PALEMBANG</td>\n",
              "      <td>PANAMAS 12</td>\n",
              "      <td>8.0</td>\n",
              "      <td>6.0</td>\n",
              "      <td>9.0</td>\n",
              "      <td>16.0</td>\n",
              "      <td>NaN</td>\n",
              "      <td>10.0</td>\n",
              "      <td>60.0</td>\n",
              "      <td>19.0</td>\n",
              "      <td>0.0</td>\n",
              "      <td>12.0</td>\n",
              "      <td>47.0</td>\n",
              "      <td>17.0</td>\n",
              "      <td>0.212903</td>\n",
              "      <td>0.006649</td>\n",
              "    </tr>\n",
              "    <tr>\n",
              "      <th>3</th>\n",
              "      <td>PALEMBANGDjarum Istimewa Soft Coklat Plain 12 ...</td>\n",
              "      <td>1610908Djarum Istimewa Soft Coklat Plain 12 St...</td>\n",
              "      <td>1610908</td>\n",
              "      <td>8991906101651</td>\n",
              "      <td>Djarum Istimewa Soft Coklat Plain 12 Stc (Sktb)</td>\n",
              "      <td>2021-07-26</td>\n",
              "      <td>12500.0</td>\n",
              "      <td>14000.0</td>\n",
              "      <td>10.0</td>\n",
              "      <td>2021-08-03</td>\n",
              "      <td>12500.0</td>\n",
              "      <td>14000.0</td>\n",
              "      <td>10.0</td>\n",
              "      <td>0.0</td>\n",
              "      <td>NaN</td>\n",
              "      <td>2021-08-09</td>\n",
              "      <td>12500.0</td>\n",
              "      <td>14000.0</td>\n",
              "      <td>10.0</td>\n",
              "      <td>10.0</td>\n",
              "      <td>0.0</td>\n",
              "      <td>10.0</td>\n",
              "      <td>COVID - Sales naik, banyak permintaan produk/k...</td>\n",
              "      <td>2021-08-18</td>\n",
              "      <td>12500.0</td>\n",
              "      <td>14000.0</td>\n",
              "      <td>10.0</td>\n",
              "      <td>30.0</td>\n",
              "      <td>0.0</td>\n",
              "      <td>10.0</td>\n",
              "      <td>30.0</td>\n",
              "      <td>COVID - Sales naik, banyak permintaan produk/k...</td>\n",
              "      <td>2021-09-03</td>\n",
              "      <td>12500.0</td>\n",
              "      <td>14000.0</td>\n",
              "      <td>1.0</td>\n",
              "      <td>10.0</td>\n",
              "      <td>0.0</td>\n",
              "      <td>10.0</td>\n",
              "      <td>30.0</td>\n",
              "      <td>19.0</td>\n",
              "      <td>COVID - Sales turun karena kekurangan pasokan</td>\n",
              "      <td>WARUNG MEDIUM</td>\n",
              "      <td>PALEMBANG</td>\n",
              "      <td>DJARUM ISTIMEWA 12</td>\n",
              "      <td>8.0</td>\n",
              "      <td>6.0</td>\n",
              "      <td>9.0</td>\n",
              "      <td>16.0</td>\n",
              "      <td>NaN</td>\n",
              "      <td>10.0</td>\n",
              "      <td>30.0</td>\n",
              "      <td>19.0</td>\n",
              "      <td>0.0</td>\n",
              "      <td>12.0</td>\n",
              "      <td>23.0</td>\n",
              "      <td>17.0</td>\n",
              "      <td>0.762658</td>\n",
              "      <td>0.473369</td>\n",
              "    </tr>\n",
              "    <tr>\n",
              "      <th>4</th>\n",
              "      <td>PALEMBANGGudang Garam Red Soft Kspl 12 Stc (Sktb)</td>\n",
              "      <td>1610908Gudang Garam Red Soft Kspl 12 Stc (Sktb)</td>\n",
              "      <td>1610908</td>\n",
              "      <td>8998989501125</td>\n",
              "      <td>Gudang Garam Red Soft Kspl 12 Stc (Sktb)</td>\n",
              "      <td>2021-07-26</td>\n",
              "      <td>12500.0</td>\n",
              "      <td>14000.0</td>\n",
              "      <td>10.0</td>\n",
              "      <td>2021-08-03</td>\n",
              "      <td>12500.0</td>\n",
              "      <td>14000.0</td>\n",
              "      <td>10.0</td>\n",
              "      <td>0.0</td>\n",
              "      <td>NaN</td>\n",
              "      <td>2021-08-09</td>\n",
              "      <td>12500.0</td>\n",
              "      <td>14000.0</td>\n",
              "      <td>10.0</td>\n",
              "      <td>10.0</td>\n",
              "      <td>0.0</td>\n",
              "      <td>10.0</td>\n",
              "      <td>COVID - Sales naik, banyak permintaan produk/k...</td>\n",
              "      <td>2021-08-18</td>\n",
              "      <td>12150.0</td>\n",
              "      <td>14000.0</td>\n",
              "      <td>10.0</td>\n",
              "      <td>30.0</td>\n",
              "      <td>0.0</td>\n",
              "      <td>10.0</td>\n",
              "      <td>30.0</td>\n",
              "      <td>COVID - Sales naik, banyak permintaan produk/k...</td>\n",
              "      <td>2021-09-03</td>\n",
              "      <td>12500.0</td>\n",
              "      <td>14000.0</td>\n",
              "      <td>1.0</td>\n",
              "      <td>20.0</td>\n",
              "      <td>0.0</td>\n",
              "      <td>10.0</td>\n",
              "      <td>30.0</td>\n",
              "      <td>29.0</td>\n",
              "      <td>0</td>\n",
              "      <td>WARUNG MEDIUM</td>\n",
              "      <td>PALEMBANG</td>\n",
              "      <td>GG MERAH 12</td>\n",
              "      <td>8.0</td>\n",
              "      <td>6.0</td>\n",
              "      <td>9.0</td>\n",
              "      <td>16.0</td>\n",
              "      <td>NaN</td>\n",
              "      <td>10.0</td>\n",
              "      <td>30.0</td>\n",
              "      <td>29.0</td>\n",
              "      <td>0.0</td>\n",
              "      <td>12.0</td>\n",
              "      <td>23.0</td>\n",
              "      <td>25.0</td>\n",
              "      <td>0.558611</td>\n",
              "      <td>-0.067781</td>\n",
              "    </tr>\n",
              "  </tbody>\n",
              "</table>\n",
              "</div>"
            ],
            "text/plain": [
              "                                        Concatenate2  ... Growth RA3\n",
              "0  PALEMBANGGudang Garam Red Soft Kspl 12 Stc (Sktb)  ...  -0.067781\n",
              "1      PALEMBANGDji Sam Soe Soft Plain 12 Stc (Sktb)  ...   0.254258\n",
              "2        PALEMBANGPanamas 1 Soft Plain 12 Stc (Sktb)  ...   0.006649\n",
              "3  PALEMBANGDjarum Istimewa Soft Coklat Plain 12 ...  ...   0.473369\n",
              "4  PALEMBANGGudang Garam Red Soft Kspl 12 Stc (Sktb)  ...  -0.067781\n",
              "\n",
              "[5 rows x 59 columns]"
            ]
          },
          "metadata": {},
          "execution_count": 2005
        }
      ]
    },
    {
      "cell_type": "markdown",
      "metadata": {
        "id": "iyJww9KOW_1S"
      },
      "source": [
        "Growth RA4"
      ]
    },
    {
      "cell_type": "code",
      "metadata": {
        "id": "v1fs7HUrW-rz"
      },
      "source": [
        "# Hanya ambil data yang lengkap saja dari RA3 dan RA4\n",
        "C3 = df_merge['Sales_RA3'].notna()\n",
        "C4 = df_merge['Sales_RA4'].notna()\n",
        "\n",
        "data_lengkap = df_merge[C3 & C4]\n",
        "pivot_data = pd.pivot_table(data_lengkap,\n",
        "                            index=['Area','Product Description'],\n",
        "                            values=['Sales_RA3','Sales_RA4'],\n",
        "                            aggfunc='sum').reset_index()\n",
        "pivot_data['Growth RA4'] = (pivot_data['Sales_RA4']-pivot_data['Sales_RA3'])/pivot_data['Sales_RA3']"
      ],
      "execution_count": 2006,
      "outputs": []
    },
    {
      "cell_type": "code",
      "metadata": {
        "id": "2rtu1rGmW-r0"
      },
      "source": [
        "pivot_data.insert(0, 'Concatenate2', pivot_data['Area'] + pivot_data['Product Description'])"
      ],
      "execution_count": 2007,
      "outputs": []
    },
    {
      "cell_type": "code",
      "metadata": {
        "id": "8jdIrcLgW-r0"
      },
      "source": [
        "pivot_data.drop(['Area','Product Description','Sales_RA3','Sales_RA4'], axis=1, inplace=True)"
      ],
      "execution_count": 2008,
      "outputs": []
    },
    {
      "cell_type": "code",
      "metadata": {
        "id": "siCNYolnW-r0"
      },
      "source": [
        "growth_RA4 = pivot_data.copy()"
      ],
      "execution_count": 2009,
      "outputs": []
    },
    {
      "cell_type": "code",
      "metadata": {
        "colab": {
          "base_uri": "https://localhost:8080/",
          "height": 561
        },
        "id": "LYmj9SIhXiXT",
        "outputId": "baf160cc-61c9-46e0-aaf4-bf6c0b108cf1"
      },
      "source": [
        "df_merge = pd.merge(df_merge, \n",
        "                    growth_RA4, \n",
        "                    on='Concatenate2',\n",
        "                    how='left')\n",
        "df_merge.head()"
      ],
      "execution_count": 2010,
      "outputs": [
        {
          "output_type": "execute_result",
          "data": {
            "text/html": [
              "<div>\n",
              "<style scoped>\n",
              "    .dataframe tbody tr th:only-of-type {\n",
              "        vertical-align: middle;\n",
              "    }\n",
              "\n",
              "    .dataframe tbody tr th {\n",
              "        vertical-align: top;\n",
              "    }\n",
              "\n",
              "    .dataframe thead th {\n",
              "        text-align: right;\n",
              "    }\n",
              "</style>\n",
              "<table border=\"1\" class=\"dataframe\">\n",
              "  <thead>\n",
              "    <tr style=\"text-align: right;\">\n",
              "      <th></th>\n",
              "      <th>Concatenate2</th>\n",
              "      <th>Concatenate</th>\n",
              "      <th>SMS Id</th>\n",
              "      <th>Bar Code</th>\n",
              "      <th>Product Description</th>\n",
              "      <th>IA</th>\n",
              "      <th>RBP_IA</th>\n",
              "      <th>RSP_IA</th>\n",
              "      <th>Stock_IA</th>\n",
              "      <th>RA1</th>\n",
              "      <th>RBP_RA1</th>\n",
              "      <th>RSP_RA1</th>\n",
              "      <th>Stock_RA1</th>\n",
              "      <th>Purchase_RA1</th>\n",
              "      <th>Sales</th>\n",
              "      <th>RA2</th>\n",
              "      <th>RBP_RA2</th>\n",
              "      <th>RSP_RA2</th>\n",
              "      <th>Stock_RA2</th>\n",
              "      <th>Purchase_RA2</th>\n",
              "      <th>Claimed_Sales_RA1(di_RA2)</th>\n",
              "      <th>Claimed_Sales_RA2(di_RA2)</th>\n",
              "      <th>Comment_RA2</th>\n",
              "      <th>RA3</th>\n",
              "      <th>RBP_RA3</th>\n",
              "      <th>RSP_RA3</th>\n",
              "      <th>Stock_RA3</th>\n",
              "      <th>Purchase_RA3</th>\n",
              "      <th>Claimed_Sales_RA1(di_RA3)</th>\n",
              "      <th>Claimed_Sales_RA2(di_RA3)</th>\n",
              "      <th>Claimed_Sales_RA3(di_RA3)</th>\n",
              "      <th>Comment_RA3</th>\n",
              "      <th>RA4</th>\n",
              "      <th>RBP_RA4</th>\n",
              "      <th>RSP_RA4</th>\n",
              "      <th>Stock_RA4</th>\n",
              "      <th>Purchase_RA4</th>\n",
              "      <th>Claimed_Sales_RA1(di_RA4)</th>\n",
              "      <th>Claimed_Sales_RA2(di_RA4)</th>\n",
              "      <th>Claimed_Sales_RA3(di_RA4)</th>\n",
              "      <th>Claimed_Sales_RA4(di_RA4)</th>\n",
              "      <th>Comment_RA4</th>\n",
              "      <th>Type Toko</th>\n",
              "      <th>Area</th>\n",
              "      <th>Item</th>\n",
              "      <th>ED_RA1</th>\n",
              "      <th>ED_RA2</th>\n",
              "      <th>ED_RA3</th>\n",
              "      <th>ED_RA4</th>\n",
              "      <th>Claimed_Sales_RA1</th>\n",
              "      <th>Claimed_Sales_RA2</th>\n",
              "      <th>Claimed_Sales_RA3</th>\n",
              "      <th>Claimed_Sales_RA4</th>\n",
              "      <th>Sales_RA1</th>\n",
              "      <th>Sales_RA2</th>\n",
              "      <th>Sales_RA3</th>\n",
              "      <th>Sales_RA4</th>\n",
              "      <th>Growth RA2</th>\n",
              "      <th>Growth RA3</th>\n",
              "      <th>Growth RA4</th>\n",
              "    </tr>\n",
              "  </thead>\n",
              "  <tbody>\n",
              "    <tr>\n",
              "      <th>0</th>\n",
              "      <td>PALEMBANGGudang Garam Red Soft Kspl 12 Stc (Sktb)</td>\n",
              "      <td>1609986Gudang Garam Red Soft Kspl 12 Stc (Sktb)</td>\n",
              "      <td>1609986</td>\n",
              "      <td>8998989501125</td>\n",
              "      <td>Gudang Garam Red Soft Kspl 12 Stc (Sktb)</td>\n",
              "      <td>2021-07-26</td>\n",
              "      <td>12500.0</td>\n",
              "      <td>13000.0</td>\n",
              "      <td>20.0</td>\n",
              "      <td>2021-08-02</td>\n",
              "      <td>12500.0</td>\n",
              "      <td>13000.0</td>\n",
              "      <td>3.0</td>\n",
              "      <td>0.0</td>\n",
              "      <td>NaN</td>\n",
              "      <td>2021-08-10</td>\n",
              "      <td>12500.0</td>\n",
              "      <td>13000.0</td>\n",
              "      <td>3.0</td>\n",
              "      <td>17.0</td>\n",
              "      <td>17.0</td>\n",
              "      <td>17.0</td>\n",
              "      <td>0</td>\n",
              "      <td>2021-08-18</td>\n",
              "      <td>12500.0</td>\n",
              "      <td>13000.0</td>\n",
              "      <td>3.0</td>\n",
              "      <td>20.0</td>\n",
              "      <td>17.0</td>\n",
              "      <td>17.0</td>\n",
              "      <td>20.0</td>\n",
              "      <td>COVID - Sales naik, banyak permintaan produk/k...</td>\n",
              "      <td>2021-09-03</td>\n",
              "      <td>12200.0</td>\n",
              "      <td>13000.0</td>\n",
              "      <td>2.0</td>\n",
              "      <td>20.0</td>\n",
              "      <td>17.0</td>\n",
              "      <td>17.0</td>\n",
              "      <td>20.0</td>\n",
              "      <td>21.0</td>\n",
              "      <td>0</td>\n",
              "      <td>WARUNG MEDIUM</td>\n",
              "      <td>PALEMBANG</td>\n",
              "      <td>GG MERAH 12</td>\n",
              "      <td>7.0</td>\n",
              "      <td>8.0</td>\n",
              "      <td>8.0</td>\n",
              "      <td>16.0</td>\n",
              "      <td>17.0</td>\n",
              "      <td>17.0</td>\n",
              "      <td>20.0</td>\n",
              "      <td>21.0</td>\n",
              "      <td>17.0</td>\n",
              "      <td>15.0</td>\n",
              "      <td>18.0</td>\n",
              "      <td>18.0</td>\n",
              "      <td>0.558611</td>\n",
              "      <td>-0.067781</td>\n",
              "      <td>0.909188</td>\n",
              "    </tr>\n",
              "    <tr>\n",
              "      <th>1</th>\n",
              "      <td>PALEMBANGDji Sam Soe Soft Plain 12 Stc (Sktb)</td>\n",
              "      <td>1610908Dji Sam Soe Soft Plain 12 Stc (Sktb)</td>\n",
              "      <td>1610908</td>\n",
              "      <td>8999909028234</td>\n",
              "      <td>Dji Sam Soe Soft Plain 12 Stc (Sktb)</td>\n",
              "      <td>2021-07-26</td>\n",
              "      <td>16500.0</td>\n",
              "      <td>18000.0</td>\n",
              "      <td>5.0</td>\n",
              "      <td>2021-08-03</td>\n",
              "      <td>16000.0</td>\n",
              "      <td>18000.0</td>\n",
              "      <td>10.0</td>\n",
              "      <td>10.0</td>\n",
              "      <td>NaN</td>\n",
              "      <td>2021-08-09</td>\n",
              "      <td>16000.0</td>\n",
              "      <td>18000.0</td>\n",
              "      <td>10.0</td>\n",
              "      <td>10.0</td>\n",
              "      <td>5.0</td>\n",
              "      <td>10.0</td>\n",
              "      <td>COVID - Sales naik, banyak permintaan produk/k...</td>\n",
              "      <td>2021-08-18</td>\n",
              "      <td>15850.0</td>\n",
              "      <td>18000.0</td>\n",
              "      <td>10.0</td>\n",
              "      <td>30.0</td>\n",
              "      <td>5.0</td>\n",
              "      <td>10.0</td>\n",
              "      <td>30.0</td>\n",
              "      <td>COVID - Sales naik, banyak permintaan produk/k...</td>\n",
              "      <td>2021-09-03</td>\n",
              "      <td>15900.0</td>\n",
              "      <td>18000.0</td>\n",
              "      <td>1.0</td>\n",
              "      <td>40.0</td>\n",
              "      <td>5.0</td>\n",
              "      <td>10.0</td>\n",
              "      <td>30.0</td>\n",
              "      <td>49.0</td>\n",
              "      <td>COVID - Sales naik, banyak permintaan produk/k...</td>\n",
              "      <td>WARUNG MEDIUM</td>\n",
              "      <td>PALEMBANG</td>\n",
              "      <td>DSS 12</td>\n",
              "      <td>8.0</td>\n",
              "      <td>6.0</td>\n",
              "      <td>9.0</td>\n",
              "      <td>16.0</td>\n",
              "      <td>5.0</td>\n",
              "      <td>10.0</td>\n",
              "      <td>30.0</td>\n",
              "      <td>49.0</td>\n",
              "      <td>4.0</td>\n",
              "      <td>12.0</td>\n",
              "      <td>23.0</td>\n",
              "      <td>43.0</td>\n",
              "      <td>0.278383</td>\n",
              "      <td>0.254258</td>\n",
              "      <td>0.764706</td>\n",
              "    </tr>\n",
              "    <tr>\n",
              "      <th>2</th>\n",
              "      <td>PALEMBANGPanamas 1 Soft Plain 12 Stc (Sktb)</td>\n",
              "      <td>1610908Panamas 1 Soft Plain 12 Stc (Sktb)</td>\n",
              "      <td>1610908</td>\n",
              "      <td>8999909039124</td>\n",
              "      <td>Panamas 1 Soft Plain 12 Stc (Sktb)</td>\n",
              "      <td>2021-07-26</td>\n",
              "      <td>12500.0</td>\n",
              "      <td>14000.0</td>\n",
              "      <td>10.0</td>\n",
              "      <td>2021-08-03</td>\n",
              "      <td>12500.0</td>\n",
              "      <td>14000.0</td>\n",
              "      <td>10.0</td>\n",
              "      <td>0.0</td>\n",
              "      <td>NaN</td>\n",
              "      <td>2021-08-09</td>\n",
              "      <td>12500.0</td>\n",
              "      <td>14000.0</td>\n",
              "      <td>10.0</td>\n",
              "      <td>10.0</td>\n",
              "      <td>0.0</td>\n",
              "      <td>10.0</td>\n",
              "      <td>COVID - Sales naik, banyak permintaan produk/k...</td>\n",
              "      <td>2021-08-18</td>\n",
              "      <td>12500.0</td>\n",
              "      <td>14000.0</td>\n",
              "      <td>10.0</td>\n",
              "      <td>60.0</td>\n",
              "      <td>0.0</td>\n",
              "      <td>10.0</td>\n",
              "      <td>60.0</td>\n",
              "      <td>COVID - Sales naik, banyak permintaan produk/k...</td>\n",
              "      <td>2021-09-03</td>\n",
              "      <td>12500.0</td>\n",
              "      <td>14000.0</td>\n",
              "      <td>1.0</td>\n",
              "      <td>10.0</td>\n",
              "      <td>0.0</td>\n",
              "      <td>10.0</td>\n",
              "      <td>60.0</td>\n",
              "      <td>19.0</td>\n",
              "      <td>COVID - Sales turun karena kekurangan pasokan</td>\n",
              "      <td>WARUNG MEDIUM</td>\n",
              "      <td>PALEMBANG</td>\n",
              "      <td>PANAMAS 12</td>\n",
              "      <td>8.0</td>\n",
              "      <td>6.0</td>\n",
              "      <td>9.0</td>\n",
              "      <td>16.0</td>\n",
              "      <td>NaN</td>\n",
              "      <td>10.0</td>\n",
              "      <td>60.0</td>\n",
              "      <td>19.0</td>\n",
              "      <td>0.0</td>\n",
              "      <td>12.0</td>\n",
              "      <td>47.0</td>\n",
              "      <td>17.0</td>\n",
              "      <td>0.212903</td>\n",
              "      <td>0.006649</td>\n",
              "      <td>1.020408</td>\n",
              "    </tr>\n",
              "    <tr>\n",
              "      <th>3</th>\n",
              "      <td>PALEMBANGDjarum Istimewa Soft Coklat Plain 12 ...</td>\n",
              "      <td>1610908Djarum Istimewa Soft Coklat Plain 12 St...</td>\n",
              "      <td>1610908</td>\n",
              "      <td>8991906101651</td>\n",
              "      <td>Djarum Istimewa Soft Coklat Plain 12 Stc (Sktb)</td>\n",
              "      <td>2021-07-26</td>\n",
              "      <td>12500.0</td>\n",
              "      <td>14000.0</td>\n",
              "      <td>10.0</td>\n",
              "      <td>2021-08-03</td>\n",
              "      <td>12500.0</td>\n",
              "      <td>14000.0</td>\n",
              "      <td>10.0</td>\n",
              "      <td>0.0</td>\n",
              "      <td>NaN</td>\n",
              "      <td>2021-08-09</td>\n",
              "      <td>12500.0</td>\n",
              "      <td>14000.0</td>\n",
              "      <td>10.0</td>\n",
              "      <td>10.0</td>\n",
              "      <td>0.0</td>\n",
              "      <td>10.0</td>\n",
              "      <td>COVID - Sales naik, banyak permintaan produk/k...</td>\n",
              "      <td>2021-08-18</td>\n",
              "      <td>12500.0</td>\n",
              "      <td>14000.0</td>\n",
              "      <td>10.0</td>\n",
              "      <td>30.0</td>\n",
              "      <td>0.0</td>\n",
              "      <td>10.0</td>\n",
              "      <td>30.0</td>\n",
              "      <td>COVID - Sales naik, banyak permintaan produk/k...</td>\n",
              "      <td>2021-09-03</td>\n",
              "      <td>12500.0</td>\n",
              "      <td>14000.0</td>\n",
              "      <td>1.0</td>\n",
              "      <td>10.0</td>\n",
              "      <td>0.0</td>\n",
              "      <td>10.0</td>\n",
              "      <td>30.0</td>\n",
              "      <td>19.0</td>\n",
              "      <td>COVID - Sales turun karena kekurangan pasokan</td>\n",
              "      <td>WARUNG MEDIUM</td>\n",
              "      <td>PALEMBANG</td>\n",
              "      <td>DJARUM ISTIMEWA 12</td>\n",
              "      <td>8.0</td>\n",
              "      <td>6.0</td>\n",
              "      <td>9.0</td>\n",
              "      <td>16.0</td>\n",
              "      <td>NaN</td>\n",
              "      <td>10.0</td>\n",
              "      <td>30.0</td>\n",
              "      <td>19.0</td>\n",
              "      <td>0.0</td>\n",
              "      <td>12.0</td>\n",
              "      <td>23.0</td>\n",
              "      <td>17.0</td>\n",
              "      <td>0.762658</td>\n",
              "      <td>0.473369</td>\n",
              "      <td>0.307003</td>\n",
              "    </tr>\n",
              "    <tr>\n",
              "      <th>4</th>\n",
              "      <td>PALEMBANGGudang Garam Red Soft Kspl 12 Stc (Sktb)</td>\n",
              "      <td>1610908Gudang Garam Red Soft Kspl 12 Stc (Sktb)</td>\n",
              "      <td>1610908</td>\n",
              "      <td>8998989501125</td>\n",
              "      <td>Gudang Garam Red Soft Kspl 12 Stc (Sktb)</td>\n",
              "      <td>2021-07-26</td>\n",
              "      <td>12500.0</td>\n",
              "      <td>14000.0</td>\n",
              "      <td>10.0</td>\n",
              "      <td>2021-08-03</td>\n",
              "      <td>12500.0</td>\n",
              "      <td>14000.0</td>\n",
              "      <td>10.0</td>\n",
              "      <td>0.0</td>\n",
              "      <td>NaN</td>\n",
              "      <td>2021-08-09</td>\n",
              "      <td>12500.0</td>\n",
              "      <td>14000.0</td>\n",
              "      <td>10.0</td>\n",
              "      <td>10.0</td>\n",
              "      <td>0.0</td>\n",
              "      <td>10.0</td>\n",
              "      <td>COVID - Sales naik, banyak permintaan produk/k...</td>\n",
              "      <td>2021-08-18</td>\n",
              "      <td>12150.0</td>\n",
              "      <td>14000.0</td>\n",
              "      <td>10.0</td>\n",
              "      <td>30.0</td>\n",
              "      <td>0.0</td>\n",
              "      <td>10.0</td>\n",
              "      <td>30.0</td>\n",
              "      <td>COVID - Sales naik, banyak permintaan produk/k...</td>\n",
              "      <td>2021-09-03</td>\n",
              "      <td>12500.0</td>\n",
              "      <td>14000.0</td>\n",
              "      <td>1.0</td>\n",
              "      <td>20.0</td>\n",
              "      <td>0.0</td>\n",
              "      <td>10.0</td>\n",
              "      <td>30.0</td>\n",
              "      <td>29.0</td>\n",
              "      <td>0</td>\n",
              "      <td>WARUNG MEDIUM</td>\n",
              "      <td>PALEMBANG</td>\n",
              "      <td>GG MERAH 12</td>\n",
              "      <td>8.0</td>\n",
              "      <td>6.0</td>\n",
              "      <td>9.0</td>\n",
              "      <td>16.0</td>\n",
              "      <td>NaN</td>\n",
              "      <td>10.0</td>\n",
              "      <td>30.0</td>\n",
              "      <td>29.0</td>\n",
              "      <td>0.0</td>\n",
              "      <td>12.0</td>\n",
              "      <td>23.0</td>\n",
              "      <td>25.0</td>\n",
              "      <td>0.558611</td>\n",
              "      <td>-0.067781</td>\n",
              "      <td>0.909188</td>\n",
              "    </tr>\n",
              "  </tbody>\n",
              "</table>\n",
              "</div>"
            ],
            "text/plain": [
              "                                        Concatenate2  ... Growth RA4\n",
              "0  PALEMBANGGudang Garam Red Soft Kspl 12 Stc (Sktb)  ...   0.909188\n",
              "1      PALEMBANGDji Sam Soe Soft Plain 12 Stc (Sktb)  ...   0.764706\n",
              "2        PALEMBANGPanamas 1 Soft Plain 12 Stc (Sktb)  ...   1.020408\n",
              "3  PALEMBANGDjarum Istimewa Soft Coklat Plain 12 ...  ...   0.307003\n",
              "4  PALEMBANGGudang Garam Red Soft Kspl 12 Stc (Sktb)  ...   0.909188\n",
              "\n",
              "[5 rows x 60 columns]"
            ]
          },
          "metadata": {},
          "execution_count": 2010
        }
      ]
    },
    {
      "cell_type": "markdown",
      "metadata": {
        "id": "QBGED7ZIbqsD"
      },
      "source": [
        "# Drop toko2 yang 3NA, dan 4NA\n",
        "\n",
        "\n"
      ]
    },
    {
      "cell_type": "code",
      "metadata": {
        "id": "XO4_dcTl866R"
      },
      "source": [
        "#  Drop toko yg dari List Nielsen, ganti toko dari list client [Karawang & Madiun]\n",
        "list_toko_drop = (1614851, 1614852, 1614859, 1614860, 1614864, 1614865, 1614867,\n",
        "                      1614875, 1614879, 1614892, 1614898, 1614899, 1614905, 1614923,\n",
        "                      1614883, 1614884)\n",
        "drop_toko_ = pd.DataFrame(list_toko_drop, columns=['SMS Id'])"
      ],
      "execution_count": 2011,
      "outputs": []
    },
    {
      "cell_type": "code",
      "metadata": {
        "id": "fGfVTuSZc-iS"
      },
      "source": [
        "# menghitung store2 yang NA / tidak ada penjualan\n",
        "Cek_NA = df_merge.groupby('SMS Id').sum()[['Sales_RA1','Sales_RA2','Sales_RA3','Sales_RA4']].reset_index()\n",
        "Cek_NA['RA1_NA'] = np.where(Cek_NA['Sales_RA1']==0, 1, 0)\n",
        "Cek_NA['RA2_NA'] = np.where(Cek_NA['Sales_RA2']==0, 1, 0)\n",
        "Cek_NA['RA3_NA'] = np.where(Cek_NA['Sales_RA3']==0, 1, 0)\n",
        "Cek_NA['RA4_NA'] = np.where(Cek_NA['Sales_RA4']==0, 1, 0)\n",
        "Cek_NA['Total_NA'] = Cek_NA['RA1_NA'] + Cek_NA['RA2_NA'] + Cek_NA['RA3_NA'] + Cek_NA['RA4_NA'] "
      ],
      "execution_count": 2012,
      "outputs": []
    },
    {
      "cell_type": "code",
      "metadata": {
        "id": "PPDS_QQ3evCH"
      },
      "source": [
        "# menggabungkan list toko yang 3NA, 4NA dengan toko karawang/madiun yg di drop\n",
        "\n",
        "drop_toko = Cek_NA[(Cek_NA['Total_NA']==4) | (Cek_NA['Total_NA']==3)].copy()\n",
        "drop_toko = drop_toko.drop(['Sales_RA1','Sales_RA2','Sales_RA3','Sales_RA4',\n",
        "                            'RA1_NA','RA2_NA','RA3_NA','RA4_NA',\n",
        "                            'Total_NA'], axis=1).reset_index(drop=True)\n",
        "drop_toko.append(drop_toko_, ignore_index=True)\n",
        "drop_toko['remarks'] = 'drop_toko'"
      ],
      "execution_count": 2013,
      "outputs": []
    },
    {
      "cell_type": "code",
      "metadata": {
        "id": "jQaiJDPylBfE"
      },
      "source": [
        "# drop toko dari list\n",
        "df_merge = pd.merge(df_merge, \n",
        "                    drop_toko, \n",
        "                    on='SMS Id',\n",
        "                    how='left')\n",
        "df_merge = df_merge[df_merge['remarks']!='drop_toko']"
      ],
      "execution_count": 2014,
      "outputs": []
    },
    {
      "cell_type": "code",
      "metadata": {
        "colab": {
          "base_uri": "https://localhost:8080/",
          "height": 230
        },
        "id": "q4Cbq-g4l6gL",
        "outputId": "2fe17c77-3a41-4e87-a44a-49db3737e817"
      },
      "source": [
        "# menghitung jumlah toko setelah di drop\n",
        "hitung_toko = pd.pivot_table(df_merge,\n",
        "               index=['Area','SMS Id'],\n",
        "               values='Bar Code',\n",
        "               aggfunc='count').reset_index()\n",
        "pd.pivot_table(hitung_toko,\n",
        "               index='Area',\n",
        "               values='SMS Id',\n",
        "               aggfunc='count')"
      ],
      "execution_count": 2016,
      "outputs": [
        {
          "output_type": "execute_result",
          "data": {
            "text/html": [
              "<div>\n",
              "<style scoped>\n",
              "    .dataframe tbody tr th:only-of-type {\n",
              "        vertical-align: middle;\n",
              "    }\n",
              "\n",
              "    .dataframe tbody tr th {\n",
              "        vertical-align: top;\n",
              "    }\n",
              "\n",
              "    .dataframe thead th {\n",
              "        text-align: right;\n",
              "    }\n",
              "</style>\n",
              "<table border=\"1\" class=\"dataframe\">\n",
              "  <thead>\n",
              "    <tr style=\"text-align: right;\">\n",
              "      <th></th>\n",
              "      <th>SMS Id</th>\n",
              "    </tr>\n",
              "    <tr>\n",
              "      <th>Area</th>\n",
              "      <th></th>\n",
              "    </tr>\n",
              "  </thead>\n",
              "  <tbody>\n",
              "    <tr>\n",
              "      <th>KARAWANG</th>\n",
              "      <td>87</td>\n",
              "    </tr>\n",
              "    <tr>\n",
              "      <th>KUPANG</th>\n",
              "      <td>80</td>\n",
              "    </tr>\n",
              "    <tr>\n",
              "      <th>LAMPUNG</th>\n",
              "      <td>84</td>\n",
              "    </tr>\n",
              "    <tr>\n",
              "      <th>MADIUN</th>\n",
              "      <td>82</td>\n",
              "    </tr>\n",
              "    <tr>\n",
              "      <th>PALEMBANG</th>\n",
              "      <td>76</td>\n",
              "    </tr>\n",
              "  </tbody>\n",
              "</table>\n",
              "</div>"
            ],
            "text/plain": [
              "           SMS Id\n",
              "Area             \n",
              "KARAWANG       87\n",
              "KUPANG         80\n",
              "LAMPUNG        84\n",
              "MADIUN         82\n",
              "PALEMBANG      76"
            ]
          },
          "metadata": {},
          "execution_count": 2016
        }
      ]
    },
    {
      "cell_type": "code",
      "metadata": {
        "id": "i8D0I3Dj80p4"
      },
      "source": [
        ""
      ],
      "execution_count": 2016,
      "outputs": []
    },
    {
      "cell_type": "markdown",
      "metadata": {
        "id": "1CPHFHSqYCMN"
      },
      "source": [
        "## (*) Mengisi data jika sales RA1, RA2, dan RA3 blank; RA4 tidak blank"
      ]
    },
    {
      "cell_type": "code",
      "metadata": {
        "colab": {
          "base_uri": "https://localhost:8080/",
          "height": 83
        },
        "id": "OuVG4D1OX37I",
        "outputId": "01ce8a11-f2a2-427f-8312-614f7155d2c7"
      },
      "source": [
        "'''C1 = df_merge['Sales_RA1'].isna()\n",
        "C2 = df_merge['Sales_RA2'].isna()\n",
        "C3 = df_merge['Sales_RA3'].isna()\n",
        "C4 = df_merge['Sales_RA4'].notna()\n",
        "\n",
        "df_merge['Sales_RA1'] = np.where(C1&C2&C3&C4, round((df_merge['Sales_RA4']/(df_merge['Growth RA4']+1))/3), df_merge['Sales_RA1'])\n",
        "df_merge['Sales_RA2'] = np.where(C1&C2&C3&C4, round((df_merge['Sales_RA4']/(df_merge['Growth RA4']+1))/3), df_merge['Sales_RA2'])\n",
        "df_merge['Sales_RA3'] = np.where(C1&C2&C3&C4, round((df_merge['Sales_RA4']/(df_merge['Growth RA4']+1))/3), df_merge['Sales_RA3'])'''"
      ],
      "execution_count": 2017,
      "outputs": [
        {
          "output_type": "execute_result",
          "data": {
            "application/vnd.google.colaboratory.intrinsic+json": {
              "type": "string"
            },
            "text/plain": [
              "\"C1 = df_merge['Sales_RA1'].isna()\\nC2 = df_merge['Sales_RA2'].isna()\\nC3 = df_merge['Sales_RA3'].isna()\\nC4 = df_merge['Sales_RA4'].notna()\\n\\ndf_merge['Sales_RA1'] = np.where(C1&C2&C3&C4, round((df_merge['Sales_RA4']/(df_merge['Growth RA4']+1))/3), df_merge['Sales_RA1'])\\ndf_merge['Sales_RA2'] = np.where(C1&C2&C3&C4, round((df_merge['Sales_RA4']/(df_merge['Growth RA4']+1))/3), df_merge['Sales_RA2'])\\ndf_merge['Sales_RA3'] = np.where(C1&C2&C3&C4, round((df_merge['Sales_RA4']/(df_merge['Growth RA4']+1))/3), df_merge['Sales_RA3'])\""
            ]
          },
          "metadata": {},
          "execution_count": 2017
        }
      ]
    },
    {
      "cell_type": "markdown",
      "metadata": {
        "id": "cH_URXK-PqN7"
      },
      "source": [
        "##(*) Mengisi data jika sales R1 dan RA2 blank, RA3 tidak blank"
      ]
    },
    {
      "cell_type": "code",
      "metadata": {
        "id": "LemXQ-KVP_9l"
      },
      "source": [
        "C1 = df_merge['Sales_RA1'].isna()\n",
        "C2 = df_merge['Sales_RA2'].isna()\n",
        "C3 = df_merge['Sales_RA3'].notna()\n",
        "\n",
        "df_merge['Sales_RA1'] = np.where(C1&C2&C3, round((df_merge['Sales_RA3']/(df_merge['Growth RA3']+1))/2), df_merge['Sales_RA1'])\n",
        "df_merge['Sales_RA2'] = np.where(C1&C2&C3, round((df_merge['Sales_RA3']/(df_merge['Growth RA3']+1))/2), df_merge['Sales_RA2'])"
      ],
      "execution_count": 2049,
      "outputs": []
    },
    {
      "cell_type": "markdown",
      "metadata": {
        "id": "gdnJt2RgBzn_"
      },
      "source": [
        "## (*) Mengisi data jika hanya sales RA1 yang blank RA2 tidak blank\n",
        "\n",
        "\n"
      ]
    },
    {
      "cell_type": "code",
      "metadata": {
        "id": "tdL4cXBtB5y8"
      },
      "source": [
        "C1 = df_merge['Sales_RA1'].isna()\n",
        "C2 = df_merge['Sales_RA2'].notna()\n",
        "\n",
        "df_merge['Sales_RA1'] = np.where(C1&C2, round(df_merge['Sales_RA2']/(df_merge['Growth RA2']+1)), df_merge['Sales_RA1'])"
      ],
      "execution_count": 2019,
      "outputs": []
    },
    {
      "cell_type": "markdown",
      "metadata": {
        "id": "GAMA3GalCO13"
      },
      "source": [
        "##(*) Mengisi data jika hanya sales RA2 yang blank RA1 tidak blank\n",
        "\n"
      ]
    },
    {
      "cell_type": "code",
      "metadata": {
        "id": "ifHZw7S4Byx_"
      },
      "source": [
        "C1 = df_merge['Sales_RA1'].notna()\n",
        "C2 = df_merge['Sales_RA2'].isna()\n",
        "\n",
        "df_merge['Sales_RA2'] = np.where(C1&C2, round(df_merge['Sales_RA1']*(df_merge['Growth RA2']+1)), df_merge['Sales_RA2'])"
      ],
      "execution_count": 2020,
      "outputs": []
    },
    {
      "cell_type": "markdown",
      "metadata": {
        "id": "EFKX4m7SCS7c"
      },
      "source": [
        "##(*) Mengisi data jika sales RA3 yang blank RA2 tidak blank"
      ]
    },
    {
      "cell_type": "code",
      "metadata": {
        "id": "Nt2GxTSOPpwD"
      },
      "source": [
        "C2 = df_merge['Sales_RA2'].notna()\n",
        "C3 = df_merge['Sales_RA3'].isna()\n",
        "\n",
        "df_merge['Sales_RA3'] = np.where(C2&C3, round(df_merge['Sales_RA2']*(df_merge['Growth RA3']+1)), df_merge['Sales_RA3'])"
      ],
      "execution_count": 2021,
      "outputs": []
    },
    {
      "cell_type": "markdown",
      "metadata": {
        "id": "pM4jOa2OO-3z"
      },
      "source": [
        "##(*) Mengisi data jika hanya sales R4 yang blank RA3 tidak blank"
      ]
    },
    {
      "cell_type": "code",
      "metadata": {
        "id": "sUm_TTPZO8iD"
      },
      "source": [
        "C3 = df_merge['Sales_RA3'].notna()\n",
        "C4 = df_merge['Sales_RA4'].isna()\n",
        "\n",
        "df_merge['Sales_RA4'] = np.where(C3&C4, round(df_merge['Sales_RA3']*(df_merge['Growth RA4']+1)), df_merge['Sales_RA4'])"
      ],
      "execution_count": 2022,
      "outputs": []
    },
    {
      "cell_type": "markdown",
      "metadata": {
        "id": "ncV_uz9PLxoo"
      },
      "source": [
        "##(*) Mengisi RBP yang blank dengan RBP di periode sebelumnya atau setelahnya"
      ]
    },
    {
      "cell_type": "code",
      "metadata": {
        "id": "W3BCucZaLxoo"
      },
      "source": [
        "df_clean['RBP_IA'] = np.where(df_clean['RBP_IA'].isna(), df_clean['RBP_RA1'], df_clean['RBP_IA'])\n",
        "df_clean['RBP_RA1'] = np.where(df_clean['RBP_RA1'].isna(), df_clean['RBP_IA'], df_clean['RBP_RA1'])\n",
        "df_clean['RBP_RA1'] = np.where(df_clean['RBP_RA1'].isna(), df_clean['RBP_RA2'], df_clean['RBP_RA1'])\n",
        "df_clean['RBP_RA2'] = np.where(df_clean['RBP_RA2'].isna(), df_clean['RBP_RA1'], df_clean['RBP_RA2'])\n",
        "df_clean['RBP_RA2'] = np.where(df_clean['RBP_RA2'].isna(), df_clean['RBP_RA3'], df_clean['RBP_RA2'])\n",
        "df_clean['RBP_RA3'] = np.where(df_clean['RBP_RA3'].isna(), df_clean['RBP_RA2'], df_clean['RBP_RA3'])\n",
        "df_clean['RBP_RA3'] = np.where(df_clean['RBP_RA3'].isna(), df_clean['RBP_RA4'], df_clean['RBP_RA3'])\n",
        "df_clean['RBP_RA4'] = np.where(df_clean['RBP_RA4'].isna(), df_clean['RBP_RA3'], df_clean['RBP_RA4'])"
      ],
      "execution_count": null,
      "outputs": []
    },
    {
      "cell_type": "markdown",
      "metadata": {
        "id": "5PMcxjmxIxSZ"
      },
      "source": [
        "##(*) Mengisi RSP/Price yang blank dengan RSP/Price di periode sebelumnya atau setelahnya"
      ]
    },
    {
      "cell_type": "code",
      "metadata": {
        "id": "7wUGT0nWJZLJ"
      },
      "source": [
        "df_clean['RSP_IA'] = np.where(df_clean['RSP_IA'].isna(), df_clean['RSP_RA1'], df_clean['RSP_IA'])\n",
        "df_clean['RSP_RA1'] = np.where(df_clean['RSP_RA1'].isna(), df_clean['RSP_IA'], df_clean['RSP_RA1'])\n",
        "df_clean['RSP_RA1'] = np.where(df_clean['RSP_RA1'].isna(), df_clean['RSP_RA2'], df_clean['RSP_RA1'])\n",
        "df_clean['RSP_RA2'] = np.where(df_clean['RSP_RA2'].isna(), df_clean['RSP_RA1'], df_clean['RSP_RA2'])\n",
        "df_clean['RSP_RA2'] = np.where(df_clean['RSP_RA2'].isna(), df_clean['RSP_RA3'], df_clean['RSP_RA2'])\n",
        "df_clean['RSP_RA3'] = np.where(df_clean['RSP_RA3'].isna(), df_clean['RSP_RA2'], df_clean['RSP_RA3'])\n",
        "df_clean['RSP_RA3'] = np.where(df_clean['RSP_RA3'].isna(), df_clean['RSP_RA4'], df_clean['RSP_RA3'])\n",
        "df_clean['RSP_RA4'] = np.where(df_clean['RSP_RA4'].isna(), df_clean['RSP_RA3'], df_clean['RSP_RA4'])"
      ],
      "execution_count": 2083,
      "outputs": []
    },
    {
      "cell_type": "markdown",
      "metadata": {
        "id": "0eBSMelNXd-G"
      },
      "source": [
        "# Notes"
      ]
    },
    {
      "cell_type": "markdown",
      "metadata": {
        "id": "PXr33Hrn-yph"
      },
      "source": [
        "sales = prev_stock+purchase+missinginv+missinstock-shopstock-otherstock - goodreturn-wholesales\n",
        "\n"
      ]
    },
    {
      "cell_type": "markdown",
      "metadata": {
        "id": "Qw0CEO1TbKCY"
      },
      "source": [
        "# Recheck POINT\n",
        "\n"
      ]
    },
    {
      "cell_type": "markdown",
      "metadata": {
        "id": "Wb61ndGH5RaH"
      },
      "source": [
        "## 1.Cek Toko2 yang penjualannya terlalu tinggi daripada toko2 lainnya\n",
        "\n",
        "\n"
      ]
    },
    {
      "cell_type": "code",
      "metadata": {
        "colab": {
          "base_uri": "https://localhost:8080/",
          "height": 892
        },
        "id": "zV_kD7uMPeoW",
        "outputId": "a39506f6-93bc-4d7e-b217-99efcf73960d"
      },
      "source": [
        "df_merge[df_merge['SMS Id']==1609898]"
      ],
      "execution_count": 2024,
      "outputs": [
        {
          "output_type": "execute_result",
          "data": {
            "text/html": [
              "<div>\n",
              "<style scoped>\n",
              "    .dataframe tbody tr th:only-of-type {\n",
              "        vertical-align: middle;\n",
              "    }\n",
              "\n",
              "    .dataframe tbody tr th {\n",
              "        vertical-align: top;\n",
              "    }\n",
              "\n",
              "    .dataframe thead th {\n",
              "        text-align: right;\n",
              "    }\n",
              "</style>\n",
              "<table border=\"1\" class=\"dataframe\">\n",
              "  <thead>\n",
              "    <tr style=\"text-align: right;\">\n",
              "      <th></th>\n",
              "      <th>Concatenate2</th>\n",
              "      <th>Concatenate</th>\n",
              "      <th>SMS Id</th>\n",
              "      <th>Bar Code</th>\n",
              "      <th>Product Description</th>\n",
              "      <th>IA</th>\n",
              "      <th>RBP_IA</th>\n",
              "      <th>RSP_IA</th>\n",
              "      <th>Stock_IA</th>\n",
              "      <th>RA1</th>\n",
              "      <th>RBP_RA1</th>\n",
              "      <th>RSP_RA1</th>\n",
              "      <th>Stock_RA1</th>\n",
              "      <th>Purchase_RA1</th>\n",
              "      <th>Sales</th>\n",
              "      <th>RA2</th>\n",
              "      <th>RBP_RA2</th>\n",
              "      <th>RSP_RA2</th>\n",
              "      <th>Stock_RA2</th>\n",
              "      <th>Purchase_RA2</th>\n",
              "      <th>Claimed_Sales_RA1(di_RA2)</th>\n",
              "      <th>Claimed_Sales_RA2(di_RA2)</th>\n",
              "      <th>Comment_RA2</th>\n",
              "      <th>RA3</th>\n",
              "      <th>RBP_RA3</th>\n",
              "      <th>RSP_RA3</th>\n",
              "      <th>Stock_RA3</th>\n",
              "      <th>Purchase_RA3</th>\n",
              "      <th>Claimed_Sales_RA1(di_RA3)</th>\n",
              "      <th>Claimed_Sales_RA2(di_RA3)</th>\n",
              "      <th>Claimed_Sales_RA3(di_RA3)</th>\n",
              "      <th>Comment_RA3</th>\n",
              "      <th>RA4</th>\n",
              "      <th>RBP_RA4</th>\n",
              "      <th>RSP_RA4</th>\n",
              "      <th>Stock_RA4</th>\n",
              "      <th>Purchase_RA4</th>\n",
              "      <th>Claimed_Sales_RA1(di_RA4)</th>\n",
              "      <th>Claimed_Sales_RA2(di_RA4)</th>\n",
              "      <th>Claimed_Sales_RA3(di_RA4)</th>\n",
              "      <th>Claimed_Sales_RA4(di_RA4)</th>\n",
              "      <th>Comment_RA4</th>\n",
              "      <th>Type Toko</th>\n",
              "      <th>Area</th>\n",
              "      <th>Item</th>\n",
              "      <th>ED_RA1</th>\n",
              "      <th>ED_RA2</th>\n",
              "      <th>ED_RA3</th>\n",
              "      <th>ED_RA4</th>\n",
              "      <th>Claimed_Sales_RA1</th>\n",
              "      <th>Claimed_Sales_RA2</th>\n",
              "      <th>Claimed_Sales_RA3</th>\n",
              "      <th>Claimed_Sales_RA4</th>\n",
              "      <th>Sales_RA1</th>\n",
              "      <th>Sales_RA2</th>\n",
              "      <th>Sales_RA3</th>\n",
              "      <th>Sales_RA4</th>\n",
              "      <th>Growth RA2</th>\n",
              "      <th>Growth RA3</th>\n",
              "      <th>Growth RA4</th>\n",
              "      <th>remarks</th>\n",
              "    </tr>\n",
              "  </thead>\n",
              "  <tbody>\n",
              "    <tr>\n",
              "      <th>1875</th>\n",
              "      <td>PALEMBANGPanamas 1 Soft Plain 12 Stc (Sktb)</td>\n",
              "      <td>1609898Panamas 1 Soft Plain 12 Stc (Sktb)</td>\n",
              "      <td>1609898</td>\n",
              "      <td>8999909039124</td>\n",
              "      <td>Panamas 1 Soft Plain 12 Stc (Sktb)</td>\n",
              "      <td>2021-07-26</td>\n",
              "      <td>12000.0</td>\n",
              "      <td>13000.0</td>\n",
              "      <td>12.0</td>\n",
              "      <td>2021-08-03</td>\n",
              "      <td>12000.0</td>\n",
              "      <td>13000.0</td>\n",
              "      <td>8.0</td>\n",
              "      <td>10.0</td>\n",
              "      <td>NaN</td>\n",
              "      <td>2021-08-10</td>\n",
              "      <td>12000.0</td>\n",
              "      <td>13000.0</td>\n",
              "      <td>8.0</td>\n",
              "      <td>15.0</td>\n",
              "      <td>14.0</td>\n",
              "      <td>15.0</td>\n",
              "      <td>0</td>\n",
              "      <td>2021-08-17</td>\n",
              "      <td>12000.0</td>\n",
              "      <td>13000.0</td>\n",
              "      <td>8.0</td>\n",
              "      <td>20.0</td>\n",
              "      <td>14.0</td>\n",
              "      <td>15.0</td>\n",
              "      <td>20.0</td>\n",
              "      <td>COVID - Sales naik, banyak permintaan produk/k...</td>\n",
              "      <td>NaT</td>\n",
              "      <td>NaN</td>\n",
              "      <td>NaN</td>\n",
              "      <td>NaN</td>\n",
              "      <td>NaN</td>\n",
              "      <td>NaN</td>\n",
              "      <td>NaN</td>\n",
              "      <td>NaN</td>\n",
              "      <td>NaN</td>\n",
              "      <td>NaN</td>\n",
              "      <td>WARUNG MEDIUM</td>\n",
              "      <td>PALEMBANG</td>\n",
              "      <td>PANAMAS 12</td>\n",
              "      <td>8.0</td>\n",
              "      <td>7.0</td>\n",
              "      <td>7.0</td>\n",
              "      <td>0.0</td>\n",
              "      <td>14.0</td>\n",
              "      <td>15.0</td>\n",
              "      <td>20.0</td>\n",
              "      <td>NaN</td>\n",
              "      <td>12.0</td>\n",
              "      <td>15.0</td>\n",
              "      <td>20.0</td>\n",
              "      <td>40.0</td>\n",
              "      <td>0.212903</td>\n",
              "      <td>0.006649</td>\n",
              "      <td>1.020408</td>\n",
              "      <td>NaN</td>\n",
              "    </tr>\n",
              "    <tr>\n",
              "      <th>1876</th>\n",
              "      <td>PALEMBANGDjarum Istimewa Soft Coklat Plain 12 ...</td>\n",
              "      <td>1609898Djarum Istimewa Soft Coklat Plain 12 St...</td>\n",
              "      <td>1609898</td>\n",
              "      <td>8991906101651</td>\n",
              "      <td>Djarum Istimewa Soft Coklat Plain 12 Stc (Sktb)</td>\n",
              "      <td>2021-07-26</td>\n",
              "      <td>12000.0</td>\n",
              "      <td>13000.0</td>\n",
              "      <td>40.0</td>\n",
              "      <td>2021-08-03</td>\n",
              "      <td>12200.0</td>\n",
              "      <td>13000.0</td>\n",
              "      <td>42.0</td>\n",
              "      <td>40.0</td>\n",
              "      <td>NaN</td>\n",
              "      <td>2021-08-10</td>\n",
              "      <td>12200.0</td>\n",
              "      <td>13000.0</td>\n",
              "      <td>42.0</td>\n",
              "      <td>20.0</td>\n",
              "      <td>38.0</td>\n",
              "      <td>20.0</td>\n",
              "      <td>COVID - Sales turun karena kekurangan pasokan</td>\n",
              "      <td>2021-08-17</td>\n",
              "      <td>12200.0</td>\n",
              "      <td>13000.0</td>\n",
              "      <td>42.0</td>\n",
              "      <td>20.0</td>\n",
              "      <td>38.0</td>\n",
              "      <td>20.0</td>\n",
              "      <td>20.0</td>\n",
              "      <td>0</td>\n",
              "      <td>NaT</td>\n",
              "      <td>NaN</td>\n",
              "      <td>NaN</td>\n",
              "      <td>NaN</td>\n",
              "      <td>NaN</td>\n",
              "      <td>NaN</td>\n",
              "      <td>NaN</td>\n",
              "      <td>NaN</td>\n",
              "      <td>NaN</td>\n",
              "      <td>NaN</td>\n",
              "      <td>WARUNG MEDIUM</td>\n",
              "      <td>PALEMBANG</td>\n",
              "      <td>DJARUM ISTIMEWA 12</td>\n",
              "      <td>8.0</td>\n",
              "      <td>7.0</td>\n",
              "      <td>7.0</td>\n",
              "      <td>0.0</td>\n",
              "      <td>38.0</td>\n",
              "      <td>20.0</td>\n",
              "      <td>20.0</td>\n",
              "      <td>NaN</td>\n",
              "      <td>33.0</td>\n",
              "      <td>20.0</td>\n",
              "      <td>20.0</td>\n",
              "      <td>26.0</td>\n",
              "      <td>0.762658</td>\n",
              "      <td>0.473369</td>\n",
              "      <td>0.307003</td>\n",
              "      <td>NaN</td>\n",
              "    </tr>\n",
              "    <tr>\n",
              "      <th>1877</th>\n",
              "      <td>PALEMBANGGudang Garam Red Soft Kspl 12 Stc (Sktb)</td>\n",
              "      <td>1609898Gudang Garam Red Soft Kspl 12 Stc (Sktb)</td>\n",
              "      <td>1609898</td>\n",
              "      <td>8998989501125</td>\n",
              "      <td>Gudang Garam Red Soft Kspl 12 Stc (Sktb)</td>\n",
              "      <td>2021-07-26</td>\n",
              "      <td>12000.0</td>\n",
              "      <td>13000.0</td>\n",
              "      <td>10.0</td>\n",
              "      <td>2021-08-03</td>\n",
              "      <td>12200.0</td>\n",
              "      <td>13000.0</td>\n",
              "      <td>19.0</td>\n",
              "      <td>20.0</td>\n",
              "      <td>NaN</td>\n",
              "      <td>2021-08-10</td>\n",
              "      <td>12200.0</td>\n",
              "      <td>13000.0</td>\n",
              "      <td>19.0</td>\n",
              "      <td>10.0</td>\n",
              "      <td>11.0</td>\n",
              "      <td>10.0</td>\n",
              "      <td>0</td>\n",
              "      <td>2021-08-17</td>\n",
              "      <td>12200.0</td>\n",
              "      <td>13000.0</td>\n",
              "      <td>19.0</td>\n",
              "      <td>10.0</td>\n",
              "      <td>11.0</td>\n",
              "      <td>10.0</td>\n",
              "      <td>10.0</td>\n",
              "      <td>0</td>\n",
              "      <td>NaT</td>\n",
              "      <td>NaN</td>\n",
              "      <td>NaN</td>\n",
              "      <td>NaN</td>\n",
              "      <td>NaN</td>\n",
              "      <td>NaN</td>\n",
              "      <td>NaN</td>\n",
              "      <td>NaN</td>\n",
              "      <td>NaN</td>\n",
              "      <td>NaN</td>\n",
              "      <td>WARUNG MEDIUM</td>\n",
              "      <td>PALEMBANG</td>\n",
              "      <td>GG MERAH 12</td>\n",
              "      <td>8.0</td>\n",
              "      <td>7.0</td>\n",
              "      <td>7.0</td>\n",
              "      <td>0.0</td>\n",
              "      <td>11.0</td>\n",
              "      <td>10.0</td>\n",
              "      <td>10.0</td>\n",
              "      <td>NaN</td>\n",
              "      <td>10.0</td>\n",
              "      <td>10.0</td>\n",
              "      <td>10.0</td>\n",
              "      <td>19.0</td>\n",
              "      <td>0.558611</td>\n",
              "      <td>-0.067781</td>\n",
              "      <td>0.909188</td>\n",
              "      <td>NaN</td>\n",
              "    </tr>\n",
              "    <tr>\n",
              "      <th>1878</th>\n",
              "      <td>PALEMBANGDados Brown Soft Plain 12 Stc (Sktb)</td>\n",
              "      <td>1609898Dados Brown Soft Plain 12 Stc (Sktb)</td>\n",
              "      <td>1609898</td>\n",
              "      <td>8997234650021</td>\n",
              "      <td>Dados Brown Soft Plain 12 Stc (Sktb)</td>\n",
              "      <td>2021-07-26</td>\n",
              "      <td>5400.0</td>\n",
              "      <td>6000.0</td>\n",
              "      <td>40.0</td>\n",
              "      <td>2021-08-03</td>\n",
              "      <td>5000.0</td>\n",
              "      <td>6000.0</td>\n",
              "      <td>76.0</td>\n",
              "      <td>100.0</td>\n",
              "      <td>NaN</td>\n",
              "      <td>2021-08-10</td>\n",
              "      <td>5000.0</td>\n",
              "      <td>6000.0</td>\n",
              "      <td>76.0</td>\n",
              "      <td>0.0</td>\n",
              "      <td>64.0</td>\n",
              "      <td>0.0</td>\n",
              "      <td>0</td>\n",
              "      <td>2021-08-17</td>\n",
              "      <td>5000.0</td>\n",
              "      <td>6000.0</td>\n",
              "      <td>76.0</td>\n",
              "      <td>60.0</td>\n",
              "      <td>64.0</td>\n",
              "      <td>0.0</td>\n",
              "      <td>60.0</td>\n",
              "      <td>COVID - Sales naik, banyak permintaan produk/k...</td>\n",
              "      <td>NaT</td>\n",
              "      <td>NaN</td>\n",
              "      <td>NaN</td>\n",
              "      <td>NaN</td>\n",
              "      <td>NaN</td>\n",
              "      <td>NaN</td>\n",
              "      <td>NaN</td>\n",
              "      <td>NaN</td>\n",
              "      <td>NaN</td>\n",
              "      <td>NaN</td>\n",
              "      <td>WARUNG MEDIUM</td>\n",
              "      <td>PALEMBANG</td>\n",
              "      <td>DADOS 12</td>\n",
              "      <td>8.0</td>\n",
              "      <td>7.0</td>\n",
              "      <td>7.0</td>\n",
              "      <td>0.0</td>\n",
              "      <td>64.0</td>\n",
              "      <td>NaN</td>\n",
              "      <td>60.0</td>\n",
              "      <td>NaN</td>\n",
              "      <td>56.0</td>\n",
              "      <td>0.0</td>\n",
              "      <td>60.0</td>\n",
              "      <td>153.0</td>\n",
              "      <td>0.403888</td>\n",
              "      <td>0.167692</td>\n",
              "      <td>1.558077</td>\n",
              "      <td>NaN</td>\n",
              "    </tr>\n",
              "    <tr>\n",
              "      <th>1879</th>\n",
              "      <td>PALEMBANGVigor Red Box Filter 12 Stc (Sktb)</td>\n",
              "      <td>1609898Vigor Red Box Filter 12 Stc (Sktb)</td>\n",
              "      <td>1609898</td>\n",
              "      <td>8991903101548</td>\n",
              "      <td>Vigor Red Box Filter 12 Stc (Sktb)</td>\n",
              "      <td>2021-07-26</td>\n",
              "      <td>7900.0</td>\n",
              "      <td>8500.0</td>\n",
              "      <td>15.0</td>\n",
              "      <td>2021-08-03</td>\n",
              "      <td>6800.0</td>\n",
              "      <td>8500.0</td>\n",
              "      <td>18.0</td>\n",
              "      <td>20.0</td>\n",
              "      <td>NaN</td>\n",
              "      <td>2021-08-10</td>\n",
              "      <td>6800.0</td>\n",
              "      <td>8500.0</td>\n",
              "      <td>18.0</td>\n",
              "      <td>10.0</td>\n",
              "      <td>17.0</td>\n",
              "      <td>10.0</td>\n",
              "      <td>COVID - Sales turun karena kekurangan pasokan</td>\n",
              "      <td>2021-08-17</td>\n",
              "      <td>6800.0</td>\n",
              "      <td>8500.0</td>\n",
              "      <td>18.0</td>\n",
              "      <td>10.0</td>\n",
              "      <td>17.0</td>\n",
              "      <td>10.0</td>\n",
              "      <td>10.0</td>\n",
              "      <td>0</td>\n",
              "      <td>NaT</td>\n",
              "      <td>NaN</td>\n",
              "      <td>NaN</td>\n",
              "      <td>NaN</td>\n",
              "      <td>NaN</td>\n",
              "      <td>NaN</td>\n",
              "      <td>NaN</td>\n",
              "      <td>NaN</td>\n",
              "      <td>NaN</td>\n",
              "      <td>NaN</td>\n",
              "      <td>WARUNG MEDIUM</td>\n",
              "      <td>PALEMBANG</td>\n",
              "      <td>VIGOR 12</td>\n",
              "      <td>8.0</td>\n",
              "      <td>7.0</td>\n",
              "      <td>7.0</td>\n",
              "      <td>0.0</td>\n",
              "      <td>17.0</td>\n",
              "      <td>10.0</td>\n",
              "      <td>10.0</td>\n",
              "      <td>NaN</td>\n",
              "      <td>15.0</td>\n",
              "      <td>10.0</td>\n",
              "      <td>10.0</td>\n",
              "      <td>55.0</td>\n",
              "      <td>0.303030</td>\n",
              "      <td>-0.517442</td>\n",
              "      <td>4.522727</td>\n",
              "      <td>NaN</td>\n",
              "    </tr>\n",
              "    <tr>\n",
              "      <th>2104</th>\n",
              "      <td>PALEMBANGDji Sam Soe Soft Plain 12 Stc (Sktb)</td>\n",
              "      <td>1609898Dji Sam Soe Soft Plain 12 Stc (Sktb)</td>\n",
              "      <td>1609898</td>\n",
              "      <td>8999909028234</td>\n",
              "      <td>Dji Sam Soe Soft Plain 12 Stc (Sktb)</td>\n",
              "      <td>NaT</td>\n",
              "      <td>NaN</td>\n",
              "      <td>NaN</td>\n",
              "      <td>NaN</td>\n",
              "      <td>2021-08-03</td>\n",
              "      <td>16000.0</td>\n",
              "      <td>17000.0</td>\n",
              "      <td>28.0</td>\n",
              "      <td>50.0</td>\n",
              "      <td>22.0</td>\n",
              "      <td>2021-08-10</td>\n",
              "      <td>16000.0</td>\n",
              "      <td>17000.0</td>\n",
              "      <td>28.0</td>\n",
              "      <td>20.0</td>\n",
              "      <td>22.0</td>\n",
              "      <td>20.0</td>\n",
              "      <td>0</td>\n",
              "      <td>2021-08-17</td>\n",
              "      <td>16000.0</td>\n",
              "      <td>17000.0</td>\n",
              "      <td>28.0</td>\n",
              "      <td>50.0</td>\n",
              "      <td>22.0</td>\n",
              "      <td>20.0</td>\n",
              "      <td>50.0</td>\n",
              "      <td>COVID - Sales naik, banyak permintaan produk/k...</td>\n",
              "      <td>NaT</td>\n",
              "      <td>NaN</td>\n",
              "      <td>NaN</td>\n",
              "      <td>NaN</td>\n",
              "      <td>NaN</td>\n",
              "      <td>NaN</td>\n",
              "      <td>NaN</td>\n",
              "      <td>NaN</td>\n",
              "      <td>NaN</td>\n",
              "      <td>NaN</td>\n",
              "      <td>WARUNG MEDIUM</td>\n",
              "      <td>PALEMBANG</td>\n",
              "      <td>DSS 12</td>\n",
              "      <td>0.0</td>\n",
              "      <td>7.0</td>\n",
              "      <td>7.0</td>\n",
              "      <td>0.0</td>\n",
              "      <td>22.0</td>\n",
              "      <td>20.0</td>\n",
              "      <td>50.0</td>\n",
              "      <td>NaN</td>\n",
              "      <td>22.0</td>\n",
              "      <td>20.0</td>\n",
              "      <td>50.0</td>\n",
              "      <td>88.0</td>\n",
              "      <td>0.278383</td>\n",
              "      <td>0.254258</td>\n",
              "      <td>0.764706</td>\n",
              "      <td>NaN</td>\n",
              "    </tr>\n",
              "    <tr>\n",
              "      <th>2105</th>\n",
              "      <td>PALEMBANGSampoerna 'A' Hijau Edisi Khusus Box ...</td>\n",
              "      <td>1609898Sampoerna 'A' Hijau Edisi Khusus Box Pl...</td>\n",
              "      <td>1609898</td>\n",
              "      <td>8999909000988</td>\n",
              "      <td>Sampoerna 'A' Hijau Edisi Khusus Box Plain 10+...</td>\n",
              "      <td>NaT</td>\n",
              "      <td>NaN</td>\n",
              "      <td>NaN</td>\n",
              "      <td>NaN</td>\n",
              "      <td>2021-08-03</td>\n",
              "      <td>12200.0</td>\n",
              "      <td>13000.0</td>\n",
              "      <td>16.0</td>\n",
              "      <td>38.0</td>\n",
              "      <td>22.0</td>\n",
              "      <td>2021-08-10</td>\n",
              "      <td>12200.0</td>\n",
              "      <td>13000.0</td>\n",
              "      <td>16.0</td>\n",
              "      <td>20.0</td>\n",
              "      <td>22.0</td>\n",
              "      <td>20.0</td>\n",
              "      <td>0</td>\n",
              "      <td>2021-08-17</td>\n",
              "      <td>12200.0</td>\n",
              "      <td>13000.0</td>\n",
              "      <td>16.0</td>\n",
              "      <td>40.0</td>\n",
              "      <td>22.0</td>\n",
              "      <td>20.0</td>\n",
              "      <td>40.0</td>\n",
              "      <td>COVID - Sales naik, banyak permintaan produk/k...</td>\n",
              "      <td>NaT</td>\n",
              "      <td>NaN</td>\n",
              "      <td>NaN</td>\n",
              "      <td>NaN</td>\n",
              "      <td>NaN</td>\n",
              "      <td>NaN</td>\n",
              "      <td>NaN</td>\n",
              "      <td>NaN</td>\n",
              "      <td>NaN</td>\n",
              "      <td>NaN</td>\n",
              "      <td>WARUNG MEDIUM</td>\n",
              "      <td>PALEMBANG</td>\n",
              "      <td>A HIJAU 12</td>\n",
              "      <td>0.0</td>\n",
              "      <td>7.0</td>\n",
              "      <td>7.0</td>\n",
              "      <td>0.0</td>\n",
              "      <td>22.0</td>\n",
              "      <td>20.0</td>\n",
              "      <td>40.0</td>\n",
              "      <td>NaN</td>\n",
              "      <td>22.0</td>\n",
              "      <td>20.0</td>\n",
              "      <td>40.0</td>\n",
              "      <td>61.0</td>\n",
              "      <td>0.459893</td>\n",
              "      <td>0.335165</td>\n",
              "      <td>0.535232</td>\n",
              "      <td>NaN</td>\n",
              "    </tr>\n",
              "    <tr>\n",
              "      <th>2231</th>\n",
              "      <td>PALEMBANGDji Sam Soe Edisi Khusus Soft Plain 1...</td>\n",
              "      <td>1609898Dji Sam Soe Edisi Khusus Soft Plain 12 ...</td>\n",
              "      <td>1609898</td>\n",
              "      <td>8999909000629</td>\n",
              "      <td>Dji Sam Soe Edisi Khusus Soft Plain 12 Stc (Sktb)</td>\n",
              "      <td>2021-07-26</td>\n",
              "      <td>16000.0</td>\n",
              "      <td>17000.0</td>\n",
              "      <td>20.0</td>\n",
              "      <td>2021-08-03</td>\n",
              "      <td>0.0</td>\n",
              "      <td>0.0</td>\n",
              "      <td>0.0</td>\n",
              "      <td>0.0</td>\n",
              "      <td>NaN</td>\n",
              "      <td>NaT</td>\n",
              "      <td>NaN</td>\n",
              "      <td>NaN</td>\n",
              "      <td>NaN</td>\n",
              "      <td>NaN</td>\n",
              "      <td>NaN</td>\n",
              "      <td>NaN</td>\n",
              "      <td>NaN</td>\n",
              "      <td>NaT</td>\n",
              "      <td>NaN</td>\n",
              "      <td>NaN</td>\n",
              "      <td>NaN</td>\n",
              "      <td>NaN</td>\n",
              "      <td>NaN</td>\n",
              "      <td>NaN</td>\n",
              "      <td>NaN</td>\n",
              "      <td>NaN</td>\n",
              "      <td>NaT</td>\n",
              "      <td>NaN</td>\n",
              "      <td>NaN</td>\n",
              "      <td>NaN</td>\n",
              "      <td>NaN</td>\n",
              "      <td>NaN</td>\n",
              "      <td>NaN</td>\n",
              "      <td>NaN</td>\n",
              "      <td>NaN</td>\n",
              "      <td>NaN</td>\n",
              "      <td>WARUNG MEDIUM</td>\n",
              "      <td>PALEMBANG</td>\n",
              "      <td>DSS 12</td>\n",
              "      <td>8.0</td>\n",
              "      <td>0.0</td>\n",
              "      <td>0.0</td>\n",
              "      <td>0.0</td>\n",
              "      <td>NaN</td>\n",
              "      <td>NaN</td>\n",
              "      <td>NaN</td>\n",
              "      <td>NaN</td>\n",
              "      <td>18.0</td>\n",
              "      <td>27.0</td>\n",
              "      <td>32.0</td>\n",
              "      <td>80.0</td>\n",
              "      <td>0.508021</td>\n",
              "      <td>0.187943</td>\n",
              "      <td>1.511416</td>\n",
              "      <td>NaN</td>\n",
              "    </tr>\n",
              "    <tr>\n",
              "      <th>2232</th>\n",
              "      <td>PALEMBANGSampoerna 'A' Hijau Box Plain 12 Stc ...</td>\n",
              "      <td>1609898Sampoerna 'A' Hijau Box Plain 12 Stc (S...</td>\n",
              "      <td>1609898</td>\n",
              "      <td>8999909085114</td>\n",
              "      <td>Sampoerna 'A' Hijau Box Plain 12 Stc (Sktb)</td>\n",
              "      <td>2021-07-26</td>\n",
              "      <td>12000.0</td>\n",
              "      <td>12500.0</td>\n",
              "      <td>20.0</td>\n",
              "      <td>2021-08-03</td>\n",
              "      <td>0.0</td>\n",
              "      <td>0.0</td>\n",
              "      <td>0.0</td>\n",
              "      <td>0.0</td>\n",
              "      <td>NaN</td>\n",
              "      <td>NaT</td>\n",
              "      <td>NaN</td>\n",
              "      <td>NaN</td>\n",
              "      <td>NaN</td>\n",
              "      <td>NaN</td>\n",
              "      <td>NaN</td>\n",
              "      <td>NaN</td>\n",
              "      <td>NaN</td>\n",
              "      <td>NaT</td>\n",
              "      <td>NaN</td>\n",
              "      <td>NaN</td>\n",
              "      <td>NaN</td>\n",
              "      <td>NaN</td>\n",
              "      <td>NaN</td>\n",
              "      <td>NaN</td>\n",
              "      <td>NaN</td>\n",
              "      <td>NaN</td>\n",
              "      <td>NaT</td>\n",
              "      <td>NaN</td>\n",
              "      <td>NaN</td>\n",
              "      <td>NaN</td>\n",
              "      <td>NaN</td>\n",
              "      <td>NaN</td>\n",
              "      <td>NaN</td>\n",
              "      <td>NaN</td>\n",
              "      <td>NaN</td>\n",
              "      <td>NaN</td>\n",
              "      <td>WARUNG MEDIUM</td>\n",
              "      <td>PALEMBANG</td>\n",
              "      <td>A HIJAU 12</td>\n",
              "      <td>8.0</td>\n",
              "      <td>0.0</td>\n",
              "      <td>0.0</td>\n",
              "      <td>0.0</td>\n",
              "      <td>NaN</td>\n",
              "      <td>NaN</td>\n",
              "      <td>NaN</td>\n",
              "      <td>NaN</td>\n",
              "      <td>18.0</td>\n",
              "      <td>14.0</td>\n",
              "      <td>15.0</td>\n",
              "      <td>40.0</td>\n",
              "      <td>-0.216617</td>\n",
              "      <td>0.102273</td>\n",
              "      <td>1.693252</td>\n",
              "      <td>NaN</td>\n",
              "    </tr>\n",
              "  </tbody>\n",
              "</table>\n",
              "</div>"
            ],
            "text/plain": [
              "                                           Concatenate2  ... remarks\n",
              "1875        PALEMBANGPanamas 1 Soft Plain 12 Stc (Sktb)  ...     NaN\n",
              "1876  PALEMBANGDjarum Istimewa Soft Coklat Plain 12 ...  ...     NaN\n",
              "1877  PALEMBANGGudang Garam Red Soft Kspl 12 Stc (Sktb)  ...     NaN\n",
              "1878      PALEMBANGDados Brown Soft Plain 12 Stc (Sktb)  ...     NaN\n",
              "1879        PALEMBANGVigor Red Box Filter 12 Stc (Sktb)  ...     NaN\n",
              "2104      PALEMBANGDji Sam Soe Soft Plain 12 Stc (Sktb)  ...     NaN\n",
              "2105  PALEMBANGSampoerna 'A' Hijau Edisi Khusus Box ...  ...     NaN\n",
              "2231  PALEMBANGDji Sam Soe Edisi Khusus Soft Plain 1...  ...     NaN\n",
              "2232  PALEMBANGSampoerna 'A' Hijau Box Plain 12 Stc ...  ...     NaN\n",
              "\n",
              "[9 rows x 61 columns]"
            ]
          },
          "metadata": {},
          "execution_count": 2024
        }
      ]
    },
    {
      "cell_type": "markdown",
      "metadata": {
        "id": "xCDG6dvFTUdL"
      },
      "source": [
        "### PALEMBANG"
      ]
    },
    {
      "cell_type": "code",
      "metadata": {
        "colab": {
          "base_uri": "https://localhost:8080/",
          "height": 200
        },
        "id": "kwRECQ-fGf_x",
        "outputId": "131bfe05-f775-46f2-c72a-07814d7947f3"
      },
      "source": [
        "# TOP 5 Toko di PALEMBANG\n",
        "palembang = df_merge[df_merge['Area']=='PALEMBANG']\n",
        "piv_palembang = pd.pivot_table(palembang,\n",
        "               index='SMS Id',\n",
        "               values=['Sales_RA1','Sales_RA2','Sales_RA3','Sales_RA4'],\n",
        "               aggfunc='sum').reset_index()\n",
        "\n",
        "piv_palembang.sort_values('Sales_RA4', ascending=False).reset_index(drop=True).head(5)\n",
        "\n",
        "## ADA 1 TOKO YANG ANGKANYA JAUH DARI TOKO LAINNYA"
      ],
      "execution_count": 2025,
      "outputs": [
        {
          "output_type": "execute_result",
          "data": {
            "text/html": [
              "<div>\n",
              "<style scoped>\n",
              "    .dataframe tbody tr th:only-of-type {\n",
              "        vertical-align: middle;\n",
              "    }\n",
              "\n",
              "    .dataframe tbody tr th {\n",
              "        vertical-align: top;\n",
              "    }\n",
              "\n",
              "    .dataframe thead th {\n",
              "        text-align: right;\n",
              "    }\n",
              "</style>\n",
              "<table border=\"1\" class=\"dataframe\">\n",
              "  <thead>\n",
              "    <tr style=\"text-align: right;\">\n",
              "      <th></th>\n",
              "      <th>SMS Id</th>\n",
              "      <th>Sales_RA1</th>\n",
              "      <th>Sales_RA2</th>\n",
              "      <th>Sales_RA3</th>\n",
              "      <th>Sales_RA4</th>\n",
              "    </tr>\n",
              "  </thead>\n",
              "  <tbody>\n",
              "    <tr>\n",
              "      <th>0</th>\n",
              "      <td>1609900</td>\n",
              "      <td>760.0</td>\n",
              "      <td>1464.0</td>\n",
              "      <td>1739.0</td>\n",
              "      <td>4344.0</td>\n",
              "    </tr>\n",
              "    <tr>\n",
              "      <th>1</th>\n",
              "      <td>1609940</td>\n",
              "      <td>147.0</td>\n",
              "      <td>396.0</td>\n",
              "      <td>570.0</td>\n",
              "      <td>888.0</td>\n",
              "    </tr>\n",
              "    <tr>\n",
              "      <th>2</th>\n",
              "      <td>1609907</td>\n",
              "      <td>137.0</td>\n",
              "      <td>208.0</td>\n",
              "      <td>252.0</td>\n",
              "      <td>806.0</td>\n",
              "    </tr>\n",
              "    <tr>\n",
              "      <th>3</th>\n",
              "      <td>1609946</td>\n",
              "      <td>40.0</td>\n",
              "      <td>267.0</td>\n",
              "      <td>306.0</td>\n",
              "      <td>626.0</td>\n",
              "    </tr>\n",
              "    <tr>\n",
              "      <th>4</th>\n",
              "      <td>1609898</td>\n",
              "      <td>206.0</td>\n",
              "      <td>136.0</td>\n",
              "      <td>257.0</td>\n",
              "      <td>562.0</td>\n",
              "    </tr>\n",
              "  </tbody>\n",
              "</table>\n",
              "</div>"
            ],
            "text/plain": [
              "    SMS Id  Sales_RA1  Sales_RA2  Sales_RA3  Sales_RA4\n",
              "0  1609900      760.0     1464.0     1739.0     4344.0\n",
              "1  1609940      147.0      396.0      570.0      888.0\n",
              "2  1609907      137.0      208.0      252.0      806.0\n",
              "3  1609946       40.0      267.0      306.0      626.0\n",
              "4  1609898      206.0      136.0      257.0      562.0"
            ]
          },
          "metadata": {},
          "execution_count": 2025
        }
      ]
    },
    {
      "cell_type": "code",
      "metadata": {
        "colab": {
          "base_uri": "https://localhost:8080/",
          "height": 290
        },
        "id": "kHAXxq2OZbr_",
        "outputId": "d0e12a08-aca7-4af7-f735-700757dafa45"
      },
      "source": [
        "# Lihat profil toko 1609900\n",
        "pd.pivot_table(palembang[palembang['SMS Id']==1609900],\n",
        "               index='Item',\n",
        "               values=['Sales_RA1','Sales_RA2','Sales_RA3','Sales_RA4'],\n",
        "               aggfunc='sum').reset_index()"
      ],
      "execution_count": 2026,
      "outputs": [
        {
          "output_type": "execute_result",
          "data": {
            "text/html": [
              "<div>\n",
              "<style scoped>\n",
              "    .dataframe tbody tr th:only-of-type {\n",
              "        vertical-align: middle;\n",
              "    }\n",
              "\n",
              "    .dataframe tbody tr th {\n",
              "        vertical-align: top;\n",
              "    }\n",
              "\n",
              "    .dataframe thead th {\n",
              "        text-align: right;\n",
              "    }\n",
              "</style>\n",
              "<table border=\"1\" class=\"dataframe\">\n",
              "  <thead>\n",
              "    <tr style=\"text-align: right;\">\n",
              "      <th></th>\n",
              "      <th>Item</th>\n",
              "      <th>Sales_RA1</th>\n",
              "      <th>Sales_RA2</th>\n",
              "      <th>Sales_RA3</th>\n",
              "      <th>Sales_RA4</th>\n",
              "    </tr>\n",
              "  </thead>\n",
              "  <tbody>\n",
              "    <tr>\n",
              "      <th>0</th>\n",
              "      <td>A HIJAU 12</td>\n",
              "      <td>100.0</td>\n",
              "      <td>44.0</td>\n",
              "      <td>80.0</td>\n",
              "      <td>565.0</td>\n",
              "    </tr>\n",
              "    <tr>\n",
              "      <th>1</th>\n",
              "      <td>APK 12</td>\n",
              "      <td>0.0</td>\n",
              "      <td>0.0</td>\n",
              "      <td>0.0</td>\n",
              "      <td>0.0</td>\n",
              "    </tr>\n",
              "    <tr>\n",
              "      <th>2</th>\n",
              "      <td>DADOS 12</td>\n",
              "      <td>200.0</td>\n",
              "      <td>350.0</td>\n",
              "      <td>400.0</td>\n",
              "      <td>1006.0</td>\n",
              "    </tr>\n",
              "    <tr>\n",
              "      <th>3</th>\n",
              "      <td>DJARUM ISTIMEWA 12</td>\n",
              "      <td>200.0</td>\n",
              "      <td>350.0</td>\n",
              "      <td>820.0</td>\n",
              "      <td>849.0</td>\n",
              "    </tr>\n",
              "    <tr>\n",
              "      <th>4</th>\n",
              "      <td>DSS 12</td>\n",
              "      <td>120.0</td>\n",
              "      <td>177.0</td>\n",
              "      <td>279.0</td>\n",
              "      <td>926.0</td>\n",
              "    </tr>\n",
              "    <tr>\n",
              "      <th>5</th>\n",
              "      <td>GG MERAH 12</td>\n",
              "      <td>40.0</td>\n",
              "      <td>350.0</td>\n",
              "      <td>100.0</td>\n",
              "      <td>306.0</td>\n",
              "    </tr>\n",
              "    <tr>\n",
              "      <th>6</th>\n",
              "      <td>PANAMAS 12</td>\n",
              "      <td>80.0</td>\n",
              "      <td>105.0</td>\n",
              "      <td>60.0</td>\n",
              "      <td>324.0</td>\n",
              "    </tr>\n",
              "    <tr>\n",
              "      <th>7</th>\n",
              "      <td>VIGOR 12</td>\n",
              "      <td>20.0</td>\n",
              "      <td>88.0</td>\n",
              "      <td>0.0</td>\n",
              "      <td>368.0</td>\n",
              "    </tr>\n",
              "  </tbody>\n",
              "</table>\n",
              "</div>"
            ],
            "text/plain": [
              "                 Item  Sales_RA1  Sales_RA2  Sales_RA3  Sales_RA4\n",
              "0          A HIJAU 12      100.0       44.0       80.0      565.0\n",
              "1              APK 12        0.0        0.0        0.0        0.0\n",
              "2            DADOS 12      200.0      350.0      400.0     1006.0\n",
              "3  DJARUM ISTIMEWA 12      200.0      350.0      820.0      849.0\n",
              "4              DSS 12      120.0      177.0      279.0      926.0\n",
              "5         GG MERAH 12       40.0      350.0      100.0      306.0\n",
              "6          PANAMAS 12       80.0      105.0       60.0      324.0\n",
              "7            VIGOR 12       20.0       88.0        0.0      368.0"
            ]
          },
          "metadata": {},
          "execution_count": 2026
        }
      ]
    },
    {
      "cell_type": "code",
      "metadata": {
        "id": "VQOWZTpmaIGj"
      },
      "source": [
        "## Masukkan Toko ke List yang akan di Takeout\n",
        "outlier_palembang = [1609900]"
      ],
      "execution_count": 2027,
      "outputs": []
    },
    {
      "cell_type": "markdown",
      "metadata": {
        "id": "_3IYnRY7TRo8"
      },
      "source": [
        "### KARAWANG"
      ]
    },
    {
      "cell_type": "code",
      "metadata": {
        "colab": {
          "base_uri": "https://localhost:8080/",
          "height": 351
        },
        "id": "-_Gomd1jFrrY",
        "outputId": "2e43cf2c-6c86-49b2-beb1-728c892d5110"
      },
      "source": [
        "# TOP 5 Toko di KARAWANG\n",
        "karawang = df_merge[df_merge['Area']=='KARAWANG']\n",
        "piv_karawang = pd.pivot_table(karawang,\n",
        "               index='SMS Id',\n",
        "               values=['Sales_RA1','Sales_RA2','Sales_RA3','Sales_RA4'],\n",
        "               aggfunc='sum').reset_index()\n",
        "\n",
        "piv_karawang.sort_values('Sales_RA4', ascending=False).reset_index(drop=True).head(10)\n",
        "\n",
        "## ADA 4 TOKO YANG ANGKANYA JAUH DARI TOKO LAINNYA"
      ],
      "execution_count": 2028,
      "outputs": [
        {
          "output_type": "execute_result",
          "data": {
            "text/html": [
              "<div>\n",
              "<style scoped>\n",
              "    .dataframe tbody tr th:only-of-type {\n",
              "        vertical-align: middle;\n",
              "    }\n",
              "\n",
              "    .dataframe tbody tr th {\n",
              "        vertical-align: top;\n",
              "    }\n",
              "\n",
              "    .dataframe thead th {\n",
              "        text-align: right;\n",
              "    }\n",
              "</style>\n",
              "<table border=\"1\" class=\"dataframe\">\n",
              "  <thead>\n",
              "    <tr style=\"text-align: right;\">\n",
              "      <th></th>\n",
              "      <th>SMS Id</th>\n",
              "      <th>Sales_RA1</th>\n",
              "      <th>Sales_RA2</th>\n",
              "      <th>Sales_RA3</th>\n",
              "      <th>Sales_RA4</th>\n",
              "    </tr>\n",
              "  </thead>\n",
              "  <tbody>\n",
              "    <tr>\n",
              "      <th>0</th>\n",
              "      <td>1614176</td>\n",
              "      <td>730.0</td>\n",
              "      <td>730.0</td>\n",
              "      <td>727.0</td>\n",
              "      <td>1940.0</td>\n",
              "    </tr>\n",
              "    <tr>\n",
              "      <th>1</th>\n",
              "      <td>1614206</td>\n",
              "      <td>460.0</td>\n",
              "      <td>460.0</td>\n",
              "      <td>459.0</td>\n",
              "      <td>1729.0</td>\n",
              "    </tr>\n",
              "    <tr>\n",
              "      <th>2</th>\n",
              "      <td>1614063</td>\n",
              "      <td>190.0</td>\n",
              "      <td>190.0</td>\n",
              "      <td>190.0</td>\n",
              "      <td>1558.0</td>\n",
              "    </tr>\n",
              "    <tr>\n",
              "      <th>3</th>\n",
              "      <td>1610071</td>\n",
              "      <td>1250.0</td>\n",
              "      <td>1300.0</td>\n",
              "      <td>2300.0</td>\n",
              "      <td>1310.0</td>\n",
              "    </tr>\n",
              "    <tr>\n",
              "      <th>4</th>\n",
              "      <td>1614153</td>\n",
              "      <td>280.0</td>\n",
              "      <td>280.0</td>\n",
              "      <td>284.0</td>\n",
              "      <td>940.0</td>\n",
              "    </tr>\n",
              "    <tr>\n",
              "      <th>5</th>\n",
              "      <td>1614189</td>\n",
              "      <td>105.0</td>\n",
              "      <td>105.0</td>\n",
              "      <td>105.0</td>\n",
              "      <td>676.0</td>\n",
              "    </tr>\n",
              "    <tr>\n",
              "      <th>6</th>\n",
              "      <td>1614191</td>\n",
              "      <td>170.0</td>\n",
              "      <td>170.0</td>\n",
              "      <td>163.0</td>\n",
              "      <td>612.0</td>\n",
              "    </tr>\n",
              "    <tr>\n",
              "      <th>7</th>\n",
              "      <td>1614865</td>\n",
              "      <td>320.0</td>\n",
              "      <td>300.0</td>\n",
              "      <td>308.0</td>\n",
              "      <td>480.0</td>\n",
              "    </tr>\n",
              "    <tr>\n",
              "      <th>8</th>\n",
              "      <td>1614216</td>\n",
              "      <td>210.0</td>\n",
              "      <td>210.0</td>\n",
              "      <td>220.0</td>\n",
              "      <td>421.0</td>\n",
              "    </tr>\n",
              "    <tr>\n",
              "      <th>9</th>\n",
              "      <td>1610069</td>\n",
              "      <td>100.0</td>\n",
              "      <td>109.0</td>\n",
              "      <td>327.0</td>\n",
              "      <td>411.0</td>\n",
              "    </tr>\n",
              "  </tbody>\n",
              "</table>\n",
              "</div>"
            ],
            "text/plain": [
              "    SMS Id  Sales_RA1  Sales_RA2  Sales_RA3  Sales_RA4\n",
              "0  1614176      730.0      730.0      727.0     1940.0\n",
              "1  1614206      460.0      460.0      459.0     1729.0\n",
              "2  1614063      190.0      190.0      190.0     1558.0\n",
              "3  1610071     1250.0     1300.0     2300.0     1310.0\n",
              "4  1614153      280.0      280.0      284.0      940.0\n",
              "5  1614189      105.0      105.0      105.0      676.0\n",
              "6  1614191      170.0      170.0      163.0      612.0\n",
              "7  1614865      320.0      300.0      308.0      480.0\n",
              "8  1614216      210.0      210.0      220.0      421.0\n",
              "9  1610069      100.0      109.0      327.0      411.0"
            ]
          },
          "metadata": {},
          "execution_count": 2028
        }
      ]
    },
    {
      "cell_type": "code",
      "metadata": {
        "id": "IzuIW9pxBYI_"
      },
      "source": [
        "## Masukkan Toko ke List yang akan di Takeout\n",
        "outlier_karawang = [1614176, 1614206, 1614063,\t1610071]"
      ],
      "execution_count": 2029,
      "outputs": []
    },
    {
      "cell_type": "markdown",
      "metadata": {
        "id": "PCPvAPCnTO2G"
      },
      "source": [
        "### MADIUN"
      ]
    },
    {
      "cell_type": "code",
      "metadata": {
        "colab": {
          "base_uri": "https://localhost:8080/",
          "height": 200
        },
        "id": "QKB2nflTZr0a",
        "outputId": "1271d873-6bb7-46c1-9976-04f274e9411e"
      },
      "source": [
        "# TOP 5 Toko di MADIUN\n",
        "madiun = df_merge[df_merge['Area']=='MADIUN']\n",
        "piv_madiun = pd.pivot_table(madiun,\n",
        "               index='SMS Id',\n",
        "               values=['Sales_RA1','Sales_RA2','Sales_RA3','Sales_RA4'],\n",
        "               aggfunc='sum').reset_index()\n",
        "\n",
        "piv_madiun.sort_values('Sales_RA4', ascending=False).reset_index(drop=True).head(5)\n",
        "\n",
        "## ADA 1 TOKO YANG ANGKANYA JAUH DARI TOKO LAINNYA"
      ],
      "execution_count": 2030,
      "outputs": [
        {
          "output_type": "execute_result",
          "data": {
            "text/html": [
              "<div>\n",
              "<style scoped>\n",
              "    .dataframe tbody tr th:only-of-type {\n",
              "        vertical-align: middle;\n",
              "    }\n",
              "\n",
              "    .dataframe tbody tr th {\n",
              "        vertical-align: top;\n",
              "    }\n",
              "\n",
              "    .dataframe thead th {\n",
              "        text-align: right;\n",
              "    }\n",
              "</style>\n",
              "<table border=\"1\" class=\"dataframe\">\n",
              "  <thead>\n",
              "    <tr style=\"text-align: right;\">\n",
              "      <th></th>\n",
              "      <th>SMS Id</th>\n",
              "      <th>Sales_RA1</th>\n",
              "      <th>Sales_RA2</th>\n",
              "      <th>Sales_RA3</th>\n",
              "      <th>Sales_RA4</th>\n",
              "    </tr>\n",
              "  </thead>\n",
              "  <tbody>\n",
              "    <tr>\n",
              "      <th>0</th>\n",
              "      <td>1614399</td>\n",
              "      <td>130.0</td>\n",
              "      <td>130.0</td>\n",
              "      <td>131.0</td>\n",
              "      <td>2465.0</td>\n",
              "    </tr>\n",
              "    <tr>\n",
              "      <th>1</th>\n",
              "      <td>1610257</td>\n",
              "      <td>1010.0</td>\n",
              "      <td>1030.0</td>\n",
              "      <td>1000.0</td>\n",
              "      <td>970.0</td>\n",
              "    </tr>\n",
              "    <tr>\n",
              "      <th>2</th>\n",
              "      <td>1610246</td>\n",
              "      <td>128.0</td>\n",
              "      <td>187.0</td>\n",
              "      <td>175.0</td>\n",
              "      <td>910.0</td>\n",
              "    </tr>\n",
              "    <tr>\n",
              "      <th>3</th>\n",
              "      <td>1610352</td>\n",
              "      <td>66.0</td>\n",
              "      <td>422.0</td>\n",
              "      <td>314.0</td>\n",
              "      <td>906.0</td>\n",
              "    </tr>\n",
              "    <tr>\n",
              "      <th>4</th>\n",
              "      <td>1610249</td>\n",
              "      <td>445.0</td>\n",
              "      <td>561.0</td>\n",
              "      <td>650.0</td>\n",
              "      <td>904.0</td>\n",
              "    </tr>\n",
              "  </tbody>\n",
              "</table>\n",
              "</div>"
            ],
            "text/plain": [
              "    SMS Id  Sales_RA1  Sales_RA2  Sales_RA3  Sales_RA4\n",
              "0  1614399      130.0      130.0      131.0     2465.0\n",
              "1  1610257     1010.0     1030.0     1000.0      970.0\n",
              "2  1610246      128.0      187.0      175.0      910.0\n",
              "3  1610352       66.0      422.0      314.0      906.0\n",
              "4  1610249      445.0      561.0      650.0      904.0"
            ]
          },
          "metadata": {},
          "execution_count": 2030
        }
      ]
    },
    {
      "cell_type": "code",
      "metadata": {
        "id": "A3jE1HaxZr0a"
      },
      "source": [
        "## Masukkan Toko ke List yang akan di Takeout\n",
        "outlier_madiun = [1614399]"
      ],
      "execution_count": 2031,
      "outputs": []
    },
    {
      "cell_type": "markdown",
      "metadata": {
        "id": "G2hTHn7FTYC2"
      },
      "source": [
        "### LAMPUNG"
      ]
    },
    {
      "cell_type": "code",
      "metadata": {
        "colab": {
          "base_uri": "https://localhost:8080/",
          "height": 200
        },
        "id": "WvSsVE9XaECt",
        "outputId": "51105431-b903-47b8-9a60-b9040e407e2f"
      },
      "source": [
        "# TOP 5 Toko di LAMPUNG\n",
        "lampung = df_merge[df_merge['Area']=='LAMPUNG']\n",
        "piv_lampung = pd.pivot_table(lampung,\n",
        "               index='SMS Id',\n",
        "               values=['Sales_RA1','Sales_RA2','Sales_RA3','Sales_RA4'],\n",
        "               aggfunc='sum').reset_index()\n",
        "\n",
        "piv_lampung.sort_values('Sales_RA4', ascending=False).reset_index(drop=True).head(5)\n",
        "\n",
        "## ADA 3 TOKO YANG ANGKANYA JAUH DARI TOKO LAINNYA"
      ],
      "execution_count": 2032,
      "outputs": [
        {
          "output_type": "execute_result",
          "data": {
            "text/html": [
              "<div>\n",
              "<style scoped>\n",
              "    .dataframe tbody tr th:only-of-type {\n",
              "        vertical-align: middle;\n",
              "    }\n",
              "\n",
              "    .dataframe tbody tr th {\n",
              "        vertical-align: top;\n",
              "    }\n",
              "\n",
              "    .dataframe thead th {\n",
              "        text-align: right;\n",
              "    }\n",
              "</style>\n",
              "<table border=\"1\" class=\"dataframe\">\n",
              "  <thead>\n",
              "    <tr style=\"text-align: right;\">\n",
              "      <th></th>\n",
              "      <th>SMS Id</th>\n",
              "      <th>Sales_RA1</th>\n",
              "      <th>Sales_RA2</th>\n",
              "      <th>Sales_RA3</th>\n",
              "      <th>Sales_RA4</th>\n",
              "    </tr>\n",
              "  </thead>\n",
              "  <tbody>\n",
              "    <tr>\n",
              "      <th>0</th>\n",
              "      <td>1609732</td>\n",
              "      <td>5370.0</td>\n",
              "      <td>11360.0</td>\n",
              "      <td>11100.0</td>\n",
              "      <td>9739.0</td>\n",
              "    </tr>\n",
              "    <tr>\n",
              "      <th>1</th>\n",
              "      <td>1609724</td>\n",
              "      <td>1060.0</td>\n",
              "      <td>1103.0</td>\n",
              "      <td>1065.0</td>\n",
              "      <td>2830.0</td>\n",
              "    </tr>\n",
              "    <tr>\n",
              "      <th>2</th>\n",
              "      <td>1609700</td>\n",
              "      <td>869.0</td>\n",
              "      <td>799.0</td>\n",
              "      <td>773.0</td>\n",
              "      <td>1359.0</td>\n",
              "    </tr>\n",
              "    <tr>\n",
              "      <th>3</th>\n",
              "      <td>1609742</td>\n",
              "      <td>420.0</td>\n",
              "      <td>697.0</td>\n",
              "      <td>432.0</td>\n",
              "      <td>1046.0</td>\n",
              "    </tr>\n",
              "    <tr>\n",
              "      <th>4</th>\n",
              "      <td>1609723</td>\n",
              "      <td>482.0</td>\n",
              "      <td>387.0</td>\n",
              "      <td>461.0</td>\n",
              "      <td>837.0</td>\n",
              "    </tr>\n",
              "  </tbody>\n",
              "</table>\n",
              "</div>"
            ],
            "text/plain": [
              "    SMS Id  Sales_RA1  Sales_RA2  Sales_RA3  Sales_RA4\n",
              "0  1609732     5370.0    11360.0    11100.0     9739.0\n",
              "1  1609724     1060.0     1103.0     1065.0     2830.0\n",
              "2  1609700      869.0      799.0      773.0     1359.0\n",
              "3  1609742      420.0      697.0      432.0     1046.0\n",
              "4  1609723      482.0      387.0      461.0      837.0"
            ]
          },
          "metadata": {},
          "execution_count": 2032
        }
      ]
    },
    {
      "cell_type": "code",
      "metadata": {
        "id": "FxFztlI1aECu"
      },
      "source": [
        "## Masukkan Toko ke List yang akan di Takeout\n",
        "outlier_lampung = [1609732, 1609724, 1609700]"
      ],
      "execution_count": 2033,
      "outputs": []
    },
    {
      "cell_type": "markdown",
      "metadata": {
        "id": "Nt4GQ5z5UK69"
      },
      "source": [
        "### KUPANG"
      ]
    },
    {
      "cell_type": "code",
      "metadata": {
        "colab": {
          "base_uri": "https://localhost:8080/",
          "height": 200
        },
        "id": "I3APnAhlakcd",
        "outputId": "e6aab3c9-f6fb-4a25-dc73-32e1b41ad076"
      },
      "source": [
        "# TOP 5 Toko di KUPANG\n",
        "kupang = df_merge[df_merge['Area']=='KUPANG']\n",
        "piv_kupang = pd.pivot_table(kupang,\n",
        "               index='SMS Id',\n",
        "               values=['Sales_RA1','Sales_RA2','Sales_RA3','Sales_RA4'],\n",
        "               aggfunc='sum').reset_index()\n",
        "\n",
        "piv_kupang.sort_values('Sales_RA4', ascending=False).reset_index(drop=True).head(5)\n",
        "\n",
        "## ADA 1 TOKO YANG ANGKANYA JAUH DARI TOKO LAINNYA"
      ],
      "execution_count": 2034,
      "outputs": [
        {
          "output_type": "execute_result",
          "data": {
            "text/html": [
              "<div>\n",
              "<style scoped>\n",
              "    .dataframe tbody tr th:only-of-type {\n",
              "        vertical-align: middle;\n",
              "    }\n",
              "\n",
              "    .dataframe tbody tr th {\n",
              "        vertical-align: top;\n",
              "    }\n",
              "\n",
              "    .dataframe thead th {\n",
              "        text-align: right;\n",
              "    }\n",
              "</style>\n",
              "<table border=\"1\" class=\"dataframe\">\n",
              "  <thead>\n",
              "    <tr style=\"text-align: right;\">\n",
              "      <th></th>\n",
              "      <th>SMS Id</th>\n",
              "      <th>Sales_RA1</th>\n",
              "      <th>Sales_RA2</th>\n",
              "      <th>Sales_RA3</th>\n",
              "      <th>Sales_RA4</th>\n",
              "    </tr>\n",
              "  </thead>\n",
              "  <tbody>\n",
              "    <tr>\n",
              "      <th>0</th>\n",
              "      <td>1610489</td>\n",
              "      <td>716.0</td>\n",
              "      <td>914.0</td>\n",
              "      <td>1248.0</td>\n",
              "      <td>2067.0</td>\n",
              "    </tr>\n",
              "    <tr>\n",
              "      <th>1</th>\n",
              "      <td>1610481</td>\n",
              "      <td>61.0</td>\n",
              "      <td>77.0</td>\n",
              "      <td>105.0</td>\n",
              "      <td>519.0</td>\n",
              "    </tr>\n",
              "    <tr>\n",
              "      <th>2</th>\n",
              "      <td>1610553</td>\n",
              "      <td>32.0</td>\n",
              "      <td>50.0</td>\n",
              "      <td>98.0</td>\n",
              "      <td>435.0</td>\n",
              "    </tr>\n",
              "    <tr>\n",
              "      <th>3</th>\n",
              "      <td>1610507</td>\n",
              "      <td>132.0</td>\n",
              "      <td>165.0</td>\n",
              "      <td>292.0</td>\n",
              "      <td>388.0</td>\n",
              "    </tr>\n",
              "    <tr>\n",
              "      <th>4</th>\n",
              "      <td>1610534</td>\n",
              "      <td>39.0</td>\n",
              "      <td>49.0</td>\n",
              "      <td>69.0</td>\n",
              "      <td>345.0</td>\n",
              "    </tr>\n",
              "  </tbody>\n",
              "</table>\n",
              "</div>"
            ],
            "text/plain": [
              "    SMS Id  Sales_RA1  Sales_RA2  Sales_RA3  Sales_RA4\n",
              "0  1610489      716.0      914.0     1248.0     2067.0\n",
              "1  1610481       61.0       77.0      105.0      519.0\n",
              "2  1610553       32.0       50.0       98.0      435.0\n",
              "3  1610507      132.0      165.0      292.0      388.0\n",
              "4  1610534       39.0       49.0       69.0      345.0"
            ]
          },
          "metadata": {},
          "execution_count": 2034
        }
      ]
    },
    {
      "cell_type": "code",
      "metadata": {
        "id": "wB2Oqjmpakce"
      },
      "source": [
        "## Masukkan Toko ke List yang akan di Takeout\n",
        "outlier_kupang = [1610489]"
      ],
      "execution_count": 2035,
      "outputs": []
    },
    {
      "cell_type": "markdown",
      "metadata": {
        "id": "W9Kf88cGbKv2"
      },
      "source": [
        "### Take Out Toko Outlier dari List"
      ]
    },
    {
      "cell_type": "code",
      "metadata": {
        "id": "ezXv7KCZfSTz"
      },
      "source": [
        "list_toko_outlier = outlier_palembang + outlier_karawang + outlier_madiun + outlier_lampung + outlier_kupang"
      ],
      "execution_count": 2036,
      "outputs": []
    },
    {
      "cell_type": "code",
      "metadata": {
        "colab": {
          "base_uri": "https://localhost:8080/"
        },
        "id": "a_a0qACxb7SU",
        "outputId": "234a309f-01fd-4965-ab5c-eebf983ccfa3"
      },
      "source": [
        "list_toko_outlier"
      ],
      "execution_count": 2037,
      "outputs": [
        {
          "output_type": "execute_result",
          "data": {
            "text/plain": [
              "[1609900,\n",
              " 1614176,\n",
              " 1614206,\n",
              " 1614063,\n",
              " 1610071,\n",
              " 1614399,\n",
              " 1609732,\n",
              " 1609724,\n",
              " 1609700,\n",
              " 1610489]"
            ]
          },
          "metadata": {},
          "execution_count": 2037
        }
      ]
    },
    {
      "cell_type": "code",
      "metadata": {
        "id": "0YFh2mKqbJtT"
      },
      "source": [
        "## TAKEOUT TOKO FROM LIST\n",
        "df_clean = df_merge[~df_merge['SMS Id'].isin(list_toko_outlier)].reset_index(drop=True)"
      ],
      "execution_count": 2038,
      "outputs": []
    },
    {
      "cell_type": "code",
      "metadata": {
        "colab": {
          "base_uri": "https://localhost:8080/",
          "height": 561
        },
        "id": "_ezZ6YF1cZT8",
        "outputId": "4c6984f3-6f4b-48ea-c3c2-da33668bd85e"
      },
      "source": [
        "df_clean.head()"
      ],
      "execution_count": 2069,
      "outputs": [
        {
          "output_type": "execute_result",
          "data": {
            "text/html": [
              "<div>\n",
              "<style scoped>\n",
              "    .dataframe tbody tr th:only-of-type {\n",
              "        vertical-align: middle;\n",
              "    }\n",
              "\n",
              "    .dataframe tbody tr th {\n",
              "        vertical-align: top;\n",
              "    }\n",
              "\n",
              "    .dataframe thead th {\n",
              "        text-align: right;\n",
              "    }\n",
              "</style>\n",
              "<table border=\"1\" class=\"dataframe\">\n",
              "  <thead>\n",
              "    <tr style=\"text-align: right;\">\n",
              "      <th></th>\n",
              "      <th>Concatenate2</th>\n",
              "      <th>Concatenate</th>\n",
              "      <th>SMS Id</th>\n",
              "      <th>Bar Code</th>\n",
              "      <th>Product Description</th>\n",
              "      <th>IA</th>\n",
              "      <th>RBP_IA</th>\n",
              "      <th>RSP_IA</th>\n",
              "      <th>Stock_IA</th>\n",
              "      <th>RA1</th>\n",
              "      <th>RBP_RA1</th>\n",
              "      <th>RSP_RA1</th>\n",
              "      <th>Stock_RA1</th>\n",
              "      <th>Purchase_RA1</th>\n",
              "      <th>Sales</th>\n",
              "      <th>RA2</th>\n",
              "      <th>RBP_RA2</th>\n",
              "      <th>RSP_RA2</th>\n",
              "      <th>Stock_RA2</th>\n",
              "      <th>Purchase_RA2</th>\n",
              "      <th>Claimed_Sales_RA1(di_RA2)</th>\n",
              "      <th>Claimed_Sales_RA2(di_RA2)</th>\n",
              "      <th>Comment_RA2</th>\n",
              "      <th>RA3</th>\n",
              "      <th>RBP_RA3</th>\n",
              "      <th>RSP_RA3</th>\n",
              "      <th>Stock_RA3</th>\n",
              "      <th>Purchase_RA3</th>\n",
              "      <th>Claimed_Sales_RA1(di_RA3)</th>\n",
              "      <th>Claimed_Sales_RA2(di_RA3)</th>\n",
              "      <th>Claimed_Sales_RA3(di_RA3)</th>\n",
              "      <th>Comment_RA3</th>\n",
              "      <th>RA4</th>\n",
              "      <th>RBP_RA4</th>\n",
              "      <th>RSP_RA4</th>\n",
              "      <th>Stock_RA4</th>\n",
              "      <th>Purchase_RA4</th>\n",
              "      <th>Claimed_Sales_RA1(di_RA4)</th>\n",
              "      <th>Claimed_Sales_RA2(di_RA4)</th>\n",
              "      <th>Claimed_Sales_RA3(di_RA4)</th>\n",
              "      <th>Claimed_Sales_RA4(di_RA4)</th>\n",
              "      <th>Comment_RA4</th>\n",
              "      <th>Type Toko</th>\n",
              "      <th>Area</th>\n",
              "      <th>Item</th>\n",
              "      <th>ED_RA1</th>\n",
              "      <th>ED_RA2</th>\n",
              "      <th>ED_RA3</th>\n",
              "      <th>ED_RA4</th>\n",
              "      <th>Claimed_Sales_RA1</th>\n",
              "      <th>Claimed_Sales_RA2</th>\n",
              "      <th>Claimed_Sales_RA3</th>\n",
              "      <th>Claimed_Sales_RA4</th>\n",
              "      <th>Sales_RA1</th>\n",
              "      <th>Sales_RA2</th>\n",
              "      <th>Sales_RA3</th>\n",
              "      <th>Sales_RA4</th>\n",
              "      <th>Growth RA2</th>\n",
              "      <th>Growth RA3</th>\n",
              "      <th>Growth RA4</th>\n",
              "      <th>remarks</th>\n",
              "    </tr>\n",
              "  </thead>\n",
              "  <tbody>\n",
              "    <tr>\n",
              "      <th>0</th>\n",
              "      <td>PALEMBANGGudang Garam Red Soft Kspl 12 Stc (Sktb)</td>\n",
              "      <td>1609986Gudang Garam Red Soft Kspl 12 Stc (Sktb)</td>\n",
              "      <td>1609986</td>\n",
              "      <td>8998989501125</td>\n",
              "      <td>Gudang Garam Red Soft Kspl 12 Stc (Sktb)</td>\n",
              "      <td>2021-07-26</td>\n",
              "      <td>12500.0</td>\n",
              "      <td>13000.0</td>\n",
              "      <td>20.0</td>\n",
              "      <td>2021-08-02</td>\n",
              "      <td>12500.0</td>\n",
              "      <td>13000.0</td>\n",
              "      <td>3.0</td>\n",
              "      <td>0.0</td>\n",
              "      <td>NaN</td>\n",
              "      <td>2021-08-10</td>\n",
              "      <td>12500.0</td>\n",
              "      <td>13000.0</td>\n",
              "      <td>3.0</td>\n",
              "      <td>17.0</td>\n",
              "      <td>17.0</td>\n",
              "      <td>17.0</td>\n",
              "      <td>0</td>\n",
              "      <td>2021-08-18</td>\n",
              "      <td>12500.0</td>\n",
              "      <td>13000.0</td>\n",
              "      <td>3.0</td>\n",
              "      <td>20.0</td>\n",
              "      <td>17.0</td>\n",
              "      <td>17.0</td>\n",
              "      <td>20.0</td>\n",
              "      <td>COVID - Sales naik, banyak permintaan produk/k...</td>\n",
              "      <td>2021-09-03</td>\n",
              "      <td>12200.0</td>\n",
              "      <td>13000.0</td>\n",
              "      <td>2.0</td>\n",
              "      <td>20.0</td>\n",
              "      <td>17.0</td>\n",
              "      <td>17.0</td>\n",
              "      <td>20.0</td>\n",
              "      <td>21.0</td>\n",
              "      <td>0</td>\n",
              "      <td>WARUNG MEDIUM</td>\n",
              "      <td>PALEMBANG</td>\n",
              "      <td>GG MERAH 12</td>\n",
              "      <td>7.0</td>\n",
              "      <td>8.0</td>\n",
              "      <td>8.0</td>\n",
              "      <td>16.0</td>\n",
              "      <td>17.0</td>\n",
              "      <td>17.0</td>\n",
              "      <td>20.0</td>\n",
              "      <td>21.0</td>\n",
              "      <td>17.0</td>\n",
              "      <td>15.0</td>\n",
              "      <td>18.0</td>\n",
              "      <td>18.0</td>\n",
              "      <td>0.558611</td>\n",
              "      <td>-0.067781</td>\n",
              "      <td>0.909188</td>\n",
              "      <td>NaN</td>\n",
              "    </tr>\n",
              "    <tr>\n",
              "      <th>1</th>\n",
              "      <td>PALEMBANGDji Sam Soe Soft Plain 12 Stc (Sktb)</td>\n",
              "      <td>1610908Dji Sam Soe Soft Plain 12 Stc (Sktb)</td>\n",
              "      <td>1610908</td>\n",
              "      <td>8999909028234</td>\n",
              "      <td>Dji Sam Soe Soft Plain 12 Stc (Sktb)</td>\n",
              "      <td>2021-07-26</td>\n",
              "      <td>16500.0</td>\n",
              "      <td>18000.0</td>\n",
              "      <td>5.0</td>\n",
              "      <td>2021-08-03</td>\n",
              "      <td>16000.0</td>\n",
              "      <td>18000.0</td>\n",
              "      <td>10.0</td>\n",
              "      <td>10.0</td>\n",
              "      <td>NaN</td>\n",
              "      <td>2021-08-09</td>\n",
              "      <td>16000.0</td>\n",
              "      <td>18000.0</td>\n",
              "      <td>10.0</td>\n",
              "      <td>10.0</td>\n",
              "      <td>5.0</td>\n",
              "      <td>10.0</td>\n",
              "      <td>COVID - Sales naik, banyak permintaan produk/k...</td>\n",
              "      <td>2021-08-18</td>\n",
              "      <td>15850.0</td>\n",
              "      <td>18000.0</td>\n",
              "      <td>10.0</td>\n",
              "      <td>30.0</td>\n",
              "      <td>5.0</td>\n",
              "      <td>10.0</td>\n",
              "      <td>30.0</td>\n",
              "      <td>COVID - Sales naik, banyak permintaan produk/k...</td>\n",
              "      <td>2021-09-03</td>\n",
              "      <td>15900.0</td>\n",
              "      <td>18000.0</td>\n",
              "      <td>1.0</td>\n",
              "      <td>40.0</td>\n",
              "      <td>5.0</td>\n",
              "      <td>10.0</td>\n",
              "      <td>30.0</td>\n",
              "      <td>49.0</td>\n",
              "      <td>COVID - Sales naik, banyak permintaan produk/k...</td>\n",
              "      <td>WARUNG MEDIUM</td>\n",
              "      <td>PALEMBANG</td>\n",
              "      <td>DSS 12</td>\n",
              "      <td>8.0</td>\n",
              "      <td>6.0</td>\n",
              "      <td>9.0</td>\n",
              "      <td>16.0</td>\n",
              "      <td>5.0</td>\n",
              "      <td>10.0</td>\n",
              "      <td>30.0</td>\n",
              "      <td>49.0</td>\n",
              "      <td>4.0</td>\n",
              "      <td>12.0</td>\n",
              "      <td>23.0</td>\n",
              "      <td>43.0</td>\n",
              "      <td>0.278383</td>\n",
              "      <td>0.254258</td>\n",
              "      <td>0.764706</td>\n",
              "      <td>NaN</td>\n",
              "    </tr>\n",
              "    <tr>\n",
              "      <th>2</th>\n",
              "      <td>PALEMBANGPanamas 1 Soft Plain 12 Stc (Sktb)</td>\n",
              "      <td>1610908Panamas 1 Soft Plain 12 Stc (Sktb)</td>\n",
              "      <td>1610908</td>\n",
              "      <td>8999909039124</td>\n",
              "      <td>Panamas 1 Soft Plain 12 Stc (Sktb)</td>\n",
              "      <td>2021-07-26</td>\n",
              "      <td>12500.0</td>\n",
              "      <td>14000.0</td>\n",
              "      <td>10.0</td>\n",
              "      <td>2021-08-03</td>\n",
              "      <td>12500.0</td>\n",
              "      <td>14000.0</td>\n",
              "      <td>10.0</td>\n",
              "      <td>0.0</td>\n",
              "      <td>NaN</td>\n",
              "      <td>2021-08-09</td>\n",
              "      <td>12500.0</td>\n",
              "      <td>14000.0</td>\n",
              "      <td>10.0</td>\n",
              "      <td>10.0</td>\n",
              "      <td>0.0</td>\n",
              "      <td>10.0</td>\n",
              "      <td>COVID - Sales naik, banyak permintaan produk/k...</td>\n",
              "      <td>2021-08-18</td>\n",
              "      <td>12500.0</td>\n",
              "      <td>14000.0</td>\n",
              "      <td>10.0</td>\n",
              "      <td>60.0</td>\n",
              "      <td>0.0</td>\n",
              "      <td>10.0</td>\n",
              "      <td>60.0</td>\n",
              "      <td>COVID - Sales naik, banyak permintaan produk/k...</td>\n",
              "      <td>2021-09-03</td>\n",
              "      <td>12500.0</td>\n",
              "      <td>14000.0</td>\n",
              "      <td>1.0</td>\n",
              "      <td>10.0</td>\n",
              "      <td>0.0</td>\n",
              "      <td>10.0</td>\n",
              "      <td>60.0</td>\n",
              "      <td>19.0</td>\n",
              "      <td>COVID - Sales turun karena kekurangan pasokan</td>\n",
              "      <td>WARUNG MEDIUM</td>\n",
              "      <td>PALEMBANG</td>\n",
              "      <td>PANAMAS 12</td>\n",
              "      <td>8.0</td>\n",
              "      <td>6.0</td>\n",
              "      <td>9.0</td>\n",
              "      <td>16.0</td>\n",
              "      <td>NaN</td>\n",
              "      <td>10.0</td>\n",
              "      <td>60.0</td>\n",
              "      <td>19.0</td>\n",
              "      <td>0.0</td>\n",
              "      <td>12.0</td>\n",
              "      <td>47.0</td>\n",
              "      <td>17.0</td>\n",
              "      <td>0.212903</td>\n",
              "      <td>0.006649</td>\n",
              "      <td>1.020408</td>\n",
              "      <td>NaN</td>\n",
              "    </tr>\n",
              "    <tr>\n",
              "      <th>3</th>\n",
              "      <td>PALEMBANGDjarum Istimewa Soft Coklat Plain 12 ...</td>\n",
              "      <td>1610908Djarum Istimewa Soft Coklat Plain 12 St...</td>\n",
              "      <td>1610908</td>\n",
              "      <td>8991906101651</td>\n",
              "      <td>Djarum Istimewa Soft Coklat Plain 12 Stc (Sktb)</td>\n",
              "      <td>2021-07-26</td>\n",
              "      <td>12500.0</td>\n",
              "      <td>14000.0</td>\n",
              "      <td>10.0</td>\n",
              "      <td>2021-08-03</td>\n",
              "      <td>12500.0</td>\n",
              "      <td>14000.0</td>\n",
              "      <td>10.0</td>\n",
              "      <td>0.0</td>\n",
              "      <td>NaN</td>\n",
              "      <td>2021-08-09</td>\n",
              "      <td>12500.0</td>\n",
              "      <td>14000.0</td>\n",
              "      <td>10.0</td>\n",
              "      <td>10.0</td>\n",
              "      <td>0.0</td>\n",
              "      <td>10.0</td>\n",
              "      <td>COVID - Sales naik, banyak permintaan produk/k...</td>\n",
              "      <td>2021-08-18</td>\n",
              "      <td>12500.0</td>\n",
              "      <td>14000.0</td>\n",
              "      <td>10.0</td>\n",
              "      <td>30.0</td>\n",
              "      <td>0.0</td>\n",
              "      <td>10.0</td>\n",
              "      <td>30.0</td>\n",
              "      <td>COVID - Sales naik, banyak permintaan produk/k...</td>\n",
              "      <td>2021-09-03</td>\n",
              "      <td>12500.0</td>\n",
              "      <td>14000.0</td>\n",
              "      <td>1.0</td>\n",
              "      <td>10.0</td>\n",
              "      <td>0.0</td>\n",
              "      <td>10.0</td>\n",
              "      <td>30.0</td>\n",
              "      <td>19.0</td>\n",
              "      <td>COVID - Sales turun karena kekurangan pasokan</td>\n",
              "      <td>WARUNG MEDIUM</td>\n",
              "      <td>PALEMBANG</td>\n",
              "      <td>DJARUM ISTIMEWA 12</td>\n",
              "      <td>8.0</td>\n",
              "      <td>6.0</td>\n",
              "      <td>9.0</td>\n",
              "      <td>16.0</td>\n",
              "      <td>NaN</td>\n",
              "      <td>10.0</td>\n",
              "      <td>30.0</td>\n",
              "      <td>19.0</td>\n",
              "      <td>0.0</td>\n",
              "      <td>12.0</td>\n",
              "      <td>23.0</td>\n",
              "      <td>17.0</td>\n",
              "      <td>0.762658</td>\n",
              "      <td>0.473369</td>\n",
              "      <td>0.307003</td>\n",
              "      <td>NaN</td>\n",
              "    </tr>\n",
              "    <tr>\n",
              "      <th>4</th>\n",
              "      <td>PALEMBANGGudang Garam Red Soft Kspl 12 Stc (Sktb)</td>\n",
              "      <td>1610908Gudang Garam Red Soft Kspl 12 Stc (Sktb)</td>\n",
              "      <td>1610908</td>\n",
              "      <td>8998989501125</td>\n",
              "      <td>Gudang Garam Red Soft Kspl 12 Stc (Sktb)</td>\n",
              "      <td>2021-07-26</td>\n",
              "      <td>12500.0</td>\n",
              "      <td>14000.0</td>\n",
              "      <td>10.0</td>\n",
              "      <td>2021-08-03</td>\n",
              "      <td>12500.0</td>\n",
              "      <td>14000.0</td>\n",
              "      <td>10.0</td>\n",
              "      <td>0.0</td>\n",
              "      <td>NaN</td>\n",
              "      <td>2021-08-09</td>\n",
              "      <td>12500.0</td>\n",
              "      <td>14000.0</td>\n",
              "      <td>10.0</td>\n",
              "      <td>10.0</td>\n",
              "      <td>0.0</td>\n",
              "      <td>10.0</td>\n",
              "      <td>COVID - Sales naik, banyak permintaan produk/k...</td>\n",
              "      <td>2021-08-18</td>\n",
              "      <td>12150.0</td>\n",
              "      <td>14000.0</td>\n",
              "      <td>10.0</td>\n",
              "      <td>30.0</td>\n",
              "      <td>0.0</td>\n",
              "      <td>10.0</td>\n",
              "      <td>30.0</td>\n",
              "      <td>COVID - Sales naik, banyak permintaan produk/k...</td>\n",
              "      <td>2021-09-03</td>\n",
              "      <td>12500.0</td>\n",
              "      <td>14000.0</td>\n",
              "      <td>1.0</td>\n",
              "      <td>20.0</td>\n",
              "      <td>0.0</td>\n",
              "      <td>10.0</td>\n",
              "      <td>30.0</td>\n",
              "      <td>29.0</td>\n",
              "      <td>0</td>\n",
              "      <td>WARUNG MEDIUM</td>\n",
              "      <td>PALEMBANG</td>\n",
              "      <td>GG MERAH 12</td>\n",
              "      <td>8.0</td>\n",
              "      <td>6.0</td>\n",
              "      <td>9.0</td>\n",
              "      <td>16.0</td>\n",
              "      <td>NaN</td>\n",
              "      <td>10.0</td>\n",
              "      <td>30.0</td>\n",
              "      <td>29.0</td>\n",
              "      <td>0.0</td>\n",
              "      <td>12.0</td>\n",
              "      <td>23.0</td>\n",
              "      <td>25.0</td>\n",
              "      <td>0.558611</td>\n",
              "      <td>-0.067781</td>\n",
              "      <td>0.909188</td>\n",
              "      <td>NaN</td>\n",
              "    </tr>\n",
              "  </tbody>\n",
              "</table>\n",
              "</div>"
            ],
            "text/plain": [
              "                                        Concatenate2  ... remarks\n",
              "0  PALEMBANGGudang Garam Red Soft Kspl 12 Stc (Sktb)  ...     NaN\n",
              "1      PALEMBANGDji Sam Soe Soft Plain 12 Stc (Sktb)  ...     NaN\n",
              "2        PALEMBANGPanamas 1 Soft Plain 12 Stc (Sktb)  ...     NaN\n",
              "3  PALEMBANGDjarum Istimewa Soft Coklat Plain 12 ...  ...     NaN\n",
              "4  PALEMBANGGudang Garam Red Soft Kspl 12 Stc (Sktb)  ...     NaN\n",
              "\n",
              "[5 rows x 61 columns]"
            ]
          },
          "metadata": {},
          "execution_count": 2069
        }
      ]
    },
    {
      "cell_type": "code",
      "metadata": {
        "colab": {
          "base_uri": "https://localhost:8080/",
          "height": 230
        },
        "id": "JH5fXa8hpNDu",
        "outputId": "65921c40-4cd3-4861-b4f8-677e6774ac2a"
      },
      "source": [
        "hitung_toko = pd.pivot_table(df_clean,\n",
        "               index=['Area','SMS Id'],\n",
        "               values='Bar Code',\n",
        "               aggfunc='count').reset_index()\n",
        "pd.pivot_table(hitung_toko,\n",
        "               index='Area',\n",
        "               values='SMS Id',\n",
        "               aggfunc='count')"
      ],
      "execution_count": 2040,
      "outputs": [
        {
          "output_type": "execute_result",
          "data": {
            "text/html": [
              "<div>\n",
              "<style scoped>\n",
              "    .dataframe tbody tr th:only-of-type {\n",
              "        vertical-align: middle;\n",
              "    }\n",
              "\n",
              "    .dataframe tbody tr th {\n",
              "        vertical-align: top;\n",
              "    }\n",
              "\n",
              "    .dataframe thead th {\n",
              "        text-align: right;\n",
              "    }\n",
              "</style>\n",
              "<table border=\"1\" class=\"dataframe\">\n",
              "  <thead>\n",
              "    <tr style=\"text-align: right;\">\n",
              "      <th></th>\n",
              "      <th>SMS Id</th>\n",
              "    </tr>\n",
              "    <tr>\n",
              "      <th>Area</th>\n",
              "      <th></th>\n",
              "    </tr>\n",
              "  </thead>\n",
              "  <tbody>\n",
              "    <tr>\n",
              "      <th>KARAWANG</th>\n",
              "      <td>83</td>\n",
              "    </tr>\n",
              "    <tr>\n",
              "      <th>KUPANG</th>\n",
              "      <td>79</td>\n",
              "    </tr>\n",
              "    <tr>\n",
              "      <th>LAMPUNG</th>\n",
              "      <td>81</td>\n",
              "    </tr>\n",
              "    <tr>\n",
              "      <th>MADIUN</th>\n",
              "      <td>81</td>\n",
              "    </tr>\n",
              "    <tr>\n",
              "      <th>PALEMBANG</th>\n",
              "      <td>75</td>\n",
              "    </tr>\n",
              "  </tbody>\n",
              "</table>\n",
              "</div>"
            ],
            "text/plain": [
              "           SMS Id\n",
              "Area             \n",
              "KARAWANG       83\n",
              "KUPANG         79\n",
              "LAMPUNG        81\n",
              "MADIUN         81\n",
              "PALEMBANG      75"
            ]
          },
          "metadata": {},
          "execution_count": 2040
        }
      ]
    },
    {
      "cell_type": "code",
      "metadata": {
        "id": "NGL2_n1XqdBO"
      },
      "source": [
        "df_clean.to_excel('data_clean.xlsx')"
      ],
      "execution_count": 2041,
      "outputs": []
    },
    {
      "cell_type": "markdown",
      "metadata": {
        "id": "a6cKxhFjJKet"
      },
      "source": [
        "## CEK apakah masih ada data yang blank"
      ]
    },
    {
      "cell_type": "code",
      "metadata": {
        "id": "zqlAJD4VJGZy"
      },
      "source": [
        "C1 = df_clean['Sales_RA1'].isna()\n",
        "C2 = df_clean['Sales_RA2'].isna()\n",
        "C3 = df_clean['Sales_RA3'].isna()\n",
        "\n",
        "df_clean[C1 | C2 | C3].to_excel('data_blank.xlsx')"
      ],
      "execution_count": 2023,
      "outputs": []
    },
    {
      "cell_type": "markdown",
      "metadata": {
        "id": "TU7BRd_8JCzS"
      },
      "source": [
        "## Cek RBP harus < dari RSP"
      ]
    },
    {
      "cell_type": "code",
      "metadata": {
        "id": "cOvhtBOjHizp",
        "outputId": "b0ecba2a-37e8-407b-e5e6-81046f0fc9df",
        "colab": {
          "base_uri": "https://localhost:8080/"
        }
      },
      "source": [
        "df_clean[df_clean['RBP_IA']>df_clean['RSP_IA']].count().sum()"
      ],
      "execution_count": 2061,
      "outputs": [
        {
          "output_type": "execute_result",
          "data": {
            "text/plain": [
              "0"
            ]
          },
          "metadata": {},
          "execution_count": 2061
        }
      ]
    },
    {
      "cell_type": "code",
      "metadata": {
        "id": "GBPizvD0DK49",
        "outputId": "6e4c1fe3-80b1-4ca2-de3b-9a2e821c2fde",
        "colab": {
          "base_uri": "https://localhost:8080/"
        }
      },
      "source": [
        "df_clean[df_clean['RBP_RA1']>df_clean['RSP_RA1']].count().sum()"
      ],
      "execution_count": 2062,
      "outputs": [
        {
          "output_type": "execute_result",
          "data": {
            "text/plain": [
              "0"
            ]
          },
          "metadata": {},
          "execution_count": 2062
        }
      ]
    },
    {
      "cell_type": "code",
      "metadata": {
        "id": "kGfY9Z3XHrBd",
        "outputId": "4f4b75b1-0dda-472a-8cb5-ed8005cbc6ce",
        "colab": {
          "base_uri": "https://localhost:8080/"
        }
      },
      "source": [
        "df_clean[df_clean['RBP_RA2']>df_clean['RSP_RA2']].count().sum()"
      ],
      "execution_count": 2063,
      "outputs": [
        {
          "output_type": "execute_result",
          "data": {
            "text/plain": [
              "0"
            ]
          },
          "metadata": {},
          "execution_count": 2063
        }
      ]
    },
    {
      "cell_type": "code",
      "metadata": {
        "id": "EZTpfIaiH3nj",
        "outputId": "8f781bc7-c714-4c59-ef17-7ba896f59323",
        "colab": {
          "base_uri": "https://localhost:8080/"
        }
      },
      "source": [
        "df_clean[df_clean['RBP_RA3']>df_clean['RSP_RA3']].count().sum()"
      ],
      "execution_count": 2067,
      "outputs": [
        {
          "output_type": "execute_result",
          "data": {
            "text/plain": [
              "0"
            ]
          },
          "metadata": {},
          "execution_count": 2067
        }
      ]
    },
    {
      "cell_type": "code",
      "metadata": {
        "id": "_uMcrPjMH8k1",
        "outputId": "345b613c-a53a-4c00-963d-e0ebee7d3ba5",
        "colab": {
          "base_uri": "https://localhost:8080/"
        }
      },
      "source": [
        "df_clean[df_clean['RBP_RA4']>df_clean['RSP_RA4']].count().sum()"
      ],
      "execution_count": 2068,
      "outputs": [
        {
          "output_type": "execute_result",
          "data": {
            "text/plain": [
              "0"
            ]
          },
          "metadata": {},
          "execution_count": 2068
        }
      ]
    },
    {
      "cell_type": "markdown",
      "metadata": {
        "id": "7JT7_ZOybLr7"
      },
      "source": [
        "##1. Ada Promotion tapi tidak ada sales"
      ]
    },
    {
      "cell_type": "markdown",
      "metadata": {
        "id": "-lmHWy1yjvn2"
      },
      "source": [
        "##2. Ada POSM tapi tidak ada sales"
      ]
    },
    {
      "cell_type": "markdown",
      "metadata": {
        "id": "7495XQbvbQ8R"
      },
      "source": [
        "##3. Ada sales tapi tidak ada promotion ataupun POSM"
      ]
    },
    {
      "cell_type": "markdown",
      "metadata": {
        "id": "ce3NznVqktED"
      },
      "source": [
        ""
      ]
    },
    {
      "cell_type": "code",
      "metadata": {
        "id": "JPEH1Y-eksV8"
      },
      "source": [
        ""
      ],
      "execution_count": 2041,
      "outputs": []
    }
  ]
}