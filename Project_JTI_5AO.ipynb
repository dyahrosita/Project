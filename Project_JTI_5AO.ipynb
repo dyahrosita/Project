{
  "nbformat": 4,
  "nbformat_minor": 0,
  "metadata": {
    "colab": {
      "name": "Project JTI 5AO.ipynb",
      "provenance": [],
      "collapsed_sections": [],
      "toc_visible": true,
      "authorship_tag": "ABX9TyPqTARxJAambr2vxPpNDINM",
      "include_colab_link": true
    },
    "kernelspec": {
      "display_name": "Python 3",
      "name": "python3"
    },
    "language_info": {
      "name": "python"
    }
  },
  "cells": [
    {
      "cell_type": "markdown",
      "metadata": {
        "id": "view-in-github",
        "colab_type": "text"
      },
      "source": [
        "<a href=\"https://colab.research.google.com/github/dyahrosita/Project/blob/main/Project_JTI_5AO.ipynb\" target=\"_parent\"><img src=\"https://colab.research.google.com/assets/colab-badge.svg\" alt=\"Open In Colab\"/></a>"
      ]
    },
    {
      "cell_type": "markdown",
      "metadata": {
        "id": "vVehffFvn16E"
      },
      "source": [
        "# Import LIbrary"
      ]
    },
    {
      "cell_type": "code",
      "metadata": {
        "colab": {
          "base_uri": "https://localhost:8080/"
        },
        "id": "tlSJPqdb3Xd2",
        "outputId": "09e3ee9d-e155-4cfc-9642-b21041ade5bc"
      },
      "source": [
        "import pandas as pd\n",
        "import numpy as np\n",
        "import matplotlib.pyplot as plt\n",
        "import re\n",
        "from functools import reduce\n",
        "import datetime as dt\n",
        "\n",
        "from google.colab import files\n",
        "from google.colab import drive\n",
        "drive.mount(\"/content/gdrive/\")"
      ],
      "execution_count": null,
      "outputs": [
        {
          "output_type": "stream",
          "name": "stdout",
          "text": [
            "Drive already mounted at /content/gdrive/; to attempt to forcibly remount, call drive.mount(\"/content/gdrive/\", force_remount=True).\n"
          ]
        }
      ]
    },
    {
      "cell_type": "markdown",
      "metadata": {
        "id": "rLfvIMO8XWeD"
      },
      "source": [
        "## Initial Audit (week 1)"
      ]
    },
    {
      "cell_type": "code",
      "metadata": {
        "id": "Dy_JKxNmLWIN"
      },
      "source": [
        "# ambil data dari GDrive\n",
        "IA = pd.read_excel('gdrive/My Drive/JACOB/Data Clean JTI-Jacob 2021 Week 1-IA.xlsx','Data Clean LHHT')\n",
        "# ganti data yang memiliki nilai N/A dengan 0\n",
        "IA = IA.fillna(0)"
      ],
      "execution_count": null,
      "outputs": []
    },
    {
      "cell_type": "code",
      "metadata": {
        "id": "nrA5F8ks2wB1"
      },
      "source": [
        "# hitung total stol\n",
        "IA['Stock'] = IA['Shop/Front Stock']+IA['Other Stock']\n",
        "#buat kolom unique name utk mapping (concatenate) dengan menggabungkan store code dengan product description\n",
        "IA.insert(0, 'Concatenate', IA['SMS Id'].astype('str')+IA['Product Description'])"
      ],
      "execution_count": null,
      "outputs": []
    },
    {
      "cell_type": "code",
      "metadata": {
        "id": "_qZl9czspolj"
      },
      "source": [
        "# menghapus kolom2 yang tidak dibutuhkan\n",
        "IA = IA.drop(['Country Id', 'Country Name', 'Auditor Id', 'Resource Name','Instruction Id', \n",
        "            'Category Id', 'Category Name', 'Module Name','Entity Id','Original Fact Value',\n",
        "            'Cluster Id','alternate audit methodology','Shop/Front Stock','Other Stock',\n",
        "            'Audit Status','Sales'], axis=1)\n",
        "# mengganti nama kolom agar sesuai dengan yg diinginkan\n",
        "IA.columns = IA.columns.str.replace('Number Of Observation by Type of Observation','RBP')"
      ],
      "execution_count": null,
      "outputs": []
    },
    {
      "cell_type": "code",
      "metadata": {
        "colab": {
          "base_uri": "https://localhost:8080/",
          "height": 200
        },
        "id": "dcm8pVVBYlrf",
        "outputId": "cb6030b9-74d1-40f1-8997-f47694a305f9"
      },
      "source": [
        "# melihat sekilas data Initial Audit yang sudah dirapihkan\n",
        "IA.head()"
      ],
      "execution_count": null,
      "outputs": [
        {
          "output_type": "execute_result",
          "data": {
            "text/html": [
              "<div>\n",
              "<style scoped>\n",
              "    .dataframe tbody tr th:only-of-type {\n",
              "        vertical-align: middle;\n",
              "    }\n",
              "\n",
              "    .dataframe tbody tr th {\n",
              "        vertical-align: top;\n",
              "    }\n",
              "\n",
              "    .dataframe thead th {\n",
              "        text-align: right;\n",
              "    }\n",
              "</style>\n",
              "<table border=\"1\" class=\"dataframe\">\n",
              "  <thead>\n",
              "    <tr style=\"text-align: right;\">\n",
              "      <th></th>\n",
              "      <th>Concatenate</th>\n",
              "      <th>SMS Id</th>\n",
              "      <th>Bar Code</th>\n",
              "      <th>Product Description</th>\n",
              "      <th>Visit Date</th>\n",
              "      <th>RBP</th>\n",
              "      <th>RSP/Price</th>\n",
              "      <th>Stock</th>\n",
              "    </tr>\n",
              "  </thead>\n",
              "  <tbody>\n",
              "    <tr>\n",
              "      <th>0</th>\n",
              "      <td>1609899Djarum Istimewa Soft Coklat Plain 12 St...</td>\n",
              "      <td>1609899</td>\n",
              "      <td>8991906101651</td>\n",
              "      <td>Djarum Istimewa Soft Coklat Plain 12 Stc (Sktb)</td>\n",
              "      <td>2021-07-26</td>\n",
              "      <td>11500</td>\n",
              "      <td>13000</td>\n",
              "      <td>10.0</td>\n",
              "    </tr>\n",
              "    <tr>\n",
              "      <th>1</th>\n",
              "      <td>1609986Gudang Garam Red Soft Kspl 12 Stc (Sktb)</td>\n",
              "      <td>1609986</td>\n",
              "      <td>8998989501125</td>\n",
              "      <td>Gudang Garam Red Soft Kspl 12 Stc (Sktb)</td>\n",
              "      <td>2021-07-26</td>\n",
              "      <td>12500</td>\n",
              "      <td>13000</td>\n",
              "      <td>20.0</td>\n",
              "    </tr>\n",
              "    <tr>\n",
              "      <th>2</th>\n",
              "      <td>1610014Dji Sam Soe Soft Plain 12 Stc (Sktb)</td>\n",
              "      <td>1610014</td>\n",
              "      <td>8999909028234</td>\n",
              "      <td>Dji Sam Soe Soft Plain 12 Stc (Sktb)</td>\n",
              "      <td>2021-07-26</td>\n",
              "      <td>16500</td>\n",
              "      <td>18000</td>\n",
              "      <td>4.0</td>\n",
              "    </tr>\n",
              "    <tr>\n",
              "      <th>3</th>\n",
              "      <td>1610908Dji Sam Soe Soft Plain 12 Stc (Sktb)</td>\n",
              "      <td>1610908</td>\n",
              "      <td>8999909028234</td>\n",
              "      <td>Dji Sam Soe Soft Plain 12 Stc (Sktb)</td>\n",
              "      <td>2021-07-26</td>\n",
              "      <td>16500</td>\n",
              "      <td>18000</td>\n",
              "      <td>5.0</td>\n",
              "    </tr>\n",
              "    <tr>\n",
              "      <th>4</th>\n",
              "      <td>1610908Panamas 1 Soft Plain 12 Stc (Sktb)</td>\n",
              "      <td>1610908</td>\n",
              "      <td>8999909039124</td>\n",
              "      <td>Panamas 1 Soft Plain 12 Stc (Sktb)</td>\n",
              "      <td>2021-07-26</td>\n",
              "      <td>12500</td>\n",
              "      <td>14000</td>\n",
              "      <td>10.0</td>\n",
              "    </tr>\n",
              "  </tbody>\n",
              "</table>\n",
              "</div>"
            ],
            "text/plain": [
              "                                         Concatenate   SMS Id  ...  RSP/Price Stock\n",
              "0  1609899Djarum Istimewa Soft Coklat Plain 12 St...  1609899  ...      13000  10.0\n",
              "1    1609986Gudang Garam Red Soft Kspl 12 Stc (Sktb)  1609986  ...      13000  20.0\n",
              "2        1610014Dji Sam Soe Soft Plain 12 Stc (Sktb)  1610014  ...      18000   4.0\n",
              "3        1610908Dji Sam Soe Soft Plain 12 Stc (Sktb)  1610908  ...      18000   5.0\n",
              "4          1610908Panamas 1 Soft Plain 12 Stc (Sktb)  1610908  ...      14000  10.0\n",
              "\n",
              "[5 rows x 8 columns]"
            ]
          },
          "metadata": {},
          "execution_count": 314
        }
      ]
    },
    {
      "cell_type": "code",
      "metadata": {
        "id": "k069RySQmzvd",
        "colab": {
          "base_uri": "https://localhost:8080/"
        },
        "outputId": "db3917ec-6c31-4414-c09b-fb516ad84188"
      },
      "source": [
        "# membuat format untuk di merge dengan table lainnya\n",
        "m_IA = IA.copy()\n",
        "# mengganti nama kolom agar sesuai dengan yg diinginkan\n",
        "m_IA.columns = m_IA.columns.str.replace('Visit Date', 'IA').str.replace('RBP', 'RBP_IA').str.replace('RSP/Price','RSP_IA').str.replace('Stock','Stock_IA')\n",
        "m_IA.columns"
      ],
      "execution_count": null,
      "outputs": [
        {
          "output_type": "execute_result",
          "data": {
            "text/plain": [
              "Index(['Concatenate', 'SMS Id', 'Bar Code', 'Product Description', 'IA',\n",
              "       'RBP_IA', 'RSP_IA', 'Stock_IA'],\n",
              "      dtype='object')"
            ]
          },
          "metadata": {},
          "execution_count": 315
        }
      ]
    },
    {
      "cell_type": "markdown",
      "metadata": {
        "id": "hE1gqrh79FRZ"
      },
      "source": [
        "## Retail Audit 1 (week 2)"
      ]
    },
    {
      "cell_type": "code",
      "metadata": {
        "id": "dRZ5SBXncRlE"
      },
      "source": [
        "RA1 = pd.read_excel('gdrive/My Drive/JACOB/Data Clean Jacob 2021 Week 2 (RA1).xlsx','Data Clean')\n",
        "RA1 = RA1.fillna(0)"
      ],
      "execution_count": null,
      "outputs": []
    },
    {
      "cell_type": "code",
      "metadata": {
        "id": "KDm9xrpyXPrf"
      },
      "source": [
        "RA1['Visit Date'] = RA1['Visit Date'].str.replace('Agu','Aug')\n",
        "RA1['Visit Date'] = pd.to_datetime(RA1['Visit Date'])"
      ],
      "execution_count": null,
      "outputs": []
    },
    {
      "cell_type": "code",
      "metadata": {
        "id": "S30wCW6-5Iup"
      },
      "source": [
        "RA1['Stock'] = RA1['Shop/Front Stock']+RA1['Other Stock']\n",
        "RA1['Purchase'] = RA1['Direct Purchase(Pur1)']+RA1['Missing invoice(Pur3)']+RA1['Missing Stock']-RA1['Double Count']-RA1['Goods Returned']\n",
        "RA1.insert(0, 'Concatenate', RA1['SMS Id'].astype('str')+RA1['Product Description'])"
      ],
      "execution_count": null,
      "outputs": []
    },
    {
      "cell_type": "code",
      "metadata": {
        "id": "4vg2RyXmqbmL"
      },
      "source": [
        "RA1 = RA1.drop(['Country Id', 'Country Name', 'Auditor Id', 'Resource Name','Instruction Id', \n",
        "            'Category Id', 'Category Name', 'Module Name','Entity Id','Original Fact Value',\n",
        "            'Cluster Id','alternate audit methodology','Shop/Front Stock','Other Stock',\n",
        "            'Direct Purchase(Pur1)','Double Count', 'Goods Returned', 'Missing invoice(Pur3)',\n",
        "            'Missing Stock','Audit Status'], axis=1)\n",
        "RA1.columns = RA1.columns.str.replace('Number Of Observation by Type of Observation','RBP')"
      ],
      "execution_count": null,
      "outputs": []
    },
    {
      "cell_type": "code",
      "metadata": {
        "id": "EobcBeDEWb9t",
        "colab": {
          "base_uri": "https://localhost:8080/",
          "height": 51
        },
        "outputId": "22639cbc-8980-4202-b995-696c812959ef"
      },
      "source": [
        "'''new_IA = IA[['SMS Id','Visit Date']].drop_duplicates()\n",
        "new_IA.columns = new_IA.columns.str.replace('Visit Date', 'Prev_Visit Date')\n",
        "new2_IA = IA[['Concatenate','Stock']]\n",
        "new2_IA.columns = new2_IA.columns.str.replace('Stock', 'Prev_Stock')'''"
      ],
      "execution_count": null,
      "outputs": [
        {
          "output_type": "execute_result",
          "data": {
            "application/vnd.google.colaboratory.intrinsic+json": {
              "type": "string"
            },
            "text/plain": [
              "\"new_IA = IA[['SMS Id','Visit Date']].drop_duplicates()\\nnew_IA.columns = new_IA.columns.str.replace('Visit Date', 'Prev_Visit Date')\\nnew2_IA = IA[['Concatenate','Stock']]\\nnew2_IA.columns = new2_IA.columns.str.replace('Stock', 'Prev_Stock')\""
            ]
          },
          "metadata": {},
          "execution_count": 320
        }
      ]
    },
    {
      "cell_type": "code",
      "metadata": {
        "id": "w1xMeFI9wheS",
        "colab": {
          "base_uri": "https://localhost:8080/",
          "height": 35
        },
        "outputId": "30ddbd98-54d4-469c-8434-a60e35e73e2a"
      },
      "source": [
        "'''RA1 = RA1.merge(new_IA, on='SMS Id')\n",
        "RA1 = RA1.merge(new2_IA, on='Concatenate')'''"
      ],
      "execution_count": null,
      "outputs": [
        {
          "output_type": "execute_result",
          "data": {
            "application/vnd.google.colaboratory.intrinsic+json": {
              "type": "string"
            },
            "text/plain": [
              "\"RA1 = RA1.merge(new_IA, on='SMS Id')\\nRA1 = RA1.merge(new2_IA, on='Concatenate')\""
            ]
          },
          "metadata": {},
          "execution_count": 321
        }
      ]
    },
    {
      "cell_type": "code",
      "metadata": {
        "id": "ebbUU7pA9cPl"
      },
      "source": [
        "#RA1['Recheck_Sales'] = RA1['Prev_Stock']+RA1['Purchase']-RA1['Stock']"
      ],
      "execution_count": null,
      "outputs": []
    },
    {
      "cell_type": "code",
      "metadata": {
        "id": "yPFEtOI2-a7q"
      },
      "source": [
        "#RA1[RA1['Recheck_Sales']-RA1['Sales']!=0]"
      ],
      "execution_count": null,
      "outputs": []
    },
    {
      "cell_type": "code",
      "metadata": {
        "colab": {
          "base_uri": "https://localhost:8080/"
        },
        "id": "Q9SsXf6hobtW",
        "outputId": "d073ea7a-2deb-47a5-a5bc-4a6472240193"
      },
      "source": [
        "# membuat format untuk di merge dengan table lainnya\n",
        "m_RA1 = RA1.copy()\n",
        "# mengganti nama kolom agar sesuai dengan yg diinginkan\n",
        "m_RA1.columns = m_RA1.columns.str.replace('Visit Date', 'RA1').str.replace('RBP', 'RBP_RA1').str.replace('RSP/Price','RSP_RA1').str.replace('Stock','Stock_RA1').str.replace('Purchase','Purchase_RA1')\n",
        "m_RA1.columns"
      ],
      "execution_count": null,
      "outputs": [
        {
          "output_type": "execute_result",
          "data": {
            "text/plain": [
              "Index(['Concatenate', 'SMS Id', 'Bar Code', 'Product Description', 'RA1',\n",
              "       'RBP_RA1', 'RSP_RA1', 'Sales', 'Stock_RA1', 'Purchase_RA1'],\n",
              "      dtype='object')"
            ]
          },
          "metadata": {},
          "execution_count": 324
        }
      ]
    },
    {
      "cell_type": "markdown",
      "metadata": {
        "id": "M2LWKGR-9AZD"
      },
      "source": [
        "## Retail Audit 2 (week 3)"
      ]
    },
    {
      "cell_type": "code",
      "metadata": {
        "id": "yg2CmnZLcX3k"
      },
      "source": [
        "RA2 = pd.read_excel('gdrive/My Drive/JACOB/Data Clean Jacob 2021 Week 3 (RA2).xlsx','Data Clean')\n",
        "RA2 = RA2.fillna(0)"
      ],
      "execution_count": null,
      "outputs": []
    },
    {
      "cell_type": "code",
      "metadata": {
        "id": "JVWjOPsZYD9n"
      },
      "source": [
        "RA2['Visit Date'] = RA2['Visit Date'].str.replace('Agu','Aug')\n",
        "RA2['Visit Date'] = pd.to_datetime(RA2['Visit Date'])"
      ],
      "execution_count": null,
      "outputs": []
    },
    {
      "cell_type": "code",
      "metadata": {
        "id": "dDkkjqcjQrR4",
        "colab": {
          "base_uri": "https://localhost:8080/",
          "height": 528
        },
        "outputId": "ff87b749-e8ed-47be-c875-800ff65b78b1"
      },
      "source": [
        "RA2.head()"
      ],
      "execution_count": null,
      "outputs": [
        {
          "output_type": "execute_result",
          "data": {
            "text/html": [
              "<div>\n",
              "<style scoped>\n",
              "    .dataframe tbody tr th:only-of-type {\n",
              "        vertical-align: middle;\n",
              "    }\n",
              "\n",
              "    .dataframe tbody tr th {\n",
              "        vertical-align: top;\n",
              "    }\n",
              "\n",
              "    .dataframe thead th {\n",
              "        text-align: right;\n",
              "    }\n",
              "</style>\n",
              "<table border=\"1\" class=\"dataframe\">\n",
              "  <thead>\n",
              "    <tr style=\"text-align: right;\">\n",
              "      <th></th>\n",
              "      <th>Country Id</th>\n",
              "      <th>Country Name</th>\n",
              "      <th>Auditor Id</th>\n",
              "      <th>Resource Name</th>\n",
              "      <th>SMS Id</th>\n",
              "      <th>Instruction Id</th>\n",
              "      <th>Category Id</th>\n",
              "      <th>Category Name</th>\n",
              "      <th>Module Name</th>\n",
              "      <th>Entity Id</th>\n",
              "      <th>Bar Code</th>\n",
              "      <th>Product Description</th>\n",
              "      <th>Visit Date</th>\n",
              "      <th>Audit Status</th>\n",
              "      <th>Original Fact Value</th>\n",
              "      <th>Cluster Id</th>\n",
              "      <th>alternate audit methodology</th>\n",
              "      <th>Number Of Observation by Type of Observation</th>\n",
              "      <th>RSP/Price</th>\n",
              "      <th>PREIVIOUS STOCK</th>\n",
              "      <th>Shop/Front Stock</th>\n",
              "      <th>Other Stock</th>\n",
              "      <th>Direct Purchase(Pur1)</th>\n",
              "      <th>Double Count</th>\n",
              "      <th>Goods Returned</th>\n",
              "      <th>Missing invoice(Pur3)</th>\n",
              "      <th>Missing Stock</th>\n",
              "      <th>Sales</th>\n",
              "      <th>Sales_W2</th>\n",
              "      <th>Item Comment</th>\n",
              "    </tr>\n",
              "  </thead>\n",
              "  <tbody>\n",
              "    <tr>\n",
              "      <th>0</th>\n",
              "      <td>360</td>\n",
              "      <td>INDONESIA</td>\n",
              "      <td>316595</td>\n",
              "      <td>Supri Yanto</td>\n",
              "      <td>1610063</td>\n",
              "      <td>122780577</td>\n",
              "      <td>8</td>\n",
              "      <td>Cigarette</td>\n",
              "      <td>Cigarette</td>\n",
              "      <td>80228</td>\n",
              "      <td>8999909028234</td>\n",
              "      <td>Dji Sam Soe Soft Plain 12 Stc (Sktb)</td>\n",
              "      <td>2021-08-09</td>\n",
              "      <td>AUDIT COMPLETE</td>\n",
              "      <td>(blank)</td>\n",
              "      <td>742047</td>\n",
              "      <td>0.0</td>\n",
              "      <td>15800.0</td>\n",
              "      <td>18000.0</td>\n",
              "      <td>20.0</td>\n",
              "      <td>20.0</td>\n",
              "      <td>0.0</td>\n",
              "      <td>0.0</td>\n",
              "      <td>0.0</td>\n",
              "      <td>0.0</td>\n",
              "      <td>10.0</td>\n",
              "      <td>0.0</td>\n",
              "      <td>10</td>\n",
              "      <td>10.0</td>\n",
              "      <td>0</td>\n",
              "    </tr>\n",
              "    <tr>\n",
              "      <th>1</th>\n",
              "      <td>360</td>\n",
              "      <td>INDONESIA</td>\n",
              "      <td>316595</td>\n",
              "      <td>Supri Yanto</td>\n",
              "      <td>1610063</td>\n",
              "      <td>122780577</td>\n",
              "      <td>8</td>\n",
              "      <td>Cigarette</td>\n",
              "      <td>Cigarette</td>\n",
              "      <td>80255</td>\n",
              "      <td>8999909039124</td>\n",
              "      <td>Panamas 1 Soft Plain 12 Stc (Sktb)</td>\n",
              "      <td>2021-08-09</td>\n",
              "      <td>AUDIT COMPLETE</td>\n",
              "      <td>(blank)</td>\n",
              "      <td>742047</td>\n",
              "      <td>0.0</td>\n",
              "      <td>11900.0</td>\n",
              "      <td>13000.0</td>\n",
              "      <td>10.0</td>\n",
              "      <td>10.0</td>\n",
              "      <td>0.0</td>\n",
              "      <td>0.0</td>\n",
              "      <td>0.0</td>\n",
              "      <td>0.0</td>\n",
              "      <td>10.0</td>\n",
              "      <td>0.0</td>\n",
              "      <td>10</td>\n",
              "      <td>20.0</td>\n",
              "      <td>COVID - Sales turun karena kekurangan pasokan</td>\n",
              "    </tr>\n",
              "    <tr>\n",
              "      <th>2</th>\n",
              "      <td>360</td>\n",
              "      <td>INDONESIA</td>\n",
              "      <td>316595</td>\n",
              "      <td>Supri Yanto</td>\n",
              "      <td>1610063</td>\n",
              "      <td>122780577</td>\n",
              "      <td>8</td>\n",
              "      <td>Cigarette</td>\n",
              "      <td>Cigarette</td>\n",
              "      <td>80271</td>\n",
              "      <td>8991906101651</td>\n",
              "      <td>Djarum Istimewa Soft Coklat Plain 12 Stc (Sktb)</td>\n",
              "      <td>2021-08-09</td>\n",
              "      <td>AUDIT COMPLETE</td>\n",
              "      <td>(blank)</td>\n",
              "      <td>742047</td>\n",
              "      <td>0.0</td>\n",
              "      <td>12000.0</td>\n",
              "      <td>14000.0</td>\n",
              "      <td>20.0</td>\n",
              "      <td>20.0</td>\n",
              "      <td>0.0</td>\n",
              "      <td>0.0</td>\n",
              "      <td>0.0</td>\n",
              "      <td>0.0</td>\n",
              "      <td>10.0</td>\n",
              "      <td>0.0</td>\n",
              "      <td>10</td>\n",
              "      <td>10.0</td>\n",
              "      <td>0</td>\n",
              "    </tr>\n",
              "    <tr>\n",
              "      <th>3</th>\n",
              "      <td>360</td>\n",
              "      <td>INDONESIA</td>\n",
              "      <td>316595</td>\n",
              "      <td>Supri Yanto</td>\n",
              "      <td>1610063</td>\n",
              "      <td>122780577</td>\n",
              "      <td>8</td>\n",
              "      <td>Cigarette</td>\n",
              "      <td>Cigarette</td>\n",
              "      <td>80322</td>\n",
              "      <td>8998989501125</td>\n",
              "      <td>Gudang Garam Red Soft Kspl 12 Stc (Sktb)</td>\n",
              "      <td>2021-08-09</td>\n",
              "      <td>AUDIT COMPLETE</td>\n",
              "      <td>(blank)</td>\n",
              "      <td>742047</td>\n",
              "      <td>0.0</td>\n",
              "      <td>12200.0</td>\n",
              "      <td>14000.0</td>\n",
              "      <td>20.0</td>\n",
              "      <td>20.0</td>\n",
              "      <td>0.0</td>\n",
              "      <td>0.0</td>\n",
              "      <td>0.0</td>\n",
              "      <td>0.0</td>\n",
              "      <td>10.0</td>\n",
              "      <td>0.0</td>\n",
              "      <td>10</td>\n",
              "      <td>10.0</td>\n",
              "      <td>0</td>\n",
              "    </tr>\n",
              "    <tr>\n",
              "      <th>4</th>\n",
              "      <td>360</td>\n",
              "      <td>INDONESIA</td>\n",
              "      <td>316595</td>\n",
              "      <td>Supri Yanto</td>\n",
              "      <td>1610063</td>\n",
              "      <td>122780577</td>\n",
              "      <td>8</td>\n",
              "      <td>Cigarette</td>\n",
              "      <td>Cigarette</td>\n",
              "      <td>86810</td>\n",
              "      <td>8997234650021</td>\n",
              "      <td>Dados Brown Soft Plain 12 Stc (Sktb)</td>\n",
              "      <td>2021-08-09</td>\n",
              "      <td>AUDIT COMPLETE</td>\n",
              "      <td>(blank)</td>\n",
              "      <td>742047</td>\n",
              "      <td>0.0</td>\n",
              "      <td>5500.0</td>\n",
              "      <td>6500.0</td>\n",
              "      <td>20.0</td>\n",
              "      <td>20.0</td>\n",
              "      <td>0.0</td>\n",
              "      <td>0.0</td>\n",
              "      <td>0.0</td>\n",
              "      <td>0.0</td>\n",
              "      <td>50.0</td>\n",
              "      <td>0.0</td>\n",
              "      <td>50</td>\n",
              "      <td>20.0</td>\n",
              "      <td>COVID - Sales naik, banyak permintaan produk/k...</td>\n",
              "    </tr>\n",
              "  </tbody>\n",
              "</table>\n",
              "</div>"
            ],
            "text/plain": [
              "   Country Id  ...                                       Item Comment\n",
              "0         360  ...                                                  0\n",
              "1         360  ...      COVID - Sales turun karena kekurangan pasokan\n",
              "2         360  ...                                                  0\n",
              "3         360  ...                                                  0\n",
              "4         360  ...  COVID - Sales naik, banyak permintaan produk/k...\n",
              "\n",
              "[5 rows x 30 columns]"
            ]
          },
          "metadata": {},
          "execution_count": 327
        }
      ]
    },
    {
      "cell_type": "code",
      "metadata": {
        "id": "sFJvlqxwMZ4N"
      },
      "source": [
        "RA2['Stock'] = RA2['Shop/Front Stock']+RA2['Other Stock']\n",
        "RA2['Purchase'] = RA2['Direct Purchase(Pur1)']+RA2['Missing invoice(Pur3)']+RA2['Missing Stock']-RA2['Double Count']-RA2['Goods Returned']\n",
        "RA2.insert(0, 'Concatenate', RA2['SMS Id'].astype('str')+RA2['Product Description'])"
      ],
      "execution_count": null,
      "outputs": []
    },
    {
      "cell_type": "code",
      "metadata": {
        "id": "Cex9yWFJMZ4N"
      },
      "source": [
        "RA2 = RA2.drop(['Country Id', 'Country Name', 'Auditor Id', 'Resource Name','Instruction Id', \n",
        "            'Category Id', 'Category Name', 'Module Name','Entity Id','Original Fact Value',\n",
        "            'Cluster Id','alternate audit methodology','Shop/Front Stock','Other Stock',\n",
        "            'Direct Purchase(Pur1)','Double Count', 'Goods Returned', 'Missing invoice(Pur3)',\n",
        "            'Missing Stock','PREIVIOUS STOCK','Audit Status'], axis=1)\n",
        "RA2.columns = RA2.columns.str.replace('Number Of Observation by Type of Observation','RBP').str.replace('Sales_W2','Claimed_Sales_RA1(di_RA2)').str.replace('Item Comment','Comment_RA2')"
      ],
      "execution_count": null,
      "outputs": []
    },
    {
      "cell_type": "code",
      "metadata": {
        "id": "HJy0gYhXMZ4O",
        "colab": {
          "base_uri": "https://localhost:8080/",
          "height": 51
        },
        "outputId": "51101828-5443-4adf-8d80-a851006f50b1"
      },
      "source": [
        "'''new_RA1 = RA1[['SMS Id','Visit Date']].drop_duplicates()\n",
        "new_RA1.columns = new_RA1.columns.str.replace('Visit Date', 'Prev_Visit Date')\n",
        "new2_RA1 = RA1[['Concatenate','Stock']]\n",
        "new2_RA1.columns = new2_RA1.columns.str.replace('Stock', 'Prev_Stock')'''"
      ],
      "execution_count": null,
      "outputs": [
        {
          "output_type": "execute_result",
          "data": {
            "application/vnd.google.colaboratory.intrinsic+json": {
              "type": "string"
            },
            "text/plain": [
              "\"new_RA1 = RA1[['SMS Id','Visit Date']].drop_duplicates()\\nnew_RA1.columns = new_RA1.columns.str.replace('Visit Date', 'Prev_Visit Date')\\nnew2_RA1 = RA1[['Concatenate','Stock']]\\nnew2_RA1.columns = new2_RA1.columns.str.replace('Stock', 'Prev_Stock')\""
            ]
          },
          "metadata": {},
          "execution_count": 330
        }
      ]
    },
    {
      "cell_type": "code",
      "metadata": {
        "id": "TMsegRGYMZ4O",
        "colab": {
          "base_uri": "https://localhost:8080/",
          "height": 35
        },
        "outputId": "f78e6197-7559-4e98-cc72-6b503a57cf9a"
      },
      "source": [
        "'''RA2 = RA2.merge(new_RA1, on='SMS Id')\n",
        "RA2 = RA2.merge(new2_RA1, on='Concatenate')'''"
      ],
      "execution_count": null,
      "outputs": [
        {
          "output_type": "execute_result",
          "data": {
            "application/vnd.google.colaboratory.intrinsic+json": {
              "type": "string"
            },
            "text/plain": [
              "\"RA2 = RA2.merge(new_RA1, on='SMS Id')\\nRA2 = RA2.merge(new2_RA1, on='Concatenate')\""
            ]
          },
          "metadata": {},
          "execution_count": 331
        }
      ]
    },
    {
      "cell_type": "code",
      "metadata": {
        "id": "EfYko72BMZ4O"
      },
      "source": [
        "#RA2['Recheck_Sales'] = RA2['Prev_Stock']+RA2['Purchase']-RA2['Stock']"
      ],
      "execution_count": null,
      "outputs": []
    },
    {
      "cell_type": "code",
      "metadata": {
        "id": "qQfpj_tmMZ4O"
      },
      "source": [
        "#RA2[RA2['Recheck_Sales']-RA2['Sales']!=0]"
      ],
      "execution_count": null,
      "outputs": []
    },
    {
      "cell_type": "code",
      "metadata": {
        "id": "l_zVJWVeqCrN",
        "colab": {
          "base_uri": "https://localhost:8080/"
        },
        "outputId": "31408159-37e7-422d-f5cb-1e514d0a20ea"
      },
      "source": [
        "# membuat format untuk di merge dengan table lainnya\n",
        "m_RA2 = RA2.copy()\n",
        "# mengganti nama kolom agar sesuai dengan yg diinginkan\n",
        "m_RA2.columns = m_RA2.columns.str.replace('Visit Date', 'RA2').str.replace('RBP', 'RBP_RA2').str.replace('RSP/Price','RSP_RA2').str.replace('Stock','Stock_RA2').str.replace('Purchase','Purchase_RA2')\n",
        "m_RA2.shape"
      ],
      "execution_count": null,
      "outputs": [
        {
          "output_type": "execute_result",
          "data": {
            "text/plain": [
              "(1749, 12)"
            ]
          },
          "metadata": {},
          "execution_count": 334
        }
      ]
    },
    {
      "cell_type": "markdown",
      "metadata": {
        "id": "OirS5nnBVOBw"
      },
      "source": [
        "## Retail Audit 3 (week 4)"
      ]
    },
    {
      "cell_type": "code",
      "metadata": {
        "id": "mBcmdtWncc_M"
      },
      "source": [
        "RA3 = pd.read_excel('gdrive/My Drive/JACOB/Data Clean Jacob 2021 Week 4 (RA3).xlsx','Data Clean')\n",
        "RA3 = RA3.fillna(0)"
      ],
      "execution_count": null,
      "outputs": []
    },
    {
      "cell_type": "code",
      "metadata": {
        "id": "XB2-5WrmYPAO"
      },
      "source": [
        "RA3['Visit Date'] = RA3['Visit Date'].str.replace('Agu','Aug')\n",
        "RA3['Visit Date'] = pd.to_datetime(RA3['Visit Date'])"
      ],
      "execution_count": null,
      "outputs": []
    },
    {
      "cell_type": "code",
      "metadata": {
        "id": "GI0QQqI0Vgri"
      },
      "source": [
        "RA3['Stock'] = RA3['Shop/Front Stock']+RA3['Other Stock']\n",
        "RA3['Purchase'] = RA3['Direct Purchase(Pur1)']+RA3['Missing invoice(Pur3)']+RA3['Missing Stock']-RA3['Double Count']-RA3['Goods Returned']\n",
        "RA3.insert(0, 'Concatenate', RA3['SMS Id'].astype('str')+RA3['Product Description'])"
      ],
      "execution_count": null,
      "outputs": []
    },
    {
      "cell_type": "code",
      "metadata": {
        "colab": {
          "base_uri": "https://localhost:8080/",
          "height": 496
        },
        "id": "4G3fISWIVqzz",
        "outputId": "12f9b749-4ec6-45bc-ef9c-b8c50e907bad"
      },
      "source": [
        "RA3.head()"
      ],
      "execution_count": null,
      "outputs": [
        {
          "output_type": "execute_result",
          "data": {
            "text/html": [
              "<div>\n",
              "<style scoped>\n",
              "    .dataframe tbody tr th:only-of-type {\n",
              "        vertical-align: middle;\n",
              "    }\n",
              "\n",
              "    .dataframe tbody tr th {\n",
              "        vertical-align: top;\n",
              "    }\n",
              "\n",
              "    .dataframe thead th {\n",
              "        text-align: right;\n",
              "    }\n",
              "</style>\n",
              "<table border=\"1\" class=\"dataframe\">\n",
              "  <thead>\n",
              "    <tr style=\"text-align: right;\">\n",
              "      <th></th>\n",
              "      <th>Concatenate</th>\n",
              "      <th>Country Id</th>\n",
              "      <th>Country Name</th>\n",
              "      <th>Auditor Id</th>\n",
              "      <th>Resource Name</th>\n",
              "      <th>SMS Id</th>\n",
              "      <th>Instruction Id</th>\n",
              "      <th>Category Id</th>\n",
              "      <th>Category Name</th>\n",
              "      <th>Module Name</th>\n",
              "      <th>Entity Id</th>\n",
              "      <th>Bar Code</th>\n",
              "      <th>Product Description</th>\n",
              "      <th>Visit Date</th>\n",
              "      <th>Audit Status</th>\n",
              "      <th>Original Fact Value</th>\n",
              "      <th>Cluster Id</th>\n",
              "      <th>alternate audit methodology</th>\n",
              "      <th>Price To Retailer</th>\n",
              "      <th>RSP/Price</th>\n",
              "      <th>PREIVIOUS STOCK</th>\n",
              "      <th>Shop/Front Stock</th>\n",
              "      <th>Other Stock</th>\n",
              "      <th>Direct Purchase(Pur1)</th>\n",
              "      <th>Double Count</th>\n",
              "      <th>Goods Returned</th>\n",
              "      <th>Missing invoice(Pur3)</th>\n",
              "      <th>Missing Stock</th>\n",
              "      <th>Sales</th>\n",
              "      <th>Sales_W3</th>\n",
              "      <th>Sales_W2</th>\n",
              "      <th>Item Comment</th>\n",
              "      <th>Stock</th>\n",
              "      <th>Purchase</th>\n",
              "    </tr>\n",
              "  </thead>\n",
              "  <tbody>\n",
              "    <tr>\n",
              "      <th>0</th>\n",
              "      <td>1610063Dji Sam Soe Soft Plain 12 Stc (Sktb)</td>\n",
              "      <td>360</td>\n",
              "      <td>INDONESIA</td>\n",
              "      <td>316595</td>\n",
              "      <td>Supri Yanto</td>\n",
              "      <td>1610063</td>\n",
              "      <td>122797406</td>\n",
              "      <td>8</td>\n",
              "      <td>Cigarette</td>\n",
              "      <td>Cigarette</td>\n",
              "      <td>80228</td>\n",
              "      <td>8999909028234</td>\n",
              "      <td>Dji Sam Soe Soft Plain 12 Stc (Sktb)</td>\n",
              "      <td>2021-08-16</td>\n",
              "      <td>AUDIT COMPLETE</td>\n",
              "      <td>(blank)</td>\n",
              "      <td>742047</td>\n",
              "      <td>0.0</td>\n",
              "      <td>15800.0</td>\n",
              "      <td>18000.0</td>\n",
              "      <td>20.0</td>\n",
              "      <td>20.0</td>\n",
              "      <td>0.0</td>\n",
              "      <td>0.0</td>\n",
              "      <td>0.0</td>\n",
              "      <td>0.0</td>\n",
              "      <td>10.0</td>\n",
              "      <td>0.0</td>\n",
              "      <td>10</td>\n",
              "      <td>10.0</td>\n",
              "      <td>10.0</td>\n",
              "      <td>0</td>\n",
              "      <td>20.0</td>\n",
              "      <td>10.0</td>\n",
              "    </tr>\n",
              "    <tr>\n",
              "      <th>1</th>\n",
              "      <td>1610063Panamas 1 Soft Plain 12 Stc (Sktb)</td>\n",
              "      <td>360</td>\n",
              "      <td>INDONESIA</td>\n",
              "      <td>316595</td>\n",
              "      <td>Supri Yanto</td>\n",
              "      <td>1610063</td>\n",
              "      <td>122797406</td>\n",
              "      <td>8</td>\n",
              "      <td>Cigarette</td>\n",
              "      <td>Cigarette</td>\n",
              "      <td>80255</td>\n",
              "      <td>8999909039124</td>\n",
              "      <td>Panamas 1 Soft Plain 12 Stc (Sktb)</td>\n",
              "      <td>2021-08-16</td>\n",
              "      <td>AUDIT COMPLETE</td>\n",
              "      <td>(blank)</td>\n",
              "      <td>742047</td>\n",
              "      <td>0.0</td>\n",
              "      <td>11900.0</td>\n",
              "      <td>13000.0</td>\n",
              "      <td>10.0</td>\n",
              "      <td>10.0</td>\n",
              "      <td>0.0</td>\n",
              "      <td>0.0</td>\n",
              "      <td>0.0</td>\n",
              "      <td>0.0</td>\n",
              "      <td>20.0</td>\n",
              "      <td>0.0</td>\n",
              "      <td>20</td>\n",
              "      <td>10.0</td>\n",
              "      <td>20.0</td>\n",
              "      <td>COVID - Sales naik, banyak permintaan produk/k...</td>\n",
              "      <td>10.0</td>\n",
              "      <td>20.0</td>\n",
              "    </tr>\n",
              "    <tr>\n",
              "      <th>2</th>\n",
              "      <td>1610063Djarum Istimewa Soft Coklat Plain 12 St...</td>\n",
              "      <td>360</td>\n",
              "      <td>INDONESIA</td>\n",
              "      <td>316595</td>\n",
              "      <td>Supri Yanto</td>\n",
              "      <td>1610063</td>\n",
              "      <td>122797406</td>\n",
              "      <td>8</td>\n",
              "      <td>Cigarette</td>\n",
              "      <td>Cigarette</td>\n",
              "      <td>80271</td>\n",
              "      <td>8991906101651</td>\n",
              "      <td>Djarum Istimewa Soft Coklat Plain 12 Stc (Sktb)</td>\n",
              "      <td>2021-08-16</td>\n",
              "      <td>AUDIT COMPLETE</td>\n",
              "      <td>(blank)</td>\n",
              "      <td>742047</td>\n",
              "      <td>0.0</td>\n",
              "      <td>12000.0</td>\n",
              "      <td>14000.0</td>\n",
              "      <td>20.0</td>\n",
              "      <td>20.0</td>\n",
              "      <td>0.0</td>\n",
              "      <td>0.0</td>\n",
              "      <td>0.0</td>\n",
              "      <td>0.0</td>\n",
              "      <td>10.0</td>\n",
              "      <td>0.0</td>\n",
              "      <td>10</td>\n",
              "      <td>10.0</td>\n",
              "      <td>10.0</td>\n",
              "      <td>0</td>\n",
              "      <td>20.0</td>\n",
              "      <td>10.0</td>\n",
              "    </tr>\n",
              "    <tr>\n",
              "      <th>3</th>\n",
              "      <td>1610063Gudang Garam Red Soft Kspl 12 Stc (Sktb)</td>\n",
              "      <td>360</td>\n",
              "      <td>INDONESIA</td>\n",
              "      <td>316595</td>\n",
              "      <td>Supri Yanto</td>\n",
              "      <td>1610063</td>\n",
              "      <td>122797406</td>\n",
              "      <td>8</td>\n",
              "      <td>Cigarette</td>\n",
              "      <td>Cigarette</td>\n",
              "      <td>80322</td>\n",
              "      <td>8998989501125</td>\n",
              "      <td>Gudang Garam Red Soft Kspl 12 Stc (Sktb)</td>\n",
              "      <td>2021-08-16</td>\n",
              "      <td>AUDIT COMPLETE</td>\n",
              "      <td>(blank)</td>\n",
              "      <td>742047</td>\n",
              "      <td>0.0</td>\n",
              "      <td>0.0</td>\n",
              "      <td>0.0</td>\n",
              "      <td>20.0</td>\n",
              "      <td>0.0</td>\n",
              "      <td>0.0</td>\n",
              "      <td>0.0</td>\n",
              "      <td>0.0</td>\n",
              "      <td>0.0</td>\n",
              "      <td>0.0</td>\n",
              "      <td>0.0</td>\n",
              "      <td>20</td>\n",
              "      <td>10.0</td>\n",
              "      <td>10.0</td>\n",
              "      <td>COVID - Sales naik, banyak permintaan produk/k...</td>\n",
              "      <td>0.0</td>\n",
              "      <td>0.0</td>\n",
              "    </tr>\n",
              "    <tr>\n",
              "      <th>4</th>\n",
              "      <td>1610063Dados Brown Soft Plain 12 Stc (Sktb)</td>\n",
              "      <td>360</td>\n",
              "      <td>INDONESIA</td>\n",
              "      <td>316595</td>\n",
              "      <td>Supri Yanto</td>\n",
              "      <td>1610063</td>\n",
              "      <td>122797406</td>\n",
              "      <td>8</td>\n",
              "      <td>Cigarette</td>\n",
              "      <td>Cigarette</td>\n",
              "      <td>86810</td>\n",
              "      <td>8997234650021</td>\n",
              "      <td>Dados Brown Soft Plain 12 Stc (Sktb)</td>\n",
              "      <td>2021-08-16</td>\n",
              "      <td>AUDIT COMPLETE</td>\n",
              "      <td>(blank)</td>\n",
              "      <td>742047</td>\n",
              "      <td>0.0</td>\n",
              "      <td>5500.0</td>\n",
              "      <td>6500.0</td>\n",
              "      <td>20.0</td>\n",
              "      <td>20.0</td>\n",
              "      <td>0.0</td>\n",
              "      <td>0.0</td>\n",
              "      <td>0.0</td>\n",
              "      <td>0.0</td>\n",
              "      <td>50.0</td>\n",
              "      <td>0.0</td>\n",
              "      <td>50</td>\n",
              "      <td>50.0</td>\n",
              "      <td>20.0</td>\n",
              "      <td>0</td>\n",
              "      <td>20.0</td>\n",
              "      <td>50.0</td>\n",
              "    </tr>\n",
              "  </tbody>\n",
              "</table>\n",
              "</div>"
            ],
            "text/plain": [
              "                                         Concatenate  ...  Purchase\n",
              "0        1610063Dji Sam Soe Soft Plain 12 Stc (Sktb)  ...      10.0\n",
              "1          1610063Panamas 1 Soft Plain 12 Stc (Sktb)  ...      20.0\n",
              "2  1610063Djarum Istimewa Soft Coklat Plain 12 St...  ...      10.0\n",
              "3    1610063Gudang Garam Red Soft Kspl 12 Stc (Sktb)  ...       0.0\n",
              "4        1610063Dados Brown Soft Plain 12 Stc (Sktb)  ...      50.0\n",
              "\n",
              "[5 rows x 34 columns]"
            ]
          },
          "metadata": {},
          "execution_count": 338
        }
      ]
    },
    {
      "cell_type": "code",
      "metadata": {
        "id": "did-vistVgrj"
      },
      "source": [
        "RA3 = RA3.drop(['Country Id', 'Country Name', 'Auditor Id', 'Resource Name','Instruction Id', \n",
        "            'Category Id', 'Category Name', 'Module Name','Entity Id','Original Fact Value',\n",
        "            'Cluster Id','alternate audit methodology','Shop/Front Stock','Other Stock',\n",
        "            'Direct Purchase(Pur1)','Double Count', 'Goods Returned', 'Missing invoice(Pur3)',\n",
        "            'Missing Stock','PREIVIOUS STOCK','Audit Status'], axis=1)\n",
        "RA3.columns = RA3.columns.str.replace(\n",
        "    'Price To Retailer','RBP').str.replace(\n",
        "        'Sales_W2','Claimed_Sales_RA1(di_RA3)').str.replace(\n",
        "            'Sales_W3','Claimed_Sales_RA2(di_RA3)').str.replace(\n",
        "                'Item Comment','Comment_RA3')"
      ],
      "execution_count": null,
      "outputs": []
    },
    {
      "cell_type": "code",
      "metadata": {
        "id": "wJE3URbmVgrj",
        "colab": {
          "base_uri": "https://localhost:8080/",
          "height": 51
        },
        "outputId": "70a30574-4ea9-4a3f-ab39-8c8342525b21"
      },
      "source": [
        "'''new_RA2 = RA2[['SMS Id','Visit Date']].drop_duplicates()\n",
        "new_RA2.columns = new_RA2.columns.str.replace('Visit Date', 'Prev_Visit Date')\n",
        "new2_RA2 = RA2[['Concatenate','Stock']]\n",
        "new2_RA2.columns = new2_RA2.columns.str.replace('Stock', 'Prev_Stock')'''"
      ],
      "execution_count": null,
      "outputs": [
        {
          "output_type": "execute_result",
          "data": {
            "application/vnd.google.colaboratory.intrinsic+json": {
              "type": "string"
            },
            "text/plain": [
              "\"new_RA2 = RA2[['SMS Id','Visit Date']].drop_duplicates()\\nnew_RA2.columns = new_RA2.columns.str.replace('Visit Date', 'Prev_Visit Date')\\nnew2_RA2 = RA2[['Concatenate','Stock']]\\nnew2_RA2.columns = new2_RA2.columns.str.replace('Stock', 'Prev_Stock')\""
            ]
          },
          "metadata": {},
          "execution_count": 340
        }
      ]
    },
    {
      "cell_type": "code",
      "metadata": {
        "id": "P9PFhT0oVgrj",
        "colab": {
          "base_uri": "https://localhost:8080/",
          "height": 35
        },
        "outputId": "2945bdb3-c558-4e1a-86a8-5a3c095b49b2"
      },
      "source": [
        "'''RA3 = RA3.merge(new_RA2, on='SMS Id')\n",
        "RA3 = RA3.merge(new2_RA2, on='Concatenate')'''"
      ],
      "execution_count": null,
      "outputs": [
        {
          "output_type": "execute_result",
          "data": {
            "application/vnd.google.colaboratory.intrinsic+json": {
              "type": "string"
            },
            "text/plain": [
              "\"RA3 = RA3.merge(new_RA2, on='SMS Id')\\nRA3 = RA3.merge(new2_RA2, on='Concatenate')\""
            ]
          },
          "metadata": {},
          "execution_count": 341
        }
      ]
    },
    {
      "cell_type": "code",
      "metadata": {
        "id": "PRPCkYXsVgrk"
      },
      "source": [
        "#RA3['Recheck_Sales'] = RA3['Prev_Stock']+RA3['Purchase']-RA3['Stock']"
      ],
      "execution_count": null,
      "outputs": []
    },
    {
      "cell_type": "code",
      "metadata": {
        "id": "fVHLRhcpVgrk"
      },
      "source": [
        "#RA3[RA3['Recheck_Sales']-RA3['Sales']!=0]"
      ],
      "execution_count": null,
      "outputs": []
    },
    {
      "cell_type": "code",
      "metadata": {
        "id": "uLmNVwBnqmCZ"
      },
      "source": [
        "# membuat format untuk di merge dengan table lainnya\n",
        "m_RA3 = RA3.copy()\n",
        "# mengganti nama kolom agar sesuai dengan yg diinginkan\n",
        "m_RA3.columns = m_RA3.columns.str.replace(\n",
        "    'Visit Date', 'RA3').str.replace(\n",
        "        'RBP', 'RBP_RA3').str.replace(\n",
        "            'RSP/Price','RSP_RA3').str.replace(\n",
        "                'Stock','Stock_RA3').str.replace(\n",
        "                    'Purchase','Purchase_RA3')"
      ],
      "execution_count": null,
      "outputs": []
    },
    {
      "cell_type": "markdown",
      "metadata": {
        "id": "hfNEoHHNDgOm"
      },
      "source": [
        "## Retail Audit 4 (week 5-6)"
      ]
    },
    {
      "cell_type": "code",
      "metadata": {
        "id": "q1qOshoVDpP7"
      },
      "source": [
        "RA4 = pd.read_excel('gdrive/My Drive/JACOB/Data Clean Jacob 2021 Week 6 - CS Version.xlsx','Data Clean')\n",
        "RA4 = RA4.fillna(0)"
      ],
      "execution_count": null,
      "outputs": []
    },
    {
      "cell_type": "code",
      "metadata": {
        "id": "8aHgApCKDpP7"
      },
      "source": [
        "RA4['Stock'] = RA4['Shop/Front Stock']+RA4['Other Stock']\n",
        "RA4['Purchase'] = RA4['Direct Purchase(Pur1)']+RA4['Missing invoice(Pur3)']+RA4['Missing Stock']-RA4['Double Count']-RA4['Goods Returned']\n",
        "RA4.insert(0, 'Concatenate', RA4['SMS Id'].astype('str')+RA4['Product Description'])"
      ],
      "execution_count": null,
      "outputs": []
    },
    {
      "cell_type": "code",
      "metadata": {
        "colab": {
          "base_uri": "https://localhost:8080/",
          "height": 577
        },
        "id": "cXYf8BmrDpP8",
        "outputId": "747ad360-f4f3-4337-e1fb-fdde1d3a35c2"
      },
      "source": [
        "RA4.head()"
      ],
      "execution_count": null,
      "outputs": [
        {
          "output_type": "execute_result",
          "data": {
            "text/html": [
              "<div>\n",
              "<style scoped>\n",
              "    .dataframe tbody tr th:only-of-type {\n",
              "        vertical-align: middle;\n",
              "    }\n",
              "\n",
              "    .dataframe tbody tr th {\n",
              "        vertical-align: top;\n",
              "    }\n",
              "\n",
              "    .dataframe thead th {\n",
              "        text-align: right;\n",
              "    }\n",
              "</style>\n",
              "<table border=\"1\" class=\"dataframe\">\n",
              "  <thead>\n",
              "    <tr style=\"text-align: right;\">\n",
              "      <th></th>\n",
              "      <th>Concatenate</th>\n",
              "      <th>Country Id</th>\n",
              "      <th>Country Name</th>\n",
              "      <th>Auditor Id</th>\n",
              "      <th>Resource Name</th>\n",
              "      <th>SMS Id</th>\n",
              "      <th>Instruction Id</th>\n",
              "      <th>Category Id</th>\n",
              "      <th>Category Name</th>\n",
              "      <th>Module Name</th>\n",
              "      <th>Entity Id</th>\n",
              "      <th>Bar Code</th>\n",
              "      <th>Product Description</th>\n",
              "      <th>Visit Date</th>\n",
              "      <th>Audit Status</th>\n",
              "      <th>Original Fact Value</th>\n",
              "      <th>Cluster Id</th>\n",
              "      <th>alternate audit methodology</th>\n",
              "      <th>Price To Retailer</th>\n",
              "      <th>RSP/Price</th>\n",
              "      <th>PREIVIOUS STOCK</th>\n",
              "      <th>Shop/Front Stock</th>\n",
              "      <th>Other Stock</th>\n",
              "      <th>Direct Purchase(Pur1)</th>\n",
              "      <th>Double Count</th>\n",
              "      <th>Goods Returned</th>\n",
              "      <th>Missing invoice(Pur3)</th>\n",
              "      <th>Missing Stock</th>\n",
              "      <th>Sales</th>\n",
              "      <th>Sales_W4&amp;5</th>\n",
              "      <th>Sales_W3</th>\n",
              "      <th>Sales_W2</th>\n",
              "      <th>Item Comment</th>\n",
              "      <th>Stock</th>\n",
              "      <th>Purchase</th>\n",
              "    </tr>\n",
              "  </thead>\n",
              "  <tbody>\n",
              "    <tr>\n",
              "      <th>0</th>\n",
              "      <td>1609895Dji Sam Soe Soft Plain 12 Stc (Sktb)</td>\n",
              "      <td>360</td>\n",
              "      <td>INDONESIA</td>\n",
              "      <td>316595</td>\n",
              "      <td>Supri Yanto</td>\n",
              "      <td>1609895</td>\n",
              "      <td>5433835</td>\n",
              "      <td>198107565</td>\n",
              "      <td>CIGARETTE</td>\n",
              "      <td>CIGARETTE</td>\n",
              "      <td>73047810</td>\n",
              "      <td>8999909028234</td>\n",
              "      <td>Dji Sam Soe Soft Plain 12 Stc (Sktb)</td>\n",
              "      <td>2021-09-02</td>\n",
              "      <td>AUDIT COMPLETE</td>\n",
              "      <td>(blank)</td>\n",
              "      <td>742047</td>\n",
              "      <td>0.0</td>\n",
              "      <td>15800.0</td>\n",
              "      <td>18000.0</td>\n",
              "      <td>2.0</td>\n",
              "      <td>1.0</td>\n",
              "      <td>0.0</td>\n",
              "      <td>0.0</td>\n",
              "      <td>0.0</td>\n",
              "      <td>0.0</td>\n",
              "      <td>40.0</td>\n",
              "      <td>0.0</td>\n",
              "      <td>41</td>\n",
              "      <td>21.0</td>\n",
              "      <td>20.0</td>\n",
              "      <td>22.0</td>\n",
              "      <td>COVID - Sales naik, banyak permintaan produk/k...</td>\n",
              "      <td>1.0</td>\n",
              "      <td>40.0</td>\n",
              "    </tr>\n",
              "    <tr>\n",
              "      <th>1</th>\n",
              "      <td>1609895Apache Brown Soft Plain 12 Stc (Sktb)</td>\n",
              "      <td>360</td>\n",
              "      <td>INDONESIA</td>\n",
              "      <td>316595</td>\n",
              "      <td>Supri Yanto</td>\n",
              "      <td>1609895</td>\n",
              "      <td>5433835</td>\n",
              "      <td>198107565</td>\n",
              "      <td>CIGARETTE</td>\n",
              "      <td>CIGARETTE</td>\n",
              "      <td>73051466</td>\n",
              "      <td>8994729400178</td>\n",
              "      <td>Apache Brown Soft Plain 12 Stc (Sktb)</td>\n",
              "      <td>2021-09-02</td>\n",
              "      <td>AUDIT COMPLETE</td>\n",
              "      <td>(blank)</td>\n",
              "      <td>742047</td>\n",
              "      <td>0.0</td>\n",
              "      <td>9000.0</td>\n",
              "      <td>10000.0</td>\n",
              "      <td>0.0</td>\n",
              "      <td>1.0</td>\n",
              "      <td>0.0</td>\n",
              "      <td>0.0</td>\n",
              "      <td>0.0</td>\n",
              "      <td>0.0</td>\n",
              "      <td>10.0</td>\n",
              "      <td>0.0</td>\n",
              "      <td>9</td>\n",
              "      <td>3.0</td>\n",
              "      <td>10.0</td>\n",
              "      <td>22.0</td>\n",
              "      <td>COVID - Sales naik, banyak permintaan produk/k...</td>\n",
              "      <td>1.0</td>\n",
              "      <td>10.0</td>\n",
              "    </tr>\n",
              "    <tr>\n",
              "      <th>2</th>\n",
              "      <td>1609895Gudang Garam Red Soft Kspl 12 Stc (Sktb)</td>\n",
              "      <td>360</td>\n",
              "      <td>INDONESIA</td>\n",
              "      <td>316595</td>\n",
              "      <td>Supri Yanto</td>\n",
              "      <td>1609895</td>\n",
              "      <td>5433835</td>\n",
              "      <td>198107565</td>\n",
              "      <td>CIGARETTE</td>\n",
              "      <td>CIGARETTE</td>\n",
              "      <td>73104371</td>\n",
              "      <td>8998989501125</td>\n",
              "      <td>Gudang Garam Red Soft Kspl 12 Stc (Sktb)</td>\n",
              "      <td>2021-09-02</td>\n",
              "      <td>AUDIT COMPLETE</td>\n",
              "      <td>(blank)</td>\n",
              "      <td>742047</td>\n",
              "      <td>0.0</td>\n",
              "      <td>12200.0</td>\n",
              "      <td>13000.0</td>\n",
              "      <td>2.0</td>\n",
              "      <td>2.0</td>\n",
              "      <td>0.0</td>\n",
              "      <td>0.0</td>\n",
              "      <td>0.0</td>\n",
              "      <td>0.0</td>\n",
              "      <td>40.0</td>\n",
              "      <td>0.0</td>\n",
              "      <td>40</td>\n",
              "      <td>30.0</td>\n",
              "      <td>26.0</td>\n",
              "      <td>17.0</td>\n",
              "      <td>COVID - Sales naik, banyak permintaan produk/k...</td>\n",
              "      <td>2.0</td>\n",
              "      <td>40.0</td>\n",
              "    </tr>\n",
              "    <tr>\n",
              "      <th>3</th>\n",
              "      <td>1609895Sampoerna 'A' Hijau Edisi Khusus Box Pl...</td>\n",
              "      <td>360</td>\n",
              "      <td>INDONESIA</td>\n",
              "      <td>316595</td>\n",
              "      <td>Supri Yanto</td>\n",
              "      <td>1609895</td>\n",
              "      <td>5433835</td>\n",
              "      <td>198107565</td>\n",
              "      <td>CIGARETTE</td>\n",
              "      <td>CIGARETTE</td>\n",
              "      <td>73203844</td>\n",
              "      <td>8999909000988</td>\n",
              "      <td>Sampoerna 'A' Hijau Edisi Khusus Box Plain 10+...</td>\n",
              "      <td>2021-09-02</td>\n",
              "      <td>AUDIT COMPLETE</td>\n",
              "      <td>(blank)</td>\n",
              "      <td>742047</td>\n",
              "      <td>0.0</td>\n",
              "      <td>11600.0</td>\n",
              "      <td>13000.0</td>\n",
              "      <td>2.0</td>\n",
              "      <td>2.0</td>\n",
              "      <td>0.0</td>\n",
              "      <td>0.0</td>\n",
              "      <td>0.0</td>\n",
              "      <td>0.0</td>\n",
              "      <td>40.0</td>\n",
              "      <td>0.0</td>\n",
              "      <td>40</td>\n",
              "      <td>21.0</td>\n",
              "      <td>21.0</td>\n",
              "      <td>21.0</td>\n",
              "      <td>COVID - Sales naik, banyak permintaan produk/k...</td>\n",
              "      <td>2.0</td>\n",
              "      <td>40.0</td>\n",
              "    </tr>\n",
              "    <tr>\n",
              "      <th>4</th>\n",
              "      <td>1609895Djarum Istimewa Soft Coklat Plain 12 St...</td>\n",
              "      <td>360</td>\n",
              "      <td>INDONESIA</td>\n",
              "      <td>316595</td>\n",
              "      <td>Supri Yanto</td>\n",
              "      <td>1609895</td>\n",
              "      <td>5433835</td>\n",
              "      <td>198107565</td>\n",
              "      <td>CIGARETTE</td>\n",
              "      <td>CIGARETTE</td>\n",
              "      <td>73316560</td>\n",
              "      <td>8991906101651</td>\n",
              "      <td>Djarum Istimewa Soft Coklat Plain 12 Stc (Sktb)</td>\n",
              "      <td>2021-09-02</td>\n",
              "      <td>AUDIT COMPLETE</td>\n",
              "      <td>(blank)</td>\n",
              "      <td>742047</td>\n",
              "      <td>0.0</td>\n",
              "      <td>12100.0</td>\n",
              "      <td>13000.0</td>\n",
              "      <td>5.0</td>\n",
              "      <td>2.0</td>\n",
              "      <td>0.0</td>\n",
              "      <td>0.0</td>\n",
              "      <td>0.0</td>\n",
              "      <td>0.0</td>\n",
              "      <td>200.0</td>\n",
              "      <td>0.0</td>\n",
              "      <td>203</td>\n",
              "      <td>50.0</td>\n",
              "      <td>98.0</td>\n",
              "      <td>22.0</td>\n",
              "      <td>COVID - Sales naik, banyak permintaan produk/k...</td>\n",
              "      <td>2.0</td>\n",
              "      <td>200.0</td>\n",
              "    </tr>\n",
              "  </tbody>\n",
              "</table>\n",
              "</div>"
            ],
            "text/plain": [
              "                                         Concatenate  ...  Purchase\n",
              "0        1609895Dji Sam Soe Soft Plain 12 Stc (Sktb)  ...      40.0\n",
              "1       1609895Apache Brown Soft Plain 12 Stc (Sktb)  ...      10.0\n",
              "2    1609895Gudang Garam Red Soft Kspl 12 Stc (Sktb)  ...      40.0\n",
              "3  1609895Sampoerna 'A' Hijau Edisi Khusus Box Pl...  ...      40.0\n",
              "4  1609895Djarum Istimewa Soft Coklat Plain 12 St...  ...     200.0\n",
              "\n",
              "[5 rows x 35 columns]"
            ]
          },
          "metadata": {},
          "execution_count": 347
        }
      ]
    },
    {
      "cell_type": "code",
      "metadata": {
        "id": "vcYRAtphDpP8"
      },
      "source": [
        "RA4 = RA4.drop(['Country Id', 'Country Name', 'Auditor Id', 'Resource Name','Instruction Id', \n",
        "            'Category Id', 'Category Name', 'Module Name','Entity Id','Original Fact Value',\n",
        "            'Cluster Id','alternate audit methodology','Shop/Front Stock','Other Stock',\n",
        "            'Direct Purchase(Pur1)','Double Count', 'Goods Returned', 'Missing invoice(Pur3)',\n",
        "            'Missing Stock','PREIVIOUS STOCK','Audit Status'], axis=1)\n",
        "RA4.columns = RA4.columns.str.replace(\n",
        "    'Price To Retailer','RBP').str.replace(\n",
        "        'Sales_W2','Claimed_Sales_RA1(di_RA4)').str.replace(\n",
        "            'Sales_W3','Claimed_Sales_RA2(di_RA4)').str.replace(\n",
        "                'Sales_W4&5', 'Claimed_Sales_RA3(di_RA4)').str.replace(\n",
        "                    'Item Comment','Comment_RA4')"
      ],
      "execution_count": null,
      "outputs": []
    },
    {
      "cell_type": "code",
      "metadata": {
        "colab": {
          "base_uri": "https://localhost:8080/",
          "height": 51
        },
        "id": "mg6UMDvUDpP8",
        "outputId": "e8e73dbd-df75-4056-f71b-71d460be2d37"
      },
      "source": [
        "'''new_RA3 = RA3[['SMS Id','Visit Date']].drop_duplicates()\n",
        "new_RA3.columns = new_RA3.columns.str.replace('Visit Date', 'Prev_Visit Date')\n",
        "new2_RA3 = RA3[['Concatenate','Stock']]\n",
        "new2_RA3.columns = new2_RA3.columns.str.replace('Stock', 'Prev_Stock')'''"
      ],
      "execution_count": null,
      "outputs": [
        {
          "output_type": "execute_result",
          "data": {
            "application/vnd.google.colaboratory.intrinsic+json": {
              "type": "string"
            },
            "text/plain": [
              "\"new_RA3 = RA3[['SMS Id','Visit Date']].drop_duplicates()\\nnew_RA3.columns = new_RA3.columns.str.replace('Visit Date', 'Prev_Visit Date')\\nnew2_RA3 = RA3[['Concatenate','Stock']]\\nnew2_RA3.columns = new2_RA3.columns.str.replace('Stock', 'Prev_Stock')\""
            ]
          },
          "metadata": {},
          "execution_count": 349
        }
      ]
    },
    {
      "cell_type": "code",
      "metadata": {
        "colab": {
          "base_uri": "https://localhost:8080/",
          "height": 35
        },
        "id": "fSWAwpy5DpP9",
        "outputId": "07462629-a77e-49b8-ae82-cf92ed7813d4"
      },
      "source": [
        "'''RA4 = RA4.merge(new_RA3, on='SMS Id')\n",
        "RA4 = RA4.merge(new2_RA3, on='Concatenate')'''"
      ],
      "execution_count": null,
      "outputs": [
        {
          "output_type": "execute_result",
          "data": {
            "application/vnd.google.colaboratory.intrinsic+json": {
              "type": "string"
            },
            "text/plain": [
              "\"RA4 = RA4.merge(new_RA3, on='SMS Id')\\nRA4 = RA4.merge(new2_RA3, on='Concatenate')\""
            ]
          },
          "metadata": {},
          "execution_count": 350
        }
      ]
    },
    {
      "cell_type": "code",
      "metadata": {
        "id": "qwFfvDx9DpP9"
      },
      "source": [
        "#RA4.head()"
      ],
      "execution_count": null,
      "outputs": []
    },
    {
      "cell_type": "code",
      "metadata": {
        "id": "Tl3tj0YKDpP9"
      },
      "source": [
        "#RA4['Recheck_Sales'] = RA4['Prev_Stock']+RA4['Purchase']-RA4['Stock']"
      ],
      "execution_count": null,
      "outputs": []
    },
    {
      "cell_type": "code",
      "metadata": {
        "id": "FrtsaNrjDpP-"
      },
      "source": [
        "#RA4[RA4['Recheck_Sales']-RA4['Sales']!=0]"
      ],
      "execution_count": null,
      "outputs": []
    },
    {
      "cell_type": "code",
      "metadata": {
        "id": "O1yTGCAIDpP-"
      },
      "source": [
        "# membuat format untuk di merge dengan table lainnya\n",
        "m_RA4 = RA4.copy()\n",
        "# mengganti nama kolom agar sesuai dengan yg diinginkan\n",
        "m_RA4.columns = m_RA4.columns.str.replace(\n",
        "    'Visit Date', 'RA4').str.replace(\n",
        "        'RBP', 'RBP_RA4').str.replace(\n",
        "            'RSP/Price','RSP_RA4').str.replace(\n",
        "                'Stock','Stock_RA4').str.replace(\n",
        "                    'Purchase','Purchase_RA4')"
      ],
      "execution_count": null,
      "outputs": []
    },
    {
      "cell_type": "markdown",
      "metadata": {
        "id": "DRiXE-zPVTpf"
      },
      "source": [
        "## Merge Data Retail Audit into 1 Dataframe"
      ]
    },
    {
      "cell_type": "markdown",
      "metadata": {
        "id": "eXbkC-wwqzeP"
      },
      "source": [
        "### Merge DataFrame IA dan RA1"
      ]
    },
    {
      "cell_type": "code",
      "metadata": {
        "id": "MleuCgYarQKc"
      },
      "source": [
        "inner = pd.merge(m_IA, m_RA1[['RA1','RBP_RA1', 'RSP_RA1', 'Stock_RA1', 'Purchase_RA1',\n",
        "       'Concatenate']], on=\"Concatenate\", how=\"inner\")\n",
        "left = pd.merge(m_IA, m_RA1[['RA1','RBP_RA1', 'RSP_RA1', 'Stock_RA1', 'Purchase_RA1',\n",
        "       'Concatenate']], on=\"Concatenate\", how=\"left\", indicator=True)\n",
        "right = pd.merge(m_IA[['IA','RBP_IA','RSP_IA','Stock_IA','Concatenate']], m_RA1, on=\"Concatenate\", how=\"right\", indicator=True)"
      ],
      "execution_count": null,
      "outputs": []
    },
    {
      "cell_type": "code",
      "metadata": {
        "id": "GaMWwJnFFnun"
      },
      "source": [
        "df_merge = inner.append(left[left['_merge']=='left_only'], ignore_index = True)\n",
        "df_merge = df_merge.append(right[right['_merge']=='right_only'], ignore_index = True)"
      ],
      "execution_count": null,
      "outputs": []
    },
    {
      "cell_type": "code",
      "metadata": {
        "colab": {
          "base_uri": "https://localhost:8080/"
        },
        "id": "3xYJmZ_whBtO",
        "outputId": "4b116416-5779-4614-b0f8-63ffc2dfcbf1"
      },
      "source": [
        "df_merge = df_merge.drop('_merge', axis=1)\n",
        "df_merge.shape"
      ],
      "execution_count": null,
      "outputs": [
        {
          "output_type": "execute_result",
          "data": {
            "text/plain": [
              "(1924, 14)"
            ]
          },
          "metadata": {},
          "execution_count": 357
        }
      ]
    },
    {
      "cell_type": "markdown",
      "metadata": {
        "id": "Xa_JM-ipMbob"
      },
      "source": [
        "### Merge DataFrame IA+RA1 dan RA2"
      ]
    },
    {
      "cell_type": "code",
      "metadata": {
        "id": "PmF0NLN1qxQv"
      },
      "source": [
        "inner = pd.merge(df_merge, m_RA2[['Concatenate','RA2','RBP_RA2', 'RSP_RA2', 'Stock_RA2', 'Purchase_RA2', 'Claimed_Sales_RA1(di_RA2)', 'Comment_RA2'\n",
        "       ]], on=\"Concatenate\", how=\"inner\")\n",
        "left = pd.merge(df_merge, m_RA2[['Concatenate','RA2','RBP_RA2', 'RSP_RA2', 'Stock_RA2', 'Purchase_RA2', 'Claimed_Sales_RA1(di_RA2)', 'Comment_RA2']], on=\"Concatenate\", how=\"left\", indicator=True)\n",
        "right = pd.merge(df_merge[['Concatenate','IA','RBP_IA','RSP_IA','Stock_IA','RA1','RBP_RA1', 'RSP_RA1', 'Stock_RA1', 'Purchase_RA1']], m_RA2, on=\"Concatenate\", how=\"right\", indicator=True)"
      ],
      "execution_count": null,
      "outputs": []
    },
    {
      "cell_type": "code",
      "metadata": {
        "colab": {
          "base_uri": "https://localhost:8080/"
        },
        "id": "D8QwIBGEeUJa",
        "outputId": "86d63706-65b1-49cf-cb09-0f8241770334"
      },
      "source": [
        "inner.shape"
      ],
      "execution_count": null,
      "outputs": [
        {
          "output_type": "execute_result",
          "data": {
            "text/plain": [
              "(1693, 21)"
            ]
          },
          "metadata": {},
          "execution_count": 359
        }
      ]
    },
    {
      "cell_type": "code",
      "metadata": {
        "colab": {
          "base_uri": "https://localhost:8080/"
        },
        "id": "QjZMaxn7elX7",
        "outputId": "8630379b-ac09-4d44-ca75-7e7e3b4f6d91"
      },
      "source": [
        "left[left['_merge']=='left_only'].shape"
      ],
      "execution_count": null,
      "outputs": [
        {
          "output_type": "execute_result",
          "data": {
            "text/plain": [
              "(231, 22)"
            ]
          },
          "metadata": {},
          "execution_count": 360
        }
      ]
    },
    {
      "cell_type": "code",
      "metadata": {
        "colab": {
          "base_uri": "https://localhost:8080/"
        },
        "id": "iepC_x88eqV5",
        "outputId": "759f8067-673a-49a1-e879-0047f4942c43"
      },
      "source": [
        "right[right['_merge']=='right_only'].shape"
      ],
      "execution_count": null,
      "outputs": [
        {
          "output_type": "execute_result",
          "data": {
            "text/plain": [
              "(56, 22)"
            ]
          },
          "metadata": {},
          "execution_count": 361
        }
      ]
    },
    {
      "cell_type": "code",
      "metadata": {
        "id": "0W4--WJVNhc6"
      },
      "source": [
        "df_merge = inner.append(left[left['_merge']=='left_only'], ignore_index = True)\n",
        "df_merge = df_merge.append(right[right['_merge']=='right_only'], ignore_index = True)"
      ],
      "execution_count": null,
      "outputs": []
    },
    {
      "cell_type": "code",
      "metadata": {
        "colab": {
          "base_uri": "https://localhost:8080/"
        },
        "id": "1nOEb0OCU84X",
        "outputId": "c0cfbdd1-30c0-4678-9965-4b38a566abd2"
      },
      "source": [
        "df_merge = df_merge.drop('_merge', axis=1)\n",
        "df_merge.shape"
      ],
      "execution_count": null,
      "outputs": [
        {
          "output_type": "execute_result",
          "data": {
            "text/plain": [
              "(1980, 21)"
            ]
          },
          "metadata": {},
          "execution_count": 363
        }
      ]
    },
    {
      "cell_type": "markdown",
      "metadata": {
        "id": "9RfEDrDpU7k7"
      },
      "source": [
        "### Merge DataFrame IA+RA1+RA2 dan RA3"
      ]
    },
    {
      "cell_type": "code",
      "metadata": {
        "id": "DHGUjrlJU_27"
      },
      "source": [
        "inner = pd.merge(df_merge, \n",
        "                 m_RA3[['Concatenate','RA3','RBP_RA3', 'RSP_RA3', 'Stock_RA3', 'Purchase_RA3', \n",
        "                        'Claimed_Sales_RA1(di_RA3)', 'Claimed_Sales_RA2(di_RA3)','Comment_RA3']],\n",
        "                 on=\"Concatenate\", how=\"inner\")\n",
        "left = pd.merge(df_merge, \n",
        "                m_RA3[['Concatenate','RA3','RBP_RA3', 'RSP_RA3', 'Stock_RA3', 'Purchase_RA3', \n",
        "                       'Claimed_Sales_RA1(di_RA3)', 'Claimed_Sales_RA2(di_RA3)','Comment_RA3']], \n",
        "                on=\"Concatenate\", how=\"left\", indicator=True)\n",
        "right = pd.merge(df_merge[['Concatenate','IA','RBP_IA','RSP_IA','Stock_IA',\n",
        "                           'RA1','RBP_RA1', 'RSP_RA1', 'Stock_RA1', 'Purchase_RA1',\n",
        "                           'RA2','RBP_RA2', 'RSP_RA2', 'Stock_RA2', 'Purchase_RA2','Claimed_Sales_RA1(di_RA2)','Comment_RA2']], \n",
        "                 m_RA3, on=\"Concatenate\", how=\"right\", indicator=True)"
      ],
      "execution_count": null,
      "outputs": []
    },
    {
      "cell_type": "code",
      "metadata": {
        "id": "qfR9LosMYQT6"
      },
      "source": [
        "df_merge = inner.append(left[left['_merge']=='left_only'], ignore_index = True)\n",
        "df_merge = df_merge.append(right[right['_merge']=='right_only'], ignore_index = True)"
      ],
      "execution_count": null,
      "outputs": []
    },
    {
      "cell_type": "code",
      "metadata": {
        "colab": {
          "base_uri": "https://localhost:8080/",
          "height": 528
        },
        "id": "nDKuEvF0PaHy",
        "outputId": "9f8c2dda-b3a0-4a1d-a1f6-1016dbf25cf0"
      },
      "source": [
        "df_merge.head()"
      ],
      "execution_count": null,
      "outputs": [
        {
          "output_type": "execute_result",
          "data": {
            "text/html": [
              "<div>\n",
              "<style scoped>\n",
              "    .dataframe tbody tr th:only-of-type {\n",
              "        vertical-align: middle;\n",
              "    }\n",
              "\n",
              "    .dataframe tbody tr th {\n",
              "        vertical-align: top;\n",
              "    }\n",
              "\n",
              "    .dataframe thead th {\n",
              "        text-align: right;\n",
              "    }\n",
              "</style>\n",
              "<table border=\"1\" class=\"dataframe\">\n",
              "  <thead>\n",
              "    <tr style=\"text-align: right;\">\n",
              "      <th></th>\n",
              "      <th>Concatenate</th>\n",
              "      <th>SMS Id</th>\n",
              "      <th>Bar Code</th>\n",
              "      <th>Product Description</th>\n",
              "      <th>IA</th>\n",
              "      <th>RBP_IA</th>\n",
              "      <th>RSP_IA</th>\n",
              "      <th>Stock_IA</th>\n",
              "      <th>RA1</th>\n",
              "      <th>RBP_RA1</th>\n",
              "      <th>RSP_RA1</th>\n",
              "      <th>Stock_RA1</th>\n",
              "      <th>Purchase_RA1</th>\n",
              "      <th>Sales</th>\n",
              "      <th>RA2</th>\n",
              "      <th>RBP_RA2</th>\n",
              "      <th>RSP_RA2</th>\n",
              "      <th>Stock_RA2</th>\n",
              "      <th>Purchase_RA2</th>\n",
              "      <th>Claimed_Sales_RA1(di_RA2)</th>\n",
              "      <th>Comment_RA2</th>\n",
              "      <th>RA3</th>\n",
              "      <th>RBP_RA3</th>\n",
              "      <th>RSP_RA3</th>\n",
              "      <th>Stock_RA3</th>\n",
              "      <th>Purchase_RA3</th>\n",
              "      <th>Claimed_Sales_RA1(di_RA3)</th>\n",
              "      <th>Claimed_Sales_RA2(di_RA3)</th>\n",
              "      <th>Comment_RA3</th>\n",
              "      <th>_merge</th>\n",
              "    </tr>\n",
              "  </thead>\n",
              "  <tbody>\n",
              "    <tr>\n",
              "      <th>0</th>\n",
              "      <td>1609986Gudang Garam Red Soft Kspl 12 Stc (Sktb)</td>\n",
              "      <td>1609986</td>\n",
              "      <td>8998989501125</td>\n",
              "      <td>Gudang Garam Red Soft Kspl 12 Stc (Sktb)</td>\n",
              "      <td>2021-07-26</td>\n",
              "      <td>12500.0</td>\n",
              "      <td>13000.0</td>\n",
              "      <td>20.0</td>\n",
              "      <td>2021-08-02</td>\n",
              "      <td>12500.0</td>\n",
              "      <td>13000.0</td>\n",
              "      <td>3.0</td>\n",
              "      <td>0.0</td>\n",
              "      <td>NaN</td>\n",
              "      <td>2021-08-10</td>\n",
              "      <td>12500.0</td>\n",
              "      <td>13000.0</td>\n",
              "      <td>3.0</td>\n",
              "      <td>17.0</td>\n",
              "      <td>17.0</td>\n",
              "      <td>0</td>\n",
              "      <td>2021-08-18</td>\n",
              "      <td>12500.0</td>\n",
              "      <td>13000.0</td>\n",
              "      <td>3.0</td>\n",
              "      <td>20.0</td>\n",
              "      <td>17.0</td>\n",
              "      <td>17.0</td>\n",
              "      <td>COVID - Sales naik, banyak permintaan produk/k...</td>\n",
              "      <td>NaN</td>\n",
              "    </tr>\n",
              "    <tr>\n",
              "      <th>1</th>\n",
              "      <td>1610014Dji Sam Soe Soft Plain 12 Stc (Sktb)</td>\n",
              "      <td>1610014</td>\n",
              "      <td>8999909028234</td>\n",
              "      <td>Dji Sam Soe Soft Plain 12 Stc (Sktb)</td>\n",
              "      <td>2021-07-26</td>\n",
              "      <td>16500.0</td>\n",
              "      <td>18000.0</td>\n",
              "      <td>4.0</td>\n",
              "      <td>2021-08-02</td>\n",
              "      <td>16500.0</td>\n",
              "      <td>18000.0</td>\n",
              "      <td>4.0</td>\n",
              "      <td>4.0</td>\n",
              "      <td>NaN</td>\n",
              "      <td>2021-08-12</td>\n",
              "      <td>16500.0</td>\n",
              "      <td>17000.0</td>\n",
              "      <td>4.0</td>\n",
              "      <td>0.0</td>\n",
              "      <td>4.0</td>\n",
              "      <td>0</td>\n",
              "      <td>2021-08-19</td>\n",
              "      <td>16500.0</td>\n",
              "      <td>17000.0</td>\n",
              "      <td>4.0</td>\n",
              "      <td>0.0</td>\n",
              "      <td>4.0</td>\n",
              "      <td>0.0</td>\n",
              "      <td>0</td>\n",
              "      <td>NaN</td>\n",
              "    </tr>\n",
              "    <tr>\n",
              "      <th>2</th>\n",
              "      <td>1610908Dji Sam Soe Soft Plain 12 Stc (Sktb)</td>\n",
              "      <td>1610908</td>\n",
              "      <td>8999909028234</td>\n",
              "      <td>Dji Sam Soe Soft Plain 12 Stc (Sktb)</td>\n",
              "      <td>2021-07-26</td>\n",
              "      <td>16500.0</td>\n",
              "      <td>18000.0</td>\n",
              "      <td>5.0</td>\n",
              "      <td>2021-08-03</td>\n",
              "      <td>16000.0</td>\n",
              "      <td>18000.0</td>\n",
              "      <td>10.0</td>\n",
              "      <td>10.0</td>\n",
              "      <td>NaN</td>\n",
              "      <td>2021-08-09</td>\n",
              "      <td>16000.0</td>\n",
              "      <td>18000.0</td>\n",
              "      <td>10.0</td>\n",
              "      <td>10.0</td>\n",
              "      <td>5.0</td>\n",
              "      <td>COVID - Sales naik, banyak permintaan produk/k...</td>\n",
              "      <td>2021-08-18</td>\n",
              "      <td>15850.0</td>\n",
              "      <td>18000.0</td>\n",
              "      <td>10.0</td>\n",
              "      <td>30.0</td>\n",
              "      <td>5.0</td>\n",
              "      <td>10.0</td>\n",
              "      <td>COVID - Sales naik, banyak permintaan produk/k...</td>\n",
              "      <td>NaN</td>\n",
              "    </tr>\n",
              "    <tr>\n",
              "      <th>3</th>\n",
              "      <td>1610908Panamas 1 Soft Plain 12 Stc (Sktb)</td>\n",
              "      <td>1610908</td>\n",
              "      <td>8999909039124</td>\n",
              "      <td>Panamas 1 Soft Plain 12 Stc (Sktb)</td>\n",
              "      <td>2021-07-26</td>\n",
              "      <td>12500.0</td>\n",
              "      <td>14000.0</td>\n",
              "      <td>10.0</td>\n",
              "      <td>2021-08-03</td>\n",
              "      <td>12500.0</td>\n",
              "      <td>14000.0</td>\n",
              "      <td>10.0</td>\n",
              "      <td>0.0</td>\n",
              "      <td>NaN</td>\n",
              "      <td>2021-08-09</td>\n",
              "      <td>12500.0</td>\n",
              "      <td>14000.0</td>\n",
              "      <td>10.0</td>\n",
              "      <td>10.0</td>\n",
              "      <td>0.0</td>\n",
              "      <td>COVID - Sales naik, banyak permintaan produk/k...</td>\n",
              "      <td>2021-08-18</td>\n",
              "      <td>12500.0</td>\n",
              "      <td>14000.0</td>\n",
              "      <td>10.0</td>\n",
              "      <td>60.0</td>\n",
              "      <td>0.0</td>\n",
              "      <td>10.0</td>\n",
              "      <td>COVID - Sales naik, banyak permintaan produk/k...</td>\n",
              "      <td>NaN</td>\n",
              "    </tr>\n",
              "    <tr>\n",
              "      <th>4</th>\n",
              "      <td>1610908Djarum Istimewa Soft Coklat Plain 12 St...</td>\n",
              "      <td>1610908</td>\n",
              "      <td>8991906101651</td>\n",
              "      <td>Djarum Istimewa Soft Coklat Plain 12 Stc (Sktb)</td>\n",
              "      <td>2021-07-26</td>\n",
              "      <td>12500.0</td>\n",
              "      <td>14000.0</td>\n",
              "      <td>10.0</td>\n",
              "      <td>2021-08-03</td>\n",
              "      <td>12500.0</td>\n",
              "      <td>14000.0</td>\n",
              "      <td>10.0</td>\n",
              "      <td>0.0</td>\n",
              "      <td>NaN</td>\n",
              "      <td>2021-08-09</td>\n",
              "      <td>12500.0</td>\n",
              "      <td>14000.0</td>\n",
              "      <td>10.0</td>\n",
              "      <td>10.0</td>\n",
              "      <td>0.0</td>\n",
              "      <td>COVID - Sales naik, banyak permintaan produk/k...</td>\n",
              "      <td>2021-08-18</td>\n",
              "      <td>12500.0</td>\n",
              "      <td>14000.0</td>\n",
              "      <td>10.0</td>\n",
              "      <td>30.0</td>\n",
              "      <td>0.0</td>\n",
              "      <td>10.0</td>\n",
              "      <td>COVID - Sales naik, banyak permintaan produk/k...</td>\n",
              "      <td>NaN</td>\n",
              "    </tr>\n",
              "  </tbody>\n",
              "</table>\n",
              "</div>"
            ],
            "text/plain": [
              "                                         Concatenate  ...  _merge\n",
              "0    1609986Gudang Garam Red Soft Kspl 12 Stc (Sktb)  ...     NaN\n",
              "1        1610014Dji Sam Soe Soft Plain 12 Stc (Sktb)  ...     NaN\n",
              "2        1610908Dji Sam Soe Soft Plain 12 Stc (Sktb)  ...     NaN\n",
              "3          1610908Panamas 1 Soft Plain 12 Stc (Sktb)  ...     NaN\n",
              "4  1610908Djarum Istimewa Soft Coklat Plain 12 St...  ...     NaN\n",
              "\n",
              "[5 rows x 30 columns]"
            ]
          },
          "metadata": {},
          "execution_count": 366
        }
      ]
    },
    {
      "cell_type": "code",
      "metadata": {
        "colab": {
          "base_uri": "https://localhost:8080/"
        },
        "id": "pAQV9d8MarW5",
        "outputId": "07fd6baf-2dde-4d13-ce12-245acaffd810"
      },
      "source": [
        "df_merge = df_merge.drop('_merge', axis=1)\n",
        "df_merge.shape"
      ],
      "execution_count": null,
      "outputs": [
        {
          "output_type": "execute_result",
          "data": {
            "text/plain": [
              "(2437, 29)"
            ]
          },
          "metadata": {},
          "execution_count": 367
        }
      ]
    },
    {
      "cell_type": "markdown",
      "metadata": {
        "id": "HoOnLI1OEwMn"
      },
      "source": [
        "### Merge DataFrame IA+RA1+RA2+RA3 dan RA4"
      ]
    },
    {
      "cell_type": "code",
      "metadata": {
        "id": "9pJlKrBYEwMn"
      },
      "source": [
        "inner = pd.merge(df_merge, \n",
        "                 m_RA4[['Concatenate','RA4','RBP_RA4', 'RSP_RA4', 'Stock_RA4', 'Purchase_RA4', \n",
        "                        'Claimed_Sales_RA1(di_RA4)', 'Claimed_Sales_RA2(di_RA4)','Claimed_Sales_RA3(di_RA4)',\n",
        "                        'Comment_RA4']],\n",
        "                 on=\"Concatenate\", how=\"inner\")\n",
        "left = pd.merge(df_merge, \n",
        "                m_RA4[['Concatenate','RA4','RBP_RA4', 'RSP_RA4', 'Stock_RA4', 'Purchase_RA4', \n",
        "                        'Claimed_Sales_RA1(di_RA4)', 'Claimed_Sales_RA2(di_RA4)','Claimed_Sales_RA3(di_RA4)',\n",
        "                        'Comment_RA4']], \n",
        "                on=\"Concatenate\", how=\"left\", indicator=True)\n",
        "right = pd.merge(df_merge[['Concatenate','IA','RBP_IA','RSP_IA','Stock_IA',\n",
        "                           'RA1','RBP_RA1', 'RSP_RA1', 'Stock_RA1', 'Purchase_RA1',\n",
        "                           'RA2','RBP_RA2', 'RSP_RA2', 'Stock_RA2', 'Purchase_RA2','Claimed_Sales_RA1(di_RA2)','Comment_RA2',\n",
        "                           'RA3','RBP_RA3', 'RSP_RA3', 'Stock_RA3', 'Purchase_RA3','Claimed_Sales_RA1(di_RA3)','Claimed_Sales_RA2(di_RA3)','Comment_RA3']],\n",
        "                 m_RA4, on=\"Concatenate\", how=\"right\", indicator=True)"
      ],
      "execution_count": null,
      "outputs": []
    },
    {
      "cell_type": "code",
      "metadata": {
        "id": "zBoGml2ETKHN"
      },
      "source": [
        ""
      ],
      "execution_count": null,
      "outputs": []
    },
    {
      "cell_type": "code",
      "metadata": {
        "id": "Q4FhZ_xbEwMo"
      },
      "source": [
        "df_merge = inner.append(left[left['_merge']=='left_only'], ignore_index = True)\n",
        "df_merge = df_merge.append(right[right['_merge']=='right_only'], ignore_index = True)"
      ],
      "execution_count": null,
      "outputs": []
    },
    {
      "cell_type": "code",
      "metadata": {
        "colab": {
          "base_uri": "https://localhost:8080/",
          "height": 561
        },
        "id": "K31Bqb63EwMo",
        "outputId": "6397699d-ad65-47b0-c722-e2b561b99395"
      },
      "source": [
        "df_merge.head()"
      ],
      "execution_count": null,
      "outputs": [
        {
          "output_type": "execute_result",
          "data": {
            "text/html": [
              "<div>\n",
              "<style scoped>\n",
              "    .dataframe tbody tr th:only-of-type {\n",
              "        vertical-align: middle;\n",
              "    }\n",
              "\n",
              "    .dataframe tbody tr th {\n",
              "        vertical-align: top;\n",
              "    }\n",
              "\n",
              "    .dataframe thead th {\n",
              "        text-align: right;\n",
              "    }\n",
              "</style>\n",
              "<table border=\"1\" class=\"dataframe\">\n",
              "  <thead>\n",
              "    <tr style=\"text-align: right;\">\n",
              "      <th></th>\n",
              "      <th>Concatenate</th>\n",
              "      <th>SMS Id</th>\n",
              "      <th>Bar Code</th>\n",
              "      <th>Product Description</th>\n",
              "      <th>IA</th>\n",
              "      <th>RBP_IA</th>\n",
              "      <th>RSP_IA</th>\n",
              "      <th>Stock_IA</th>\n",
              "      <th>RA1</th>\n",
              "      <th>RBP_RA1</th>\n",
              "      <th>RSP_RA1</th>\n",
              "      <th>Stock_RA1</th>\n",
              "      <th>Purchase_RA1</th>\n",
              "      <th>Sales</th>\n",
              "      <th>RA2</th>\n",
              "      <th>RBP_RA2</th>\n",
              "      <th>RSP_RA2</th>\n",
              "      <th>Stock_RA2</th>\n",
              "      <th>Purchase_RA2</th>\n",
              "      <th>Claimed_Sales_RA1(di_RA2)</th>\n",
              "      <th>Comment_RA2</th>\n",
              "      <th>RA3</th>\n",
              "      <th>RBP_RA3</th>\n",
              "      <th>RSP_RA3</th>\n",
              "      <th>Stock_RA3</th>\n",
              "      <th>Purchase_RA3</th>\n",
              "      <th>Claimed_Sales_RA1(di_RA3)</th>\n",
              "      <th>Claimed_Sales_RA2(di_RA3)</th>\n",
              "      <th>Comment_RA3</th>\n",
              "      <th>RA4</th>\n",
              "      <th>RBP_RA4</th>\n",
              "      <th>RSP_RA4</th>\n",
              "      <th>Stock_RA4</th>\n",
              "      <th>Purchase_RA4</th>\n",
              "      <th>Claimed_Sales_RA1(di_RA4)</th>\n",
              "      <th>Claimed_Sales_RA2(di_RA4)</th>\n",
              "      <th>Claimed_Sales_RA3(di_RA4)</th>\n",
              "      <th>Comment_RA4</th>\n",
              "      <th>ED_RA1</th>\n",
              "      <th>ED_RA2</th>\n",
              "      <th>ED_RA3</th>\n",
              "      <th>ED_RA4</th>\n",
              "    </tr>\n",
              "  </thead>\n",
              "  <tbody>\n",
              "    <tr>\n",
              "      <th>0</th>\n",
              "      <td>1609986Gudang Garam Red Soft Kspl 12 Stc (Sktb)</td>\n",
              "      <td>1609986</td>\n",
              "      <td>8998989501125</td>\n",
              "      <td>Gudang Garam Red Soft Kspl 12 Stc (Sktb)</td>\n",
              "      <td>2021-07-26</td>\n",
              "      <td>12500.0</td>\n",
              "      <td>13000.0</td>\n",
              "      <td>20.0</td>\n",
              "      <td>2021-08-02</td>\n",
              "      <td>12500.0</td>\n",
              "      <td>13000.0</td>\n",
              "      <td>3.0</td>\n",
              "      <td>0.0</td>\n",
              "      <td>NaN</td>\n",
              "      <td>2021-08-10</td>\n",
              "      <td>12500.0</td>\n",
              "      <td>13000.0</td>\n",
              "      <td>3.0</td>\n",
              "      <td>17.0</td>\n",
              "      <td>17.0</td>\n",
              "      <td>0</td>\n",
              "      <td>2021-08-18</td>\n",
              "      <td>12500.0</td>\n",
              "      <td>13000.0</td>\n",
              "      <td>3.0</td>\n",
              "      <td>20.0</td>\n",
              "      <td>17.0</td>\n",
              "      <td>17.0</td>\n",
              "      <td>COVID - Sales naik, banyak permintaan produk/k...</td>\n",
              "      <td>2021-09-03</td>\n",
              "      <td>12200.0</td>\n",
              "      <td>13000.0</td>\n",
              "      <td>2.0</td>\n",
              "      <td>20.0</td>\n",
              "      <td>17.0</td>\n",
              "      <td>17.0</td>\n",
              "      <td>20.0</td>\n",
              "      <td>0</td>\n",
              "      <td>7 days</td>\n",
              "      <td>8 days</td>\n",
              "      <td>8 days</td>\n",
              "      <td>16 days</td>\n",
              "    </tr>\n",
              "    <tr>\n",
              "      <th>1</th>\n",
              "      <td>1610908Dji Sam Soe Soft Plain 12 Stc (Sktb)</td>\n",
              "      <td>1610908</td>\n",
              "      <td>8999909028234</td>\n",
              "      <td>Dji Sam Soe Soft Plain 12 Stc (Sktb)</td>\n",
              "      <td>2021-07-26</td>\n",
              "      <td>16500.0</td>\n",
              "      <td>18000.0</td>\n",
              "      <td>5.0</td>\n",
              "      <td>2021-08-03</td>\n",
              "      <td>16000.0</td>\n",
              "      <td>18000.0</td>\n",
              "      <td>10.0</td>\n",
              "      <td>10.0</td>\n",
              "      <td>NaN</td>\n",
              "      <td>2021-08-09</td>\n",
              "      <td>16000.0</td>\n",
              "      <td>18000.0</td>\n",
              "      <td>10.0</td>\n",
              "      <td>10.0</td>\n",
              "      <td>5.0</td>\n",
              "      <td>COVID - Sales naik, banyak permintaan produk/k...</td>\n",
              "      <td>2021-08-18</td>\n",
              "      <td>15850.0</td>\n",
              "      <td>18000.0</td>\n",
              "      <td>10.0</td>\n",
              "      <td>30.0</td>\n",
              "      <td>5.0</td>\n",
              "      <td>10.0</td>\n",
              "      <td>COVID - Sales naik, banyak permintaan produk/k...</td>\n",
              "      <td>2021-09-03</td>\n",
              "      <td>15900.0</td>\n",
              "      <td>18000.0</td>\n",
              "      <td>1.0</td>\n",
              "      <td>40.0</td>\n",
              "      <td>5.0</td>\n",
              "      <td>10.0</td>\n",
              "      <td>30.0</td>\n",
              "      <td>COVID - Sales naik, banyak permintaan produk/k...</td>\n",
              "      <td>8 days</td>\n",
              "      <td>6 days</td>\n",
              "      <td>9 days</td>\n",
              "      <td>16 days</td>\n",
              "    </tr>\n",
              "    <tr>\n",
              "      <th>2</th>\n",
              "      <td>1610908Panamas 1 Soft Plain 12 Stc (Sktb)</td>\n",
              "      <td>1610908</td>\n",
              "      <td>8999909039124</td>\n",
              "      <td>Panamas 1 Soft Plain 12 Stc (Sktb)</td>\n",
              "      <td>2021-07-26</td>\n",
              "      <td>12500.0</td>\n",
              "      <td>14000.0</td>\n",
              "      <td>10.0</td>\n",
              "      <td>2021-08-03</td>\n",
              "      <td>12500.0</td>\n",
              "      <td>14000.0</td>\n",
              "      <td>10.0</td>\n",
              "      <td>0.0</td>\n",
              "      <td>NaN</td>\n",
              "      <td>2021-08-09</td>\n",
              "      <td>12500.0</td>\n",
              "      <td>14000.0</td>\n",
              "      <td>10.0</td>\n",
              "      <td>10.0</td>\n",
              "      <td>0.0</td>\n",
              "      <td>COVID - Sales naik, banyak permintaan produk/k...</td>\n",
              "      <td>2021-08-18</td>\n",
              "      <td>12500.0</td>\n",
              "      <td>14000.0</td>\n",
              "      <td>10.0</td>\n",
              "      <td>60.0</td>\n",
              "      <td>0.0</td>\n",
              "      <td>10.0</td>\n",
              "      <td>COVID - Sales naik, banyak permintaan produk/k...</td>\n",
              "      <td>2021-09-03</td>\n",
              "      <td>12500.0</td>\n",
              "      <td>14000.0</td>\n",
              "      <td>1.0</td>\n",
              "      <td>10.0</td>\n",
              "      <td>0.0</td>\n",
              "      <td>10.0</td>\n",
              "      <td>60.0</td>\n",
              "      <td>COVID - Sales turun karena kekurangan pasokan</td>\n",
              "      <td>8 days</td>\n",
              "      <td>6 days</td>\n",
              "      <td>9 days</td>\n",
              "      <td>16 days</td>\n",
              "    </tr>\n",
              "    <tr>\n",
              "      <th>3</th>\n",
              "      <td>1610908Djarum Istimewa Soft Coklat Plain 12 St...</td>\n",
              "      <td>1610908</td>\n",
              "      <td>8991906101651</td>\n",
              "      <td>Djarum Istimewa Soft Coklat Plain 12 Stc (Sktb)</td>\n",
              "      <td>2021-07-26</td>\n",
              "      <td>12500.0</td>\n",
              "      <td>14000.0</td>\n",
              "      <td>10.0</td>\n",
              "      <td>2021-08-03</td>\n",
              "      <td>12500.0</td>\n",
              "      <td>14000.0</td>\n",
              "      <td>10.0</td>\n",
              "      <td>0.0</td>\n",
              "      <td>NaN</td>\n",
              "      <td>2021-08-09</td>\n",
              "      <td>12500.0</td>\n",
              "      <td>14000.0</td>\n",
              "      <td>10.0</td>\n",
              "      <td>10.0</td>\n",
              "      <td>0.0</td>\n",
              "      <td>COVID - Sales naik, banyak permintaan produk/k...</td>\n",
              "      <td>2021-08-18</td>\n",
              "      <td>12500.0</td>\n",
              "      <td>14000.0</td>\n",
              "      <td>10.0</td>\n",
              "      <td>30.0</td>\n",
              "      <td>0.0</td>\n",
              "      <td>10.0</td>\n",
              "      <td>COVID - Sales naik, banyak permintaan produk/k...</td>\n",
              "      <td>2021-09-03</td>\n",
              "      <td>12500.0</td>\n",
              "      <td>14000.0</td>\n",
              "      <td>1.0</td>\n",
              "      <td>10.0</td>\n",
              "      <td>0.0</td>\n",
              "      <td>10.0</td>\n",
              "      <td>30.0</td>\n",
              "      <td>COVID - Sales turun karena kekurangan pasokan</td>\n",
              "      <td>8 days</td>\n",
              "      <td>6 days</td>\n",
              "      <td>9 days</td>\n",
              "      <td>16 days</td>\n",
              "    </tr>\n",
              "    <tr>\n",
              "      <th>4</th>\n",
              "      <td>1610908Gudang Garam Red Soft Kspl 12 Stc (Sktb)</td>\n",
              "      <td>1610908</td>\n",
              "      <td>8998989501125</td>\n",
              "      <td>Gudang Garam Red Soft Kspl 12 Stc (Sktb)</td>\n",
              "      <td>2021-07-26</td>\n",
              "      <td>12500.0</td>\n",
              "      <td>14000.0</td>\n",
              "      <td>10.0</td>\n",
              "      <td>2021-08-03</td>\n",
              "      <td>12500.0</td>\n",
              "      <td>14000.0</td>\n",
              "      <td>10.0</td>\n",
              "      <td>0.0</td>\n",
              "      <td>NaN</td>\n",
              "      <td>2021-08-09</td>\n",
              "      <td>12500.0</td>\n",
              "      <td>14000.0</td>\n",
              "      <td>10.0</td>\n",
              "      <td>10.0</td>\n",
              "      <td>0.0</td>\n",
              "      <td>COVID - Sales naik, banyak permintaan produk/k...</td>\n",
              "      <td>2021-08-18</td>\n",
              "      <td>12150.0</td>\n",
              "      <td>14000.0</td>\n",
              "      <td>10.0</td>\n",
              "      <td>30.0</td>\n",
              "      <td>0.0</td>\n",
              "      <td>10.0</td>\n",
              "      <td>COVID - Sales naik, banyak permintaan produk/k...</td>\n",
              "      <td>2021-09-03</td>\n",
              "      <td>12500.0</td>\n",
              "      <td>14000.0</td>\n",
              "      <td>1.0</td>\n",
              "      <td>20.0</td>\n",
              "      <td>0.0</td>\n",
              "      <td>10.0</td>\n",
              "      <td>30.0</td>\n",
              "      <td>0</td>\n",
              "      <td>8 days</td>\n",
              "      <td>6 days</td>\n",
              "      <td>9 days</td>\n",
              "      <td>16 days</td>\n",
              "    </tr>\n",
              "  </tbody>\n",
              "</table>\n",
              "</div>"
            ],
            "text/plain": [
              "                                         Concatenate   SMS Id  ...  ED_RA3  ED_RA4\n",
              "0    1609986Gudang Garam Red Soft Kspl 12 Stc (Sktb)  1609986  ...  8 days 16 days\n",
              "1        1610908Dji Sam Soe Soft Plain 12 Stc (Sktb)  1610908  ...  9 days 16 days\n",
              "2          1610908Panamas 1 Soft Plain 12 Stc (Sktb)  1610908  ...  9 days 16 days\n",
              "3  1610908Djarum Istimewa Soft Coklat Plain 12 St...  1610908  ...  9 days 16 days\n",
              "4    1610908Gudang Garam Red Soft Kspl 12 Stc (Sktb)  1610908  ...  9 days 16 days\n",
              "\n",
              "[5 rows x 42 columns]"
            ]
          },
          "metadata": {},
          "execution_count": 374
        }
      ]
    },
    {
      "cell_type": "code",
      "metadata": {
        "colab": {
          "base_uri": "https://localhost:8080/"
        },
        "id": "7vdEr2AKEwMo",
        "outputId": "ac39835e-079a-4ade-ad87-3639a8a68f50"
      },
      "source": [
        "df_merge = df_merge.drop('_merge', axis=1)\n",
        "df_merge.shape"
      ],
      "execution_count": null,
      "outputs": [
        {
          "output_type": "execute_result",
          "data": {
            "text/plain": [
              "(3424, 38)"
            ]
          },
          "metadata": {},
          "execution_count": 371
        }
      ]
    },
    {
      "cell_type": "markdown",
      "metadata": {
        "id": "P1cvIqKiUc3J"
      },
      "source": [
        "# Menghitung Sales dengan Elapsed day"
      ]
    },
    {
      "cell_type": "code",
      "metadata": {
        "id": "RoCIavmcXHW8"
      },
      "source": [
        "df_merge['ED_RA1'] = df_merge['RA1'] - df_merge['IA']\n",
        "df_merge['ED_RA2'] = df_merge['RA2'] - df_merge['RA1']\n",
        "df_merge['ED_RA3'] = df_merge['RA3'] - df_merge['RA2']\n",
        "df_merge['ED_RA4'] = df_merge['RA4'] - df_merge['RA3']"
      ],
      "execution_count": null,
      "outputs": []
    },
    {
      "cell_type": "code",
      "metadata": {
        "colab": {
          "base_uri": "https://localhost:8080/",
          "height": 981
        },
        "id": "fw_gZJZzfCll",
        "outputId": "d76f1b7b-424c-418b-de2f-6754239e687c"
      },
      "source": [
        "df_merge[df_merge['ED_RA1'].isna()]\n"
      ],
      "execution_count": null,
      "outputs": [
        {
          "output_type": "execute_result",
          "data": {
            "text/html": [
              "<div>\n",
              "<style scoped>\n",
              "    .dataframe tbody tr th:only-of-type {\n",
              "        vertical-align: middle;\n",
              "    }\n",
              "\n",
              "    .dataframe tbody tr th {\n",
              "        vertical-align: top;\n",
              "    }\n",
              "\n",
              "    .dataframe thead th {\n",
              "        text-align: right;\n",
              "    }\n",
              "</style>\n",
              "<table border=\"1\" class=\"dataframe\">\n",
              "  <thead>\n",
              "    <tr style=\"text-align: right;\">\n",
              "      <th></th>\n",
              "      <th>Concatenate</th>\n",
              "      <th>SMS Id</th>\n",
              "      <th>Bar Code</th>\n",
              "      <th>Product Description</th>\n",
              "      <th>IA</th>\n",
              "      <th>RBP_IA</th>\n",
              "      <th>RSP_IA</th>\n",
              "      <th>Stock_IA</th>\n",
              "      <th>RA1</th>\n",
              "      <th>RBP_RA1</th>\n",
              "      <th>RSP_RA1</th>\n",
              "      <th>Stock_RA1</th>\n",
              "      <th>Purchase_RA1</th>\n",
              "      <th>Sales</th>\n",
              "      <th>RA2</th>\n",
              "      <th>RBP_RA2</th>\n",
              "      <th>RSP_RA2</th>\n",
              "      <th>Stock_RA2</th>\n",
              "      <th>Purchase_RA2</th>\n",
              "      <th>Claimed_Sales_RA1(di_RA2)</th>\n",
              "      <th>Comment_RA2</th>\n",
              "      <th>RA3</th>\n",
              "      <th>RBP_RA3</th>\n",
              "      <th>RSP_RA3</th>\n",
              "      <th>Stock_RA3</th>\n",
              "      <th>Purchase_RA3</th>\n",
              "      <th>Claimed_Sales_RA1(di_RA3)</th>\n",
              "      <th>Claimed_Sales_RA2(di_RA3)</th>\n",
              "      <th>Comment_RA3</th>\n",
              "      <th>RA4</th>\n",
              "      <th>RBP_RA4</th>\n",
              "      <th>RSP_RA4</th>\n",
              "      <th>Stock_RA4</th>\n",
              "      <th>Purchase_RA4</th>\n",
              "      <th>Claimed_Sales_RA1(di_RA4)</th>\n",
              "      <th>Claimed_Sales_RA2(di_RA4)</th>\n",
              "      <th>Claimed_Sales_RA3(di_RA4)</th>\n",
              "      <th>Comment_RA4</th>\n",
              "      <th>ED_RA1</th>\n",
              "      <th>ED_RA2</th>\n",
              "      <th>ED_RA3</th>\n",
              "      <th>ED_RA4</th>\n",
              "    </tr>\n",
              "  </thead>\n",
              "  <tbody>\n",
              "    <tr>\n",
              "      <th>847</th>\n",
              "      <td>1610126Minak Djinggo Kuning Soft Plain 10 Stc ...</td>\n",
              "      <td>1610126</td>\n",
              "      <td>8993989111008</td>\n",
              "      <td>Minak Djinggo Kuning Soft Plain 10 Stc (Sktb)</td>\n",
              "      <td>2021-07-26</td>\n",
              "      <td>8000.0</td>\n",
              "      <td>10000.0</td>\n",
              "      <td>3.0</td>\n",
              "      <td>NaT</td>\n",
              "      <td>NaN</td>\n",
              "      <td>NaN</td>\n",
              "      <td>NaN</td>\n",
              "      <td>NaN</td>\n",
              "      <td>NaN</td>\n",
              "      <td>2021-08-10</td>\n",
              "      <td>8000.0</td>\n",
              "      <td>10000.0</td>\n",
              "      <td>3.0</td>\n",
              "      <td>0.0</td>\n",
              "      <td>0.0</td>\n",
              "      <td>minggu lalu NA</td>\n",
              "      <td>2021-08-17</td>\n",
              "      <td>8000.0</td>\n",
              "      <td>10000.0</td>\n",
              "      <td>3.0</td>\n",
              "      <td>30.0</td>\n",
              "      <td>5.0</td>\n",
              "      <td>10.0</td>\n",
              "      <td>W3 10</td>\n",
              "      <td>2021-09-04</td>\n",
              "      <td>8000.0</td>\n",
              "      <td>9000.0</td>\n",
              "      <td>20.0</td>\n",
              "      <td>50.0</td>\n",
              "      <td>5.0</td>\n",
              "      <td>10.0</td>\n",
              "      <td>30.0</td>\n",
              "      <td>0</td>\n",
              "      <td>NaT</td>\n",
              "      <td>NaT</td>\n",
              "      <td>7 days</td>\n",
              "      <td>18 days</td>\n",
              "    </tr>\n",
              "    <tr>\n",
              "      <th>848</th>\n",
              "      <td>1610126Djarum Coklat Soft Plain 12 Stc (Sktb)</td>\n",
              "      <td>1610126</td>\n",
              "      <td>8991906101644</td>\n",
              "      <td>Djarum Coklat Soft Plain 12 Stc (Sktb)</td>\n",
              "      <td>2021-07-26</td>\n",
              "      <td>13500.0</td>\n",
              "      <td>15000.0</td>\n",
              "      <td>8.0</td>\n",
              "      <td>NaT</td>\n",
              "      <td>NaN</td>\n",
              "      <td>NaN</td>\n",
              "      <td>NaN</td>\n",
              "      <td>NaN</td>\n",
              "      <td>NaN</td>\n",
              "      <td>2021-08-10</td>\n",
              "      <td>13500.0</td>\n",
              "      <td>15000.0</td>\n",
              "      <td>8.0</td>\n",
              "      <td>0.0</td>\n",
              "      <td>0.0</td>\n",
              "      <td>minggu lalu NA</td>\n",
              "      <td>2021-08-17</td>\n",
              "      <td>13500.0</td>\n",
              "      <td>15000.0</td>\n",
              "      <td>8.0</td>\n",
              "      <td>40.0</td>\n",
              "      <td>10.0</td>\n",
              "      <td>20.0</td>\n",
              "      <td>W3 20</td>\n",
              "      <td>2021-09-04</td>\n",
              "      <td>13000.0</td>\n",
              "      <td>14000.0</td>\n",
              "      <td>20.0</td>\n",
              "      <td>60.0</td>\n",
              "      <td>10.0</td>\n",
              "      <td>20.0</td>\n",
              "      <td>40.0</td>\n",
              "      <td>S4U: Pelanggan Baru</td>\n",
              "      <td>NaT</td>\n",
              "      <td>NaT</td>\n",
              "      <td>7 days</td>\n",
              "      <td>18 days</td>\n",
              "    </tr>\n",
              "    <tr>\n",
              "      <th>849</th>\n",
              "      <td>1610126Dji Sam Soe Soft Plain 12 Stc (Sktb)</td>\n",
              "      <td>1610126</td>\n",
              "      <td>8999909028234</td>\n",
              "      <td>Dji Sam Soe Soft Plain 12 Stc (Sktb)</td>\n",
              "      <td>2021-07-26</td>\n",
              "      <td>16000.0</td>\n",
              "      <td>18000.0</td>\n",
              "      <td>15.0</td>\n",
              "      <td>NaT</td>\n",
              "      <td>NaN</td>\n",
              "      <td>NaN</td>\n",
              "      <td>NaN</td>\n",
              "      <td>NaN</td>\n",
              "      <td>NaN</td>\n",
              "      <td>2021-08-10</td>\n",
              "      <td>16000.0</td>\n",
              "      <td>18000.0</td>\n",
              "      <td>15.0</td>\n",
              "      <td>0.0</td>\n",
              "      <td>0.0</td>\n",
              "      <td>minggu lalu NA</td>\n",
              "      <td>2021-08-17</td>\n",
              "      <td>16000.0</td>\n",
              "      <td>18000.0</td>\n",
              "      <td>15.0</td>\n",
              "      <td>60.0</td>\n",
              "      <td>20.0</td>\n",
              "      <td>30.0</td>\n",
              "      <td>W3 30</td>\n",
              "      <td>2021-09-04</td>\n",
              "      <td>15900.0</td>\n",
              "      <td>17500.0</td>\n",
              "      <td>45.0</td>\n",
              "      <td>100.0</td>\n",
              "      <td>20.0</td>\n",
              "      <td>30.0</td>\n",
              "      <td>60.0</td>\n",
              "      <td>S4U: Pelanggan Baru</td>\n",
              "      <td>NaT</td>\n",
              "      <td>NaT</td>\n",
              "      <td>7 days</td>\n",
              "      <td>18 days</td>\n",
              "    </tr>\n",
              "    <tr>\n",
              "      <th>850</th>\n",
              "      <td>1610126Gudang Garam Red Soft Kspl 12 Stc (Sktb)</td>\n",
              "      <td>1610126</td>\n",
              "      <td>8998989501125</td>\n",
              "      <td>Gudang Garam Red Soft Kspl 12 Stc (Sktb)</td>\n",
              "      <td>2021-07-26</td>\n",
              "      <td>12600.0</td>\n",
              "      <td>14000.0</td>\n",
              "      <td>10.0</td>\n",
              "      <td>NaT</td>\n",
              "      <td>NaN</td>\n",
              "      <td>NaN</td>\n",
              "      <td>NaN</td>\n",
              "      <td>NaN</td>\n",
              "      <td>NaN</td>\n",
              "      <td>2021-08-10</td>\n",
              "      <td>12600.0</td>\n",
              "      <td>14000.0</td>\n",
              "      <td>10.0</td>\n",
              "      <td>0.0</td>\n",
              "      <td>0.0</td>\n",
              "      <td>Minggu lalu NA</td>\n",
              "      <td>2021-08-17</td>\n",
              "      <td>12600.0</td>\n",
              "      <td>14000.0</td>\n",
              "      <td>10.0</td>\n",
              "      <td>0.0</td>\n",
              "      <td>10.0</td>\n",
              "      <td>0.0</td>\n",
              "      <td>0</td>\n",
              "      <td>2021-09-04</td>\n",
              "      <td>12200.0</td>\n",
              "      <td>14000.0</td>\n",
              "      <td>50.0</td>\n",
              "      <td>100.0</td>\n",
              "      <td>10.0</td>\n",
              "      <td>0.0</td>\n",
              "      <td>0.0</td>\n",
              "      <td>baru belanaj</td>\n",
              "      <td>NaT</td>\n",
              "      <td>NaT</td>\n",
              "      <td>7 days</td>\n",
              "      <td>18 days</td>\n",
              "    </tr>\n",
              "    <tr>\n",
              "      <th>851</th>\n",
              "      <td>1610126Sampoerna 'A' Hijau Box Plain 12 Stc (S...</td>\n",
              "      <td>1610126</td>\n",
              "      <td>8999909085114</td>\n",
              "      <td>Sampoerna 'A' Hijau Box Plain 12 Stc (Sktb)</td>\n",
              "      <td>2021-07-26</td>\n",
              "      <td>11700.0</td>\n",
              "      <td>14000.0</td>\n",
              "      <td>10.0</td>\n",
              "      <td>NaT</td>\n",
              "      <td>NaN</td>\n",
              "      <td>NaN</td>\n",
              "      <td>NaN</td>\n",
              "      <td>NaN</td>\n",
              "      <td>NaN</td>\n",
              "      <td>2021-08-10</td>\n",
              "      <td>11700.0</td>\n",
              "      <td>14000.0</td>\n",
              "      <td>10.0</td>\n",
              "      <td>0.0</td>\n",
              "      <td>0.0</td>\n",
              "      <td>minggu lalu NA</td>\n",
              "      <td>2021-08-17</td>\n",
              "      <td>11700.0</td>\n",
              "      <td>14000.0</td>\n",
              "      <td>10.0</td>\n",
              "      <td>40.0</td>\n",
              "      <td>10.0</td>\n",
              "      <td>20.0</td>\n",
              "      <td>w3 20</td>\n",
              "      <td>2021-09-04</td>\n",
              "      <td>11600.0</td>\n",
              "      <td>13000.0</td>\n",
              "      <td>30.0</td>\n",
              "      <td>70.0</td>\n",
              "      <td>10.0</td>\n",
              "      <td>20.0</td>\n",
              "      <td>40.0</td>\n",
              "      <td>S4U: Pelanggan Baru</td>\n",
              "      <td>NaT</td>\n",
              "      <td>NaT</td>\n",
              "      <td>7 days</td>\n",
              "      <td>18 days</td>\n",
              "    </tr>\n",
              "    <tr>\n",
              "      <th>...</th>\n",
              "      <td>...</td>\n",
              "      <td>...</td>\n",
              "      <td>...</td>\n",
              "      <td>...</td>\n",
              "      <td>...</td>\n",
              "      <td>...</td>\n",
              "      <td>...</td>\n",
              "      <td>...</td>\n",
              "      <td>...</td>\n",
              "      <td>...</td>\n",
              "      <td>...</td>\n",
              "      <td>...</td>\n",
              "      <td>...</td>\n",
              "      <td>...</td>\n",
              "      <td>...</td>\n",
              "      <td>...</td>\n",
              "      <td>...</td>\n",
              "      <td>...</td>\n",
              "      <td>...</td>\n",
              "      <td>...</td>\n",
              "      <td>...</td>\n",
              "      <td>...</td>\n",
              "      <td>...</td>\n",
              "      <td>...</td>\n",
              "      <td>...</td>\n",
              "      <td>...</td>\n",
              "      <td>...</td>\n",
              "      <td>...</td>\n",
              "      <td>...</td>\n",
              "      <td>...</td>\n",
              "      <td>...</td>\n",
              "      <td>...</td>\n",
              "      <td>...</td>\n",
              "      <td>...</td>\n",
              "      <td>...</td>\n",
              "      <td>...</td>\n",
              "      <td>...</td>\n",
              "      <td>...</td>\n",
              "      <td>...</td>\n",
              "      <td>...</td>\n",
              "      <td>...</td>\n",
              "      <td>...</td>\n",
              "    </tr>\n",
              "    <tr>\n",
              "      <th>3419</th>\n",
              "      <td>1615038Djarum 76 Brown Box Plain 12 Stc (Sktb)</td>\n",
              "      <td>1615038</td>\n",
              "      <td>8991906101668</td>\n",
              "      <td>Djarum 76 Brown Box Plain 12 Stc (Sktb)</td>\n",
              "      <td>NaT</td>\n",
              "      <td>NaN</td>\n",
              "      <td>NaN</td>\n",
              "      <td>NaN</td>\n",
              "      <td>NaT</td>\n",
              "      <td>NaN</td>\n",
              "      <td>NaN</td>\n",
              "      <td>NaN</td>\n",
              "      <td>NaN</td>\n",
              "      <td>80.0</td>\n",
              "      <td>NaT</td>\n",
              "      <td>NaN</td>\n",
              "      <td>NaN</td>\n",
              "      <td>NaN</td>\n",
              "      <td>NaN</td>\n",
              "      <td>NaN</td>\n",
              "      <td>NaN</td>\n",
              "      <td>NaT</td>\n",
              "      <td>NaN</td>\n",
              "      <td>NaN</td>\n",
              "      <td>NaN</td>\n",
              "      <td>NaN</td>\n",
              "      <td>NaN</td>\n",
              "      <td>NaN</td>\n",
              "      <td>NaN</td>\n",
              "      <td>2021-09-05</td>\n",
              "      <td>12500.0</td>\n",
              "      <td>14000.0</td>\n",
              "      <td>5.0</td>\n",
              "      <td>85.0</td>\n",
              "      <td>0.0</td>\n",
              "      <td>0.0</td>\n",
              "      <td>0.0</td>\n",
              "      <td>ok</td>\n",
              "      <td>NaT</td>\n",
              "      <td>NaT</td>\n",
              "      <td>NaT</td>\n",
              "      <td>NaT</td>\n",
              "    </tr>\n",
              "    <tr>\n",
              "      <th>3420</th>\n",
              "      <td>1615038Gudang Garam Red Soft Kspl 12 Stc (Sktb)</td>\n",
              "      <td>1615038</td>\n",
              "      <td>8998989501125</td>\n",
              "      <td>Gudang Garam Red Soft Kspl 12 Stc (Sktb)</td>\n",
              "      <td>NaT</td>\n",
              "      <td>NaN</td>\n",
              "      <td>NaN</td>\n",
              "      <td>NaN</td>\n",
              "      <td>NaT</td>\n",
              "      <td>NaN</td>\n",
              "      <td>NaN</td>\n",
              "      <td>NaN</td>\n",
              "      <td>NaN</td>\n",
              "      <td>21.0</td>\n",
              "      <td>NaT</td>\n",
              "      <td>NaN</td>\n",
              "      <td>NaN</td>\n",
              "      <td>NaN</td>\n",
              "      <td>NaN</td>\n",
              "      <td>NaN</td>\n",
              "      <td>NaN</td>\n",
              "      <td>NaT</td>\n",
              "      <td>NaN</td>\n",
              "      <td>NaN</td>\n",
              "      <td>NaN</td>\n",
              "      <td>NaN</td>\n",
              "      <td>NaN</td>\n",
              "      <td>NaN</td>\n",
              "      <td>NaN</td>\n",
              "      <td>2021-09-05</td>\n",
              "      <td>12400.0</td>\n",
              "      <td>13500.0</td>\n",
              "      <td>4.0</td>\n",
              "      <td>25.0</td>\n",
              "      <td>0.0</td>\n",
              "      <td>0.0</td>\n",
              "      <td>0.0</td>\n",
              "      <td>ok</td>\n",
              "      <td>NaT</td>\n",
              "      <td>NaT</td>\n",
              "      <td>NaT</td>\n",
              "      <td>NaT</td>\n",
              "    </tr>\n",
              "    <tr>\n",
              "      <th>3421</th>\n",
              "      <td>1615038Sampoerna 'A' Hijau Edisi Khusus Box Pl...</td>\n",
              "      <td>1615038</td>\n",
              "      <td>8999909000988</td>\n",
              "      <td>Sampoerna 'A' Hijau Edisi Khusus Box Plain 10+...</td>\n",
              "      <td>NaT</td>\n",
              "      <td>NaN</td>\n",
              "      <td>NaN</td>\n",
              "      <td>NaN</td>\n",
              "      <td>NaT</td>\n",
              "      <td>NaN</td>\n",
              "      <td>NaN</td>\n",
              "      <td>NaN</td>\n",
              "      <td>NaN</td>\n",
              "      <td>83.0</td>\n",
              "      <td>NaT</td>\n",
              "      <td>NaN</td>\n",
              "      <td>NaN</td>\n",
              "      <td>NaN</td>\n",
              "      <td>NaN</td>\n",
              "      <td>NaN</td>\n",
              "      <td>NaN</td>\n",
              "      <td>NaT</td>\n",
              "      <td>NaN</td>\n",
              "      <td>NaN</td>\n",
              "      <td>NaN</td>\n",
              "      <td>NaN</td>\n",
              "      <td>NaN</td>\n",
              "      <td>NaN</td>\n",
              "      <td>NaN</td>\n",
              "      <td>2021-09-05</td>\n",
              "      <td>12500.0</td>\n",
              "      <td>14000.0</td>\n",
              "      <td>2.0</td>\n",
              "      <td>85.0</td>\n",
              "      <td>0.0</td>\n",
              "      <td>0.0</td>\n",
              "      <td>0.0</td>\n",
              "      <td>ok</td>\n",
              "      <td>NaT</td>\n",
              "      <td>NaT</td>\n",
              "      <td>NaT</td>\n",
              "      <td>NaT</td>\n",
              "    </tr>\n",
              "    <tr>\n",
              "      <th>3422</th>\n",
              "      <td>1615038Gudang Garam Taman Sriwedari Soft Kspl ...</td>\n",
              "      <td>1615038</td>\n",
              "      <td>8998989520126</td>\n",
              "      <td>Gudang Garam Taman Sriwedari Soft Kspl 12 Stc ...</td>\n",
              "      <td>NaT</td>\n",
              "      <td>NaN</td>\n",
              "      <td>NaN</td>\n",
              "      <td>NaN</td>\n",
              "      <td>NaT</td>\n",
              "      <td>NaN</td>\n",
              "      <td>NaN</td>\n",
              "      <td>NaN</td>\n",
              "      <td>NaN</td>\n",
              "      <td>14.0</td>\n",
              "      <td>NaT</td>\n",
              "      <td>NaN</td>\n",
              "      <td>NaN</td>\n",
              "      <td>NaN</td>\n",
              "      <td>NaN</td>\n",
              "      <td>NaN</td>\n",
              "      <td>NaN</td>\n",
              "      <td>NaT</td>\n",
              "      <td>NaN</td>\n",
              "      <td>NaN</td>\n",
              "      <td>NaN</td>\n",
              "      <td>NaN</td>\n",
              "      <td>NaN</td>\n",
              "      <td>NaN</td>\n",
              "      <td>NaN</td>\n",
              "      <td>2021-09-05</td>\n",
              "      <td>10500.0</td>\n",
              "      <td>12000.0</td>\n",
              "      <td>1.0</td>\n",
              "      <td>15.0</td>\n",
              "      <td>0.0</td>\n",
              "      <td>0.0</td>\n",
              "      <td>0.0</td>\n",
              "      <td>ok</td>\n",
              "      <td>NaT</td>\n",
              "      <td>NaT</td>\n",
              "      <td>NaT</td>\n",
              "      <td>NaT</td>\n",
              "    </tr>\n",
              "    <tr>\n",
              "      <th>3423</th>\n",
              "      <td>1615038Gudang Garam Djaja Soft Kspl 12 Stc (Sktb)</td>\n",
              "      <td>1615038</td>\n",
              "      <td>8998989502122</td>\n",
              "      <td>Gudang Garam Djaja Soft Kspl 12 Stc (Sktb)</td>\n",
              "      <td>NaT</td>\n",
              "      <td>NaN</td>\n",
              "      <td>NaN</td>\n",
              "      <td>NaN</td>\n",
              "      <td>NaT</td>\n",
              "      <td>NaN</td>\n",
              "      <td>NaN</td>\n",
              "      <td>NaN</td>\n",
              "      <td>NaN</td>\n",
              "      <td>14.0</td>\n",
              "      <td>NaT</td>\n",
              "      <td>NaN</td>\n",
              "      <td>NaN</td>\n",
              "      <td>NaN</td>\n",
              "      <td>NaN</td>\n",
              "      <td>NaN</td>\n",
              "      <td>NaN</td>\n",
              "      <td>NaT</td>\n",
              "      <td>NaN</td>\n",
              "      <td>NaN</td>\n",
              "      <td>NaN</td>\n",
              "      <td>NaN</td>\n",
              "      <td>NaN</td>\n",
              "      <td>NaN</td>\n",
              "      <td>NaN</td>\n",
              "      <td>2021-09-05</td>\n",
              "      <td>11500.0</td>\n",
              "      <td>12000.0</td>\n",
              "      <td>1.0</td>\n",
              "      <td>15.0</td>\n",
              "      <td>0.0</td>\n",
              "      <td>0.0</td>\n",
              "      <td>0.0</td>\n",
              "      <td>ok</td>\n",
              "      <td>NaT</td>\n",
              "      <td>NaT</td>\n",
              "      <td>NaT</td>\n",
              "      <td>NaT</td>\n",
              "    </tr>\n",
              "  </tbody>\n",
              "</table>\n",
              "<p>2267 rows × 42 columns</p>\n",
              "</div>"
            ],
            "text/plain": [
              "                                            Concatenate   SMS Id  ...  ED_RA3  ED_RA4\n",
              "847   1610126Minak Djinggo Kuning Soft Plain 10 Stc ...  1610126  ...  7 days 18 days\n",
              "848       1610126Djarum Coklat Soft Plain 12 Stc (Sktb)  1610126  ...  7 days 18 days\n",
              "849         1610126Dji Sam Soe Soft Plain 12 Stc (Sktb)  1610126  ...  7 days 18 days\n",
              "850     1610126Gudang Garam Red Soft Kspl 12 Stc (Sktb)  1610126  ...  7 days 18 days\n",
              "851   1610126Sampoerna 'A' Hijau Box Plain 12 Stc (S...  1610126  ...  7 days 18 days\n",
              "...                                                 ...      ...  ...     ...     ...\n",
              "3419     1615038Djarum 76 Brown Box Plain 12 Stc (Sktb)  1615038  ...     NaT     NaT\n",
              "3420    1615038Gudang Garam Red Soft Kspl 12 Stc (Sktb)  1615038  ...     NaT     NaT\n",
              "3421  1615038Sampoerna 'A' Hijau Edisi Khusus Box Pl...  1615038  ...     NaT     NaT\n",
              "3422  1615038Gudang Garam Taman Sriwedari Soft Kspl ...  1615038  ...     NaT     NaT\n",
              "3423  1615038Gudang Garam Djaja Soft Kspl 12 Stc (Sktb)  1615038  ...     NaT     NaT\n",
              "\n",
              "[2267 rows x 42 columns]"
            ]
          },
          "metadata": {},
          "execution_count": 379
        }
      ]
    },
    {
      "cell_type": "code",
      "metadata": {
        "colab": {
          "base_uri": "https://localhost:8080/",
          "height": 345
        },
        "id": "vG80_ixSVIta",
        "outputId": "f60ee2b4-8dd1-4dbe-df0e-931493087952"
      },
      "source": [
        "df_merge['Sales_RA1'] = (df_merge['Stock_IA']+df_merge['Purchase_RA1']-df_merge['Stock_RA1'])/df_merge['ED_RA1']*7\n",
        "df_merge['Sales_RA2'] = (df_merge['Stock_RA1']+df_merge['Purchase_RA2']-df_merge['Stock_RA2'])/df_merge['ED_RA2']*7\n",
        "df_merge['Sales_RA3'] = (df_merge['Stock_RA2']+df_merge['Purchase_RA3']-df_merge['Stock_RA3'])/df_merge['ED_RA3']*7\n",
        "df_merge['Sales_RA4'] = (df_merge['Stock_RA3']+df_merge['Purchase_RA4']-df_merge['Stock_RA4'])/df_merge['ED_RA4']*7"
      ],
      "execution_count": null,
      "outputs": [
        {
          "output_type": "error",
          "ename": "TypeError",
          "evalue": "ignored",
          "traceback": [
            "\u001b[0;31m---------------------------------------------------------------------------\u001b[0m",
            "\u001b[0;31mTypeError\u001b[0m                                 Traceback (most recent call last)",
            "\u001b[0;32m<ipython-input-375-df1bc24fe0f5>\u001b[0m in \u001b[0;36m<module>\u001b[0;34m()\u001b[0m\n\u001b[0;32m----> 1\u001b[0;31m \u001b[0mdf_merge\u001b[0m\u001b[0;34m[\u001b[0m\u001b[0;34m'Sales_RA1'\u001b[0m\u001b[0;34m]\u001b[0m \u001b[0;34m=\u001b[0m \u001b[0;34m(\u001b[0m\u001b[0mdf_merge\u001b[0m\u001b[0;34m[\u001b[0m\u001b[0;34m'Stock_IA'\u001b[0m\u001b[0;34m]\u001b[0m\u001b[0;34m+\u001b[0m\u001b[0mdf_merge\u001b[0m\u001b[0;34m[\u001b[0m\u001b[0;34m'Purchase_RA1'\u001b[0m\u001b[0;34m]\u001b[0m\u001b[0;34m-\u001b[0m\u001b[0mdf_merge\u001b[0m\u001b[0;34m[\u001b[0m\u001b[0;34m'Stock_RA1'\u001b[0m\u001b[0;34m]\u001b[0m\u001b[0;34m)\u001b[0m\u001b[0;34m/\u001b[0m\u001b[0mdf_merge\u001b[0m\u001b[0;34m[\u001b[0m\u001b[0;34m'ED_RA1'\u001b[0m\u001b[0;34m]\u001b[0m\u001b[0;34m*\u001b[0m\u001b[0;36m7\u001b[0m\u001b[0;34m\u001b[0m\u001b[0;34m\u001b[0m\u001b[0m\n\u001b[0m\u001b[1;32m      2\u001b[0m \u001b[0mdf_merge\u001b[0m\u001b[0;34m[\u001b[0m\u001b[0;34m'Sales_RA2'\u001b[0m\u001b[0;34m]\u001b[0m \u001b[0;34m=\u001b[0m \u001b[0;34m(\u001b[0m\u001b[0mdf_merge\u001b[0m\u001b[0;34m[\u001b[0m\u001b[0;34m'Stock_RA1'\u001b[0m\u001b[0;34m]\u001b[0m\u001b[0;34m+\u001b[0m\u001b[0mdf_merge\u001b[0m\u001b[0;34m[\u001b[0m\u001b[0;34m'Purchase_RA2'\u001b[0m\u001b[0;34m]\u001b[0m\u001b[0;34m-\u001b[0m\u001b[0mdf_merge\u001b[0m\u001b[0;34m[\u001b[0m\u001b[0;34m'Stock_RA2'\u001b[0m\u001b[0;34m]\u001b[0m\u001b[0;34m)\u001b[0m\u001b[0;34m/\u001b[0m\u001b[0mdf_merge\u001b[0m\u001b[0;34m[\u001b[0m\u001b[0;34m'ED_RA2'\u001b[0m\u001b[0;34m]\u001b[0m\u001b[0;34m*\u001b[0m\u001b[0;36m7\u001b[0m\u001b[0;34m\u001b[0m\u001b[0;34m\u001b[0m\u001b[0m\n\u001b[1;32m      3\u001b[0m \u001b[0mdf_merge\u001b[0m\u001b[0;34m[\u001b[0m\u001b[0;34m'Sales_RA3'\u001b[0m\u001b[0;34m]\u001b[0m \u001b[0;34m=\u001b[0m \u001b[0;34m(\u001b[0m\u001b[0mdf_merge\u001b[0m\u001b[0;34m[\u001b[0m\u001b[0;34m'Stock_RA2'\u001b[0m\u001b[0;34m]\u001b[0m\u001b[0;34m+\u001b[0m\u001b[0mdf_merge\u001b[0m\u001b[0;34m[\u001b[0m\u001b[0;34m'Purchase_RA3'\u001b[0m\u001b[0;34m]\u001b[0m\u001b[0;34m-\u001b[0m\u001b[0mdf_merge\u001b[0m\u001b[0;34m[\u001b[0m\u001b[0;34m'Stock_RA3'\u001b[0m\u001b[0;34m]\u001b[0m\u001b[0;34m)\u001b[0m\u001b[0;34m/\u001b[0m\u001b[0mdf_merge\u001b[0m\u001b[0;34m[\u001b[0m\u001b[0;34m'ED_RA3'\u001b[0m\u001b[0;34m]\u001b[0m\u001b[0;34m*\u001b[0m\u001b[0;36m7\u001b[0m\u001b[0;34m\u001b[0m\u001b[0;34m\u001b[0m\u001b[0m\n\u001b[1;32m      4\u001b[0m \u001b[0mdf_merge\u001b[0m\u001b[0;34m[\u001b[0m\u001b[0;34m'Sales_RA4'\u001b[0m\u001b[0;34m]\u001b[0m \u001b[0;34m=\u001b[0m \u001b[0;34m(\u001b[0m\u001b[0mdf_merge\u001b[0m\u001b[0;34m[\u001b[0m\u001b[0;34m'Stock_RA3'\u001b[0m\u001b[0;34m]\u001b[0m\u001b[0;34m+\u001b[0m\u001b[0mdf_merge\u001b[0m\u001b[0;34m[\u001b[0m\u001b[0;34m'Purchase_RA4'\u001b[0m\u001b[0;34m]\u001b[0m\u001b[0;34m-\u001b[0m\u001b[0mdf_merge\u001b[0m\u001b[0;34m[\u001b[0m\u001b[0;34m'Stock_RA4'\u001b[0m\u001b[0;34m]\u001b[0m\u001b[0;34m)\u001b[0m\u001b[0;34m/\u001b[0m\u001b[0mdf_merge\u001b[0m\u001b[0;34m[\u001b[0m\u001b[0;34m'ED_RA4'\u001b[0m\u001b[0;34m]\u001b[0m\u001b[0;34m*\u001b[0m\u001b[0;36m7\u001b[0m\u001b[0;34m\u001b[0m\u001b[0;34m\u001b[0m\u001b[0m\n",
            "\u001b[0;32m/usr/local/lib/python3.7/dist-packages/pandas/core/ops/common.py\u001b[0m in \u001b[0;36mnew_method\u001b[0;34m(self, other)\u001b[0m\n\u001b[1;32m     63\u001b[0m         \u001b[0mother\u001b[0m \u001b[0;34m=\u001b[0m \u001b[0mitem_from_zerodim\u001b[0m\u001b[0;34m(\u001b[0m\u001b[0mother\u001b[0m\u001b[0;34m)\u001b[0m\u001b[0;34m\u001b[0m\u001b[0;34m\u001b[0m\u001b[0m\n\u001b[1;32m     64\u001b[0m \u001b[0;34m\u001b[0m\u001b[0m\n\u001b[0;32m---> 65\u001b[0;31m         \u001b[0;32mreturn\u001b[0m \u001b[0mmethod\u001b[0m\u001b[0;34m(\u001b[0m\u001b[0mself\u001b[0m\u001b[0;34m,\u001b[0m \u001b[0mother\u001b[0m\u001b[0;34m)\u001b[0m\u001b[0;34m\u001b[0m\u001b[0;34m\u001b[0m\u001b[0m\n\u001b[0m\u001b[1;32m     66\u001b[0m \u001b[0;34m\u001b[0m\u001b[0m\n\u001b[1;32m     67\u001b[0m     \u001b[0;32mreturn\u001b[0m \u001b[0mnew_method\u001b[0m\u001b[0;34m\u001b[0m\u001b[0;34m\u001b[0m\u001b[0m\n",
            "\u001b[0;32m/usr/local/lib/python3.7/dist-packages/pandas/core/ops/__init__.py\u001b[0m in \u001b[0;36mwrapper\u001b[0;34m(left, right)\u001b[0m\n\u001b[1;32m    341\u001b[0m         \u001b[0mlvalues\u001b[0m \u001b[0;34m=\u001b[0m \u001b[0mextract_array\u001b[0m\u001b[0;34m(\u001b[0m\u001b[0mleft\u001b[0m\u001b[0;34m,\u001b[0m \u001b[0mextract_numpy\u001b[0m\u001b[0;34m=\u001b[0m\u001b[0;32mTrue\u001b[0m\u001b[0;34m)\u001b[0m\u001b[0;34m\u001b[0m\u001b[0;34m\u001b[0m\u001b[0m\n\u001b[1;32m    342\u001b[0m         \u001b[0mrvalues\u001b[0m \u001b[0;34m=\u001b[0m \u001b[0mextract_array\u001b[0m\u001b[0;34m(\u001b[0m\u001b[0mright\u001b[0m\u001b[0;34m,\u001b[0m \u001b[0mextract_numpy\u001b[0m\u001b[0;34m=\u001b[0m\u001b[0;32mTrue\u001b[0m\u001b[0;34m)\u001b[0m\u001b[0;34m\u001b[0m\u001b[0;34m\u001b[0m\u001b[0m\n\u001b[0;32m--> 343\u001b[0;31m         \u001b[0mresult\u001b[0m \u001b[0;34m=\u001b[0m \u001b[0marithmetic_op\u001b[0m\u001b[0;34m(\u001b[0m\u001b[0mlvalues\u001b[0m\u001b[0;34m,\u001b[0m \u001b[0mrvalues\u001b[0m\u001b[0;34m,\u001b[0m \u001b[0mop\u001b[0m\u001b[0;34m)\u001b[0m\u001b[0;34m\u001b[0m\u001b[0;34m\u001b[0m\u001b[0m\n\u001b[0m\u001b[1;32m    344\u001b[0m \u001b[0;34m\u001b[0m\u001b[0m\n\u001b[1;32m    345\u001b[0m         \u001b[0;32mreturn\u001b[0m \u001b[0mleft\u001b[0m\u001b[0;34m.\u001b[0m\u001b[0m_construct_result\u001b[0m\u001b[0;34m(\u001b[0m\u001b[0mresult\u001b[0m\u001b[0;34m,\u001b[0m \u001b[0mname\u001b[0m\u001b[0;34m=\u001b[0m\u001b[0mres_name\u001b[0m\u001b[0;34m)\u001b[0m\u001b[0;34m\u001b[0m\u001b[0;34m\u001b[0m\u001b[0m\n",
            "\u001b[0;32m/usr/local/lib/python3.7/dist-packages/pandas/core/ops/array_ops.py\u001b[0m in \u001b[0;36marithmetic_op\u001b[0;34m(left, right, op)\u001b[0m\n\u001b[1;32m    184\u001b[0m     \u001b[0;32mif\u001b[0m \u001b[0mshould_extension_dispatch\u001b[0m\u001b[0;34m(\u001b[0m\u001b[0mlvalues\u001b[0m\u001b[0;34m,\u001b[0m \u001b[0mrvalues\u001b[0m\u001b[0;34m)\u001b[0m \u001b[0;32mor\u001b[0m \u001b[0misinstance\u001b[0m\u001b[0;34m(\u001b[0m\u001b[0mrvalues\u001b[0m\u001b[0;34m,\u001b[0m \u001b[0mTimedelta\u001b[0m\u001b[0;34m)\u001b[0m\u001b[0;34m:\u001b[0m\u001b[0;34m\u001b[0m\u001b[0;34m\u001b[0m\u001b[0m\n\u001b[1;32m    185\u001b[0m         \u001b[0;31m# Timedelta is included because numexpr will fail on it, see GH#31457\u001b[0m\u001b[0;34m\u001b[0m\u001b[0;34m\u001b[0m\u001b[0;34m\u001b[0m\u001b[0m\n\u001b[0;32m--> 186\u001b[0;31m         \u001b[0mres_values\u001b[0m \u001b[0;34m=\u001b[0m \u001b[0mop\u001b[0m\u001b[0;34m(\u001b[0m\u001b[0mlvalues\u001b[0m\u001b[0;34m,\u001b[0m \u001b[0mrvalues\u001b[0m\u001b[0;34m)\u001b[0m\u001b[0;34m\u001b[0m\u001b[0;34m\u001b[0m\u001b[0m\n\u001b[0m\u001b[1;32m    187\u001b[0m \u001b[0;34m\u001b[0m\u001b[0m\n\u001b[1;32m    188\u001b[0m     \u001b[0;32melse\u001b[0m\u001b[0;34m:\u001b[0m\u001b[0;34m\u001b[0m\u001b[0;34m\u001b[0m\u001b[0m\n",
            "\u001b[0;32m/usr/local/lib/python3.7/dist-packages/pandas/core/ops/common.py\u001b[0m in \u001b[0;36mnew_method\u001b[0;34m(self, other)\u001b[0m\n\u001b[1;32m     63\u001b[0m         \u001b[0mother\u001b[0m \u001b[0;34m=\u001b[0m \u001b[0mitem_from_zerodim\u001b[0m\u001b[0;34m(\u001b[0m\u001b[0mother\u001b[0m\u001b[0;34m)\u001b[0m\u001b[0;34m\u001b[0m\u001b[0;34m\u001b[0m\u001b[0m\n\u001b[1;32m     64\u001b[0m \u001b[0;34m\u001b[0m\u001b[0m\n\u001b[0;32m---> 65\u001b[0;31m         \u001b[0;32mreturn\u001b[0m \u001b[0mmethod\u001b[0m\u001b[0;34m(\u001b[0m\u001b[0mself\u001b[0m\u001b[0;34m,\u001b[0m \u001b[0mother\u001b[0m\u001b[0;34m)\u001b[0m\u001b[0;34m\u001b[0m\u001b[0;34m\u001b[0m\u001b[0m\n\u001b[0m\u001b[1;32m     66\u001b[0m \u001b[0;34m\u001b[0m\u001b[0m\n\u001b[1;32m     67\u001b[0m     \u001b[0;32mreturn\u001b[0m \u001b[0mnew_method\u001b[0m\u001b[0;34m\u001b[0m\u001b[0;34m\u001b[0m\u001b[0m\n",
            "\u001b[0;32m/usr/local/lib/python3.7/dist-packages/pandas/core/arrays/timedeltas.py\u001b[0m in \u001b[0;36m__rtruediv__\u001b[0;34m(self, other)\u001b[0m\n\u001b[1;32m    578\u001b[0m         \u001b[0;32melse\u001b[0m\u001b[0;34m:\u001b[0m\u001b[0;34m\u001b[0m\u001b[0;34m\u001b[0m\u001b[0m\n\u001b[1;32m    579\u001b[0m             raise TypeError(\n\u001b[0;32m--> 580\u001b[0;31m                 \u001b[0;34mf\"Cannot divide {other.dtype} data by {type(self).__name__}\"\u001b[0m\u001b[0;34m\u001b[0m\u001b[0;34m\u001b[0m\u001b[0m\n\u001b[0m\u001b[1;32m    581\u001b[0m             )\n\u001b[1;32m    582\u001b[0m \u001b[0;34m\u001b[0m\u001b[0m\n",
            "\u001b[0;31mTypeError\u001b[0m: Cannot divide float64 data by TimedeltaArray"
          ]
        }
      ]
    },
    {
      "cell_type": "code",
      "metadata": {
        "id": "qVqANKD9BXiA"
      },
      "source": [
        "# MAPPING AREA, TYPE TOKO, \n",
        "# MAPPING PRODUCT DESC -> BRAND\n",
        "# "
      ],
      "execution_count": null,
      "outputs": []
    },
    {
      "cell_type": "markdown",
      "metadata": {
        "id": "vDrrGj0PZlo5"
      },
      "source": [
        "# Store Observation"
      ]
    },
    {
      "cell_type": "code",
      "metadata": {
        "id": "hM-IyJrqCbj4"
      },
      "source": [
        "drop_column = ['LANGUAGE_ID', 'VERSION', 'RESPONSE_NAME', 'RESPONSE_STATUS', 'SOURCE_OF_ENTRY', 'RESPONSE_MODE',\n",
        "              'BACKCHK_FLAG', 'QC_STATUS', 'START_TIME', 'SUBMIT_TIME', 'SYNC_TIME', 'SERVER_SYNC_TIME',\n",
        "              'CREATED_BY', 'CDAR_USER_ID', 'START_TIME_V1', 'SUBMIT_TIME_V1', 'CREATED_BY_V1', 'CDAR_USER_ID_V1',\n",
        "              'SURVEY_DURATION_V1', 'SURVEY_ID', 'SURVEY_VERSION', 'QC_REMARK', 'QC_START_DATE', 'QC_END_DATE',\n",
        "              'QC_SYNC_DATE', 'QC_SUBMIT_BY', 'APP_VERSION', 'PLATFORM_NAME', 'PLATFORM_MODEL', 'PLATFORM_VERSION',\n",
        "              'FV_STATUS', 'FV_REMARK', 'FV_START_DATE', 'FV_END_DATE', 'FV_SYNC_DATE', 'FV_SUBMIT_BY', 'SCC_STATUS',\n",
        "              'SCC_REMARK', 'SCC_START_DATE', 'SCC_END_DATE', 'SCC_SYNC_DATE', 'SCC_SUBMIT_BY', 'FLAG1', 'FLAG2',\n",
        "              'FLAG3', 'FLAG4', 'FLAG5', 'SURVEY_MINOR_VERSION', 'Default Question Text', 'Q1. ID Auditor / CT',\n",
        "              'Q2. Nama Auditor / CT', 'Q3B. Jam Survey', 'Latitude', 'LON_1', 'Q3L_Status FLAG', 'Q3M_Area Code',\n",
        "              'Q4. Apakah informasi toko sudah benar?', 'Q4A. Apakah informasi nama toko sudah benar?', 'Q4A_1. Nama toko', \n",
        "              'Q4B. Apakah informasi alamat toko sudah benar?', 'Q4B_1. Alamat', 'Q4C. Apakah informasi type toko sudah benar?',\n",
        "              'Q4C_1. Type toko', 'Q4D. Apakah informasi untuk (Provinsi, Kota, Kel, Kec) sudah benar?', 'Q4D_1. Provinsi',\n",
        "              'Q4E_1. Kota', 'Q4F_1. Kecamatan', 'Q4G_1. Kelurahan', 'Q5A. Apakah ada papan penanda toko / spanduk terdapat Nama Toko?',\n",
        "              'Q5B. Nama toko (menanyakan ke responden / tetangga)', 'Q5C. Tidak ada nama toko informasi (NA):NA', 'Q6A',\n",
        "              'Q6. nama toko di penanda toko / toko tanda-tanda / spanduk toko', 'Q8. Lot / Los / Blokir',\n",
        "              'Q9. informasi tambahan', 'Q10. Nama Lengkap pemilik Toko', 'Q11. Nama Penjaga Toko responden (di-interview)',\n",
        "              'Q12. nomor telepon - Telkom (area nomor kode + telepon)', 'Q13. Nomor ponsel', 'Alamat', 'Q50N_1', \n",
        "              'Q50N_2', 'Q50N_3', 'Q50N_4', 'Q25', 'Q26', 'Q16_3', 'Q16_4', 'Q16_5', 'Q16_6', 'Q16_7', 'Q16_8', 'Q16_9',\n",
        "              'Q16_10', 'Q16_11', 'Q16_12', 'Kecamatan', 'Kelurahan',\n",
        "              'Q32_You have completed the survey, please check the data on summary page.']"
      ],
      "execution_count": null,
      "outputs": []
    },
    {
      "cell_type": "code",
      "metadata": {
        "id": "Afv_jXOro9y2"
      },
      "source": [
        "Promotion_APM = ['Q50A_Apakah toko anda mendapatkan material promosi (sticker,poster,etc) untuk brand dibawah ini::Brand Apache Merah',\n",
        "                 'Q50B_Apakah ada promosi diskon untuk Brand di bawah ini ::Brand Apache Merah',\n",
        "                 'Q50C_Apakah ada promosi Beli berapa pack gratis berapa pack contoh beli 2 gratis 1, beli 4 gratis 1 untuk Brand di bawah ini ::Brand Apache Merah',\n",
        "                 'Q50D_Apakah ada promosi hadiah penjualan : Dapatkan Poin, Dapatkan Hadiah, dll. untuk Brand di bawah ini ::Brand Apache Merah',\n",
        "                 'Q50E_Apakah ada promosi tukar cangkang/bungkus untuk Brand di bawah ini ::Brand Apache Merah',\n",
        "                 'Q50F_Apakah ada promosi bundling produk untuk Brand di bawah ini ::Brand Apache Merah']\n",
        "\n",
        "Visibility_APM = ['Q50H_Apakah ada POSM sunscreen untuk brand berikut.:Brand Apache Merah',\n",
        "                  'Q50I_Apakah ada POSM Tape Blocking Display untuk brand berikut.:Brand Apache Merah',\n",
        "                  'Q50J_Apakah ada POSM decorative pack untuk brand berikut:Brand Apache Merah',\n",
        "                  'Q50K_Apakah ada POSM sticker per pack atau perbatang untuk brand berikut:Brand Apache Merah',\n",
        "                  'Q50L_Apakah ada POSM Blocking Display (Dummy Pack ada 5 Pack kosong) untuk brand berikut:Brand Apache Merah',\n",
        "                  'Q50M_Apakah ada POSM Hanging Lighter untuk brand berikut:Brand Apache Merah']"
      ],
      "execution_count": null,
      "outputs": []
    },
    {
      "cell_type": "code",
      "metadata": {
        "id": "pG37vjtraVTA"
      },
      "source": [
        "MAP = pd.read_excel('gdrive/My Drive/JACOB/Datamap DCT Jacob.xlsx')"
      ],
      "execution_count": null,
      "outputs": []
    },
    {
      "cell_type": "markdown",
      "metadata": {
        "id": "M7SwdlGoZy_-"
      },
      "source": [
        "## Store Observation - IA"
      ]
    },
    {
      "cell_type": "code",
      "metadata": {
        "id": "Pum8o4cUllpc"
      },
      "source": [
        "SO_IA = pd.read_excel('gdrive/My Drive/JACOB/Data Clean JTI-Jacob 2021 Week 1-IA.xlsx','Rawdata DCT')"
      ],
      "execution_count": null,
      "outputs": []
    },
    {
      "cell_type": "code",
      "metadata": {
        "id": "ql0wUwhhbj4u"
      },
      "source": [
        "col_name = pd.DataFrame(SO_IA.columns, columns=['Variable'])\n",
        "col_name = col_name.merge(MAP[['Variable','Label']], on='Variable')\n",
        "col_name = col_name.drop('Variable', axis=1)\n",
        "SO_IA.columns = col_name['Label']"
      ],
      "execution_count": null,
      "outputs": []
    },
    {
      "cell_type": "code",
      "metadata": {
        "id": "gjfch5zFPa8y"
      },
      "source": [
        "SO_IA = SO_IA.drop(drop_column, axis=1)"
      ],
      "execution_count": null,
      "outputs": []
    },
    {
      "cell_type": "markdown",
      "metadata": {
        "id": "VKTKAeg-dLrG"
      },
      "source": [
        "## Store Observation 1"
      ]
    },
    {
      "cell_type": "code",
      "metadata": {
        "id": "fzg_vJsucV9M"
      },
      "source": [
        "SO1 = pd.read_excel('gdrive/My Drive/JACOB/Data Clean Jacob 2021 Week 2 (RA1).xlsx','Rawdata DCT')"
      ],
      "execution_count": null,
      "outputs": []
    },
    {
      "cell_type": "code",
      "metadata": {
        "id": "EaUrjNb4dPmb"
      },
      "source": [
        "col_name = pd.DataFrame(SO1.columns, columns=['Variable'])\n",
        "col_name = col_name.merge(MAP[['Variable','Label']], on='Variable')\n",
        "col_name = col_name.drop('Variable', axis=1)\n",
        "SO1.columns = col_name['Label']"
      ],
      "execution_count": null,
      "outputs": []
    },
    {
      "cell_type": "code",
      "metadata": {
        "id": "Vy-SibCKR6Uw"
      },
      "source": [
        "drop_column.append('Q7. Lantai')"
      ],
      "execution_count": null,
      "outputs": []
    },
    {
      "cell_type": "code",
      "metadata": {
        "id": "KnLou4lyJ_wn"
      },
      "source": [
        "SO1 = SO1.drop(drop_column, axis=1)"
      ],
      "execution_count": null,
      "outputs": []
    },
    {
      "cell_type": "markdown",
      "metadata": {
        "id": "MFTYQhKUZy62"
      },
      "source": [
        "## Store Observation 2 (Pre Launch)"
      ]
    },
    {
      "cell_type": "code",
      "metadata": {
        "id": "U0WYoKAKcZxc"
      },
      "source": [
        "SO2 = pd.read_excel('gdrive/My Drive/JACOB/Data Clean Jacob 2021 Week 3 (RA2).xlsx','DCT')"
      ],
      "execution_count": null,
      "outputs": []
    },
    {
      "cell_type": "code",
      "metadata": {
        "id": "jhph1NmMd2k6"
      },
      "source": [
        "col_name = pd.DataFrame(SO2.columns, columns=['Variable'])\n",
        "col_name = col_name.merge(MAP[['Variable','Label']], on='Variable')\n",
        "col_name = col_name.drop('Variable', axis=1)\n",
        "SO2.columns = col_name['Label']"
      ],
      "execution_count": null,
      "outputs": []
    },
    {
      "cell_type": "code",
      "metadata": {
        "id": "jUVfNkB0O3Cv"
      },
      "source": [
        "SO2 = SO2.drop(drop_column, axis=1)"
      ],
      "execution_count": null,
      "outputs": []
    },
    {
      "cell_type": "markdown",
      "metadata": {
        "id": "qq7baW02eRYA"
      },
      "source": [
        "## Store Observation 3 (Post Launch 1)"
      ]
    },
    {
      "cell_type": "code",
      "metadata": {
        "id": "TSVxwsFCceSQ"
      },
      "source": [
        "SO3 = pd.read_excel('gdrive/My Drive/JACOB/Data Clean Jacob 2021 Week 4 (RA3).xlsx','DCT')"
      ],
      "execution_count": null,
      "outputs": []
    },
    {
      "cell_type": "code",
      "metadata": {
        "id": "5ycyKTdleaS2"
      },
      "source": [
        "col_name = pd.DataFrame(SO3.columns, columns=['Variable'])\n",
        "col_name = col_name.merge(MAP[['Variable','Label']], on='Variable')\n",
        "col_name = col_name.drop('Variable', axis=1)\n",
        "SO3.columns = col_name['Label']"
      ],
      "execution_count": null,
      "outputs": []
    },
    {
      "cell_type": "code",
      "metadata": {
        "id": "eGEDUEGLSGry"
      },
      "source": [
        "SO3 = SO3.drop(drop_column, axis=1)"
      ],
      "execution_count": null,
      "outputs": []
    },
    {
      "cell_type": "markdown",
      "metadata": {
        "id": "erhwr8bNPSAC"
      },
      "source": [
        "### Merge Store Observation"
      ]
    },
    {
      "cell_type": "code",
      "metadata": {
        "id": "ywOdyx5wPSWM"
      },
      "source": [
        "mapping_toko = SO_IA[['Store Code','Type Toko','Provinsi']]\n",
        "mapping_toko.shape"
      ],
      "execution_count": null,
      "outputs": []
    },
    {
      "cell_type": "code",
      "metadata": {
        "id": "VVxu3322S1C3"
      },
      "source": [
        "mapping_toko = mapping_toko.append(SO1[['Store Code','Type Toko','Provinsi']])\n",
        "mapping_toko.shape"
      ],
      "execution_count": null,
      "outputs": []
    },
    {
      "cell_type": "code",
      "metadata": {
        "id": "WAyGy8b2XbSI"
      },
      "source": [
        "mapping_toko = mapping_toko.append(SO2[['Store Code','Type Toko','Provinsi']])\n",
        "mapping_toko.shape"
      ],
      "execution_count": null,
      "outputs": []
    },
    {
      "cell_type": "code",
      "metadata": {
        "id": "WXB-i8MFak2_"
      },
      "source": [
        ""
      ],
      "execution_count": null,
      "outputs": []
    },
    {
      "cell_type": "code",
      "metadata": {
        "id": "zfYXAsb-PSWM"
      },
      "source": [
        "df_merge = inner.append(left[left['_merge']=='left_only'], ignore_index = True)\n",
        "df_merge = df_merge.append(right[right['_merge']=='right_only'], ignore_index = True)"
      ],
      "execution_count": null,
      "outputs": []
    },
    {
      "cell_type": "code",
      "metadata": {
        "id": "H_1mhBKvPSWN"
      },
      "source": [
        "df_merge = df_merge.drop('_merge', axis=1)\n",
        "df_merge.shape"
      ],
      "execution_count": null,
      "outputs": []
    },
    {
      "cell_type": "markdown",
      "metadata": {
        "id": "0eBSMelNXd-G"
      },
      "source": [
        "# Notes"
      ]
    },
    {
      "cell_type": "markdown",
      "metadata": {
        "id": "PXr33Hrn-yph"
      },
      "source": [
        "sales = prev_stock+purchase+missinginv+missinstock-shopstock-otherstock - goodreturn-wholesales\n",
        "\n"
      ]
    },
    {
      "cell_type": "markdown",
      "metadata": {
        "id": "Qw0CEO1TbKCY"
      },
      "source": [
        "# Checking"
      ]
    },
    {
      "cell_type": "markdown",
      "metadata": {
        "id": "7JT7_ZOybLr7"
      },
      "source": [
        "##1. Ada Promotion tapi tidak ada sales"
      ]
    },
    {
      "cell_type": "markdown",
      "metadata": {
        "id": "-lmHWy1yjvn2"
      },
      "source": [
        "##2. Ada POSM tapi tidak ada sales"
      ]
    },
    {
      "cell_type": "markdown",
      "metadata": {
        "id": "7495XQbvbQ8R"
      },
      "source": [
        "##3. Ada sales tapi tidak ada promotion ataupun POSM"
      ]
    },
    {
      "cell_type": "markdown",
      "metadata": {
        "id": "ce3NznVqktED"
      },
      "source": [
        ""
      ]
    },
    {
      "cell_type": "code",
      "metadata": {
        "id": "JPEH1Y-eksV8"
      },
      "source": [
        ""
      ],
      "execution_count": null,
      "outputs": []
    }
  ]
}