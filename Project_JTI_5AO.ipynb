{
  "nbformat": 4,
  "nbformat_minor": 0,
  "metadata": {
    "colab": {
      "name": "Project JTI 5AO.ipynb",
      "provenance": [],
      "collapsed_sections": [],
      "toc_visible": true,
      "authorship_tag": "ABX9TyOEG0YKBgMQo+zHrWFzr5oh",
      "include_colab_link": true
    },
    "kernelspec": {
      "display_name": "Python 3",
      "name": "python3"
    },
    "language_info": {
      "name": "python"
    }
  },
  "cells": [
    {
      "cell_type": "markdown",
      "metadata": {
        "id": "view-in-github",
        "colab_type": "text"
      },
      "source": [
        "<a href=\"https://colab.research.google.com/github/dyahrosita/Project/blob/main/Project_JTI_5AO.ipynb\" target=\"_parent\"><img src=\"https://colab.research.google.com/assets/colab-badge.svg\" alt=\"Open In Colab\"/></a>"
      ]
    },
    {
      "cell_type": "markdown",
      "metadata": {
        "id": "vVehffFvn16E"
      },
      "source": [
        "# Import LIbrary"
      ]
    },
    {
      "cell_type": "code",
      "metadata": {
        "colab": {
          "base_uri": "https://localhost:8080/"
        },
        "id": "tlSJPqdb3Xd2",
        "outputId": "856b2750-13ca-4475-c2dc-c8b0b52aa86f"
      },
      "source": [
        "import pandas as pd\n",
        "import numpy as np\n",
        "import matplotlib.pyplot as plt\n",
        "import re\n",
        "from functools import reduce\n",
        "import datetime as dt\n",
        "\n",
        "from google.colab import files\n",
        "from google.colab import drive\n",
        "drive.mount(\"/content/gdrive/\")"
      ],
      "execution_count": 100,
      "outputs": [
        {
          "output_type": "stream",
          "name": "stdout",
          "text": [
            "Drive already mounted at /content/gdrive/; to attempt to forcibly remount, call drive.mount(\"/content/gdrive/\", force_remount=True).\n"
          ]
        }
      ]
    },
    {
      "cell_type": "markdown",
      "metadata": {
        "id": "vDrrGj0PZlo5"
      },
      "source": [
        "# Store Observation"
      ]
    },
    {
      "cell_type": "code",
      "metadata": {
        "id": "hM-IyJrqCbj4"
      },
      "source": [
        "drop_column = ['LANGUAGE_ID', 'VERSION', 'RESPONSE_NAME', 'RESPONSE_STATUS', 'SOURCE_OF_ENTRY', 'RESPONSE_MODE',\n",
        "              'BACKCHK_FLAG', 'QC_STATUS', 'START_TIME', 'SUBMIT_TIME', 'SYNC_TIME', 'SERVER_SYNC_TIME',\n",
        "              'CREATED_BY', 'CDAR_USER_ID', 'START_TIME_V1', 'SUBMIT_TIME_V1', 'CREATED_BY_V1', 'CDAR_USER_ID_V1',\n",
        "              'SURVEY_DURATION_V1', 'SURVEY_ID', 'SURVEY_VERSION', 'QC_REMARK', 'QC_START_DATE', 'QC_END_DATE',\n",
        "              'QC_SYNC_DATE', 'QC_SUBMIT_BY', 'APP_VERSION', 'PLATFORM_NAME', 'PLATFORM_MODEL', 'PLATFORM_VERSION',\n",
        "              'FV_STATUS', 'FV_REMARK', 'FV_START_DATE', 'FV_END_DATE', 'FV_SYNC_DATE', 'FV_SUBMIT_BY', 'SCC_STATUS',\n",
        "              'SCC_REMARK', 'SCC_START_DATE', 'SCC_END_DATE', 'SCC_SYNC_DATE', 'SCC_SUBMIT_BY', 'FLAG1', 'FLAG2',\n",
        "              'FLAG3', 'FLAG4', 'FLAG5', 'SURVEY_MINOR_VERSION', 'Default Question Text', 'Q1. ID Auditor / CT',\n",
        "              'Q2. Nama Auditor / CT', 'Q3B. Jam Survey', 'Latitude', 'LON_1', 'Q3L_Status FLAG', 'Q3M_Area Code',\n",
        "              'Q4. Apakah informasi toko sudah benar?', 'Q4A. Apakah informasi nama toko sudah benar?', 'Q4A_1. Nama toko', \n",
        "              'Q4B. Apakah informasi alamat toko sudah benar?', 'Q4B_1. Alamat', 'Q4C. Apakah informasi type toko sudah benar?',\n",
        "              'Q4C_1. Type toko', 'Q4D. Apakah informasi untuk (Provinsi, Kota, Kel, Kec) sudah benar?', 'Q4D_1. Provinsi',\n",
        "              'Q4E_1. Kota', 'Q4F_1. Kecamatan', 'Q4G_1. Kelurahan', 'Q5A. Apakah ada papan penanda toko / spanduk terdapat Nama Toko?',\n",
        "              'Q5B. Nama toko (menanyakan ke responden / tetangga)', 'Q5C. Tidak ada nama toko informasi (NA):NA', 'Q6A',\n",
        "              'Q6. nama toko di penanda toko / toko tanda-tanda / spanduk toko', 'Q8. Lot / Los / Blokir',\n",
        "              'Q9. informasi tambahan', 'Q10. Nama Lengkap pemilik Toko', 'Q11. Nama Penjaga Toko responden (di-interview)',\n",
        "              'Q12. nomor telepon - Telkom (area nomor kode + telepon)', 'Q13. Nomor ponsel', 'Alamat', 'Q50N_1', \n",
        "              'Q50N_2', 'Q50N_3', 'Q50N_4', 'Q25', 'Q26', 'Q16_3', 'Q16_4', 'Q16_5', 'Q16_6', 'Q16_7', 'Q16_8', 'Q16_9',\n",
        "              'Q16_10', 'Q16_11', 'Q16_12', 'Kecamatan', 'Kelurahan',\n",
        "              'Q32_You have completed the survey, please check the data on summary page.']"
      ],
      "execution_count": 101,
      "outputs": []
    },
    {
      "cell_type": "code",
      "metadata": {
        "id": "Afv_jXOro9y2"
      },
      "source": [
        "Promotion_APM = ['Q50A_Apakah toko anda mendapatkan material promosi (sticker,poster,etc) untuk brand dibawah ini::Brand Apache Merah',\n",
        "                 'Q50B_Apakah ada promosi diskon untuk Brand di bawah ini ::Brand Apache Merah',\n",
        "                 'Q50C_Apakah ada promosi Beli berapa pack gratis berapa pack contoh beli 2 gratis 1, beli 4 gratis 1 untuk Brand di bawah ini ::Brand Apache Merah',\n",
        "                 'Q50D_Apakah ada promosi hadiah penjualan : Dapatkan Poin, Dapatkan Hadiah, dll. untuk Brand di bawah ini ::Brand Apache Merah',\n",
        "                 'Q50E_Apakah ada promosi tukar cangkang/bungkus untuk Brand di bawah ini ::Brand Apache Merah',\n",
        "                 'Q50F_Apakah ada promosi bundling produk untuk Brand di bawah ini ::Brand Apache Merah']\n",
        "\n",
        "Visibility_APM = ['Q50H_Apakah ada POSM sunscreen untuk brand berikut.:Brand Apache Merah',\n",
        "                  'Q50I_Apakah ada POSM Tape Blocking Display untuk brand berikut.:Brand Apache Merah',\n",
        "                  'Q50J_Apakah ada POSM decorative pack untuk brand berikut:Brand Apache Merah',\n",
        "                  'Q50K_Apakah ada POSM sticker per pack atau perbatang untuk brand berikut:Brand Apache Merah',\n",
        "                  'Q50L_Apakah ada POSM Blocking Display (Dummy Pack ada 5 Pack kosong) untuk brand berikut:Brand Apache Merah',\n",
        "                  'Q50M_Apakah ada POSM Hanging Lighter untuk brand berikut:Brand Apache Merah']"
      ],
      "execution_count": 102,
      "outputs": []
    },
    {
      "cell_type": "code",
      "metadata": {
        "id": "pG37vjtraVTA"
      },
      "source": [
        "MAP = pd.read_excel('gdrive/My Drive/JACOB/Datamap DCT Jacob.xlsx')"
      ],
      "execution_count": 103,
      "outputs": []
    },
    {
      "cell_type": "markdown",
      "metadata": {
        "id": "M7SwdlGoZy_-"
      },
      "source": [
        "## Store Observation - IA (week 1)"
      ]
    },
    {
      "cell_type": "code",
      "metadata": {
        "id": "Pum8o4cUllpc"
      },
      "source": [
        "SO_IA = pd.read_excel('gdrive/My Drive/JACOB/Data Clean JTI-Jacob 2021 Week 1-IA.xlsx','Rawdata DCT')"
      ],
      "execution_count": 104,
      "outputs": []
    },
    {
      "cell_type": "code",
      "metadata": {
        "id": "ql0wUwhhbj4u"
      },
      "source": [
        "col_name = pd.DataFrame(SO_IA.columns, columns=['Variable'])\n",
        "col_name = col_name.merge(MAP[['Variable','Label']], on='Variable')\n",
        "col_name = col_name.drop('Variable', axis=1)\n",
        "SO_IA.columns = col_name['Label']"
      ],
      "execution_count": 105,
      "outputs": []
    },
    {
      "cell_type": "code",
      "metadata": {
        "id": "gjfch5zFPa8y"
      },
      "source": [
        "SO_IA = SO_IA.drop(drop_column, axis=1)"
      ],
      "execution_count": 106,
      "outputs": []
    },
    {
      "cell_type": "markdown",
      "metadata": {
        "id": "VKTKAeg-dLrG"
      },
      "source": [
        "## Store Observation 1 (week 2)"
      ]
    },
    {
      "cell_type": "code",
      "metadata": {
        "id": "fzg_vJsucV9M"
      },
      "source": [
        "SO1 = pd.read_excel('gdrive/My Drive/JACOB/Data Clean Jacob 2021 Week 2 (RA1).xlsx','Rawdata DCT')"
      ],
      "execution_count": 107,
      "outputs": []
    },
    {
      "cell_type": "code",
      "metadata": {
        "id": "EaUrjNb4dPmb"
      },
      "source": [
        "col_name = pd.DataFrame(SO1.columns, columns=['Variable'])\n",
        "col_name = col_name.merge(MAP[['Variable','Label']], on='Variable')\n",
        "col_name = col_name.drop('Variable', axis=1)\n",
        "SO1.columns = col_name['Label']"
      ],
      "execution_count": 108,
      "outputs": []
    },
    {
      "cell_type": "code",
      "metadata": {
        "id": "Vy-SibCKR6Uw"
      },
      "source": [
        "drop_column.append('Q7. Lantai')"
      ],
      "execution_count": 109,
      "outputs": []
    },
    {
      "cell_type": "code",
      "metadata": {
        "id": "KnLou4lyJ_wn"
      },
      "source": [
        "SO1 = SO1.drop(drop_column, axis=1)"
      ],
      "execution_count": 110,
      "outputs": []
    },
    {
      "cell_type": "markdown",
      "metadata": {
        "id": "MFTYQhKUZy62"
      },
      "source": [
        "## Store Observation 2 (week 3)"
      ]
    },
    {
      "cell_type": "code",
      "metadata": {
        "id": "U0WYoKAKcZxc"
      },
      "source": [
        "SO2 = pd.read_excel('gdrive/My Drive/JACOB/Data Clean Jacob 2021 Week 3 (RA2).xlsx','DCT')"
      ],
      "execution_count": 111,
      "outputs": []
    },
    {
      "cell_type": "code",
      "metadata": {
        "id": "jhph1NmMd2k6"
      },
      "source": [
        "col_name = pd.DataFrame(SO2.columns, columns=['Variable'])\n",
        "col_name = col_name.merge(MAP[['Variable','Label']], on='Variable')\n",
        "col_name = col_name.drop('Variable', axis=1)\n",
        "SO2.columns = col_name['Label']"
      ],
      "execution_count": 112,
      "outputs": []
    },
    {
      "cell_type": "code",
      "metadata": {
        "id": "jUVfNkB0O3Cv"
      },
      "source": [
        "SO2 = SO2.drop(drop_column, axis=1)"
      ],
      "execution_count": 113,
      "outputs": []
    },
    {
      "cell_type": "markdown",
      "metadata": {
        "id": "qq7baW02eRYA"
      },
      "source": [
        "## Store Observation 3 (week 4)"
      ]
    },
    {
      "cell_type": "code",
      "metadata": {
        "id": "TSVxwsFCceSQ"
      },
      "source": [
        "SO3 = pd.read_excel('gdrive/My Drive/JACOB/Data Clean Jacob 2021 Week 4 (RA3).xlsx','DCT')"
      ],
      "execution_count": 114,
      "outputs": []
    },
    {
      "cell_type": "code",
      "metadata": {
        "id": "5ycyKTdleaS2"
      },
      "source": [
        "col_name = pd.DataFrame(SO3.columns, columns=['Variable'])\n",
        "col_name = col_name.merge(MAP[['Variable','Label']], on='Variable')\n",
        "col_name = col_name.drop('Variable', axis=1)\n",
        "SO3.columns = col_name['Label']"
      ],
      "execution_count": 115,
      "outputs": []
    },
    {
      "cell_type": "code",
      "metadata": {
        "id": "eGEDUEGLSGry"
      },
      "source": [
        "SO3 = SO3.drop(drop_column, axis=1)"
      ],
      "execution_count": 116,
      "outputs": []
    },
    {
      "cell_type": "markdown",
      "metadata": {
        "id": "JWrVMp1uTAQ3"
      },
      "source": [
        "## Store Observation 4 (week 5-6)"
      ]
    },
    {
      "cell_type": "code",
      "metadata": {
        "id": "8QIbHPywTAQ3"
      },
      "source": [
        "SO4 = pd.read_excel('gdrive/My Drive/JACOB/Data Clean Jacob 2021 Week 6 - CS Version.xlsx','DCT')"
      ],
      "execution_count": 117,
      "outputs": []
    },
    {
      "cell_type": "code",
      "metadata": {
        "id": "LF4qf0noTAQ4"
      },
      "source": [
        "col_name = pd.DataFrame(SO4.columns, columns=['Variable'])\n",
        "col_name = col_name.merge(MAP[['Variable','Label']], on='Variable')\n",
        "col_name = col_name.drop('Variable', axis=1)\n",
        "SO4.columns = col_name['Label']"
      ],
      "execution_count": 118,
      "outputs": []
    },
    {
      "cell_type": "code",
      "metadata": {
        "id": "TydxoNeNTAQ4"
      },
      "source": [
        "SO4 = SO4.drop(drop_column, axis=1)"
      ],
      "execution_count": 119,
      "outputs": []
    },
    {
      "cell_type": "code",
      "metadata": {
        "colab": {
          "base_uri": "https://localhost:8080/",
          "height": 572
        },
        "id": "ZDah7rRjaHJY",
        "outputId": "b5a1906a-5751-4d7b-e18d-c3f3190e5c91"
      },
      "source": [
        "SO4.head()"
      ],
      "execution_count": 120,
      "outputs": [
        {
          "output_type": "execute_result",
          "data": {
            "text/html": [
              "<div>\n",
              "<style scoped>\n",
              "    .dataframe tbody tr th:only-of-type {\n",
              "        vertical-align: middle;\n",
              "    }\n",
              "\n",
              "    .dataframe tbody tr th {\n",
              "        vertical-align: top;\n",
              "    }\n",
              "\n",
              "    .dataframe thead th {\n",
              "        text-align: right;\n",
              "    }\n",
              "</style>\n",
              "<table border=\"1\" class=\"dataframe\">\n",
              "  <thead>\n",
              "    <tr style=\"text-align: right;\">\n",
              "      <th>Label</th>\n",
              "      <th>RESPONSE_ID</th>\n",
              "      <th>Q3A. Tanggal Survey</th>\n",
              "      <th>Q3C. Capture GPS koordinat # 1</th>\n",
              "      <th>Q3D1_ID Pelanggan</th>\n",
              "      <th>Store Code</th>\n",
              "      <th>Nama toko</th>\n",
              "      <th>Kota</th>\n",
              "      <th>Type Toko</th>\n",
              "      <th>Provinsi</th>\n",
              "      <th>Q9A. Apakah Anda seorang pemilik toko atau penjaga toko</th>\n",
              "      <th>Q9B. Apakah Anda (penjaga toko) memainkan peran dalam proses pengambilan keputusan?</th>\n",
              "      <th>Q12A. Apakah toko bersedia memberikan informasi Nomor Telephone - Telkom (kode area + nomor telephone)</th>\n",
              "      <th>Q13A. Apakah toko bersedia memberikan informasi nomor Handphone Toko?</th>\n",
              "      <th>Q14. Status toko</th>\n",
              "      <th>Q14A. alasan menolak</th>\n",
              "      <th>Q14A_1. Others disebutkan:</th>\n",
              "      <th>Q40A_Q40A. Apabila penjaga toko, sudah berapa lama PIC bekerja di toko tersebut?</th>\n",
              "      <th>Q40B. Berapakah usia pemilik toko?</th>\n",
              "      <th>Q40C_Sudah berapa lama toko beroperasi?</th>\n",
              "      <th>Q40D_Jumlah karyawan toko</th>\n",
              "      <th>Q40E_Sumber pembelian:Wholesaler/Grosir</th>\n",
              "      <th>Q40E_Sumber pembelian:Salesman</th>\n",
              "      <th>Q40E_Sumber pembelian:Other</th>\n",
              "      <th>Q40E_1_Other Mention</th>\n",
              "      <th>Q40F_Frekuensi pembelian stok rokok</th>\n",
              "      <th>Q40G_Apakah ada product SKT/rokok linting baru di minggu ini?</th>\n",
              "      <th>Q40G_1Apakah nama produk SKT/rokok linting baru itu?</th>\n",
              "      <th>Q40G_1Apakah nama produk SKT/rokok linting baru itu?</th>\n",
              "      <th>Q40H_Darimana asal pembelian produk SKT/Rokok linting baru tersebut?:Salesman</th>\n",
              "      <th>Q40H_Darimana asal pembelian produk SKT/Rokok linting baru tersebut?:Salesman</th>\n",
              "      <th>Q40H_Darimana asal pembelian produk SKT/Rokok linting baru tersebut?:Wholesaler/Grosir</th>\n",
              "      <th>Q40H_Darimana asal pembelian produk SKT/Rokok linting baru tersebut?:Wholesaler/Grosir</th>\n",
              "      <th>Q40H_Darimana asal pembelian produk SKT/Rokok linting baru tersebut?:Other</th>\n",
              "      <th>Q40H_Darimana asal pembelian produk SKT/Rokok linting baru tersebut?:Other</th>\n",
              "      <th>Q40H_1_Other Mention</th>\n",
              "      <th>Q40H_1_Other Mention</th>\n",
              "      <th>Q40I_Berapakah Harga Beli dan Harga Jual produk SKT/rokok linting baru tersebut?:Harga Beli:Produk SKT/roko linting</th>\n",
              "      <th>Q40I_Berapakah Harga Beli dan Harga Jual produk SKT/rokok linting baru tersebut?:Harga Beli:Produk SKT/roko linting</th>\n",
              "      <th>Q40I_Berapakah Harga Beli dan Harga Jual produk SKT/rokok linting baru tersebut?:Harga Jual:Produk SKT/roko linting</th>\n",
              "      <th>Q40I_Berapakah Harga Beli dan Harga Jual produk SKT/rokok linting baru tersebut?:Harga Jual:Produk SKT/roko linting</th>\n",
              "      <th>...</th>\n",
              "      <th>Q50L_Apakah ada POSM Blocking Display (Dummy Pack ada 5 Pack kosong) untuk brand berikut:Brand Nalami</th>\n",
              "      <th>Q50L_Apakah ada POSM Blocking Display (Dummy Pack ada 5 Pack kosong) untuk brand berikut:Brand Panamas</th>\n",
              "      <th>Q50L_Apakah ada POSM Blocking Display (Dummy Pack ada 5 Pack kosong) untuk brand berikut:Brand Sampoerna Kretek</th>\n",
              "      <th>Q50L_Apakah ada POSM Blocking Display (Dummy Pack ada 5 Pack kosong) untuk brand berikut:Brand Simustika</th>\n",
              "      <th>Q50L_Apakah ada POSM Blocking Display (Dummy Pack ada 5 Pack kosong) untuk brand berikut:Brand Vigor</th>\n",
              "      <th>Q50L_Apakah ada POSM Blocking Display (Dummy Pack ada 5 Pack kosong) untuk brand berikut:Brand Warung Kopi</th>\n",
              "      <th>Q50M_Apakah ada POSM Hanging Lighter untuk brand berikut:Brand 153</th>\n",
              "      <th>Q50M_Apakah ada POSM Hanging Lighter untuk brand berikut:Brand A Hijau</th>\n",
              "      <th>Q50M_Apakah ada POSM Hanging Lighter untuk brand berikut:Brand Apache Merah</th>\n",
              "      <th>Q50M_Apakah ada POSM Hanging Lighter untuk brand berikut:Brand Apache Kretek</th>\n",
              "      <th>Q50M_Apakah ada POSM Hanging Lighter untuk brand berikut:Brand Bentoel</th>\n",
              "      <th>Q50M_Apakah ada POSM Hanging Lighter untuk brand berikut:Brand Bulls</th>\n",
              "      <th>Q50M_Apakah ada POSM Hanging Lighter untuk brand berikut:Brand Dados</th>\n",
              "      <th>Q50M_Apakah ada POSM Hanging Lighter untuk brand berikut:Brand Divo</th>\n",
              "      <th>Q50M_Apakah ada POSM Hanging Lighter untuk brand berikut:Brand Djarum 76</th>\n",
              "      <th>Q50M_Apakah ada POSM Hanging Lighter untuk brand berikut:Brand Djarum Coklat</th>\n",
              "      <th>Q50M_Apakah ada POSM Hanging Lighter untuk brand berikut:Brand Djarum Istimewa</th>\n",
              "      <th>Q50M_Apakah ada POSM Hanging Lighter untuk brand berikut:Brand Dji Sam Soe Kretek</th>\n",
              "      <th>Q50M_Apakah ada POSM Hanging Lighter untuk brand berikut:Brand Grendel Utama</th>\n",
              "      <th>Q50M_Apakah ada POSM Hanging Lighter untuk brand berikut:Brand Gudang Baru</th>\n",
              "      <th>Q50M_Apakah ada POSM Hanging Lighter untuk brand berikut:Brand Gudang Garam Djaja</th>\n",
              "      <th>Q50M_Apakah ada POSM Hanging Lighter untuk brand berikut:Brand Gudang Garam Merah</th>\n",
              "      <th>Q50M_Apakah ada POSM Hanging Lighter untuk brand berikut:Brand Gudang Garam Sriwedari</th>\n",
              "      <th>Q50M_Apakah ada POSM Hanging Lighter untuk brand berikut:Brand Kedai Kopi</th>\n",
              "      <th>Q50M_Apakah ada POSM Hanging Lighter untuk brand berikut:Brand Marlboro Crafted</th>\n",
              "      <th>Q50M_Apakah ada POSM Hanging Lighter untuk brand berikut:Brand Menara</th>\n",
              "      <th>Q50M_Apakah ada POSM Hanging Lighter untuk brand berikut:Brand Minak Djinggo</th>\n",
              "      <th>Q50M_Apakah ada POSM Hanging Lighter untuk brand berikut:Brand Nalami</th>\n",
              "      <th>Q50M_Apakah ada POSM Hanging Lighter untuk brand berikut:Brand Panamas</th>\n",
              "      <th>Q50M_Apakah ada POSM Hanging Lighter untuk brand berikut:Brand Sampoerna Kretek</th>\n",
              "      <th>Q50M_Apakah ada POSM Hanging Lighter untuk brand berikut:Brand Simustika</th>\n",
              "      <th>Q50M_Apakah ada POSM Hanging Lighter untuk brand berikut:Brand Vigor</th>\n",
              "      <th>Q50M_Apakah ada POSM Hanging Lighter untuk brand berikut:Brand Warung Kopi</th>\n",
              "      <th>Q50N. Apakah diperbolehkan untuk mengambil foto POSM ?</th>\n",
              "      <th>Q24. Apakah diperbolehkan untuk mengambil foto dalam Toko?</th>\n",
              "      <th>Q28. Status survey</th>\n",
              "      <th>Q26A_ Metode AUDIT yang digunakan :</th>\n",
              "      <th>Q29. Status Audit</th>\n",
              "      <th>Q30. ID Witness</th>\n",
              "      <th>Q31_Store Comment.</th>\n",
              "    </tr>\n",
              "  </thead>\n",
              "  <tbody>\n",
              "    <tr>\n",
              "      <th>0</th>\n",
              "      <td>21116251</td>\n",
              "      <td>01/09/2021</td>\n",
              "      <td>-3.01910142;104.75635915;6.068;gps</td>\n",
              "      <td>C.093-00200000299</td>\n",
              "      <td>1610895</td>\n",
              "      <td>TOKO REZA</td>\n",
              "      <td>PALEMBANG</td>\n",
              "      <td>WARUNG SMALL</td>\n",
              "      <td>SUMATERA SELATAN</td>\n",
              "      <td>Pemilik toko</td>\n",
              "      <td>NaN</td>\n",
              "      <td>Tidak (Tidak Bersedia/Tidak diperbolehkan)</td>\n",
              "      <td>Ya (Bersedia)</td>\n",
              "      <td>Success</td>\n",
              "      <td>NaN</td>\n",
              "      <td>NaN</td>\n",
              "      <td>NaN</td>\n",
              "      <td>40.0</td>\n",
              "      <td>lebih dari 10 tahun</td>\n",
              "      <td>TA (Owner sendiri tanpa karyawan/pegawai)</td>\n",
              "      <td>True</td>\n",
              "      <td>True</td>\n",
              "      <td>False</td>\n",
              "      <td>NaN</td>\n",
              "      <td>Ketika stock sudah habis atau hampir habis</td>\n",
              "      <td>Tidak</td>\n",
              "      <td>NaN</td>\n",
              "      <td>NaN</td>\n",
              "      <td>NaN</td>\n",
              "      <td>NaN</td>\n",
              "      <td>NaN</td>\n",
              "      <td>NaN</td>\n",
              "      <td>NaN</td>\n",
              "      <td>NaN</td>\n",
              "      <td>NaN</td>\n",
              "      <td>NaN</td>\n",
              "      <td>NaN</td>\n",
              "      <td>NaN</td>\n",
              "      <td>NaN</td>\n",
              "      <td>NaN</td>\n",
              "      <td>...</td>\n",
              "      <td>NaN</td>\n",
              "      <td>Tidak Ada</td>\n",
              "      <td>NaN</td>\n",
              "      <td>NaN</td>\n",
              "      <td>Tidak Ada</td>\n",
              "      <td>NaN</td>\n",
              "      <td>NaN</td>\n",
              "      <td>Tidak Ada</td>\n",
              "      <td>Tidak Ada</td>\n",
              "      <td>Tidak Ada</td>\n",
              "      <td>NaN</td>\n",
              "      <td>NaN</td>\n",
              "      <td>Tidak Ada</td>\n",
              "      <td>NaN</td>\n",
              "      <td>NaN</td>\n",
              "      <td>NaN</td>\n",
              "      <td>Tidak Ada</td>\n",
              "      <td>Tidak Ada</td>\n",
              "      <td>NaN</td>\n",
              "      <td>Tidak Ada</td>\n",
              "      <td>NaN</td>\n",
              "      <td>Tidak Ada</td>\n",
              "      <td>NaN</td>\n",
              "      <td>NaN</td>\n",
              "      <td>NaN</td>\n",
              "      <td>NaN</td>\n",
              "      <td>NaN</td>\n",
              "      <td>NaN</td>\n",
              "      <td>Tidak Ada</td>\n",
              "      <td>NaN</td>\n",
              "      <td>NaN</td>\n",
              "      <td>Tidak Ada</td>\n",
              "      <td>NaN</td>\n",
              "      <td>Tidak</td>\n",
              "      <td>Iya</td>\n",
              "      <td>completed</td>\n",
              "      <td>BAU</td>\n",
              "      <td>General Check / Audit</td>\n",
              "      <td>NaN</td>\n",
              "      <td>Oke</td>\n",
              "    </tr>\n",
              "    <tr>\n",
              "      <th>1</th>\n",
              "      <td>21116252</td>\n",
              "      <td>01/09/2021</td>\n",
              "      <td>-3.02114081;104.75869431;6.068;gps</td>\n",
              "      <td>C.093-00200000361</td>\n",
              "      <td>1610897</td>\n",
              "      <td>TOKO SONYA</td>\n",
              "      <td>PALEMBANG</td>\n",
              "      <td>WARUNG MEDIUM</td>\n",
              "      <td>SUMATERA SELATAN</td>\n",
              "      <td>Pemilik toko</td>\n",
              "      <td>NaN</td>\n",
              "      <td>Tidak (Tidak Bersedia/Tidak diperbolehkan)</td>\n",
              "      <td>Ya (Bersedia)</td>\n",
              "      <td>Success</td>\n",
              "      <td>NaN</td>\n",
              "      <td>NaN</td>\n",
              "      <td>NaN</td>\n",
              "      <td>45.0</td>\n",
              "      <td>lebih dari 10 tahun</td>\n",
              "      <td>1 orang</td>\n",
              "      <td>True</td>\n",
              "      <td>True</td>\n",
              "      <td>False</td>\n",
              "      <td>NaN</td>\n",
              "      <td>Ketika stock sudah habis atau hampir habis</td>\n",
              "      <td>Tidak</td>\n",
              "      <td>NaN</td>\n",
              "      <td>NaN</td>\n",
              "      <td>NaN</td>\n",
              "      <td>NaN</td>\n",
              "      <td>NaN</td>\n",
              "      <td>NaN</td>\n",
              "      <td>NaN</td>\n",
              "      <td>NaN</td>\n",
              "      <td>NaN</td>\n",
              "      <td>NaN</td>\n",
              "      <td>NaN</td>\n",
              "      <td>NaN</td>\n",
              "      <td>NaN</td>\n",
              "      <td>NaN</td>\n",
              "      <td>...</td>\n",
              "      <td>NaN</td>\n",
              "      <td>Tidak Ada</td>\n",
              "      <td>NaN</td>\n",
              "      <td>NaN</td>\n",
              "      <td>Tidak Ada</td>\n",
              "      <td>NaN</td>\n",
              "      <td>NaN</td>\n",
              "      <td>Tidak Ada</td>\n",
              "      <td>Tidak Ada</td>\n",
              "      <td>Tidak Ada</td>\n",
              "      <td>NaN</td>\n",
              "      <td>NaN</td>\n",
              "      <td>Tidak Ada</td>\n",
              "      <td>NaN</td>\n",
              "      <td>NaN</td>\n",
              "      <td>NaN</td>\n",
              "      <td>Tidak Ada</td>\n",
              "      <td>Tidak Ada</td>\n",
              "      <td>NaN</td>\n",
              "      <td>Tidak Ada</td>\n",
              "      <td>NaN</td>\n",
              "      <td>Tidak Ada</td>\n",
              "      <td>NaN</td>\n",
              "      <td>NaN</td>\n",
              "      <td>NaN</td>\n",
              "      <td>NaN</td>\n",
              "      <td>NaN</td>\n",
              "      <td>NaN</td>\n",
              "      <td>Tidak Ada</td>\n",
              "      <td>NaN</td>\n",
              "      <td>NaN</td>\n",
              "      <td>Tidak Ada</td>\n",
              "      <td>NaN</td>\n",
              "      <td>Tidak</td>\n",
              "      <td>Iya</td>\n",
              "      <td>completed</td>\n",
              "      <td>BAU</td>\n",
              "      <td>General Check / Audit</td>\n",
              "      <td>NaN</td>\n",
              "      <td>Oke</td>\n",
              "    </tr>\n",
              "    <tr>\n",
              "      <th>2</th>\n",
              "      <td>21116253</td>\n",
              "      <td>01/09/2021</td>\n",
              "      <td>-3.01620215;104.7593171;4.551;gps</td>\n",
              "      <td>C.093-00200000368</td>\n",
              "      <td>1610898</td>\n",
              "      <td>TOKO ALI CELL</td>\n",
              "      <td>PALEMBANG</td>\n",
              "      <td>WARUNG MEDIUM</td>\n",
              "      <td>SUMATERA SELATAN</td>\n",
              "      <td>Pemilik toko</td>\n",
              "      <td>NaN</td>\n",
              "      <td>Tidak (Tidak Bersedia/Tidak diperbolehkan)</td>\n",
              "      <td>Ya (Bersedia)</td>\n",
              "      <td>Success</td>\n",
              "      <td>NaN</td>\n",
              "      <td>NaN</td>\n",
              "      <td>NaN</td>\n",
              "      <td>45.0</td>\n",
              "      <td>lebih dari 10 tahun</td>\n",
              "      <td>1 orang</td>\n",
              "      <td>True</td>\n",
              "      <td>True</td>\n",
              "      <td>False</td>\n",
              "      <td>NaN</td>\n",
              "      <td>Ketika stock sudah habis atau hampir habis</td>\n",
              "      <td>Tidak</td>\n",
              "      <td>NaN</td>\n",
              "      <td>NaN</td>\n",
              "      <td>NaN</td>\n",
              "      <td>NaN</td>\n",
              "      <td>NaN</td>\n",
              "      <td>NaN</td>\n",
              "      <td>NaN</td>\n",
              "      <td>NaN</td>\n",
              "      <td>NaN</td>\n",
              "      <td>NaN</td>\n",
              "      <td>NaN</td>\n",
              "      <td>NaN</td>\n",
              "      <td>NaN</td>\n",
              "      <td>NaN</td>\n",
              "      <td>...</td>\n",
              "      <td>NaN</td>\n",
              "      <td>Tidak Ada</td>\n",
              "      <td>NaN</td>\n",
              "      <td>NaN</td>\n",
              "      <td>Tidak Ada</td>\n",
              "      <td>NaN</td>\n",
              "      <td>NaN</td>\n",
              "      <td>Tidak Ada</td>\n",
              "      <td>Tidak Ada</td>\n",
              "      <td>Tidak Ada</td>\n",
              "      <td>NaN</td>\n",
              "      <td>NaN</td>\n",
              "      <td>Tidak Ada</td>\n",
              "      <td>NaN</td>\n",
              "      <td>NaN</td>\n",
              "      <td>NaN</td>\n",
              "      <td>Tidak Ada</td>\n",
              "      <td>Tidak Ada</td>\n",
              "      <td>NaN</td>\n",
              "      <td>Tidak Ada</td>\n",
              "      <td>NaN</td>\n",
              "      <td>Tidak Ada</td>\n",
              "      <td>NaN</td>\n",
              "      <td>NaN</td>\n",
              "      <td>NaN</td>\n",
              "      <td>NaN</td>\n",
              "      <td>NaN</td>\n",
              "      <td>NaN</td>\n",
              "      <td>Tidak Ada</td>\n",
              "      <td>NaN</td>\n",
              "      <td>NaN</td>\n",
              "      <td>Tidak Ada</td>\n",
              "      <td>NaN</td>\n",
              "      <td>Tidak</td>\n",
              "      <td>Iya</td>\n",
              "      <td>completed</td>\n",
              "      <td>BAU</td>\n",
              "      <td>General Check / Audit</td>\n",
              "      <td>NaN</td>\n",
              "      <td>Oke</td>\n",
              "    </tr>\n",
              "    <tr>\n",
              "      <th>3</th>\n",
              "      <td>21116254</td>\n",
              "      <td>01/09/2021</td>\n",
              "      <td>-3.0214886;104.7593562;13.653;gps</td>\n",
              "      <td>C.093-00200000426</td>\n",
              "      <td>1610901</td>\n",
              "      <td>TOKO HALIMAH</td>\n",
              "      <td>PALEMBANG</td>\n",
              "      <td>WARUNG SMALL</td>\n",
              "      <td>SUMATERA SELATAN</td>\n",
              "      <td>Pemilik toko</td>\n",
              "      <td>NaN</td>\n",
              "      <td>Tidak (Tidak Bersedia/Tidak diperbolehkan)</td>\n",
              "      <td>Ya (Bersedia)</td>\n",
              "      <td>Success</td>\n",
              "      <td>NaN</td>\n",
              "      <td>NaN</td>\n",
              "      <td>NaN</td>\n",
              "      <td>50.0</td>\n",
              "      <td>lebih dari 10 tahun</td>\n",
              "      <td>TA (Owner sendiri tanpa karyawan/pegawai)</td>\n",
              "      <td>True</td>\n",
              "      <td>True</td>\n",
              "      <td>False</td>\n",
              "      <td>NaN</td>\n",
              "      <td>Ketika stock sudah habis atau hampir habis</td>\n",
              "      <td>Tidak</td>\n",
              "      <td>NaN</td>\n",
              "      <td>NaN</td>\n",
              "      <td>NaN</td>\n",
              "      <td>NaN</td>\n",
              "      <td>NaN</td>\n",
              "      <td>NaN</td>\n",
              "      <td>NaN</td>\n",
              "      <td>NaN</td>\n",
              "      <td>NaN</td>\n",
              "      <td>NaN</td>\n",
              "      <td>NaN</td>\n",
              "      <td>NaN</td>\n",
              "      <td>NaN</td>\n",
              "      <td>NaN</td>\n",
              "      <td>...</td>\n",
              "      <td>NaN</td>\n",
              "      <td>Tidak Ada</td>\n",
              "      <td>NaN</td>\n",
              "      <td>NaN</td>\n",
              "      <td>Tidak Ada</td>\n",
              "      <td>NaN</td>\n",
              "      <td>NaN</td>\n",
              "      <td>Tidak Ada</td>\n",
              "      <td>Tidak Ada</td>\n",
              "      <td>Tidak Ada</td>\n",
              "      <td>NaN</td>\n",
              "      <td>NaN</td>\n",
              "      <td>Tidak Ada</td>\n",
              "      <td>NaN</td>\n",
              "      <td>NaN</td>\n",
              "      <td>NaN</td>\n",
              "      <td>Tidak Ada</td>\n",
              "      <td>Tidak Ada</td>\n",
              "      <td>NaN</td>\n",
              "      <td>Tidak Ada</td>\n",
              "      <td>NaN</td>\n",
              "      <td>Tidak Ada</td>\n",
              "      <td>NaN</td>\n",
              "      <td>NaN</td>\n",
              "      <td>NaN</td>\n",
              "      <td>NaN</td>\n",
              "      <td>NaN</td>\n",
              "      <td>NaN</td>\n",
              "      <td>Tidak Ada</td>\n",
              "      <td>NaN</td>\n",
              "      <td>NaN</td>\n",
              "      <td>Tidak Ada</td>\n",
              "      <td>NaN</td>\n",
              "      <td>Tidak</td>\n",
              "      <td>Iya</td>\n",
              "      <td>completed</td>\n",
              "      <td>BAU</td>\n",
              "      <td>General Check / Audit</td>\n",
              "      <td>NaN</td>\n",
              "      <td>Oke</td>\n",
              "    </tr>\n",
              "    <tr>\n",
              "      <th>4</th>\n",
              "      <td>21116255</td>\n",
              "      <td>04/09/2021</td>\n",
              "      <td>-2.89794319;104.77639538;6.068;gps</td>\n",
              "      <td>C.093-00200000509</td>\n",
              "      <td>1610902</td>\n",
              "      <td>TOKO RADJA</td>\n",
              "      <td>BANYU ASIN</td>\n",
              "      <td>WARUNG MEDIUM</td>\n",
              "      <td>SUMATERA SELATAN</td>\n",
              "      <td>Pemilik toko</td>\n",
              "      <td>NaN</td>\n",
              "      <td>Tidak (Tidak Bersedia/Tidak diperbolehkan)</td>\n",
              "      <td>Ya (Bersedia)</td>\n",
              "      <td>Success</td>\n",
              "      <td>NaN</td>\n",
              "      <td>NaN</td>\n",
              "      <td>NaN</td>\n",
              "      <td>40.0</td>\n",
              "      <td>7-9 tahun</td>\n",
              "      <td>TA (Owner sendiri tanpa karyawan/pegawai)</td>\n",
              "      <td>True</td>\n",
              "      <td>False</td>\n",
              "      <td>False</td>\n",
              "      <td>NaN</td>\n",
              "      <td>tidak ada jadwal pasti</td>\n",
              "      <td>Tidak</td>\n",
              "      <td>NaN</td>\n",
              "      <td>NaN</td>\n",
              "      <td>NaN</td>\n",
              "      <td>NaN</td>\n",
              "      <td>NaN</td>\n",
              "      <td>NaN</td>\n",
              "      <td>NaN</td>\n",
              "      <td>NaN</td>\n",
              "      <td>NaN</td>\n",
              "      <td>NaN</td>\n",
              "      <td>NaN</td>\n",
              "      <td>NaN</td>\n",
              "      <td>NaN</td>\n",
              "      <td>NaN</td>\n",
              "      <td>...</td>\n",
              "      <td>NaN</td>\n",
              "      <td>Tidak Ada</td>\n",
              "      <td>NaN</td>\n",
              "      <td>NaN</td>\n",
              "      <td>Tidak Ada</td>\n",
              "      <td>NaN</td>\n",
              "      <td>NaN</td>\n",
              "      <td>Tidak Ada</td>\n",
              "      <td>Tidak Ada</td>\n",
              "      <td>Tidak Ada</td>\n",
              "      <td>NaN</td>\n",
              "      <td>NaN</td>\n",
              "      <td>Tidak Ada</td>\n",
              "      <td>NaN</td>\n",
              "      <td>NaN</td>\n",
              "      <td>NaN</td>\n",
              "      <td>Tidak Ada</td>\n",
              "      <td>Tidak Ada</td>\n",
              "      <td>NaN</td>\n",
              "      <td>Tidak Ada</td>\n",
              "      <td>NaN</td>\n",
              "      <td>Tidak Ada</td>\n",
              "      <td>NaN</td>\n",
              "      <td>NaN</td>\n",
              "      <td>NaN</td>\n",
              "      <td>NaN</td>\n",
              "      <td>NaN</td>\n",
              "      <td>NaN</td>\n",
              "      <td>Tidak Ada</td>\n",
              "      <td>NaN</td>\n",
              "      <td>NaN</td>\n",
              "      <td>Tidak Ada</td>\n",
              "      <td>NaN</td>\n",
              "      <td>Tidak</td>\n",
              "      <td>Iya</td>\n",
              "      <td>completed</td>\n",
              "      <td>BAU</td>\n",
              "      <td>General Check / Audit</td>\n",
              "      <td>NaN</td>\n",
              "      <td>Ok</td>\n",
              "    </tr>\n",
              "  </tbody>\n",
              "</table>\n",
              "<p>5 rows × 415 columns</p>\n",
              "</div>"
            ],
            "text/plain": [
              "Label  RESPONSE_ID Q3A. Tanggal Survey  ... Q30. ID Witness Q31_Store Comment.\n",
              "0         21116251          01/09/2021  ...             NaN                Oke\n",
              "1         21116252          01/09/2021  ...             NaN                Oke\n",
              "2         21116253          01/09/2021  ...             NaN                Oke\n",
              "3         21116254          01/09/2021  ...             NaN                Oke\n",
              "4         21116255          04/09/2021  ...             NaN                 Ok\n",
              "\n",
              "[5 rows x 415 columns]"
            ]
          },
          "metadata": {},
          "execution_count": 120
        }
      ]
    },
    {
      "cell_type": "markdown",
      "metadata": {
        "id": "jGzUfvVCfPxX"
      },
      "source": [
        "###Membuat mapping area, mapping item, dan mapping toko"
      ]
    },
    {
      "cell_type": "code",
      "metadata": {
        "id": "YUKzgel4aLTg"
      },
      "source": [
        "my_dict = {'Provinsi': ['LAMPUNG','SUMATERA SELATAN','JAWA BARAT','JAWA TIMUR','NUSA TENGGARA TIMUR','JAWA TENGAH'],\n",
        "        'Area': ['LAMPUNG','PALEMBANG','KARAWANG','MADIUN','KUPANG','PURWOKERTO']}\n",
        "area_mapping = pd.DataFrame(my_dict)"
      ],
      "execution_count": 121,
      "outputs": []
    },
    {
      "cell_type": "code",
      "metadata": {
        "id": "P6EwdT_HcZB4"
      },
      "source": [
        "my_dict2 = {'Product Description': ['153 Satu Lima Tiga Lista Kumala Soft Plain 12 Stc (Sktb)','Apache Brown Box Plain 12 Stc (Sktb)',\n",
        "                                    'Apache Brown Box Plain 20 Stc (Sktb)','Apache Brown Soft Plain 12 Stc (Sktb)',\n",
        "                                    'Apache Merah Box Plain 12 Stc (Sktb)','Bentoel SJT Box Plain 12 Stc (Sktnb)',\n",
        "                                    'Bulls Box Plain 12 Stc (Sktb)','Dados Brown Soft Plain 12 Stc (Sktb)',\n",
        "                                    'Divo Box Plain 12 Stc (Sktb)','Djarum 76 Brown Box Plain 12 Stc (Sktb)',\n",
        "                                    'Djarum Coklat Soft Plain 12 Stc (Sktb)','Djarum Istimewa Soft Coklat Plain 12 Stc (Sktb)',\n",
        "                                    'Dji Sam Soe Edisi Khusus Soft Plain 12 Stc (Sktb)','Dji Sam Soe Soft Plain 12 Stc (Sktb)',\n",
        "                                    'Grendel Utama Yellow Box Plain 12 Stc (Sktb)','Gudang Baru King Size Box Plain 12 Stc (Sktb)',\n",
        "                                    'Gudang Baru King Size Soft Plain 12 Stc (Sktb)','Gudang Garam Djaja Box Kspl 12 Stc (Sktb)',\n",
        "                                    'Gudang Garam Djaja Soft Kspl 12 Stc (Sktb)','Gudang Garam Red Box Kspl 12 Stc (Sktb)',\n",
        "                                    'Gudang Garam Red Soft Kspl 12 Stc (Sktb)','Gudang Garam Taman Sriwedari Soft Kspl 12 Stc (Sktb)',\n",
        "                                    'Gudang Garam Taman Sriwedari Soft Plain 12 Stc (Sktb)','Kedai Kopi Yellow Soft Plain 12 Stc (Sktb)',\n",
        "                                    'Marlboro Box Filter 12 Stc (Skmb)','Menara Special Kuning Box Plain 12 Stc (Sktb)',\n",
        "                                    'Minak Djinggo Kuning Soft Plain 10 Stc (Sktb)','Nalami Na Classic Brown Soft Plain 12 Stc (Sktb)',\n",
        "                                    'Panamas 1 Soft Plain 12 Stc (Sktb)','Sampoerna \\'A\\' Hijau Box Plain 12 Stc (Sktb)',\n",
        "                                    'Sampoerna \\'A\\' Hijau Edisi Khusus Box Plain 10+2 Stc (Sktb)','Sampoerna Kretek 234 Box Plain 12 Stc (Sktb)',\n",
        "                                    'Simustika 269 Gold Brown Box Plain 12 Stc (Sktb)','Vigor Red Box Filter 12 Stc (Sktb)',\n",
        "                                    'Warung Kopi Box Plain 12 Stc (Sktb)','Djarum Coklat Extra Box Plain 12 Stc (Sktb)'],\n",
        "             'Item': ['153 12','APK 12','APK 20','APK 12','APM 12','BENTOEL SJT 12','BULLS 12','DADOS 12',\n",
        "                      'DIVO 12','DJARUM 76 12','DJARUM COKLAT 12','DJARUM ISTIMEWA 12','DSS 12','DSS 12',\n",
        "                      'GRENDEL 12','GUDANG BARU 12','GUDANG BARU 12','DJAJA 12','DJAJA 12','GG MERAH 12',\n",
        "                      'GG MERAH 12','SRIWEDARI 12','SRIWEDARI 12','KEDAI KOPI 12','MARLBORO 12','MENARA 12',\n",
        "                      'MINAK DJINGGO 10','NALAMI 12','PANAMAS 12','A HIJAU 12','A HIJAU 12','SAMPOERNA KRETEK 12',\n",
        "                      'SIMUSTIKA 12','VIGOR 12','WARUNG KOPI 12','DJARUM COKLAT 12']}\n",
        "item_mapping = pd.DataFrame(my_dict2)"
      ],
      "execution_count": 122,
      "outputs": []
    },
    {
      "cell_type": "code",
      "metadata": {
        "id": "ywOdyx5wPSWM",
        "colab": {
          "base_uri": "https://localhost:8080/"
        },
        "outputId": "fc4b34fd-c76e-4229-bac2-f524e04eb9f4"
      },
      "source": [
        "mapping_toko = SO_IA[['Store Code','Type Toko','Provinsi']]\n",
        "mapping_toko.shape"
      ],
      "execution_count": 123,
      "outputs": [
        {
          "output_type": "execute_result",
          "data": {
            "text/plain": [
              "(347, 3)"
            ]
          },
          "metadata": {},
          "execution_count": 123
        }
      ]
    },
    {
      "cell_type": "code",
      "metadata": {
        "id": "VVxu3322S1C3",
        "colab": {
          "base_uri": "https://localhost:8080/"
        },
        "outputId": "6c84f8cf-fdc1-4ff2-b335-f3bf4f4f282b"
      },
      "source": [
        "mapping_toko = mapping_toko.append(SO1[['Store Code','Type Toko','Provinsi']])\n",
        "mapping_toko.shape"
      ],
      "execution_count": 124,
      "outputs": [
        {
          "output_type": "execute_result",
          "data": {
            "text/plain": [
              "(707, 3)"
            ]
          },
          "metadata": {},
          "execution_count": 124
        }
      ]
    },
    {
      "cell_type": "code",
      "metadata": {
        "id": "WAyGy8b2XbSI",
        "colab": {
          "base_uri": "https://localhost:8080/"
        },
        "outputId": "a414d176-c0e3-4541-a2ea-a0f2753e01f4"
      },
      "source": [
        "mapping_toko = mapping_toko.append(SO2[['Store Code','Type Toko','Provinsi']])\n",
        "mapping_toko.shape"
      ],
      "execution_count": 125,
      "outputs": [
        {
          "output_type": "execute_result",
          "data": {
            "text/plain": [
              "(1060, 3)"
            ]
          },
          "metadata": {},
          "execution_count": 125
        }
      ]
    },
    {
      "cell_type": "code",
      "metadata": {
        "colab": {
          "base_uri": "https://localhost:8080/"
        },
        "id": "nZUNkHodfsbq",
        "outputId": "33ba903f-2f49-423e-decc-82e97cd4e1b0"
      },
      "source": [
        "mapping_toko = mapping_toko.append(SO3[['Store Code','Type Toko','Provinsi']])\n",
        "mapping_toko.shape"
      ],
      "execution_count": 126,
      "outputs": [
        {
          "output_type": "execute_result",
          "data": {
            "text/plain": [
              "(1484, 3)"
            ]
          },
          "metadata": {},
          "execution_count": 126
        }
      ]
    },
    {
      "cell_type": "code",
      "metadata": {
        "colab": {
          "base_uri": "https://localhost:8080/"
        },
        "id": "UZaL7AKpgkOR",
        "outputId": "cef04e47-4ec7-49ec-9890-5bc614cfbbad"
      },
      "source": [
        "mapping_toko = mapping_toko.append(SO4[['Store Code','Type Toko','Provinsi']])\n",
        "mapping_toko.shape"
      ],
      "execution_count": 127,
      "outputs": [
        {
          "output_type": "execute_result",
          "data": {
            "text/plain": [
              "(1988, 3)"
            ]
          },
          "metadata": {},
          "execution_count": 127
        }
      ]
    },
    {
      "cell_type": "code",
      "metadata": {
        "id": "P8CqTK_ZbyYK"
      },
      "source": [
        "mapping_toko = pd.merge(mapping_toko, \n",
        "                     area_mapping, \n",
        "                     on ='Provinsi', \n",
        "                     how ='left')"
      ],
      "execution_count": 128,
      "outputs": []
    },
    {
      "cell_type": "code",
      "metadata": {
        "id": "XBhuHqenfmfB"
      },
      "source": [
        "mapping_toko = mapping_toko.drop_duplicates(ignore_index=True)\n",
        "mapping_toko.drop('Provinsi', axis=1, inplace=True)"
      ],
      "execution_count": 129,
      "outputs": []
    },
    {
      "cell_type": "markdown",
      "metadata": {
        "id": "erhwr8bNPSAC"
      },
      "source": [
        "### Merge Store Observation"
      ]
    },
    {
      "cell_type": "code",
      "metadata": {
        "id": "qVqANKD9BXiA"
      },
      "source": [
        "# MAPPING AREA, TYPE TOKO, \n",
        "# MAPPING PRODUCT DESC -> BRAND\n",
        "# "
      ],
      "execution_count": 130,
      "outputs": []
    },
    {
      "cell_type": "markdown",
      "metadata": {
        "id": "a541SGSnhQ2U"
      },
      "source": [
        "#Retail Audit"
      ]
    },
    {
      "cell_type": "markdown",
      "metadata": {
        "id": "rLfvIMO8XWeD"
      },
      "source": [
        "## Initial Audit (week 1)"
      ]
    },
    {
      "cell_type": "code",
      "metadata": {
        "id": "Dy_JKxNmLWIN"
      },
      "source": [
        "# ambil data dari GDrive\n",
        "IA = pd.read_excel('gdrive/My Drive/JACOB/Data Clean JTI-Jacob 2021 Week 1-IA.xlsx','Data Clean LHHT')\n",
        "# ganti data yang memiliki nilai N/A dengan 0\n",
        "IA = IA.fillna(0)"
      ],
      "execution_count": 131,
      "outputs": []
    },
    {
      "cell_type": "code",
      "metadata": {
        "id": "nrA5F8ks2wB1"
      },
      "source": [
        "# hitung total stol\n",
        "IA['Stock'] = IA['Shop/Front Stock']+IA['Other Stock']\n",
        "#buat kolom unique name utk mapping (concatenate) dengan menggabungkan store code dengan product description\n",
        "IA.insert(0, 'Concatenate', IA['SMS Id'].astype('str')+IA['Product Description'])"
      ],
      "execution_count": 132,
      "outputs": []
    },
    {
      "cell_type": "code",
      "metadata": {
        "id": "_qZl9czspolj"
      },
      "source": [
        "# menghapus kolom2 yang tidak dibutuhkan\n",
        "IA = IA.drop(['Country Id', 'Country Name', 'Auditor Id', 'Resource Name','Instruction Id', \n",
        "            'Category Id', 'Category Name', 'Module Name','Entity Id','Original Fact Value',\n",
        "            'Cluster Id','alternate audit methodology','Shop/Front Stock','Other Stock',\n",
        "            'Audit Status','Sales'], axis=1)\n",
        "# mengganti nama kolom agar sesuai dengan yg diinginkan\n",
        "IA.columns = IA.columns.str.replace('Number Of Observation by Type of Observation','RBP')"
      ],
      "execution_count": 133,
      "outputs": []
    },
    {
      "cell_type": "code",
      "metadata": {
        "colab": {
          "base_uri": "https://localhost:8080/",
          "height": 200
        },
        "id": "dcm8pVVBYlrf",
        "outputId": "7e92e3b8-3da7-48d9-a82a-dde5f4e2363c"
      },
      "source": [
        "# melihat sekilas data Initial Audit yang sudah dirapihkan\n",
        "IA.head()"
      ],
      "execution_count": 134,
      "outputs": [
        {
          "output_type": "execute_result",
          "data": {
            "text/html": [
              "<div>\n",
              "<style scoped>\n",
              "    .dataframe tbody tr th:only-of-type {\n",
              "        vertical-align: middle;\n",
              "    }\n",
              "\n",
              "    .dataframe tbody tr th {\n",
              "        vertical-align: top;\n",
              "    }\n",
              "\n",
              "    .dataframe thead th {\n",
              "        text-align: right;\n",
              "    }\n",
              "</style>\n",
              "<table border=\"1\" class=\"dataframe\">\n",
              "  <thead>\n",
              "    <tr style=\"text-align: right;\">\n",
              "      <th></th>\n",
              "      <th>Concatenate</th>\n",
              "      <th>SMS Id</th>\n",
              "      <th>Bar Code</th>\n",
              "      <th>Product Description</th>\n",
              "      <th>Visit Date</th>\n",
              "      <th>RBP</th>\n",
              "      <th>RSP/Price</th>\n",
              "      <th>Stock</th>\n",
              "    </tr>\n",
              "  </thead>\n",
              "  <tbody>\n",
              "    <tr>\n",
              "      <th>0</th>\n",
              "      <td>1609899Djarum Istimewa Soft Coklat Plain 12 St...</td>\n",
              "      <td>1609899</td>\n",
              "      <td>8991906101651</td>\n",
              "      <td>Djarum Istimewa Soft Coklat Plain 12 Stc (Sktb)</td>\n",
              "      <td>2021-07-26</td>\n",
              "      <td>11500</td>\n",
              "      <td>13000</td>\n",
              "      <td>10.0</td>\n",
              "    </tr>\n",
              "    <tr>\n",
              "      <th>1</th>\n",
              "      <td>1609986Gudang Garam Red Soft Kspl 12 Stc (Sktb)</td>\n",
              "      <td>1609986</td>\n",
              "      <td>8998989501125</td>\n",
              "      <td>Gudang Garam Red Soft Kspl 12 Stc (Sktb)</td>\n",
              "      <td>2021-07-26</td>\n",
              "      <td>12500</td>\n",
              "      <td>13000</td>\n",
              "      <td>20.0</td>\n",
              "    </tr>\n",
              "    <tr>\n",
              "      <th>2</th>\n",
              "      <td>1610014Dji Sam Soe Soft Plain 12 Stc (Sktb)</td>\n",
              "      <td>1610014</td>\n",
              "      <td>8999909028234</td>\n",
              "      <td>Dji Sam Soe Soft Plain 12 Stc (Sktb)</td>\n",
              "      <td>2021-07-26</td>\n",
              "      <td>16500</td>\n",
              "      <td>18000</td>\n",
              "      <td>4.0</td>\n",
              "    </tr>\n",
              "    <tr>\n",
              "      <th>3</th>\n",
              "      <td>1610908Dji Sam Soe Soft Plain 12 Stc (Sktb)</td>\n",
              "      <td>1610908</td>\n",
              "      <td>8999909028234</td>\n",
              "      <td>Dji Sam Soe Soft Plain 12 Stc (Sktb)</td>\n",
              "      <td>2021-07-26</td>\n",
              "      <td>16500</td>\n",
              "      <td>18000</td>\n",
              "      <td>5.0</td>\n",
              "    </tr>\n",
              "    <tr>\n",
              "      <th>4</th>\n",
              "      <td>1610908Panamas 1 Soft Plain 12 Stc (Sktb)</td>\n",
              "      <td>1610908</td>\n",
              "      <td>8999909039124</td>\n",
              "      <td>Panamas 1 Soft Plain 12 Stc (Sktb)</td>\n",
              "      <td>2021-07-26</td>\n",
              "      <td>12500</td>\n",
              "      <td>14000</td>\n",
              "      <td>10.0</td>\n",
              "    </tr>\n",
              "  </tbody>\n",
              "</table>\n",
              "</div>"
            ],
            "text/plain": [
              "                                         Concatenate   SMS Id  ...  RSP/Price Stock\n",
              "0  1609899Djarum Istimewa Soft Coklat Plain 12 St...  1609899  ...      13000  10.0\n",
              "1    1609986Gudang Garam Red Soft Kspl 12 Stc (Sktb)  1609986  ...      13000  20.0\n",
              "2        1610014Dji Sam Soe Soft Plain 12 Stc (Sktb)  1610014  ...      18000   4.0\n",
              "3        1610908Dji Sam Soe Soft Plain 12 Stc (Sktb)  1610908  ...      18000   5.0\n",
              "4          1610908Panamas 1 Soft Plain 12 Stc (Sktb)  1610908  ...      14000  10.0\n",
              "\n",
              "[5 rows x 8 columns]"
            ]
          },
          "metadata": {},
          "execution_count": 134
        }
      ]
    },
    {
      "cell_type": "code",
      "metadata": {
        "id": "k069RySQmzvd",
        "colab": {
          "base_uri": "https://localhost:8080/"
        },
        "outputId": "20fa3f32-fb9a-4d69-cb53-c27a0b66029f"
      },
      "source": [
        "# membuat format untuk di merge dengan table lainnya\n",
        "m_IA = IA.copy()\n",
        "# mengganti nama kolom agar sesuai dengan yg diinginkan\n",
        "m_IA.columns = m_IA.columns.str.replace('Visit Date', 'IA').str.replace('RBP', 'RBP_IA').str.replace('RSP/Price','RSP_IA').str.replace('Stock','Stock_IA')\n",
        "m_IA.columns"
      ],
      "execution_count": 135,
      "outputs": [
        {
          "output_type": "execute_result",
          "data": {
            "text/plain": [
              "Index(['Concatenate', 'SMS Id', 'Bar Code', 'Product Description', 'IA',\n",
              "       'RBP_IA', 'RSP_IA', 'Stock_IA'],\n",
              "      dtype='object')"
            ]
          },
          "metadata": {},
          "execution_count": 135
        }
      ]
    },
    {
      "cell_type": "markdown",
      "metadata": {
        "id": "hE1gqrh79FRZ"
      },
      "source": [
        "## Retail Audit 1 (week 2)"
      ]
    },
    {
      "cell_type": "code",
      "metadata": {
        "id": "dRZ5SBXncRlE"
      },
      "source": [
        "RA1 = pd.read_excel('gdrive/My Drive/JACOB/Data Clean Jacob 2021 Week 2 (RA1).xlsx','Data Clean')\n",
        "RA1 = RA1.fillna(0)"
      ],
      "execution_count": 136,
      "outputs": []
    },
    {
      "cell_type": "code",
      "metadata": {
        "id": "KDm9xrpyXPrf"
      },
      "source": [
        "RA1['Visit Date'] = RA1['Visit Date'].str.replace('Agu','Aug')\n",
        "RA1['Visit Date'] = pd.to_datetime(RA1['Visit Date'])"
      ],
      "execution_count": 137,
      "outputs": []
    },
    {
      "cell_type": "code",
      "metadata": {
        "id": "S30wCW6-5Iup"
      },
      "source": [
        "RA1['Stock'] = RA1['Shop/Front Stock']+RA1['Other Stock']\n",
        "RA1['Purchase'] = RA1['Direct Purchase(Pur1)']+RA1['Missing invoice(Pur3)']+RA1['Missing Stock']-RA1['Double Count']-RA1['Goods Returned']\n",
        "RA1.insert(0, 'Concatenate', RA1['SMS Id'].astype('str')+RA1['Product Description'])"
      ],
      "execution_count": 138,
      "outputs": []
    },
    {
      "cell_type": "code",
      "metadata": {
        "id": "4vg2RyXmqbmL"
      },
      "source": [
        "RA1 = RA1.drop(['Country Id', 'Country Name', 'Auditor Id', 'Resource Name','Instruction Id', \n",
        "            'Category Id', 'Category Name', 'Module Name','Entity Id','Original Fact Value',\n",
        "            'Cluster Id','alternate audit methodology','Shop/Front Stock','Other Stock',\n",
        "            'Direct Purchase(Pur1)','Double Count', 'Goods Returned', 'Missing invoice(Pur3)',\n",
        "            'Missing Stock','Audit Status'], axis=1)\n",
        "RA1.columns = RA1.columns.str.replace('Number Of Observation by Type of Observation','RBP')"
      ],
      "execution_count": 139,
      "outputs": []
    },
    {
      "cell_type": "code",
      "metadata": {
        "id": "EobcBeDEWb9t",
        "colab": {
          "base_uri": "https://localhost:8080/",
          "height": 51
        },
        "outputId": "ad3212d8-4833-4066-8982-d1403ade14de"
      },
      "source": [
        "'''new_IA = IA[['SMS Id','Visit Date']].drop_duplicates()\n",
        "new_IA.columns = new_IA.columns.str.replace('Visit Date', 'Prev_Visit Date')\n",
        "new2_IA = IA[['Concatenate','Stock']]\n",
        "new2_IA.columns = new2_IA.columns.str.replace('Stock', 'Prev_Stock')'''"
      ],
      "execution_count": 140,
      "outputs": [
        {
          "output_type": "execute_result",
          "data": {
            "application/vnd.google.colaboratory.intrinsic+json": {
              "type": "string"
            },
            "text/plain": [
              "\"new_IA = IA[['SMS Id','Visit Date']].drop_duplicates()\\nnew_IA.columns = new_IA.columns.str.replace('Visit Date', 'Prev_Visit Date')\\nnew2_IA = IA[['Concatenate','Stock']]\\nnew2_IA.columns = new2_IA.columns.str.replace('Stock', 'Prev_Stock')\""
            ]
          },
          "metadata": {},
          "execution_count": 140
        }
      ]
    },
    {
      "cell_type": "code",
      "metadata": {
        "id": "w1xMeFI9wheS",
        "colab": {
          "base_uri": "https://localhost:8080/",
          "height": 35
        },
        "outputId": "3e67776c-62fb-4b49-a6df-f4f4769c212d"
      },
      "source": [
        "'''RA1 = RA1.merge(new_IA, on='SMS Id')\n",
        "RA1 = RA1.merge(new2_IA, on='Concatenate')'''"
      ],
      "execution_count": 141,
      "outputs": [
        {
          "output_type": "execute_result",
          "data": {
            "application/vnd.google.colaboratory.intrinsic+json": {
              "type": "string"
            },
            "text/plain": [
              "\"RA1 = RA1.merge(new_IA, on='SMS Id')\\nRA1 = RA1.merge(new2_IA, on='Concatenate')\""
            ]
          },
          "metadata": {},
          "execution_count": 141
        }
      ]
    },
    {
      "cell_type": "code",
      "metadata": {
        "id": "ebbUU7pA9cPl"
      },
      "source": [
        "#RA1['Recheck_Sales'] = RA1['Prev_Stock']+RA1['Purchase']-RA1['Stock']"
      ],
      "execution_count": 142,
      "outputs": []
    },
    {
      "cell_type": "code",
      "metadata": {
        "id": "yPFEtOI2-a7q"
      },
      "source": [
        "#RA1[RA1['Recheck_Sales']-RA1['Sales']!=0]"
      ],
      "execution_count": 143,
      "outputs": []
    },
    {
      "cell_type": "code",
      "metadata": {
        "colab": {
          "base_uri": "https://localhost:8080/"
        },
        "id": "Q9SsXf6hobtW",
        "outputId": "c209c8c1-3e23-4c3c-a3fc-eca1a02b0665"
      },
      "source": [
        "# membuat format untuk di merge dengan table lainnya\n",
        "m_RA1 = RA1.copy()\n",
        "# mengganti nama kolom agar sesuai dengan yg diinginkan\n",
        "m_RA1.columns = m_RA1.columns.str.replace('Visit Date', 'RA1').str.replace('RBP', 'RBP_RA1').str.replace('RSP/Price','RSP_RA1').str.replace('Stock','Stock_RA1').str.replace('Purchase','Purchase_RA1')\n",
        "m_RA1.columns"
      ],
      "execution_count": 144,
      "outputs": [
        {
          "output_type": "execute_result",
          "data": {
            "text/plain": [
              "Index(['Concatenate', 'SMS Id', 'Bar Code', 'Product Description', 'RA1',\n",
              "       'RBP_RA1', 'RSP_RA1', 'Sales', 'Stock_RA1', 'Purchase_RA1'],\n",
              "      dtype='object')"
            ]
          },
          "metadata": {},
          "execution_count": 144
        }
      ]
    },
    {
      "cell_type": "markdown",
      "metadata": {
        "id": "M2LWKGR-9AZD"
      },
      "source": [
        "## Retail Audit 2 (week 3)"
      ]
    },
    {
      "cell_type": "code",
      "metadata": {
        "id": "yg2CmnZLcX3k"
      },
      "source": [
        "RA2 = pd.read_excel('gdrive/My Drive/JACOB/Data Clean Jacob 2021 Week 3 (RA2).xlsx','Data Clean')\n",
        "RA2 = RA2.fillna(0)"
      ],
      "execution_count": 145,
      "outputs": []
    },
    {
      "cell_type": "code",
      "metadata": {
        "id": "JVWjOPsZYD9n"
      },
      "source": [
        "RA2['Visit Date'] = RA2['Visit Date'].str.replace('Agu','Aug')\n",
        "RA2['Visit Date'] = pd.to_datetime(RA2['Visit Date'])"
      ],
      "execution_count": 146,
      "outputs": []
    },
    {
      "cell_type": "code",
      "metadata": {
        "id": "dDkkjqcjQrR4",
        "colab": {
          "base_uri": "https://localhost:8080/",
          "height": 0
        },
        "outputId": "f7a3db97-3423-4e93-bec9-2598ae960633"
      },
      "source": [
        "RA2.head()"
      ],
      "execution_count": 147,
      "outputs": [
        {
          "output_type": "execute_result",
          "data": {
            "text/html": [
              "<div>\n",
              "<style scoped>\n",
              "    .dataframe tbody tr th:only-of-type {\n",
              "        vertical-align: middle;\n",
              "    }\n",
              "\n",
              "    .dataframe tbody tr th {\n",
              "        vertical-align: top;\n",
              "    }\n",
              "\n",
              "    .dataframe thead th {\n",
              "        text-align: right;\n",
              "    }\n",
              "</style>\n",
              "<table border=\"1\" class=\"dataframe\">\n",
              "  <thead>\n",
              "    <tr style=\"text-align: right;\">\n",
              "      <th></th>\n",
              "      <th>Country Id</th>\n",
              "      <th>Country Name</th>\n",
              "      <th>Auditor Id</th>\n",
              "      <th>Resource Name</th>\n",
              "      <th>SMS Id</th>\n",
              "      <th>Instruction Id</th>\n",
              "      <th>Category Id</th>\n",
              "      <th>Category Name</th>\n",
              "      <th>Module Name</th>\n",
              "      <th>Entity Id</th>\n",
              "      <th>Bar Code</th>\n",
              "      <th>Product Description</th>\n",
              "      <th>Visit Date</th>\n",
              "      <th>Audit Status</th>\n",
              "      <th>Original Fact Value</th>\n",
              "      <th>Cluster Id</th>\n",
              "      <th>alternate audit methodology</th>\n",
              "      <th>Number Of Observation by Type of Observation</th>\n",
              "      <th>RSP/Price</th>\n",
              "      <th>PREIVIOUS STOCK</th>\n",
              "      <th>Shop/Front Stock</th>\n",
              "      <th>Other Stock</th>\n",
              "      <th>Direct Purchase(Pur1)</th>\n",
              "      <th>Double Count</th>\n",
              "      <th>Goods Returned</th>\n",
              "      <th>Missing invoice(Pur3)</th>\n",
              "      <th>Missing Stock</th>\n",
              "      <th>Sales</th>\n",
              "      <th>Sales_W2</th>\n",
              "      <th>Item Comment</th>\n",
              "    </tr>\n",
              "  </thead>\n",
              "  <tbody>\n",
              "    <tr>\n",
              "      <th>0</th>\n",
              "      <td>360</td>\n",
              "      <td>INDONESIA</td>\n",
              "      <td>316595</td>\n",
              "      <td>Supri Yanto</td>\n",
              "      <td>1610063</td>\n",
              "      <td>122780577</td>\n",
              "      <td>8</td>\n",
              "      <td>Cigarette</td>\n",
              "      <td>Cigarette</td>\n",
              "      <td>80228</td>\n",
              "      <td>8999909028234</td>\n",
              "      <td>Dji Sam Soe Soft Plain 12 Stc (Sktb)</td>\n",
              "      <td>2021-08-09</td>\n",
              "      <td>AUDIT COMPLETE</td>\n",
              "      <td>(blank)</td>\n",
              "      <td>742047</td>\n",
              "      <td>0.0</td>\n",
              "      <td>15800.0</td>\n",
              "      <td>18000.0</td>\n",
              "      <td>20.0</td>\n",
              "      <td>20.0</td>\n",
              "      <td>0.0</td>\n",
              "      <td>0.0</td>\n",
              "      <td>0.0</td>\n",
              "      <td>0.0</td>\n",
              "      <td>10.0</td>\n",
              "      <td>0.0</td>\n",
              "      <td>10</td>\n",
              "      <td>10.0</td>\n",
              "      <td>0</td>\n",
              "    </tr>\n",
              "    <tr>\n",
              "      <th>1</th>\n",
              "      <td>360</td>\n",
              "      <td>INDONESIA</td>\n",
              "      <td>316595</td>\n",
              "      <td>Supri Yanto</td>\n",
              "      <td>1610063</td>\n",
              "      <td>122780577</td>\n",
              "      <td>8</td>\n",
              "      <td>Cigarette</td>\n",
              "      <td>Cigarette</td>\n",
              "      <td>80255</td>\n",
              "      <td>8999909039124</td>\n",
              "      <td>Panamas 1 Soft Plain 12 Stc (Sktb)</td>\n",
              "      <td>2021-08-09</td>\n",
              "      <td>AUDIT COMPLETE</td>\n",
              "      <td>(blank)</td>\n",
              "      <td>742047</td>\n",
              "      <td>0.0</td>\n",
              "      <td>11900.0</td>\n",
              "      <td>13000.0</td>\n",
              "      <td>10.0</td>\n",
              "      <td>10.0</td>\n",
              "      <td>0.0</td>\n",
              "      <td>0.0</td>\n",
              "      <td>0.0</td>\n",
              "      <td>0.0</td>\n",
              "      <td>10.0</td>\n",
              "      <td>0.0</td>\n",
              "      <td>10</td>\n",
              "      <td>20.0</td>\n",
              "      <td>COVID - Sales turun karena kekurangan pasokan</td>\n",
              "    </tr>\n",
              "    <tr>\n",
              "      <th>2</th>\n",
              "      <td>360</td>\n",
              "      <td>INDONESIA</td>\n",
              "      <td>316595</td>\n",
              "      <td>Supri Yanto</td>\n",
              "      <td>1610063</td>\n",
              "      <td>122780577</td>\n",
              "      <td>8</td>\n",
              "      <td>Cigarette</td>\n",
              "      <td>Cigarette</td>\n",
              "      <td>80271</td>\n",
              "      <td>8991906101651</td>\n",
              "      <td>Djarum Istimewa Soft Coklat Plain 12 Stc (Sktb)</td>\n",
              "      <td>2021-08-09</td>\n",
              "      <td>AUDIT COMPLETE</td>\n",
              "      <td>(blank)</td>\n",
              "      <td>742047</td>\n",
              "      <td>0.0</td>\n",
              "      <td>12000.0</td>\n",
              "      <td>14000.0</td>\n",
              "      <td>20.0</td>\n",
              "      <td>20.0</td>\n",
              "      <td>0.0</td>\n",
              "      <td>0.0</td>\n",
              "      <td>0.0</td>\n",
              "      <td>0.0</td>\n",
              "      <td>10.0</td>\n",
              "      <td>0.0</td>\n",
              "      <td>10</td>\n",
              "      <td>10.0</td>\n",
              "      <td>0</td>\n",
              "    </tr>\n",
              "    <tr>\n",
              "      <th>3</th>\n",
              "      <td>360</td>\n",
              "      <td>INDONESIA</td>\n",
              "      <td>316595</td>\n",
              "      <td>Supri Yanto</td>\n",
              "      <td>1610063</td>\n",
              "      <td>122780577</td>\n",
              "      <td>8</td>\n",
              "      <td>Cigarette</td>\n",
              "      <td>Cigarette</td>\n",
              "      <td>80322</td>\n",
              "      <td>8998989501125</td>\n",
              "      <td>Gudang Garam Red Soft Kspl 12 Stc (Sktb)</td>\n",
              "      <td>2021-08-09</td>\n",
              "      <td>AUDIT COMPLETE</td>\n",
              "      <td>(blank)</td>\n",
              "      <td>742047</td>\n",
              "      <td>0.0</td>\n",
              "      <td>12200.0</td>\n",
              "      <td>14000.0</td>\n",
              "      <td>20.0</td>\n",
              "      <td>20.0</td>\n",
              "      <td>0.0</td>\n",
              "      <td>0.0</td>\n",
              "      <td>0.0</td>\n",
              "      <td>0.0</td>\n",
              "      <td>10.0</td>\n",
              "      <td>0.0</td>\n",
              "      <td>10</td>\n",
              "      <td>10.0</td>\n",
              "      <td>0</td>\n",
              "    </tr>\n",
              "    <tr>\n",
              "      <th>4</th>\n",
              "      <td>360</td>\n",
              "      <td>INDONESIA</td>\n",
              "      <td>316595</td>\n",
              "      <td>Supri Yanto</td>\n",
              "      <td>1610063</td>\n",
              "      <td>122780577</td>\n",
              "      <td>8</td>\n",
              "      <td>Cigarette</td>\n",
              "      <td>Cigarette</td>\n",
              "      <td>86810</td>\n",
              "      <td>8997234650021</td>\n",
              "      <td>Dados Brown Soft Plain 12 Stc (Sktb)</td>\n",
              "      <td>2021-08-09</td>\n",
              "      <td>AUDIT COMPLETE</td>\n",
              "      <td>(blank)</td>\n",
              "      <td>742047</td>\n",
              "      <td>0.0</td>\n",
              "      <td>5500.0</td>\n",
              "      <td>6500.0</td>\n",
              "      <td>20.0</td>\n",
              "      <td>20.0</td>\n",
              "      <td>0.0</td>\n",
              "      <td>0.0</td>\n",
              "      <td>0.0</td>\n",
              "      <td>0.0</td>\n",
              "      <td>50.0</td>\n",
              "      <td>0.0</td>\n",
              "      <td>50</td>\n",
              "      <td>20.0</td>\n",
              "      <td>COVID - Sales naik, banyak permintaan produk/k...</td>\n",
              "    </tr>\n",
              "  </tbody>\n",
              "</table>\n",
              "</div>"
            ],
            "text/plain": [
              "   Country Id  ...                                       Item Comment\n",
              "0         360  ...                                                  0\n",
              "1         360  ...      COVID - Sales turun karena kekurangan pasokan\n",
              "2         360  ...                                                  0\n",
              "3         360  ...                                                  0\n",
              "4         360  ...  COVID - Sales naik, banyak permintaan produk/k...\n",
              "\n",
              "[5 rows x 30 columns]"
            ]
          },
          "metadata": {},
          "execution_count": 147
        }
      ]
    },
    {
      "cell_type": "code",
      "metadata": {
        "id": "sFJvlqxwMZ4N"
      },
      "source": [
        "RA2['Stock'] = RA2['Shop/Front Stock']+RA2['Other Stock']\n",
        "RA2['Purchase'] = RA2['Direct Purchase(Pur1)']+RA2['Missing invoice(Pur3)']+RA2['Missing Stock']-RA2['Double Count']-RA2['Goods Returned']\n",
        "RA2.insert(0, 'Concatenate', RA2['SMS Id'].astype('str')+RA2['Product Description'])"
      ],
      "execution_count": 148,
      "outputs": []
    },
    {
      "cell_type": "code",
      "metadata": {
        "id": "Cex9yWFJMZ4N"
      },
      "source": [
        "RA2 = RA2.drop(['Country Id', 'Country Name', 'Auditor Id', 'Resource Name','Instruction Id', \n",
        "            'Category Id', 'Category Name', 'Module Name','Entity Id','Original Fact Value',\n",
        "            'Cluster Id','alternate audit methodology','Shop/Front Stock','Other Stock',\n",
        "            'Direct Purchase(Pur1)','Double Count', 'Goods Returned', 'Missing invoice(Pur3)',\n",
        "            'Missing Stock','PREIVIOUS STOCK','Audit Status'], axis=1)\n",
        "RA2.columns = RA2.columns.str.replace('Number Of Observation by Type of Observation','RBP').str.replace('Sales_W2','Claimed_Sales_RA1(di_RA2)').str.replace('Item Comment','Comment_RA2')"
      ],
      "execution_count": 149,
      "outputs": []
    },
    {
      "cell_type": "code",
      "metadata": {
        "id": "HJy0gYhXMZ4O",
        "colab": {
          "base_uri": "https://localhost:8080/",
          "height": 0
        },
        "outputId": "89ef1c51-91ea-4f11-e086-154a1f7272eb"
      },
      "source": [
        "'''new_RA1 = RA1[['SMS Id','Visit Date']].drop_duplicates()\n",
        "new_RA1.columns = new_RA1.columns.str.replace('Visit Date', 'Prev_Visit Date')\n",
        "new2_RA1 = RA1[['Concatenate','Stock']]\n",
        "new2_RA1.columns = new2_RA1.columns.str.replace('Stock', 'Prev_Stock')'''"
      ],
      "execution_count": 150,
      "outputs": [
        {
          "output_type": "execute_result",
          "data": {
            "application/vnd.google.colaboratory.intrinsic+json": {
              "type": "string"
            },
            "text/plain": [
              "\"new_RA1 = RA1[['SMS Id','Visit Date']].drop_duplicates()\\nnew_RA1.columns = new_RA1.columns.str.replace('Visit Date', 'Prev_Visit Date')\\nnew2_RA1 = RA1[['Concatenate','Stock']]\\nnew2_RA1.columns = new2_RA1.columns.str.replace('Stock', 'Prev_Stock')\""
            ]
          },
          "metadata": {},
          "execution_count": 150
        }
      ]
    },
    {
      "cell_type": "code",
      "metadata": {
        "id": "TMsegRGYMZ4O",
        "colab": {
          "base_uri": "https://localhost:8080/",
          "height": 0
        },
        "outputId": "9be20566-6411-4250-8e0a-7374321ac772"
      },
      "source": [
        "'''RA2 = RA2.merge(new_RA1, on='SMS Id')\n",
        "RA2 = RA2.merge(new2_RA1, on='Concatenate')'''"
      ],
      "execution_count": 151,
      "outputs": [
        {
          "output_type": "execute_result",
          "data": {
            "application/vnd.google.colaboratory.intrinsic+json": {
              "type": "string"
            },
            "text/plain": [
              "\"RA2 = RA2.merge(new_RA1, on='SMS Id')\\nRA2 = RA2.merge(new2_RA1, on='Concatenate')\""
            ]
          },
          "metadata": {},
          "execution_count": 151
        }
      ]
    },
    {
      "cell_type": "code",
      "metadata": {
        "id": "EfYko72BMZ4O"
      },
      "source": [
        "#RA2['Recheck_Sales'] = RA2['Prev_Stock']+RA2['Purchase']-RA2['Stock']"
      ],
      "execution_count": 152,
      "outputs": []
    },
    {
      "cell_type": "code",
      "metadata": {
        "id": "qQfpj_tmMZ4O"
      },
      "source": [
        "#RA2[RA2['Recheck_Sales']-RA2['Sales']!=0]"
      ],
      "execution_count": 153,
      "outputs": []
    },
    {
      "cell_type": "code",
      "metadata": {
        "id": "l_zVJWVeqCrN",
        "colab": {
          "base_uri": "https://localhost:8080/"
        },
        "outputId": "13686cfa-51e6-4153-f479-5a49dc1e15aa"
      },
      "source": [
        "# membuat format untuk di merge dengan table lainnya\n",
        "m_RA2 = RA2.copy()\n",
        "# mengganti nama kolom agar sesuai dengan yg diinginkan\n",
        "m_RA2.columns = m_RA2.columns.str.replace('Visit Date', 'RA2').str.replace('RBP', 'RBP_RA2').str.replace('RSP/Price','RSP_RA2').str.replace('Stock','Stock_RA2').str.replace('Purchase','Purchase_RA2')\n",
        "m_RA2.shape"
      ],
      "execution_count": 154,
      "outputs": [
        {
          "output_type": "execute_result",
          "data": {
            "text/plain": [
              "(1749, 12)"
            ]
          },
          "metadata": {},
          "execution_count": 154
        }
      ]
    },
    {
      "cell_type": "markdown",
      "metadata": {
        "id": "OirS5nnBVOBw"
      },
      "source": [
        "## Retail Audit 3 (week 4)"
      ]
    },
    {
      "cell_type": "code",
      "metadata": {
        "id": "mBcmdtWncc_M"
      },
      "source": [
        "RA3 = pd.read_excel('gdrive/My Drive/JACOB/Data Clean Jacob 2021 Week 4 (RA3).xlsx','Data Clean')\n",
        "RA3 = RA3.fillna(0)"
      ],
      "execution_count": 155,
      "outputs": []
    },
    {
      "cell_type": "code",
      "metadata": {
        "id": "XB2-5WrmYPAO"
      },
      "source": [
        "RA3['Visit Date'] = RA3['Visit Date'].str.replace('Agu','Aug')\n",
        "RA3['Visit Date'] = pd.to_datetime(RA3['Visit Date'])"
      ],
      "execution_count": 156,
      "outputs": []
    },
    {
      "cell_type": "code",
      "metadata": {
        "id": "GI0QQqI0Vgri"
      },
      "source": [
        "RA3['Stock'] = RA3['Shop/Front Stock']+RA3['Other Stock']\n",
        "RA3['Purchase'] = RA3['Direct Purchase(Pur1)']+RA3['Missing invoice(Pur3)']+RA3['Missing Stock']-RA3['Double Count']-RA3['Goods Returned']\n",
        "RA3.insert(0, 'Concatenate', RA3['SMS Id'].astype('str')+RA3['Product Description'])"
      ],
      "execution_count": 157,
      "outputs": []
    },
    {
      "cell_type": "code",
      "metadata": {
        "colab": {
          "base_uri": "https://localhost:8080/",
          "height": 496
        },
        "id": "4G3fISWIVqzz",
        "outputId": "73d41837-9c23-4777-d3c7-82a97c3bea91"
      },
      "source": [
        "RA3.head()"
      ],
      "execution_count": 158,
      "outputs": [
        {
          "output_type": "execute_result",
          "data": {
            "text/html": [
              "<div>\n",
              "<style scoped>\n",
              "    .dataframe tbody tr th:only-of-type {\n",
              "        vertical-align: middle;\n",
              "    }\n",
              "\n",
              "    .dataframe tbody tr th {\n",
              "        vertical-align: top;\n",
              "    }\n",
              "\n",
              "    .dataframe thead th {\n",
              "        text-align: right;\n",
              "    }\n",
              "</style>\n",
              "<table border=\"1\" class=\"dataframe\">\n",
              "  <thead>\n",
              "    <tr style=\"text-align: right;\">\n",
              "      <th></th>\n",
              "      <th>Concatenate</th>\n",
              "      <th>Country Id</th>\n",
              "      <th>Country Name</th>\n",
              "      <th>Auditor Id</th>\n",
              "      <th>Resource Name</th>\n",
              "      <th>SMS Id</th>\n",
              "      <th>Instruction Id</th>\n",
              "      <th>Category Id</th>\n",
              "      <th>Category Name</th>\n",
              "      <th>Module Name</th>\n",
              "      <th>Entity Id</th>\n",
              "      <th>Bar Code</th>\n",
              "      <th>Product Description</th>\n",
              "      <th>Visit Date</th>\n",
              "      <th>Audit Status</th>\n",
              "      <th>Original Fact Value</th>\n",
              "      <th>Cluster Id</th>\n",
              "      <th>alternate audit methodology</th>\n",
              "      <th>Price To Retailer</th>\n",
              "      <th>RSP/Price</th>\n",
              "      <th>PREIVIOUS STOCK</th>\n",
              "      <th>Shop/Front Stock</th>\n",
              "      <th>Other Stock</th>\n",
              "      <th>Direct Purchase(Pur1)</th>\n",
              "      <th>Double Count</th>\n",
              "      <th>Goods Returned</th>\n",
              "      <th>Missing invoice(Pur3)</th>\n",
              "      <th>Missing Stock</th>\n",
              "      <th>Sales</th>\n",
              "      <th>Sales_W3</th>\n",
              "      <th>Sales_W2</th>\n",
              "      <th>Item Comment</th>\n",
              "      <th>Stock</th>\n",
              "      <th>Purchase</th>\n",
              "    </tr>\n",
              "  </thead>\n",
              "  <tbody>\n",
              "    <tr>\n",
              "      <th>0</th>\n",
              "      <td>1610063Dji Sam Soe Soft Plain 12 Stc (Sktb)</td>\n",
              "      <td>360</td>\n",
              "      <td>INDONESIA</td>\n",
              "      <td>316595</td>\n",
              "      <td>Supri Yanto</td>\n",
              "      <td>1610063</td>\n",
              "      <td>122797406</td>\n",
              "      <td>8</td>\n",
              "      <td>Cigarette</td>\n",
              "      <td>Cigarette</td>\n",
              "      <td>80228</td>\n",
              "      <td>8999909028234</td>\n",
              "      <td>Dji Sam Soe Soft Plain 12 Stc (Sktb)</td>\n",
              "      <td>2021-08-16</td>\n",
              "      <td>AUDIT COMPLETE</td>\n",
              "      <td>(blank)</td>\n",
              "      <td>742047</td>\n",
              "      <td>0.0</td>\n",
              "      <td>15800.0</td>\n",
              "      <td>18000.0</td>\n",
              "      <td>20.0</td>\n",
              "      <td>20.0</td>\n",
              "      <td>0.0</td>\n",
              "      <td>0.0</td>\n",
              "      <td>0.0</td>\n",
              "      <td>0.0</td>\n",
              "      <td>10.0</td>\n",
              "      <td>0.0</td>\n",
              "      <td>10</td>\n",
              "      <td>10.0</td>\n",
              "      <td>10.0</td>\n",
              "      <td>0</td>\n",
              "      <td>20.0</td>\n",
              "      <td>10.0</td>\n",
              "    </tr>\n",
              "    <tr>\n",
              "      <th>1</th>\n",
              "      <td>1610063Panamas 1 Soft Plain 12 Stc (Sktb)</td>\n",
              "      <td>360</td>\n",
              "      <td>INDONESIA</td>\n",
              "      <td>316595</td>\n",
              "      <td>Supri Yanto</td>\n",
              "      <td>1610063</td>\n",
              "      <td>122797406</td>\n",
              "      <td>8</td>\n",
              "      <td>Cigarette</td>\n",
              "      <td>Cigarette</td>\n",
              "      <td>80255</td>\n",
              "      <td>8999909039124</td>\n",
              "      <td>Panamas 1 Soft Plain 12 Stc (Sktb)</td>\n",
              "      <td>2021-08-16</td>\n",
              "      <td>AUDIT COMPLETE</td>\n",
              "      <td>(blank)</td>\n",
              "      <td>742047</td>\n",
              "      <td>0.0</td>\n",
              "      <td>11900.0</td>\n",
              "      <td>13000.0</td>\n",
              "      <td>10.0</td>\n",
              "      <td>10.0</td>\n",
              "      <td>0.0</td>\n",
              "      <td>0.0</td>\n",
              "      <td>0.0</td>\n",
              "      <td>0.0</td>\n",
              "      <td>20.0</td>\n",
              "      <td>0.0</td>\n",
              "      <td>20</td>\n",
              "      <td>10.0</td>\n",
              "      <td>20.0</td>\n",
              "      <td>COVID - Sales naik, banyak permintaan produk/k...</td>\n",
              "      <td>10.0</td>\n",
              "      <td>20.0</td>\n",
              "    </tr>\n",
              "    <tr>\n",
              "      <th>2</th>\n",
              "      <td>1610063Djarum Istimewa Soft Coklat Plain 12 St...</td>\n",
              "      <td>360</td>\n",
              "      <td>INDONESIA</td>\n",
              "      <td>316595</td>\n",
              "      <td>Supri Yanto</td>\n",
              "      <td>1610063</td>\n",
              "      <td>122797406</td>\n",
              "      <td>8</td>\n",
              "      <td>Cigarette</td>\n",
              "      <td>Cigarette</td>\n",
              "      <td>80271</td>\n",
              "      <td>8991906101651</td>\n",
              "      <td>Djarum Istimewa Soft Coklat Plain 12 Stc (Sktb)</td>\n",
              "      <td>2021-08-16</td>\n",
              "      <td>AUDIT COMPLETE</td>\n",
              "      <td>(blank)</td>\n",
              "      <td>742047</td>\n",
              "      <td>0.0</td>\n",
              "      <td>12000.0</td>\n",
              "      <td>14000.0</td>\n",
              "      <td>20.0</td>\n",
              "      <td>20.0</td>\n",
              "      <td>0.0</td>\n",
              "      <td>0.0</td>\n",
              "      <td>0.0</td>\n",
              "      <td>0.0</td>\n",
              "      <td>10.0</td>\n",
              "      <td>0.0</td>\n",
              "      <td>10</td>\n",
              "      <td>10.0</td>\n",
              "      <td>10.0</td>\n",
              "      <td>0</td>\n",
              "      <td>20.0</td>\n",
              "      <td>10.0</td>\n",
              "    </tr>\n",
              "    <tr>\n",
              "      <th>3</th>\n",
              "      <td>1610063Gudang Garam Red Soft Kspl 12 Stc (Sktb)</td>\n",
              "      <td>360</td>\n",
              "      <td>INDONESIA</td>\n",
              "      <td>316595</td>\n",
              "      <td>Supri Yanto</td>\n",
              "      <td>1610063</td>\n",
              "      <td>122797406</td>\n",
              "      <td>8</td>\n",
              "      <td>Cigarette</td>\n",
              "      <td>Cigarette</td>\n",
              "      <td>80322</td>\n",
              "      <td>8998989501125</td>\n",
              "      <td>Gudang Garam Red Soft Kspl 12 Stc (Sktb)</td>\n",
              "      <td>2021-08-16</td>\n",
              "      <td>AUDIT COMPLETE</td>\n",
              "      <td>(blank)</td>\n",
              "      <td>742047</td>\n",
              "      <td>0.0</td>\n",
              "      <td>0.0</td>\n",
              "      <td>0.0</td>\n",
              "      <td>20.0</td>\n",
              "      <td>0.0</td>\n",
              "      <td>0.0</td>\n",
              "      <td>0.0</td>\n",
              "      <td>0.0</td>\n",
              "      <td>0.0</td>\n",
              "      <td>0.0</td>\n",
              "      <td>0.0</td>\n",
              "      <td>20</td>\n",
              "      <td>10.0</td>\n",
              "      <td>10.0</td>\n",
              "      <td>COVID - Sales naik, banyak permintaan produk/k...</td>\n",
              "      <td>0.0</td>\n",
              "      <td>0.0</td>\n",
              "    </tr>\n",
              "    <tr>\n",
              "      <th>4</th>\n",
              "      <td>1610063Dados Brown Soft Plain 12 Stc (Sktb)</td>\n",
              "      <td>360</td>\n",
              "      <td>INDONESIA</td>\n",
              "      <td>316595</td>\n",
              "      <td>Supri Yanto</td>\n",
              "      <td>1610063</td>\n",
              "      <td>122797406</td>\n",
              "      <td>8</td>\n",
              "      <td>Cigarette</td>\n",
              "      <td>Cigarette</td>\n",
              "      <td>86810</td>\n",
              "      <td>8997234650021</td>\n",
              "      <td>Dados Brown Soft Plain 12 Stc (Sktb)</td>\n",
              "      <td>2021-08-16</td>\n",
              "      <td>AUDIT COMPLETE</td>\n",
              "      <td>(blank)</td>\n",
              "      <td>742047</td>\n",
              "      <td>0.0</td>\n",
              "      <td>5500.0</td>\n",
              "      <td>6500.0</td>\n",
              "      <td>20.0</td>\n",
              "      <td>20.0</td>\n",
              "      <td>0.0</td>\n",
              "      <td>0.0</td>\n",
              "      <td>0.0</td>\n",
              "      <td>0.0</td>\n",
              "      <td>50.0</td>\n",
              "      <td>0.0</td>\n",
              "      <td>50</td>\n",
              "      <td>50.0</td>\n",
              "      <td>20.0</td>\n",
              "      <td>0</td>\n",
              "      <td>20.0</td>\n",
              "      <td>50.0</td>\n",
              "    </tr>\n",
              "  </tbody>\n",
              "</table>\n",
              "</div>"
            ],
            "text/plain": [
              "                                         Concatenate  ...  Purchase\n",
              "0        1610063Dji Sam Soe Soft Plain 12 Stc (Sktb)  ...      10.0\n",
              "1          1610063Panamas 1 Soft Plain 12 Stc (Sktb)  ...      20.0\n",
              "2  1610063Djarum Istimewa Soft Coklat Plain 12 St...  ...      10.0\n",
              "3    1610063Gudang Garam Red Soft Kspl 12 Stc (Sktb)  ...       0.0\n",
              "4        1610063Dados Brown Soft Plain 12 Stc (Sktb)  ...      50.0\n",
              "\n",
              "[5 rows x 34 columns]"
            ]
          },
          "metadata": {},
          "execution_count": 158
        }
      ]
    },
    {
      "cell_type": "code",
      "metadata": {
        "id": "-DbKKMfPDTWh"
      },
      "source": [
        "RA3 = RA3.drop(['Country Id', 'Country Name', 'Auditor Id', 'Resource Name','Instruction Id', \n",
        "            'Category Id', 'Category Name', 'Module Name','Entity Id','Original Fact Value',\n",
        "            'Cluster Id','alternate audit methodology','Shop/Front Stock','Other Stock',\n",
        "            'Direct Purchase(Pur1)','Double Count', 'Goods Returned', 'Missing invoice(Pur3)',\n",
        "            'Missing Stock','PREIVIOUS STOCK','Audit Status'], axis=1)"
      ],
      "execution_count": 159,
      "outputs": []
    },
    {
      "cell_type": "code",
      "metadata": {
        "id": "AIS6avueBmfR",
        "outputId": "22ad3e33-081d-4002-b594-7ec559f1e1d5",
        "colab": {
          "base_uri": "https://localhost:8080/"
        }
      },
      "source": [
        "RA3.columns"
      ],
      "execution_count": 160,
      "outputs": [
        {
          "output_type": "execute_result",
          "data": {
            "text/plain": [
              "Index(['Concatenate', 'SMS Id', 'Bar Code', 'Product Description',\n",
              "       'Visit Date', 'Price To Retailer', 'RSP/Price', 'Sales', 'Sales_W3',\n",
              "       'Sales_W2', 'Item Comment', 'Stock', 'Purchase'],\n",
              "      dtype='object')"
            ]
          },
          "metadata": {},
          "execution_count": 160
        }
      ]
    },
    {
      "cell_type": "code",
      "metadata": {
        "id": "N87p8tK5GNWJ"
      },
      "source": [
        "RA3 = RA3.rename(columns = {'Price To Retailer':'RBP', 'Sales':'Claimed_Sales_RA3(di_RA3)',\n",
        "                            'Sales_W2':'Claimed_Sales_RA1(di_RA3)',\n",
        "                            'Sales_W3':'Claimed_Sales_RA2(di_RA3)',\n",
        "                            'Item Comment':'Comment_RA3'})"
      ],
      "execution_count": 161,
      "outputs": []
    },
    {
      "cell_type": "code",
      "metadata": {
        "id": "wJE3URbmVgrj",
        "colab": {
          "base_uri": "https://localhost:8080/",
          "height": 51
        },
        "outputId": "40b7ff8d-d7c6-4c16-8685-75515e45df37"
      },
      "source": [
        "'''new_RA2 = RA2[['SMS Id','Visit Date']].drop_duplicates()\n",
        "new_RA2.columns = new_RA2.columns.str.replace('Visit Date', 'Prev_Visit Date')\n",
        "new2_RA2 = RA2[['Concatenate','Stock']]\n",
        "new2_RA2.columns = new2_RA2.columns.str.replace('Stock', 'Prev_Stock')'''"
      ],
      "execution_count": 162,
      "outputs": [
        {
          "output_type": "execute_result",
          "data": {
            "application/vnd.google.colaboratory.intrinsic+json": {
              "type": "string"
            },
            "text/plain": [
              "\"new_RA2 = RA2[['SMS Id','Visit Date']].drop_duplicates()\\nnew_RA2.columns = new_RA2.columns.str.replace('Visit Date', 'Prev_Visit Date')\\nnew2_RA2 = RA2[['Concatenate','Stock']]\\nnew2_RA2.columns = new2_RA2.columns.str.replace('Stock', 'Prev_Stock')\""
            ]
          },
          "metadata": {},
          "execution_count": 162
        }
      ]
    },
    {
      "cell_type": "code",
      "metadata": {
        "id": "P9PFhT0oVgrj",
        "colab": {
          "base_uri": "https://localhost:8080/",
          "height": 35
        },
        "outputId": "32703484-99fc-4b3d-bf41-d7109ca2bc36"
      },
      "source": [
        "'''RA3 = RA3.merge(new_RA2, on='SMS Id')\n",
        "RA3 = RA3.merge(new2_RA2, on='Concatenate')'''"
      ],
      "execution_count": 163,
      "outputs": [
        {
          "output_type": "execute_result",
          "data": {
            "application/vnd.google.colaboratory.intrinsic+json": {
              "type": "string"
            },
            "text/plain": [
              "\"RA3 = RA3.merge(new_RA2, on='SMS Id')\\nRA3 = RA3.merge(new2_RA2, on='Concatenate')\""
            ]
          },
          "metadata": {},
          "execution_count": 163
        }
      ]
    },
    {
      "cell_type": "code",
      "metadata": {
        "id": "PRPCkYXsVgrk"
      },
      "source": [
        "#RA3['Recheck_Sales'] = RA3['Prev_Stock']+RA3['Purchase']-RA3['Stock']"
      ],
      "execution_count": 164,
      "outputs": []
    },
    {
      "cell_type": "code",
      "metadata": {
        "id": "fVHLRhcpVgrk"
      },
      "source": [
        "#RA3[RA3['Recheck_Sales']-RA3['Sales']!=0]"
      ],
      "execution_count": 165,
      "outputs": []
    },
    {
      "cell_type": "code",
      "metadata": {
        "id": "uLmNVwBnqmCZ"
      },
      "source": [
        "# membuat format untuk di merge dengan table lainnya\n",
        "m_RA3 = RA3.copy()\n",
        "# mengganti nama kolom agar sesuai dengan yg diinginkan\n",
        "m_RA3.columns = m_RA3.columns.str.replace(\n",
        "    'Visit Date', 'RA3').str.replace(\n",
        "        'RBP', 'RBP_RA3').str.replace(\n",
        "            'RSP/Price','RSP_RA3').str.replace(\n",
        "                'Stock','Stock_RA3').str.replace(\n",
        "                    'Purchase','Purchase_RA3')"
      ],
      "execution_count": 166,
      "outputs": []
    },
    {
      "cell_type": "markdown",
      "metadata": {
        "id": "hfNEoHHNDgOm"
      },
      "source": [
        "## Retail Audit 4 (week 5-6)"
      ]
    },
    {
      "cell_type": "code",
      "metadata": {
        "id": "q1qOshoVDpP7"
      },
      "source": [
        "RA4 = pd.read_excel('gdrive/My Drive/JACOB/Data Clean Jacob 2021 Week 6 - CS Version.xlsx','Data Clean')\n",
        "RA4 = RA4.fillna(0)"
      ],
      "execution_count": 167,
      "outputs": []
    },
    {
      "cell_type": "code",
      "metadata": {
        "id": "8aHgApCKDpP7"
      },
      "source": [
        "RA4['Stock'] = RA4['Shop/Front Stock']+RA4['Other Stock']\n",
        "RA4['Purchase'] = RA4['Direct Purchase(Pur1)']+RA4['Missing invoice(Pur3)']+RA4['Missing Stock']-RA4['Double Count']-RA4['Goods Returned']\n",
        "RA4.insert(0, 'Concatenate', RA4['SMS Id'].astype('str')+RA4['Product Description'])"
      ],
      "execution_count": 168,
      "outputs": []
    },
    {
      "cell_type": "code",
      "metadata": {
        "colab": {
          "base_uri": "https://localhost:8080/",
          "height": 577
        },
        "id": "cXYf8BmrDpP8",
        "outputId": "48feeb90-11b4-496e-bae2-010b2c38c932"
      },
      "source": [
        "RA4.head()"
      ],
      "execution_count": 169,
      "outputs": [
        {
          "output_type": "execute_result",
          "data": {
            "text/html": [
              "<div>\n",
              "<style scoped>\n",
              "    .dataframe tbody tr th:only-of-type {\n",
              "        vertical-align: middle;\n",
              "    }\n",
              "\n",
              "    .dataframe tbody tr th {\n",
              "        vertical-align: top;\n",
              "    }\n",
              "\n",
              "    .dataframe thead th {\n",
              "        text-align: right;\n",
              "    }\n",
              "</style>\n",
              "<table border=\"1\" class=\"dataframe\">\n",
              "  <thead>\n",
              "    <tr style=\"text-align: right;\">\n",
              "      <th></th>\n",
              "      <th>Concatenate</th>\n",
              "      <th>Country Id</th>\n",
              "      <th>Country Name</th>\n",
              "      <th>Auditor Id</th>\n",
              "      <th>Resource Name</th>\n",
              "      <th>SMS Id</th>\n",
              "      <th>Instruction Id</th>\n",
              "      <th>Category Id</th>\n",
              "      <th>Category Name</th>\n",
              "      <th>Module Name</th>\n",
              "      <th>Entity Id</th>\n",
              "      <th>Bar Code</th>\n",
              "      <th>Product Description</th>\n",
              "      <th>Visit Date</th>\n",
              "      <th>Audit Status</th>\n",
              "      <th>Original Fact Value</th>\n",
              "      <th>Cluster Id</th>\n",
              "      <th>alternate audit methodology</th>\n",
              "      <th>Price To Retailer</th>\n",
              "      <th>RSP/Price</th>\n",
              "      <th>PREIVIOUS STOCK</th>\n",
              "      <th>Shop/Front Stock</th>\n",
              "      <th>Other Stock</th>\n",
              "      <th>Direct Purchase(Pur1)</th>\n",
              "      <th>Double Count</th>\n",
              "      <th>Goods Returned</th>\n",
              "      <th>Missing invoice(Pur3)</th>\n",
              "      <th>Missing Stock</th>\n",
              "      <th>Sales</th>\n",
              "      <th>Sales_W4&amp;5</th>\n",
              "      <th>Sales_W3</th>\n",
              "      <th>Sales_W2</th>\n",
              "      <th>Item Comment</th>\n",
              "      <th>Stock</th>\n",
              "      <th>Purchase</th>\n",
              "    </tr>\n",
              "  </thead>\n",
              "  <tbody>\n",
              "    <tr>\n",
              "      <th>0</th>\n",
              "      <td>1609895Dji Sam Soe Soft Plain 12 Stc (Sktb)</td>\n",
              "      <td>360</td>\n",
              "      <td>INDONESIA</td>\n",
              "      <td>316595</td>\n",
              "      <td>Supri Yanto</td>\n",
              "      <td>1609895</td>\n",
              "      <td>5433835</td>\n",
              "      <td>198107565</td>\n",
              "      <td>CIGARETTE</td>\n",
              "      <td>CIGARETTE</td>\n",
              "      <td>73047810</td>\n",
              "      <td>8999909028234</td>\n",
              "      <td>Dji Sam Soe Soft Plain 12 Stc (Sktb)</td>\n",
              "      <td>2021-09-02</td>\n",
              "      <td>AUDIT COMPLETE</td>\n",
              "      <td>(blank)</td>\n",
              "      <td>742047</td>\n",
              "      <td>0.0</td>\n",
              "      <td>15800.0</td>\n",
              "      <td>18000.0</td>\n",
              "      <td>2.0</td>\n",
              "      <td>1.0</td>\n",
              "      <td>0.0</td>\n",
              "      <td>0.0</td>\n",
              "      <td>0.0</td>\n",
              "      <td>0.0</td>\n",
              "      <td>40.0</td>\n",
              "      <td>0.0</td>\n",
              "      <td>41</td>\n",
              "      <td>21.0</td>\n",
              "      <td>20.0</td>\n",
              "      <td>22.0</td>\n",
              "      <td>COVID - Sales naik, banyak permintaan produk/k...</td>\n",
              "      <td>1.0</td>\n",
              "      <td>40.0</td>\n",
              "    </tr>\n",
              "    <tr>\n",
              "      <th>1</th>\n",
              "      <td>1609895Apache Brown Soft Plain 12 Stc (Sktb)</td>\n",
              "      <td>360</td>\n",
              "      <td>INDONESIA</td>\n",
              "      <td>316595</td>\n",
              "      <td>Supri Yanto</td>\n",
              "      <td>1609895</td>\n",
              "      <td>5433835</td>\n",
              "      <td>198107565</td>\n",
              "      <td>CIGARETTE</td>\n",
              "      <td>CIGARETTE</td>\n",
              "      <td>73051466</td>\n",
              "      <td>8994729400178</td>\n",
              "      <td>Apache Brown Soft Plain 12 Stc (Sktb)</td>\n",
              "      <td>2021-09-02</td>\n",
              "      <td>AUDIT COMPLETE</td>\n",
              "      <td>(blank)</td>\n",
              "      <td>742047</td>\n",
              "      <td>0.0</td>\n",
              "      <td>9000.0</td>\n",
              "      <td>10000.0</td>\n",
              "      <td>0.0</td>\n",
              "      <td>1.0</td>\n",
              "      <td>0.0</td>\n",
              "      <td>0.0</td>\n",
              "      <td>0.0</td>\n",
              "      <td>0.0</td>\n",
              "      <td>10.0</td>\n",
              "      <td>0.0</td>\n",
              "      <td>9</td>\n",
              "      <td>3.0</td>\n",
              "      <td>10.0</td>\n",
              "      <td>22.0</td>\n",
              "      <td>COVID - Sales naik, banyak permintaan produk/k...</td>\n",
              "      <td>1.0</td>\n",
              "      <td>10.0</td>\n",
              "    </tr>\n",
              "    <tr>\n",
              "      <th>2</th>\n",
              "      <td>1609895Gudang Garam Red Soft Kspl 12 Stc (Sktb)</td>\n",
              "      <td>360</td>\n",
              "      <td>INDONESIA</td>\n",
              "      <td>316595</td>\n",
              "      <td>Supri Yanto</td>\n",
              "      <td>1609895</td>\n",
              "      <td>5433835</td>\n",
              "      <td>198107565</td>\n",
              "      <td>CIGARETTE</td>\n",
              "      <td>CIGARETTE</td>\n",
              "      <td>73104371</td>\n",
              "      <td>8998989501125</td>\n",
              "      <td>Gudang Garam Red Soft Kspl 12 Stc (Sktb)</td>\n",
              "      <td>2021-09-02</td>\n",
              "      <td>AUDIT COMPLETE</td>\n",
              "      <td>(blank)</td>\n",
              "      <td>742047</td>\n",
              "      <td>0.0</td>\n",
              "      <td>12200.0</td>\n",
              "      <td>13000.0</td>\n",
              "      <td>2.0</td>\n",
              "      <td>2.0</td>\n",
              "      <td>0.0</td>\n",
              "      <td>0.0</td>\n",
              "      <td>0.0</td>\n",
              "      <td>0.0</td>\n",
              "      <td>40.0</td>\n",
              "      <td>0.0</td>\n",
              "      <td>40</td>\n",
              "      <td>30.0</td>\n",
              "      <td>26.0</td>\n",
              "      <td>17.0</td>\n",
              "      <td>COVID - Sales naik, banyak permintaan produk/k...</td>\n",
              "      <td>2.0</td>\n",
              "      <td>40.0</td>\n",
              "    </tr>\n",
              "    <tr>\n",
              "      <th>3</th>\n",
              "      <td>1609895Sampoerna 'A' Hijau Edisi Khusus Box Pl...</td>\n",
              "      <td>360</td>\n",
              "      <td>INDONESIA</td>\n",
              "      <td>316595</td>\n",
              "      <td>Supri Yanto</td>\n",
              "      <td>1609895</td>\n",
              "      <td>5433835</td>\n",
              "      <td>198107565</td>\n",
              "      <td>CIGARETTE</td>\n",
              "      <td>CIGARETTE</td>\n",
              "      <td>73203844</td>\n",
              "      <td>8999909000988</td>\n",
              "      <td>Sampoerna 'A' Hijau Edisi Khusus Box Plain 10+...</td>\n",
              "      <td>2021-09-02</td>\n",
              "      <td>AUDIT COMPLETE</td>\n",
              "      <td>(blank)</td>\n",
              "      <td>742047</td>\n",
              "      <td>0.0</td>\n",
              "      <td>11600.0</td>\n",
              "      <td>13000.0</td>\n",
              "      <td>2.0</td>\n",
              "      <td>2.0</td>\n",
              "      <td>0.0</td>\n",
              "      <td>0.0</td>\n",
              "      <td>0.0</td>\n",
              "      <td>0.0</td>\n",
              "      <td>40.0</td>\n",
              "      <td>0.0</td>\n",
              "      <td>40</td>\n",
              "      <td>21.0</td>\n",
              "      <td>21.0</td>\n",
              "      <td>21.0</td>\n",
              "      <td>COVID - Sales naik, banyak permintaan produk/k...</td>\n",
              "      <td>2.0</td>\n",
              "      <td>40.0</td>\n",
              "    </tr>\n",
              "    <tr>\n",
              "      <th>4</th>\n",
              "      <td>1609895Djarum Istimewa Soft Coklat Plain 12 St...</td>\n",
              "      <td>360</td>\n",
              "      <td>INDONESIA</td>\n",
              "      <td>316595</td>\n",
              "      <td>Supri Yanto</td>\n",
              "      <td>1609895</td>\n",
              "      <td>5433835</td>\n",
              "      <td>198107565</td>\n",
              "      <td>CIGARETTE</td>\n",
              "      <td>CIGARETTE</td>\n",
              "      <td>73316560</td>\n",
              "      <td>8991906101651</td>\n",
              "      <td>Djarum Istimewa Soft Coklat Plain 12 Stc (Sktb)</td>\n",
              "      <td>2021-09-02</td>\n",
              "      <td>AUDIT COMPLETE</td>\n",
              "      <td>(blank)</td>\n",
              "      <td>742047</td>\n",
              "      <td>0.0</td>\n",
              "      <td>12100.0</td>\n",
              "      <td>13000.0</td>\n",
              "      <td>5.0</td>\n",
              "      <td>2.0</td>\n",
              "      <td>0.0</td>\n",
              "      <td>0.0</td>\n",
              "      <td>0.0</td>\n",
              "      <td>0.0</td>\n",
              "      <td>200.0</td>\n",
              "      <td>0.0</td>\n",
              "      <td>203</td>\n",
              "      <td>50.0</td>\n",
              "      <td>98.0</td>\n",
              "      <td>22.0</td>\n",
              "      <td>COVID - Sales naik, banyak permintaan produk/k...</td>\n",
              "      <td>2.0</td>\n",
              "      <td>200.0</td>\n",
              "    </tr>\n",
              "  </tbody>\n",
              "</table>\n",
              "</div>"
            ],
            "text/plain": [
              "                                         Concatenate  ...  Purchase\n",
              "0        1609895Dji Sam Soe Soft Plain 12 Stc (Sktb)  ...      40.0\n",
              "1       1609895Apache Brown Soft Plain 12 Stc (Sktb)  ...      10.0\n",
              "2    1609895Gudang Garam Red Soft Kspl 12 Stc (Sktb)  ...      40.0\n",
              "3  1609895Sampoerna 'A' Hijau Edisi Khusus Box Pl...  ...      40.0\n",
              "4  1609895Djarum Istimewa Soft Coklat Plain 12 St...  ...     200.0\n",
              "\n",
              "[5 rows x 35 columns]"
            ]
          },
          "metadata": {},
          "execution_count": 169
        }
      ]
    },
    {
      "cell_type": "code",
      "metadata": {
        "id": "vcYRAtphDpP8"
      },
      "source": [
        "RA4 = RA4.drop(['Country Id', 'Country Name', 'Auditor Id', 'Resource Name','Instruction Id', \n",
        "            'Category Id', 'Category Name', 'Module Name','Entity Id','Original Fact Value',\n",
        "            'Cluster Id','alternate audit methodology','Shop/Front Stock','Other Stock',\n",
        "            'Direct Purchase(Pur1)','Double Count', 'Goods Returned', 'Missing invoice(Pur3)',\n",
        "            'Missing Stock','PREIVIOUS STOCK','Audit Status'], axis=1)\n",
        "RA4.columns = RA4.columns.str.replace(\n",
        "    'Price To Retailer','RBP').str.replace(\n",
        "        'Sales_W2','Claimed_Sales_RA1(di_RA4)').str.replace(\n",
        "            'Sales_W3','Claimed_Sales_RA2(di_RA4)').str.replace(\n",
        "                'Sales_W4&5', 'Claimed_Sales_RA3(di_RA4)').str.replace(\n",
        "                    'Item Comment','Comment_RA4')"
      ],
      "execution_count": 170,
      "outputs": []
    },
    {
      "cell_type": "code",
      "metadata": {
        "colab": {
          "base_uri": "https://localhost:8080/",
          "height": 51
        },
        "id": "mg6UMDvUDpP8",
        "outputId": "2f469a0e-35da-46e4-b284-65b340bd545d"
      },
      "source": [
        "'''new_RA3 = RA3[['SMS Id','Visit Date']].drop_duplicates()\n",
        "new_RA3.columns = new_RA3.columns.str.replace('Visit Date', 'Prev_Visit Date')\n",
        "new2_RA3 = RA3[['Concatenate','Stock']]\n",
        "new2_RA3.columns = new2_RA3.columns.str.replace('Stock', 'Prev_Stock')'''"
      ],
      "execution_count": 171,
      "outputs": [
        {
          "output_type": "execute_result",
          "data": {
            "application/vnd.google.colaboratory.intrinsic+json": {
              "type": "string"
            },
            "text/plain": [
              "\"new_RA3 = RA3[['SMS Id','Visit Date']].drop_duplicates()\\nnew_RA3.columns = new_RA3.columns.str.replace('Visit Date', 'Prev_Visit Date')\\nnew2_RA3 = RA3[['Concatenate','Stock']]\\nnew2_RA3.columns = new2_RA3.columns.str.replace('Stock', 'Prev_Stock')\""
            ]
          },
          "metadata": {},
          "execution_count": 171
        }
      ]
    },
    {
      "cell_type": "code",
      "metadata": {
        "colab": {
          "base_uri": "https://localhost:8080/",
          "height": 35
        },
        "id": "fSWAwpy5DpP9",
        "outputId": "abd7700a-2f26-4847-c551-5f8cff344739"
      },
      "source": [
        "'''RA4 = RA4.merge(new_RA3, on='SMS Id')\n",
        "RA4 = RA4.merge(new2_RA3, on='Concatenate')'''"
      ],
      "execution_count": 172,
      "outputs": [
        {
          "output_type": "execute_result",
          "data": {
            "application/vnd.google.colaboratory.intrinsic+json": {
              "type": "string"
            },
            "text/plain": [
              "\"RA4 = RA4.merge(new_RA3, on='SMS Id')\\nRA4 = RA4.merge(new2_RA3, on='Concatenate')\""
            ]
          },
          "metadata": {},
          "execution_count": 172
        }
      ]
    },
    {
      "cell_type": "code",
      "metadata": {
        "id": "qwFfvDx9DpP9"
      },
      "source": [
        "#RA4.head()"
      ],
      "execution_count": 173,
      "outputs": []
    },
    {
      "cell_type": "code",
      "metadata": {
        "id": "Tl3tj0YKDpP9"
      },
      "source": [
        "#RA4['Recheck_Sales'] = RA4['Prev_Stock']+RA4['Purchase']-RA4['Stock']"
      ],
      "execution_count": 174,
      "outputs": []
    },
    {
      "cell_type": "code",
      "metadata": {
        "id": "FrtsaNrjDpP-"
      },
      "source": [
        "#RA4[RA4['Recheck_Sales']-RA4['Sales']!=0]"
      ],
      "execution_count": 175,
      "outputs": []
    },
    {
      "cell_type": "code",
      "metadata": {
        "id": "O1yTGCAIDpP-"
      },
      "source": [
        "# membuat format untuk di merge dengan table lainnya\n",
        "m_RA4 = RA4.copy()\n",
        "# mengganti nama kolom agar sesuai dengan yg diinginkan\n",
        "m_RA4.columns = m_RA4.columns.str.replace(\n",
        "    'Visit Date', 'RA4').str.replace(\n",
        "        'RBP', 'RBP_RA4').str.replace(\n",
        "            'RSP/Price','RSP_RA4').str.replace(\n",
        "                'Stock','Stock_RA4').str.replace(\n",
        "                    'Purchase','Purchase_RA4')"
      ],
      "execution_count": 176,
      "outputs": []
    },
    {
      "cell_type": "markdown",
      "metadata": {
        "id": "DRiXE-zPVTpf"
      },
      "source": [
        "## Merge Data Retail Audit into 1 Dataframe"
      ]
    },
    {
      "cell_type": "markdown",
      "metadata": {
        "id": "eXbkC-wwqzeP"
      },
      "source": [
        "### Merge DataFrame IA dan RA1"
      ]
    },
    {
      "cell_type": "code",
      "metadata": {
        "id": "MleuCgYarQKc"
      },
      "source": [
        "inner = pd.merge(m_IA, m_RA1[['RA1','RBP_RA1', 'RSP_RA1', 'Stock_RA1', 'Purchase_RA1',\n",
        "       'Concatenate']], on=\"Concatenate\", how=\"inner\")\n",
        "left = pd.merge(m_IA, m_RA1[['RA1','RBP_RA1', 'RSP_RA1', 'Stock_RA1', 'Purchase_RA1',\n",
        "       'Concatenate']], on=\"Concatenate\", how=\"left\", indicator=True)\n",
        "right = pd.merge(m_IA[['IA','RBP_IA','RSP_IA','Stock_IA','Concatenate']], m_RA1, on=\"Concatenate\", how=\"right\", indicator=True)"
      ],
      "execution_count": 177,
      "outputs": []
    },
    {
      "cell_type": "code",
      "metadata": {
        "id": "GaMWwJnFFnun"
      },
      "source": [
        "df_merge = inner.append(left[left['_merge']=='left_only'], ignore_index = True)\n",
        "df_merge = df_merge.append(right[right['_merge']=='right_only'], ignore_index = True)"
      ],
      "execution_count": 178,
      "outputs": []
    },
    {
      "cell_type": "code",
      "metadata": {
        "colab": {
          "base_uri": "https://localhost:8080/"
        },
        "id": "3xYJmZ_whBtO",
        "outputId": "a5ca266b-05e8-484d-98e5-1d5cdd2d3756"
      },
      "source": [
        "df_merge = df_merge.drop('_merge', axis=1)\n",
        "df_merge.shape"
      ],
      "execution_count": 179,
      "outputs": [
        {
          "output_type": "execute_result",
          "data": {
            "text/plain": [
              "(1924, 14)"
            ]
          },
          "metadata": {},
          "execution_count": 179
        }
      ]
    },
    {
      "cell_type": "markdown",
      "metadata": {
        "id": "Xa_JM-ipMbob"
      },
      "source": [
        "### Merge DataFrame IA+RA1 dan RA2"
      ]
    },
    {
      "cell_type": "code",
      "metadata": {
        "id": "PmF0NLN1qxQv"
      },
      "source": [
        "inner = pd.merge(df_merge, m_RA2[['Concatenate','RA2','RBP_RA2', 'RSP_RA2', 'Stock_RA2', 'Purchase_RA2', 'Claimed_Sales_RA1(di_RA2)', 'Comment_RA2'\n",
        "       ]], on=\"Concatenate\", how=\"inner\")\n",
        "left = pd.merge(df_merge, m_RA2[['Concatenate','RA2','RBP_RA2', 'RSP_RA2', 'Stock_RA2', 'Purchase_RA2', 'Claimed_Sales_RA1(di_RA2)', 'Comment_RA2']], on=\"Concatenate\", how=\"left\", indicator=True)\n",
        "right = pd.merge(df_merge[['Concatenate','IA','RBP_IA','RSP_IA','Stock_IA','RA1','RBP_RA1', 'RSP_RA1', 'Stock_RA1', 'Purchase_RA1']], m_RA2, on=\"Concatenate\", how=\"right\", indicator=True)"
      ],
      "execution_count": 180,
      "outputs": []
    },
    {
      "cell_type": "code",
      "metadata": {
        "colab": {
          "base_uri": "https://localhost:8080/"
        },
        "id": "D8QwIBGEeUJa",
        "outputId": "1711ffda-da64-4632-9814-ad94e5b11804"
      },
      "source": [
        "inner.shape"
      ],
      "execution_count": 181,
      "outputs": [
        {
          "output_type": "execute_result",
          "data": {
            "text/plain": [
              "(1693, 21)"
            ]
          },
          "metadata": {},
          "execution_count": 181
        }
      ]
    },
    {
      "cell_type": "code",
      "metadata": {
        "colab": {
          "base_uri": "https://localhost:8080/"
        },
        "id": "QjZMaxn7elX7",
        "outputId": "9e537584-62af-47a9-ead4-c76d814af537"
      },
      "source": [
        "left[left['_merge']=='left_only'].shape"
      ],
      "execution_count": 182,
      "outputs": [
        {
          "output_type": "execute_result",
          "data": {
            "text/plain": [
              "(231, 22)"
            ]
          },
          "metadata": {},
          "execution_count": 182
        }
      ]
    },
    {
      "cell_type": "code",
      "metadata": {
        "colab": {
          "base_uri": "https://localhost:8080/"
        },
        "id": "iepC_x88eqV5",
        "outputId": "3f9d7918-253a-4a33-c443-25d138c7c4c9"
      },
      "source": [
        "right[right['_merge']=='right_only'].shape"
      ],
      "execution_count": 183,
      "outputs": [
        {
          "output_type": "execute_result",
          "data": {
            "text/plain": [
              "(56, 22)"
            ]
          },
          "metadata": {},
          "execution_count": 183
        }
      ]
    },
    {
      "cell_type": "code",
      "metadata": {
        "id": "0W4--WJVNhc6"
      },
      "source": [
        "df_merge = inner.append(left[left['_merge']=='left_only'], ignore_index = True)\n",
        "df_merge = df_merge.append(right[right['_merge']=='right_only'], ignore_index = True)"
      ],
      "execution_count": 184,
      "outputs": []
    },
    {
      "cell_type": "code",
      "metadata": {
        "colab": {
          "base_uri": "https://localhost:8080/"
        },
        "id": "1nOEb0OCU84X",
        "outputId": "00ae0c0c-b6b4-4aa7-be51-d00d6cb70b72"
      },
      "source": [
        "df_merge = df_merge.drop('_merge', axis=1)\n",
        "df_merge.shape"
      ],
      "execution_count": 185,
      "outputs": [
        {
          "output_type": "execute_result",
          "data": {
            "text/plain": [
              "(1980, 21)"
            ]
          },
          "metadata": {},
          "execution_count": 185
        }
      ]
    },
    {
      "cell_type": "markdown",
      "metadata": {
        "id": "9RfEDrDpU7k7"
      },
      "source": [
        "### Merge DataFrame IA+RA1+RA2 dan RA3"
      ]
    },
    {
      "cell_type": "code",
      "metadata": {
        "id": "rmjLqCi5AiVi",
        "outputId": "a297ecb5-1906-4ce8-a677-9627669f19f7",
        "colab": {
          "base_uri": "https://localhost:8080/"
        }
      },
      "source": [
        "m_RA3.columns"
      ],
      "execution_count": 186,
      "outputs": [
        {
          "output_type": "execute_result",
          "data": {
            "text/plain": [
              "Index(['Concatenate', 'SMS Id', 'Bar Code', 'Product Description', 'RA3',\n",
              "       'RBP_RA3', 'RSP_RA3', 'Claimed_Sales_RA3(di_RA3)',\n",
              "       'Claimed_Sales_RA2(di_RA3)', 'Claimed_Sales_RA1(di_RA3)', 'Comment_RA3',\n",
              "       'Stock_RA3', 'Purchase_RA3'],\n",
              "      dtype='object')"
            ]
          },
          "metadata": {},
          "execution_count": 186
        }
      ]
    },
    {
      "cell_type": "code",
      "metadata": {
        "id": "DHGUjrlJU_27"
      },
      "source": [
        "inner = pd.merge(df_merge, \n",
        "                 m_RA3[['Concatenate','RA3','RBP_RA3', 'RSP_RA3', 'Stock_RA3', 'Purchase_RA3', \n",
        "                        'Claimed_Sales_RA1(di_RA3)', 'Claimed_Sales_RA2(di_RA3)','Claimed_Sales_RA3(di_RA3)','Comment_RA3']],\n",
        "                 on=\"Concatenate\", how=\"inner\")\n",
        "left = pd.merge(df_merge, \n",
        "                m_RA3[['Concatenate','RA3','RBP_RA3', 'RSP_RA3', 'Stock_RA3', 'Purchase_RA3', \n",
        "                       'Claimed_Sales_RA1(di_RA3)', 'Claimed_Sales_RA2(di_RA3)','Claimed_Sales_RA3(di_RA3)','Comment_RA3']], \n",
        "                on=\"Concatenate\", how=\"left\", indicator=True)\n",
        "right = pd.merge(df_merge[['Concatenate','IA','RBP_IA','RSP_IA','Stock_IA',\n",
        "                           'RA1','RBP_RA1', 'RSP_RA1', 'Stock_RA1', 'Purchase_RA1',\n",
        "                           'RA2','RBP_RA2', 'RSP_RA2', 'Stock_RA2', 'Purchase_RA2','Claimed_Sales_RA1(di_RA2)','Comment_RA2']], \n",
        "                 m_RA3, on=\"Concatenate\", how=\"right\", indicator=True)"
      ],
      "execution_count": 187,
      "outputs": []
    },
    {
      "cell_type": "code",
      "metadata": {
        "id": "qfR9LosMYQT6"
      },
      "source": [
        "df_merge = inner.append(left[left['_merge']=='left_only'], ignore_index = True)\n",
        "df_merge = df_merge.append(right[right['_merge']=='right_only'], ignore_index = True)"
      ],
      "execution_count": 188,
      "outputs": []
    },
    {
      "cell_type": "code",
      "metadata": {
        "colab": {
          "base_uri": "https://localhost:8080/",
          "height": 528
        },
        "id": "nDKuEvF0PaHy",
        "outputId": "c23c3454-3850-4cdb-f125-38e10816b124"
      },
      "source": [
        "df_merge.head()"
      ],
      "execution_count": 189,
      "outputs": [
        {
          "output_type": "execute_result",
          "data": {
            "text/html": [
              "<div>\n",
              "<style scoped>\n",
              "    .dataframe tbody tr th:only-of-type {\n",
              "        vertical-align: middle;\n",
              "    }\n",
              "\n",
              "    .dataframe tbody tr th {\n",
              "        vertical-align: top;\n",
              "    }\n",
              "\n",
              "    .dataframe thead th {\n",
              "        text-align: right;\n",
              "    }\n",
              "</style>\n",
              "<table border=\"1\" class=\"dataframe\">\n",
              "  <thead>\n",
              "    <tr style=\"text-align: right;\">\n",
              "      <th></th>\n",
              "      <th>Concatenate</th>\n",
              "      <th>SMS Id</th>\n",
              "      <th>Bar Code</th>\n",
              "      <th>Product Description</th>\n",
              "      <th>IA</th>\n",
              "      <th>RBP_IA</th>\n",
              "      <th>RSP_IA</th>\n",
              "      <th>Stock_IA</th>\n",
              "      <th>RA1</th>\n",
              "      <th>RBP_RA1</th>\n",
              "      <th>RSP_RA1</th>\n",
              "      <th>Stock_RA1</th>\n",
              "      <th>Purchase_RA1</th>\n",
              "      <th>Sales</th>\n",
              "      <th>RA2</th>\n",
              "      <th>RBP_RA2</th>\n",
              "      <th>RSP_RA2</th>\n",
              "      <th>Stock_RA2</th>\n",
              "      <th>Purchase_RA2</th>\n",
              "      <th>Claimed_Sales_RA1(di_RA2)</th>\n",
              "      <th>Comment_RA2</th>\n",
              "      <th>RA3</th>\n",
              "      <th>RBP_RA3</th>\n",
              "      <th>RSP_RA3</th>\n",
              "      <th>Stock_RA3</th>\n",
              "      <th>Purchase_RA3</th>\n",
              "      <th>Claimed_Sales_RA1(di_RA3)</th>\n",
              "      <th>Claimed_Sales_RA2(di_RA3)</th>\n",
              "      <th>Claimed_Sales_RA3(di_RA3)</th>\n",
              "      <th>Comment_RA3</th>\n",
              "      <th>_merge</th>\n",
              "    </tr>\n",
              "  </thead>\n",
              "  <tbody>\n",
              "    <tr>\n",
              "      <th>0</th>\n",
              "      <td>1609986Gudang Garam Red Soft Kspl 12 Stc (Sktb)</td>\n",
              "      <td>1609986</td>\n",
              "      <td>8998989501125</td>\n",
              "      <td>Gudang Garam Red Soft Kspl 12 Stc (Sktb)</td>\n",
              "      <td>2021-07-26</td>\n",
              "      <td>12500.0</td>\n",
              "      <td>13000.0</td>\n",
              "      <td>20.0</td>\n",
              "      <td>2021-08-02</td>\n",
              "      <td>12500.0</td>\n",
              "      <td>13000.0</td>\n",
              "      <td>3.0</td>\n",
              "      <td>0.0</td>\n",
              "      <td>NaN</td>\n",
              "      <td>2021-08-10</td>\n",
              "      <td>12500.0</td>\n",
              "      <td>13000.0</td>\n",
              "      <td>3.0</td>\n",
              "      <td>17.0</td>\n",
              "      <td>17.0</td>\n",
              "      <td>0</td>\n",
              "      <td>2021-08-18</td>\n",
              "      <td>12500.0</td>\n",
              "      <td>13000.0</td>\n",
              "      <td>3.0</td>\n",
              "      <td>20.0</td>\n",
              "      <td>17.0</td>\n",
              "      <td>17.0</td>\n",
              "      <td>20.0</td>\n",
              "      <td>COVID - Sales naik, banyak permintaan produk/k...</td>\n",
              "      <td>NaN</td>\n",
              "    </tr>\n",
              "    <tr>\n",
              "      <th>1</th>\n",
              "      <td>1610014Dji Sam Soe Soft Plain 12 Stc (Sktb)</td>\n",
              "      <td>1610014</td>\n",
              "      <td>8999909028234</td>\n",
              "      <td>Dji Sam Soe Soft Plain 12 Stc (Sktb)</td>\n",
              "      <td>2021-07-26</td>\n",
              "      <td>16500.0</td>\n",
              "      <td>18000.0</td>\n",
              "      <td>4.0</td>\n",
              "      <td>2021-08-02</td>\n",
              "      <td>16500.0</td>\n",
              "      <td>18000.0</td>\n",
              "      <td>4.0</td>\n",
              "      <td>4.0</td>\n",
              "      <td>NaN</td>\n",
              "      <td>2021-08-12</td>\n",
              "      <td>16500.0</td>\n",
              "      <td>17000.0</td>\n",
              "      <td>4.0</td>\n",
              "      <td>0.0</td>\n",
              "      <td>4.0</td>\n",
              "      <td>0</td>\n",
              "      <td>2021-08-19</td>\n",
              "      <td>16500.0</td>\n",
              "      <td>17000.0</td>\n",
              "      <td>4.0</td>\n",
              "      <td>0.0</td>\n",
              "      <td>4.0</td>\n",
              "      <td>0.0</td>\n",
              "      <td>0.0</td>\n",
              "      <td>0</td>\n",
              "      <td>NaN</td>\n",
              "    </tr>\n",
              "    <tr>\n",
              "      <th>2</th>\n",
              "      <td>1610908Dji Sam Soe Soft Plain 12 Stc (Sktb)</td>\n",
              "      <td>1610908</td>\n",
              "      <td>8999909028234</td>\n",
              "      <td>Dji Sam Soe Soft Plain 12 Stc (Sktb)</td>\n",
              "      <td>2021-07-26</td>\n",
              "      <td>16500.0</td>\n",
              "      <td>18000.0</td>\n",
              "      <td>5.0</td>\n",
              "      <td>2021-08-03</td>\n",
              "      <td>16000.0</td>\n",
              "      <td>18000.0</td>\n",
              "      <td>10.0</td>\n",
              "      <td>10.0</td>\n",
              "      <td>NaN</td>\n",
              "      <td>2021-08-09</td>\n",
              "      <td>16000.0</td>\n",
              "      <td>18000.0</td>\n",
              "      <td>10.0</td>\n",
              "      <td>10.0</td>\n",
              "      <td>5.0</td>\n",
              "      <td>COVID - Sales naik, banyak permintaan produk/k...</td>\n",
              "      <td>2021-08-18</td>\n",
              "      <td>15850.0</td>\n",
              "      <td>18000.0</td>\n",
              "      <td>10.0</td>\n",
              "      <td>30.0</td>\n",
              "      <td>5.0</td>\n",
              "      <td>10.0</td>\n",
              "      <td>30.0</td>\n",
              "      <td>COVID - Sales naik, banyak permintaan produk/k...</td>\n",
              "      <td>NaN</td>\n",
              "    </tr>\n",
              "    <tr>\n",
              "      <th>3</th>\n",
              "      <td>1610908Panamas 1 Soft Plain 12 Stc (Sktb)</td>\n",
              "      <td>1610908</td>\n",
              "      <td>8999909039124</td>\n",
              "      <td>Panamas 1 Soft Plain 12 Stc (Sktb)</td>\n",
              "      <td>2021-07-26</td>\n",
              "      <td>12500.0</td>\n",
              "      <td>14000.0</td>\n",
              "      <td>10.0</td>\n",
              "      <td>2021-08-03</td>\n",
              "      <td>12500.0</td>\n",
              "      <td>14000.0</td>\n",
              "      <td>10.0</td>\n",
              "      <td>0.0</td>\n",
              "      <td>NaN</td>\n",
              "      <td>2021-08-09</td>\n",
              "      <td>12500.0</td>\n",
              "      <td>14000.0</td>\n",
              "      <td>10.0</td>\n",
              "      <td>10.0</td>\n",
              "      <td>0.0</td>\n",
              "      <td>COVID - Sales naik, banyak permintaan produk/k...</td>\n",
              "      <td>2021-08-18</td>\n",
              "      <td>12500.0</td>\n",
              "      <td>14000.0</td>\n",
              "      <td>10.0</td>\n",
              "      <td>60.0</td>\n",
              "      <td>0.0</td>\n",
              "      <td>10.0</td>\n",
              "      <td>60.0</td>\n",
              "      <td>COVID - Sales naik, banyak permintaan produk/k...</td>\n",
              "      <td>NaN</td>\n",
              "    </tr>\n",
              "    <tr>\n",
              "      <th>4</th>\n",
              "      <td>1610908Djarum Istimewa Soft Coklat Plain 12 St...</td>\n",
              "      <td>1610908</td>\n",
              "      <td>8991906101651</td>\n",
              "      <td>Djarum Istimewa Soft Coklat Plain 12 Stc (Sktb)</td>\n",
              "      <td>2021-07-26</td>\n",
              "      <td>12500.0</td>\n",
              "      <td>14000.0</td>\n",
              "      <td>10.0</td>\n",
              "      <td>2021-08-03</td>\n",
              "      <td>12500.0</td>\n",
              "      <td>14000.0</td>\n",
              "      <td>10.0</td>\n",
              "      <td>0.0</td>\n",
              "      <td>NaN</td>\n",
              "      <td>2021-08-09</td>\n",
              "      <td>12500.0</td>\n",
              "      <td>14000.0</td>\n",
              "      <td>10.0</td>\n",
              "      <td>10.0</td>\n",
              "      <td>0.0</td>\n",
              "      <td>COVID - Sales naik, banyak permintaan produk/k...</td>\n",
              "      <td>2021-08-18</td>\n",
              "      <td>12500.0</td>\n",
              "      <td>14000.0</td>\n",
              "      <td>10.0</td>\n",
              "      <td>30.0</td>\n",
              "      <td>0.0</td>\n",
              "      <td>10.0</td>\n",
              "      <td>30.0</td>\n",
              "      <td>COVID - Sales naik, banyak permintaan produk/k...</td>\n",
              "      <td>NaN</td>\n",
              "    </tr>\n",
              "  </tbody>\n",
              "</table>\n",
              "</div>"
            ],
            "text/plain": [
              "                                         Concatenate  ...  _merge\n",
              "0    1609986Gudang Garam Red Soft Kspl 12 Stc (Sktb)  ...     NaN\n",
              "1        1610014Dji Sam Soe Soft Plain 12 Stc (Sktb)  ...     NaN\n",
              "2        1610908Dji Sam Soe Soft Plain 12 Stc (Sktb)  ...     NaN\n",
              "3          1610908Panamas 1 Soft Plain 12 Stc (Sktb)  ...     NaN\n",
              "4  1610908Djarum Istimewa Soft Coklat Plain 12 St...  ...     NaN\n",
              "\n",
              "[5 rows x 31 columns]"
            ]
          },
          "metadata": {},
          "execution_count": 189
        }
      ]
    },
    {
      "cell_type": "code",
      "metadata": {
        "colab": {
          "base_uri": "https://localhost:8080/"
        },
        "id": "pAQV9d8MarW5",
        "outputId": "14c6c87d-41ee-4a1d-e439-3e83ef167f29"
      },
      "source": [
        "df_merge = df_merge.drop('_merge', axis=1)\n",
        "df_merge.shape"
      ],
      "execution_count": 190,
      "outputs": [
        {
          "output_type": "execute_result",
          "data": {
            "text/plain": [
              "(2437, 30)"
            ]
          },
          "metadata": {},
          "execution_count": 190
        }
      ]
    },
    {
      "cell_type": "markdown",
      "metadata": {
        "id": "HoOnLI1OEwMn"
      },
      "source": [
        "### Merge DataFrame IA+RA1+RA2+RA3 dan RA4"
      ]
    },
    {
      "cell_type": "code",
      "metadata": {
        "id": "9pJlKrBYEwMn"
      },
      "source": [
        "inner = pd.merge(df_merge, \n",
        "                 m_RA4[['Concatenate','RA4','RBP_RA4', 'RSP_RA4', 'Stock_RA4', 'Purchase_RA4', \n",
        "                        'Claimed_Sales_RA1(di_RA4)', 'Claimed_Sales_RA2(di_RA4)','Claimed_Sales_RA3(di_RA4)',\n",
        "                        'Comment_RA4']],\n",
        "                 on=\"Concatenate\", how=\"inner\")\n",
        "left = pd.merge(df_merge, \n",
        "                m_RA4[['Concatenate','RA4','RBP_RA4', 'RSP_RA4', 'Stock_RA4', 'Purchase_RA4', \n",
        "                        'Claimed_Sales_RA1(di_RA4)', 'Claimed_Sales_RA2(di_RA4)','Claimed_Sales_RA3(di_RA4)',\n",
        "                        'Comment_RA4']], \n",
        "                on=\"Concatenate\", how=\"left\", indicator=True)\n",
        "right = pd.merge(df_merge[['Concatenate','IA','RBP_IA','RSP_IA','Stock_IA',\n",
        "                           'RA1','RBP_RA1', 'RSP_RA1', 'Stock_RA1', 'Purchase_RA1',\n",
        "                           'RA2','RBP_RA2', 'RSP_RA2', 'Stock_RA2', 'Purchase_RA2','Claimed_Sales_RA1(di_RA2)','Comment_RA2',\n",
        "                           'RA3','RBP_RA3', 'RSP_RA3', 'Stock_RA3', 'Purchase_RA3','Claimed_Sales_RA1(di_RA3)','Claimed_Sales_RA2(di_RA3)','Comment_RA3']],\n",
        "                 m_RA4, on=\"Concatenate\", how=\"right\", indicator=True)"
      ],
      "execution_count": 191,
      "outputs": []
    },
    {
      "cell_type": "code",
      "metadata": {
        "id": "zBoGml2ETKHN"
      },
      "source": [
        ""
      ],
      "execution_count": 191,
      "outputs": []
    },
    {
      "cell_type": "code",
      "metadata": {
        "id": "Q4FhZ_xbEwMo"
      },
      "source": [
        "df_merge = inner.append(left[left['_merge']=='left_only'], ignore_index = True)\n",
        "df_merge = df_merge.append(right[right['_merge']=='right_only'], ignore_index = True)"
      ],
      "execution_count": 192,
      "outputs": []
    },
    {
      "cell_type": "code",
      "metadata": {
        "colab": {
          "base_uri": "https://localhost:8080/",
          "height": 561
        },
        "id": "K31Bqb63EwMo",
        "outputId": "29b7575c-156c-43b0-bf49-7965196a57d9"
      },
      "source": [
        "df_merge.head()"
      ],
      "execution_count": 193,
      "outputs": [
        {
          "output_type": "execute_result",
          "data": {
            "text/html": [
              "<div>\n",
              "<style scoped>\n",
              "    .dataframe tbody tr th:only-of-type {\n",
              "        vertical-align: middle;\n",
              "    }\n",
              "\n",
              "    .dataframe tbody tr th {\n",
              "        vertical-align: top;\n",
              "    }\n",
              "\n",
              "    .dataframe thead th {\n",
              "        text-align: right;\n",
              "    }\n",
              "</style>\n",
              "<table border=\"1\" class=\"dataframe\">\n",
              "  <thead>\n",
              "    <tr style=\"text-align: right;\">\n",
              "      <th></th>\n",
              "      <th>Concatenate</th>\n",
              "      <th>SMS Id</th>\n",
              "      <th>Bar Code</th>\n",
              "      <th>Product Description</th>\n",
              "      <th>IA</th>\n",
              "      <th>RBP_IA</th>\n",
              "      <th>RSP_IA</th>\n",
              "      <th>Stock_IA</th>\n",
              "      <th>RA1</th>\n",
              "      <th>RBP_RA1</th>\n",
              "      <th>RSP_RA1</th>\n",
              "      <th>Stock_RA1</th>\n",
              "      <th>Purchase_RA1</th>\n",
              "      <th>Sales</th>\n",
              "      <th>RA2</th>\n",
              "      <th>RBP_RA2</th>\n",
              "      <th>RSP_RA2</th>\n",
              "      <th>Stock_RA2</th>\n",
              "      <th>Purchase_RA2</th>\n",
              "      <th>Claimed_Sales_RA1(di_RA2)</th>\n",
              "      <th>Comment_RA2</th>\n",
              "      <th>RA3</th>\n",
              "      <th>RBP_RA3</th>\n",
              "      <th>RSP_RA3</th>\n",
              "      <th>Stock_RA3</th>\n",
              "      <th>Purchase_RA3</th>\n",
              "      <th>Claimed_Sales_RA1(di_RA3)</th>\n",
              "      <th>Claimed_Sales_RA2(di_RA3)</th>\n",
              "      <th>Claimed_Sales_RA3(di_RA3)</th>\n",
              "      <th>Comment_RA3</th>\n",
              "      <th>RA4</th>\n",
              "      <th>RBP_RA4</th>\n",
              "      <th>RSP_RA4</th>\n",
              "      <th>Stock_RA4</th>\n",
              "      <th>Purchase_RA4</th>\n",
              "      <th>Claimed_Sales_RA1(di_RA4)</th>\n",
              "      <th>Claimed_Sales_RA2(di_RA4)</th>\n",
              "      <th>Claimed_Sales_RA3(di_RA4)</th>\n",
              "      <th>Comment_RA4</th>\n",
              "      <th>_merge</th>\n",
              "    </tr>\n",
              "  </thead>\n",
              "  <tbody>\n",
              "    <tr>\n",
              "      <th>0</th>\n",
              "      <td>1609986Gudang Garam Red Soft Kspl 12 Stc (Sktb)</td>\n",
              "      <td>1609986</td>\n",
              "      <td>8998989501125</td>\n",
              "      <td>Gudang Garam Red Soft Kspl 12 Stc (Sktb)</td>\n",
              "      <td>2021-07-26</td>\n",
              "      <td>12500.0</td>\n",
              "      <td>13000.0</td>\n",
              "      <td>20.0</td>\n",
              "      <td>2021-08-02</td>\n",
              "      <td>12500.0</td>\n",
              "      <td>13000.0</td>\n",
              "      <td>3.0</td>\n",
              "      <td>0.0</td>\n",
              "      <td>NaN</td>\n",
              "      <td>2021-08-10</td>\n",
              "      <td>12500.0</td>\n",
              "      <td>13000.0</td>\n",
              "      <td>3.0</td>\n",
              "      <td>17.0</td>\n",
              "      <td>17.0</td>\n",
              "      <td>0</td>\n",
              "      <td>2021-08-18</td>\n",
              "      <td>12500.0</td>\n",
              "      <td>13000.0</td>\n",
              "      <td>3.0</td>\n",
              "      <td>20.0</td>\n",
              "      <td>17.0</td>\n",
              "      <td>17.0</td>\n",
              "      <td>20.0</td>\n",
              "      <td>COVID - Sales naik, banyak permintaan produk/k...</td>\n",
              "      <td>2021-09-03</td>\n",
              "      <td>12200.0</td>\n",
              "      <td>13000.0</td>\n",
              "      <td>2.0</td>\n",
              "      <td>20.0</td>\n",
              "      <td>17.0</td>\n",
              "      <td>17.0</td>\n",
              "      <td>20.0</td>\n",
              "      <td>0</td>\n",
              "      <td>NaN</td>\n",
              "    </tr>\n",
              "    <tr>\n",
              "      <th>1</th>\n",
              "      <td>1610908Dji Sam Soe Soft Plain 12 Stc (Sktb)</td>\n",
              "      <td>1610908</td>\n",
              "      <td>8999909028234</td>\n",
              "      <td>Dji Sam Soe Soft Plain 12 Stc (Sktb)</td>\n",
              "      <td>2021-07-26</td>\n",
              "      <td>16500.0</td>\n",
              "      <td>18000.0</td>\n",
              "      <td>5.0</td>\n",
              "      <td>2021-08-03</td>\n",
              "      <td>16000.0</td>\n",
              "      <td>18000.0</td>\n",
              "      <td>10.0</td>\n",
              "      <td>10.0</td>\n",
              "      <td>NaN</td>\n",
              "      <td>2021-08-09</td>\n",
              "      <td>16000.0</td>\n",
              "      <td>18000.0</td>\n",
              "      <td>10.0</td>\n",
              "      <td>10.0</td>\n",
              "      <td>5.0</td>\n",
              "      <td>COVID - Sales naik, banyak permintaan produk/k...</td>\n",
              "      <td>2021-08-18</td>\n",
              "      <td>15850.0</td>\n",
              "      <td>18000.0</td>\n",
              "      <td>10.0</td>\n",
              "      <td>30.0</td>\n",
              "      <td>5.0</td>\n",
              "      <td>10.0</td>\n",
              "      <td>30.0</td>\n",
              "      <td>COVID - Sales naik, banyak permintaan produk/k...</td>\n",
              "      <td>2021-09-03</td>\n",
              "      <td>15900.0</td>\n",
              "      <td>18000.0</td>\n",
              "      <td>1.0</td>\n",
              "      <td>40.0</td>\n",
              "      <td>5.0</td>\n",
              "      <td>10.0</td>\n",
              "      <td>30.0</td>\n",
              "      <td>COVID - Sales naik, banyak permintaan produk/k...</td>\n",
              "      <td>NaN</td>\n",
              "    </tr>\n",
              "    <tr>\n",
              "      <th>2</th>\n",
              "      <td>1610908Panamas 1 Soft Plain 12 Stc (Sktb)</td>\n",
              "      <td>1610908</td>\n",
              "      <td>8999909039124</td>\n",
              "      <td>Panamas 1 Soft Plain 12 Stc (Sktb)</td>\n",
              "      <td>2021-07-26</td>\n",
              "      <td>12500.0</td>\n",
              "      <td>14000.0</td>\n",
              "      <td>10.0</td>\n",
              "      <td>2021-08-03</td>\n",
              "      <td>12500.0</td>\n",
              "      <td>14000.0</td>\n",
              "      <td>10.0</td>\n",
              "      <td>0.0</td>\n",
              "      <td>NaN</td>\n",
              "      <td>2021-08-09</td>\n",
              "      <td>12500.0</td>\n",
              "      <td>14000.0</td>\n",
              "      <td>10.0</td>\n",
              "      <td>10.0</td>\n",
              "      <td>0.0</td>\n",
              "      <td>COVID - Sales naik, banyak permintaan produk/k...</td>\n",
              "      <td>2021-08-18</td>\n",
              "      <td>12500.0</td>\n",
              "      <td>14000.0</td>\n",
              "      <td>10.0</td>\n",
              "      <td>60.0</td>\n",
              "      <td>0.0</td>\n",
              "      <td>10.0</td>\n",
              "      <td>60.0</td>\n",
              "      <td>COVID - Sales naik, banyak permintaan produk/k...</td>\n",
              "      <td>2021-09-03</td>\n",
              "      <td>12500.0</td>\n",
              "      <td>14000.0</td>\n",
              "      <td>1.0</td>\n",
              "      <td>10.0</td>\n",
              "      <td>0.0</td>\n",
              "      <td>10.0</td>\n",
              "      <td>60.0</td>\n",
              "      <td>COVID - Sales turun karena kekurangan pasokan</td>\n",
              "      <td>NaN</td>\n",
              "    </tr>\n",
              "    <tr>\n",
              "      <th>3</th>\n",
              "      <td>1610908Djarum Istimewa Soft Coklat Plain 12 St...</td>\n",
              "      <td>1610908</td>\n",
              "      <td>8991906101651</td>\n",
              "      <td>Djarum Istimewa Soft Coklat Plain 12 Stc (Sktb)</td>\n",
              "      <td>2021-07-26</td>\n",
              "      <td>12500.0</td>\n",
              "      <td>14000.0</td>\n",
              "      <td>10.0</td>\n",
              "      <td>2021-08-03</td>\n",
              "      <td>12500.0</td>\n",
              "      <td>14000.0</td>\n",
              "      <td>10.0</td>\n",
              "      <td>0.0</td>\n",
              "      <td>NaN</td>\n",
              "      <td>2021-08-09</td>\n",
              "      <td>12500.0</td>\n",
              "      <td>14000.0</td>\n",
              "      <td>10.0</td>\n",
              "      <td>10.0</td>\n",
              "      <td>0.0</td>\n",
              "      <td>COVID - Sales naik, banyak permintaan produk/k...</td>\n",
              "      <td>2021-08-18</td>\n",
              "      <td>12500.0</td>\n",
              "      <td>14000.0</td>\n",
              "      <td>10.0</td>\n",
              "      <td>30.0</td>\n",
              "      <td>0.0</td>\n",
              "      <td>10.0</td>\n",
              "      <td>30.0</td>\n",
              "      <td>COVID - Sales naik, banyak permintaan produk/k...</td>\n",
              "      <td>2021-09-03</td>\n",
              "      <td>12500.0</td>\n",
              "      <td>14000.0</td>\n",
              "      <td>1.0</td>\n",
              "      <td>10.0</td>\n",
              "      <td>0.0</td>\n",
              "      <td>10.0</td>\n",
              "      <td>30.0</td>\n",
              "      <td>COVID - Sales turun karena kekurangan pasokan</td>\n",
              "      <td>NaN</td>\n",
              "    </tr>\n",
              "    <tr>\n",
              "      <th>4</th>\n",
              "      <td>1610908Gudang Garam Red Soft Kspl 12 Stc (Sktb)</td>\n",
              "      <td>1610908</td>\n",
              "      <td>8998989501125</td>\n",
              "      <td>Gudang Garam Red Soft Kspl 12 Stc (Sktb)</td>\n",
              "      <td>2021-07-26</td>\n",
              "      <td>12500.0</td>\n",
              "      <td>14000.0</td>\n",
              "      <td>10.0</td>\n",
              "      <td>2021-08-03</td>\n",
              "      <td>12500.0</td>\n",
              "      <td>14000.0</td>\n",
              "      <td>10.0</td>\n",
              "      <td>0.0</td>\n",
              "      <td>NaN</td>\n",
              "      <td>2021-08-09</td>\n",
              "      <td>12500.0</td>\n",
              "      <td>14000.0</td>\n",
              "      <td>10.0</td>\n",
              "      <td>10.0</td>\n",
              "      <td>0.0</td>\n",
              "      <td>COVID - Sales naik, banyak permintaan produk/k...</td>\n",
              "      <td>2021-08-18</td>\n",
              "      <td>12150.0</td>\n",
              "      <td>14000.0</td>\n",
              "      <td>10.0</td>\n",
              "      <td>30.0</td>\n",
              "      <td>0.0</td>\n",
              "      <td>10.0</td>\n",
              "      <td>30.0</td>\n",
              "      <td>COVID - Sales naik, banyak permintaan produk/k...</td>\n",
              "      <td>2021-09-03</td>\n",
              "      <td>12500.0</td>\n",
              "      <td>14000.0</td>\n",
              "      <td>1.0</td>\n",
              "      <td>20.0</td>\n",
              "      <td>0.0</td>\n",
              "      <td>10.0</td>\n",
              "      <td>30.0</td>\n",
              "      <td>0</td>\n",
              "      <td>NaN</td>\n",
              "    </tr>\n",
              "  </tbody>\n",
              "</table>\n",
              "</div>"
            ],
            "text/plain": [
              "                                         Concatenate  ...  _merge\n",
              "0    1609986Gudang Garam Red Soft Kspl 12 Stc (Sktb)  ...     NaN\n",
              "1        1610908Dji Sam Soe Soft Plain 12 Stc (Sktb)  ...     NaN\n",
              "2          1610908Panamas 1 Soft Plain 12 Stc (Sktb)  ...     NaN\n",
              "3  1610908Djarum Istimewa Soft Coklat Plain 12 St...  ...     NaN\n",
              "4    1610908Gudang Garam Red Soft Kspl 12 Stc (Sktb)  ...     NaN\n",
              "\n",
              "[5 rows x 40 columns]"
            ]
          },
          "metadata": {},
          "execution_count": 193
        }
      ]
    },
    {
      "cell_type": "code",
      "metadata": {
        "colab": {
          "base_uri": "https://localhost:8080/"
        },
        "id": "7vdEr2AKEwMo",
        "outputId": "fa8a4743-116b-4a87-980a-723659edd019"
      },
      "source": [
        "df_merge = df_merge.drop('_merge', axis=1)\n",
        "df_merge.shape"
      ],
      "execution_count": 194,
      "outputs": [
        {
          "output_type": "execute_result",
          "data": {
            "text/plain": [
              "(3424, 39)"
            ]
          },
          "metadata": {},
          "execution_count": 194
        }
      ]
    },
    {
      "cell_type": "markdown",
      "metadata": {
        "id": "P1cvIqKiUc3J"
      },
      "source": [
        "# Perhitungan Sales"
      ]
    },
    {
      "cell_type": "code",
      "metadata": {
        "colab": {
          "base_uri": "https://localhost:8080/",
          "height": 561
        },
        "id": "UwDXFGQ6vzPy",
        "outputId": "a7474a6e-d6d0-4dee-9ce2-b2c96a297684"
      },
      "source": [
        "df_merge = pd.merge(df_merge, \n",
        "                    mapping_toko, \n",
        "                    left_on='SMS Id',\n",
        "                    right_on='Store Code',\n",
        "                    how='left')\n",
        "df_merge.head()"
      ],
      "execution_count": 195,
      "outputs": [
        {
          "output_type": "execute_result",
          "data": {
            "text/html": [
              "<div>\n",
              "<style scoped>\n",
              "    .dataframe tbody tr th:only-of-type {\n",
              "        vertical-align: middle;\n",
              "    }\n",
              "\n",
              "    .dataframe tbody tr th {\n",
              "        vertical-align: top;\n",
              "    }\n",
              "\n",
              "    .dataframe thead th {\n",
              "        text-align: right;\n",
              "    }\n",
              "</style>\n",
              "<table border=\"1\" class=\"dataframe\">\n",
              "  <thead>\n",
              "    <tr style=\"text-align: right;\">\n",
              "      <th></th>\n",
              "      <th>Concatenate</th>\n",
              "      <th>SMS Id</th>\n",
              "      <th>Bar Code</th>\n",
              "      <th>Product Description</th>\n",
              "      <th>IA</th>\n",
              "      <th>RBP_IA</th>\n",
              "      <th>RSP_IA</th>\n",
              "      <th>Stock_IA</th>\n",
              "      <th>RA1</th>\n",
              "      <th>RBP_RA1</th>\n",
              "      <th>RSP_RA1</th>\n",
              "      <th>Stock_RA1</th>\n",
              "      <th>Purchase_RA1</th>\n",
              "      <th>Sales</th>\n",
              "      <th>RA2</th>\n",
              "      <th>RBP_RA2</th>\n",
              "      <th>RSP_RA2</th>\n",
              "      <th>Stock_RA2</th>\n",
              "      <th>Purchase_RA2</th>\n",
              "      <th>Claimed_Sales_RA1(di_RA2)</th>\n",
              "      <th>Comment_RA2</th>\n",
              "      <th>RA3</th>\n",
              "      <th>RBP_RA3</th>\n",
              "      <th>RSP_RA3</th>\n",
              "      <th>Stock_RA3</th>\n",
              "      <th>Purchase_RA3</th>\n",
              "      <th>Claimed_Sales_RA1(di_RA3)</th>\n",
              "      <th>Claimed_Sales_RA2(di_RA3)</th>\n",
              "      <th>Claimed_Sales_RA3(di_RA3)</th>\n",
              "      <th>Comment_RA3</th>\n",
              "      <th>RA4</th>\n",
              "      <th>RBP_RA4</th>\n",
              "      <th>RSP_RA4</th>\n",
              "      <th>Stock_RA4</th>\n",
              "      <th>Purchase_RA4</th>\n",
              "      <th>Claimed_Sales_RA1(di_RA4)</th>\n",
              "      <th>Claimed_Sales_RA2(di_RA4)</th>\n",
              "      <th>Claimed_Sales_RA3(di_RA4)</th>\n",
              "      <th>Comment_RA4</th>\n",
              "      <th>Store Code</th>\n",
              "      <th>Type Toko</th>\n",
              "      <th>Area</th>\n",
              "    </tr>\n",
              "  </thead>\n",
              "  <tbody>\n",
              "    <tr>\n",
              "      <th>0</th>\n",
              "      <td>1609986Gudang Garam Red Soft Kspl 12 Stc (Sktb)</td>\n",
              "      <td>1609986</td>\n",
              "      <td>8998989501125</td>\n",
              "      <td>Gudang Garam Red Soft Kspl 12 Stc (Sktb)</td>\n",
              "      <td>2021-07-26</td>\n",
              "      <td>12500.0</td>\n",
              "      <td>13000.0</td>\n",
              "      <td>20.0</td>\n",
              "      <td>2021-08-02</td>\n",
              "      <td>12500.0</td>\n",
              "      <td>13000.0</td>\n",
              "      <td>3.0</td>\n",
              "      <td>0.0</td>\n",
              "      <td>NaN</td>\n",
              "      <td>2021-08-10</td>\n",
              "      <td>12500.0</td>\n",
              "      <td>13000.0</td>\n",
              "      <td>3.0</td>\n",
              "      <td>17.0</td>\n",
              "      <td>17.0</td>\n",
              "      <td>0</td>\n",
              "      <td>2021-08-18</td>\n",
              "      <td>12500.0</td>\n",
              "      <td>13000.0</td>\n",
              "      <td>3.0</td>\n",
              "      <td>20.0</td>\n",
              "      <td>17.0</td>\n",
              "      <td>17.0</td>\n",
              "      <td>20.0</td>\n",
              "      <td>COVID - Sales naik, banyak permintaan produk/k...</td>\n",
              "      <td>2021-09-03</td>\n",
              "      <td>12200.0</td>\n",
              "      <td>13000.0</td>\n",
              "      <td>2.0</td>\n",
              "      <td>20.0</td>\n",
              "      <td>17.0</td>\n",
              "      <td>17.0</td>\n",
              "      <td>20.0</td>\n",
              "      <td>0</td>\n",
              "      <td>1609986</td>\n",
              "      <td>WARUNG MEDIUM</td>\n",
              "      <td>PALEMBANG</td>\n",
              "    </tr>\n",
              "    <tr>\n",
              "      <th>1</th>\n",
              "      <td>1610908Dji Sam Soe Soft Plain 12 Stc (Sktb)</td>\n",
              "      <td>1610908</td>\n",
              "      <td>8999909028234</td>\n",
              "      <td>Dji Sam Soe Soft Plain 12 Stc (Sktb)</td>\n",
              "      <td>2021-07-26</td>\n",
              "      <td>16500.0</td>\n",
              "      <td>18000.0</td>\n",
              "      <td>5.0</td>\n",
              "      <td>2021-08-03</td>\n",
              "      <td>16000.0</td>\n",
              "      <td>18000.0</td>\n",
              "      <td>10.0</td>\n",
              "      <td>10.0</td>\n",
              "      <td>NaN</td>\n",
              "      <td>2021-08-09</td>\n",
              "      <td>16000.0</td>\n",
              "      <td>18000.0</td>\n",
              "      <td>10.0</td>\n",
              "      <td>10.0</td>\n",
              "      <td>5.0</td>\n",
              "      <td>COVID - Sales naik, banyak permintaan produk/k...</td>\n",
              "      <td>2021-08-18</td>\n",
              "      <td>15850.0</td>\n",
              "      <td>18000.0</td>\n",
              "      <td>10.0</td>\n",
              "      <td>30.0</td>\n",
              "      <td>5.0</td>\n",
              "      <td>10.0</td>\n",
              "      <td>30.0</td>\n",
              "      <td>COVID - Sales naik, banyak permintaan produk/k...</td>\n",
              "      <td>2021-09-03</td>\n",
              "      <td>15900.0</td>\n",
              "      <td>18000.0</td>\n",
              "      <td>1.0</td>\n",
              "      <td>40.0</td>\n",
              "      <td>5.0</td>\n",
              "      <td>10.0</td>\n",
              "      <td>30.0</td>\n",
              "      <td>COVID - Sales naik, banyak permintaan produk/k...</td>\n",
              "      <td>1610908</td>\n",
              "      <td>WARUNG MEDIUM</td>\n",
              "      <td>PALEMBANG</td>\n",
              "    </tr>\n",
              "    <tr>\n",
              "      <th>2</th>\n",
              "      <td>1610908Panamas 1 Soft Plain 12 Stc (Sktb)</td>\n",
              "      <td>1610908</td>\n",
              "      <td>8999909039124</td>\n",
              "      <td>Panamas 1 Soft Plain 12 Stc (Sktb)</td>\n",
              "      <td>2021-07-26</td>\n",
              "      <td>12500.0</td>\n",
              "      <td>14000.0</td>\n",
              "      <td>10.0</td>\n",
              "      <td>2021-08-03</td>\n",
              "      <td>12500.0</td>\n",
              "      <td>14000.0</td>\n",
              "      <td>10.0</td>\n",
              "      <td>0.0</td>\n",
              "      <td>NaN</td>\n",
              "      <td>2021-08-09</td>\n",
              "      <td>12500.0</td>\n",
              "      <td>14000.0</td>\n",
              "      <td>10.0</td>\n",
              "      <td>10.0</td>\n",
              "      <td>0.0</td>\n",
              "      <td>COVID - Sales naik, banyak permintaan produk/k...</td>\n",
              "      <td>2021-08-18</td>\n",
              "      <td>12500.0</td>\n",
              "      <td>14000.0</td>\n",
              "      <td>10.0</td>\n",
              "      <td>60.0</td>\n",
              "      <td>0.0</td>\n",
              "      <td>10.0</td>\n",
              "      <td>60.0</td>\n",
              "      <td>COVID - Sales naik, banyak permintaan produk/k...</td>\n",
              "      <td>2021-09-03</td>\n",
              "      <td>12500.0</td>\n",
              "      <td>14000.0</td>\n",
              "      <td>1.0</td>\n",
              "      <td>10.0</td>\n",
              "      <td>0.0</td>\n",
              "      <td>10.0</td>\n",
              "      <td>60.0</td>\n",
              "      <td>COVID - Sales turun karena kekurangan pasokan</td>\n",
              "      <td>1610908</td>\n",
              "      <td>WARUNG MEDIUM</td>\n",
              "      <td>PALEMBANG</td>\n",
              "    </tr>\n",
              "    <tr>\n",
              "      <th>3</th>\n",
              "      <td>1610908Djarum Istimewa Soft Coklat Plain 12 St...</td>\n",
              "      <td>1610908</td>\n",
              "      <td>8991906101651</td>\n",
              "      <td>Djarum Istimewa Soft Coklat Plain 12 Stc (Sktb)</td>\n",
              "      <td>2021-07-26</td>\n",
              "      <td>12500.0</td>\n",
              "      <td>14000.0</td>\n",
              "      <td>10.0</td>\n",
              "      <td>2021-08-03</td>\n",
              "      <td>12500.0</td>\n",
              "      <td>14000.0</td>\n",
              "      <td>10.0</td>\n",
              "      <td>0.0</td>\n",
              "      <td>NaN</td>\n",
              "      <td>2021-08-09</td>\n",
              "      <td>12500.0</td>\n",
              "      <td>14000.0</td>\n",
              "      <td>10.0</td>\n",
              "      <td>10.0</td>\n",
              "      <td>0.0</td>\n",
              "      <td>COVID - Sales naik, banyak permintaan produk/k...</td>\n",
              "      <td>2021-08-18</td>\n",
              "      <td>12500.0</td>\n",
              "      <td>14000.0</td>\n",
              "      <td>10.0</td>\n",
              "      <td>30.0</td>\n",
              "      <td>0.0</td>\n",
              "      <td>10.0</td>\n",
              "      <td>30.0</td>\n",
              "      <td>COVID - Sales naik, banyak permintaan produk/k...</td>\n",
              "      <td>2021-09-03</td>\n",
              "      <td>12500.0</td>\n",
              "      <td>14000.0</td>\n",
              "      <td>1.0</td>\n",
              "      <td>10.0</td>\n",
              "      <td>0.0</td>\n",
              "      <td>10.0</td>\n",
              "      <td>30.0</td>\n",
              "      <td>COVID - Sales turun karena kekurangan pasokan</td>\n",
              "      <td>1610908</td>\n",
              "      <td>WARUNG MEDIUM</td>\n",
              "      <td>PALEMBANG</td>\n",
              "    </tr>\n",
              "    <tr>\n",
              "      <th>4</th>\n",
              "      <td>1610908Gudang Garam Red Soft Kspl 12 Stc (Sktb)</td>\n",
              "      <td>1610908</td>\n",
              "      <td>8998989501125</td>\n",
              "      <td>Gudang Garam Red Soft Kspl 12 Stc (Sktb)</td>\n",
              "      <td>2021-07-26</td>\n",
              "      <td>12500.0</td>\n",
              "      <td>14000.0</td>\n",
              "      <td>10.0</td>\n",
              "      <td>2021-08-03</td>\n",
              "      <td>12500.0</td>\n",
              "      <td>14000.0</td>\n",
              "      <td>10.0</td>\n",
              "      <td>0.0</td>\n",
              "      <td>NaN</td>\n",
              "      <td>2021-08-09</td>\n",
              "      <td>12500.0</td>\n",
              "      <td>14000.0</td>\n",
              "      <td>10.0</td>\n",
              "      <td>10.0</td>\n",
              "      <td>0.0</td>\n",
              "      <td>COVID - Sales naik, banyak permintaan produk/k...</td>\n",
              "      <td>2021-08-18</td>\n",
              "      <td>12150.0</td>\n",
              "      <td>14000.0</td>\n",
              "      <td>10.0</td>\n",
              "      <td>30.0</td>\n",
              "      <td>0.0</td>\n",
              "      <td>10.0</td>\n",
              "      <td>30.0</td>\n",
              "      <td>COVID - Sales naik, banyak permintaan produk/k...</td>\n",
              "      <td>2021-09-03</td>\n",
              "      <td>12500.0</td>\n",
              "      <td>14000.0</td>\n",
              "      <td>1.0</td>\n",
              "      <td>20.0</td>\n",
              "      <td>0.0</td>\n",
              "      <td>10.0</td>\n",
              "      <td>30.0</td>\n",
              "      <td>0</td>\n",
              "      <td>1610908</td>\n",
              "      <td>WARUNG MEDIUM</td>\n",
              "      <td>PALEMBANG</td>\n",
              "    </tr>\n",
              "  </tbody>\n",
              "</table>\n",
              "</div>"
            ],
            "text/plain": [
              "                                         Concatenate  ...       Area\n",
              "0    1609986Gudang Garam Red Soft Kspl 12 Stc (Sktb)  ...  PALEMBANG\n",
              "1        1610908Dji Sam Soe Soft Plain 12 Stc (Sktb)  ...  PALEMBANG\n",
              "2          1610908Panamas 1 Soft Plain 12 Stc (Sktb)  ...  PALEMBANG\n",
              "3  1610908Djarum Istimewa Soft Coklat Plain 12 St...  ...  PALEMBANG\n",
              "4    1610908Gudang Garam Red Soft Kspl 12 Stc (Sktb)  ...  PALEMBANG\n",
              "\n",
              "[5 rows x 42 columns]"
            ]
          },
          "metadata": {},
          "execution_count": 195
        }
      ]
    },
    {
      "cell_type": "markdown",
      "metadata": {
        "id": "duRrJsLuhdaA"
      },
      "source": [
        "## Perhitungan Elapsed Day"
      ]
    },
    {
      "cell_type": "code",
      "metadata": {
        "id": "RoCIavmcXHW8"
      },
      "source": [
        "df_merge['ED_RA1'] = df_merge['RA1'] - df_merge['IA']\n",
        "df_merge['ED_RA2'] = df_merge['RA2'] - df_merge['RA1']\n",
        "df_merge['ED_RA3'] = df_merge['RA3'] - df_merge['RA2']\n",
        "df_merge['ED_RA4'] = df_merge['RA4'] - df_merge['RA3']"
      ],
      "execution_count": 196,
      "outputs": []
    },
    {
      "cell_type": "code",
      "metadata": {
        "colab": {
          "base_uri": "https://localhost:8080/",
          "height": 480
        },
        "id": "fw_gZJZzfCll",
        "outputId": "61a905a1-3d40-4a2d-e353-ac5e3ab04303"
      },
      "source": [
        "df_merge[df_merge['ED_RA1'].isna()].head()"
      ],
      "execution_count": 197,
      "outputs": [
        {
          "output_type": "execute_result",
          "data": {
            "text/html": [
              "<div>\n",
              "<style scoped>\n",
              "    .dataframe tbody tr th:only-of-type {\n",
              "        vertical-align: middle;\n",
              "    }\n",
              "\n",
              "    .dataframe tbody tr th {\n",
              "        vertical-align: top;\n",
              "    }\n",
              "\n",
              "    .dataframe thead th {\n",
              "        text-align: right;\n",
              "    }\n",
              "</style>\n",
              "<table border=\"1\" class=\"dataframe\">\n",
              "  <thead>\n",
              "    <tr style=\"text-align: right;\">\n",
              "      <th></th>\n",
              "      <th>Concatenate</th>\n",
              "      <th>SMS Id</th>\n",
              "      <th>Bar Code</th>\n",
              "      <th>Product Description</th>\n",
              "      <th>IA</th>\n",
              "      <th>RBP_IA</th>\n",
              "      <th>RSP_IA</th>\n",
              "      <th>Stock_IA</th>\n",
              "      <th>RA1</th>\n",
              "      <th>RBP_RA1</th>\n",
              "      <th>RSP_RA1</th>\n",
              "      <th>Stock_RA1</th>\n",
              "      <th>Purchase_RA1</th>\n",
              "      <th>Sales</th>\n",
              "      <th>RA2</th>\n",
              "      <th>RBP_RA2</th>\n",
              "      <th>RSP_RA2</th>\n",
              "      <th>Stock_RA2</th>\n",
              "      <th>Purchase_RA2</th>\n",
              "      <th>Claimed_Sales_RA1(di_RA2)</th>\n",
              "      <th>Comment_RA2</th>\n",
              "      <th>RA3</th>\n",
              "      <th>RBP_RA3</th>\n",
              "      <th>RSP_RA3</th>\n",
              "      <th>Stock_RA3</th>\n",
              "      <th>Purchase_RA3</th>\n",
              "      <th>Claimed_Sales_RA1(di_RA3)</th>\n",
              "      <th>Claimed_Sales_RA2(di_RA3)</th>\n",
              "      <th>Claimed_Sales_RA3(di_RA3)</th>\n",
              "      <th>Comment_RA3</th>\n",
              "      <th>RA4</th>\n",
              "      <th>RBP_RA4</th>\n",
              "      <th>RSP_RA4</th>\n",
              "      <th>Stock_RA4</th>\n",
              "      <th>Purchase_RA4</th>\n",
              "      <th>Claimed_Sales_RA1(di_RA4)</th>\n",
              "      <th>Claimed_Sales_RA2(di_RA4)</th>\n",
              "      <th>Claimed_Sales_RA3(di_RA4)</th>\n",
              "      <th>Comment_RA4</th>\n",
              "      <th>Store Code</th>\n",
              "      <th>Type Toko</th>\n",
              "      <th>Area</th>\n",
              "      <th>ED_RA1</th>\n",
              "      <th>ED_RA2</th>\n",
              "      <th>ED_RA3</th>\n",
              "      <th>ED_RA4</th>\n",
              "    </tr>\n",
              "  </thead>\n",
              "  <tbody>\n",
              "    <tr>\n",
              "      <th>847</th>\n",
              "      <td>1610126Minak Djinggo Kuning Soft Plain 10 Stc ...</td>\n",
              "      <td>1610126</td>\n",
              "      <td>8993989111008</td>\n",
              "      <td>Minak Djinggo Kuning Soft Plain 10 Stc (Sktb)</td>\n",
              "      <td>2021-07-26</td>\n",
              "      <td>8000.0</td>\n",
              "      <td>10000.0</td>\n",
              "      <td>3.0</td>\n",
              "      <td>NaT</td>\n",
              "      <td>NaN</td>\n",
              "      <td>NaN</td>\n",
              "      <td>NaN</td>\n",
              "      <td>NaN</td>\n",
              "      <td>NaN</td>\n",
              "      <td>2021-08-10</td>\n",
              "      <td>8000.0</td>\n",
              "      <td>10000.0</td>\n",
              "      <td>3.0</td>\n",
              "      <td>0.0</td>\n",
              "      <td>0.0</td>\n",
              "      <td>minggu lalu NA</td>\n",
              "      <td>2021-08-17</td>\n",
              "      <td>8000.0</td>\n",
              "      <td>10000.0</td>\n",
              "      <td>3.0</td>\n",
              "      <td>30.0</td>\n",
              "      <td>5.0</td>\n",
              "      <td>10.0</td>\n",
              "      <td>30.0</td>\n",
              "      <td>W3 10</td>\n",
              "      <td>2021-09-04</td>\n",
              "      <td>8000.0</td>\n",
              "      <td>9000.0</td>\n",
              "      <td>20.0</td>\n",
              "      <td>50.0</td>\n",
              "      <td>5.0</td>\n",
              "      <td>10.0</td>\n",
              "      <td>30.0</td>\n",
              "      <td>0</td>\n",
              "      <td>1610126</td>\n",
              "      <td>WARUNG MEDIUM</td>\n",
              "      <td>KARAWANG</td>\n",
              "      <td>NaT</td>\n",
              "      <td>NaT</td>\n",
              "      <td>7 days</td>\n",
              "      <td>18 days</td>\n",
              "    </tr>\n",
              "    <tr>\n",
              "      <th>848</th>\n",
              "      <td>1610126Djarum Coklat Soft Plain 12 Stc (Sktb)</td>\n",
              "      <td>1610126</td>\n",
              "      <td>8991906101644</td>\n",
              "      <td>Djarum Coklat Soft Plain 12 Stc (Sktb)</td>\n",
              "      <td>2021-07-26</td>\n",
              "      <td>13500.0</td>\n",
              "      <td>15000.0</td>\n",
              "      <td>8.0</td>\n",
              "      <td>NaT</td>\n",
              "      <td>NaN</td>\n",
              "      <td>NaN</td>\n",
              "      <td>NaN</td>\n",
              "      <td>NaN</td>\n",
              "      <td>NaN</td>\n",
              "      <td>2021-08-10</td>\n",
              "      <td>13500.0</td>\n",
              "      <td>15000.0</td>\n",
              "      <td>8.0</td>\n",
              "      <td>0.0</td>\n",
              "      <td>0.0</td>\n",
              "      <td>minggu lalu NA</td>\n",
              "      <td>2021-08-17</td>\n",
              "      <td>13500.0</td>\n",
              "      <td>15000.0</td>\n",
              "      <td>8.0</td>\n",
              "      <td>40.0</td>\n",
              "      <td>10.0</td>\n",
              "      <td>20.0</td>\n",
              "      <td>40.0</td>\n",
              "      <td>W3 20</td>\n",
              "      <td>2021-09-04</td>\n",
              "      <td>13000.0</td>\n",
              "      <td>14000.0</td>\n",
              "      <td>20.0</td>\n",
              "      <td>60.0</td>\n",
              "      <td>10.0</td>\n",
              "      <td>20.0</td>\n",
              "      <td>40.0</td>\n",
              "      <td>S4U: Pelanggan Baru</td>\n",
              "      <td>1610126</td>\n",
              "      <td>WARUNG MEDIUM</td>\n",
              "      <td>KARAWANG</td>\n",
              "      <td>NaT</td>\n",
              "      <td>NaT</td>\n",
              "      <td>7 days</td>\n",
              "      <td>18 days</td>\n",
              "    </tr>\n",
              "    <tr>\n",
              "      <th>849</th>\n",
              "      <td>1610126Dji Sam Soe Soft Plain 12 Stc (Sktb)</td>\n",
              "      <td>1610126</td>\n",
              "      <td>8999909028234</td>\n",
              "      <td>Dji Sam Soe Soft Plain 12 Stc (Sktb)</td>\n",
              "      <td>2021-07-26</td>\n",
              "      <td>16000.0</td>\n",
              "      <td>18000.0</td>\n",
              "      <td>15.0</td>\n",
              "      <td>NaT</td>\n",
              "      <td>NaN</td>\n",
              "      <td>NaN</td>\n",
              "      <td>NaN</td>\n",
              "      <td>NaN</td>\n",
              "      <td>NaN</td>\n",
              "      <td>2021-08-10</td>\n",
              "      <td>16000.0</td>\n",
              "      <td>18000.0</td>\n",
              "      <td>15.0</td>\n",
              "      <td>0.0</td>\n",
              "      <td>0.0</td>\n",
              "      <td>minggu lalu NA</td>\n",
              "      <td>2021-08-17</td>\n",
              "      <td>16000.0</td>\n",
              "      <td>18000.0</td>\n",
              "      <td>15.0</td>\n",
              "      <td>60.0</td>\n",
              "      <td>20.0</td>\n",
              "      <td>30.0</td>\n",
              "      <td>60.0</td>\n",
              "      <td>W3 30</td>\n",
              "      <td>2021-09-04</td>\n",
              "      <td>15900.0</td>\n",
              "      <td>17500.0</td>\n",
              "      <td>45.0</td>\n",
              "      <td>100.0</td>\n",
              "      <td>20.0</td>\n",
              "      <td>30.0</td>\n",
              "      <td>60.0</td>\n",
              "      <td>S4U: Pelanggan Baru</td>\n",
              "      <td>1610126</td>\n",
              "      <td>WARUNG MEDIUM</td>\n",
              "      <td>KARAWANG</td>\n",
              "      <td>NaT</td>\n",
              "      <td>NaT</td>\n",
              "      <td>7 days</td>\n",
              "      <td>18 days</td>\n",
              "    </tr>\n",
              "    <tr>\n",
              "      <th>850</th>\n",
              "      <td>1610126Gudang Garam Red Soft Kspl 12 Stc (Sktb)</td>\n",
              "      <td>1610126</td>\n",
              "      <td>8998989501125</td>\n",
              "      <td>Gudang Garam Red Soft Kspl 12 Stc (Sktb)</td>\n",
              "      <td>2021-07-26</td>\n",
              "      <td>12600.0</td>\n",
              "      <td>14000.0</td>\n",
              "      <td>10.0</td>\n",
              "      <td>NaT</td>\n",
              "      <td>NaN</td>\n",
              "      <td>NaN</td>\n",
              "      <td>NaN</td>\n",
              "      <td>NaN</td>\n",
              "      <td>NaN</td>\n",
              "      <td>2021-08-10</td>\n",
              "      <td>12600.0</td>\n",
              "      <td>14000.0</td>\n",
              "      <td>10.0</td>\n",
              "      <td>0.0</td>\n",
              "      <td>0.0</td>\n",
              "      <td>Minggu lalu NA</td>\n",
              "      <td>2021-08-17</td>\n",
              "      <td>12600.0</td>\n",
              "      <td>14000.0</td>\n",
              "      <td>10.0</td>\n",
              "      <td>0.0</td>\n",
              "      <td>10.0</td>\n",
              "      <td>0.0</td>\n",
              "      <td>0.0</td>\n",
              "      <td>0</td>\n",
              "      <td>2021-09-04</td>\n",
              "      <td>12200.0</td>\n",
              "      <td>14000.0</td>\n",
              "      <td>50.0</td>\n",
              "      <td>100.0</td>\n",
              "      <td>10.0</td>\n",
              "      <td>0.0</td>\n",
              "      <td>0.0</td>\n",
              "      <td>baru belanaj</td>\n",
              "      <td>1610126</td>\n",
              "      <td>WARUNG MEDIUM</td>\n",
              "      <td>KARAWANG</td>\n",
              "      <td>NaT</td>\n",
              "      <td>NaT</td>\n",
              "      <td>7 days</td>\n",
              "      <td>18 days</td>\n",
              "    </tr>\n",
              "    <tr>\n",
              "      <th>851</th>\n",
              "      <td>1610126Sampoerna 'A' Hijau Box Plain 12 Stc (S...</td>\n",
              "      <td>1610126</td>\n",
              "      <td>8999909085114</td>\n",
              "      <td>Sampoerna 'A' Hijau Box Plain 12 Stc (Sktb)</td>\n",
              "      <td>2021-07-26</td>\n",
              "      <td>11700.0</td>\n",
              "      <td>14000.0</td>\n",
              "      <td>10.0</td>\n",
              "      <td>NaT</td>\n",
              "      <td>NaN</td>\n",
              "      <td>NaN</td>\n",
              "      <td>NaN</td>\n",
              "      <td>NaN</td>\n",
              "      <td>NaN</td>\n",
              "      <td>2021-08-10</td>\n",
              "      <td>11700.0</td>\n",
              "      <td>14000.0</td>\n",
              "      <td>10.0</td>\n",
              "      <td>0.0</td>\n",
              "      <td>0.0</td>\n",
              "      <td>minggu lalu NA</td>\n",
              "      <td>2021-08-17</td>\n",
              "      <td>11700.0</td>\n",
              "      <td>14000.0</td>\n",
              "      <td>10.0</td>\n",
              "      <td>40.0</td>\n",
              "      <td>10.0</td>\n",
              "      <td>20.0</td>\n",
              "      <td>40.0</td>\n",
              "      <td>w3 20</td>\n",
              "      <td>2021-09-04</td>\n",
              "      <td>11600.0</td>\n",
              "      <td>13000.0</td>\n",
              "      <td>30.0</td>\n",
              "      <td>70.0</td>\n",
              "      <td>10.0</td>\n",
              "      <td>20.0</td>\n",
              "      <td>40.0</td>\n",
              "      <td>S4U: Pelanggan Baru</td>\n",
              "      <td>1610126</td>\n",
              "      <td>WARUNG MEDIUM</td>\n",
              "      <td>KARAWANG</td>\n",
              "      <td>NaT</td>\n",
              "      <td>NaT</td>\n",
              "      <td>7 days</td>\n",
              "      <td>18 days</td>\n",
              "    </tr>\n",
              "  </tbody>\n",
              "</table>\n",
              "</div>"
            ],
            "text/plain": [
              "                                           Concatenate   SMS Id  ...  ED_RA3  ED_RA4\n",
              "847  1610126Minak Djinggo Kuning Soft Plain 10 Stc ...  1610126  ...  7 days 18 days\n",
              "848      1610126Djarum Coklat Soft Plain 12 Stc (Sktb)  1610126  ...  7 days 18 days\n",
              "849        1610126Dji Sam Soe Soft Plain 12 Stc (Sktb)  1610126  ...  7 days 18 days\n",
              "850    1610126Gudang Garam Red Soft Kspl 12 Stc (Sktb)  1610126  ...  7 days 18 days\n",
              "851  1610126Sampoerna 'A' Hijau Box Plain 12 Stc (S...  1610126  ...  7 days 18 days\n",
              "\n",
              "[5 rows x 46 columns]"
            ]
          },
          "metadata": {},
          "execution_count": 197
        }
      ]
    },
    {
      "cell_type": "markdown",
      "metadata": {
        "id": "nlzbZg1EhjZx"
      },
      "source": [
        "## Perhitungan Sales dengan Elapsed Day"
      ]
    },
    {
      "cell_type": "code",
      "metadata": {
        "id": "3MTd8DzmyeG6"
      },
      "source": [
        "oneday = pd.Timedelta(days=1)"
      ],
      "execution_count": 198,
      "outputs": []
    },
    {
      "cell_type": "code",
      "metadata": {
        "id": "MkIL3qA_3FPh"
      },
      "source": [
        "df_merge['Claimed_Sales_RA1'] = np.where(df_merge['Claimed_Sales_RA1(di_RA3)']!=0, df_merge['Claimed_Sales_RA1(di_RA3)'], \n",
        "                                         df_merge['Claimed_Sales_RA1(di_RA2)'])\n",
        "df_merge['Claimed_Sales_RA2'] = df_merge['Claimed_Sales_RA2(di_RA3)']\n",
        "df_merge['Claimed_Sales_RA3'] = df_merge['Claimed_Sales_RA3(di_RA3)']\n",
        "\n",
        "df_merge = df_merge.drop(['Claimed_Sales_RA1(di_RA3)','Claimed_Sales_RA1(di_RA2)','Claimed_Sales_RA1(di_RA3)','Claimed_Sales_RA3(di_RA3)'], axis=1)"
      ],
      "execution_count": 199,
      "outputs": []
    },
    {
      "cell_type": "code",
      "metadata": {
        "id": "4fyQL0Eoyh7i"
      },
      "source": [
        "df_merge['ED_RA1'] = df_merge['ED_RA1']/oneday\n",
        "df_merge['ED_RA2'] = df_merge['ED_RA2']/oneday\n",
        "df_merge['ED_RA3'] = df_merge['ED_RA3']/oneday\n",
        "df_merge['ED_RA4'] = df_merge['ED_RA4']/oneday"
      ],
      "execution_count": 200,
      "outputs": []
    },
    {
      "cell_type": "code",
      "metadata": {
        "id": "rK0I9SL915sa"
      },
      "source": [
        "df_merge['ED_RA1'] = df_merge['ED_RA1'].fillna(0)\n",
        "df_merge['ED_RA2'] = df_merge['ED_RA2'].fillna(0)\n",
        "df_merge['ED_RA3'] = df_merge['ED_RA3'].fillna(0)\n",
        "df_merge['ED_RA4'] = df_merge['ED_RA4'].fillna(0)"
      ],
      "execution_count": 201,
      "outputs": []
    },
    {
      "cell_type": "code",
      "metadata": {
        "id": "vG80_ixSVIta"
      },
      "source": [
        "df_merge['Sales_RA1'] = np.where(df_merge['ED_RA1']!=0, round((df_merge['Stock_IA']+df_merge['Purchase_RA1']-df_merge['Stock_RA1'])/df_merge['ED_RA1']*7), df_merge['Claimed_Sales_RA1'])\n",
        "df_merge['Sales_RA2'] = np.where(df_merge['ED_RA2']!=0, round((df_merge['Stock_RA1']+df_merge['Purchase_RA2']-df_merge['Stock_RA2'])/df_merge['ED_RA2']*7), df_merge['Claimed_Sales_RA2'])\n",
        "df_merge['Sales_RA3'] = np.where(df_merge['ED_RA3']!=0, round((df_merge['Stock_RA2']+df_merge['Purchase_RA3']-df_merge['Stock_RA3'])/df_merge['ED_RA3']*7), df_merge['Claimed_Sales_RA3'])\n",
        "df_merge['Sales_RA4'] = np.where(df_merge['ED_RA4']!=0, round((df_merge['Stock_RA3']+df_merge['Purchase_RA4']-df_merge['Stock_RA4'])/df_merge['ED_RA4']*14), 0)"
      ],
      "execution_count": 206,
      "outputs": []
    },
    {
      "cell_type": "code",
      "metadata": {
        "colab": {
          "base_uri": "https://localhost:8080/",
          "height": 561
        },
        "id": "BLitnOog9ORk",
        "outputId": "bfb8b7f6-ec94-4058-8601-b2aca578ad98"
      },
      "source": [
        "df_merge.head()"
      ],
      "execution_count": 210,
      "outputs": [
        {
          "output_type": "execute_result",
          "data": {
            "text/html": [
              "<div>\n",
              "<style scoped>\n",
              "    .dataframe tbody tr th:only-of-type {\n",
              "        vertical-align: middle;\n",
              "    }\n",
              "\n",
              "    .dataframe tbody tr th {\n",
              "        vertical-align: top;\n",
              "    }\n",
              "\n",
              "    .dataframe thead th {\n",
              "        text-align: right;\n",
              "    }\n",
              "</style>\n",
              "<table border=\"1\" class=\"dataframe\">\n",
              "  <thead>\n",
              "    <tr style=\"text-align: right;\">\n",
              "      <th></th>\n",
              "      <th>Concatenate</th>\n",
              "      <th>SMS Id</th>\n",
              "      <th>Bar Code</th>\n",
              "      <th>Product Description</th>\n",
              "      <th>IA</th>\n",
              "      <th>RBP_IA</th>\n",
              "      <th>RSP_IA</th>\n",
              "      <th>Stock_IA</th>\n",
              "      <th>RA1</th>\n",
              "      <th>RBP_RA1</th>\n",
              "      <th>RSP_RA1</th>\n",
              "      <th>Stock_RA1</th>\n",
              "      <th>Purchase_RA1</th>\n",
              "      <th>Sales</th>\n",
              "      <th>RA2</th>\n",
              "      <th>RBP_RA2</th>\n",
              "      <th>RSP_RA2</th>\n",
              "      <th>Stock_RA2</th>\n",
              "      <th>Purchase_RA2</th>\n",
              "      <th>Comment_RA2</th>\n",
              "      <th>RA3</th>\n",
              "      <th>RBP_RA3</th>\n",
              "      <th>RSP_RA3</th>\n",
              "      <th>Stock_RA3</th>\n",
              "      <th>Purchase_RA3</th>\n",
              "      <th>Claimed_Sales_RA2(di_RA3)</th>\n",
              "      <th>Comment_RA3</th>\n",
              "      <th>RA4</th>\n",
              "      <th>RBP_RA4</th>\n",
              "      <th>RSP_RA4</th>\n",
              "      <th>Stock_RA4</th>\n",
              "      <th>Purchase_RA4</th>\n",
              "      <th>Claimed_Sales_RA1(di_RA4)</th>\n",
              "      <th>Claimed_Sales_RA2(di_RA4)</th>\n",
              "      <th>Claimed_Sales_RA3(di_RA4)</th>\n",
              "      <th>Comment_RA4</th>\n",
              "      <th>Store Code</th>\n",
              "      <th>Type Toko</th>\n",
              "      <th>Area</th>\n",
              "      <th>ED_RA1</th>\n",
              "      <th>ED_RA2</th>\n",
              "      <th>ED_RA3</th>\n",
              "      <th>ED_RA4</th>\n",
              "      <th>Claimed_Sales_RA1</th>\n",
              "      <th>Claimed_Sales_RA2</th>\n",
              "      <th>Claimed_Sales_RA3</th>\n",
              "      <th>Sales_RA1</th>\n",
              "      <th>Sales_RA2</th>\n",
              "      <th>Sales_RA3</th>\n",
              "      <th>Sales_RA4</th>\n",
              "    </tr>\n",
              "  </thead>\n",
              "  <tbody>\n",
              "    <tr>\n",
              "      <th>0</th>\n",
              "      <td>1609986Gudang Garam Red Soft Kspl 12 Stc (Sktb)</td>\n",
              "      <td>1609986</td>\n",
              "      <td>8998989501125</td>\n",
              "      <td>Gudang Garam Red Soft Kspl 12 Stc (Sktb)</td>\n",
              "      <td>2021-07-26</td>\n",
              "      <td>12500.0</td>\n",
              "      <td>13000.0</td>\n",
              "      <td>20.0</td>\n",
              "      <td>2021-08-02</td>\n",
              "      <td>12500.0</td>\n",
              "      <td>13000.0</td>\n",
              "      <td>3.0</td>\n",
              "      <td>0.0</td>\n",
              "      <td>NaN</td>\n",
              "      <td>2021-08-10</td>\n",
              "      <td>12500.0</td>\n",
              "      <td>13000.0</td>\n",
              "      <td>3.0</td>\n",
              "      <td>17.0</td>\n",
              "      <td>0</td>\n",
              "      <td>2021-08-18</td>\n",
              "      <td>12500.0</td>\n",
              "      <td>13000.0</td>\n",
              "      <td>3.0</td>\n",
              "      <td>20.0</td>\n",
              "      <td>17.0</td>\n",
              "      <td>COVID - Sales naik, banyak permintaan produk/k...</td>\n",
              "      <td>2021-09-03</td>\n",
              "      <td>12200.0</td>\n",
              "      <td>13000.0</td>\n",
              "      <td>2.0</td>\n",
              "      <td>20.0</td>\n",
              "      <td>17.0</td>\n",
              "      <td>17.0</td>\n",
              "      <td>20.0</td>\n",
              "      <td>0</td>\n",
              "      <td>1609986</td>\n",
              "      <td>WARUNG MEDIUM</td>\n",
              "      <td>PALEMBANG</td>\n",
              "      <td>7.0</td>\n",
              "      <td>8.0</td>\n",
              "      <td>8.0</td>\n",
              "      <td>16.0</td>\n",
              "      <td>17.0</td>\n",
              "      <td>17.0</td>\n",
              "      <td>20.0</td>\n",
              "      <td>17.0</td>\n",
              "      <td>15.0</td>\n",
              "      <td>18.0</td>\n",
              "      <td>18.0</td>\n",
              "    </tr>\n",
              "    <tr>\n",
              "      <th>1</th>\n",
              "      <td>1610908Dji Sam Soe Soft Plain 12 Stc (Sktb)</td>\n",
              "      <td>1610908</td>\n",
              "      <td>8999909028234</td>\n",
              "      <td>Dji Sam Soe Soft Plain 12 Stc (Sktb)</td>\n",
              "      <td>2021-07-26</td>\n",
              "      <td>16500.0</td>\n",
              "      <td>18000.0</td>\n",
              "      <td>5.0</td>\n",
              "      <td>2021-08-03</td>\n",
              "      <td>16000.0</td>\n",
              "      <td>18000.0</td>\n",
              "      <td>10.0</td>\n",
              "      <td>10.0</td>\n",
              "      <td>NaN</td>\n",
              "      <td>2021-08-09</td>\n",
              "      <td>16000.0</td>\n",
              "      <td>18000.0</td>\n",
              "      <td>10.0</td>\n",
              "      <td>10.0</td>\n",
              "      <td>COVID - Sales naik, banyak permintaan produk/k...</td>\n",
              "      <td>2021-08-18</td>\n",
              "      <td>15850.0</td>\n",
              "      <td>18000.0</td>\n",
              "      <td>10.0</td>\n",
              "      <td>30.0</td>\n",
              "      <td>10.0</td>\n",
              "      <td>COVID - Sales naik, banyak permintaan produk/k...</td>\n",
              "      <td>2021-09-03</td>\n",
              "      <td>15900.0</td>\n",
              "      <td>18000.0</td>\n",
              "      <td>1.0</td>\n",
              "      <td>40.0</td>\n",
              "      <td>5.0</td>\n",
              "      <td>10.0</td>\n",
              "      <td>30.0</td>\n",
              "      <td>COVID - Sales naik, banyak permintaan produk/k...</td>\n",
              "      <td>1610908</td>\n",
              "      <td>WARUNG MEDIUM</td>\n",
              "      <td>PALEMBANG</td>\n",
              "      <td>8.0</td>\n",
              "      <td>6.0</td>\n",
              "      <td>9.0</td>\n",
              "      <td>16.0</td>\n",
              "      <td>5.0</td>\n",
              "      <td>10.0</td>\n",
              "      <td>30.0</td>\n",
              "      <td>4.0</td>\n",
              "      <td>12.0</td>\n",
              "      <td>23.0</td>\n",
              "      <td>43.0</td>\n",
              "    </tr>\n",
              "    <tr>\n",
              "      <th>2</th>\n",
              "      <td>1610908Panamas 1 Soft Plain 12 Stc (Sktb)</td>\n",
              "      <td>1610908</td>\n",
              "      <td>8999909039124</td>\n",
              "      <td>Panamas 1 Soft Plain 12 Stc (Sktb)</td>\n",
              "      <td>2021-07-26</td>\n",
              "      <td>12500.0</td>\n",
              "      <td>14000.0</td>\n",
              "      <td>10.0</td>\n",
              "      <td>2021-08-03</td>\n",
              "      <td>12500.0</td>\n",
              "      <td>14000.0</td>\n",
              "      <td>10.0</td>\n",
              "      <td>0.0</td>\n",
              "      <td>NaN</td>\n",
              "      <td>2021-08-09</td>\n",
              "      <td>12500.0</td>\n",
              "      <td>14000.0</td>\n",
              "      <td>10.0</td>\n",
              "      <td>10.0</td>\n",
              "      <td>COVID - Sales naik, banyak permintaan produk/k...</td>\n",
              "      <td>2021-08-18</td>\n",
              "      <td>12500.0</td>\n",
              "      <td>14000.0</td>\n",
              "      <td>10.0</td>\n",
              "      <td>60.0</td>\n",
              "      <td>10.0</td>\n",
              "      <td>COVID - Sales naik, banyak permintaan produk/k...</td>\n",
              "      <td>2021-09-03</td>\n",
              "      <td>12500.0</td>\n",
              "      <td>14000.0</td>\n",
              "      <td>1.0</td>\n",
              "      <td>10.0</td>\n",
              "      <td>0.0</td>\n",
              "      <td>10.0</td>\n",
              "      <td>60.0</td>\n",
              "      <td>COVID - Sales turun karena kekurangan pasokan</td>\n",
              "      <td>1610908</td>\n",
              "      <td>WARUNG MEDIUM</td>\n",
              "      <td>PALEMBANG</td>\n",
              "      <td>8.0</td>\n",
              "      <td>6.0</td>\n",
              "      <td>9.0</td>\n",
              "      <td>16.0</td>\n",
              "      <td>0.0</td>\n",
              "      <td>10.0</td>\n",
              "      <td>60.0</td>\n",
              "      <td>0.0</td>\n",
              "      <td>12.0</td>\n",
              "      <td>47.0</td>\n",
              "      <td>17.0</td>\n",
              "    </tr>\n",
              "    <tr>\n",
              "      <th>3</th>\n",
              "      <td>1610908Djarum Istimewa Soft Coklat Plain 12 St...</td>\n",
              "      <td>1610908</td>\n",
              "      <td>8991906101651</td>\n",
              "      <td>Djarum Istimewa Soft Coklat Plain 12 Stc (Sktb)</td>\n",
              "      <td>2021-07-26</td>\n",
              "      <td>12500.0</td>\n",
              "      <td>14000.0</td>\n",
              "      <td>10.0</td>\n",
              "      <td>2021-08-03</td>\n",
              "      <td>12500.0</td>\n",
              "      <td>14000.0</td>\n",
              "      <td>10.0</td>\n",
              "      <td>0.0</td>\n",
              "      <td>NaN</td>\n",
              "      <td>2021-08-09</td>\n",
              "      <td>12500.0</td>\n",
              "      <td>14000.0</td>\n",
              "      <td>10.0</td>\n",
              "      <td>10.0</td>\n",
              "      <td>COVID - Sales naik, banyak permintaan produk/k...</td>\n",
              "      <td>2021-08-18</td>\n",
              "      <td>12500.0</td>\n",
              "      <td>14000.0</td>\n",
              "      <td>10.0</td>\n",
              "      <td>30.0</td>\n",
              "      <td>10.0</td>\n",
              "      <td>COVID - Sales naik, banyak permintaan produk/k...</td>\n",
              "      <td>2021-09-03</td>\n",
              "      <td>12500.0</td>\n",
              "      <td>14000.0</td>\n",
              "      <td>1.0</td>\n",
              "      <td>10.0</td>\n",
              "      <td>0.0</td>\n",
              "      <td>10.0</td>\n",
              "      <td>30.0</td>\n",
              "      <td>COVID - Sales turun karena kekurangan pasokan</td>\n",
              "      <td>1610908</td>\n",
              "      <td>WARUNG MEDIUM</td>\n",
              "      <td>PALEMBANG</td>\n",
              "      <td>8.0</td>\n",
              "      <td>6.0</td>\n",
              "      <td>9.0</td>\n",
              "      <td>16.0</td>\n",
              "      <td>0.0</td>\n",
              "      <td>10.0</td>\n",
              "      <td>30.0</td>\n",
              "      <td>0.0</td>\n",
              "      <td>12.0</td>\n",
              "      <td>23.0</td>\n",
              "      <td>17.0</td>\n",
              "    </tr>\n",
              "    <tr>\n",
              "      <th>4</th>\n",
              "      <td>1610908Gudang Garam Red Soft Kspl 12 Stc (Sktb)</td>\n",
              "      <td>1610908</td>\n",
              "      <td>8998989501125</td>\n",
              "      <td>Gudang Garam Red Soft Kspl 12 Stc (Sktb)</td>\n",
              "      <td>2021-07-26</td>\n",
              "      <td>12500.0</td>\n",
              "      <td>14000.0</td>\n",
              "      <td>10.0</td>\n",
              "      <td>2021-08-03</td>\n",
              "      <td>12500.0</td>\n",
              "      <td>14000.0</td>\n",
              "      <td>10.0</td>\n",
              "      <td>0.0</td>\n",
              "      <td>NaN</td>\n",
              "      <td>2021-08-09</td>\n",
              "      <td>12500.0</td>\n",
              "      <td>14000.0</td>\n",
              "      <td>10.0</td>\n",
              "      <td>10.0</td>\n",
              "      <td>COVID - Sales naik, banyak permintaan produk/k...</td>\n",
              "      <td>2021-08-18</td>\n",
              "      <td>12150.0</td>\n",
              "      <td>14000.0</td>\n",
              "      <td>10.0</td>\n",
              "      <td>30.0</td>\n",
              "      <td>10.0</td>\n",
              "      <td>COVID - Sales naik, banyak permintaan produk/k...</td>\n",
              "      <td>2021-09-03</td>\n",
              "      <td>12500.0</td>\n",
              "      <td>14000.0</td>\n",
              "      <td>1.0</td>\n",
              "      <td>20.0</td>\n",
              "      <td>0.0</td>\n",
              "      <td>10.0</td>\n",
              "      <td>30.0</td>\n",
              "      <td>0</td>\n",
              "      <td>1610908</td>\n",
              "      <td>WARUNG MEDIUM</td>\n",
              "      <td>PALEMBANG</td>\n",
              "      <td>8.0</td>\n",
              "      <td>6.0</td>\n",
              "      <td>9.0</td>\n",
              "      <td>16.0</td>\n",
              "      <td>0.0</td>\n",
              "      <td>10.0</td>\n",
              "      <td>30.0</td>\n",
              "      <td>0.0</td>\n",
              "      <td>12.0</td>\n",
              "      <td>23.0</td>\n",
              "      <td>25.0</td>\n",
              "    </tr>\n",
              "  </tbody>\n",
              "</table>\n",
              "</div>"
            ],
            "text/plain": [
              "                                         Concatenate  ...  Sales_RA4\n",
              "0    1609986Gudang Garam Red Soft Kspl 12 Stc (Sktb)  ...       18.0\n",
              "1        1610908Dji Sam Soe Soft Plain 12 Stc (Sktb)  ...       43.0\n",
              "2          1610908Panamas 1 Soft Plain 12 Stc (Sktb)  ...       17.0\n",
              "3  1610908Djarum Istimewa Soft Coklat Plain 12 St...  ...       17.0\n",
              "4    1610908Gudang Garam Red Soft Kspl 12 Stc (Sktb)  ...       25.0\n",
              "\n",
              "[5 rows x 50 columns]"
            ]
          },
          "metadata": {},
          "execution_count": 210
        }
      ]
    },
    {
      "cell_type": "markdown",
      "metadata": {
        "id": "0IX_tezfhrv4"
      },
      "source": [
        "## Perhitungan Growth per Product Description per Area"
      ]
    },
    {
      "cell_type": "code",
      "metadata": {
        "id": "2mQ_wUKxibm5"
      },
      "source": [
        "# Hanya ambil data yang lengkap saja\n",
        "C1 = (df_merge['Sales_RA1']!=0.0) & (df_merge['Sales_RA1'].notna())\n",
        "C2 = (df_merge['Sales_RA2']!=0.0) & (df_merge['Sales_RA2'].notna())\n",
        "C3 = (df_merge['Sales_RA3']!=0.0) & (df_merge['Sales_RA3'].notna())\n",
        "data_lengkap = df_merge[C1 & C2 & C3]\n",
        "pivot_data = pd.pivot_table(data_lengkap,\n",
        "                            index=['Area','Product Description'],\n",
        "                            values=['Sales_RA1','Sales_RA2','Sales_RA3'],\n",
        "                            aggfunc='sum').reset_index()\n",
        "pivot_data['Growth RA2'] = (pivot_data['Sales_RA2']-pivot_data['Sales_RA1'])/pivot_data['Sales_RA1']\n",
        "pivot_data['Growth RA3'] = (pivot_data['Sales_RA3']-pivot_data['Sales_RA2'])/pivot_data['Sales_RA2']"
      ],
      "execution_count": 225,
      "outputs": []
    },
    {
      "cell_type": "code",
      "metadata": {
        "id": "T9yOax3ftMIG"
      },
      "source": [
        "pivot_data.insert(0, 'Concatenate', pivot_data['Area'] + pivot_data['Product Description'])"
      ],
      "execution_count": 226,
      "outputs": []
    },
    {
      "cell_type": "code",
      "metadata": {
        "id": "XrZwD__DJzxJ",
        "outputId": "a397ad78-a2a0-46f1-936b-b03a73a43693",
        "colab": {
          "base_uri": "https://localhost:8080/",
          "height": 1000
        }
      },
      "source": [
        "pivot_data"
      ],
      "execution_count": 227,
      "outputs": [
        {
          "output_type": "execute_result",
          "data": {
            "text/html": [
              "<div>\n",
              "<style scoped>\n",
              "    .dataframe tbody tr th:only-of-type {\n",
              "        vertical-align: middle;\n",
              "    }\n",
              "\n",
              "    .dataframe tbody tr th {\n",
              "        vertical-align: top;\n",
              "    }\n",
              "\n",
              "    .dataframe thead th {\n",
              "        text-align: right;\n",
              "    }\n",
              "</style>\n",
              "<table border=\"1\" class=\"dataframe\">\n",
              "  <thead>\n",
              "    <tr style=\"text-align: right;\">\n",
              "      <th></th>\n",
              "      <th>Concatenate</th>\n",
              "      <th>Area</th>\n",
              "      <th>Product Description</th>\n",
              "      <th>Sales_RA1</th>\n",
              "      <th>Sales_RA2</th>\n",
              "      <th>Sales_RA3</th>\n",
              "      <th>Growth RA2</th>\n",
              "      <th>Growth RA3</th>\n",
              "    </tr>\n",
              "  </thead>\n",
              "  <tbody>\n",
              "    <tr>\n",
              "      <th>0</th>\n",
              "      <td>KARAWANGApache Brown Box Plain 12 Stc (Sktb)</td>\n",
              "      <td>KARAWANG</td>\n",
              "      <td>Apache Brown Box Plain 12 Stc (Sktb)</td>\n",
              "      <td>10.0</td>\n",
              "      <td>8.0</td>\n",
              "      <td>7.0</td>\n",
              "      <td>-0.200000</td>\n",
              "      <td>-0.125000</td>\n",
              "    </tr>\n",
              "    <tr>\n",
              "      <th>1</th>\n",
              "      <td>KARAWANGDivo Box Plain 12 Stc (Sktb)</td>\n",
              "      <td>KARAWANG</td>\n",
              "      <td>Divo Box Plain 12 Stc (Sktb)</td>\n",
              "      <td>299.0</td>\n",
              "      <td>308.0</td>\n",
              "      <td>270.0</td>\n",
              "      <td>0.030100</td>\n",
              "      <td>-0.123377</td>\n",
              "    </tr>\n",
              "    <tr>\n",
              "      <th>2</th>\n",
              "      <td>KARAWANGDjarum Coklat Extra Box Plain 12 Stc (...</td>\n",
              "      <td>KARAWANG</td>\n",
              "      <td>Djarum Coklat Extra Box Plain 12 Stc (Sktb)</td>\n",
              "      <td>20.0</td>\n",
              "      <td>30.0</td>\n",
              "      <td>15.0</td>\n",
              "      <td>0.500000</td>\n",
              "      <td>-0.500000</td>\n",
              "    </tr>\n",
              "    <tr>\n",
              "      <th>3</th>\n",
              "      <td>KARAWANGDjarum Coklat Soft Plain 12 Stc (Sktb)</td>\n",
              "      <td>KARAWANG</td>\n",
              "      <td>Djarum Coklat Soft Plain 12 Stc (Sktb)</td>\n",
              "      <td>467.0</td>\n",
              "      <td>538.0</td>\n",
              "      <td>579.0</td>\n",
              "      <td>0.152034</td>\n",
              "      <td>0.076208</td>\n",
              "    </tr>\n",
              "    <tr>\n",
              "      <th>4</th>\n",
              "      <td>KARAWANGDji Sam Soe Soft Plain 12 Stc (Sktb)</td>\n",
              "      <td>KARAWANG</td>\n",
              "      <td>Dji Sam Soe Soft Plain 12 Stc (Sktb)</td>\n",
              "      <td>835.0</td>\n",
              "      <td>1041.0</td>\n",
              "      <td>1029.0</td>\n",
              "      <td>0.246707</td>\n",
              "      <td>-0.011527</td>\n",
              "    </tr>\n",
              "    <tr>\n",
              "      <th>5</th>\n",
              "      <td>KARAWANGGudang Garam Red Soft Kspl 12 Stc (Sktb)</td>\n",
              "      <td>KARAWANG</td>\n",
              "      <td>Gudang Garam Red Soft Kspl 12 Stc (Sktb)</td>\n",
              "      <td>788.0</td>\n",
              "      <td>870.0</td>\n",
              "      <td>925.0</td>\n",
              "      <td>0.104061</td>\n",
              "      <td>0.063218</td>\n",
              "    </tr>\n",
              "    <tr>\n",
              "      <th>6</th>\n",
              "      <td>KARAWANGGudang Garam Taman Sriwedari Soft Plai...</td>\n",
              "      <td>KARAWANG</td>\n",
              "      <td>Gudang Garam Taman Sriwedari Soft Plain 12 Stc...</td>\n",
              "      <td>12.0</td>\n",
              "      <td>28.0</td>\n",
              "      <td>20.0</td>\n",
              "      <td>1.333333</td>\n",
              "      <td>-0.285714</td>\n",
              "    </tr>\n",
              "    <tr>\n",
              "      <th>7</th>\n",
              "      <td>KARAWANGMinak Djinggo Kuning Soft Plain 10 Stc...</td>\n",
              "      <td>KARAWANG</td>\n",
              "      <td>Minak Djinggo Kuning Soft Plain 10 Stc (Sktb)</td>\n",
              "      <td>397.0</td>\n",
              "      <td>480.0</td>\n",
              "      <td>397.0</td>\n",
              "      <td>0.209068</td>\n",
              "      <td>-0.172917</td>\n",
              "    </tr>\n",
              "    <tr>\n",
              "      <th>8</th>\n",
              "      <td>KARAWANGSampoerna 'A' Hijau Box Plain 12 Stc (...</td>\n",
              "      <td>KARAWANG</td>\n",
              "      <td>Sampoerna 'A' Hijau Box Plain 12 Stc (Sktb)</td>\n",
              "      <td>695.0</td>\n",
              "      <td>847.0</td>\n",
              "      <td>853.0</td>\n",
              "      <td>0.218705</td>\n",
              "      <td>0.007084</td>\n",
              "    </tr>\n",
              "    <tr>\n",
              "      <th>9</th>\n",
              "      <td>KUPANG153 Satu Lima Tiga Lista Kumala Soft Pla...</td>\n",
              "      <td>KUPANG</td>\n",
              "      <td>153 Satu Lima Tiga Lista Kumala Soft Plain 12 ...</td>\n",
              "      <td>1034.0</td>\n",
              "      <td>2582.0</td>\n",
              "      <td>2601.0</td>\n",
              "      <td>1.497099</td>\n",
              "      <td>0.007359</td>\n",
              "    </tr>\n",
              "    <tr>\n",
              "      <th>10</th>\n",
              "      <td>KUPANGBulls Box Plain 12 Stc (Sktb)</td>\n",
              "      <td>KUPANG</td>\n",
              "      <td>Bulls Box Plain 12 Stc (Sktb)</td>\n",
              "      <td>136.0</td>\n",
              "      <td>317.0</td>\n",
              "      <td>463.0</td>\n",
              "      <td>1.330882</td>\n",
              "      <td>0.460568</td>\n",
              "    </tr>\n",
              "    <tr>\n",
              "      <th>11</th>\n",
              "      <td>KUPANGDji Sam Soe Edisi Khusus Soft Plain 12 S...</td>\n",
              "      <td>KUPANG</td>\n",
              "      <td>Dji Sam Soe Edisi Khusus Soft Plain 12 Stc (Sktb)</td>\n",
              "      <td>35.0</td>\n",
              "      <td>43.0</td>\n",
              "      <td>70.0</td>\n",
              "      <td>0.228571</td>\n",
              "      <td>0.627907</td>\n",
              "    </tr>\n",
              "    <tr>\n",
              "      <th>12</th>\n",
              "      <td>KUPANGDji Sam Soe Soft Plain 12 Stc (Sktb)</td>\n",
              "      <td>KUPANG</td>\n",
              "      <td>Dji Sam Soe Soft Plain 12 Stc (Sktb)</td>\n",
              "      <td>201.0</td>\n",
              "      <td>286.0</td>\n",
              "      <td>324.0</td>\n",
              "      <td>0.422886</td>\n",
              "      <td>0.132867</td>\n",
              "    </tr>\n",
              "    <tr>\n",
              "      <th>13</th>\n",
              "      <td>KUPANGGudang Garam Red Box Kspl 12 Stc (Sktb)</td>\n",
              "      <td>KUPANG</td>\n",
              "      <td>Gudang Garam Red Box Kspl 12 Stc (Sktb)</td>\n",
              "      <td>63.0</td>\n",
              "      <td>87.0</td>\n",
              "      <td>180.0</td>\n",
              "      <td>0.380952</td>\n",
              "      <td>1.068966</td>\n",
              "    </tr>\n",
              "    <tr>\n",
              "      <th>14</th>\n",
              "      <td>KUPANGMarlboro Box Filter 12 Stc (Skmb)</td>\n",
              "      <td>KUPANG</td>\n",
              "      <td>Marlboro Box Filter 12 Stc (Skmb)</td>\n",
              "      <td>386.0</td>\n",
              "      <td>597.0</td>\n",
              "      <td>934.0</td>\n",
              "      <td>0.546632</td>\n",
              "      <td>0.564489</td>\n",
              "    </tr>\n",
              "    <tr>\n",
              "      <th>15</th>\n",
              "      <td>KUPANGMenara Special Kuning Box Plain 12 Stc (...</td>\n",
              "      <td>KUPANG</td>\n",
              "      <td>Menara Special Kuning Box Plain 12 Stc (Sktb)</td>\n",
              "      <td>94.0</td>\n",
              "      <td>191.0</td>\n",
              "      <td>311.0</td>\n",
              "      <td>1.031915</td>\n",
              "      <td>0.628272</td>\n",
              "    </tr>\n",
              "    <tr>\n",
              "      <th>16</th>\n",
              "      <td>KUPANGSampoerna 'A' Hijau Box Plain 12 Stc (Sktb)</td>\n",
              "      <td>KUPANG</td>\n",
              "      <td>Sampoerna 'A' Hijau Box Plain 12 Stc (Sktb)</td>\n",
              "      <td>97.0</td>\n",
              "      <td>157.0</td>\n",
              "      <td>142.0</td>\n",
              "      <td>0.618557</td>\n",
              "      <td>-0.095541</td>\n",
              "    </tr>\n",
              "    <tr>\n",
              "      <th>17</th>\n",
              "      <td>KUPANGSampoerna 'A' Hijau Edisi Khusus Box Pla...</td>\n",
              "      <td>KUPANG</td>\n",
              "      <td>Sampoerna 'A' Hijau Edisi Khusus Box Plain 10+...</td>\n",
              "      <td>58.0</td>\n",
              "      <td>77.0</td>\n",
              "      <td>126.0</td>\n",
              "      <td>0.327586</td>\n",
              "      <td>0.636364</td>\n",
              "    </tr>\n",
              "    <tr>\n",
              "      <th>18</th>\n",
              "      <td>KUPANGSampoerna Kretek 234 Box Plain 12 Stc (S...</td>\n",
              "      <td>KUPANG</td>\n",
              "      <td>Sampoerna Kretek 234 Box Plain 12 Stc (Sktb)</td>\n",
              "      <td>129.0</td>\n",
              "      <td>232.0</td>\n",
              "      <td>325.0</td>\n",
              "      <td>0.798450</td>\n",
              "      <td>0.400862</td>\n",
              "    </tr>\n",
              "    <tr>\n",
              "      <th>19</th>\n",
              "      <td>LAMPUNGApache Brown Box Plain 12 Stc (Sktb)</td>\n",
              "      <td>LAMPUNG</td>\n",
              "      <td>Apache Brown Box Plain 12 Stc (Sktb)</td>\n",
              "      <td>30.0</td>\n",
              "      <td>10.0</td>\n",
              "      <td>20.0</td>\n",
              "      <td>-0.666667</td>\n",
              "      <td>1.000000</td>\n",
              "    </tr>\n",
              "    <tr>\n",
              "      <th>20</th>\n",
              "      <td>LAMPUNGApache Brown Box Plain 20 Stc (Sktb)</td>\n",
              "      <td>LAMPUNG</td>\n",
              "      <td>Apache Brown Box Plain 20 Stc (Sktb)</td>\n",
              "      <td>444.0</td>\n",
              "      <td>298.0</td>\n",
              "      <td>234.0</td>\n",
              "      <td>-0.328829</td>\n",
              "      <td>-0.214765</td>\n",
              "    </tr>\n",
              "    <tr>\n",
              "      <th>21</th>\n",
              "      <td>LAMPUNGApache Brown Soft Plain 12 Stc (Sktb)</td>\n",
              "      <td>LAMPUNG</td>\n",
              "      <td>Apache Brown Soft Plain 12 Stc (Sktb)</td>\n",
              "      <td>514.0</td>\n",
              "      <td>425.0</td>\n",
              "      <td>429.0</td>\n",
              "      <td>-0.173152</td>\n",
              "      <td>0.009412</td>\n",
              "    </tr>\n",
              "    <tr>\n",
              "      <th>22</th>\n",
              "      <td>LAMPUNGDji Sam Soe Edisi Khusus Soft Plain 12 ...</td>\n",
              "      <td>LAMPUNG</td>\n",
              "      <td>Dji Sam Soe Edisi Khusus Soft Plain 12 Stc (Sktb)</td>\n",
              "      <td>9.0</td>\n",
              "      <td>27.0</td>\n",
              "      <td>34.0</td>\n",
              "      <td>2.000000</td>\n",
              "      <td>0.259259</td>\n",
              "    </tr>\n",
              "    <tr>\n",
              "      <th>23</th>\n",
              "      <td>LAMPUNGDji Sam Soe Soft Plain 12 Stc (Sktb)</td>\n",
              "      <td>LAMPUNG</td>\n",
              "      <td>Dji Sam Soe Soft Plain 12 Stc (Sktb)</td>\n",
              "      <td>944.0</td>\n",
              "      <td>1022.0</td>\n",
              "      <td>895.0</td>\n",
              "      <td>0.082627</td>\n",
              "      <td>-0.124266</td>\n",
              "    </tr>\n",
              "    <tr>\n",
              "      <th>24</th>\n",
              "      <td>LAMPUNGGudang Baru King Size Soft Plain 12 Stc...</td>\n",
              "      <td>LAMPUNG</td>\n",
              "      <td>Gudang Baru King Size Soft Plain 12 Stc (Sktb)</td>\n",
              "      <td>67.0</td>\n",
              "      <td>81.0</td>\n",
              "      <td>98.0</td>\n",
              "      <td>0.208955</td>\n",
              "      <td>0.209877</td>\n",
              "    </tr>\n",
              "    <tr>\n",
              "      <th>25</th>\n",
              "      <td>LAMPUNGGudang Garam Djaja Box Kspl 12 Stc (Sktb)</td>\n",
              "      <td>LAMPUNG</td>\n",
              "      <td>Gudang Garam Djaja Box Kspl 12 Stc (Sktb)</td>\n",
              "      <td>377.0</td>\n",
              "      <td>397.0</td>\n",
              "      <td>368.0</td>\n",
              "      <td>0.053050</td>\n",
              "      <td>-0.073048</td>\n",
              "    </tr>\n",
              "    <tr>\n",
              "      <th>26</th>\n",
              "      <td>LAMPUNGGudang Garam Djaja Soft Kspl 12 Stc (Sktb)</td>\n",
              "      <td>LAMPUNG</td>\n",
              "      <td>Gudang Garam Djaja Soft Kspl 12 Stc (Sktb)</td>\n",
              "      <td>1138.0</td>\n",
              "      <td>1372.0</td>\n",
              "      <td>1140.0</td>\n",
              "      <td>0.205624</td>\n",
              "      <td>-0.169096</td>\n",
              "    </tr>\n",
              "    <tr>\n",
              "      <th>27</th>\n",
              "      <td>LAMPUNGGudang Garam Red Box Kspl 12 Stc (Sktb)</td>\n",
              "      <td>LAMPUNG</td>\n",
              "      <td>Gudang Garam Red Box Kspl 12 Stc (Sktb)</td>\n",
              "      <td>18.0</td>\n",
              "      <td>10.0</td>\n",
              "      <td>10.0</td>\n",
              "      <td>-0.444444</td>\n",
              "      <td>0.000000</td>\n",
              "    </tr>\n",
              "    <tr>\n",
              "      <th>28</th>\n",
              "      <td>LAMPUNGGudang Garam Red Soft Kspl 12 Stc (Sktb)</td>\n",
              "      <td>LAMPUNG</td>\n",
              "      <td>Gudang Garam Red Soft Kspl 12 Stc (Sktb)</td>\n",
              "      <td>180.0</td>\n",
              "      <td>196.0</td>\n",
              "      <td>154.0</td>\n",
              "      <td>0.088889</td>\n",
              "      <td>-0.214286</td>\n",
              "    </tr>\n",
              "    <tr>\n",
              "      <th>29</th>\n",
              "      <td>LAMPUNGGudang Garam Taman Sriwedari Soft Kspl ...</td>\n",
              "      <td>LAMPUNG</td>\n",
              "      <td>Gudang Garam Taman Sriwedari Soft Kspl 12 Stc ...</td>\n",
              "      <td>1279.0</td>\n",
              "      <td>1794.0</td>\n",
              "      <td>1700.0</td>\n",
              "      <td>0.402658</td>\n",
              "      <td>-0.052397</td>\n",
              "    </tr>\n",
              "    <tr>\n",
              "      <th>30</th>\n",
              "      <td>LAMPUNGGudang Garam Taman Sriwedari Soft Plain...</td>\n",
              "      <td>LAMPUNG</td>\n",
              "      <td>Gudang Garam Taman Sriwedari Soft Plain 12 Stc...</td>\n",
              "      <td>24.0</td>\n",
              "      <td>34.0</td>\n",
              "      <td>35.0</td>\n",
              "      <td>0.416667</td>\n",
              "      <td>0.029412</td>\n",
              "    </tr>\n",
              "    <tr>\n",
              "      <th>31</th>\n",
              "      <td>LAMPUNGKedai Kopi Yellow Soft Plain 12 Stc (Sktb)</td>\n",
              "      <td>LAMPUNG</td>\n",
              "      <td>Kedai Kopi Yellow Soft Plain 12 Stc (Sktb)</td>\n",
              "      <td>558.0</td>\n",
              "      <td>535.0</td>\n",
              "      <td>758.0</td>\n",
              "      <td>-0.041219</td>\n",
              "      <td>0.416822</td>\n",
              "    </tr>\n",
              "    <tr>\n",
              "      <th>32</th>\n",
              "      <td>LAMPUNGSampoerna 'A' Hijau Box Plain 12 Stc (S...</td>\n",
              "      <td>LAMPUNG</td>\n",
              "      <td>Sampoerna 'A' Hijau Box Plain 12 Stc (Sktb)</td>\n",
              "      <td>1294.0</td>\n",
              "      <td>1032.0</td>\n",
              "      <td>1114.0</td>\n",
              "      <td>-0.202473</td>\n",
              "      <td>0.079457</td>\n",
              "    </tr>\n",
              "    <tr>\n",
              "      <th>33</th>\n",
              "      <td>LAMPUNGSampoerna 'A' Hijau Edisi Khusus Box Pl...</td>\n",
              "      <td>LAMPUNG</td>\n",
              "      <td>Sampoerna 'A' Hijau Edisi Khusus Box Plain 10+...</td>\n",
              "      <td>135.0</td>\n",
              "      <td>176.0</td>\n",
              "      <td>67.0</td>\n",
              "      <td>0.303704</td>\n",
              "      <td>-0.619318</td>\n",
              "    </tr>\n",
              "    <tr>\n",
              "      <th>34</th>\n",
              "      <td>MADIUNApache Brown Box Plain 12 Stc (Sktb)</td>\n",
              "      <td>MADIUN</td>\n",
              "      <td>Apache Brown Box Plain 12 Stc (Sktb)</td>\n",
              "      <td>323.0</td>\n",
              "      <td>507.0</td>\n",
              "      <td>449.0</td>\n",
              "      <td>0.569659</td>\n",
              "      <td>-0.114398</td>\n",
              "    </tr>\n",
              "    <tr>\n",
              "      <th>35</th>\n",
              "      <td>MADIUNApache Brown Soft Plain 12 Stc (Sktb)</td>\n",
              "      <td>MADIUN</td>\n",
              "      <td>Apache Brown Soft Plain 12 Stc (Sktb)</td>\n",
              "      <td>1164.0</td>\n",
              "      <td>867.0</td>\n",
              "      <td>926.0</td>\n",
              "      <td>-0.255155</td>\n",
              "      <td>0.068051</td>\n",
              "    </tr>\n",
              "    <tr>\n",
              "      <th>36</th>\n",
              "      <td>MADIUNApache Merah Box Plain 12 Stc (Sktb)</td>\n",
              "      <td>MADIUN</td>\n",
              "      <td>Apache Merah Box Plain 12 Stc (Sktb)</td>\n",
              "      <td>10.0</td>\n",
              "      <td>10.0</td>\n",
              "      <td>2.0</td>\n",
              "      <td>0.000000</td>\n",
              "      <td>-0.800000</td>\n",
              "    </tr>\n",
              "    <tr>\n",
              "      <th>37</th>\n",
              "      <td>MADIUNDados Brown Soft Plain 12 Stc (Sktb)</td>\n",
              "      <td>MADIUN</td>\n",
              "      <td>Dados Brown Soft Plain 12 Stc (Sktb)</td>\n",
              "      <td>20.0</td>\n",
              "      <td>20.0</td>\n",
              "      <td>14.0</td>\n",
              "      <td>0.000000</td>\n",
              "      <td>-0.300000</td>\n",
              "    </tr>\n",
              "    <tr>\n",
              "      <th>38</th>\n",
              "      <td>MADIUNDjarum 76 Brown Box Plain 12 Stc (Sktb)</td>\n",
              "      <td>MADIUN</td>\n",
              "      <td>Djarum 76 Brown Box Plain 12 Stc (Sktb)</td>\n",
              "      <td>1816.0</td>\n",
              "      <td>1975.0</td>\n",
              "      <td>1939.0</td>\n",
              "      <td>0.087555</td>\n",
              "      <td>-0.018228</td>\n",
              "    </tr>\n",
              "    <tr>\n",
              "      <th>39</th>\n",
              "      <td>MADIUNDji Sam Soe Edisi Khusus Soft Plain 12 S...</td>\n",
              "      <td>MADIUN</td>\n",
              "      <td>Dji Sam Soe Edisi Khusus Soft Plain 12 Stc (Sktb)</td>\n",
              "      <td>985.0</td>\n",
              "      <td>938.0</td>\n",
              "      <td>899.0</td>\n",
              "      <td>-0.047716</td>\n",
              "      <td>-0.041578</td>\n",
              "    </tr>\n",
              "    <tr>\n",
              "      <th>40</th>\n",
              "      <td>MADIUNDji Sam Soe Soft Plain 12 Stc (Sktb)</td>\n",
              "      <td>MADIUN</td>\n",
              "      <td>Dji Sam Soe Soft Plain 12 Stc (Sktb)</td>\n",
              "      <td>230.0</td>\n",
              "      <td>354.0</td>\n",
              "      <td>378.0</td>\n",
              "      <td>0.539130</td>\n",
              "      <td>0.067797</td>\n",
              "    </tr>\n",
              "    <tr>\n",
              "      <th>41</th>\n",
              "      <td>MADIUNGrendel Utama Yellow Box Plain 12 Stc (S...</td>\n",
              "      <td>MADIUN</td>\n",
              "      <td>Grendel Utama Yellow Box Plain 12 Stc (Sktb)</td>\n",
              "      <td>62.0</td>\n",
              "      <td>150.0</td>\n",
              "      <td>119.0</td>\n",
              "      <td>1.419355</td>\n",
              "      <td>-0.206667</td>\n",
              "    </tr>\n",
              "    <tr>\n",
              "      <th>42</th>\n",
              "      <td>MADIUNNalami Na Classic Brown Soft Plain 12 St...</td>\n",
              "      <td>MADIUN</td>\n",
              "      <td>Nalami Na Classic Brown Soft Plain 12 Stc (Sktb)</td>\n",
              "      <td>10.0</td>\n",
              "      <td>40.0</td>\n",
              "      <td>40.0</td>\n",
              "      <td>3.000000</td>\n",
              "      <td>0.000000</td>\n",
              "    </tr>\n",
              "    <tr>\n",
              "      <th>43</th>\n",
              "      <td>MADIUNSampoerna 'A' Hijau Box Plain 12 Stc (Sktb)</td>\n",
              "      <td>MADIUN</td>\n",
              "      <td>Sampoerna 'A' Hijau Box Plain 12 Stc (Sktb)</td>\n",
              "      <td>458.0</td>\n",
              "      <td>534.0</td>\n",
              "      <td>479.0</td>\n",
              "      <td>0.165939</td>\n",
              "      <td>-0.102996</td>\n",
              "    </tr>\n",
              "    <tr>\n",
              "      <th>44</th>\n",
              "      <td>MADIUNSampoerna 'A' Hijau Edisi Khusus Box Pla...</td>\n",
              "      <td>MADIUN</td>\n",
              "      <td>Sampoerna 'A' Hijau Edisi Khusus Box Plain 10+...</td>\n",
              "      <td>511.0</td>\n",
              "      <td>555.0</td>\n",
              "      <td>458.0</td>\n",
              "      <td>0.086106</td>\n",
              "      <td>-0.174775</td>\n",
              "    </tr>\n",
              "    <tr>\n",
              "      <th>45</th>\n",
              "      <td>MADIUNSimustika 269 Gold Brown Box Plain 12 St...</td>\n",
              "      <td>MADIUN</td>\n",
              "      <td>Simustika 269 Gold Brown Box Plain 12 Stc (Sktb)</td>\n",
              "      <td>112.0</td>\n",
              "      <td>128.0</td>\n",
              "      <td>44.0</td>\n",
              "      <td>0.142857</td>\n",
              "      <td>-0.656250</td>\n",
              "    </tr>\n",
              "    <tr>\n",
              "      <th>46</th>\n",
              "      <td>MADIUNWarung Kopi Box Plain 12 Stc (Sktb)</td>\n",
              "      <td>MADIUN</td>\n",
              "      <td>Warung Kopi Box Plain 12 Stc (Sktb)</td>\n",
              "      <td>3572.0</td>\n",
              "      <td>3806.0</td>\n",
              "      <td>4103.0</td>\n",
              "      <td>0.065510</td>\n",
              "      <td>0.078035</td>\n",
              "    </tr>\n",
              "    <tr>\n",
              "      <th>47</th>\n",
              "      <td>PALEMBANGApache Brown Box Plain 12 Stc (Sktb)</td>\n",
              "      <td>PALEMBANG</td>\n",
              "      <td>Apache Brown Box Plain 12 Stc (Sktb)</td>\n",
              "      <td>52.0</td>\n",
              "      <td>29.0</td>\n",
              "      <td>59.0</td>\n",
              "      <td>-0.442308</td>\n",
              "      <td>1.034483</td>\n",
              "    </tr>\n",
              "    <tr>\n",
              "      <th>48</th>\n",
              "      <td>PALEMBANGApache Brown Soft Plain 12 Stc (Sktb)</td>\n",
              "      <td>PALEMBANG</td>\n",
              "      <td>Apache Brown Soft Plain 12 Stc (Sktb)</td>\n",
              "      <td>22.0</td>\n",
              "      <td>19.0</td>\n",
              "      <td>13.0</td>\n",
              "      <td>-0.136364</td>\n",
              "      <td>-0.315789</td>\n",
              "    </tr>\n",
              "    <tr>\n",
              "      <th>49</th>\n",
              "      <td>PALEMBANGDados Brown Soft Plain 12 Stc (Sktb)</td>\n",
              "      <td>PALEMBANG</td>\n",
              "      <td>Dados Brown Soft Plain 12 Stc (Sktb)</td>\n",
              "      <td>346.0</td>\n",
              "      <td>587.0</td>\n",
              "      <td>652.0</td>\n",
              "      <td>0.696532</td>\n",
              "      <td>0.110733</td>\n",
              "    </tr>\n",
              "    <tr>\n",
              "      <th>50</th>\n",
              "      <td>PALEMBANGDjarum Istimewa Soft Coklat Plain 12 ...</td>\n",
              "      <td>PALEMBANG</td>\n",
              "      <td>Djarum Istimewa Soft Coklat Plain 12 Stc (Sktb)</td>\n",
              "      <td>948.0</td>\n",
              "      <td>1650.0</td>\n",
              "      <td>2416.0</td>\n",
              "      <td>0.740506</td>\n",
              "      <td>0.464242</td>\n",
              "    </tr>\n",
              "    <tr>\n",
              "      <th>51</th>\n",
              "      <td>PALEMBANGDji Sam Soe Edisi Khusus Soft Plain 1...</td>\n",
              "      <td>PALEMBANG</td>\n",
              "      <td>Dji Sam Soe Edisi Khusus Soft Plain 12 Stc (Sktb)</td>\n",
              "      <td>161.0</td>\n",
              "      <td>245.0</td>\n",
              "      <td>270.0</td>\n",
              "      <td>0.521739</td>\n",
              "      <td>0.102041</td>\n",
              "    </tr>\n",
              "    <tr>\n",
              "      <th>52</th>\n",
              "      <td>PALEMBANGDji Sam Soe Soft Plain 12 Stc (Sktb)</td>\n",
              "      <td>PALEMBANG</td>\n",
              "      <td>Dji Sam Soe Soft Plain 12 Stc (Sktb)</td>\n",
              "      <td>633.0</td>\n",
              "      <td>784.0</td>\n",
              "      <td>995.0</td>\n",
              "      <td>0.238547</td>\n",
              "      <td>0.269133</td>\n",
              "    </tr>\n",
              "    <tr>\n",
              "      <th>53</th>\n",
              "      <td>PALEMBANGGudang Garam Red Soft Kspl 12 Stc (Sktb)</td>\n",
              "      <td>PALEMBANG</td>\n",
              "      <td>Gudang Garam Red Soft Kspl 12 Stc (Sktb)</td>\n",
              "      <td>676.0</td>\n",
              "      <td>1016.0</td>\n",
              "      <td>947.0</td>\n",
              "      <td>0.502959</td>\n",
              "      <td>-0.067913</td>\n",
              "    </tr>\n",
              "    <tr>\n",
              "      <th>54</th>\n",
              "      <td>PALEMBANGPanamas 1 Soft Plain 12 Stc (Sktb)</td>\n",
              "      <td>PALEMBANG</td>\n",
              "      <td>Panamas 1 Soft Plain 12 Stc (Sktb)</td>\n",
              "      <td>616.0</td>\n",
              "      <td>731.0</td>\n",
              "      <td>695.0</td>\n",
              "      <td>0.186688</td>\n",
              "      <td>-0.049248</td>\n",
              "    </tr>\n",
              "    <tr>\n",
              "      <th>55</th>\n",
              "      <td>PALEMBANGSampoerna 'A' Hijau Box Plain 12 Stc ...</td>\n",
              "      <td>PALEMBANG</td>\n",
              "      <td>Sampoerna 'A' Hijau Box Plain 12 Stc (Sktb)</td>\n",
              "      <td>305.0</td>\n",
              "      <td>254.0</td>\n",
              "      <td>287.0</td>\n",
              "      <td>-0.167213</td>\n",
              "      <td>0.129921</td>\n",
              "    </tr>\n",
              "    <tr>\n",
              "      <th>56</th>\n",
              "      <td>PALEMBANGSampoerna 'A' Hijau Edisi Khusus Box ...</td>\n",
              "      <td>PALEMBANG</td>\n",
              "      <td>Sampoerna 'A' Hijau Edisi Khusus Box Plain 10+...</td>\n",
              "      <td>356.0</td>\n",
              "      <td>529.0</td>\n",
              "      <td>677.0</td>\n",
              "      <td>0.485955</td>\n",
              "      <td>0.279773</td>\n",
              "    </tr>\n",
              "    <tr>\n",
              "      <th>57</th>\n",
              "      <td>PALEMBANGVigor Red Box Filter 12 Stc (Sktb)</td>\n",
              "      <td>PALEMBANG</td>\n",
              "      <td>Vigor Red Box Filter 12 Stc (Sktb)</td>\n",
              "      <td>99.0</td>\n",
              "      <td>84.0</td>\n",
              "      <td>83.0</td>\n",
              "      <td>-0.151515</td>\n",
              "      <td>-0.011905</td>\n",
              "    </tr>\n",
              "  </tbody>\n",
              "</table>\n",
              "</div>"
            ],
            "text/plain": [
              "                                          Concatenate  ... Growth RA3\n",
              "0        KARAWANGApache Brown Box Plain 12 Stc (Sktb)  ...  -0.125000\n",
              "1                KARAWANGDivo Box Plain 12 Stc (Sktb)  ...  -0.123377\n",
              "2   KARAWANGDjarum Coklat Extra Box Plain 12 Stc (...  ...  -0.500000\n",
              "3      KARAWANGDjarum Coklat Soft Plain 12 Stc (Sktb)  ...   0.076208\n",
              "4        KARAWANGDji Sam Soe Soft Plain 12 Stc (Sktb)  ...  -0.011527\n",
              "5    KARAWANGGudang Garam Red Soft Kspl 12 Stc (Sktb)  ...   0.063218\n",
              "6   KARAWANGGudang Garam Taman Sriwedari Soft Plai...  ...  -0.285714\n",
              "7   KARAWANGMinak Djinggo Kuning Soft Plain 10 Stc...  ...  -0.172917\n",
              "8   KARAWANGSampoerna 'A' Hijau Box Plain 12 Stc (...  ...   0.007084\n",
              "9   KUPANG153 Satu Lima Tiga Lista Kumala Soft Pla...  ...   0.007359\n",
              "10                KUPANGBulls Box Plain 12 Stc (Sktb)  ...   0.460568\n",
              "11  KUPANGDji Sam Soe Edisi Khusus Soft Plain 12 S...  ...   0.627907\n",
              "12         KUPANGDji Sam Soe Soft Plain 12 Stc (Sktb)  ...   0.132867\n",
              "13      KUPANGGudang Garam Red Box Kspl 12 Stc (Sktb)  ...   1.068966\n",
              "14            KUPANGMarlboro Box Filter 12 Stc (Skmb)  ...   0.564489\n",
              "15  KUPANGMenara Special Kuning Box Plain 12 Stc (...  ...   0.628272\n",
              "16  KUPANGSampoerna 'A' Hijau Box Plain 12 Stc (Sktb)  ...  -0.095541\n",
              "17  KUPANGSampoerna 'A' Hijau Edisi Khusus Box Pla...  ...   0.636364\n",
              "18  KUPANGSampoerna Kretek 234 Box Plain 12 Stc (S...  ...   0.400862\n",
              "19        LAMPUNGApache Brown Box Plain 12 Stc (Sktb)  ...   1.000000\n",
              "20        LAMPUNGApache Brown Box Plain 20 Stc (Sktb)  ...  -0.214765\n",
              "21       LAMPUNGApache Brown Soft Plain 12 Stc (Sktb)  ...   0.009412\n",
              "22  LAMPUNGDji Sam Soe Edisi Khusus Soft Plain 12 ...  ...   0.259259\n",
              "23        LAMPUNGDji Sam Soe Soft Plain 12 Stc (Sktb)  ...  -0.124266\n",
              "24  LAMPUNGGudang Baru King Size Soft Plain 12 Stc...  ...   0.209877\n",
              "25   LAMPUNGGudang Garam Djaja Box Kspl 12 Stc (Sktb)  ...  -0.073048\n",
              "26  LAMPUNGGudang Garam Djaja Soft Kspl 12 Stc (Sktb)  ...  -0.169096\n",
              "27     LAMPUNGGudang Garam Red Box Kspl 12 Stc (Sktb)  ...   0.000000\n",
              "28    LAMPUNGGudang Garam Red Soft Kspl 12 Stc (Sktb)  ...  -0.214286\n",
              "29  LAMPUNGGudang Garam Taman Sriwedari Soft Kspl ...  ...  -0.052397\n",
              "30  LAMPUNGGudang Garam Taman Sriwedari Soft Plain...  ...   0.029412\n",
              "31  LAMPUNGKedai Kopi Yellow Soft Plain 12 Stc (Sktb)  ...   0.416822\n",
              "32  LAMPUNGSampoerna 'A' Hijau Box Plain 12 Stc (S...  ...   0.079457\n",
              "33  LAMPUNGSampoerna 'A' Hijau Edisi Khusus Box Pl...  ...  -0.619318\n",
              "34         MADIUNApache Brown Box Plain 12 Stc (Sktb)  ...  -0.114398\n",
              "35        MADIUNApache Brown Soft Plain 12 Stc (Sktb)  ...   0.068051\n",
              "36         MADIUNApache Merah Box Plain 12 Stc (Sktb)  ...  -0.800000\n",
              "37         MADIUNDados Brown Soft Plain 12 Stc (Sktb)  ...  -0.300000\n",
              "38      MADIUNDjarum 76 Brown Box Plain 12 Stc (Sktb)  ...  -0.018228\n",
              "39  MADIUNDji Sam Soe Edisi Khusus Soft Plain 12 S...  ...  -0.041578\n",
              "40         MADIUNDji Sam Soe Soft Plain 12 Stc (Sktb)  ...   0.067797\n",
              "41  MADIUNGrendel Utama Yellow Box Plain 12 Stc (S...  ...  -0.206667\n",
              "42  MADIUNNalami Na Classic Brown Soft Plain 12 St...  ...   0.000000\n",
              "43  MADIUNSampoerna 'A' Hijau Box Plain 12 Stc (Sktb)  ...  -0.102996\n",
              "44  MADIUNSampoerna 'A' Hijau Edisi Khusus Box Pla...  ...  -0.174775\n",
              "45  MADIUNSimustika 269 Gold Brown Box Plain 12 St...  ...  -0.656250\n",
              "46          MADIUNWarung Kopi Box Plain 12 Stc (Sktb)  ...   0.078035\n",
              "47      PALEMBANGApache Brown Box Plain 12 Stc (Sktb)  ...   1.034483\n",
              "48     PALEMBANGApache Brown Soft Plain 12 Stc (Sktb)  ...  -0.315789\n",
              "49      PALEMBANGDados Brown Soft Plain 12 Stc (Sktb)  ...   0.110733\n",
              "50  PALEMBANGDjarum Istimewa Soft Coklat Plain 12 ...  ...   0.464242\n",
              "51  PALEMBANGDji Sam Soe Edisi Khusus Soft Plain 1...  ...   0.102041\n",
              "52      PALEMBANGDji Sam Soe Soft Plain 12 Stc (Sktb)  ...   0.269133\n",
              "53  PALEMBANGGudang Garam Red Soft Kspl 12 Stc (Sktb)  ...  -0.067913\n",
              "54        PALEMBANGPanamas 1 Soft Plain 12 Stc (Sktb)  ...  -0.049248\n",
              "55  PALEMBANGSampoerna 'A' Hijau Box Plain 12 Stc ...  ...   0.129921\n",
              "56  PALEMBANGSampoerna 'A' Hijau Edisi Khusus Box ...  ...   0.279773\n",
              "57        PALEMBANGVigor Red Box Filter 12 Stc (Sktb)  ...  -0.011905\n",
              "\n",
              "[58 rows x 8 columns]"
            ]
          },
          "metadata": {},
          "execution_count": 227
        }
      ]
    },
    {
      "cell_type": "markdown",
      "metadata": {
        "id": "0eBSMelNXd-G"
      },
      "source": [
        "# Notes"
      ]
    },
    {
      "cell_type": "markdown",
      "metadata": {
        "id": "PXr33Hrn-yph"
      },
      "source": [
        "sales = prev_stock+purchase+missinginv+missinstock-shopstock-otherstock - goodreturn-wholesales\n",
        "\n"
      ]
    },
    {
      "cell_type": "markdown",
      "metadata": {
        "id": "Qw0CEO1TbKCY"
      },
      "source": [
        "# Checking"
      ]
    },
    {
      "cell_type": "markdown",
      "metadata": {
        "id": "7JT7_ZOybLr7"
      },
      "source": [
        "##1. Ada Promotion tapi tidak ada sales"
      ]
    },
    {
      "cell_type": "markdown",
      "metadata": {
        "id": "-lmHWy1yjvn2"
      },
      "source": [
        "##2. Ada POSM tapi tidak ada sales"
      ]
    },
    {
      "cell_type": "markdown",
      "metadata": {
        "id": "7495XQbvbQ8R"
      },
      "source": [
        "##3. Ada sales tapi tidak ada promotion ataupun POSM"
      ]
    },
    {
      "cell_type": "markdown",
      "metadata": {
        "id": "ce3NznVqktED"
      },
      "source": [
        ""
      ]
    },
    {
      "cell_type": "code",
      "metadata": {
        "id": "JPEH1Y-eksV8"
      },
      "source": [
        ""
      ],
      "execution_count": 205,
      "outputs": []
    }
  ]
}