{
  "nbformat": 4,
  "nbformat_minor": 0,
  "metadata": {
    "colab": {
      "name": "Project JTI 5AO.ipynb",
      "provenance": [],
      "collapsed_sections": [],
      "toc_visible": true,
      "authorship_tag": "ABX9TyNl+oQSFXEpmkkQOOd25Jx8",
      "include_colab_link": true
    },
    "kernelspec": {
      "display_name": "Python 3",
      "name": "python3"
    },
    "language_info": {
      "name": "python"
    }
  },
  "cells": [
    {
      "cell_type": "markdown",
      "metadata": {
        "id": "view-in-github",
        "colab_type": "text"
      },
      "source": [
        "<a href=\"https://colab.research.google.com/github/dyahrosita/Project/blob/main/Project_JTI_5AO.ipynb\" target=\"_parent\"><img src=\"https://colab.research.google.com/assets/colab-badge.svg\" alt=\"Open In Colab\"/></a>"
      ]
    },
    {
      "cell_type": "markdown",
      "metadata": {
        "id": "vVehffFvn16E"
      },
      "source": [
        "# Import LIbrary"
      ]
    },
    {
      "cell_type": "code",
      "metadata": {
        "colab": {
          "base_uri": "https://localhost:8080/"
        },
        "id": "tlSJPqdb3Xd2",
        "outputId": "b6910e84-79e4-4a56-9b5c-d94a61125579"
      },
      "source": [
        "import pandas as pd\n",
        "import numpy as np\n",
        "import matplotlib.pyplot as plt\n",
        "import re\n",
        "from functools import reduce\n",
        "import datetime as dt\n",
        "\n",
        "from google.colab import files\n",
        "from google.colab import drive\n",
        "drive.mount(\"/content/gdrive/\")"
      ],
      "execution_count": 698,
      "outputs": [
        {
          "output_type": "stream",
          "name": "stdout",
          "text": [
            "Drive already mounted at /content/gdrive/; to attempt to forcibly remount, call drive.mount(\"/content/gdrive/\", force_remount=True).\n"
          ]
        }
      ]
    },
    {
      "cell_type": "markdown",
      "metadata": {
        "id": "vDrrGj0PZlo5"
      },
      "source": [
        "# Store Observation"
      ]
    },
    {
      "cell_type": "code",
      "metadata": {
        "id": "hM-IyJrqCbj4"
      },
      "source": [
        "drop_column = ['LANGUAGE_ID', 'VERSION', 'RESPONSE_NAME', 'RESPONSE_STATUS', 'SOURCE_OF_ENTRY', 'RESPONSE_MODE',\n",
        "              'BACKCHK_FLAG', 'QC_STATUS', 'START_TIME', 'SUBMIT_TIME', 'SYNC_TIME', 'SERVER_SYNC_TIME',\n",
        "              'CREATED_BY', 'CDAR_USER_ID', 'START_TIME_V1', 'SUBMIT_TIME_V1', 'CREATED_BY_V1', 'CDAR_USER_ID_V1',\n",
        "              'SURVEY_DURATION_V1', 'SURVEY_ID', 'SURVEY_VERSION', 'QC_REMARK', 'QC_START_DATE', 'QC_END_DATE',\n",
        "              'QC_SYNC_DATE', 'QC_SUBMIT_BY', 'APP_VERSION', 'PLATFORM_NAME', 'PLATFORM_MODEL', 'PLATFORM_VERSION',\n",
        "              'FV_STATUS', 'FV_REMARK', 'FV_START_DATE', 'FV_END_DATE', 'FV_SYNC_DATE', 'FV_SUBMIT_BY', 'SCC_STATUS',\n",
        "              'SCC_REMARK', 'SCC_START_DATE', 'SCC_END_DATE', 'SCC_SYNC_DATE', 'SCC_SUBMIT_BY', 'FLAG1', 'FLAG2',\n",
        "              'FLAG3', 'FLAG4', 'FLAG5', 'SURVEY_MINOR_VERSION', 'Default Question Text', 'Q1. ID Auditor / CT',\n",
        "              'Q2. Nama Auditor / CT', 'Q3B. Jam Survey', 'Latitude', 'LON_1', 'Q3L_Status FLAG', 'Q3M_Area Code',\n",
        "              'Q4. Apakah informasi toko sudah benar?', 'Q4A. Apakah informasi nama toko sudah benar?', 'Q4A_1. Nama toko', \n",
        "              'Q4B. Apakah informasi alamat toko sudah benar?', 'Q4B_1. Alamat', 'Q4C. Apakah informasi type toko sudah benar?',\n",
        "              'Q4C_1. Type toko', 'Q4D. Apakah informasi untuk (Provinsi, Kota, Kel, Kec) sudah benar?', 'Q4D_1. Provinsi',\n",
        "              'Q4E_1. Kota', 'Q4F_1. Kecamatan', 'Q4G_1. Kelurahan', 'Q5A. Apakah ada papan penanda toko / spanduk terdapat Nama Toko?',\n",
        "              'Q5B. Nama toko (menanyakan ke responden / tetangga)', 'Q5C. Tidak ada nama toko informasi (NA):NA', 'Q6A',\n",
        "              'Q6. nama toko di penanda toko / toko tanda-tanda / spanduk toko', 'Q8. Lot / Los / Blokir',\n",
        "              'Q9. informasi tambahan', 'Q10. Nama Lengkap pemilik Toko', 'Q11. Nama Penjaga Toko responden (di-interview)',\n",
        "              'Q12. nomor telepon - Telkom (area nomor kode + telepon)', 'Q13. Nomor ponsel', 'Alamat', 'Q50N_1', \n",
        "              'Q50N_2', 'Q50N_3', 'Q50N_4', 'Q25', 'Q26', 'Q16_3', 'Q16_4', 'Q16_5', 'Q16_6', 'Q16_7', 'Q16_8', 'Q16_9',\n",
        "              'Q16_10', 'Q16_11', 'Q16_12', 'Kecamatan', 'Kelurahan', 'Q3A. Tanggal Survey',\n",
        "              'Q32_You have completed the survey, please check the data on summary page.']"
      ],
      "execution_count": 699,
      "outputs": []
    },
    {
      "cell_type": "code",
      "metadata": {
        "id": "Afv_jXOro9y2"
      },
      "source": [
        "Promotion_APM = ['Q50A_Apakah toko anda mendapatkan material promosi (sticker,poster,etc) untuk brand dibawah ini::Brand Apache Merah',\n",
        "                 'Q50B_Apakah ada promosi diskon untuk Brand di bawah ini ::Brand Apache Merah',\n",
        "                 'Q50C_Apakah ada promosi Beli berapa pack gratis berapa pack contoh beli 2 gratis 1, beli 4 gratis 1 untuk Brand di bawah ini ::Brand Apache Merah',\n",
        "                 'Q50D_Apakah ada promosi hadiah penjualan : Dapatkan Poin, Dapatkan Hadiah, dll. untuk Brand di bawah ini ::Brand Apache Merah',\n",
        "                 'Q50E_Apakah ada promosi tukar cangkang/bungkus untuk Brand di bawah ini ::Brand Apache Merah',\n",
        "                 'Q50F_Apakah ada promosi bundling produk untuk Brand di bawah ini ::Brand Apache Merah']\n",
        "\n",
        "Visibility_APM = ['Q50H_Apakah ada POSM sunscreen untuk brand berikut.:Brand Apache Merah',\n",
        "                  'Q50I_Apakah ada POSM Tape Blocking Display untuk brand berikut.:Brand Apache Merah',\n",
        "                  'Q50J_Apakah ada POSM decorative pack untuk brand berikut:Brand Apache Merah',\n",
        "                  'Q50K_Apakah ada POSM sticker per pack atau perbatang untuk brand berikut:Brand Apache Merah',\n",
        "                  'Q50L_Apakah ada POSM Blocking Display (Dummy Pack ada 5 Pack kosong) untuk brand berikut:Brand Apache Merah',\n",
        "                  'Q50M_Apakah ada POSM Hanging Lighter untuk brand berikut:Brand Apache Merah']"
      ],
      "execution_count": 700,
      "outputs": []
    },
    {
      "cell_type": "code",
      "metadata": {
        "id": "pG37vjtraVTA"
      },
      "source": [
        "MAP = pd.read_excel('gdrive/My Drive/JACOB/Datamap DCT Jacob.xlsx')"
      ],
      "execution_count": 701,
      "outputs": []
    },
    {
      "cell_type": "markdown",
      "metadata": {
        "id": "M7SwdlGoZy_-"
      },
      "source": [
        "## Store Observation - IA (week 1)"
      ]
    },
    {
      "cell_type": "code",
      "metadata": {
        "id": "Pum8o4cUllpc"
      },
      "source": [
        "SO_IA = pd.read_excel('gdrive/My Drive/JACOB/Data Clean JTI-Jacob 2021 Week 1-IA.xlsx','Rawdata DCT')"
      ],
      "execution_count": 702,
      "outputs": []
    },
    {
      "cell_type": "code",
      "metadata": {
        "id": "ql0wUwhhbj4u"
      },
      "source": [
        "col_name = pd.DataFrame(SO_IA.columns, columns=['Variable'])\n",
        "col_name = col_name.merge(MAP[['Variable','Label']], how='left', on='Variable')\n",
        "col_name = col_name.drop('Variable', axis=1)\n",
        "SO_IA.columns = col_name['Label']"
      ],
      "execution_count": 703,
      "outputs": []
    },
    {
      "cell_type": "code",
      "metadata": {
        "id": "gjfch5zFPa8y"
      },
      "source": [
        "SO_IA = SO_IA.drop(drop_column, axis=1)\n",
        "SO_IA.insert(0,'Periode', '26Jul - 1Aug')"
      ],
      "execution_count": 704,
      "outputs": []
    },
    {
      "cell_type": "markdown",
      "metadata": {
        "id": "VKTKAeg-dLrG"
      },
      "source": [
        "## Store Observation 1 (week 2)"
      ]
    },
    {
      "cell_type": "code",
      "metadata": {
        "id": "fzg_vJsucV9M"
      },
      "source": [
        "SO1 = pd.read_excel('gdrive/My Drive/JACOB/Data Clean Jacob 2021 Week 2 (RA1).xlsx','Rawdata DCT')"
      ],
      "execution_count": 705,
      "outputs": []
    },
    {
      "cell_type": "code",
      "metadata": {
        "id": "EaUrjNb4dPmb"
      },
      "source": [
        "col_name = pd.DataFrame(SO1.columns, columns=['Variable'])\n",
        "col_name = col_name.merge(MAP[['Variable','Label']], how='left', on='Variable')\n",
        "col_name = col_name.drop('Variable', axis=1)\n",
        "SO1.columns = col_name['Label']"
      ],
      "execution_count": 706,
      "outputs": []
    },
    {
      "cell_type": "code",
      "metadata": {
        "id": "Vy-SibCKR6Uw"
      },
      "source": [
        "drop_column.append('Q7. Lantai')"
      ],
      "execution_count": 707,
      "outputs": []
    },
    {
      "cell_type": "code",
      "metadata": {
        "id": "KnLou4lyJ_wn"
      },
      "source": [
        "SO1 = SO1.drop(drop_column, axis=1)\n",
        "SO1.insert(0,'Periode', '2Aug - 8Aug')"
      ],
      "execution_count": 708,
      "outputs": []
    },
    {
      "cell_type": "markdown",
      "metadata": {
        "id": "MFTYQhKUZy62"
      },
      "source": [
        "## Store Observation 2 (week 3)"
      ]
    },
    {
      "cell_type": "code",
      "metadata": {
        "id": "U0WYoKAKcZxc"
      },
      "source": [
        "SO2 = pd.read_excel('gdrive/My Drive/JACOB/Data Clean Jacob 2021 Week 3 (RA2) - v2.xlsx','DCT')"
      ],
      "execution_count": 709,
      "outputs": []
    },
    {
      "cell_type": "code",
      "metadata": {
        "id": "jhph1NmMd2k6"
      },
      "source": [
        "col_name = pd.DataFrame(SO2.columns, columns=['Variable'])\n",
        "col_name = col_name.merge(MAP[['Variable','Label']], how='left', on='Variable')\n",
        "col_name = col_name.drop('Variable', axis=1)\n",
        "SO2.columns = col_name['Label']"
      ],
      "execution_count": 710,
      "outputs": []
    },
    {
      "cell_type": "code",
      "metadata": {
        "id": "jUVfNkB0O3Cv"
      },
      "source": [
        "SO2 = SO2.drop(drop_column, axis=1)\n",
        "SO2.insert(0,'Periode', '9Aug - 15Aug')"
      ],
      "execution_count": 711,
      "outputs": []
    },
    {
      "cell_type": "markdown",
      "metadata": {
        "id": "qq7baW02eRYA"
      },
      "source": [
        "## Store Observation 3 (week 4)"
      ]
    },
    {
      "cell_type": "code",
      "metadata": {
        "id": "TSVxwsFCceSQ"
      },
      "source": [
        "SO3 = pd.read_excel('gdrive/My Drive/JACOB/Data Clean Jacob 2021 Week 4 (RA3).xlsx','DCT')"
      ],
      "execution_count": 712,
      "outputs": []
    },
    {
      "cell_type": "code",
      "metadata": {
        "id": "5ycyKTdleaS2"
      },
      "source": [
        "col_name = pd.DataFrame(SO3.columns, columns=['Variable'])\n",
        "col_name = col_name.merge(MAP[['Variable','Label']], how='left', on='Variable')\n",
        "col_name = col_name.drop('Variable', axis=1)\n",
        "SO3.columns = col_name['Label']"
      ],
      "execution_count": 713,
      "outputs": []
    },
    {
      "cell_type": "code",
      "metadata": {
        "id": "eGEDUEGLSGry"
      },
      "source": [
        "SO3 = SO3.drop(drop_column, axis=1)\n",
        "SO3.insert(0,'Periode', '16Aug - 29Aug')"
      ],
      "execution_count": 714,
      "outputs": []
    },
    {
      "cell_type": "markdown",
      "metadata": {
        "id": "JWrVMp1uTAQ3"
      },
      "source": [
        "## Store Observation 4 (week 5-6)"
      ]
    },
    {
      "cell_type": "code",
      "metadata": {
        "id": "8QIbHPywTAQ3"
      },
      "source": [
        "SO4 = pd.read_excel('gdrive/My Drive/JACOB/Data Clean Jacob 2021 Week 6 - CS Version.xlsx','DCT')"
      ],
      "execution_count": 715,
      "outputs": []
    },
    {
      "cell_type": "code",
      "metadata": {
        "id": "LF4qf0noTAQ4"
      },
      "source": [
        "col_name = pd.DataFrame(SO4.columns, columns=['Variable'])\n",
        "col_name = col_name.merge(MAP[['Variable','Label']], how='left', on='Variable')\n",
        "col_name = col_name.drop('Variable', axis=1)\n",
        "SO4.columns = col_name['Label']"
      ],
      "execution_count": 716,
      "outputs": []
    },
    {
      "cell_type": "code",
      "metadata": {
        "id": "TydxoNeNTAQ4"
      },
      "source": [
        "SO4 = SO4.drop(drop_column, axis=1)\n",
        "SO4.insert(0,'Periode', '30Aug - 12Sep')"
      ],
      "execution_count": 717,
      "outputs": []
    },
    {
      "cell_type": "markdown",
      "metadata": {
        "id": "WR8FkkBmEBwv"
      },
      "source": [
        "## Store Observation 5 (week 7-8)"
      ]
    },
    {
      "cell_type": "code",
      "metadata": {
        "id": "zg9RGvbQEBww"
      },
      "source": [
        "SO5 = pd.read_excel('gdrive/My Drive/JACOB/Data Clean Jacob 2021 Week 8 - CS Version.xlsx','DCT')"
      ],
      "execution_count": 718,
      "outputs": []
    },
    {
      "cell_type": "code",
      "metadata": {
        "id": "DY22q7R7TUTf",
        "outputId": "8b238a5a-9da3-4686-bd1a-61260f3de528",
        "colab": {
          "base_uri": "https://localhost:8080/",
          "height": 423
        }
      },
      "source": [
        "pd.DataFrame(SO5.columns, columns=['Variable'])"
      ],
      "execution_count": 719,
      "outputs": [
        {
          "output_type": "execute_result",
          "data": {
            "text/html": [
              "<div>\n",
              "<style scoped>\n",
              "    .dataframe tbody tr th:only-of-type {\n",
              "        vertical-align: middle;\n",
              "    }\n",
              "\n",
              "    .dataframe tbody tr th {\n",
              "        vertical-align: top;\n",
              "    }\n",
              "\n",
              "    .dataframe thead th {\n",
              "        text-align: right;\n",
              "    }\n",
              "</style>\n",
              "<table border=\"1\" class=\"dataframe\">\n",
              "  <thead>\n",
              "    <tr style=\"text-align: right;\">\n",
              "      <th></th>\n",
              "      <th>Variable</th>\n",
              "    </tr>\n",
              "  </thead>\n",
              "  <tbody>\n",
              "    <tr>\n",
              "      <th>0</th>\n",
              "      <td>RESPONSE_ID</td>\n",
              "    </tr>\n",
              "    <tr>\n",
              "      <th>1</th>\n",
              "      <td>LANGUAGE_ID</td>\n",
              "    </tr>\n",
              "    <tr>\n",
              "      <th>2</th>\n",
              "      <td>RESPONSE_VERSION</td>\n",
              "    </tr>\n",
              "    <tr>\n",
              "      <th>3</th>\n",
              "      <td>RESPONSE_NAME</td>\n",
              "    </tr>\n",
              "    <tr>\n",
              "      <th>4</th>\n",
              "      <td>SOURCE_OF_ENTRY</td>\n",
              "    </tr>\n",
              "    <tr>\n",
              "      <th>...</th>\n",
              "      <td>...</td>\n",
              "    </tr>\n",
              "    <tr>\n",
              "      <th>564</th>\n",
              "      <td>Q29</td>\n",
              "    </tr>\n",
              "    <tr>\n",
              "      <th>565</th>\n",
              "      <td>Q30</td>\n",
              "    </tr>\n",
              "    <tr>\n",
              "      <th>566</th>\n",
              "      <td>Q31</td>\n",
              "    </tr>\n",
              "    <tr>\n",
              "      <th>567</th>\n",
              "      <td>Q32</td>\n",
              "    </tr>\n",
              "    <tr>\n",
              "      <th>568</th>\n",
              "      <td>REMARKS</td>\n",
              "    </tr>\n",
              "  </tbody>\n",
              "</table>\n",
              "<p>569 rows × 1 columns</p>\n",
              "</div>"
            ],
            "text/plain": [
              "             Variable\n",
              "0         RESPONSE_ID\n",
              "1         LANGUAGE_ID\n",
              "2    RESPONSE_VERSION\n",
              "3       RESPONSE_NAME\n",
              "4     SOURCE_OF_ENTRY\n",
              "..                ...\n",
              "564               Q29\n",
              "565               Q30\n",
              "566               Q31\n",
              "567               Q32\n",
              "568           REMARKS\n",
              "\n",
              "[569 rows x 1 columns]"
            ]
          },
          "metadata": {},
          "execution_count": 719
        }
      ]
    },
    {
      "cell_type": "code",
      "metadata": {
        "id": "eh8A_WxVEBww"
      },
      "source": [
        "col_name = pd.DataFrame(SO5.columns, columns=['Variable'])\n",
        "col_name = col_name.merge(MAP[['Variable','Label']], how='left', on='Variable')\n",
        "col_name = col_name.drop('Variable', axis=1)\n",
        "SO5.columns = col_name['Label']"
      ],
      "execution_count": 720,
      "outputs": []
    },
    {
      "cell_type": "code",
      "metadata": {
        "id": "0SVoYlWQEBwx"
      },
      "source": [
        "SO5 = SO5.drop(drop_column, axis=1)\n",
        "SO5.insert(0,'Periode', '13Sep - 26Sep')"
      ],
      "execution_count": 721,
      "outputs": []
    },
    {
      "cell_type": "markdown",
      "metadata": {
        "id": "jGzUfvVCfPxX"
      },
      "source": [
        "###Membuat mapping area, mapping item, dan mapping toko"
      ]
    },
    {
      "cell_type": "code",
      "metadata": {
        "id": "YUKzgel4aLTg"
      },
      "source": [
        "my_dict = {'Provinsi': ['LAMPUNG','SUMATERA SELATAN','JAWA BARAT','JAWA TIMUR','NUSA TENGGARA TIMUR','JAWA TENGAH'],\n",
        "        'Area': ['LAMPUNG','PALEMBANG','KARAWANG','MADIUN','KUPANG','PURWOKERTO']}\n",
        "area_mapping = pd.DataFrame(my_dict)"
      ],
      "execution_count": 722,
      "outputs": []
    },
    {
      "cell_type": "code",
      "metadata": {
        "id": "P6EwdT_HcZB4"
      },
      "source": [
        "my_dict2 = {'Product Description': ['153 Satu Lima Tiga Lista Kumala Soft Plain 12 Stc (Sktb)','Apache Brown Box Plain 12 Stc (Sktb)',\n",
        "                                    'Apache Brown Box Plain 20 Stc (Sktb)','Apache Brown Soft Plain 12 Stc (Sktb)',\n",
        "                                    'Apache Merah Box Plain 12 Stc (Sktb)','Bentoel SJT Box Plain 12 Stc (Sktnb)',\n",
        "                                    'Bulls Box Plain 12 Stc (Sktb)','Dados Brown Soft Plain 12 Stc (Sktb)',\n",
        "                                    'Divo Box Plain 12 Stc (Sktb)','Djarum 76 Brown Box Plain 12 Stc (Sktb)',\n",
        "                                    'Djarum Coklat Soft Plain 12 Stc (Sktb)','Djarum Istimewa Soft Coklat Plain 12 Stc (Sktb)',\n",
        "                                    'Dji Sam Soe Edisi Khusus Soft Plain 12 Stc (Sktb)','Dji Sam Soe Soft Plain 12 Stc (Sktb)',\n",
        "                                    'Grendel Utama Yellow Box Plain 12 Stc (Sktb)','Gudang Baru King Size Box Plain 12 Stc (Sktb)',\n",
        "                                    'Gudang Baru King Size Soft Plain 12 Stc (Sktb)','Gudang Garam Djaja Box Kspl 12 Stc (Sktb)',\n",
        "                                    'Gudang Garam Djaja Soft Kspl 12 Stc (Sktb)','Gudang Garam Red Box Kspl 12 Stc (Sktb)',\n",
        "                                    'Gudang Garam Red Soft Kspl 12 Stc (Sktb)','Gudang Garam Taman Sriwedari Soft Kspl 12 Stc (Sktb)',\n",
        "                                    'Gudang Garam Taman Sriwedari Soft Plain 12 Stc (Sktb)','Kedai Kopi Yellow Soft Plain 12 Stc (Sktb)',\n",
        "                                    'Marlboro Box Filter 12 Stc (Skmb)','Menara Special Kuning Box Plain 12 Stc (Sktb)',\n",
        "                                    'Minak Djinggo Kuning Soft Plain 10 Stc (Sktb)','Nalami Na Classic Brown Soft Plain 12 Stc (Sktb)',\n",
        "                                    'Panamas 1 Soft Plain 12 Stc (Sktb)','Sampoerna \\'A\\' Hijau Box Plain 12 Stc (Sktb)',\n",
        "                                    'Sampoerna \\'A\\' Hijau Edisi Khusus Box Plain 10+2 Stc (Sktb)','Sampoerna Kretek 234 Box Plain 12 Stc (Sktb)',\n",
        "                                    'Simustika 269 Gold Brown Box Plain 12 Stc (Sktb)','Vigor Red Box Filter 12 Stc (Sktb)',\n",
        "                                    'Warung Kopi Box Plain 12 Stc (Sktb)','Djarum Coklat Extra Box Plain 12 Stc (Sktb)'],\n",
        "             'Item': ['153 12','APK 12','APK 20','APK 12','APM 12','BENTOEL SJT 12','BULLS 12','DADOS 12',\n",
        "                      'DIVO 12','DJARUM 76 12','DJARUM COKLAT 12','DJARUM ISTIMEWA 12','DSS 12','DSS 12',\n",
        "                      'GRENDEL 12','GUDANG BARU 12','GUDANG BARU 12','DJAJA 12','DJAJA 12','GG MERAH 12',\n",
        "                      'GG MERAH 12','SRIWEDARI 12','SRIWEDARI 12','KEDAI KOPI 12','MARLBORO 12','MENARA 12',\n",
        "                      'MINAK DJINGGO 10','NALAMI 12','PANAMAS 12','A HIJAU 12','A HIJAU 12','SAMPOERNA KRETEK 12',\n",
        "                      'SIMUSTIKA 12','VIGOR 12','WARUNG KOPI 12','DJARUM COKLAT 12']}\n",
        "item_mapping = pd.DataFrame(my_dict2)"
      ],
      "execution_count": 723,
      "outputs": []
    },
    {
      "cell_type": "code",
      "metadata": {
        "id": "ywOdyx5wPSWM",
        "colab": {
          "base_uri": "https://localhost:8080/"
        },
        "outputId": "01fb2362-8596-4472-ff81-5d7818f6682f"
      },
      "source": [
        "mapping_toko = SO_IA[['Store Code','Type Toko','Provinsi']]\n",
        "mapping_toko.shape"
      ],
      "execution_count": 724,
      "outputs": [
        {
          "output_type": "execute_result",
          "data": {
            "text/plain": [
              "(347, 3)"
            ]
          },
          "metadata": {},
          "execution_count": 724
        }
      ]
    },
    {
      "cell_type": "code",
      "metadata": {
        "id": "VVxu3322S1C3",
        "colab": {
          "base_uri": "https://localhost:8080/"
        },
        "outputId": "2ac08f4d-3070-47a6-97fa-56c5d44fa68e"
      },
      "source": [
        "mapping_toko = mapping_toko.append(SO1[['Store Code','Type Toko','Provinsi']])\n",
        "mapping_toko.shape"
      ],
      "execution_count": 725,
      "outputs": [
        {
          "output_type": "execute_result",
          "data": {
            "text/plain": [
              "(707, 3)"
            ]
          },
          "metadata": {},
          "execution_count": 725
        }
      ]
    },
    {
      "cell_type": "code",
      "metadata": {
        "id": "WAyGy8b2XbSI",
        "colab": {
          "base_uri": "https://localhost:8080/"
        },
        "outputId": "c88a6f0d-f4c5-4dd6-a2d6-49e8a302d9ce"
      },
      "source": [
        "mapping_toko = mapping_toko.append(SO2[['Store Code','Type Toko','Provinsi']])\n",
        "mapping_toko.shape"
      ],
      "execution_count": 726,
      "outputs": [
        {
          "output_type": "execute_result",
          "data": {
            "text/plain": [
              "(1060, 3)"
            ]
          },
          "metadata": {},
          "execution_count": 726
        }
      ]
    },
    {
      "cell_type": "code",
      "metadata": {
        "colab": {
          "base_uri": "https://localhost:8080/"
        },
        "id": "nZUNkHodfsbq",
        "outputId": "9ed93fad-bf01-49e8-f7ee-2cc516b5c374"
      },
      "source": [
        "mapping_toko = mapping_toko.append(SO3[['Store Code','Type Toko','Provinsi']])\n",
        "mapping_toko.shape"
      ],
      "execution_count": 727,
      "outputs": [
        {
          "output_type": "execute_result",
          "data": {
            "text/plain": [
              "(1484, 3)"
            ]
          },
          "metadata": {},
          "execution_count": 727
        }
      ]
    },
    {
      "cell_type": "code",
      "metadata": {
        "colab": {
          "base_uri": "https://localhost:8080/"
        },
        "id": "UZaL7AKpgkOR",
        "outputId": "8f821ee7-6701-4a46-8e66-d3536651f623"
      },
      "source": [
        "mapping_toko = mapping_toko.append(SO4[['Store Code','Type Toko','Provinsi']])\n",
        "mapping_toko.shape"
      ],
      "execution_count": 728,
      "outputs": [
        {
          "output_type": "execute_result",
          "data": {
            "text/plain": [
              "(1988, 3)"
            ]
          },
          "metadata": {},
          "execution_count": 728
        }
      ]
    },
    {
      "cell_type": "code",
      "metadata": {
        "id": "P8CqTK_ZbyYK"
      },
      "source": [
        "mapping_toko = pd.merge(mapping_toko, \n",
        "                     area_mapping, \n",
        "                     on ='Provinsi', \n",
        "                     how ='left')"
      ],
      "execution_count": 729,
      "outputs": []
    },
    {
      "cell_type": "code",
      "metadata": {
        "id": "XBhuHqenfmfB"
      },
      "source": [
        "mapping_toko = mapping_toko.drop_duplicates(ignore_index=True)\n",
        "mapping_toko.drop('Provinsi', axis=1, inplace=True)"
      ],
      "execution_count": 730,
      "outputs": []
    },
    {
      "cell_type": "code",
      "metadata": {
        "id": "TpdtcGYw6H82"
      },
      "source": [
        "mapping_toko = mapping_toko.rename(columns = {'Store Code': 'SMS Id'})"
      ],
      "execution_count": 731,
      "outputs": []
    },
    {
      "cell_type": "markdown",
      "metadata": {
        "id": "erhwr8bNPSAC"
      },
      "source": [
        "### Merge Store Observation"
      ]
    },
    {
      "cell_type": "code",
      "metadata": {
        "id": "IGDoEuzByNoj"
      },
      "source": [
        "columns_to_keep = [x for x in range(SO2.shape[1]) if x not in [27,30,33,36,39,42,45,48]]\n",
        "SO2 = SO2.iloc[:, columns_to_keep]"
      ],
      "execution_count": 732,
      "outputs": []
    },
    {
      "cell_type": "code",
      "metadata": {
        "id": "ktFMaUiQ6s05"
      },
      "source": [
        "SO2 = SO2[SO2['Q14. Status toko']=='Success']"
      ],
      "execution_count": 733,
      "outputs": []
    },
    {
      "cell_type": "code",
      "metadata": {
        "id": "InGiYT3gvLtp",
        "colab": {
          "base_uri": "https://localhost:8080/"
        },
        "outputId": "04e42d62-6ec6-42eb-c0c2-7f5986979480"
      },
      "source": [
        "SO2.shape"
      ],
      "execution_count": 734,
      "outputs": [
        {
          "output_type": "execute_result",
          "data": {
            "text/plain": [
              "(319, 415)"
            ]
          },
          "metadata": {},
          "execution_count": 734
        }
      ]
    },
    {
      "cell_type": "code",
      "metadata": {
        "id": "dyDp2EHvvOg4",
        "colab": {
          "base_uri": "https://localhost:8080/"
        },
        "outputId": "ac3c6031-1673-49cb-fe3f-cedd0a19aa7b"
      },
      "source": [
        "SO3 = SO3[SO3['Q14. Status toko']=='Success']\n",
        "SO3.shape"
      ],
      "execution_count": 735,
      "outputs": [
        {
          "output_type": "execute_result",
          "data": {
            "text/plain": [
              "(395, 415)"
            ]
          },
          "metadata": {},
          "execution_count": 735
        }
      ]
    },
    {
      "cell_type": "code",
      "metadata": {
        "id": "bFjYLVvn5jql"
      },
      "source": [
        "SO4 = SO4[SO4['Provinsi']!='JAWA TENGAH']\n",
        "SO4 = SO4[SO4['Q14. Status toko']=='Success']"
      ],
      "execution_count": 736,
      "outputs": []
    },
    {
      "cell_type": "code",
      "metadata": {
        "id": "-CJu3UIAvY6Y",
        "colab": {
          "base_uri": "https://localhost:8080/"
        },
        "outputId": "b40e1462-d259-44f0-8360-cc81bd04c2fe"
      },
      "source": [
        "SO4.shape"
      ],
      "execution_count": 737,
      "outputs": [
        {
          "output_type": "execute_result",
          "data": {
            "text/plain": [
              "(394, 415)"
            ]
          },
          "metadata": {},
          "execution_count": 737
        }
      ]
    },
    {
      "cell_type": "code",
      "metadata": {
        "id": "qVqANKD9BXiA",
        "colab": {
          "base_uri": "https://localhost:8080/",
          "height": 982
        },
        "outputId": "17b965a3-c129-4a9d-e9df-f468c5729b52"
      },
      "source": [
        "merge_SO = SO2.append(SO3, ignore_index = True)\n",
        "merge_SO = merge_SO.append(SO4, ignore_index = True)\n",
        "merge_SO"
      ],
      "execution_count": 738,
      "outputs": [
        {
          "output_type": "execute_result",
          "data": {
            "text/html": [
              "<div>\n",
              "<style scoped>\n",
              "    .dataframe tbody tr th:only-of-type {\n",
              "        vertical-align: middle;\n",
              "    }\n",
              "\n",
              "    .dataframe tbody tr th {\n",
              "        vertical-align: top;\n",
              "    }\n",
              "\n",
              "    .dataframe thead th {\n",
              "        text-align: right;\n",
              "    }\n",
              "</style>\n",
              "<table border=\"1\" class=\"dataframe\">\n",
              "  <thead>\n",
              "    <tr style=\"text-align: right;\">\n",
              "      <th>Label</th>\n",
              "      <th>Periode</th>\n",
              "      <th>RESPONSE_ID</th>\n",
              "      <th>Q3C. Capture GPS koordinat # 1</th>\n",
              "      <th>Q3D1_ID Pelanggan</th>\n",
              "      <th>Store Code</th>\n",
              "      <th>Nama toko</th>\n",
              "      <th>Kota</th>\n",
              "      <th>Type Toko</th>\n",
              "      <th>Provinsi</th>\n",
              "      <th>Q9A. Apakah Anda seorang pemilik toko atau penjaga toko</th>\n",
              "      <th>Q9B. Apakah Anda (penjaga toko) memainkan peran dalam proses pengambilan keputusan?</th>\n",
              "      <th>Q12A. Apakah toko bersedia memberikan informasi Nomor Telephone - Telkom (kode area + nomor telephone)</th>\n",
              "      <th>Q13A. Apakah toko bersedia memberikan informasi nomor Handphone Toko?</th>\n",
              "      <th>Q14. Status toko</th>\n",
              "      <th>Q14A. alasan menolak</th>\n",
              "      <th>Q14A_1. Others disebutkan:</th>\n",
              "      <th>Q40A_Q40A. Apabila penjaga toko, sudah berapa lama PIC bekerja di toko tersebut?</th>\n",
              "      <th>Q40B. Berapakah usia pemilik toko?</th>\n",
              "      <th>Q40C_Sudah berapa lama toko beroperasi?</th>\n",
              "      <th>Q40D_Jumlah karyawan toko</th>\n",
              "      <th>Q40E_Sumber pembelian:Wholesaler/Grosir</th>\n",
              "      <th>Q40E_Sumber pembelian:Salesman</th>\n",
              "      <th>Q40E_Sumber pembelian:Other</th>\n",
              "      <th>Q40E_1_Other Mention</th>\n",
              "      <th>Q40F_Frekuensi pembelian stok rokok</th>\n",
              "      <th>Q40G_Apakah ada product SKT/rokok linting baru di minggu ini?</th>\n",
              "      <th>Q40G_1Apakah nama produk SKT/rokok linting baru itu?</th>\n",
              "      <th>Q40G_1Apakah nama produk SKT/rokok linting baru itu?</th>\n",
              "      <th>Q40H_Darimana asal pembelian produk SKT/Rokok linting baru tersebut?:Salesman</th>\n",
              "      <th>Q40H_Darimana asal pembelian produk SKT/Rokok linting baru tersebut?:Salesman</th>\n",
              "      <th>Q40H_Darimana asal pembelian produk SKT/Rokok linting baru tersebut?:Wholesaler/Grosir</th>\n",
              "      <th>Q40H_Darimana asal pembelian produk SKT/Rokok linting baru tersebut?:Wholesaler/Grosir</th>\n",
              "      <th>Q40H_Darimana asal pembelian produk SKT/Rokok linting baru tersebut?:Other</th>\n",
              "      <th>Q40H_Darimana asal pembelian produk SKT/Rokok linting baru tersebut?:Other</th>\n",
              "      <th>Q40H_1_Other Mention</th>\n",
              "      <th>Q40H_1_Other Mention</th>\n",
              "      <th>Q40I_Berapakah Harga Beli dan Harga Jual produk SKT/rokok linting baru tersebut?:Harga Beli:Produk SKT/roko linting</th>\n",
              "      <th>Q40I_Berapakah Harga Beli dan Harga Jual produk SKT/rokok linting baru tersebut?:Harga Beli:Produk SKT/roko linting</th>\n",
              "      <th>Q40I_Berapakah Harga Beli dan Harga Jual produk SKT/rokok linting baru tersebut?:Harga Jual:Produk SKT/roko linting</th>\n",
              "      <th>Q40I_Berapakah Harga Beli dan Harga Jual produk SKT/rokok linting baru tersebut?:Harga Jual:Produk SKT/roko linting</th>\n",
              "      <th>...</th>\n",
              "      <th>Q50L_Apakah ada POSM Blocking Display (Dummy Pack ada 5 Pack kosong) untuk brand berikut:Brand Nalami</th>\n",
              "      <th>Q50L_Apakah ada POSM Blocking Display (Dummy Pack ada 5 Pack kosong) untuk brand berikut:Brand Panamas</th>\n",
              "      <th>Q50L_Apakah ada POSM Blocking Display (Dummy Pack ada 5 Pack kosong) untuk brand berikut:Brand Sampoerna Kretek</th>\n",
              "      <th>Q50L_Apakah ada POSM Blocking Display (Dummy Pack ada 5 Pack kosong) untuk brand berikut:Brand Simustika</th>\n",
              "      <th>Q50L_Apakah ada POSM Blocking Display (Dummy Pack ada 5 Pack kosong) untuk brand berikut:Brand Vigor</th>\n",
              "      <th>Q50L_Apakah ada POSM Blocking Display (Dummy Pack ada 5 Pack kosong) untuk brand berikut:Brand Warung Kopi</th>\n",
              "      <th>Q50M_Apakah ada POSM Hanging Lighter untuk brand berikut:Brand 153</th>\n",
              "      <th>Q50M_Apakah ada POSM Hanging Lighter untuk brand berikut:Brand A Hijau</th>\n",
              "      <th>Q50M_Apakah ada POSM Hanging Lighter untuk brand berikut:Brand Apache Merah</th>\n",
              "      <th>Q50M_Apakah ada POSM Hanging Lighter untuk brand berikut:Brand Apache Kretek</th>\n",
              "      <th>Q50M_Apakah ada POSM Hanging Lighter untuk brand berikut:Brand Bentoel</th>\n",
              "      <th>Q50M_Apakah ada POSM Hanging Lighter untuk brand berikut:Brand Bulls</th>\n",
              "      <th>Q50M_Apakah ada POSM Hanging Lighter untuk brand berikut:Brand Dados</th>\n",
              "      <th>Q50M_Apakah ada POSM Hanging Lighter untuk brand berikut:Brand Divo</th>\n",
              "      <th>Q50M_Apakah ada POSM Hanging Lighter untuk brand berikut:Brand Djarum 76</th>\n",
              "      <th>Q50M_Apakah ada POSM Hanging Lighter untuk brand berikut:Brand Djarum Coklat</th>\n",
              "      <th>Q50M_Apakah ada POSM Hanging Lighter untuk brand berikut:Brand Djarum Istimewa</th>\n",
              "      <th>Q50M_Apakah ada POSM Hanging Lighter untuk brand berikut:Brand Dji Sam Soe Kretek</th>\n",
              "      <th>Q50M_Apakah ada POSM Hanging Lighter untuk brand berikut:Brand Grendel Utama</th>\n",
              "      <th>Q50M_Apakah ada POSM Hanging Lighter untuk brand berikut:Brand Gudang Baru</th>\n",
              "      <th>Q50M_Apakah ada POSM Hanging Lighter untuk brand berikut:Brand Gudang Garam Djaja</th>\n",
              "      <th>Q50M_Apakah ada POSM Hanging Lighter untuk brand berikut:Brand Gudang Garam Merah</th>\n",
              "      <th>Q50M_Apakah ada POSM Hanging Lighter untuk brand berikut:Brand Gudang Garam Sriwedari</th>\n",
              "      <th>Q50M_Apakah ada POSM Hanging Lighter untuk brand berikut:Brand Kedai Kopi</th>\n",
              "      <th>Q50M_Apakah ada POSM Hanging Lighter untuk brand berikut:Brand Marlboro Crafted</th>\n",
              "      <th>Q50M_Apakah ada POSM Hanging Lighter untuk brand berikut:Brand Menara</th>\n",
              "      <th>Q50M_Apakah ada POSM Hanging Lighter untuk brand berikut:Brand Minak Djinggo</th>\n",
              "      <th>Q50M_Apakah ada POSM Hanging Lighter untuk brand berikut:Brand Nalami</th>\n",
              "      <th>Q50M_Apakah ada POSM Hanging Lighter untuk brand berikut:Brand Panamas</th>\n",
              "      <th>Q50M_Apakah ada POSM Hanging Lighter untuk brand berikut:Brand Sampoerna Kretek</th>\n",
              "      <th>Q50M_Apakah ada POSM Hanging Lighter untuk brand berikut:Brand Simustika</th>\n",
              "      <th>Q50M_Apakah ada POSM Hanging Lighter untuk brand berikut:Brand Vigor</th>\n",
              "      <th>Q50M_Apakah ada POSM Hanging Lighter untuk brand berikut:Brand Warung Kopi</th>\n",
              "      <th>Q50N. Apakah diperbolehkan untuk mengambil foto POSM ?</th>\n",
              "      <th>Q24. Apakah diperbolehkan untuk mengambil foto dalam Toko?</th>\n",
              "      <th>Q28. Status survey</th>\n",
              "      <th>Q26A_ Metode AUDIT yang digunakan :</th>\n",
              "      <th>Q29. Status Audit</th>\n",
              "      <th>Q30. ID Witness</th>\n",
              "      <th>Q31_Store Comment.</th>\n",
              "    </tr>\n",
              "  </thead>\n",
              "  <tbody>\n",
              "    <tr>\n",
              "      <th>0</th>\n",
              "      <td>9Aug - 15Aug</td>\n",
              "      <td>20910088</td>\n",
              "      <td>-5.42731773;105.43411926;4.551;fused</td>\n",
              "      <td>C.091-00200008615</td>\n",
              "      <td>1609700</td>\n",
              "      <td>WR DIYENG</td>\n",
              "      <td>LAMPUNG SELATAN</td>\n",
              "      <td>WARUNG LARGE</td>\n",
              "      <td>LAMPUNG</td>\n",
              "      <td>Pemilik toko</td>\n",
              "      <td>NaN</td>\n",
              "      <td>Tidak (Tidak Bersedia/Tidak diperbolehkan)</td>\n",
              "      <td>Ya (Bersedia)</td>\n",
              "      <td>Success</td>\n",
              "      <td>NaN</td>\n",
              "      <td>NaN</td>\n",
              "      <td>NaN</td>\n",
              "      <td>45.0</td>\n",
              "      <td>lebih dari 10 tahun</td>\n",
              "      <td>1 orang</td>\n",
              "      <td>True</td>\n",
              "      <td>True</td>\n",
              "      <td>False</td>\n",
              "      <td>NaN</td>\n",
              "      <td>tidak ada jadwal pasti</td>\n",
              "      <td>Tidak</td>\n",
              "      <td>NaN</td>\n",
              "      <td>NaN</td>\n",
              "      <td>NaN</td>\n",
              "      <td>NaN</td>\n",
              "      <td>NaN</td>\n",
              "      <td>NaN</td>\n",
              "      <td>NaN</td>\n",
              "      <td>NaN</td>\n",
              "      <td>NaN</td>\n",
              "      <td>NaN</td>\n",
              "      <td>NaN</td>\n",
              "      <td>NaN</td>\n",
              "      <td>NaN</td>\n",
              "      <td>NaN</td>\n",
              "      <td>...</td>\n",
              "      <td>NaN</td>\n",
              "      <td>NaN</td>\n",
              "      <td>NaN</td>\n",
              "      <td>NaN</td>\n",
              "      <td>NaN</td>\n",
              "      <td>NaN</td>\n",
              "      <td>NaN</td>\n",
              "      <td>Tidak Ada</td>\n",
              "      <td>Tidak Ada</td>\n",
              "      <td>Tidak Ada</td>\n",
              "      <td>NaN</td>\n",
              "      <td>NaN</td>\n",
              "      <td>NaN</td>\n",
              "      <td>NaN</td>\n",
              "      <td>NaN</td>\n",
              "      <td>NaN</td>\n",
              "      <td>NaN</td>\n",
              "      <td>Tidak Ada</td>\n",
              "      <td>NaN</td>\n",
              "      <td>Tidak Ada</td>\n",
              "      <td>Tidak Ada</td>\n",
              "      <td>Tidak Ada</td>\n",
              "      <td>Tidak Ada</td>\n",
              "      <td>Tidak Ada</td>\n",
              "      <td>NaN</td>\n",
              "      <td>NaN</td>\n",
              "      <td>NaN</td>\n",
              "      <td>NaN</td>\n",
              "      <td>NaN</td>\n",
              "      <td>NaN</td>\n",
              "      <td>NaN</td>\n",
              "      <td>NaN</td>\n",
              "      <td>NaN</td>\n",
              "      <td>Ya</td>\n",
              "      <td>Iya</td>\n",
              "      <td>completed</td>\n",
              "      <td>BAU</td>\n",
              "      <td>General Check / Audit</td>\n",
              "      <td>NaN</td>\n",
              "      <td>Komplit</td>\n",
              "    </tr>\n",
              "    <tr>\n",
              "      <th>1</th>\n",
              "      <td>9Aug - 15Aug</td>\n",
              "      <td>20910089</td>\n",
              "      <td>-5.68649168138458;105.777708957891;393.7077;fused</td>\n",
              "      <td>C.091-02200001095</td>\n",
              "      <td>1609704</td>\n",
              "      <td>WR.KHOLIS</td>\n",
              "      <td>LAMPUNG SELATAN</td>\n",
              "      <td>WARUNG LARGE</td>\n",
              "      <td>LAMPUNG</td>\n",
              "      <td>Pemilik toko</td>\n",
              "      <td>NaN</td>\n",
              "      <td>Tidak (Tidak Bersedia/Tidak diperbolehkan)</td>\n",
              "      <td>Ya (Bersedia)</td>\n",
              "      <td>Success</td>\n",
              "      <td>NaN</td>\n",
              "      <td>NaN</td>\n",
              "      <td>NaN</td>\n",
              "      <td>47.0</td>\n",
              "      <td>lebih dari 10 tahun</td>\n",
              "      <td>TA (Owner sendiri tanpa karyawan/pegawai)</td>\n",
              "      <td>True</td>\n",
              "      <td>True</td>\n",
              "      <td>False</td>\n",
              "      <td>NaN</td>\n",
              "      <td>Ketika stock sudah habis atau hampir habis</td>\n",
              "      <td>Tidak</td>\n",
              "      <td>NaN</td>\n",
              "      <td>NaN</td>\n",
              "      <td>NaN</td>\n",
              "      <td>NaN</td>\n",
              "      <td>NaN</td>\n",
              "      <td>NaN</td>\n",
              "      <td>NaN</td>\n",
              "      <td>NaN</td>\n",
              "      <td>NaN</td>\n",
              "      <td>NaN</td>\n",
              "      <td>NaN</td>\n",
              "      <td>NaN</td>\n",
              "      <td>NaN</td>\n",
              "      <td>NaN</td>\n",
              "      <td>...</td>\n",
              "      <td>NaN</td>\n",
              "      <td>NaN</td>\n",
              "      <td>NaN</td>\n",
              "      <td>NaN</td>\n",
              "      <td>NaN</td>\n",
              "      <td>NaN</td>\n",
              "      <td>NaN</td>\n",
              "      <td>Tidak Ada</td>\n",
              "      <td>Tidak Ada</td>\n",
              "      <td>Tidak Ada</td>\n",
              "      <td>NaN</td>\n",
              "      <td>NaN</td>\n",
              "      <td>NaN</td>\n",
              "      <td>NaN</td>\n",
              "      <td>NaN</td>\n",
              "      <td>NaN</td>\n",
              "      <td>NaN</td>\n",
              "      <td>Tidak Ada</td>\n",
              "      <td>NaN</td>\n",
              "      <td>Tidak Ada</td>\n",
              "      <td>Tidak Ada</td>\n",
              "      <td>Tidak Ada</td>\n",
              "      <td>Tidak Ada</td>\n",
              "      <td>Tidak Ada</td>\n",
              "      <td>NaN</td>\n",
              "      <td>NaN</td>\n",
              "      <td>NaN</td>\n",
              "      <td>NaN</td>\n",
              "      <td>NaN</td>\n",
              "      <td>NaN</td>\n",
              "      <td>NaN</td>\n",
              "      <td>NaN</td>\n",
              "      <td>NaN</td>\n",
              "      <td>Ya</td>\n",
              "      <td>Iya</td>\n",
              "      <td>completed</td>\n",
              "      <td>BAU</td>\n",
              "      <td>General Check / Audit</td>\n",
              "      <td>NaN</td>\n",
              "      <td>Taging sinyal rendah</td>\n",
              "    </tr>\n",
              "    <tr>\n",
              "      <th>2</th>\n",
              "      <td>9Aug - 15Aug</td>\n",
              "      <td>20910090</td>\n",
              "      <td>-5.62242922;105.52358922;11;fused</td>\n",
              "      <td>C.091-02200002899</td>\n",
              "      <td>1609706</td>\n",
              "      <td>ADITIA</td>\n",
              "      <td>LAMPUNG SELATAN</td>\n",
              "      <td>WARUNG LARGE</td>\n",
              "      <td>LAMPUNG</td>\n",
              "      <td>Penjaga toko</td>\n",
              "      <td>Iya</td>\n",
              "      <td>Tidak (Tidak Bersedia/Tidak diperbolehkan)</td>\n",
              "      <td>Ya (Bersedia)</td>\n",
              "      <td>Success</td>\n",
              "      <td>NaN</td>\n",
              "      <td>NaN</td>\n",
              "      <td>lebih dari 1 tahun</td>\n",
              "      <td>NaN</td>\n",
              "      <td>lebih dari 10 tahun</td>\n",
              "      <td>1 orang</td>\n",
              "      <td>True</td>\n",
              "      <td>True</td>\n",
              "      <td>False</td>\n",
              "      <td>NaN</td>\n",
              "      <td>Ketika stock sudah habis atau hampir habis</td>\n",
              "      <td>Tidak</td>\n",
              "      <td>NaN</td>\n",
              "      <td>NaN</td>\n",
              "      <td>NaN</td>\n",
              "      <td>NaN</td>\n",
              "      <td>NaN</td>\n",
              "      <td>NaN</td>\n",
              "      <td>NaN</td>\n",
              "      <td>NaN</td>\n",
              "      <td>NaN</td>\n",
              "      <td>NaN</td>\n",
              "      <td>NaN</td>\n",
              "      <td>NaN</td>\n",
              "      <td>NaN</td>\n",
              "      <td>NaN</td>\n",
              "      <td>...</td>\n",
              "      <td>NaN</td>\n",
              "      <td>NaN</td>\n",
              "      <td>NaN</td>\n",
              "      <td>NaN</td>\n",
              "      <td>NaN</td>\n",
              "      <td>NaN</td>\n",
              "      <td>NaN</td>\n",
              "      <td>Tidak Ada</td>\n",
              "      <td>Tidak Ada</td>\n",
              "      <td>Tidak Ada</td>\n",
              "      <td>NaN</td>\n",
              "      <td>NaN</td>\n",
              "      <td>NaN</td>\n",
              "      <td>NaN</td>\n",
              "      <td>NaN</td>\n",
              "      <td>NaN</td>\n",
              "      <td>NaN</td>\n",
              "      <td>Tidak Ada</td>\n",
              "      <td>NaN</td>\n",
              "      <td>Tidak Ada</td>\n",
              "      <td>Tidak Ada</td>\n",
              "      <td>Tidak Ada</td>\n",
              "      <td>Tidak Ada</td>\n",
              "      <td>Tidak Ada</td>\n",
              "      <td>NaN</td>\n",
              "      <td>NaN</td>\n",
              "      <td>NaN</td>\n",
              "      <td>NaN</td>\n",
              "      <td>NaN</td>\n",
              "      <td>NaN</td>\n",
              "      <td>NaN</td>\n",
              "      <td>NaN</td>\n",
              "      <td>NaN</td>\n",
              "      <td>Tidak</td>\n",
              "      <td>Tidak</td>\n",
              "      <td>completed</td>\n",
              "      <td>Alternate by phone</td>\n",
              "      <td>General Check / Audit</td>\n",
              "      <td>NaN</td>\n",
              "      <td>Metode ALT</td>\n",
              "    </tr>\n",
              "    <tr>\n",
              "      <th>3</th>\n",
              "      <td>9Aug - 15Aug</td>\n",
              "      <td>20910091</td>\n",
              "      <td>-5.72747153;105.76182568;46;gps</td>\n",
              "      <td>C.091-02200002729</td>\n",
              "      <td>1609708</td>\n",
              "      <td>IBU SRI</td>\n",
              "      <td>LAMPUNG SELATAN</td>\n",
              "      <td>WARUNG LARGE</td>\n",
              "      <td>LAMPUNG</td>\n",
              "      <td>Pemilik toko</td>\n",
              "      <td>NaN</td>\n",
              "      <td>Tidak (Tidak Bersedia/Tidak diperbolehkan)</td>\n",
              "      <td>Ya (Bersedia)</td>\n",
              "      <td>Success</td>\n",
              "      <td>NaN</td>\n",
              "      <td>NaN</td>\n",
              "      <td>NaN</td>\n",
              "      <td>55.0</td>\n",
              "      <td>lebih dari 10 tahun</td>\n",
              "      <td>TA (Owner sendiri tanpa karyawan/pegawai)</td>\n",
              "      <td>True</td>\n",
              "      <td>True</td>\n",
              "      <td>False</td>\n",
              "      <td>NaN</td>\n",
              "      <td>Ketika stock sudah habis atau hampir habis</td>\n",
              "      <td>Tidak</td>\n",
              "      <td>NaN</td>\n",
              "      <td>NaN</td>\n",
              "      <td>NaN</td>\n",
              "      <td>NaN</td>\n",
              "      <td>NaN</td>\n",
              "      <td>NaN</td>\n",
              "      <td>NaN</td>\n",
              "      <td>NaN</td>\n",
              "      <td>NaN</td>\n",
              "      <td>NaN</td>\n",
              "      <td>NaN</td>\n",
              "      <td>NaN</td>\n",
              "      <td>NaN</td>\n",
              "      <td>NaN</td>\n",
              "      <td>...</td>\n",
              "      <td>NaN</td>\n",
              "      <td>NaN</td>\n",
              "      <td>NaN</td>\n",
              "      <td>NaN</td>\n",
              "      <td>NaN</td>\n",
              "      <td>NaN</td>\n",
              "      <td>NaN</td>\n",
              "      <td>Tidak Ada</td>\n",
              "      <td>Tidak Ada</td>\n",
              "      <td>Tidak Ada</td>\n",
              "      <td>NaN</td>\n",
              "      <td>NaN</td>\n",
              "      <td>NaN</td>\n",
              "      <td>NaN</td>\n",
              "      <td>NaN</td>\n",
              "      <td>NaN</td>\n",
              "      <td>NaN</td>\n",
              "      <td>Tidak Ada</td>\n",
              "      <td>NaN</td>\n",
              "      <td>Tidak Ada</td>\n",
              "      <td>Tidak Ada</td>\n",
              "      <td>Tidak Ada</td>\n",
              "      <td>Tidak Ada</td>\n",
              "      <td>Tidak Ada</td>\n",
              "      <td>NaN</td>\n",
              "      <td>NaN</td>\n",
              "      <td>NaN</td>\n",
              "      <td>NaN</td>\n",
              "      <td>NaN</td>\n",
              "      <td>NaN</td>\n",
              "      <td>NaN</td>\n",
              "      <td>NaN</td>\n",
              "      <td>NaN</td>\n",
              "      <td>Ya</td>\n",
              "      <td>Iya</td>\n",
              "      <td>completed</td>\n",
              "      <td>BAU</td>\n",
              "      <td>General Check / Audit</td>\n",
              "      <td>NaN</td>\n",
              "      <td>Taging sinyal lemah</td>\n",
              "    </tr>\n",
              "    <tr>\n",
              "      <th>4</th>\n",
              "      <td>9Aug - 15Aug</td>\n",
              "      <td>20910092</td>\n",
              "      <td>-5.690349;105.78394664;3;fused</td>\n",
              "      <td>C.091-02200001096</td>\n",
              "      <td>1609710</td>\n",
              "      <td>WR.UNTUNG</td>\n",
              "      <td>LAMPUNG SELATAN</td>\n",
              "      <td>WARUNG LARGE</td>\n",
              "      <td>LAMPUNG</td>\n",
              "      <td>Pemilik toko</td>\n",
              "      <td>NaN</td>\n",
              "      <td>Tidak (Tidak Bersedia/Tidak diperbolehkan)</td>\n",
              "      <td>Ya (Bersedia)</td>\n",
              "      <td>Success</td>\n",
              "      <td>NaN</td>\n",
              "      <td>NaN</td>\n",
              "      <td>NaN</td>\n",
              "      <td>45.0</td>\n",
              "      <td>lebih dari 10 tahun</td>\n",
              "      <td>TA (Owner sendiri tanpa karyawan/pegawai)</td>\n",
              "      <td>True</td>\n",
              "      <td>True</td>\n",
              "      <td>False</td>\n",
              "      <td>NaN</td>\n",
              "      <td>Ketika stock sudah habis atau hampir habis</td>\n",
              "      <td>Tidak</td>\n",
              "      <td>NaN</td>\n",
              "      <td>NaN</td>\n",
              "      <td>NaN</td>\n",
              "      <td>NaN</td>\n",
              "      <td>NaN</td>\n",
              "      <td>NaN</td>\n",
              "      <td>NaN</td>\n",
              "      <td>NaN</td>\n",
              "      <td>NaN</td>\n",
              "      <td>NaN</td>\n",
              "      <td>NaN</td>\n",
              "      <td>NaN</td>\n",
              "      <td>NaN</td>\n",
              "      <td>NaN</td>\n",
              "      <td>...</td>\n",
              "      <td>NaN</td>\n",
              "      <td>NaN</td>\n",
              "      <td>NaN</td>\n",
              "      <td>NaN</td>\n",
              "      <td>NaN</td>\n",
              "      <td>NaN</td>\n",
              "      <td>NaN</td>\n",
              "      <td>Tidak Ada</td>\n",
              "      <td>Tidak Ada</td>\n",
              "      <td>Tidak Ada</td>\n",
              "      <td>NaN</td>\n",
              "      <td>NaN</td>\n",
              "      <td>NaN</td>\n",
              "      <td>NaN</td>\n",
              "      <td>NaN</td>\n",
              "      <td>NaN</td>\n",
              "      <td>NaN</td>\n",
              "      <td>Tidak Ada</td>\n",
              "      <td>NaN</td>\n",
              "      <td>Tidak Ada</td>\n",
              "      <td>Tidak Ada</td>\n",
              "      <td>Tidak Ada</td>\n",
              "      <td>Tidak Ada</td>\n",
              "      <td>Tidak Ada</td>\n",
              "      <td>NaN</td>\n",
              "      <td>NaN</td>\n",
              "      <td>NaN</td>\n",
              "      <td>NaN</td>\n",
              "      <td>NaN</td>\n",
              "      <td>NaN</td>\n",
              "      <td>NaN</td>\n",
              "      <td>NaN</td>\n",
              "      <td>NaN</td>\n",
              "      <td>Tidak</td>\n",
              "      <td>Iya</td>\n",
              "      <td>completed</td>\n",
              "      <td>BAU</td>\n",
              "      <td>General Check / Audit</td>\n",
              "      <td>NaN</td>\n",
              "      <td>Toko belum belanja lagi</td>\n",
              "    </tr>\n",
              "    <tr>\n",
              "      <th>...</th>\n",
              "      <td>...</td>\n",
              "      <td>...</td>\n",
              "      <td>...</td>\n",
              "      <td>...</td>\n",
              "      <td>...</td>\n",
              "      <td>...</td>\n",
              "      <td>...</td>\n",
              "      <td>...</td>\n",
              "      <td>...</td>\n",
              "      <td>...</td>\n",
              "      <td>...</td>\n",
              "      <td>...</td>\n",
              "      <td>...</td>\n",
              "      <td>...</td>\n",
              "      <td>...</td>\n",
              "      <td>...</td>\n",
              "      <td>...</td>\n",
              "      <td>...</td>\n",
              "      <td>...</td>\n",
              "      <td>...</td>\n",
              "      <td>...</td>\n",
              "      <td>...</td>\n",
              "      <td>...</td>\n",
              "      <td>...</td>\n",
              "      <td>...</td>\n",
              "      <td>...</td>\n",
              "      <td>...</td>\n",
              "      <td>...</td>\n",
              "      <td>...</td>\n",
              "      <td>...</td>\n",
              "      <td>...</td>\n",
              "      <td>...</td>\n",
              "      <td>...</td>\n",
              "      <td>...</td>\n",
              "      <td>...</td>\n",
              "      <td>...</td>\n",
              "      <td>...</td>\n",
              "      <td>...</td>\n",
              "      <td>...</td>\n",
              "      <td>...</td>\n",
              "      <td>...</td>\n",
              "      <td>...</td>\n",
              "      <td>...</td>\n",
              "      <td>...</td>\n",
              "      <td>...</td>\n",
              "      <td>...</td>\n",
              "      <td>...</td>\n",
              "      <td>...</td>\n",
              "      <td>...</td>\n",
              "      <td>...</td>\n",
              "      <td>...</td>\n",
              "      <td>...</td>\n",
              "      <td>...</td>\n",
              "      <td>...</td>\n",
              "      <td>...</td>\n",
              "      <td>...</td>\n",
              "      <td>...</td>\n",
              "      <td>...</td>\n",
              "      <td>...</td>\n",
              "      <td>...</td>\n",
              "      <td>...</td>\n",
              "      <td>...</td>\n",
              "      <td>...</td>\n",
              "      <td>...</td>\n",
              "      <td>...</td>\n",
              "      <td>...</td>\n",
              "      <td>...</td>\n",
              "      <td>...</td>\n",
              "      <td>...</td>\n",
              "      <td>...</td>\n",
              "      <td>...</td>\n",
              "      <td>...</td>\n",
              "      <td>...</td>\n",
              "      <td>...</td>\n",
              "      <td>...</td>\n",
              "      <td>...</td>\n",
              "      <td>...</td>\n",
              "      <td>...</td>\n",
              "      <td>...</td>\n",
              "      <td>...</td>\n",
              "      <td>...</td>\n",
              "    </tr>\n",
              "    <tr>\n",
              "      <th>1103</th>\n",
              "      <td>30Aug - 12Sep</td>\n",
              "      <td>21304005</td>\n",
              "      <td>-2.9422723;104.75598571;6.068;gps</td>\n",
              "      <td>C.093-00200003957</td>\n",
              "      <td>1614149</td>\n",
              "      <td>TOKO WAHYU</td>\n",
              "      <td>PALEMBANG</td>\n",
              "      <td>WARUNG MEDIUM</td>\n",
              "      <td>SUMATERA SELATAN</td>\n",
              "      <td>Pemilik toko</td>\n",
              "      <td>NaN</td>\n",
              "      <td>Tidak (Tidak Bersedia/Tidak diperbolehkan)</td>\n",
              "      <td>Ya (Bersedia)</td>\n",
              "      <td>Success</td>\n",
              "      <td>NaN</td>\n",
              "      <td>NaN</td>\n",
              "      <td>NaN</td>\n",
              "      <td>40.0</td>\n",
              "      <td>1-3 tahun</td>\n",
              "      <td>TA (Owner sendiri tanpa karyawan/pegawai)</td>\n",
              "      <td>True</td>\n",
              "      <td>False</td>\n",
              "      <td>False</td>\n",
              "      <td>NaN</td>\n",
              "      <td>tidak ada jadwal pasti</td>\n",
              "      <td>Tidak</td>\n",
              "      <td>NaN</td>\n",
              "      <td>NaN</td>\n",
              "      <td>NaN</td>\n",
              "      <td>NaN</td>\n",
              "      <td>NaN</td>\n",
              "      <td>NaN</td>\n",
              "      <td>NaN</td>\n",
              "      <td>NaN</td>\n",
              "      <td>NaN</td>\n",
              "      <td>NaN</td>\n",
              "      <td>NaN</td>\n",
              "      <td>NaN</td>\n",
              "      <td>NaN</td>\n",
              "      <td>NaN</td>\n",
              "      <td>...</td>\n",
              "      <td>NaN</td>\n",
              "      <td>Tidak Ada</td>\n",
              "      <td>NaN</td>\n",
              "      <td>NaN</td>\n",
              "      <td>Tidak Ada</td>\n",
              "      <td>NaN</td>\n",
              "      <td>NaN</td>\n",
              "      <td>Tidak Ada</td>\n",
              "      <td>Tidak Ada</td>\n",
              "      <td>Tidak Ada</td>\n",
              "      <td>NaN</td>\n",
              "      <td>NaN</td>\n",
              "      <td>Tidak Ada</td>\n",
              "      <td>NaN</td>\n",
              "      <td>NaN</td>\n",
              "      <td>NaN</td>\n",
              "      <td>Tidak Ada</td>\n",
              "      <td>Tidak Ada</td>\n",
              "      <td>NaN</td>\n",
              "      <td>Tidak Ada</td>\n",
              "      <td>NaN</td>\n",
              "      <td>Tidak Ada</td>\n",
              "      <td>NaN</td>\n",
              "      <td>NaN</td>\n",
              "      <td>NaN</td>\n",
              "      <td>NaN</td>\n",
              "      <td>NaN</td>\n",
              "      <td>NaN</td>\n",
              "      <td>Tidak Ada</td>\n",
              "      <td>NaN</td>\n",
              "      <td>NaN</td>\n",
              "      <td>Tidak Ada</td>\n",
              "      <td>NaN</td>\n",
              "      <td>Tidak</td>\n",
              "      <td>Iya</td>\n",
              "      <td>completed</td>\n",
              "      <td>BAU</td>\n",
              "      <td>General Check / Audit</td>\n",
              "      <td>NaN</td>\n",
              "      <td>Ok</td>\n",
              "    </tr>\n",
              "    <tr>\n",
              "      <th>1104</th>\n",
              "      <td>30Aug - 12Sep</td>\n",
              "      <td>21304019</td>\n",
              "      <td>-6.29886057;107.32814594;3.216;gps</td>\n",
              "      <td>C.068-00191007193</td>\n",
              "      <td>1615174</td>\n",
              "      <td>SUGIH</td>\n",
              "      <td>KARAWANG</td>\n",
              "      <td>WARUNG MEDIUM</td>\n",
              "      <td>JAWA BARAT</td>\n",
              "      <td>Pemilik toko</td>\n",
              "      <td>NaN</td>\n",
              "      <td>Tidak (Tidak Bersedia/Tidak diperbolehkan)</td>\n",
              "      <td>Ya (Bersedia)</td>\n",
              "      <td>Success</td>\n",
              "      <td>NaN</td>\n",
              "      <td>NaN</td>\n",
              "      <td>NaN</td>\n",
              "      <td>40.0</td>\n",
              "      <td>4-6 tahun</td>\n",
              "      <td>TA (Owner sendiri tanpa karyawan/pegawai)</td>\n",
              "      <td>True</td>\n",
              "      <td>True</td>\n",
              "      <td>False</td>\n",
              "      <td>NaN</td>\n",
              "      <td>Ketika stock sudah habis atau hampir habis</td>\n",
              "      <td>Tidak</td>\n",
              "      <td>NaN</td>\n",
              "      <td>NaN</td>\n",
              "      <td>NaN</td>\n",
              "      <td>NaN</td>\n",
              "      <td>NaN</td>\n",
              "      <td>NaN</td>\n",
              "      <td>NaN</td>\n",
              "      <td>NaN</td>\n",
              "      <td>NaN</td>\n",
              "      <td>NaN</td>\n",
              "      <td>NaN</td>\n",
              "      <td>NaN</td>\n",
              "      <td>NaN</td>\n",
              "      <td>NaN</td>\n",
              "      <td>...</td>\n",
              "      <td>NaN</td>\n",
              "      <td>NaN</td>\n",
              "      <td>NaN</td>\n",
              "      <td>NaN</td>\n",
              "      <td>NaN</td>\n",
              "      <td>NaN</td>\n",
              "      <td>NaN</td>\n",
              "      <td>Tidak Ada</td>\n",
              "      <td>Tidak Ada</td>\n",
              "      <td>Tidak Ada</td>\n",
              "      <td>Tidak Ada</td>\n",
              "      <td>NaN</td>\n",
              "      <td>NaN</td>\n",
              "      <td>Tidak Ada</td>\n",
              "      <td>NaN</td>\n",
              "      <td>Tidak Ada</td>\n",
              "      <td>NaN</td>\n",
              "      <td>Tidak Ada</td>\n",
              "      <td>NaN</td>\n",
              "      <td>NaN</td>\n",
              "      <td>NaN</td>\n",
              "      <td>Tidak Ada</td>\n",
              "      <td>Tidak Ada</td>\n",
              "      <td>NaN</td>\n",
              "      <td>NaN</td>\n",
              "      <td>NaN</td>\n",
              "      <td>Tidak Ada</td>\n",
              "      <td>NaN</td>\n",
              "      <td>NaN</td>\n",
              "      <td>NaN</td>\n",
              "      <td>NaN</td>\n",
              "      <td>NaN</td>\n",
              "      <td>NaN</td>\n",
              "      <td>Ya</td>\n",
              "      <td>Iya</td>\n",
              "      <td>completed</td>\n",
              "      <td>BAU</td>\n",
              "      <td>General Check / Audit</td>\n",
              "      <td>NaN</td>\n",
              "      <td>Rekrut</td>\n",
              "    </tr>\n",
              "    <tr>\n",
              "      <th>1105</th>\n",
              "      <td>30Aug - 12Sep</td>\n",
              "      <td>21304022</td>\n",
              "      <td>-6.29886706;107.32809889;3.216;gps</td>\n",
              "      <td>C.068-00191007180</td>\n",
              "      <td>1615177</td>\n",
              "      <td>PUTRA KUNINGAN</td>\n",
              "      <td>KARAWANG</td>\n",
              "      <td>WARUNG MEDIUM</td>\n",
              "      <td>JAWA BARAT</td>\n",
              "      <td>Pemilik toko</td>\n",
              "      <td>NaN</td>\n",
              "      <td>Tidak (Tidak Bersedia/Tidak diperbolehkan)</td>\n",
              "      <td>Ya (Bersedia)</td>\n",
              "      <td>Success</td>\n",
              "      <td>NaN</td>\n",
              "      <td>NaN</td>\n",
              "      <td>NaN</td>\n",
              "      <td>40.0</td>\n",
              "      <td>4-6 tahun</td>\n",
              "      <td>TA (Owner sendiri tanpa karyawan/pegawai)</td>\n",
              "      <td>True</td>\n",
              "      <td>True</td>\n",
              "      <td>False</td>\n",
              "      <td>NaN</td>\n",
              "      <td>Ketika stock sudah habis atau hampir habis</td>\n",
              "      <td>Tidak</td>\n",
              "      <td>NaN</td>\n",
              "      <td>NaN</td>\n",
              "      <td>NaN</td>\n",
              "      <td>NaN</td>\n",
              "      <td>NaN</td>\n",
              "      <td>NaN</td>\n",
              "      <td>NaN</td>\n",
              "      <td>NaN</td>\n",
              "      <td>NaN</td>\n",
              "      <td>NaN</td>\n",
              "      <td>NaN</td>\n",
              "      <td>NaN</td>\n",
              "      <td>NaN</td>\n",
              "      <td>NaN</td>\n",
              "      <td>...</td>\n",
              "      <td>NaN</td>\n",
              "      <td>NaN</td>\n",
              "      <td>NaN</td>\n",
              "      <td>NaN</td>\n",
              "      <td>NaN</td>\n",
              "      <td>NaN</td>\n",
              "      <td>NaN</td>\n",
              "      <td>Tidak Ada</td>\n",
              "      <td>Tidak Ada</td>\n",
              "      <td>Tidak Ada</td>\n",
              "      <td>Tidak Ada</td>\n",
              "      <td>NaN</td>\n",
              "      <td>NaN</td>\n",
              "      <td>Tidak Ada</td>\n",
              "      <td>NaN</td>\n",
              "      <td>Tidak Ada</td>\n",
              "      <td>NaN</td>\n",
              "      <td>Tidak Ada</td>\n",
              "      <td>NaN</td>\n",
              "      <td>NaN</td>\n",
              "      <td>NaN</td>\n",
              "      <td>Tidak Ada</td>\n",
              "      <td>Tidak Ada</td>\n",
              "      <td>NaN</td>\n",
              "      <td>NaN</td>\n",
              "      <td>NaN</td>\n",
              "      <td>Tidak Ada</td>\n",
              "      <td>NaN</td>\n",
              "      <td>NaN</td>\n",
              "      <td>NaN</td>\n",
              "      <td>NaN</td>\n",
              "      <td>NaN</td>\n",
              "      <td>NaN</td>\n",
              "      <td>Tidak</td>\n",
              "      <td>Iya</td>\n",
              "      <td>completed</td>\n",
              "      <td>BAU</td>\n",
              "      <td>General Check / Audit</td>\n",
              "      <td>NaN</td>\n",
              "      <td>Rekrut</td>\n",
              "    </tr>\n",
              "    <tr>\n",
              "      <th>1106</th>\n",
              "      <td>30Aug - 12Sep</td>\n",
              "      <td>21304163</td>\n",
              "      <td>-3.0840042;104.86502267;4.551;gps</td>\n",
              "      <td>C.093-00200005956</td>\n",
              "      <td>1614395</td>\n",
              "      <td>TOKO DESTI</td>\n",
              "      <td>BANYU ASIN</td>\n",
              "      <td>WARUNG LARGE</td>\n",
              "      <td>SUMATERA SELATAN</td>\n",
              "      <td>Pemilik toko</td>\n",
              "      <td>NaN</td>\n",
              "      <td>Tidak (Tidak Bersedia/Tidak diperbolehkan)</td>\n",
              "      <td>Ya (Bersedia)</td>\n",
              "      <td>Success</td>\n",
              "      <td>NaN</td>\n",
              "      <td>NaN</td>\n",
              "      <td>NaN</td>\n",
              "      <td>55.0</td>\n",
              "      <td>lebih dari 10 tahun</td>\n",
              "      <td>TA (Owner sendiri tanpa karyawan/pegawai)</td>\n",
              "      <td>True</td>\n",
              "      <td>True</td>\n",
              "      <td>False</td>\n",
              "      <td>NaN</td>\n",
              "      <td>tidak ada jadwal pasti</td>\n",
              "      <td>Tidak</td>\n",
              "      <td>NaN</td>\n",
              "      <td>NaN</td>\n",
              "      <td>NaN</td>\n",
              "      <td>NaN</td>\n",
              "      <td>NaN</td>\n",
              "      <td>NaN</td>\n",
              "      <td>NaN</td>\n",
              "      <td>NaN</td>\n",
              "      <td>NaN</td>\n",
              "      <td>NaN</td>\n",
              "      <td>NaN</td>\n",
              "      <td>NaN</td>\n",
              "      <td>NaN</td>\n",
              "      <td>NaN</td>\n",
              "      <td>...</td>\n",
              "      <td>NaN</td>\n",
              "      <td>Tidak Ada</td>\n",
              "      <td>NaN</td>\n",
              "      <td>NaN</td>\n",
              "      <td>Tidak Ada</td>\n",
              "      <td>NaN</td>\n",
              "      <td>NaN</td>\n",
              "      <td>Tidak Ada</td>\n",
              "      <td>Tidak Ada</td>\n",
              "      <td>Tidak Ada</td>\n",
              "      <td>NaN</td>\n",
              "      <td>NaN</td>\n",
              "      <td>Tidak Ada</td>\n",
              "      <td>NaN</td>\n",
              "      <td>NaN</td>\n",
              "      <td>NaN</td>\n",
              "      <td>Tidak Ada</td>\n",
              "      <td>Tidak Ada</td>\n",
              "      <td>NaN</td>\n",
              "      <td>Tidak Ada</td>\n",
              "      <td>NaN</td>\n",
              "      <td>Tidak Ada</td>\n",
              "      <td>NaN</td>\n",
              "      <td>NaN</td>\n",
              "      <td>NaN</td>\n",
              "      <td>NaN</td>\n",
              "      <td>NaN</td>\n",
              "      <td>NaN</td>\n",
              "      <td>Tidak Ada</td>\n",
              "      <td>NaN</td>\n",
              "      <td>NaN</td>\n",
              "      <td>Tidak Ada</td>\n",
              "      <td>NaN</td>\n",
              "      <td>Tidak</td>\n",
              "      <td>Iya</td>\n",
              "      <td>completed</td>\n",
              "      <td>BAU</td>\n",
              "      <td>General Check / Audit</td>\n",
              "      <td>NaN</td>\n",
              "      <td>Oke</td>\n",
              "    </tr>\n",
              "    <tr>\n",
              "      <th>1107</th>\n",
              "      <td>30Aug - 12Sep</td>\n",
              "      <td>21304189</td>\n",
              "      <td>-6.29884913;107.32821203;27;fused</td>\n",
              "      <td>C.068-00201030279</td>\n",
              "      <td>1614824</td>\n",
              "      <td>TOKO KINANTI</td>\n",
              "      <td>KARAWANG</td>\n",
              "      <td>WARUNG MEDIUM</td>\n",
              "      <td>JAWA BARAT</td>\n",
              "      <td>Pemilik toko</td>\n",
              "      <td>NaN</td>\n",
              "      <td>Tidak (Tidak Bersedia/Tidak diperbolehkan)</td>\n",
              "      <td>Ya (Bersedia)</td>\n",
              "      <td>Success</td>\n",
              "      <td>NaN</td>\n",
              "      <td>NaN</td>\n",
              "      <td>NaN</td>\n",
              "      <td>40.0</td>\n",
              "      <td>4-6 tahun</td>\n",
              "      <td>TA (Owner sendiri tanpa karyawan/pegawai)</td>\n",
              "      <td>True</td>\n",
              "      <td>True</td>\n",
              "      <td>False</td>\n",
              "      <td>NaN</td>\n",
              "      <td>Ketika stock sudah habis atau hampir habis</td>\n",
              "      <td>Tidak</td>\n",
              "      <td>NaN</td>\n",
              "      <td>NaN</td>\n",
              "      <td>NaN</td>\n",
              "      <td>NaN</td>\n",
              "      <td>NaN</td>\n",
              "      <td>NaN</td>\n",
              "      <td>NaN</td>\n",
              "      <td>NaN</td>\n",
              "      <td>NaN</td>\n",
              "      <td>NaN</td>\n",
              "      <td>NaN</td>\n",
              "      <td>NaN</td>\n",
              "      <td>NaN</td>\n",
              "      <td>NaN</td>\n",
              "      <td>...</td>\n",
              "      <td>NaN</td>\n",
              "      <td>NaN</td>\n",
              "      <td>NaN</td>\n",
              "      <td>NaN</td>\n",
              "      <td>NaN</td>\n",
              "      <td>NaN</td>\n",
              "      <td>NaN</td>\n",
              "      <td>Tidak Ada</td>\n",
              "      <td>Tidak Ada</td>\n",
              "      <td>Tidak Ada</td>\n",
              "      <td>Tidak Ada</td>\n",
              "      <td>NaN</td>\n",
              "      <td>NaN</td>\n",
              "      <td>Tidak Ada</td>\n",
              "      <td>NaN</td>\n",
              "      <td>Tidak Ada</td>\n",
              "      <td>NaN</td>\n",
              "      <td>Tidak Ada</td>\n",
              "      <td>NaN</td>\n",
              "      <td>NaN</td>\n",
              "      <td>NaN</td>\n",
              "      <td>Tidak Ada</td>\n",
              "      <td>Tidak Ada</td>\n",
              "      <td>NaN</td>\n",
              "      <td>NaN</td>\n",
              "      <td>NaN</td>\n",
              "      <td>Tidak Ada</td>\n",
              "      <td>NaN</td>\n",
              "      <td>NaN</td>\n",
              "      <td>NaN</td>\n",
              "      <td>NaN</td>\n",
              "      <td>NaN</td>\n",
              "      <td>NaN</td>\n",
              "      <td>Tidak</td>\n",
              "      <td>Iya</td>\n",
              "      <td>completed</td>\n",
              "      <td>BAU</td>\n",
              "      <td>General Check / Audit</td>\n",
              "      <td>NaN</td>\n",
              "      <td>Ok</td>\n",
              "    </tr>\n",
              "  </tbody>\n",
              "</table>\n",
              "<p>1108 rows × 415 columns</p>\n",
              "</div>"
            ],
            "text/plain": [
              "Label        Periode  RESPONSE_ID  ... Q30. ID Witness       Q31_Store Comment.\n",
              "0       9Aug - 15Aug     20910088  ...             NaN                  Komplit\n",
              "1       9Aug - 15Aug     20910089  ...             NaN     Taging sinyal rendah\n",
              "2       9Aug - 15Aug     20910090  ...             NaN               Metode ALT\n",
              "3       9Aug - 15Aug     20910091  ...             NaN      Taging sinyal lemah\n",
              "4       9Aug - 15Aug     20910092  ...             NaN  Toko belum belanja lagi\n",
              "...              ...          ...  ...             ...                      ...\n",
              "1103   30Aug - 12Sep     21304005  ...             NaN                       Ok\n",
              "1104   30Aug - 12Sep     21304019  ...             NaN                  Rekrut \n",
              "1105   30Aug - 12Sep     21304022  ...             NaN                   Rekrut\n",
              "1106   30Aug - 12Sep     21304163  ...             NaN                      Oke\n",
              "1107   30Aug - 12Sep     21304189  ...             NaN                       Ok\n",
              "\n",
              "[1108 rows x 415 columns]"
            ]
          },
          "metadata": {},
          "execution_count": 738
        }
      ]
    },
    {
      "cell_type": "markdown",
      "metadata": {
        "id": "a541SGSnhQ2U"
      },
      "source": [
        "#Retail Audit"
      ]
    },
    {
      "cell_type": "markdown",
      "metadata": {
        "id": "rLfvIMO8XWeD"
      },
      "source": [
        "## Initial Audit (week 1)"
      ]
    },
    {
      "cell_type": "code",
      "metadata": {
        "id": "Dy_JKxNmLWIN"
      },
      "source": [
        "# ambil data dari GDrive\n",
        "IA = pd.read_excel('gdrive/My Drive/JACOB/Data Clean JTI-Jacob 2021 Week 1-IA.xlsx','Data Clean LHHT')\n",
        "# ganti data yang memiliki nilai N/A dengan 0\n",
        "IA = IA.fillna(0)"
      ],
      "execution_count": 739,
      "outputs": []
    },
    {
      "cell_type": "code",
      "metadata": {
        "id": "nrA5F8ks2wB1"
      },
      "source": [
        "# hitung total stol\n",
        "IA['Stock'] = IA['Shop/Front Stock']+IA['Other Stock']\n",
        "#buat kolom unique name utk mapping (concatenate) dengan menggabungkan store code dengan product description\n",
        "IA.insert(0, 'Concatenate', IA['SMS Id'].astype('str')+IA['Product Description'])"
      ],
      "execution_count": 740,
      "outputs": []
    },
    {
      "cell_type": "code",
      "metadata": {
        "id": "_qZl9czspolj"
      },
      "source": [
        "# menghapus kolom2 yang tidak dibutuhkan\n",
        "IA = IA.drop(['Country Id', 'Country Name', 'Auditor Id', 'Resource Name','Instruction Id', \n",
        "            'Category Id', 'Category Name', 'Module Name','Entity Id','Original Fact Value',\n",
        "            'Cluster Id','alternate audit methodology','Shop/Front Stock','Other Stock',\n",
        "            'Audit Status','Sales'], axis=1)\n",
        "# mengganti nama kolom agar sesuai dengan yg diinginkan\n",
        "IA.columns = IA.columns.str.replace('Number Of Observation by Type of Observation','RBP')"
      ],
      "execution_count": 741,
      "outputs": []
    },
    {
      "cell_type": "code",
      "metadata": {
        "colab": {
          "base_uri": "https://localhost:8080/",
          "height": 0
        },
        "id": "dcm8pVVBYlrf",
        "outputId": "3dab5f04-98a0-4d67-9c63-c518c047d432"
      },
      "source": [
        "# melihat sekilas data Initial Audit yang sudah dirapihkan\n",
        "IA.head()"
      ],
      "execution_count": 742,
      "outputs": [
        {
          "output_type": "execute_result",
          "data": {
            "text/html": [
              "<div>\n",
              "<style scoped>\n",
              "    .dataframe tbody tr th:only-of-type {\n",
              "        vertical-align: middle;\n",
              "    }\n",
              "\n",
              "    .dataframe tbody tr th {\n",
              "        vertical-align: top;\n",
              "    }\n",
              "\n",
              "    .dataframe thead th {\n",
              "        text-align: right;\n",
              "    }\n",
              "</style>\n",
              "<table border=\"1\" class=\"dataframe\">\n",
              "  <thead>\n",
              "    <tr style=\"text-align: right;\">\n",
              "      <th></th>\n",
              "      <th>Concatenate</th>\n",
              "      <th>SMS Id</th>\n",
              "      <th>Bar Code</th>\n",
              "      <th>Product Description</th>\n",
              "      <th>Visit Date</th>\n",
              "      <th>RBP</th>\n",
              "      <th>RSP/Price</th>\n",
              "      <th>Stock</th>\n",
              "    </tr>\n",
              "  </thead>\n",
              "  <tbody>\n",
              "    <tr>\n",
              "      <th>0</th>\n",
              "      <td>1609899Djarum Istimewa Soft Coklat Plain 12 St...</td>\n",
              "      <td>1609899</td>\n",
              "      <td>8991906101651</td>\n",
              "      <td>Djarum Istimewa Soft Coklat Plain 12 Stc (Sktb)</td>\n",
              "      <td>2021-07-26</td>\n",
              "      <td>11500</td>\n",
              "      <td>13000</td>\n",
              "      <td>10.0</td>\n",
              "    </tr>\n",
              "    <tr>\n",
              "      <th>1</th>\n",
              "      <td>1609986Gudang Garam Red Soft Kspl 12 Stc (Sktb)</td>\n",
              "      <td>1609986</td>\n",
              "      <td>8998989501125</td>\n",
              "      <td>Gudang Garam Red Soft Kspl 12 Stc (Sktb)</td>\n",
              "      <td>2021-07-26</td>\n",
              "      <td>12500</td>\n",
              "      <td>13000</td>\n",
              "      <td>20.0</td>\n",
              "    </tr>\n",
              "    <tr>\n",
              "      <th>2</th>\n",
              "      <td>1610014Dji Sam Soe Soft Plain 12 Stc (Sktb)</td>\n",
              "      <td>1610014</td>\n",
              "      <td>8999909028234</td>\n",
              "      <td>Dji Sam Soe Soft Plain 12 Stc (Sktb)</td>\n",
              "      <td>2021-07-26</td>\n",
              "      <td>16500</td>\n",
              "      <td>18000</td>\n",
              "      <td>4.0</td>\n",
              "    </tr>\n",
              "    <tr>\n",
              "      <th>3</th>\n",
              "      <td>1610908Dji Sam Soe Soft Plain 12 Stc (Sktb)</td>\n",
              "      <td>1610908</td>\n",
              "      <td>8999909028234</td>\n",
              "      <td>Dji Sam Soe Soft Plain 12 Stc (Sktb)</td>\n",
              "      <td>2021-07-26</td>\n",
              "      <td>16500</td>\n",
              "      <td>18000</td>\n",
              "      <td>5.0</td>\n",
              "    </tr>\n",
              "    <tr>\n",
              "      <th>4</th>\n",
              "      <td>1610908Panamas 1 Soft Plain 12 Stc (Sktb)</td>\n",
              "      <td>1610908</td>\n",
              "      <td>8999909039124</td>\n",
              "      <td>Panamas 1 Soft Plain 12 Stc (Sktb)</td>\n",
              "      <td>2021-07-26</td>\n",
              "      <td>12500</td>\n",
              "      <td>14000</td>\n",
              "      <td>10.0</td>\n",
              "    </tr>\n",
              "  </tbody>\n",
              "</table>\n",
              "</div>"
            ],
            "text/plain": [
              "                                         Concatenate   SMS Id  ...  RSP/Price Stock\n",
              "0  1609899Djarum Istimewa Soft Coklat Plain 12 St...  1609899  ...      13000  10.0\n",
              "1    1609986Gudang Garam Red Soft Kspl 12 Stc (Sktb)  1609986  ...      13000  20.0\n",
              "2        1610014Dji Sam Soe Soft Plain 12 Stc (Sktb)  1610014  ...      18000   4.0\n",
              "3        1610908Dji Sam Soe Soft Plain 12 Stc (Sktb)  1610908  ...      18000   5.0\n",
              "4          1610908Panamas 1 Soft Plain 12 Stc (Sktb)  1610908  ...      14000  10.0\n",
              "\n",
              "[5 rows x 8 columns]"
            ]
          },
          "metadata": {},
          "execution_count": 742
        }
      ]
    },
    {
      "cell_type": "code",
      "metadata": {
        "id": "QWPHZcrPhpb7"
      },
      "source": [
        "visit_IA = pd.pivot_table(IA,\n",
        "               index=['SMS Id','Visit Date'],\n",
        "               values='Bar Code',\n",
        "               aggfunc='count'\n",
        "               ).reset_index()\n",
        "visit_IA.drop('Bar Code', axis=1, inplace=True)        \n",
        "visit_IA = visit_IA.rename(columns={'Visit Date':'visit_IA'})"
      ],
      "execution_count": 743,
      "outputs": []
    },
    {
      "cell_type": "code",
      "metadata": {
        "id": "k069RySQmzvd"
      },
      "source": [
        "# membuat format untuk di merge dengan table lainnya\n",
        "m_IA = IA.copy()\n",
        "# mengganti nama kolom agar sesuai dengan yg diinginkan\n",
        "m_IA = m_IA.rename(columns = {'Visit Date':'IA', \n",
        "                            'RBP':'RBP_IA',\n",
        "                            'RSP/Price':'RSP_IA',\n",
        "                            'Stock':'Stock_IA'})"
      ],
      "execution_count": 744,
      "outputs": []
    },
    {
      "cell_type": "markdown",
      "metadata": {
        "id": "hE1gqrh79FRZ"
      },
      "source": [
        "## Retail Audit 1 (week 2)"
      ]
    },
    {
      "cell_type": "code",
      "metadata": {
        "id": "dRZ5SBXncRlE"
      },
      "source": [
        "RA1 = pd.read_excel('gdrive/My Drive/JACOB/Data Clean Jacob 2021 Week 2 (RA1).xlsx','Data Clean')\n",
        "RA1 = RA1.fillna(0)"
      ],
      "execution_count": 745,
      "outputs": []
    },
    {
      "cell_type": "code",
      "metadata": {
        "id": "KDm9xrpyXPrf"
      },
      "source": [
        "RA1['Visit Date'] = RA1['Visit Date'].str.replace('Agu','Aug')\n",
        "RA1['Visit Date'] = pd.to_datetime(RA1['Visit Date'])"
      ],
      "execution_count": 746,
      "outputs": []
    },
    {
      "cell_type": "code",
      "metadata": {
        "id": "S30wCW6-5Iup"
      },
      "source": [
        "RA1['Stock'] = RA1['Shop/Front Stock']+RA1['Other Stock']\n",
        "RA1['Purchase'] = RA1['Direct Purchase(Pur1)']+RA1['Missing invoice(Pur3)']+RA1['Missing Stock']-RA1['Double Count']-RA1['Goods Returned']\n",
        "RA1.insert(0, 'Concatenate', RA1['SMS Id'].astype('str')+RA1['Product Description'])"
      ],
      "execution_count": 747,
      "outputs": []
    },
    {
      "cell_type": "code",
      "metadata": {
        "id": "4vg2RyXmqbmL"
      },
      "source": [
        "RA1 = RA1.drop(['Country Id', 'Country Name', 'Auditor Id', 'Resource Name','Instruction Id', \n",
        "            'Category Id', 'Category Name', 'Module Name','Entity Id','Original Fact Value',\n",
        "            'Cluster Id','alternate audit methodology','Shop/Front Stock','Other Stock',\n",
        "            'Direct Purchase(Pur1)','Double Count', 'Goods Returned', 'Missing invoice(Pur3)',\n",
        "            'Missing Stock','Audit Status'], axis=1)\n",
        "RA1.columns = RA1.columns.str.replace('Number Of Observation by Type of Observation','RBP')"
      ],
      "execution_count": 748,
      "outputs": []
    },
    {
      "cell_type": "code",
      "metadata": {
        "id": "EobcBeDEWb9t",
        "colab": {
          "base_uri": "https://localhost:8080/",
          "height": 53
        },
        "outputId": "015b2b31-a5c9-4b91-edba-bee361802e2b"
      },
      "source": [
        "'''new_IA = IA[['SMS Id','Visit Date']].drop_duplicates()\n",
        "new_IA.columns = new_IA.columns.str.replace('Visit Date', 'Prev_Visit Date')\n",
        "new2_IA = IA[['Concatenate','Stock']]\n",
        "new2_IA.columns = new2_IA.columns.str.replace('Stock', 'Prev_Stock')'''"
      ],
      "execution_count": 749,
      "outputs": [
        {
          "output_type": "execute_result",
          "data": {
            "application/vnd.google.colaboratory.intrinsic+json": {
              "type": "string"
            },
            "text/plain": [
              "\"new_IA = IA[['SMS Id','Visit Date']].drop_duplicates()\\nnew_IA.columns = new_IA.columns.str.replace('Visit Date', 'Prev_Visit Date')\\nnew2_IA = IA[['Concatenate','Stock']]\\nnew2_IA.columns = new2_IA.columns.str.replace('Stock', 'Prev_Stock')\""
            ]
          },
          "metadata": {},
          "execution_count": 749
        }
      ]
    },
    {
      "cell_type": "code",
      "metadata": {
        "id": "w1xMeFI9wheS",
        "colab": {
          "base_uri": "https://localhost:8080/",
          "height": 36
        },
        "outputId": "158c04e9-6215-47f1-b900-f4d4473553af"
      },
      "source": [
        "'''RA1 = RA1.merge(new_IA, on='SMS Id')\n",
        "RA1 = RA1.merge(new2_IA, on='Concatenate')'''"
      ],
      "execution_count": 750,
      "outputs": [
        {
          "output_type": "execute_result",
          "data": {
            "application/vnd.google.colaboratory.intrinsic+json": {
              "type": "string"
            },
            "text/plain": [
              "\"RA1 = RA1.merge(new_IA, on='SMS Id')\\nRA1 = RA1.merge(new2_IA, on='Concatenate')\""
            ]
          },
          "metadata": {},
          "execution_count": 750
        }
      ]
    },
    {
      "cell_type": "code",
      "metadata": {
        "id": "ebbUU7pA9cPl"
      },
      "source": [
        "#RA1['Recheck_Sales'] = RA1['Prev_Stock']+RA1['Purchase']-RA1['Stock']"
      ],
      "execution_count": 751,
      "outputs": []
    },
    {
      "cell_type": "code",
      "metadata": {
        "id": "yPFEtOI2-a7q"
      },
      "source": [
        "#RA1[RA1['Recheck_Sales']-RA1['Sales']!=0]"
      ],
      "execution_count": 752,
      "outputs": []
    },
    {
      "cell_type": "code",
      "metadata": {
        "id": "dlpcQBiejYrU"
      },
      "source": [
        "visit_RA1 = pd.pivot_table(RA1,\n",
        "               index=['SMS Id','Visit Date'],\n",
        "               values='Bar Code',\n",
        "               aggfunc='count'\n",
        "               ).reset_index()\n",
        "visit_RA1.drop('Bar Code', axis=1, inplace=True)        \n",
        "visit_RA1 = visit_RA1.rename(columns={'Visit Date':'visit_RA1'})"
      ],
      "execution_count": 753,
      "outputs": []
    },
    {
      "cell_type": "code",
      "metadata": {
        "colab": {
          "base_uri": "https://localhost:8080/"
        },
        "id": "Q9SsXf6hobtW",
        "outputId": "8f16be31-f7d9-42bb-9b9e-1a3ad6d38417"
      },
      "source": [
        "# membuat format untuk di merge dengan table lainnya\n",
        "m_RA1 = RA1.copy()\n",
        "# mengganti nama kolom agar sesuai dengan yg diinginkan\n",
        "m_RA1.columns = m_RA1.columns.str.replace('Visit Date', 'RA1').str.replace('RBP', 'RBP_RA1').str.replace('RSP/Price','RSP_RA1').str.replace('Stock','Stock_RA1').str.replace('Purchase','Purchase_RA1')\n",
        "m_RA1.columns"
      ],
      "execution_count": 754,
      "outputs": [
        {
          "output_type": "execute_result",
          "data": {
            "text/plain": [
              "Index(['Concatenate', 'SMS Id', 'Bar Code', 'Product Description', 'RA1',\n",
              "       'RBP_RA1', 'RSP_RA1', 'Sales', 'Stock_RA1', 'Purchase_RA1'],\n",
              "      dtype='object')"
            ]
          },
          "metadata": {},
          "execution_count": 754
        }
      ]
    },
    {
      "cell_type": "markdown",
      "metadata": {
        "id": "M2LWKGR-9AZD"
      },
      "source": [
        "## Retail Audit 2 (week 3)"
      ]
    },
    {
      "cell_type": "code",
      "metadata": {
        "id": "yg2CmnZLcX3k"
      },
      "source": [
        "RA2 = pd.read_excel('gdrive/My Drive/JACOB/Data Clean Jacob 2021 Week 3 (RA2) - v2.xlsx','Data Clean')\n",
        "RA2 = RA2.fillna(0)"
      ],
      "execution_count": 755,
      "outputs": []
    },
    {
      "cell_type": "code",
      "metadata": {
        "id": "JVWjOPsZYD9n"
      },
      "source": [
        "RA2['Visit Date'] = RA2['Visit Date'].str.replace('Agu','Aug')\n",
        "RA2['Visit Date'] = pd.to_datetime(RA2['Visit Date'])"
      ],
      "execution_count": 756,
      "outputs": []
    },
    {
      "cell_type": "code",
      "metadata": {
        "id": "dDkkjqcjQrR4",
        "colab": {
          "base_uri": "https://localhost:8080/",
          "height": 556
        },
        "outputId": "200b4c97-2442-4b5a-b362-2212e2bdd6f5"
      },
      "source": [
        "RA2.head()"
      ],
      "execution_count": 757,
      "outputs": [
        {
          "output_type": "execute_result",
          "data": {
            "text/html": [
              "<div>\n",
              "<style scoped>\n",
              "    .dataframe tbody tr th:only-of-type {\n",
              "        vertical-align: middle;\n",
              "    }\n",
              "\n",
              "    .dataframe tbody tr th {\n",
              "        vertical-align: top;\n",
              "    }\n",
              "\n",
              "    .dataframe thead th {\n",
              "        text-align: right;\n",
              "    }\n",
              "</style>\n",
              "<table border=\"1\" class=\"dataframe\">\n",
              "  <thead>\n",
              "    <tr style=\"text-align: right;\">\n",
              "      <th></th>\n",
              "      <th>Country Id</th>\n",
              "      <th>Country Name</th>\n",
              "      <th>Auditor Id</th>\n",
              "      <th>Resource Name</th>\n",
              "      <th>SMS Id</th>\n",
              "      <th>Instruction Id</th>\n",
              "      <th>Category Id</th>\n",
              "      <th>Category Name</th>\n",
              "      <th>Module Name</th>\n",
              "      <th>Entity Id</th>\n",
              "      <th>Bar Code</th>\n",
              "      <th>Product Description</th>\n",
              "      <th>Visit Date</th>\n",
              "      <th>Audit Status</th>\n",
              "      <th>Original Fact Value</th>\n",
              "      <th>Cluster Id</th>\n",
              "      <th>alternate audit methodology</th>\n",
              "      <th>Number Of Observation by Type of Observation</th>\n",
              "      <th>RSP/Price</th>\n",
              "      <th>PREIVIOUS STOCK</th>\n",
              "      <th>Shop/Front Stock</th>\n",
              "      <th>Other Stock</th>\n",
              "      <th>Direct Purchase(Pur1)</th>\n",
              "      <th>Double Count</th>\n",
              "      <th>Goods Returned</th>\n",
              "      <th>Missing invoice(Pur3)</th>\n",
              "      <th>Missing Stock</th>\n",
              "      <th>Sales</th>\n",
              "      <th>Sales_W2</th>\n",
              "      <th>Item Comment</th>\n",
              "    </tr>\n",
              "  </thead>\n",
              "  <tbody>\n",
              "    <tr>\n",
              "      <th>0</th>\n",
              "      <td>360</td>\n",
              "      <td>INDONESIA</td>\n",
              "      <td>316595</td>\n",
              "      <td>Supri Yanto</td>\n",
              "      <td>1610063</td>\n",
              "      <td>122780577</td>\n",
              "      <td>8</td>\n",
              "      <td>Cigarette</td>\n",
              "      <td>Cigarette</td>\n",
              "      <td>80228</td>\n",
              "      <td>8999909028234</td>\n",
              "      <td>Dji Sam Soe Soft Plain 12 Stc (Sktb)</td>\n",
              "      <td>2021-08-09</td>\n",
              "      <td>AUDIT COMPLETE</td>\n",
              "      <td>(blank)</td>\n",
              "      <td>742047</td>\n",
              "      <td>0.0</td>\n",
              "      <td>15800.0</td>\n",
              "      <td>18000.0</td>\n",
              "      <td>20.0</td>\n",
              "      <td>20.0</td>\n",
              "      <td>0.0</td>\n",
              "      <td>0.0</td>\n",
              "      <td>0.0</td>\n",
              "      <td>0.0</td>\n",
              "      <td>10.0</td>\n",
              "      <td>0.0</td>\n",
              "      <td>10</td>\n",
              "      <td>10.0</td>\n",
              "      <td>0</td>\n",
              "    </tr>\n",
              "    <tr>\n",
              "      <th>1</th>\n",
              "      <td>360</td>\n",
              "      <td>INDONESIA</td>\n",
              "      <td>316595</td>\n",
              "      <td>Supri Yanto</td>\n",
              "      <td>1610063</td>\n",
              "      <td>122780577</td>\n",
              "      <td>8</td>\n",
              "      <td>Cigarette</td>\n",
              "      <td>Cigarette</td>\n",
              "      <td>80255</td>\n",
              "      <td>8999909039124</td>\n",
              "      <td>Panamas 1 Soft Plain 12 Stc (Sktb)</td>\n",
              "      <td>2021-08-09</td>\n",
              "      <td>AUDIT COMPLETE</td>\n",
              "      <td>(blank)</td>\n",
              "      <td>742047</td>\n",
              "      <td>0.0</td>\n",
              "      <td>11900.0</td>\n",
              "      <td>13000.0</td>\n",
              "      <td>10.0</td>\n",
              "      <td>10.0</td>\n",
              "      <td>0.0</td>\n",
              "      <td>0.0</td>\n",
              "      <td>0.0</td>\n",
              "      <td>0.0</td>\n",
              "      <td>10.0</td>\n",
              "      <td>0.0</td>\n",
              "      <td>10</td>\n",
              "      <td>20.0</td>\n",
              "      <td>COVID - Sales turun karena kekurangan pasokan</td>\n",
              "    </tr>\n",
              "    <tr>\n",
              "      <th>2</th>\n",
              "      <td>360</td>\n",
              "      <td>INDONESIA</td>\n",
              "      <td>316595</td>\n",
              "      <td>Supri Yanto</td>\n",
              "      <td>1610063</td>\n",
              "      <td>122780577</td>\n",
              "      <td>8</td>\n",
              "      <td>Cigarette</td>\n",
              "      <td>Cigarette</td>\n",
              "      <td>80271</td>\n",
              "      <td>8991906101651</td>\n",
              "      <td>Djarum Istimewa Soft Coklat Plain 12 Stc (Sktb)</td>\n",
              "      <td>2021-08-09</td>\n",
              "      <td>AUDIT COMPLETE</td>\n",
              "      <td>(blank)</td>\n",
              "      <td>742047</td>\n",
              "      <td>0.0</td>\n",
              "      <td>12000.0</td>\n",
              "      <td>14000.0</td>\n",
              "      <td>20.0</td>\n",
              "      <td>20.0</td>\n",
              "      <td>0.0</td>\n",
              "      <td>0.0</td>\n",
              "      <td>0.0</td>\n",
              "      <td>0.0</td>\n",
              "      <td>10.0</td>\n",
              "      <td>0.0</td>\n",
              "      <td>10</td>\n",
              "      <td>10.0</td>\n",
              "      <td>0</td>\n",
              "    </tr>\n",
              "    <tr>\n",
              "      <th>3</th>\n",
              "      <td>360</td>\n",
              "      <td>INDONESIA</td>\n",
              "      <td>316595</td>\n",
              "      <td>Supri Yanto</td>\n",
              "      <td>1610063</td>\n",
              "      <td>122780577</td>\n",
              "      <td>8</td>\n",
              "      <td>Cigarette</td>\n",
              "      <td>Cigarette</td>\n",
              "      <td>80322</td>\n",
              "      <td>8998989501125</td>\n",
              "      <td>Gudang Garam Red Soft Kspl 12 Stc (Sktb)</td>\n",
              "      <td>2021-08-09</td>\n",
              "      <td>AUDIT COMPLETE</td>\n",
              "      <td>(blank)</td>\n",
              "      <td>742047</td>\n",
              "      <td>0.0</td>\n",
              "      <td>12200.0</td>\n",
              "      <td>14000.0</td>\n",
              "      <td>20.0</td>\n",
              "      <td>20.0</td>\n",
              "      <td>0.0</td>\n",
              "      <td>0.0</td>\n",
              "      <td>0.0</td>\n",
              "      <td>0.0</td>\n",
              "      <td>10.0</td>\n",
              "      <td>0.0</td>\n",
              "      <td>10</td>\n",
              "      <td>10.0</td>\n",
              "      <td>0</td>\n",
              "    </tr>\n",
              "    <tr>\n",
              "      <th>4</th>\n",
              "      <td>360</td>\n",
              "      <td>INDONESIA</td>\n",
              "      <td>316595</td>\n",
              "      <td>Supri Yanto</td>\n",
              "      <td>1610063</td>\n",
              "      <td>122780577</td>\n",
              "      <td>8</td>\n",
              "      <td>Cigarette</td>\n",
              "      <td>Cigarette</td>\n",
              "      <td>86810</td>\n",
              "      <td>8997234650021</td>\n",
              "      <td>Dados Brown Soft Plain 12 Stc (Sktb)</td>\n",
              "      <td>2021-08-09</td>\n",
              "      <td>AUDIT COMPLETE</td>\n",
              "      <td>(blank)</td>\n",
              "      <td>742047</td>\n",
              "      <td>0.0</td>\n",
              "      <td>5500.0</td>\n",
              "      <td>6500.0</td>\n",
              "      <td>20.0</td>\n",
              "      <td>20.0</td>\n",
              "      <td>0.0</td>\n",
              "      <td>0.0</td>\n",
              "      <td>0.0</td>\n",
              "      <td>0.0</td>\n",
              "      <td>50.0</td>\n",
              "      <td>0.0</td>\n",
              "      <td>50</td>\n",
              "      <td>20.0</td>\n",
              "      <td>COVID - Sales naik, banyak permintaan produk/k...</td>\n",
              "    </tr>\n",
              "  </tbody>\n",
              "</table>\n",
              "</div>"
            ],
            "text/plain": [
              "   Country Id  ...                                       Item Comment\n",
              "0         360  ...                                                  0\n",
              "1         360  ...      COVID - Sales turun karena kekurangan pasokan\n",
              "2         360  ...                                                  0\n",
              "3         360  ...                                                  0\n",
              "4         360  ...  COVID - Sales naik, banyak permintaan produk/k...\n",
              "\n",
              "[5 rows x 30 columns]"
            ]
          },
          "metadata": {},
          "execution_count": 757
        }
      ]
    },
    {
      "cell_type": "code",
      "metadata": {
        "id": "sFJvlqxwMZ4N"
      },
      "source": [
        "RA2['Stock'] = RA2['Shop/Front Stock']+RA2['Other Stock']\n",
        "RA2['Purchase'] = RA2['Direct Purchase(Pur1)']+RA2['Missing invoice(Pur3)']+RA2['Missing Stock']-RA2['Double Count']-RA2['Goods Returned']\n",
        "RA2.insert(0, 'Concatenate', RA2['SMS Id'].astype('str')+RA2['Product Description'])"
      ],
      "execution_count": 758,
      "outputs": []
    },
    {
      "cell_type": "code",
      "metadata": {
        "id": "Cex9yWFJMZ4N"
      },
      "source": [
        "RA2 = RA2.drop(['Country Id', 'Country Name', 'Auditor Id', 'Resource Name','Instruction Id', \n",
        "            'Category Id', 'Category Name', 'Module Name','Entity Id','Original Fact Value',\n",
        "            'Cluster Id','alternate audit methodology','Shop/Front Stock','Other Stock',\n",
        "            'Direct Purchase(Pur1)','Double Count', 'Goods Returned', 'Missing invoice(Pur3)',\n",
        "            'Missing Stock','PREIVIOUS STOCK','Audit Status'], axis=1)\n",
        "RA2.columns = RA2.columns.str.replace('Number Of Observation by Type of Observation','RBP').str.replace('Sales_W2','Claimed_Sales_RA1(di_RA2)').str.replace('Item Comment','Comment_RA2')"
      ],
      "execution_count": 759,
      "outputs": []
    },
    {
      "cell_type": "code",
      "metadata": {
        "id": "PBs32OZaL7dQ"
      },
      "source": [
        "RA2 = RA2.rename(columns = {'Number Of Observation by Type of Observation':'RBP',\n",
        "                            'Sales':'Claimed_Sales_RA2(di_RA2)',\n",
        "                            'Sales_W2':'Claimed_Sales_RA1(di_RA2)',\n",
        "                            'Item Comment':'Comment_RA2'})"
      ],
      "execution_count": 760,
      "outputs": []
    },
    {
      "cell_type": "code",
      "metadata": {
        "id": "HJy0gYhXMZ4O",
        "colab": {
          "base_uri": "https://localhost:8080/",
          "height": 53
        },
        "outputId": "31af56c6-d353-4c0a-98ef-43755ae4dc0a"
      },
      "source": [
        "'''new_RA1 = RA1[['SMS Id','Visit Date']].drop_duplicates()\n",
        "new_RA1.columns = new_RA1.columns.str.replace('Visit Date', 'Prev_Visit Date')\n",
        "new2_RA1 = RA1[['Concatenate','Stock']]\n",
        "new2_RA1.columns = new2_RA1.columns.str.replace('Stock', 'Prev_Stock')'''"
      ],
      "execution_count": 761,
      "outputs": [
        {
          "output_type": "execute_result",
          "data": {
            "application/vnd.google.colaboratory.intrinsic+json": {
              "type": "string"
            },
            "text/plain": [
              "\"new_RA1 = RA1[['SMS Id','Visit Date']].drop_duplicates()\\nnew_RA1.columns = new_RA1.columns.str.replace('Visit Date', 'Prev_Visit Date')\\nnew2_RA1 = RA1[['Concatenate','Stock']]\\nnew2_RA1.columns = new2_RA1.columns.str.replace('Stock', 'Prev_Stock')\""
            ]
          },
          "metadata": {},
          "execution_count": 761
        }
      ]
    },
    {
      "cell_type": "code",
      "metadata": {
        "id": "TMsegRGYMZ4O",
        "colab": {
          "base_uri": "https://localhost:8080/",
          "height": 36
        },
        "outputId": "182e6a13-f915-49cf-ff4c-c765c97f9375"
      },
      "source": [
        "'''RA2 = RA2.merge(new_RA1, on='SMS Id')\n",
        "RA2 = RA2.merge(new2_RA1, on='Concatenate')'''"
      ],
      "execution_count": 762,
      "outputs": [
        {
          "output_type": "execute_result",
          "data": {
            "application/vnd.google.colaboratory.intrinsic+json": {
              "type": "string"
            },
            "text/plain": [
              "\"RA2 = RA2.merge(new_RA1, on='SMS Id')\\nRA2 = RA2.merge(new2_RA1, on='Concatenate')\""
            ]
          },
          "metadata": {},
          "execution_count": 762
        }
      ]
    },
    {
      "cell_type": "code",
      "metadata": {
        "id": "EfYko72BMZ4O"
      },
      "source": [
        "#RA2['Recheck_Sales'] = RA2['Prev_Stock']+RA2['Purchase']-RA2['Stock']"
      ],
      "execution_count": 763,
      "outputs": []
    },
    {
      "cell_type": "code",
      "metadata": {
        "id": "qQfpj_tmMZ4O"
      },
      "source": [
        "#RA2[RA2['Recheck_Sales']-RA2['Sales']!=0]"
      ],
      "execution_count": 764,
      "outputs": []
    },
    {
      "cell_type": "code",
      "metadata": {
        "id": "YNdpZdmDjknp"
      },
      "source": [
        "visit_RA2 = pd.pivot_table(RA2,\n",
        "               index=['SMS Id','Visit Date'],\n",
        "               values='Bar Code',\n",
        "               aggfunc='count'\n",
        "               ).reset_index()\n",
        "visit_RA2.drop('Bar Code', axis=1, inplace=True)        \n",
        "visit_RA2 = visit_RA2.rename(columns={'Visit Date':'visit_RA2'})"
      ],
      "execution_count": 765,
      "outputs": []
    },
    {
      "cell_type": "code",
      "metadata": {
        "id": "l_zVJWVeqCrN",
        "colab": {
          "base_uri": "https://localhost:8080/"
        },
        "outputId": "52cb2f16-9133-461a-9158-416ed3d04d2a"
      },
      "source": [
        "# membuat format untuk di merge dengan table lainnya\n",
        "m_RA2 = RA2.copy()\n",
        "# mengganti nama kolom agar sesuai dengan yg diinginkan\n",
        "m_RA2.columns = m_RA2.columns.str.replace('Visit Date', 'RA2').str.replace('RBP', 'RBP_RA2').str.replace('RSP/Price','RSP_RA2').str.replace('Stock','Stock_RA2').str.replace('Purchase','Purchase_RA2')\n",
        "m_RA2.shape"
      ],
      "execution_count": 766,
      "outputs": [
        {
          "output_type": "execute_result",
          "data": {
            "text/plain": [
              "(1749, 12)"
            ]
          },
          "metadata": {},
          "execution_count": 766
        }
      ]
    },
    {
      "cell_type": "markdown",
      "metadata": {
        "id": "OirS5nnBVOBw"
      },
      "source": [
        "## Retail Audit 3 (week 4)"
      ]
    },
    {
      "cell_type": "code",
      "metadata": {
        "id": "mBcmdtWncc_M"
      },
      "source": [
        "RA3 = pd.read_excel('gdrive/My Drive/JACOB/Data Clean Jacob 2021 Week 4 (RA3).xlsx','Data Clean')\n",
        "RA3 = RA3.fillna(0)"
      ],
      "execution_count": 767,
      "outputs": []
    },
    {
      "cell_type": "code",
      "metadata": {
        "id": "XB2-5WrmYPAO"
      },
      "source": [
        "RA3['Visit Date'] = RA3['Visit Date'].str.replace('Agu','Aug')\n",
        "RA3['Visit Date'] = pd.to_datetime(RA3['Visit Date'])"
      ],
      "execution_count": 768,
      "outputs": []
    },
    {
      "cell_type": "code",
      "metadata": {
        "id": "GI0QQqI0Vgri"
      },
      "source": [
        "RA3['Stock'] = RA3['Shop/Front Stock']+RA3['Other Stock']\n",
        "RA3['Purchase'] = RA3['Direct Purchase(Pur1)']+RA3['Missing invoice(Pur3)']+RA3['Missing Stock']-RA3['Double Count']-RA3['Goods Returned']\n",
        "RA3.insert(0, 'Concatenate', RA3['SMS Id'].astype('str')+RA3['Product Description'])"
      ],
      "execution_count": 769,
      "outputs": []
    },
    {
      "cell_type": "code",
      "metadata": {
        "colab": {
          "base_uri": "https://localhost:8080/",
          "height": 521
        },
        "id": "4G3fISWIVqzz",
        "outputId": "fcc81d1a-06d2-4ee7-c0fa-da5310115eb3"
      },
      "source": [
        "RA3.head()"
      ],
      "execution_count": 770,
      "outputs": [
        {
          "output_type": "execute_result",
          "data": {
            "text/html": [
              "<div>\n",
              "<style scoped>\n",
              "    .dataframe tbody tr th:only-of-type {\n",
              "        vertical-align: middle;\n",
              "    }\n",
              "\n",
              "    .dataframe tbody tr th {\n",
              "        vertical-align: top;\n",
              "    }\n",
              "\n",
              "    .dataframe thead th {\n",
              "        text-align: right;\n",
              "    }\n",
              "</style>\n",
              "<table border=\"1\" class=\"dataframe\">\n",
              "  <thead>\n",
              "    <tr style=\"text-align: right;\">\n",
              "      <th></th>\n",
              "      <th>Concatenate</th>\n",
              "      <th>Country Id</th>\n",
              "      <th>Country Name</th>\n",
              "      <th>Auditor Id</th>\n",
              "      <th>Resource Name</th>\n",
              "      <th>SMS Id</th>\n",
              "      <th>Instruction Id</th>\n",
              "      <th>Category Id</th>\n",
              "      <th>Category Name</th>\n",
              "      <th>Module Name</th>\n",
              "      <th>Entity Id</th>\n",
              "      <th>Bar Code</th>\n",
              "      <th>Product Description</th>\n",
              "      <th>Visit Date</th>\n",
              "      <th>Audit Status</th>\n",
              "      <th>Original Fact Value</th>\n",
              "      <th>Cluster Id</th>\n",
              "      <th>alternate audit methodology</th>\n",
              "      <th>Price To Retailer</th>\n",
              "      <th>RSP/Price</th>\n",
              "      <th>PREIVIOUS STOCK</th>\n",
              "      <th>Shop/Front Stock</th>\n",
              "      <th>Other Stock</th>\n",
              "      <th>Direct Purchase(Pur1)</th>\n",
              "      <th>Double Count</th>\n",
              "      <th>Goods Returned</th>\n",
              "      <th>Missing invoice(Pur3)</th>\n",
              "      <th>Missing Stock</th>\n",
              "      <th>Sales</th>\n",
              "      <th>Sales_W3</th>\n",
              "      <th>Sales_W2</th>\n",
              "      <th>Item Comment</th>\n",
              "      <th>Stock</th>\n",
              "      <th>Purchase</th>\n",
              "    </tr>\n",
              "  </thead>\n",
              "  <tbody>\n",
              "    <tr>\n",
              "      <th>0</th>\n",
              "      <td>1610063Dji Sam Soe Soft Plain 12 Stc (Sktb)</td>\n",
              "      <td>360</td>\n",
              "      <td>INDONESIA</td>\n",
              "      <td>316595</td>\n",
              "      <td>Supri Yanto</td>\n",
              "      <td>1610063</td>\n",
              "      <td>122797406</td>\n",
              "      <td>8</td>\n",
              "      <td>Cigarette</td>\n",
              "      <td>Cigarette</td>\n",
              "      <td>80228</td>\n",
              "      <td>8999909028234</td>\n",
              "      <td>Dji Sam Soe Soft Plain 12 Stc (Sktb)</td>\n",
              "      <td>2021-08-16</td>\n",
              "      <td>AUDIT COMPLETE</td>\n",
              "      <td>(blank)</td>\n",
              "      <td>742047</td>\n",
              "      <td>0.0</td>\n",
              "      <td>15800.0</td>\n",
              "      <td>18000.0</td>\n",
              "      <td>20.0</td>\n",
              "      <td>20.0</td>\n",
              "      <td>0.0</td>\n",
              "      <td>0.0</td>\n",
              "      <td>0.0</td>\n",
              "      <td>0.0</td>\n",
              "      <td>10.0</td>\n",
              "      <td>0.0</td>\n",
              "      <td>10</td>\n",
              "      <td>10.0</td>\n",
              "      <td>10.0</td>\n",
              "      <td>0</td>\n",
              "      <td>20.0</td>\n",
              "      <td>10.0</td>\n",
              "    </tr>\n",
              "    <tr>\n",
              "      <th>1</th>\n",
              "      <td>1610063Panamas 1 Soft Plain 12 Stc (Sktb)</td>\n",
              "      <td>360</td>\n",
              "      <td>INDONESIA</td>\n",
              "      <td>316595</td>\n",
              "      <td>Supri Yanto</td>\n",
              "      <td>1610063</td>\n",
              "      <td>122797406</td>\n",
              "      <td>8</td>\n",
              "      <td>Cigarette</td>\n",
              "      <td>Cigarette</td>\n",
              "      <td>80255</td>\n",
              "      <td>8999909039124</td>\n",
              "      <td>Panamas 1 Soft Plain 12 Stc (Sktb)</td>\n",
              "      <td>2021-08-16</td>\n",
              "      <td>AUDIT COMPLETE</td>\n",
              "      <td>(blank)</td>\n",
              "      <td>742047</td>\n",
              "      <td>0.0</td>\n",
              "      <td>11900.0</td>\n",
              "      <td>13000.0</td>\n",
              "      <td>10.0</td>\n",
              "      <td>10.0</td>\n",
              "      <td>0.0</td>\n",
              "      <td>0.0</td>\n",
              "      <td>0.0</td>\n",
              "      <td>0.0</td>\n",
              "      <td>20.0</td>\n",
              "      <td>0.0</td>\n",
              "      <td>20</td>\n",
              "      <td>10.0</td>\n",
              "      <td>20.0</td>\n",
              "      <td>COVID - Sales naik, banyak permintaan produk/k...</td>\n",
              "      <td>10.0</td>\n",
              "      <td>20.0</td>\n",
              "    </tr>\n",
              "    <tr>\n",
              "      <th>2</th>\n",
              "      <td>1610063Djarum Istimewa Soft Coklat Plain 12 St...</td>\n",
              "      <td>360</td>\n",
              "      <td>INDONESIA</td>\n",
              "      <td>316595</td>\n",
              "      <td>Supri Yanto</td>\n",
              "      <td>1610063</td>\n",
              "      <td>122797406</td>\n",
              "      <td>8</td>\n",
              "      <td>Cigarette</td>\n",
              "      <td>Cigarette</td>\n",
              "      <td>80271</td>\n",
              "      <td>8991906101651</td>\n",
              "      <td>Djarum Istimewa Soft Coklat Plain 12 Stc (Sktb)</td>\n",
              "      <td>2021-08-16</td>\n",
              "      <td>AUDIT COMPLETE</td>\n",
              "      <td>(blank)</td>\n",
              "      <td>742047</td>\n",
              "      <td>0.0</td>\n",
              "      <td>12000.0</td>\n",
              "      <td>14000.0</td>\n",
              "      <td>20.0</td>\n",
              "      <td>20.0</td>\n",
              "      <td>0.0</td>\n",
              "      <td>0.0</td>\n",
              "      <td>0.0</td>\n",
              "      <td>0.0</td>\n",
              "      <td>10.0</td>\n",
              "      <td>0.0</td>\n",
              "      <td>10</td>\n",
              "      <td>10.0</td>\n",
              "      <td>10.0</td>\n",
              "      <td>0</td>\n",
              "      <td>20.0</td>\n",
              "      <td>10.0</td>\n",
              "    </tr>\n",
              "    <tr>\n",
              "      <th>3</th>\n",
              "      <td>1610063Gudang Garam Red Soft Kspl 12 Stc (Sktb)</td>\n",
              "      <td>360</td>\n",
              "      <td>INDONESIA</td>\n",
              "      <td>316595</td>\n",
              "      <td>Supri Yanto</td>\n",
              "      <td>1610063</td>\n",
              "      <td>122797406</td>\n",
              "      <td>8</td>\n",
              "      <td>Cigarette</td>\n",
              "      <td>Cigarette</td>\n",
              "      <td>80322</td>\n",
              "      <td>8998989501125</td>\n",
              "      <td>Gudang Garam Red Soft Kspl 12 Stc (Sktb)</td>\n",
              "      <td>2021-08-16</td>\n",
              "      <td>AUDIT COMPLETE</td>\n",
              "      <td>(blank)</td>\n",
              "      <td>742047</td>\n",
              "      <td>0.0</td>\n",
              "      <td>0.0</td>\n",
              "      <td>0.0</td>\n",
              "      <td>20.0</td>\n",
              "      <td>0.0</td>\n",
              "      <td>0.0</td>\n",
              "      <td>0.0</td>\n",
              "      <td>0.0</td>\n",
              "      <td>0.0</td>\n",
              "      <td>0.0</td>\n",
              "      <td>0.0</td>\n",
              "      <td>20</td>\n",
              "      <td>10.0</td>\n",
              "      <td>10.0</td>\n",
              "      <td>COVID - Sales naik, banyak permintaan produk/k...</td>\n",
              "      <td>0.0</td>\n",
              "      <td>0.0</td>\n",
              "    </tr>\n",
              "    <tr>\n",
              "      <th>4</th>\n",
              "      <td>1610063Dados Brown Soft Plain 12 Stc (Sktb)</td>\n",
              "      <td>360</td>\n",
              "      <td>INDONESIA</td>\n",
              "      <td>316595</td>\n",
              "      <td>Supri Yanto</td>\n",
              "      <td>1610063</td>\n",
              "      <td>122797406</td>\n",
              "      <td>8</td>\n",
              "      <td>Cigarette</td>\n",
              "      <td>Cigarette</td>\n",
              "      <td>86810</td>\n",
              "      <td>8997234650021</td>\n",
              "      <td>Dados Brown Soft Plain 12 Stc (Sktb)</td>\n",
              "      <td>2021-08-16</td>\n",
              "      <td>AUDIT COMPLETE</td>\n",
              "      <td>(blank)</td>\n",
              "      <td>742047</td>\n",
              "      <td>0.0</td>\n",
              "      <td>5500.0</td>\n",
              "      <td>6500.0</td>\n",
              "      <td>20.0</td>\n",
              "      <td>20.0</td>\n",
              "      <td>0.0</td>\n",
              "      <td>0.0</td>\n",
              "      <td>0.0</td>\n",
              "      <td>0.0</td>\n",
              "      <td>50.0</td>\n",
              "      <td>0.0</td>\n",
              "      <td>50</td>\n",
              "      <td>50.0</td>\n",
              "      <td>20.0</td>\n",
              "      <td>0</td>\n",
              "      <td>20.0</td>\n",
              "      <td>50.0</td>\n",
              "    </tr>\n",
              "  </tbody>\n",
              "</table>\n",
              "</div>"
            ],
            "text/plain": [
              "                                         Concatenate  ...  Purchase\n",
              "0        1610063Dji Sam Soe Soft Plain 12 Stc (Sktb)  ...      10.0\n",
              "1          1610063Panamas 1 Soft Plain 12 Stc (Sktb)  ...      20.0\n",
              "2  1610063Djarum Istimewa Soft Coklat Plain 12 St...  ...      10.0\n",
              "3    1610063Gudang Garam Red Soft Kspl 12 Stc (Sktb)  ...       0.0\n",
              "4        1610063Dados Brown Soft Plain 12 Stc (Sktb)  ...      50.0\n",
              "\n",
              "[5 rows x 34 columns]"
            ]
          },
          "metadata": {},
          "execution_count": 770
        }
      ]
    },
    {
      "cell_type": "code",
      "metadata": {
        "id": "-DbKKMfPDTWh"
      },
      "source": [
        "RA3 = RA3.drop(['Country Id', 'Country Name', 'Auditor Id', 'Resource Name','Instruction Id', \n",
        "            'Category Id', 'Category Name', 'Module Name','Entity Id','Original Fact Value',\n",
        "            'Cluster Id','alternate audit methodology','Shop/Front Stock','Other Stock',\n",
        "            'Direct Purchase(Pur1)','Double Count', 'Goods Returned', 'Missing invoice(Pur3)',\n",
        "            'Missing Stock','PREIVIOUS STOCK','Audit Status'], axis=1)"
      ],
      "execution_count": 771,
      "outputs": []
    },
    {
      "cell_type": "code",
      "metadata": {
        "id": "N87p8tK5GNWJ"
      },
      "source": [
        "RA3 = RA3.rename(columns = {'Price To Retailer':'RBP', 'Sales':'Claimed_Sales_RA3(di_RA3)',\n",
        "                            'Sales_W2':'Claimed_Sales_RA1(di_RA3)',\n",
        "                            'Sales_W3':'Claimed_Sales_RA2(di_RA3)',\n",
        "                            'Item Comment':'Comment_RA3'})"
      ],
      "execution_count": 772,
      "outputs": []
    },
    {
      "cell_type": "code",
      "metadata": {
        "id": "wJE3URbmVgrj",
        "colab": {
          "base_uri": "https://localhost:8080/",
          "height": 53
        },
        "outputId": "21fdcf82-0117-40b0-d493-11f9b6a99c68"
      },
      "source": [
        "'''new_RA2 = RA2[['SMS Id','Visit Date']].drop_duplicates()\n",
        "new_RA2.columns = new_RA2.columns.str.replace('Visit Date', 'Prev_Visit Date')\n",
        "new2_RA2 = RA2[['Concatenate','Stock']]\n",
        "new2_RA2.columns = new2_RA2.columns.str.replace('Stock', 'Prev_Stock')'''"
      ],
      "execution_count": 773,
      "outputs": [
        {
          "output_type": "execute_result",
          "data": {
            "application/vnd.google.colaboratory.intrinsic+json": {
              "type": "string"
            },
            "text/plain": [
              "\"new_RA2 = RA2[['SMS Id','Visit Date']].drop_duplicates()\\nnew_RA2.columns = new_RA2.columns.str.replace('Visit Date', 'Prev_Visit Date')\\nnew2_RA2 = RA2[['Concatenate','Stock']]\\nnew2_RA2.columns = new2_RA2.columns.str.replace('Stock', 'Prev_Stock')\""
            ]
          },
          "metadata": {},
          "execution_count": 773
        }
      ]
    },
    {
      "cell_type": "code",
      "metadata": {
        "id": "P9PFhT0oVgrj",
        "colab": {
          "base_uri": "https://localhost:8080/",
          "height": 36
        },
        "outputId": "a137067e-461a-4a2d-fedb-afeec2a3fb80"
      },
      "source": [
        "'''RA3 = RA3.merge(new_RA2, on='SMS Id')\n",
        "RA3 = RA3.merge(new2_RA2, on='Concatenate')'''"
      ],
      "execution_count": 774,
      "outputs": [
        {
          "output_type": "execute_result",
          "data": {
            "application/vnd.google.colaboratory.intrinsic+json": {
              "type": "string"
            },
            "text/plain": [
              "\"RA3 = RA3.merge(new_RA2, on='SMS Id')\\nRA3 = RA3.merge(new2_RA2, on='Concatenate')\""
            ]
          },
          "metadata": {},
          "execution_count": 774
        }
      ]
    },
    {
      "cell_type": "code",
      "metadata": {
        "id": "PRPCkYXsVgrk"
      },
      "source": [
        "#RA3['Recheck_Sales'] = RA3['Prev_Stock']+RA3['Purchase']-RA3['Stock']"
      ],
      "execution_count": 775,
      "outputs": []
    },
    {
      "cell_type": "code",
      "metadata": {
        "id": "fVHLRhcpVgrk"
      },
      "source": [
        "#RA3[RA3['Recheck_Sales']-RA3['Sales']!=0]"
      ],
      "execution_count": 776,
      "outputs": []
    },
    {
      "cell_type": "code",
      "metadata": {
        "id": "i4bc-mx5js1v"
      },
      "source": [
        "visit_RA3 = pd.pivot_table(RA3,\n",
        "               index=['SMS Id','Visit Date'],\n",
        "               values='Bar Code',\n",
        "               aggfunc='count'\n",
        "               ).reset_index()\n",
        "visit_RA3.drop('Bar Code', axis=1, inplace=True)        \n",
        "visit_RA3 = visit_RA3.rename(columns={'Visit Date':'visit_RA3'})"
      ],
      "execution_count": 777,
      "outputs": []
    },
    {
      "cell_type": "code",
      "metadata": {
        "id": "uLmNVwBnqmCZ"
      },
      "source": [
        "# membuat format untuk di merge dengan table lainnya\n",
        "m_RA3 = RA3.copy()\n",
        "# mengganti nama kolom agar sesuai dengan yg diinginkan\n",
        "m_RA3.columns = m_RA3.columns.str.replace(\n",
        "    'Visit Date', 'RA3').str.replace(\n",
        "        'RBP', 'RBP_RA3').str.replace(\n",
        "            'RSP/Price','RSP_RA3').str.replace(\n",
        "                'Stock','Stock_RA3').str.replace(\n",
        "                    'Purchase','Purchase_RA3')"
      ],
      "execution_count": 778,
      "outputs": []
    },
    {
      "cell_type": "markdown",
      "metadata": {
        "id": "hfNEoHHNDgOm"
      },
      "source": [
        "## Retail Audit 4 (week 5-6)"
      ]
    },
    {
      "cell_type": "code",
      "metadata": {
        "id": "q1qOshoVDpP7"
      },
      "source": [
        "RA4 = pd.read_excel('gdrive/My Drive/JACOB/Data Clean Jacob 2021 Week 6 - CS Version.xlsx','Data Clean')\n",
        "RA4 = RA4.fillna(0)"
      ],
      "execution_count": 779,
      "outputs": []
    },
    {
      "cell_type": "code",
      "metadata": {
        "id": "8aHgApCKDpP7"
      },
      "source": [
        "RA4['Stock'] = RA4['Shop/Front Stock']+RA4['Other Stock']\n",
        "RA4['Purchase'] = RA4['Direct Purchase(Pur1)']+RA4['Missing invoice(Pur3)']+RA4['Missing Stock']-RA4['Double Count']-RA4['Goods Returned']\n",
        "RA4.insert(0, 'Concatenate', RA4['SMS Id'].astype('str')+RA4['Product Description'])"
      ],
      "execution_count": 780,
      "outputs": []
    },
    {
      "cell_type": "code",
      "metadata": {
        "colab": {
          "base_uri": "https://localhost:8080/",
          "height": 608
        },
        "id": "cXYf8BmrDpP8",
        "outputId": "98cd17e8-b2ef-4e08-b015-77921800cd44"
      },
      "source": [
        "RA4.head()"
      ],
      "execution_count": 781,
      "outputs": [
        {
          "output_type": "execute_result",
          "data": {
            "text/html": [
              "<div>\n",
              "<style scoped>\n",
              "    .dataframe tbody tr th:only-of-type {\n",
              "        vertical-align: middle;\n",
              "    }\n",
              "\n",
              "    .dataframe tbody tr th {\n",
              "        vertical-align: top;\n",
              "    }\n",
              "\n",
              "    .dataframe thead th {\n",
              "        text-align: right;\n",
              "    }\n",
              "</style>\n",
              "<table border=\"1\" class=\"dataframe\">\n",
              "  <thead>\n",
              "    <tr style=\"text-align: right;\">\n",
              "      <th></th>\n",
              "      <th>Concatenate</th>\n",
              "      <th>Country Id</th>\n",
              "      <th>Country Name</th>\n",
              "      <th>Auditor Id</th>\n",
              "      <th>Resource Name</th>\n",
              "      <th>SMS Id</th>\n",
              "      <th>Instruction Id</th>\n",
              "      <th>Category Id</th>\n",
              "      <th>Category Name</th>\n",
              "      <th>Module Name</th>\n",
              "      <th>Entity Id</th>\n",
              "      <th>Bar Code</th>\n",
              "      <th>Product Description</th>\n",
              "      <th>Visit Date</th>\n",
              "      <th>Audit Status</th>\n",
              "      <th>Original Fact Value</th>\n",
              "      <th>Cluster Id</th>\n",
              "      <th>alternate audit methodology</th>\n",
              "      <th>Price To Retailer</th>\n",
              "      <th>RSP/Price</th>\n",
              "      <th>PREIVIOUS STOCK</th>\n",
              "      <th>Shop/Front Stock</th>\n",
              "      <th>Other Stock</th>\n",
              "      <th>Direct Purchase(Pur1)</th>\n",
              "      <th>Double Count</th>\n",
              "      <th>Goods Returned</th>\n",
              "      <th>Missing invoice(Pur3)</th>\n",
              "      <th>Missing Stock</th>\n",
              "      <th>Sales</th>\n",
              "      <th>Sales_W4&amp;5</th>\n",
              "      <th>Sales_W3</th>\n",
              "      <th>Sales_W2</th>\n",
              "      <th>Item Comment</th>\n",
              "      <th>Stock</th>\n",
              "      <th>Purchase</th>\n",
              "    </tr>\n",
              "  </thead>\n",
              "  <tbody>\n",
              "    <tr>\n",
              "      <th>0</th>\n",
              "      <td>1609895Dji Sam Soe Soft Plain 12 Stc (Sktb)</td>\n",
              "      <td>360</td>\n",
              "      <td>INDONESIA</td>\n",
              "      <td>316595</td>\n",
              "      <td>Supri Yanto</td>\n",
              "      <td>1609895</td>\n",
              "      <td>5433835</td>\n",
              "      <td>198107565</td>\n",
              "      <td>CIGARETTE</td>\n",
              "      <td>CIGARETTE</td>\n",
              "      <td>73047810</td>\n",
              "      <td>8999909028234</td>\n",
              "      <td>Dji Sam Soe Soft Plain 12 Stc (Sktb)</td>\n",
              "      <td>2021-09-02</td>\n",
              "      <td>AUDIT COMPLETE</td>\n",
              "      <td>(blank)</td>\n",
              "      <td>742047</td>\n",
              "      <td>0.0</td>\n",
              "      <td>15800.0</td>\n",
              "      <td>18000.0</td>\n",
              "      <td>2.0</td>\n",
              "      <td>1.0</td>\n",
              "      <td>0.0</td>\n",
              "      <td>0.0</td>\n",
              "      <td>0.0</td>\n",
              "      <td>0.0</td>\n",
              "      <td>40.0</td>\n",
              "      <td>0.0</td>\n",
              "      <td>41</td>\n",
              "      <td>21.0</td>\n",
              "      <td>20.0</td>\n",
              "      <td>22.0</td>\n",
              "      <td>COVID - Sales naik, banyak permintaan produk/k...</td>\n",
              "      <td>1.0</td>\n",
              "      <td>40.0</td>\n",
              "    </tr>\n",
              "    <tr>\n",
              "      <th>1</th>\n",
              "      <td>1609895Apache Brown Soft Plain 12 Stc (Sktb)</td>\n",
              "      <td>360</td>\n",
              "      <td>INDONESIA</td>\n",
              "      <td>316595</td>\n",
              "      <td>Supri Yanto</td>\n",
              "      <td>1609895</td>\n",
              "      <td>5433835</td>\n",
              "      <td>198107565</td>\n",
              "      <td>CIGARETTE</td>\n",
              "      <td>CIGARETTE</td>\n",
              "      <td>73051466</td>\n",
              "      <td>8994729400178</td>\n",
              "      <td>Apache Brown Soft Plain 12 Stc (Sktb)</td>\n",
              "      <td>2021-09-02</td>\n",
              "      <td>AUDIT COMPLETE</td>\n",
              "      <td>(blank)</td>\n",
              "      <td>742047</td>\n",
              "      <td>0.0</td>\n",
              "      <td>9000.0</td>\n",
              "      <td>10000.0</td>\n",
              "      <td>0.0</td>\n",
              "      <td>1.0</td>\n",
              "      <td>0.0</td>\n",
              "      <td>0.0</td>\n",
              "      <td>0.0</td>\n",
              "      <td>0.0</td>\n",
              "      <td>10.0</td>\n",
              "      <td>0.0</td>\n",
              "      <td>9</td>\n",
              "      <td>3.0</td>\n",
              "      <td>10.0</td>\n",
              "      <td>22.0</td>\n",
              "      <td>COVID - Sales naik, banyak permintaan produk/k...</td>\n",
              "      <td>1.0</td>\n",
              "      <td>10.0</td>\n",
              "    </tr>\n",
              "    <tr>\n",
              "      <th>2</th>\n",
              "      <td>1609895Gudang Garam Red Soft Kspl 12 Stc (Sktb)</td>\n",
              "      <td>360</td>\n",
              "      <td>INDONESIA</td>\n",
              "      <td>316595</td>\n",
              "      <td>Supri Yanto</td>\n",
              "      <td>1609895</td>\n",
              "      <td>5433835</td>\n",
              "      <td>198107565</td>\n",
              "      <td>CIGARETTE</td>\n",
              "      <td>CIGARETTE</td>\n",
              "      <td>73104371</td>\n",
              "      <td>8998989501125</td>\n",
              "      <td>Gudang Garam Red Soft Kspl 12 Stc (Sktb)</td>\n",
              "      <td>2021-09-02</td>\n",
              "      <td>AUDIT COMPLETE</td>\n",
              "      <td>(blank)</td>\n",
              "      <td>742047</td>\n",
              "      <td>0.0</td>\n",
              "      <td>12200.0</td>\n",
              "      <td>13000.0</td>\n",
              "      <td>2.0</td>\n",
              "      <td>2.0</td>\n",
              "      <td>0.0</td>\n",
              "      <td>0.0</td>\n",
              "      <td>0.0</td>\n",
              "      <td>0.0</td>\n",
              "      <td>40.0</td>\n",
              "      <td>0.0</td>\n",
              "      <td>40</td>\n",
              "      <td>30.0</td>\n",
              "      <td>26.0</td>\n",
              "      <td>17.0</td>\n",
              "      <td>COVID - Sales naik, banyak permintaan produk/k...</td>\n",
              "      <td>2.0</td>\n",
              "      <td>40.0</td>\n",
              "    </tr>\n",
              "    <tr>\n",
              "      <th>3</th>\n",
              "      <td>1609895Sampoerna 'A' Hijau Edisi Khusus Box Pl...</td>\n",
              "      <td>360</td>\n",
              "      <td>INDONESIA</td>\n",
              "      <td>316595</td>\n",
              "      <td>Supri Yanto</td>\n",
              "      <td>1609895</td>\n",
              "      <td>5433835</td>\n",
              "      <td>198107565</td>\n",
              "      <td>CIGARETTE</td>\n",
              "      <td>CIGARETTE</td>\n",
              "      <td>73203844</td>\n",
              "      <td>8999909000988</td>\n",
              "      <td>Sampoerna 'A' Hijau Edisi Khusus Box Plain 10+...</td>\n",
              "      <td>2021-09-02</td>\n",
              "      <td>AUDIT COMPLETE</td>\n",
              "      <td>(blank)</td>\n",
              "      <td>742047</td>\n",
              "      <td>0.0</td>\n",
              "      <td>11600.0</td>\n",
              "      <td>13000.0</td>\n",
              "      <td>2.0</td>\n",
              "      <td>2.0</td>\n",
              "      <td>0.0</td>\n",
              "      <td>0.0</td>\n",
              "      <td>0.0</td>\n",
              "      <td>0.0</td>\n",
              "      <td>40.0</td>\n",
              "      <td>0.0</td>\n",
              "      <td>40</td>\n",
              "      <td>21.0</td>\n",
              "      <td>21.0</td>\n",
              "      <td>21.0</td>\n",
              "      <td>COVID - Sales naik, banyak permintaan produk/k...</td>\n",
              "      <td>2.0</td>\n",
              "      <td>40.0</td>\n",
              "    </tr>\n",
              "    <tr>\n",
              "      <th>4</th>\n",
              "      <td>1609895Djarum Istimewa Soft Coklat Plain 12 St...</td>\n",
              "      <td>360</td>\n",
              "      <td>INDONESIA</td>\n",
              "      <td>316595</td>\n",
              "      <td>Supri Yanto</td>\n",
              "      <td>1609895</td>\n",
              "      <td>5433835</td>\n",
              "      <td>198107565</td>\n",
              "      <td>CIGARETTE</td>\n",
              "      <td>CIGARETTE</td>\n",
              "      <td>73316560</td>\n",
              "      <td>8991906101651</td>\n",
              "      <td>Djarum Istimewa Soft Coklat Plain 12 Stc (Sktb)</td>\n",
              "      <td>2021-09-02</td>\n",
              "      <td>AUDIT COMPLETE</td>\n",
              "      <td>(blank)</td>\n",
              "      <td>742047</td>\n",
              "      <td>0.0</td>\n",
              "      <td>12100.0</td>\n",
              "      <td>13000.0</td>\n",
              "      <td>5.0</td>\n",
              "      <td>2.0</td>\n",
              "      <td>0.0</td>\n",
              "      <td>0.0</td>\n",
              "      <td>0.0</td>\n",
              "      <td>0.0</td>\n",
              "      <td>200.0</td>\n",
              "      <td>0.0</td>\n",
              "      <td>203</td>\n",
              "      <td>50.0</td>\n",
              "      <td>98.0</td>\n",
              "      <td>22.0</td>\n",
              "      <td>COVID - Sales naik, banyak permintaan produk/k...</td>\n",
              "      <td>2.0</td>\n",
              "      <td>200.0</td>\n",
              "    </tr>\n",
              "  </tbody>\n",
              "</table>\n",
              "</div>"
            ],
            "text/plain": [
              "                                         Concatenate  ...  Purchase\n",
              "0        1609895Dji Sam Soe Soft Plain 12 Stc (Sktb)  ...      40.0\n",
              "1       1609895Apache Brown Soft Plain 12 Stc (Sktb)  ...      10.0\n",
              "2    1609895Gudang Garam Red Soft Kspl 12 Stc (Sktb)  ...      40.0\n",
              "3  1609895Sampoerna 'A' Hijau Edisi Khusus Box Pl...  ...      40.0\n",
              "4  1609895Djarum Istimewa Soft Coklat Plain 12 St...  ...     200.0\n",
              "\n",
              "[5 rows x 35 columns]"
            ]
          },
          "metadata": {},
          "execution_count": 781
        }
      ]
    },
    {
      "cell_type": "code",
      "metadata": {
        "id": "vcYRAtphDpP8"
      },
      "source": [
        "RA4 = RA4.drop(['Country Id', 'Country Name', 'Auditor Id', 'Resource Name','Instruction Id', \n",
        "            'Category Id', 'Category Name', 'Module Name','Entity Id','Original Fact Value',\n",
        "            'Cluster Id','alternate audit methodology','Shop/Front Stock','Other Stock',\n",
        "            'Direct Purchase(Pur1)','Double Count', 'Goods Returned', 'Missing invoice(Pur3)',\n",
        "            'Missing Stock','PREIVIOUS STOCK','Audit Status'], axis=1)"
      ],
      "execution_count": 782,
      "outputs": []
    },
    {
      "cell_type": "code",
      "metadata": {
        "id": "vj3YJurHMUZ3"
      },
      "source": [
        "RA4 = RA4.rename(columns = {'Price To Retailer':'RBP', \n",
        "                            'Sales':'Claimed_Sales_RA4(di_RA4)',\n",
        "                            'Sales_W2':'Claimed_Sales_RA1(di_RA4)',\n",
        "                            'Sales_W3':'Claimed_Sales_RA2(di_RA4)',\n",
        "                            'Sales_W4&5':'Claimed_Sales_RA3(di_RA4)',\n",
        "                            'Item Comment':'Comment_RA4'})"
      ],
      "execution_count": 783,
      "outputs": []
    },
    {
      "cell_type": "code",
      "metadata": {
        "colab": {
          "base_uri": "https://localhost:8080/",
          "height": 53
        },
        "id": "mg6UMDvUDpP8",
        "outputId": "e0780340-9887-49f9-9a17-d518e2588169"
      },
      "source": [
        "'''new_RA3 = RA3[['SMS Id','Visit Date']].drop_duplicates()\n",
        "new_RA3.columns = new_RA3.columns.str.replace('Visit Date', 'Prev_Visit Date')\n",
        "new2_RA3 = RA3[['Concatenate','Stock']]\n",
        "new2_RA3.columns = new2_RA3.columns.str.replace('Stock', 'Prev_Stock')'''"
      ],
      "execution_count": 784,
      "outputs": [
        {
          "output_type": "execute_result",
          "data": {
            "application/vnd.google.colaboratory.intrinsic+json": {
              "type": "string"
            },
            "text/plain": [
              "\"new_RA3 = RA3[['SMS Id','Visit Date']].drop_duplicates()\\nnew_RA3.columns = new_RA3.columns.str.replace('Visit Date', 'Prev_Visit Date')\\nnew2_RA3 = RA3[['Concatenate','Stock']]\\nnew2_RA3.columns = new2_RA3.columns.str.replace('Stock', 'Prev_Stock')\""
            ]
          },
          "metadata": {},
          "execution_count": 784
        }
      ]
    },
    {
      "cell_type": "code",
      "metadata": {
        "colab": {
          "base_uri": "https://localhost:8080/",
          "height": 36
        },
        "id": "fSWAwpy5DpP9",
        "outputId": "9604bfde-376d-447e-bb9f-6ec2d3185871"
      },
      "source": [
        "'''RA4 = RA4.merge(new_RA3, on='SMS Id')\n",
        "RA4 = RA4.merge(new2_RA3, on='Concatenate')'''"
      ],
      "execution_count": 785,
      "outputs": [
        {
          "output_type": "execute_result",
          "data": {
            "application/vnd.google.colaboratory.intrinsic+json": {
              "type": "string"
            },
            "text/plain": [
              "\"RA4 = RA4.merge(new_RA3, on='SMS Id')\\nRA4 = RA4.merge(new2_RA3, on='Concatenate')\""
            ]
          },
          "metadata": {},
          "execution_count": 785
        }
      ]
    },
    {
      "cell_type": "code",
      "metadata": {
        "id": "qwFfvDx9DpP9"
      },
      "source": [
        "#RA4.head()"
      ],
      "execution_count": 786,
      "outputs": []
    },
    {
      "cell_type": "code",
      "metadata": {
        "id": "Tl3tj0YKDpP9"
      },
      "source": [
        "#RA4['Recheck_Sales'] = RA4['Prev_Stock']+RA4['Purchase']-RA4['Stock']"
      ],
      "execution_count": 787,
      "outputs": []
    },
    {
      "cell_type": "code",
      "metadata": {
        "id": "FrtsaNrjDpP-"
      },
      "source": [
        "#RA4[RA4['Recheck_Sales']-RA4['Sales']!=0]"
      ],
      "execution_count": 788,
      "outputs": []
    },
    {
      "cell_type": "code",
      "metadata": {
        "id": "mp_O_R4Cjzj4"
      },
      "source": [
        "visit_RA4 = pd.pivot_table(RA4,\n",
        "               index=['SMS Id','Visit Date'],\n",
        "               values='Bar Code',\n",
        "               aggfunc='count'\n",
        "               ).reset_index()\n",
        "visit_RA4.drop('Bar Code', axis=1, inplace=True)        \n",
        "visit_RA4 = visit_RA4.rename(columns={'Visit Date':'visit_RA4'})"
      ],
      "execution_count": 789,
      "outputs": []
    },
    {
      "cell_type": "code",
      "metadata": {
        "id": "O1yTGCAIDpP-"
      },
      "source": [
        "# membuat format untuk di merge dengan table lainnya\n",
        "m_RA4 = RA4.copy()\n",
        "# mengganti nama kolom agar sesuai dengan yg diinginkan\n",
        "m_RA4.columns = m_RA4.columns.str.replace(\n",
        "    'Visit Date', 'RA4').str.replace(\n",
        "        'RBP', 'RBP_RA4').str.replace(\n",
        "            'RSP/Price','RSP_RA4').str.replace(\n",
        "                'Stock','Stock_RA4').str.replace(\n",
        "                    'Purchase','Purchase_RA4')"
      ],
      "execution_count": 790,
      "outputs": []
    },
    {
      "cell_type": "markdown",
      "metadata": {
        "id": "p_lyAGqZLdzE"
      },
      "source": [
        "## Retail Audit 5 (week 7-8)"
      ]
    },
    {
      "cell_type": "code",
      "metadata": {
        "id": "MVQAJDnkLdzF"
      },
      "source": [
        "RA5 = pd.read_excel('gdrive/My Drive/JACOB/Data Clean Jacob 2021 Week 8 - CS Version.xlsx','Clean Data')\n",
        "RA5 = RA5.fillna(0)"
      ],
      "execution_count": 791,
      "outputs": []
    },
    {
      "cell_type": "code",
      "metadata": {
        "id": "5ngh2A_TLdzF"
      },
      "source": [
        "RA5['Stock'] = RA5['Shop/Front Stock']+RA5['Other Stock']\n",
        "RA5['Purchase'] = RA5['Direct Purchase(Pur1)']+RA5['Missing invoice(Pur3)']+RA5['Missing Stock']-RA5['Double Count']-RA5['Goods Returned']\n",
        "RA5.insert(0, 'Concatenate', RA5['SMS Id'].astype('str')+RA5['Product Description'])"
      ],
      "execution_count": 792,
      "outputs": []
    },
    {
      "cell_type": "code",
      "metadata": {
        "colab": {
          "base_uri": "https://localhost:8080/",
          "height": 626
        },
        "id": "ruS_0KvRLdzF",
        "outputId": "fbef6d89-32d7-4e3d-b2bc-c891e071fe18"
      },
      "source": [
        "RA5.head()"
      ],
      "execution_count": 793,
      "outputs": [
        {
          "output_type": "execute_result",
          "data": {
            "text/html": [
              "<div>\n",
              "<style scoped>\n",
              "    .dataframe tbody tr th:only-of-type {\n",
              "        vertical-align: middle;\n",
              "    }\n",
              "\n",
              "    .dataframe tbody tr th {\n",
              "        vertical-align: top;\n",
              "    }\n",
              "\n",
              "    .dataframe thead th {\n",
              "        text-align: right;\n",
              "    }\n",
              "</style>\n",
              "<table border=\"1\" class=\"dataframe\">\n",
              "  <thead>\n",
              "    <tr style=\"text-align: right;\">\n",
              "      <th></th>\n",
              "      <th>Concatenate</th>\n",
              "      <th>Country Id</th>\n",
              "      <th>Country Name</th>\n",
              "      <th>Auditor Id</th>\n",
              "      <th>Resource Name</th>\n",
              "      <th>SMS Id</th>\n",
              "      <th>Instruction Id</th>\n",
              "      <th>Category Id</th>\n",
              "      <th>Category Name</th>\n",
              "      <th>Module Name</th>\n",
              "      <th>Entity Id</th>\n",
              "      <th>Bar Code</th>\n",
              "      <th>Product Description</th>\n",
              "      <th>Visit Date</th>\n",
              "      <th>Audit Status</th>\n",
              "      <th>Original Fact Value</th>\n",
              "      <th>Cluster Id</th>\n",
              "      <th>alternate audit methodology</th>\n",
              "      <th>PTR</th>\n",
              "      <th>RSP/Price</th>\n",
              "      <th>PREIVIOUS STOCK</th>\n",
              "      <th>Shop/Front Stock</th>\n",
              "      <th>Other Stock</th>\n",
              "      <th>Direct Purchase(Pur1)</th>\n",
              "      <th>Double Count</th>\n",
              "      <th>Goods Returned</th>\n",
              "      <th>Missing invoice(Pur3)</th>\n",
              "      <th>Missing Stock</th>\n",
              "      <th>Sales</th>\n",
              "      <th>Sales Biweek Ago</th>\n",
              "      <th>Sales_Biweek Ago1</th>\n",
              "      <th>Sales_W3</th>\n",
              "      <th>Sales_W2</th>\n",
              "      <th>Item Comment</th>\n",
              "      <th>Stock</th>\n",
              "      <th>Purchase</th>\n",
              "    </tr>\n",
              "  </thead>\n",
              "  <tbody>\n",
              "    <tr>\n",
              "      <th>0</th>\n",
              "      <td>1609902DJI SAM SOE SOFT PLAIN 12 STC (SKTB)</td>\n",
              "      <td>360</td>\n",
              "      <td>INDONESIA</td>\n",
              "      <td>316595</td>\n",
              "      <td>Supri Yanto</td>\n",
              "      <td>1609902</td>\n",
              "      <td>5758462</td>\n",
              "      <td>198107565</td>\n",
              "      <td>CIGARETTE</td>\n",
              "      <td>CIGARETTE</td>\n",
              "      <td>73047810</td>\n",
              "      <td>8999909028234</td>\n",
              "      <td>DJI SAM SOE SOFT PLAIN 12 STC (SKTB)</td>\n",
              "      <td>2021-09-13</td>\n",
              "      <td>AUDIT COMPLETE</td>\n",
              "      <td>(blank)</td>\n",
              "      <td>742047</td>\n",
              "      <td>0.0</td>\n",
              "      <td>16500</td>\n",
              "      <td>18000</td>\n",
              "      <td>1</td>\n",
              "      <td>1.0</td>\n",
              "      <td>0.0</td>\n",
              "      <td>0.0</td>\n",
              "      <td>0.0</td>\n",
              "      <td>0.0</td>\n",
              "      <td>90.0</td>\n",
              "      <td>0.0</td>\n",
              "      <td>90</td>\n",
              "      <td>104</td>\n",
              "      <td>60</td>\n",
              "      <td>60</td>\n",
              "      <td>15</td>\n",
              "      <td>COVID - Sales turun karena kekurangan pasokan</td>\n",
              "      <td>1.0</td>\n",
              "      <td>90.0</td>\n",
              "    </tr>\n",
              "    <tr>\n",
              "      <th>1</th>\n",
              "      <td>1609902GUDANG GARAM RED SOFT KSPL 12 STC (SKTB)</td>\n",
              "      <td>360</td>\n",
              "      <td>INDONESIA</td>\n",
              "      <td>316595</td>\n",
              "      <td>Supri Yanto</td>\n",
              "      <td>1609902</td>\n",
              "      <td>5758462</td>\n",
              "      <td>198107565</td>\n",
              "      <td>CIGARETTE</td>\n",
              "      <td>CIGARETTE</td>\n",
              "      <td>73104371</td>\n",
              "      <td>8998989501125</td>\n",
              "      <td>GUDANG GARAM RED SOFT KSPL 12 STC (SKTB)</td>\n",
              "      <td>2021-09-13</td>\n",
              "      <td>AUDIT COMPLETE</td>\n",
              "      <td>(blank)</td>\n",
              "      <td>742047</td>\n",
              "      <td>0.0</td>\n",
              "      <td>12000</td>\n",
              "      <td>14000</td>\n",
              "      <td>1</td>\n",
              "      <td>10.0</td>\n",
              "      <td>0.0</td>\n",
              "      <td>0.0</td>\n",
              "      <td>0.0</td>\n",
              "      <td>0.0</td>\n",
              "      <td>40.0</td>\n",
              "      <td>0.0</td>\n",
              "      <td>31</td>\n",
              "      <td>45</td>\n",
              "      <td>20</td>\n",
              "      <td>10</td>\n",
              "      <td>24</td>\n",
              "      <td>COVID - Sales turun karena kekurangan pasokan</td>\n",
              "      <td>10.0</td>\n",
              "      <td>40.0</td>\n",
              "    </tr>\n",
              "    <tr>\n",
              "      <th>2</th>\n",
              "      <td>1609902SAMPOERNA 'A' HIJAU EDISI KHUSUS BOX PL...</td>\n",
              "      <td>360</td>\n",
              "      <td>INDONESIA</td>\n",
              "      <td>316595</td>\n",
              "      <td>Supri Yanto</td>\n",
              "      <td>1609902</td>\n",
              "      <td>5758462</td>\n",
              "      <td>198107565</td>\n",
              "      <td>CIGARETTE</td>\n",
              "      <td>CIGARETTE</td>\n",
              "      <td>73203844</td>\n",
              "      <td>8999909000988</td>\n",
              "      <td>SAMPOERNA 'A' HIJAU EDISI KHUSUS BOX PLAIN 10+...</td>\n",
              "      <td>2021-09-13</td>\n",
              "      <td>AUDIT COMPLETE</td>\n",
              "      <td>(blank)</td>\n",
              "      <td>742047</td>\n",
              "      <td>0.0</td>\n",
              "      <td>12000</td>\n",
              "      <td>14000</td>\n",
              "      <td>3</td>\n",
              "      <td>6.0</td>\n",
              "      <td>0.0</td>\n",
              "      <td>0.0</td>\n",
              "      <td>0.0</td>\n",
              "      <td>0.0</td>\n",
              "      <td>20.0</td>\n",
              "      <td>0.0</td>\n",
              "      <td>17</td>\n",
              "      <td>39</td>\n",
              "      <td>20</td>\n",
              "      <td>10</td>\n",
              "      <td>18</td>\n",
              "      <td>COVID - Sales turun karena kekurangan pasokan</td>\n",
              "      <td>6.0</td>\n",
              "      <td>20.0</td>\n",
              "    </tr>\n",
              "    <tr>\n",
              "      <th>3</th>\n",
              "      <td>1609902DJARUM ISTIMEWA SOFT COKLAT PLAIN 12 ST...</td>\n",
              "      <td>360</td>\n",
              "      <td>INDONESIA</td>\n",
              "      <td>316595</td>\n",
              "      <td>Supri Yanto</td>\n",
              "      <td>1609902</td>\n",
              "      <td>5758462</td>\n",
              "      <td>198107565</td>\n",
              "      <td>CIGARETTE</td>\n",
              "      <td>CIGARETTE</td>\n",
              "      <td>73316560</td>\n",
              "      <td>8991906101651</td>\n",
              "      <td>DJARUM ISTIMEWA SOFT COKLAT PLAIN 12 STC (SKTB)</td>\n",
              "      <td>2021-09-13</td>\n",
              "      <td>AUDIT COMPLETE</td>\n",
              "      <td>(blank)</td>\n",
              "      <td>742047</td>\n",
              "      <td>0.0</td>\n",
              "      <td>12000</td>\n",
              "      <td>14000</td>\n",
              "      <td>5</td>\n",
              "      <td>4.0</td>\n",
              "      <td>0.0</td>\n",
              "      <td>0.0</td>\n",
              "      <td>0.0</td>\n",
              "      <td>0.0</td>\n",
              "      <td>40.0</td>\n",
              "      <td>0.0</td>\n",
              "      <td>41</td>\n",
              "      <td>43</td>\n",
              "      <td>20</td>\n",
              "      <td>20</td>\n",
              "      <td>22</td>\n",
              "      <td>0</td>\n",
              "      <td>4.0</td>\n",
              "      <td>40.0</td>\n",
              "    </tr>\n",
              "    <tr>\n",
              "      <th>4</th>\n",
              "      <td>1609902PANAMAS 1 SOFT PLAIN 12 STC (SKTB)</td>\n",
              "      <td>360</td>\n",
              "      <td>INDONESIA</td>\n",
              "      <td>316595</td>\n",
              "      <td>Supri Yanto</td>\n",
              "      <td>1609902</td>\n",
              "      <td>5758462</td>\n",
              "      <td>198107565</td>\n",
              "      <td>CIGARETTE</td>\n",
              "      <td>CIGARETTE</td>\n",
              "      <td>73326036</td>\n",
              "      <td>8999909039124</td>\n",
              "      <td>PANAMAS 1 SOFT PLAIN 12 STC (SKTB)</td>\n",
              "      <td>2021-09-13</td>\n",
              "      <td>AUDIT COMPLETE</td>\n",
              "      <td>(blank)</td>\n",
              "      <td>742047</td>\n",
              "      <td>0.0</td>\n",
              "      <td>12000</td>\n",
              "      <td>14000</td>\n",
              "      <td>1</td>\n",
              "      <td>1.0</td>\n",
              "      <td>0.0</td>\n",
              "      <td>0.0</td>\n",
              "      <td>0.0</td>\n",
              "      <td>0.0</td>\n",
              "      <td>70.0</td>\n",
              "      <td>0.0</td>\n",
              "      <td>70</td>\n",
              "      <td>70</td>\n",
              "      <td>20</td>\n",
              "      <td>10</td>\n",
              "      <td>19</td>\n",
              "      <td>0</td>\n",
              "      <td>1.0</td>\n",
              "      <td>70.0</td>\n",
              "    </tr>\n",
              "  </tbody>\n",
              "</table>\n",
              "</div>"
            ],
            "text/plain": [
              "                                         Concatenate  ...  Purchase\n",
              "0        1609902DJI SAM SOE SOFT PLAIN 12 STC (SKTB)  ...      90.0\n",
              "1    1609902GUDANG GARAM RED SOFT KSPL 12 STC (SKTB)  ...      40.0\n",
              "2  1609902SAMPOERNA 'A' HIJAU EDISI KHUSUS BOX PL...  ...      20.0\n",
              "3  1609902DJARUM ISTIMEWA SOFT COKLAT PLAIN 12 ST...  ...      40.0\n",
              "4          1609902PANAMAS 1 SOFT PLAIN 12 STC (SKTB)  ...      70.0\n",
              "\n",
              "[5 rows x 36 columns]"
            ]
          },
          "metadata": {},
          "execution_count": 793
        }
      ]
    },
    {
      "cell_type": "code",
      "metadata": {
        "id": "5K2o6id7VIVi"
      },
      "source": [
        "RA5['Sales Biweek Ago'] = RA5['Sales Biweek Ago'].replace('.',0)\n",
        "RA5['Sales_Biweek Ago1'] = RA5['Sales_Biweek Ago1'].replace('.',0)"
      ],
      "execution_count": 794,
      "outputs": []
    },
    {
      "cell_type": "code",
      "metadata": {
        "id": "ZRT8S1HRLdzG"
      },
      "source": [
        "RA5 = RA5.drop(['Country Id', 'Country Name', 'Auditor Id', 'Resource Name','Instruction Id', \n",
        "            'Category Id', 'Category Name', 'Module Name','Entity Id','Original Fact Value',\n",
        "            'Cluster Id','alternate audit methodology','Shop/Front Stock','Other Stock',\n",
        "            'Direct Purchase(Pur1)','Double Count', 'Goods Returned', 'Missing invoice(Pur3)',\n",
        "            'Missing Stock','PREIVIOUS STOCK','Audit Status'], axis=1)"
      ],
      "execution_count": 795,
      "outputs": []
    },
    {
      "cell_type": "code",
      "metadata": {
        "id": "4Px0SghzLdzG"
      },
      "source": [
        "RA5 = RA5.rename(columns = {'Price To Retailer':'RBP', \n",
        "                            'Sales':'Claimed_Sales_RA5(di_RA5)',\n",
        "                            'Sales Biweek Ago':'Claimed_Sales_RA4(di_RA5)',\n",
        "                            'Sales_Biweek Ago1':'Claimed_Sales_RA3(di_RA5)',\n",
        "                            'Item Comment':'Comment_RA5'})"
      ],
      "execution_count": 796,
      "outputs": []
    },
    {
      "cell_type": "code",
      "metadata": {
        "colab": {
          "base_uri": "https://localhost:8080/",
          "height": 53
        },
        "id": "gY2ZJfiYLdzG",
        "outputId": "3d03a664-a505-467b-d31d-12d459b28a97"
      },
      "source": [
        "'''new_RA4 = RA4[['SMS Id','Visit Date']].drop_duplicates()\n",
        "new_RA4.columns = new_RA4.columns.str.replace('Visit Date', 'Prev_Visit Date')\n",
        "new2_RA4 = RA4[['Concatenate','Stock']]\n",
        "new2_RA4.columns = new2_RA4.columns.str.replace('Stock', 'Prev_Stock')'''"
      ],
      "execution_count": 797,
      "outputs": [
        {
          "output_type": "execute_result",
          "data": {
            "application/vnd.google.colaboratory.intrinsic+json": {
              "type": "string"
            },
            "text/plain": [
              "\"new_RA4 = RA4[['SMS Id','Visit Date']].drop_duplicates()\\nnew_RA4.columns = new_RA4.columns.str.replace('Visit Date', 'Prev_Visit Date')\\nnew2_RA4 = RA4[['Concatenate','Stock']]\\nnew2_RA4.columns = new2_RA4.columns.str.replace('Stock', 'Prev_Stock')\""
            ]
          },
          "metadata": {},
          "execution_count": 797
        }
      ]
    },
    {
      "cell_type": "code",
      "metadata": {
        "colab": {
          "base_uri": "https://localhost:8080/",
          "height": 36
        },
        "id": "n1dUaZ23LdzG",
        "outputId": "96f34e2f-a9da-4982-a0bd-b5acb0934b08"
      },
      "source": [
        "'''RA5 = RA5.merge(new_RA4, on='SMS Id')\n",
        "RA5 = RA5.merge(new2_RA4, on='Concatenate')'''"
      ],
      "execution_count": 798,
      "outputs": [
        {
          "output_type": "execute_result",
          "data": {
            "application/vnd.google.colaboratory.intrinsic+json": {
              "type": "string"
            },
            "text/plain": [
              "\"RA5 = RA5.merge(new_RA4, on='SMS Id')\\nRA5 = RA5.merge(new2_RA4, on='Concatenate')\""
            ]
          },
          "metadata": {},
          "execution_count": 798
        }
      ]
    },
    {
      "cell_type": "code",
      "metadata": {
        "id": "9IbVljFsLdzH"
      },
      "source": [
        "#RA5.head()"
      ],
      "execution_count": 799,
      "outputs": []
    },
    {
      "cell_type": "code",
      "metadata": {
        "id": "oiFlFEW8LdzH"
      },
      "source": [
        "#RA5['Recheck_Sales'] = RA5['Prev_Stock']+RA5['Purchase']-RA5['Stock']"
      ],
      "execution_count": 800,
      "outputs": []
    },
    {
      "cell_type": "code",
      "metadata": {
        "id": "tU74Vw0ILdzH"
      },
      "source": [
        "#RA5[RA5['Recheck_Sales']-RA5['Claimed_Sales_RA5(di_RA5)']!=0]"
      ],
      "execution_count": 801,
      "outputs": []
    },
    {
      "cell_type": "code",
      "metadata": {
        "id": "fRBIU-N5LdzH"
      },
      "source": [
        "visit_RA5 = pd.pivot_table(RA5,\n",
        "               index=['SMS Id','Visit Date'],\n",
        "               values='Bar Code',\n",
        "               aggfunc='count'\n",
        "               ).reset_index()\n",
        "visit_RA5.drop('Bar Code', axis=1, inplace=True)                       \n",
        "visit_RA5 = visit_RA5.rename(columns={'Visit Date':'visit_RA5'})"
      ],
      "execution_count": 802,
      "outputs": []
    },
    {
      "cell_type": "code",
      "metadata": {
        "id": "FV0R0cumLdzH"
      },
      "source": [
        "# membuat format untuk di merge dengan table lainnya\n",
        "m_RA5 = RA5.copy()\n",
        "# mengganti nama kolom agar sesuai dengan yg diinginkan\n",
        "m_RA5.columns = m_RA5.columns.str.replace(\n",
        "    'Visit Date', 'RA5').str.replace(\n",
        "        'PTR', 'RBP_RA5').str.replace(\n",
        "            'RSP/Price','RSP_RA5').str.replace(\n",
        "                'Stock','Stock_RA5').str.replace(\n",
        "                    'Purchase','Purchase_RA5')"
      ],
      "execution_count": 803,
      "outputs": []
    },
    {
      "cell_type": "markdown",
      "metadata": {
        "id": "DRiXE-zPVTpf"
      },
      "source": [
        "## Merge Data Retail Audit into 1 Dataframe"
      ]
    },
    {
      "cell_type": "markdown",
      "metadata": {
        "id": "eXbkC-wwqzeP"
      },
      "source": [
        "### Merge DataFrame IA dan RA1"
      ]
    },
    {
      "cell_type": "code",
      "metadata": {
        "id": "MleuCgYarQKc"
      },
      "source": [
        "inner = pd.merge(m_IA, m_RA1[['RA1','RBP_RA1', 'RSP_RA1', 'Stock_RA1', 'Purchase_RA1',\n",
        "       'Concatenate']], on=\"Concatenate\", how=\"inner\")\n",
        "left = pd.merge(m_IA, m_RA1[['RA1','RBP_RA1', 'RSP_RA1', 'Stock_RA1', 'Purchase_RA1',\n",
        "       'Concatenate']], on=\"Concatenate\", how=\"left\", indicator=True)\n",
        "right = pd.merge(m_IA[['IA','RBP_IA','RSP_IA','Stock_IA','Concatenate']], m_RA1, on=\"Concatenate\", how=\"right\", indicator=True)"
      ],
      "execution_count": 804,
      "outputs": []
    },
    {
      "cell_type": "code",
      "metadata": {
        "id": "GaMWwJnFFnun"
      },
      "source": [
        "df_merge = inner.append(left[left['_merge']=='left_only'], ignore_index = True)\n",
        "df_merge = df_merge.append(right[right['_merge']=='right_only'], ignore_index = True)"
      ],
      "execution_count": 805,
      "outputs": []
    },
    {
      "cell_type": "code",
      "metadata": {
        "colab": {
          "base_uri": "https://localhost:8080/"
        },
        "id": "3xYJmZ_whBtO",
        "outputId": "e487968a-ff96-4b69-dd3c-784c5aa76ab5"
      },
      "source": [
        "df_merge = df_merge.drop('_merge', axis=1)\n",
        "df_merge.shape"
      ],
      "execution_count": 806,
      "outputs": [
        {
          "output_type": "execute_result",
          "data": {
            "text/plain": [
              "(1924, 14)"
            ]
          },
          "metadata": {},
          "execution_count": 806
        }
      ]
    },
    {
      "cell_type": "markdown",
      "metadata": {
        "id": "Xa_JM-ipMbob"
      },
      "source": [
        "### Merge DataFrame IA+RA1 dan RA2"
      ]
    },
    {
      "cell_type": "code",
      "metadata": {
        "id": "PmF0NLN1qxQv"
      },
      "source": [
        "inner = pd.merge(df_merge, m_RA2[['Concatenate','RA2','RBP_RA2', 'RSP_RA2', 'Stock_RA2', 'Purchase_RA2', \n",
        "                                  'Claimed_Sales_RA1(di_RA2)', 'Claimed_Sales_RA2(di_RA2)', 'Comment_RA2']], \n",
        "                 on=\"Concatenate\", how=\"inner\")\n",
        "left = pd.merge(df_merge, m_RA2[['Concatenate','RA2','RBP_RA2', 'RSP_RA2', 'Stock_RA2', 'Purchase_RA2', \n",
        "                                 'Claimed_Sales_RA1(di_RA2)', 'Claimed_Sales_RA2(di_RA2)', 'Comment_RA2']], \n",
        "                on=\"Concatenate\", how=\"left\", indicator=True)\n",
        "right = pd.merge(df_merge[['Concatenate','IA','RBP_IA','RSP_IA','Stock_IA','RA1','RBP_RA1', 'RSP_RA1', 'Stock_RA1', 'Purchase_RA1']], \n",
        "                 m_RA2, on=\"Concatenate\", how=\"right\", indicator=True)"
      ],
      "execution_count": 807,
      "outputs": []
    },
    {
      "cell_type": "code",
      "metadata": {
        "colab": {
          "base_uri": "https://localhost:8080/"
        },
        "id": "D8QwIBGEeUJa",
        "outputId": "7620467b-efcc-4e75-c601-e63b3882954c"
      },
      "source": [
        "inner.shape"
      ],
      "execution_count": 808,
      "outputs": [
        {
          "output_type": "execute_result",
          "data": {
            "text/plain": [
              "(1693, 22)"
            ]
          },
          "metadata": {},
          "execution_count": 808
        }
      ]
    },
    {
      "cell_type": "code",
      "metadata": {
        "colab": {
          "base_uri": "https://localhost:8080/"
        },
        "id": "QjZMaxn7elX7",
        "outputId": "f5e5a851-35e6-45eb-902f-31f313b10e8c"
      },
      "source": [
        "left[left['_merge']=='left_only'].shape"
      ],
      "execution_count": 809,
      "outputs": [
        {
          "output_type": "execute_result",
          "data": {
            "text/plain": [
              "(231, 23)"
            ]
          },
          "metadata": {},
          "execution_count": 809
        }
      ]
    },
    {
      "cell_type": "code",
      "metadata": {
        "colab": {
          "base_uri": "https://localhost:8080/"
        },
        "id": "iepC_x88eqV5",
        "outputId": "28dbbd9d-fda7-4ad7-8f75-a21ac28cf2f3"
      },
      "source": [
        "right[right['_merge']=='right_only'].shape"
      ],
      "execution_count": 810,
      "outputs": [
        {
          "output_type": "execute_result",
          "data": {
            "text/plain": [
              "(56, 22)"
            ]
          },
          "metadata": {},
          "execution_count": 810
        }
      ]
    },
    {
      "cell_type": "code",
      "metadata": {
        "id": "0W4--WJVNhc6"
      },
      "source": [
        "df_merge = inner.append(left[left['_merge']=='left_only'], ignore_index = True)\n",
        "df_merge = df_merge.append(right[right['_merge']=='right_only'], ignore_index = True)"
      ],
      "execution_count": 811,
      "outputs": []
    },
    {
      "cell_type": "code",
      "metadata": {
        "colab": {
          "base_uri": "https://localhost:8080/"
        },
        "id": "1nOEb0OCU84X",
        "outputId": "d7a88745-7f33-4f90-e974-4224c69a294d"
      },
      "source": [
        "df_merge = df_merge.drop('_merge', axis=1)\n",
        "df_merge.shape"
      ],
      "execution_count": 812,
      "outputs": [
        {
          "output_type": "execute_result",
          "data": {
            "text/plain": [
              "(1980, 22)"
            ]
          },
          "metadata": {},
          "execution_count": 812
        }
      ]
    },
    {
      "cell_type": "markdown",
      "metadata": {
        "id": "9RfEDrDpU7k7"
      },
      "source": [
        "### Merge DataFrame IA+RA1+RA2 dan RA3"
      ]
    },
    {
      "cell_type": "code",
      "metadata": {
        "colab": {
          "base_uri": "https://localhost:8080/"
        },
        "id": "rmjLqCi5AiVi",
        "outputId": "1821512d-1aab-4e6b-c6f6-a2d5126ce1f6"
      },
      "source": [
        "m_RA3.columns"
      ],
      "execution_count": 813,
      "outputs": [
        {
          "output_type": "execute_result",
          "data": {
            "text/plain": [
              "Index(['Concatenate', 'SMS Id', 'Bar Code', 'Product Description', 'RA3',\n",
              "       'RBP_RA3', 'RSP_RA3', 'Claimed_Sales_RA3(di_RA3)',\n",
              "       'Claimed_Sales_RA2(di_RA3)', 'Claimed_Sales_RA1(di_RA3)', 'Comment_RA3',\n",
              "       'Stock_RA3', 'Purchase_RA3'],\n",
              "      dtype='object')"
            ]
          },
          "metadata": {},
          "execution_count": 813
        }
      ]
    },
    {
      "cell_type": "code",
      "metadata": {
        "id": "DHGUjrlJU_27"
      },
      "source": [
        "inner = pd.merge(df_merge, \n",
        "                 m_RA3[['Concatenate','RA3','RBP_RA3', 'RSP_RA3', 'Stock_RA3', 'Purchase_RA3', \n",
        "                        'Claimed_Sales_RA1(di_RA3)', 'Claimed_Sales_RA2(di_RA3)','Claimed_Sales_RA3(di_RA3)','Comment_RA3']],\n",
        "                 on=\"Concatenate\", how=\"inner\")\n",
        "left = pd.merge(df_merge, \n",
        "                m_RA3[['Concatenate','RA3','RBP_RA3', 'RSP_RA3', 'Stock_RA3', 'Purchase_RA3', \n",
        "                       'Claimed_Sales_RA1(di_RA3)', 'Claimed_Sales_RA2(di_RA3)','Claimed_Sales_RA3(di_RA3)','Comment_RA3']], \n",
        "                on=\"Concatenate\", how=\"left\", indicator=True)\n",
        "right = pd.merge(df_merge[['Concatenate','IA','RBP_IA','RSP_IA','Stock_IA',\n",
        "                           'RA1','RBP_RA1', 'RSP_RA1', 'Stock_RA1', 'Purchase_RA1',\n",
        "                           'RA2','RBP_RA2', 'RSP_RA2', 'Stock_RA2', 'Purchase_RA2','Claimed_Sales_RA1(di_RA2)','Claimed_Sales_RA2(di_RA2)','Comment_RA2']], \n",
        "                 m_RA3, on=\"Concatenate\", how=\"right\", indicator=True)"
      ],
      "execution_count": 814,
      "outputs": []
    },
    {
      "cell_type": "code",
      "metadata": {
        "id": "qfR9LosMYQT6"
      },
      "source": [
        "df_merge = inner.append(left[left['_merge']=='left_only'], ignore_index = True)\n",
        "df_merge = df_merge.append(right[right['_merge']=='right_only'], ignore_index = True)"
      ],
      "execution_count": 815,
      "outputs": []
    },
    {
      "cell_type": "code",
      "metadata": {
        "colab": {
          "base_uri": "https://localhost:8080/",
          "height": 556
        },
        "id": "nDKuEvF0PaHy",
        "outputId": "d38af3d1-c24e-4bfe-f336-d11d94ac51ce"
      },
      "source": [
        "df_merge.head()"
      ],
      "execution_count": 816,
      "outputs": [
        {
          "output_type": "execute_result",
          "data": {
            "text/html": [
              "<div>\n",
              "<style scoped>\n",
              "    .dataframe tbody tr th:only-of-type {\n",
              "        vertical-align: middle;\n",
              "    }\n",
              "\n",
              "    .dataframe tbody tr th {\n",
              "        vertical-align: top;\n",
              "    }\n",
              "\n",
              "    .dataframe thead th {\n",
              "        text-align: right;\n",
              "    }\n",
              "</style>\n",
              "<table border=\"1\" class=\"dataframe\">\n",
              "  <thead>\n",
              "    <tr style=\"text-align: right;\">\n",
              "      <th></th>\n",
              "      <th>Concatenate</th>\n",
              "      <th>SMS Id</th>\n",
              "      <th>Bar Code</th>\n",
              "      <th>Product Description</th>\n",
              "      <th>IA</th>\n",
              "      <th>RBP_IA</th>\n",
              "      <th>RSP_IA</th>\n",
              "      <th>Stock_IA</th>\n",
              "      <th>RA1</th>\n",
              "      <th>RBP_RA1</th>\n",
              "      <th>RSP_RA1</th>\n",
              "      <th>Stock_RA1</th>\n",
              "      <th>Purchase_RA1</th>\n",
              "      <th>Sales</th>\n",
              "      <th>RA2</th>\n",
              "      <th>RBP_RA2</th>\n",
              "      <th>RSP_RA2</th>\n",
              "      <th>Stock_RA2</th>\n",
              "      <th>Purchase_RA2</th>\n",
              "      <th>Claimed_Sales_RA1(di_RA2)</th>\n",
              "      <th>Claimed_Sales_RA2(di_RA2)</th>\n",
              "      <th>Comment_RA2</th>\n",
              "      <th>RA3</th>\n",
              "      <th>RBP_RA3</th>\n",
              "      <th>RSP_RA3</th>\n",
              "      <th>Stock_RA3</th>\n",
              "      <th>Purchase_RA3</th>\n",
              "      <th>Claimed_Sales_RA1(di_RA3)</th>\n",
              "      <th>Claimed_Sales_RA2(di_RA3)</th>\n",
              "      <th>Claimed_Sales_RA3(di_RA3)</th>\n",
              "      <th>Comment_RA3</th>\n",
              "      <th>_merge</th>\n",
              "    </tr>\n",
              "  </thead>\n",
              "  <tbody>\n",
              "    <tr>\n",
              "      <th>0</th>\n",
              "      <td>1609986Gudang Garam Red Soft Kspl 12 Stc (Sktb)</td>\n",
              "      <td>1609986</td>\n",
              "      <td>8998989501125</td>\n",
              "      <td>Gudang Garam Red Soft Kspl 12 Stc (Sktb)</td>\n",
              "      <td>2021-07-26</td>\n",
              "      <td>12500.0</td>\n",
              "      <td>13000.0</td>\n",
              "      <td>20.0</td>\n",
              "      <td>2021-08-02</td>\n",
              "      <td>12500.0</td>\n",
              "      <td>13000.0</td>\n",
              "      <td>3.0</td>\n",
              "      <td>0.0</td>\n",
              "      <td>NaN</td>\n",
              "      <td>2021-08-10</td>\n",
              "      <td>12500.0</td>\n",
              "      <td>13000.0</td>\n",
              "      <td>3.0</td>\n",
              "      <td>17.0</td>\n",
              "      <td>17.0</td>\n",
              "      <td>17.0</td>\n",
              "      <td>0</td>\n",
              "      <td>2021-08-18</td>\n",
              "      <td>12500.0</td>\n",
              "      <td>13000.0</td>\n",
              "      <td>3.0</td>\n",
              "      <td>20.0</td>\n",
              "      <td>17.0</td>\n",
              "      <td>17.0</td>\n",
              "      <td>20.0</td>\n",
              "      <td>COVID - Sales naik, banyak permintaan produk/k...</td>\n",
              "      <td>NaN</td>\n",
              "    </tr>\n",
              "    <tr>\n",
              "      <th>1</th>\n",
              "      <td>1610014Dji Sam Soe Soft Plain 12 Stc (Sktb)</td>\n",
              "      <td>1610014</td>\n",
              "      <td>8999909028234</td>\n",
              "      <td>Dji Sam Soe Soft Plain 12 Stc (Sktb)</td>\n",
              "      <td>2021-07-26</td>\n",
              "      <td>16500.0</td>\n",
              "      <td>18000.0</td>\n",
              "      <td>4.0</td>\n",
              "      <td>2021-08-02</td>\n",
              "      <td>16500.0</td>\n",
              "      <td>18000.0</td>\n",
              "      <td>4.0</td>\n",
              "      <td>4.0</td>\n",
              "      <td>NaN</td>\n",
              "      <td>2021-08-12</td>\n",
              "      <td>16500.0</td>\n",
              "      <td>17000.0</td>\n",
              "      <td>4.0</td>\n",
              "      <td>0.0</td>\n",
              "      <td>4.0</td>\n",
              "      <td>0.0</td>\n",
              "      <td>0</td>\n",
              "      <td>2021-08-19</td>\n",
              "      <td>16500.0</td>\n",
              "      <td>17000.0</td>\n",
              "      <td>4.0</td>\n",
              "      <td>0.0</td>\n",
              "      <td>4.0</td>\n",
              "      <td>0.0</td>\n",
              "      <td>0.0</td>\n",
              "      <td>0</td>\n",
              "      <td>NaN</td>\n",
              "    </tr>\n",
              "    <tr>\n",
              "      <th>2</th>\n",
              "      <td>1610908Dji Sam Soe Soft Plain 12 Stc (Sktb)</td>\n",
              "      <td>1610908</td>\n",
              "      <td>8999909028234</td>\n",
              "      <td>Dji Sam Soe Soft Plain 12 Stc (Sktb)</td>\n",
              "      <td>2021-07-26</td>\n",
              "      <td>16500.0</td>\n",
              "      <td>18000.0</td>\n",
              "      <td>5.0</td>\n",
              "      <td>2021-08-03</td>\n",
              "      <td>16000.0</td>\n",
              "      <td>18000.0</td>\n",
              "      <td>10.0</td>\n",
              "      <td>10.0</td>\n",
              "      <td>NaN</td>\n",
              "      <td>2021-08-09</td>\n",
              "      <td>16000.0</td>\n",
              "      <td>18000.0</td>\n",
              "      <td>10.0</td>\n",
              "      <td>10.0</td>\n",
              "      <td>5.0</td>\n",
              "      <td>10.0</td>\n",
              "      <td>COVID - Sales naik, banyak permintaan produk/k...</td>\n",
              "      <td>2021-08-18</td>\n",
              "      <td>15850.0</td>\n",
              "      <td>18000.0</td>\n",
              "      <td>10.0</td>\n",
              "      <td>30.0</td>\n",
              "      <td>5.0</td>\n",
              "      <td>10.0</td>\n",
              "      <td>30.0</td>\n",
              "      <td>COVID - Sales naik, banyak permintaan produk/k...</td>\n",
              "      <td>NaN</td>\n",
              "    </tr>\n",
              "    <tr>\n",
              "      <th>3</th>\n",
              "      <td>1610908Panamas 1 Soft Plain 12 Stc (Sktb)</td>\n",
              "      <td>1610908</td>\n",
              "      <td>8999909039124</td>\n",
              "      <td>Panamas 1 Soft Plain 12 Stc (Sktb)</td>\n",
              "      <td>2021-07-26</td>\n",
              "      <td>12500.0</td>\n",
              "      <td>14000.0</td>\n",
              "      <td>10.0</td>\n",
              "      <td>2021-08-03</td>\n",
              "      <td>12500.0</td>\n",
              "      <td>14000.0</td>\n",
              "      <td>10.0</td>\n",
              "      <td>0.0</td>\n",
              "      <td>NaN</td>\n",
              "      <td>2021-08-09</td>\n",
              "      <td>12500.0</td>\n",
              "      <td>14000.0</td>\n",
              "      <td>10.0</td>\n",
              "      <td>10.0</td>\n",
              "      <td>0.0</td>\n",
              "      <td>10.0</td>\n",
              "      <td>COVID - Sales naik, banyak permintaan produk/k...</td>\n",
              "      <td>2021-08-18</td>\n",
              "      <td>12500.0</td>\n",
              "      <td>14000.0</td>\n",
              "      <td>10.0</td>\n",
              "      <td>60.0</td>\n",
              "      <td>0.0</td>\n",
              "      <td>10.0</td>\n",
              "      <td>60.0</td>\n",
              "      <td>COVID - Sales naik, banyak permintaan produk/k...</td>\n",
              "      <td>NaN</td>\n",
              "    </tr>\n",
              "    <tr>\n",
              "      <th>4</th>\n",
              "      <td>1610908Djarum Istimewa Soft Coklat Plain 12 St...</td>\n",
              "      <td>1610908</td>\n",
              "      <td>8991906101651</td>\n",
              "      <td>Djarum Istimewa Soft Coklat Plain 12 Stc (Sktb)</td>\n",
              "      <td>2021-07-26</td>\n",
              "      <td>12500.0</td>\n",
              "      <td>14000.0</td>\n",
              "      <td>10.0</td>\n",
              "      <td>2021-08-03</td>\n",
              "      <td>12500.0</td>\n",
              "      <td>14000.0</td>\n",
              "      <td>10.0</td>\n",
              "      <td>0.0</td>\n",
              "      <td>NaN</td>\n",
              "      <td>2021-08-09</td>\n",
              "      <td>12500.0</td>\n",
              "      <td>14000.0</td>\n",
              "      <td>10.0</td>\n",
              "      <td>10.0</td>\n",
              "      <td>0.0</td>\n",
              "      <td>10.0</td>\n",
              "      <td>COVID - Sales naik, banyak permintaan produk/k...</td>\n",
              "      <td>2021-08-18</td>\n",
              "      <td>12500.0</td>\n",
              "      <td>14000.0</td>\n",
              "      <td>10.0</td>\n",
              "      <td>30.0</td>\n",
              "      <td>0.0</td>\n",
              "      <td>10.0</td>\n",
              "      <td>30.0</td>\n",
              "      <td>COVID - Sales naik, banyak permintaan produk/k...</td>\n",
              "      <td>NaN</td>\n",
              "    </tr>\n",
              "  </tbody>\n",
              "</table>\n",
              "</div>"
            ],
            "text/plain": [
              "                                         Concatenate  ...  _merge\n",
              "0    1609986Gudang Garam Red Soft Kspl 12 Stc (Sktb)  ...     NaN\n",
              "1        1610014Dji Sam Soe Soft Plain 12 Stc (Sktb)  ...     NaN\n",
              "2        1610908Dji Sam Soe Soft Plain 12 Stc (Sktb)  ...     NaN\n",
              "3          1610908Panamas 1 Soft Plain 12 Stc (Sktb)  ...     NaN\n",
              "4  1610908Djarum Istimewa Soft Coklat Plain 12 St...  ...     NaN\n",
              "\n",
              "[5 rows x 32 columns]"
            ]
          },
          "metadata": {},
          "execution_count": 816
        }
      ]
    },
    {
      "cell_type": "code",
      "metadata": {
        "colab": {
          "base_uri": "https://localhost:8080/"
        },
        "id": "pAQV9d8MarW5",
        "outputId": "6e7e8bc7-5863-446e-dd56-f56d1da6b017"
      },
      "source": [
        "df_merge = df_merge.drop('_merge', axis=1)\n",
        "df_merge.shape"
      ],
      "execution_count": 817,
      "outputs": [
        {
          "output_type": "execute_result",
          "data": {
            "text/plain": [
              "(2437, 31)"
            ]
          },
          "metadata": {},
          "execution_count": 817
        }
      ]
    },
    {
      "cell_type": "markdown",
      "metadata": {
        "id": "HoOnLI1OEwMn"
      },
      "source": [
        "### Merge DataFrame IA+RA1+RA2+RA3 dan RA4"
      ]
    },
    {
      "cell_type": "code",
      "metadata": {
        "id": "9pJlKrBYEwMn"
      },
      "source": [
        "inner = pd.merge(df_merge, \n",
        "                 m_RA4[['Concatenate','RA4','RBP_RA4', 'RSP_RA4', 'Stock_RA4', 'Purchase_RA4', \n",
        "                        'Claimed_Sales_RA1(di_RA4)', 'Claimed_Sales_RA2(di_RA4)','Claimed_Sales_RA3(di_RA4)','Claimed_Sales_RA4(di_RA4)',\n",
        "                        'Comment_RA4']],\n",
        "                 on=\"Concatenate\", how=\"inner\")\n",
        "left = pd.merge(df_merge, \n",
        "                m_RA4[['Concatenate','RA4','RBP_RA4', 'RSP_RA4', 'Stock_RA4', 'Purchase_RA4', \n",
        "                        'Claimed_Sales_RA1(di_RA4)', 'Claimed_Sales_RA2(di_RA4)','Claimed_Sales_RA3(di_RA4)','Claimed_Sales_RA4(di_RA4)',\n",
        "                        'Comment_RA4']], \n",
        "                on=\"Concatenate\", how=\"left\", indicator=True)\n",
        "right = pd.merge(df_merge[['Concatenate','IA','RBP_IA','RSP_IA','Stock_IA',\n",
        "                           'RA1','RBP_RA1', 'RSP_RA1', 'Stock_RA1', 'Purchase_RA1',\n",
        "                           'RA2','RBP_RA2', 'RSP_RA2', 'Stock_RA2', 'Purchase_RA2','Claimed_Sales_RA1(di_RA2)','Claimed_Sales_RA2(di_RA2)','Comment_RA2',\n",
        "                           'RA3','RBP_RA3', 'RSP_RA3', 'Stock_RA3', 'Purchase_RA3','Claimed_Sales_RA1(di_RA3)','Claimed_Sales_RA2(di_RA3)','Claimed_Sales_RA3(di_RA3)','Comment_RA3']],\n",
        "                 m_RA4, on=\"Concatenate\", how=\"right\", indicator=True)"
      ],
      "execution_count": 818,
      "outputs": []
    },
    {
      "cell_type": "code",
      "metadata": {
        "id": "zBoGml2ETKHN"
      },
      "source": [
        ""
      ],
      "execution_count": 818,
      "outputs": []
    },
    {
      "cell_type": "code",
      "metadata": {
        "id": "Q4FhZ_xbEwMo"
      },
      "source": [
        "df_merge = inner.append(left[left['_merge']=='left_only'], ignore_index = True)\n",
        "df_merge = df_merge.append(right[right['_merge']=='right_only'], ignore_index = True)"
      ],
      "execution_count": 819,
      "outputs": []
    },
    {
      "cell_type": "code",
      "metadata": {
        "colab": {
          "base_uri": "https://localhost:8080/",
          "height": 591
        },
        "id": "K31Bqb63EwMo",
        "outputId": "c74bb383-7a7e-4ade-84f7-a3f443251f4e"
      },
      "source": [
        "df_merge.head()"
      ],
      "execution_count": 820,
      "outputs": [
        {
          "output_type": "execute_result",
          "data": {
            "text/html": [
              "<div>\n",
              "<style scoped>\n",
              "    .dataframe tbody tr th:only-of-type {\n",
              "        vertical-align: middle;\n",
              "    }\n",
              "\n",
              "    .dataframe tbody tr th {\n",
              "        vertical-align: top;\n",
              "    }\n",
              "\n",
              "    .dataframe thead th {\n",
              "        text-align: right;\n",
              "    }\n",
              "</style>\n",
              "<table border=\"1\" class=\"dataframe\">\n",
              "  <thead>\n",
              "    <tr style=\"text-align: right;\">\n",
              "      <th></th>\n",
              "      <th>Concatenate</th>\n",
              "      <th>SMS Id</th>\n",
              "      <th>Bar Code</th>\n",
              "      <th>Product Description</th>\n",
              "      <th>IA</th>\n",
              "      <th>RBP_IA</th>\n",
              "      <th>RSP_IA</th>\n",
              "      <th>Stock_IA</th>\n",
              "      <th>RA1</th>\n",
              "      <th>RBP_RA1</th>\n",
              "      <th>RSP_RA1</th>\n",
              "      <th>Stock_RA1</th>\n",
              "      <th>Purchase_RA1</th>\n",
              "      <th>Sales</th>\n",
              "      <th>RA2</th>\n",
              "      <th>RBP_RA2</th>\n",
              "      <th>RSP_RA2</th>\n",
              "      <th>Stock_RA2</th>\n",
              "      <th>Purchase_RA2</th>\n",
              "      <th>Claimed_Sales_RA1(di_RA2)</th>\n",
              "      <th>Claimed_Sales_RA2(di_RA2)</th>\n",
              "      <th>Comment_RA2</th>\n",
              "      <th>RA3</th>\n",
              "      <th>RBP_RA3</th>\n",
              "      <th>RSP_RA3</th>\n",
              "      <th>Stock_RA3</th>\n",
              "      <th>Purchase_RA3</th>\n",
              "      <th>Claimed_Sales_RA1(di_RA3)</th>\n",
              "      <th>Claimed_Sales_RA2(di_RA3)</th>\n",
              "      <th>Claimed_Sales_RA3(di_RA3)</th>\n",
              "      <th>Comment_RA3</th>\n",
              "      <th>RA4</th>\n",
              "      <th>RBP_RA4</th>\n",
              "      <th>RSP_RA4</th>\n",
              "      <th>Stock_RA4</th>\n",
              "      <th>Purchase_RA4</th>\n",
              "      <th>Claimed_Sales_RA1(di_RA4)</th>\n",
              "      <th>Claimed_Sales_RA2(di_RA4)</th>\n",
              "      <th>Claimed_Sales_RA3(di_RA4)</th>\n",
              "      <th>Claimed_Sales_RA4(di_RA4)</th>\n",
              "      <th>Comment_RA4</th>\n",
              "      <th>_merge</th>\n",
              "    </tr>\n",
              "  </thead>\n",
              "  <tbody>\n",
              "    <tr>\n",
              "      <th>0</th>\n",
              "      <td>1609986Gudang Garam Red Soft Kspl 12 Stc (Sktb)</td>\n",
              "      <td>1609986</td>\n",
              "      <td>8998989501125</td>\n",
              "      <td>Gudang Garam Red Soft Kspl 12 Stc (Sktb)</td>\n",
              "      <td>2021-07-26</td>\n",
              "      <td>12500.0</td>\n",
              "      <td>13000.0</td>\n",
              "      <td>20.0</td>\n",
              "      <td>2021-08-02</td>\n",
              "      <td>12500.0</td>\n",
              "      <td>13000.0</td>\n",
              "      <td>3.0</td>\n",
              "      <td>0.0</td>\n",
              "      <td>NaN</td>\n",
              "      <td>2021-08-10</td>\n",
              "      <td>12500.0</td>\n",
              "      <td>13000.0</td>\n",
              "      <td>3.0</td>\n",
              "      <td>17.0</td>\n",
              "      <td>17.0</td>\n",
              "      <td>17.0</td>\n",
              "      <td>0</td>\n",
              "      <td>2021-08-18</td>\n",
              "      <td>12500.0</td>\n",
              "      <td>13000.0</td>\n",
              "      <td>3.0</td>\n",
              "      <td>20.0</td>\n",
              "      <td>17.0</td>\n",
              "      <td>17.0</td>\n",
              "      <td>20.0</td>\n",
              "      <td>COVID - Sales naik, banyak permintaan produk/k...</td>\n",
              "      <td>2021-09-03</td>\n",
              "      <td>12200.0</td>\n",
              "      <td>13000.0</td>\n",
              "      <td>2.0</td>\n",
              "      <td>20.0</td>\n",
              "      <td>17.0</td>\n",
              "      <td>17.0</td>\n",
              "      <td>20.0</td>\n",
              "      <td>21.0</td>\n",
              "      <td>0</td>\n",
              "      <td>NaN</td>\n",
              "    </tr>\n",
              "    <tr>\n",
              "      <th>1</th>\n",
              "      <td>1610908Dji Sam Soe Soft Plain 12 Stc (Sktb)</td>\n",
              "      <td>1610908</td>\n",
              "      <td>8999909028234</td>\n",
              "      <td>Dji Sam Soe Soft Plain 12 Stc (Sktb)</td>\n",
              "      <td>2021-07-26</td>\n",
              "      <td>16500.0</td>\n",
              "      <td>18000.0</td>\n",
              "      <td>5.0</td>\n",
              "      <td>2021-08-03</td>\n",
              "      <td>16000.0</td>\n",
              "      <td>18000.0</td>\n",
              "      <td>10.0</td>\n",
              "      <td>10.0</td>\n",
              "      <td>NaN</td>\n",
              "      <td>2021-08-09</td>\n",
              "      <td>16000.0</td>\n",
              "      <td>18000.0</td>\n",
              "      <td>10.0</td>\n",
              "      <td>10.0</td>\n",
              "      <td>5.0</td>\n",
              "      <td>10.0</td>\n",
              "      <td>COVID - Sales naik, banyak permintaan produk/k...</td>\n",
              "      <td>2021-08-18</td>\n",
              "      <td>15850.0</td>\n",
              "      <td>18000.0</td>\n",
              "      <td>10.0</td>\n",
              "      <td>30.0</td>\n",
              "      <td>5.0</td>\n",
              "      <td>10.0</td>\n",
              "      <td>30.0</td>\n",
              "      <td>COVID - Sales naik, banyak permintaan produk/k...</td>\n",
              "      <td>2021-09-03</td>\n",
              "      <td>15900.0</td>\n",
              "      <td>18000.0</td>\n",
              "      <td>1.0</td>\n",
              "      <td>40.0</td>\n",
              "      <td>5.0</td>\n",
              "      <td>10.0</td>\n",
              "      <td>30.0</td>\n",
              "      <td>49.0</td>\n",
              "      <td>COVID - Sales naik, banyak permintaan produk/k...</td>\n",
              "      <td>NaN</td>\n",
              "    </tr>\n",
              "    <tr>\n",
              "      <th>2</th>\n",
              "      <td>1610908Panamas 1 Soft Plain 12 Stc (Sktb)</td>\n",
              "      <td>1610908</td>\n",
              "      <td>8999909039124</td>\n",
              "      <td>Panamas 1 Soft Plain 12 Stc (Sktb)</td>\n",
              "      <td>2021-07-26</td>\n",
              "      <td>12500.0</td>\n",
              "      <td>14000.0</td>\n",
              "      <td>10.0</td>\n",
              "      <td>2021-08-03</td>\n",
              "      <td>12500.0</td>\n",
              "      <td>14000.0</td>\n",
              "      <td>10.0</td>\n",
              "      <td>0.0</td>\n",
              "      <td>NaN</td>\n",
              "      <td>2021-08-09</td>\n",
              "      <td>12500.0</td>\n",
              "      <td>14000.0</td>\n",
              "      <td>10.0</td>\n",
              "      <td>10.0</td>\n",
              "      <td>0.0</td>\n",
              "      <td>10.0</td>\n",
              "      <td>COVID - Sales naik, banyak permintaan produk/k...</td>\n",
              "      <td>2021-08-18</td>\n",
              "      <td>12500.0</td>\n",
              "      <td>14000.0</td>\n",
              "      <td>10.0</td>\n",
              "      <td>60.0</td>\n",
              "      <td>0.0</td>\n",
              "      <td>10.0</td>\n",
              "      <td>60.0</td>\n",
              "      <td>COVID - Sales naik, banyak permintaan produk/k...</td>\n",
              "      <td>2021-09-03</td>\n",
              "      <td>12500.0</td>\n",
              "      <td>14000.0</td>\n",
              "      <td>1.0</td>\n",
              "      <td>10.0</td>\n",
              "      <td>0.0</td>\n",
              "      <td>10.0</td>\n",
              "      <td>60.0</td>\n",
              "      <td>19.0</td>\n",
              "      <td>COVID - Sales turun karena kekurangan pasokan</td>\n",
              "      <td>NaN</td>\n",
              "    </tr>\n",
              "    <tr>\n",
              "      <th>3</th>\n",
              "      <td>1610908Djarum Istimewa Soft Coklat Plain 12 St...</td>\n",
              "      <td>1610908</td>\n",
              "      <td>8991906101651</td>\n",
              "      <td>Djarum Istimewa Soft Coklat Plain 12 Stc (Sktb)</td>\n",
              "      <td>2021-07-26</td>\n",
              "      <td>12500.0</td>\n",
              "      <td>14000.0</td>\n",
              "      <td>10.0</td>\n",
              "      <td>2021-08-03</td>\n",
              "      <td>12500.0</td>\n",
              "      <td>14000.0</td>\n",
              "      <td>10.0</td>\n",
              "      <td>0.0</td>\n",
              "      <td>NaN</td>\n",
              "      <td>2021-08-09</td>\n",
              "      <td>12500.0</td>\n",
              "      <td>14000.0</td>\n",
              "      <td>10.0</td>\n",
              "      <td>10.0</td>\n",
              "      <td>0.0</td>\n",
              "      <td>10.0</td>\n",
              "      <td>COVID - Sales naik, banyak permintaan produk/k...</td>\n",
              "      <td>2021-08-18</td>\n",
              "      <td>12500.0</td>\n",
              "      <td>14000.0</td>\n",
              "      <td>10.0</td>\n",
              "      <td>30.0</td>\n",
              "      <td>0.0</td>\n",
              "      <td>10.0</td>\n",
              "      <td>30.0</td>\n",
              "      <td>COVID - Sales naik, banyak permintaan produk/k...</td>\n",
              "      <td>2021-09-03</td>\n",
              "      <td>12500.0</td>\n",
              "      <td>14000.0</td>\n",
              "      <td>1.0</td>\n",
              "      <td>10.0</td>\n",
              "      <td>0.0</td>\n",
              "      <td>10.0</td>\n",
              "      <td>30.0</td>\n",
              "      <td>19.0</td>\n",
              "      <td>COVID - Sales turun karena kekurangan pasokan</td>\n",
              "      <td>NaN</td>\n",
              "    </tr>\n",
              "    <tr>\n",
              "      <th>4</th>\n",
              "      <td>1610908Gudang Garam Red Soft Kspl 12 Stc (Sktb)</td>\n",
              "      <td>1610908</td>\n",
              "      <td>8998989501125</td>\n",
              "      <td>Gudang Garam Red Soft Kspl 12 Stc (Sktb)</td>\n",
              "      <td>2021-07-26</td>\n",
              "      <td>12500.0</td>\n",
              "      <td>14000.0</td>\n",
              "      <td>10.0</td>\n",
              "      <td>2021-08-03</td>\n",
              "      <td>12500.0</td>\n",
              "      <td>14000.0</td>\n",
              "      <td>10.0</td>\n",
              "      <td>0.0</td>\n",
              "      <td>NaN</td>\n",
              "      <td>2021-08-09</td>\n",
              "      <td>12500.0</td>\n",
              "      <td>14000.0</td>\n",
              "      <td>10.0</td>\n",
              "      <td>10.0</td>\n",
              "      <td>0.0</td>\n",
              "      <td>10.0</td>\n",
              "      <td>COVID - Sales naik, banyak permintaan produk/k...</td>\n",
              "      <td>2021-08-18</td>\n",
              "      <td>12150.0</td>\n",
              "      <td>14000.0</td>\n",
              "      <td>10.0</td>\n",
              "      <td>30.0</td>\n",
              "      <td>0.0</td>\n",
              "      <td>10.0</td>\n",
              "      <td>30.0</td>\n",
              "      <td>COVID - Sales naik, banyak permintaan produk/k...</td>\n",
              "      <td>2021-09-03</td>\n",
              "      <td>12500.0</td>\n",
              "      <td>14000.0</td>\n",
              "      <td>1.0</td>\n",
              "      <td>20.0</td>\n",
              "      <td>0.0</td>\n",
              "      <td>10.0</td>\n",
              "      <td>30.0</td>\n",
              "      <td>29.0</td>\n",
              "      <td>0</td>\n",
              "      <td>NaN</td>\n",
              "    </tr>\n",
              "  </tbody>\n",
              "</table>\n",
              "</div>"
            ],
            "text/plain": [
              "                                         Concatenate  ...  _merge\n",
              "0    1609986Gudang Garam Red Soft Kspl 12 Stc (Sktb)  ...     NaN\n",
              "1        1610908Dji Sam Soe Soft Plain 12 Stc (Sktb)  ...     NaN\n",
              "2          1610908Panamas 1 Soft Plain 12 Stc (Sktb)  ...     NaN\n",
              "3  1610908Djarum Istimewa Soft Coklat Plain 12 St...  ...     NaN\n",
              "4    1610908Gudang Garam Red Soft Kspl 12 Stc (Sktb)  ...     NaN\n",
              "\n",
              "[5 rows x 42 columns]"
            ]
          },
          "metadata": {},
          "execution_count": 820
        }
      ]
    },
    {
      "cell_type": "code",
      "metadata": {
        "colab": {
          "base_uri": "https://localhost:8080/"
        },
        "id": "7vdEr2AKEwMo",
        "outputId": "e48eecc3-b7c2-48a0-cc8a-8df82a5e7d3f"
      },
      "source": [
        "df_merge = df_merge.drop('_merge', axis=1)\n",
        "df_merge.shape"
      ],
      "execution_count": 821,
      "outputs": [
        {
          "output_type": "execute_result",
          "data": {
            "text/plain": [
              "(3424, 41)"
            ]
          },
          "metadata": {},
          "execution_count": 821
        }
      ]
    },
    {
      "cell_type": "markdown",
      "metadata": {
        "id": "Cht4WXMwPJ8K"
      },
      "source": [
        "### Merge DataFrame IA+RA1+RA2+RA3+RA4 dan RA5\n",
        "\n"
      ]
    },
    {
      "cell_type": "code",
      "metadata": {
        "id": "8Myjfm99PJ8K"
      },
      "source": [
        "inner = pd.merge(df_merge, \n",
        "                 m_RA5[['Concatenate','RA5','RBP_RA5', 'RSP_RA5', 'Stock_RA5', 'Purchase_RA5', \n",
        "                        'Claimed_Sales_RA3(di_RA5)','Claimed_Sales_RA4(di_RA5)',\n",
        "                        'Comment_RA5']],\n",
        "                 on=\"Concatenate\", how=\"inner\")\n",
        "left = pd.merge(df_merge, \n",
        "                m_RA5[['Concatenate','RA5','RBP_RA5', 'RSP_RA5', 'Stock_RA5', 'Purchase_RA5', \n",
        "                        'Claimed_Sales_RA3(di_RA5)','Claimed_Sales_RA4(di_RA5)',\n",
        "                        'Comment_RA5']], \n",
        "                on=\"Concatenate\", how=\"left\", indicator=True)\n",
        "right = pd.merge(df_merge[['Concatenate','IA','RBP_IA','RSP_IA','Stock_IA',\n",
        "                           'RA1','RBP_RA1', 'RSP_RA1', 'Stock_RA1', 'Purchase_RA1',\n",
        "                           'RA2','RBP_RA2', 'RSP_RA2', 'Stock_RA2', 'Purchase_RA2','Claimed_Sales_RA1(di_RA2)','Claimed_Sales_RA2(di_RA2)','Comment_RA2',\n",
        "                           'RA3','RBP_RA3', 'RSP_RA3', 'Stock_RA3', 'Purchase_RA3','Claimed_Sales_RA1(di_RA3)','Claimed_Sales_RA2(di_RA3)','Claimed_Sales_RA3(di_RA3)','Comment_RA3',\n",
        "                           'RA4','RBP_RA4', 'RSP_RA4', 'Stock_RA4', 'Purchase_RA4','Claimed_Sales_RA1(di_RA4)','Claimed_Sales_RA2(di_RA4)','Claimed_Sales_RA3(di_RA4)','Claimed_Sales_RA4(di_RA4)','Comment_RA4']],\n",
        "                 m_RA5, on=\"Concatenate\", how=\"right\", indicator=True)"
      ],
      "execution_count": 822,
      "outputs": []
    },
    {
      "cell_type": "code",
      "metadata": {
        "id": "sdluJmFFPJ8K"
      },
      "source": [
        "df_merge = inner.append(left[left['_merge']=='left_only'], ignore_index = True)\n",
        "df_merge = df_merge.append(right[right['_merge']=='right_only'], ignore_index = True)"
      ],
      "execution_count": 823,
      "outputs": []
    },
    {
      "cell_type": "code",
      "metadata": {
        "colab": {
          "base_uri": "https://localhost:8080/",
          "height": 591
        },
        "id": "hMb79CPkPJ8K",
        "outputId": "7e4d6605-243c-4d1d-c8c4-4dd576329b69"
      },
      "source": [
        "df_merge.head()"
      ],
      "execution_count": 824,
      "outputs": [
        {
          "output_type": "execute_result",
          "data": {
            "text/html": [
              "<div>\n",
              "<style scoped>\n",
              "    .dataframe tbody tr th:only-of-type {\n",
              "        vertical-align: middle;\n",
              "    }\n",
              "\n",
              "    .dataframe tbody tr th {\n",
              "        vertical-align: top;\n",
              "    }\n",
              "\n",
              "    .dataframe thead th {\n",
              "        text-align: right;\n",
              "    }\n",
              "</style>\n",
              "<table border=\"1\" class=\"dataframe\">\n",
              "  <thead>\n",
              "    <tr style=\"text-align: right;\">\n",
              "      <th></th>\n",
              "      <th>Concatenate</th>\n",
              "      <th>SMS Id</th>\n",
              "      <th>Bar Code</th>\n",
              "      <th>Product Description</th>\n",
              "      <th>IA</th>\n",
              "      <th>RBP_IA</th>\n",
              "      <th>RSP_IA</th>\n",
              "      <th>Stock_IA</th>\n",
              "      <th>RA1</th>\n",
              "      <th>RBP_RA1</th>\n",
              "      <th>RSP_RA1</th>\n",
              "      <th>Stock_RA1</th>\n",
              "      <th>Purchase_RA1</th>\n",
              "      <th>Sales</th>\n",
              "      <th>RA2</th>\n",
              "      <th>RBP_RA2</th>\n",
              "      <th>RSP_RA2</th>\n",
              "      <th>Stock_RA2</th>\n",
              "      <th>Purchase_RA2</th>\n",
              "      <th>Claimed_Sales_RA1(di_RA2)</th>\n",
              "      <th>Claimed_Sales_RA2(di_RA2)</th>\n",
              "      <th>Comment_RA2</th>\n",
              "      <th>RA3</th>\n",
              "      <th>RBP_RA3</th>\n",
              "      <th>RSP_RA3</th>\n",
              "      <th>Stock_RA3</th>\n",
              "      <th>Purchase_RA3</th>\n",
              "      <th>Claimed_Sales_RA1(di_RA3)</th>\n",
              "      <th>Claimed_Sales_RA2(di_RA3)</th>\n",
              "      <th>Claimed_Sales_RA3(di_RA3)</th>\n",
              "      <th>Comment_RA3</th>\n",
              "      <th>RA4</th>\n",
              "      <th>RBP_RA4</th>\n",
              "      <th>RSP_RA4</th>\n",
              "      <th>Stock_RA4</th>\n",
              "      <th>Purchase_RA4</th>\n",
              "      <th>Claimed_Sales_RA1(di_RA4)</th>\n",
              "      <th>Claimed_Sales_RA2(di_RA4)</th>\n",
              "      <th>Claimed_Sales_RA3(di_RA4)</th>\n",
              "      <th>Claimed_Sales_RA4(di_RA4)</th>\n",
              "      <th>Comment_RA4</th>\n",
              "      <th>RA5</th>\n",
              "      <th>RBP_RA5</th>\n",
              "      <th>RSP_RA5</th>\n",
              "      <th>Stock_RA5</th>\n",
              "      <th>Purchase_RA5</th>\n",
              "      <th>Claimed_Sales_RA3(di_RA5)</th>\n",
              "      <th>Claimed_Sales_RA4(di_RA5)</th>\n",
              "      <th>Comment_RA5</th>\n",
              "      <th>_merge</th>\n",
              "      <th>Claimed_Sales_RA5(di_RA5)</th>\n",
              "      <th>Sales_W3</th>\n",
              "      <th>Sales_W2</th>\n",
              "    </tr>\n",
              "  </thead>\n",
              "  <tbody>\n",
              "    <tr>\n",
              "      <th>0</th>\n",
              "      <td>1609986Gudang Garam Red Soft Kspl 12 Stc (Sktb)</td>\n",
              "      <td>1609986</td>\n",
              "      <td>8998989501125</td>\n",
              "      <td>Gudang Garam Red Soft Kspl 12 Stc (Sktb)</td>\n",
              "      <td>2021-07-26</td>\n",
              "      <td>12500.0</td>\n",
              "      <td>13000.0</td>\n",
              "      <td>20.0</td>\n",
              "      <td>2021-08-02</td>\n",
              "      <td>12500.0</td>\n",
              "      <td>13000.0</td>\n",
              "      <td>3.0</td>\n",
              "      <td>0.0</td>\n",
              "      <td>NaN</td>\n",
              "      <td>2021-08-10</td>\n",
              "      <td>12500.0</td>\n",
              "      <td>13000.0</td>\n",
              "      <td>3.0</td>\n",
              "      <td>17.0</td>\n",
              "      <td>17.0</td>\n",
              "      <td>17.0</td>\n",
              "      <td>0</td>\n",
              "      <td>2021-08-18</td>\n",
              "      <td>12500.0</td>\n",
              "      <td>13000.0</td>\n",
              "      <td>3.0</td>\n",
              "      <td>20.0</td>\n",
              "      <td>17.0</td>\n",
              "      <td>17.0</td>\n",
              "      <td>20.0</td>\n",
              "      <td>COVID - Sales naik, banyak permintaan produk/k...</td>\n",
              "      <td>2021-09-03</td>\n",
              "      <td>12200.0</td>\n",
              "      <td>13000.0</td>\n",
              "      <td>2.0</td>\n",
              "      <td>20.0</td>\n",
              "      <td>17.0</td>\n",
              "      <td>17.0</td>\n",
              "      <td>20.0</td>\n",
              "      <td>21.0</td>\n",
              "      <td>0</td>\n",
              "      <td>NaT</td>\n",
              "      <td>NaN</td>\n",
              "      <td>NaN</td>\n",
              "      <td>NaN</td>\n",
              "      <td>NaN</td>\n",
              "      <td>NaN</td>\n",
              "      <td>NaN</td>\n",
              "      <td>NaN</td>\n",
              "      <td>left_only</td>\n",
              "      <td>NaN</td>\n",
              "      <td>NaN</td>\n",
              "      <td>NaN</td>\n",
              "    </tr>\n",
              "    <tr>\n",
              "      <th>1</th>\n",
              "      <td>1610908Dji Sam Soe Soft Plain 12 Stc (Sktb)</td>\n",
              "      <td>1610908</td>\n",
              "      <td>8999909028234</td>\n",
              "      <td>Dji Sam Soe Soft Plain 12 Stc (Sktb)</td>\n",
              "      <td>2021-07-26</td>\n",
              "      <td>16500.0</td>\n",
              "      <td>18000.0</td>\n",
              "      <td>5.0</td>\n",
              "      <td>2021-08-03</td>\n",
              "      <td>16000.0</td>\n",
              "      <td>18000.0</td>\n",
              "      <td>10.0</td>\n",
              "      <td>10.0</td>\n",
              "      <td>NaN</td>\n",
              "      <td>2021-08-09</td>\n",
              "      <td>16000.0</td>\n",
              "      <td>18000.0</td>\n",
              "      <td>10.0</td>\n",
              "      <td>10.0</td>\n",
              "      <td>5.0</td>\n",
              "      <td>10.0</td>\n",
              "      <td>COVID - Sales naik, banyak permintaan produk/k...</td>\n",
              "      <td>2021-08-18</td>\n",
              "      <td>15850.0</td>\n",
              "      <td>18000.0</td>\n",
              "      <td>10.0</td>\n",
              "      <td>30.0</td>\n",
              "      <td>5.0</td>\n",
              "      <td>10.0</td>\n",
              "      <td>30.0</td>\n",
              "      <td>COVID - Sales naik, banyak permintaan produk/k...</td>\n",
              "      <td>2021-09-03</td>\n",
              "      <td>15900.0</td>\n",
              "      <td>18000.0</td>\n",
              "      <td>1.0</td>\n",
              "      <td>40.0</td>\n",
              "      <td>5.0</td>\n",
              "      <td>10.0</td>\n",
              "      <td>30.0</td>\n",
              "      <td>49.0</td>\n",
              "      <td>COVID - Sales naik, banyak permintaan produk/k...</td>\n",
              "      <td>NaT</td>\n",
              "      <td>NaN</td>\n",
              "      <td>NaN</td>\n",
              "      <td>NaN</td>\n",
              "      <td>NaN</td>\n",
              "      <td>NaN</td>\n",
              "      <td>NaN</td>\n",
              "      <td>NaN</td>\n",
              "      <td>left_only</td>\n",
              "      <td>NaN</td>\n",
              "      <td>NaN</td>\n",
              "      <td>NaN</td>\n",
              "    </tr>\n",
              "    <tr>\n",
              "      <th>2</th>\n",
              "      <td>1610908Panamas 1 Soft Plain 12 Stc (Sktb)</td>\n",
              "      <td>1610908</td>\n",
              "      <td>8999909039124</td>\n",
              "      <td>Panamas 1 Soft Plain 12 Stc (Sktb)</td>\n",
              "      <td>2021-07-26</td>\n",
              "      <td>12500.0</td>\n",
              "      <td>14000.0</td>\n",
              "      <td>10.0</td>\n",
              "      <td>2021-08-03</td>\n",
              "      <td>12500.0</td>\n",
              "      <td>14000.0</td>\n",
              "      <td>10.0</td>\n",
              "      <td>0.0</td>\n",
              "      <td>NaN</td>\n",
              "      <td>2021-08-09</td>\n",
              "      <td>12500.0</td>\n",
              "      <td>14000.0</td>\n",
              "      <td>10.0</td>\n",
              "      <td>10.0</td>\n",
              "      <td>0.0</td>\n",
              "      <td>10.0</td>\n",
              "      <td>COVID - Sales naik, banyak permintaan produk/k...</td>\n",
              "      <td>2021-08-18</td>\n",
              "      <td>12500.0</td>\n",
              "      <td>14000.0</td>\n",
              "      <td>10.0</td>\n",
              "      <td>60.0</td>\n",
              "      <td>0.0</td>\n",
              "      <td>10.0</td>\n",
              "      <td>60.0</td>\n",
              "      <td>COVID - Sales naik, banyak permintaan produk/k...</td>\n",
              "      <td>2021-09-03</td>\n",
              "      <td>12500.0</td>\n",
              "      <td>14000.0</td>\n",
              "      <td>1.0</td>\n",
              "      <td>10.0</td>\n",
              "      <td>0.0</td>\n",
              "      <td>10.0</td>\n",
              "      <td>60.0</td>\n",
              "      <td>19.0</td>\n",
              "      <td>COVID - Sales turun karena kekurangan pasokan</td>\n",
              "      <td>NaT</td>\n",
              "      <td>NaN</td>\n",
              "      <td>NaN</td>\n",
              "      <td>NaN</td>\n",
              "      <td>NaN</td>\n",
              "      <td>NaN</td>\n",
              "      <td>NaN</td>\n",
              "      <td>NaN</td>\n",
              "      <td>left_only</td>\n",
              "      <td>NaN</td>\n",
              "      <td>NaN</td>\n",
              "      <td>NaN</td>\n",
              "    </tr>\n",
              "    <tr>\n",
              "      <th>3</th>\n",
              "      <td>1610908Djarum Istimewa Soft Coklat Plain 12 St...</td>\n",
              "      <td>1610908</td>\n",
              "      <td>8991906101651</td>\n",
              "      <td>Djarum Istimewa Soft Coklat Plain 12 Stc (Sktb)</td>\n",
              "      <td>2021-07-26</td>\n",
              "      <td>12500.0</td>\n",
              "      <td>14000.0</td>\n",
              "      <td>10.0</td>\n",
              "      <td>2021-08-03</td>\n",
              "      <td>12500.0</td>\n",
              "      <td>14000.0</td>\n",
              "      <td>10.0</td>\n",
              "      <td>0.0</td>\n",
              "      <td>NaN</td>\n",
              "      <td>2021-08-09</td>\n",
              "      <td>12500.0</td>\n",
              "      <td>14000.0</td>\n",
              "      <td>10.0</td>\n",
              "      <td>10.0</td>\n",
              "      <td>0.0</td>\n",
              "      <td>10.0</td>\n",
              "      <td>COVID - Sales naik, banyak permintaan produk/k...</td>\n",
              "      <td>2021-08-18</td>\n",
              "      <td>12500.0</td>\n",
              "      <td>14000.0</td>\n",
              "      <td>10.0</td>\n",
              "      <td>30.0</td>\n",
              "      <td>0.0</td>\n",
              "      <td>10.0</td>\n",
              "      <td>30.0</td>\n",
              "      <td>COVID - Sales naik, banyak permintaan produk/k...</td>\n",
              "      <td>2021-09-03</td>\n",
              "      <td>12500.0</td>\n",
              "      <td>14000.0</td>\n",
              "      <td>1.0</td>\n",
              "      <td>10.0</td>\n",
              "      <td>0.0</td>\n",
              "      <td>10.0</td>\n",
              "      <td>30.0</td>\n",
              "      <td>19.0</td>\n",
              "      <td>COVID - Sales turun karena kekurangan pasokan</td>\n",
              "      <td>NaT</td>\n",
              "      <td>NaN</td>\n",
              "      <td>NaN</td>\n",
              "      <td>NaN</td>\n",
              "      <td>NaN</td>\n",
              "      <td>NaN</td>\n",
              "      <td>NaN</td>\n",
              "      <td>NaN</td>\n",
              "      <td>left_only</td>\n",
              "      <td>NaN</td>\n",
              "      <td>NaN</td>\n",
              "      <td>NaN</td>\n",
              "    </tr>\n",
              "    <tr>\n",
              "      <th>4</th>\n",
              "      <td>1610908Gudang Garam Red Soft Kspl 12 Stc (Sktb)</td>\n",
              "      <td>1610908</td>\n",
              "      <td>8998989501125</td>\n",
              "      <td>Gudang Garam Red Soft Kspl 12 Stc (Sktb)</td>\n",
              "      <td>2021-07-26</td>\n",
              "      <td>12500.0</td>\n",
              "      <td>14000.0</td>\n",
              "      <td>10.0</td>\n",
              "      <td>2021-08-03</td>\n",
              "      <td>12500.0</td>\n",
              "      <td>14000.0</td>\n",
              "      <td>10.0</td>\n",
              "      <td>0.0</td>\n",
              "      <td>NaN</td>\n",
              "      <td>2021-08-09</td>\n",
              "      <td>12500.0</td>\n",
              "      <td>14000.0</td>\n",
              "      <td>10.0</td>\n",
              "      <td>10.0</td>\n",
              "      <td>0.0</td>\n",
              "      <td>10.0</td>\n",
              "      <td>COVID - Sales naik, banyak permintaan produk/k...</td>\n",
              "      <td>2021-08-18</td>\n",
              "      <td>12150.0</td>\n",
              "      <td>14000.0</td>\n",
              "      <td>10.0</td>\n",
              "      <td>30.0</td>\n",
              "      <td>0.0</td>\n",
              "      <td>10.0</td>\n",
              "      <td>30.0</td>\n",
              "      <td>COVID - Sales naik, banyak permintaan produk/k...</td>\n",
              "      <td>2021-09-03</td>\n",
              "      <td>12500.0</td>\n",
              "      <td>14000.0</td>\n",
              "      <td>1.0</td>\n",
              "      <td>20.0</td>\n",
              "      <td>0.0</td>\n",
              "      <td>10.0</td>\n",
              "      <td>30.0</td>\n",
              "      <td>29.0</td>\n",
              "      <td>0</td>\n",
              "      <td>NaT</td>\n",
              "      <td>NaN</td>\n",
              "      <td>NaN</td>\n",
              "      <td>NaN</td>\n",
              "      <td>NaN</td>\n",
              "      <td>NaN</td>\n",
              "      <td>NaN</td>\n",
              "      <td>NaN</td>\n",
              "      <td>left_only</td>\n",
              "      <td>NaN</td>\n",
              "      <td>NaN</td>\n",
              "      <td>NaN</td>\n",
              "    </tr>\n",
              "  </tbody>\n",
              "</table>\n",
              "</div>"
            ],
            "text/plain": [
              "                                         Concatenate   SMS Id  ...  Sales_W3 Sales_W2\n",
              "0    1609986Gudang Garam Red Soft Kspl 12 Stc (Sktb)  1609986  ...       NaN      NaN\n",
              "1        1610908Dji Sam Soe Soft Plain 12 Stc (Sktb)  1610908  ...       NaN      NaN\n",
              "2          1610908Panamas 1 Soft Plain 12 Stc (Sktb)  1610908  ...       NaN      NaN\n",
              "3  1610908Djarum Istimewa Soft Coklat Plain 12 St...  1610908  ...       NaN      NaN\n",
              "4    1610908Gudang Garam Red Soft Kspl 12 Stc (Sktb)  1610908  ...       NaN      NaN\n",
              "\n",
              "[5 rows x 53 columns]"
            ]
          },
          "metadata": {},
          "execution_count": 824
        }
      ]
    },
    {
      "cell_type": "code",
      "metadata": {
        "colab": {
          "base_uri": "https://localhost:8080/"
        },
        "id": "wNIz0H-sPJ8L",
        "outputId": "cda4956f-bb0b-431b-a8af-031b5c03a3bc"
      },
      "source": [
        "df_merge = df_merge.drop('_merge', axis=1)\n",
        "df_merge.shape"
      ],
      "execution_count": 825,
      "outputs": [
        {
          "output_type": "execute_result",
          "data": {
            "text/plain": [
              "(6536, 52)"
            ]
          },
          "metadata": {},
          "execution_count": 825
        }
      ]
    },
    {
      "cell_type": "markdown",
      "metadata": {
        "id": "P1cvIqKiUc3J"
      },
      "source": [
        "# Perhitungan Sales"
      ]
    },
    {
      "cell_type": "code",
      "metadata": {
        "id": "UwDXFGQ6vzPy"
      },
      "source": [
        "# tambah mappingan type toko, Area, dan Item Product\n",
        "df_merge = pd.merge(df_merge, \n",
        "                    mapping_toko, \n",
        "                    on='SMS Id',\n",
        "                    how='left')\n",
        "df_merge = pd.merge(df_merge, \n",
        "                    item_mapping, \n",
        "                    on='Product Description',\n",
        "                    how='left')"
      ],
      "execution_count": 826,
      "outputs": []
    },
    {
      "cell_type": "markdown",
      "metadata": {
        "id": "duRrJsLuhdaA"
      },
      "source": [
        "## Perhitungan Elapsed Day"
      ]
    },
    {
      "cell_type": "code",
      "metadata": {
        "id": "tCuw6IXYkP_Z"
      },
      "source": [
        "df_merge = pd.merge(df_merge, \n",
        "                    visit_IA, \n",
        "                    on='SMS Id',\n",
        "                    how='left')\n",
        "df_merge = pd.merge(df_merge, \n",
        "                    visit_RA1, \n",
        "                    on='SMS Id',\n",
        "                    how='left')\n",
        "df_merge = pd.merge(df_merge, \n",
        "                    visit_RA2, \n",
        "                    on='SMS Id',\n",
        "                    how='left')\n",
        "df_merge = pd.merge(df_merge, \n",
        "                    visit_RA3, \n",
        "                    on='SMS Id',\n",
        "                    how='left')\n",
        "df_merge = pd.merge(df_merge, \n",
        "                    visit_RA4, \n",
        "                    on='SMS Id',\n",
        "                    how='left')\n",
        "df_merge = pd.merge(df_merge, \n",
        "                    visit_RA5, \n",
        "                    on='SMS Id',\n",
        "                    how='left')"
      ],
      "execution_count": 827,
      "outputs": []
    },
    {
      "cell_type": "code",
      "metadata": {
        "id": "RoCIavmcXHW8"
      },
      "source": [
        "df_merge['ED_RA1'] = df_merge['visit_RA1'] - df_merge['visit_IA']\n",
        "df_merge['ED_RA2'] = df_merge['visit_RA2'] - df_merge['visit_RA1']\n",
        "df_merge['ED_RA3'] = df_merge['visit_RA3'] - df_merge['visit_RA2']\n",
        "df_merge['ED_RA4'] = df_merge['visit_RA4'] - df_merge['visit_RA3']\n",
        "df_merge['ED_RA5'] = df_merge['visit_RA5'] - df_merge['visit_RA4']"
      ],
      "execution_count": 828,
      "outputs": []
    },
    {
      "cell_type": "code",
      "metadata": {
        "colab": {
          "base_uri": "https://localhost:8080/",
          "height": 591
        },
        "id": "fw_gZJZzfCll",
        "outputId": "09c314e8-5087-47fb-84df-29eeb79c5509"
      },
      "source": [
        "df_merge.head()"
      ],
      "execution_count": 829,
      "outputs": [
        {
          "output_type": "execute_result",
          "data": {
            "text/html": [
              "<div>\n",
              "<style scoped>\n",
              "    .dataframe tbody tr th:only-of-type {\n",
              "        vertical-align: middle;\n",
              "    }\n",
              "\n",
              "    .dataframe tbody tr th {\n",
              "        vertical-align: top;\n",
              "    }\n",
              "\n",
              "    .dataframe thead th {\n",
              "        text-align: right;\n",
              "    }\n",
              "</style>\n",
              "<table border=\"1\" class=\"dataframe\">\n",
              "  <thead>\n",
              "    <tr style=\"text-align: right;\">\n",
              "      <th></th>\n",
              "      <th>Concatenate</th>\n",
              "      <th>SMS Id</th>\n",
              "      <th>Bar Code</th>\n",
              "      <th>Product Description</th>\n",
              "      <th>IA</th>\n",
              "      <th>RBP_IA</th>\n",
              "      <th>RSP_IA</th>\n",
              "      <th>Stock_IA</th>\n",
              "      <th>RA1</th>\n",
              "      <th>RBP_RA1</th>\n",
              "      <th>RSP_RA1</th>\n",
              "      <th>Stock_RA1</th>\n",
              "      <th>Purchase_RA1</th>\n",
              "      <th>Sales</th>\n",
              "      <th>RA2</th>\n",
              "      <th>RBP_RA2</th>\n",
              "      <th>RSP_RA2</th>\n",
              "      <th>Stock_RA2</th>\n",
              "      <th>Purchase_RA2</th>\n",
              "      <th>Claimed_Sales_RA1(di_RA2)</th>\n",
              "      <th>Claimed_Sales_RA2(di_RA2)</th>\n",
              "      <th>Comment_RA2</th>\n",
              "      <th>RA3</th>\n",
              "      <th>RBP_RA3</th>\n",
              "      <th>RSP_RA3</th>\n",
              "      <th>Stock_RA3</th>\n",
              "      <th>Purchase_RA3</th>\n",
              "      <th>Claimed_Sales_RA1(di_RA3)</th>\n",
              "      <th>Claimed_Sales_RA2(di_RA3)</th>\n",
              "      <th>Claimed_Sales_RA3(di_RA3)</th>\n",
              "      <th>Comment_RA3</th>\n",
              "      <th>RA4</th>\n",
              "      <th>RBP_RA4</th>\n",
              "      <th>RSP_RA4</th>\n",
              "      <th>Stock_RA4</th>\n",
              "      <th>Purchase_RA4</th>\n",
              "      <th>Claimed_Sales_RA1(di_RA4)</th>\n",
              "      <th>Claimed_Sales_RA2(di_RA4)</th>\n",
              "      <th>Claimed_Sales_RA3(di_RA4)</th>\n",
              "      <th>Claimed_Sales_RA4(di_RA4)</th>\n",
              "      <th>Comment_RA4</th>\n",
              "      <th>RA5</th>\n",
              "      <th>RBP_RA5</th>\n",
              "      <th>RSP_RA5</th>\n",
              "      <th>Stock_RA5</th>\n",
              "      <th>Purchase_RA5</th>\n",
              "      <th>Claimed_Sales_RA3(di_RA5)</th>\n",
              "      <th>Claimed_Sales_RA4(di_RA5)</th>\n",
              "      <th>Comment_RA5</th>\n",
              "      <th>Claimed_Sales_RA5(di_RA5)</th>\n",
              "      <th>Sales_W3</th>\n",
              "      <th>Sales_W2</th>\n",
              "      <th>Type Toko</th>\n",
              "      <th>Area</th>\n",
              "      <th>Item</th>\n",
              "      <th>visit_IA</th>\n",
              "      <th>visit_RA1</th>\n",
              "      <th>visit_RA2</th>\n",
              "      <th>visit_RA3</th>\n",
              "      <th>visit_RA4</th>\n",
              "      <th>visit_RA5</th>\n",
              "      <th>ED_RA1</th>\n",
              "      <th>ED_RA2</th>\n",
              "      <th>ED_RA3</th>\n",
              "      <th>ED_RA4</th>\n",
              "      <th>ED_RA5</th>\n",
              "    </tr>\n",
              "  </thead>\n",
              "  <tbody>\n",
              "    <tr>\n",
              "      <th>0</th>\n",
              "      <td>1609986Gudang Garam Red Soft Kspl 12 Stc (Sktb)</td>\n",
              "      <td>1609986</td>\n",
              "      <td>8998989501125</td>\n",
              "      <td>Gudang Garam Red Soft Kspl 12 Stc (Sktb)</td>\n",
              "      <td>2021-07-26</td>\n",
              "      <td>12500.0</td>\n",
              "      <td>13000.0</td>\n",
              "      <td>20.0</td>\n",
              "      <td>2021-08-02</td>\n",
              "      <td>12500.0</td>\n",
              "      <td>13000.0</td>\n",
              "      <td>3.0</td>\n",
              "      <td>0.0</td>\n",
              "      <td>NaN</td>\n",
              "      <td>2021-08-10</td>\n",
              "      <td>12500.0</td>\n",
              "      <td>13000.0</td>\n",
              "      <td>3.0</td>\n",
              "      <td>17.0</td>\n",
              "      <td>17.0</td>\n",
              "      <td>17.0</td>\n",
              "      <td>0</td>\n",
              "      <td>2021-08-18</td>\n",
              "      <td>12500.0</td>\n",
              "      <td>13000.0</td>\n",
              "      <td>3.0</td>\n",
              "      <td>20.0</td>\n",
              "      <td>17.0</td>\n",
              "      <td>17.0</td>\n",
              "      <td>20.0</td>\n",
              "      <td>COVID - Sales naik, banyak permintaan produk/k...</td>\n",
              "      <td>2021-09-03</td>\n",
              "      <td>12200.0</td>\n",
              "      <td>13000.0</td>\n",
              "      <td>2.0</td>\n",
              "      <td>20.0</td>\n",
              "      <td>17.0</td>\n",
              "      <td>17.0</td>\n",
              "      <td>20.0</td>\n",
              "      <td>21.0</td>\n",
              "      <td>0</td>\n",
              "      <td>NaT</td>\n",
              "      <td>NaN</td>\n",
              "      <td>NaN</td>\n",
              "      <td>NaN</td>\n",
              "      <td>NaN</td>\n",
              "      <td>NaN</td>\n",
              "      <td>NaN</td>\n",
              "      <td>NaN</td>\n",
              "      <td>NaN</td>\n",
              "      <td>NaN</td>\n",
              "      <td>NaN</td>\n",
              "      <td>WARUNG MEDIUM</td>\n",
              "      <td>PALEMBANG</td>\n",
              "      <td>GG MERAH 12</td>\n",
              "      <td>2021-07-26</td>\n",
              "      <td>2021-08-02</td>\n",
              "      <td>2021-08-10</td>\n",
              "      <td>2021-08-18</td>\n",
              "      <td>2021-09-03</td>\n",
              "      <td>2021-09-15</td>\n",
              "      <td>7 days</td>\n",
              "      <td>8 days</td>\n",
              "      <td>8 days</td>\n",
              "      <td>16 days</td>\n",
              "      <td>12 days</td>\n",
              "    </tr>\n",
              "    <tr>\n",
              "      <th>1</th>\n",
              "      <td>1610908Dji Sam Soe Soft Plain 12 Stc (Sktb)</td>\n",
              "      <td>1610908</td>\n",
              "      <td>8999909028234</td>\n",
              "      <td>Dji Sam Soe Soft Plain 12 Stc (Sktb)</td>\n",
              "      <td>2021-07-26</td>\n",
              "      <td>16500.0</td>\n",
              "      <td>18000.0</td>\n",
              "      <td>5.0</td>\n",
              "      <td>2021-08-03</td>\n",
              "      <td>16000.0</td>\n",
              "      <td>18000.0</td>\n",
              "      <td>10.0</td>\n",
              "      <td>10.0</td>\n",
              "      <td>NaN</td>\n",
              "      <td>2021-08-09</td>\n",
              "      <td>16000.0</td>\n",
              "      <td>18000.0</td>\n",
              "      <td>10.0</td>\n",
              "      <td>10.0</td>\n",
              "      <td>5.0</td>\n",
              "      <td>10.0</td>\n",
              "      <td>COVID - Sales naik, banyak permintaan produk/k...</td>\n",
              "      <td>2021-08-18</td>\n",
              "      <td>15850.0</td>\n",
              "      <td>18000.0</td>\n",
              "      <td>10.0</td>\n",
              "      <td>30.0</td>\n",
              "      <td>5.0</td>\n",
              "      <td>10.0</td>\n",
              "      <td>30.0</td>\n",
              "      <td>COVID - Sales naik, banyak permintaan produk/k...</td>\n",
              "      <td>2021-09-03</td>\n",
              "      <td>15900.0</td>\n",
              "      <td>18000.0</td>\n",
              "      <td>1.0</td>\n",
              "      <td>40.0</td>\n",
              "      <td>5.0</td>\n",
              "      <td>10.0</td>\n",
              "      <td>30.0</td>\n",
              "      <td>49.0</td>\n",
              "      <td>COVID - Sales naik, banyak permintaan produk/k...</td>\n",
              "      <td>NaT</td>\n",
              "      <td>NaN</td>\n",
              "      <td>NaN</td>\n",
              "      <td>NaN</td>\n",
              "      <td>NaN</td>\n",
              "      <td>NaN</td>\n",
              "      <td>NaN</td>\n",
              "      <td>NaN</td>\n",
              "      <td>NaN</td>\n",
              "      <td>NaN</td>\n",
              "      <td>NaN</td>\n",
              "      <td>WARUNG MEDIUM</td>\n",
              "      <td>PALEMBANG</td>\n",
              "      <td>DSS 12</td>\n",
              "      <td>2021-07-26</td>\n",
              "      <td>2021-08-03</td>\n",
              "      <td>2021-08-09</td>\n",
              "      <td>2021-08-18</td>\n",
              "      <td>2021-09-03</td>\n",
              "      <td>2021-09-15</td>\n",
              "      <td>8 days</td>\n",
              "      <td>6 days</td>\n",
              "      <td>9 days</td>\n",
              "      <td>16 days</td>\n",
              "      <td>12 days</td>\n",
              "    </tr>\n",
              "    <tr>\n",
              "      <th>2</th>\n",
              "      <td>1610908Panamas 1 Soft Plain 12 Stc (Sktb)</td>\n",
              "      <td>1610908</td>\n",
              "      <td>8999909039124</td>\n",
              "      <td>Panamas 1 Soft Plain 12 Stc (Sktb)</td>\n",
              "      <td>2021-07-26</td>\n",
              "      <td>12500.0</td>\n",
              "      <td>14000.0</td>\n",
              "      <td>10.0</td>\n",
              "      <td>2021-08-03</td>\n",
              "      <td>12500.0</td>\n",
              "      <td>14000.0</td>\n",
              "      <td>10.0</td>\n",
              "      <td>0.0</td>\n",
              "      <td>NaN</td>\n",
              "      <td>2021-08-09</td>\n",
              "      <td>12500.0</td>\n",
              "      <td>14000.0</td>\n",
              "      <td>10.0</td>\n",
              "      <td>10.0</td>\n",
              "      <td>0.0</td>\n",
              "      <td>10.0</td>\n",
              "      <td>COVID - Sales naik, banyak permintaan produk/k...</td>\n",
              "      <td>2021-08-18</td>\n",
              "      <td>12500.0</td>\n",
              "      <td>14000.0</td>\n",
              "      <td>10.0</td>\n",
              "      <td>60.0</td>\n",
              "      <td>0.0</td>\n",
              "      <td>10.0</td>\n",
              "      <td>60.0</td>\n",
              "      <td>COVID - Sales naik, banyak permintaan produk/k...</td>\n",
              "      <td>2021-09-03</td>\n",
              "      <td>12500.0</td>\n",
              "      <td>14000.0</td>\n",
              "      <td>1.0</td>\n",
              "      <td>10.0</td>\n",
              "      <td>0.0</td>\n",
              "      <td>10.0</td>\n",
              "      <td>60.0</td>\n",
              "      <td>19.0</td>\n",
              "      <td>COVID - Sales turun karena kekurangan pasokan</td>\n",
              "      <td>NaT</td>\n",
              "      <td>NaN</td>\n",
              "      <td>NaN</td>\n",
              "      <td>NaN</td>\n",
              "      <td>NaN</td>\n",
              "      <td>NaN</td>\n",
              "      <td>NaN</td>\n",
              "      <td>NaN</td>\n",
              "      <td>NaN</td>\n",
              "      <td>NaN</td>\n",
              "      <td>NaN</td>\n",
              "      <td>WARUNG MEDIUM</td>\n",
              "      <td>PALEMBANG</td>\n",
              "      <td>PANAMAS 12</td>\n",
              "      <td>2021-07-26</td>\n",
              "      <td>2021-08-03</td>\n",
              "      <td>2021-08-09</td>\n",
              "      <td>2021-08-18</td>\n",
              "      <td>2021-09-03</td>\n",
              "      <td>2021-09-15</td>\n",
              "      <td>8 days</td>\n",
              "      <td>6 days</td>\n",
              "      <td>9 days</td>\n",
              "      <td>16 days</td>\n",
              "      <td>12 days</td>\n",
              "    </tr>\n",
              "    <tr>\n",
              "      <th>3</th>\n",
              "      <td>1610908Djarum Istimewa Soft Coklat Plain 12 St...</td>\n",
              "      <td>1610908</td>\n",
              "      <td>8991906101651</td>\n",
              "      <td>Djarum Istimewa Soft Coklat Plain 12 Stc (Sktb)</td>\n",
              "      <td>2021-07-26</td>\n",
              "      <td>12500.0</td>\n",
              "      <td>14000.0</td>\n",
              "      <td>10.0</td>\n",
              "      <td>2021-08-03</td>\n",
              "      <td>12500.0</td>\n",
              "      <td>14000.0</td>\n",
              "      <td>10.0</td>\n",
              "      <td>0.0</td>\n",
              "      <td>NaN</td>\n",
              "      <td>2021-08-09</td>\n",
              "      <td>12500.0</td>\n",
              "      <td>14000.0</td>\n",
              "      <td>10.0</td>\n",
              "      <td>10.0</td>\n",
              "      <td>0.0</td>\n",
              "      <td>10.0</td>\n",
              "      <td>COVID - Sales naik, banyak permintaan produk/k...</td>\n",
              "      <td>2021-08-18</td>\n",
              "      <td>12500.0</td>\n",
              "      <td>14000.0</td>\n",
              "      <td>10.0</td>\n",
              "      <td>30.0</td>\n",
              "      <td>0.0</td>\n",
              "      <td>10.0</td>\n",
              "      <td>30.0</td>\n",
              "      <td>COVID - Sales naik, banyak permintaan produk/k...</td>\n",
              "      <td>2021-09-03</td>\n",
              "      <td>12500.0</td>\n",
              "      <td>14000.0</td>\n",
              "      <td>1.0</td>\n",
              "      <td>10.0</td>\n",
              "      <td>0.0</td>\n",
              "      <td>10.0</td>\n",
              "      <td>30.0</td>\n",
              "      <td>19.0</td>\n",
              "      <td>COVID - Sales turun karena kekurangan pasokan</td>\n",
              "      <td>NaT</td>\n",
              "      <td>NaN</td>\n",
              "      <td>NaN</td>\n",
              "      <td>NaN</td>\n",
              "      <td>NaN</td>\n",
              "      <td>NaN</td>\n",
              "      <td>NaN</td>\n",
              "      <td>NaN</td>\n",
              "      <td>NaN</td>\n",
              "      <td>NaN</td>\n",
              "      <td>NaN</td>\n",
              "      <td>WARUNG MEDIUM</td>\n",
              "      <td>PALEMBANG</td>\n",
              "      <td>DJARUM ISTIMEWA 12</td>\n",
              "      <td>2021-07-26</td>\n",
              "      <td>2021-08-03</td>\n",
              "      <td>2021-08-09</td>\n",
              "      <td>2021-08-18</td>\n",
              "      <td>2021-09-03</td>\n",
              "      <td>2021-09-15</td>\n",
              "      <td>8 days</td>\n",
              "      <td>6 days</td>\n",
              "      <td>9 days</td>\n",
              "      <td>16 days</td>\n",
              "      <td>12 days</td>\n",
              "    </tr>\n",
              "    <tr>\n",
              "      <th>4</th>\n",
              "      <td>1610908Gudang Garam Red Soft Kspl 12 Stc (Sktb)</td>\n",
              "      <td>1610908</td>\n",
              "      <td>8998989501125</td>\n",
              "      <td>Gudang Garam Red Soft Kspl 12 Stc (Sktb)</td>\n",
              "      <td>2021-07-26</td>\n",
              "      <td>12500.0</td>\n",
              "      <td>14000.0</td>\n",
              "      <td>10.0</td>\n",
              "      <td>2021-08-03</td>\n",
              "      <td>12500.0</td>\n",
              "      <td>14000.0</td>\n",
              "      <td>10.0</td>\n",
              "      <td>0.0</td>\n",
              "      <td>NaN</td>\n",
              "      <td>2021-08-09</td>\n",
              "      <td>12500.0</td>\n",
              "      <td>14000.0</td>\n",
              "      <td>10.0</td>\n",
              "      <td>10.0</td>\n",
              "      <td>0.0</td>\n",
              "      <td>10.0</td>\n",
              "      <td>COVID - Sales naik, banyak permintaan produk/k...</td>\n",
              "      <td>2021-08-18</td>\n",
              "      <td>12150.0</td>\n",
              "      <td>14000.0</td>\n",
              "      <td>10.0</td>\n",
              "      <td>30.0</td>\n",
              "      <td>0.0</td>\n",
              "      <td>10.0</td>\n",
              "      <td>30.0</td>\n",
              "      <td>COVID - Sales naik, banyak permintaan produk/k...</td>\n",
              "      <td>2021-09-03</td>\n",
              "      <td>12500.0</td>\n",
              "      <td>14000.0</td>\n",
              "      <td>1.0</td>\n",
              "      <td>20.0</td>\n",
              "      <td>0.0</td>\n",
              "      <td>10.0</td>\n",
              "      <td>30.0</td>\n",
              "      <td>29.0</td>\n",
              "      <td>0</td>\n",
              "      <td>NaT</td>\n",
              "      <td>NaN</td>\n",
              "      <td>NaN</td>\n",
              "      <td>NaN</td>\n",
              "      <td>NaN</td>\n",
              "      <td>NaN</td>\n",
              "      <td>NaN</td>\n",
              "      <td>NaN</td>\n",
              "      <td>NaN</td>\n",
              "      <td>NaN</td>\n",
              "      <td>NaN</td>\n",
              "      <td>WARUNG MEDIUM</td>\n",
              "      <td>PALEMBANG</td>\n",
              "      <td>GG MERAH 12</td>\n",
              "      <td>2021-07-26</td>\n",
              "      <td>2021-08-03</td>\n",
              "      <td>2021-08-09</td>\n",
              "      <td>2021-08-18</td>\n",
              "      <td>2021-09-03</td>\n",
              "      <td>2021-09-15</td>\n",
              "      <td>8 days</td>\n",
              "      <td>6 days</td>\n",
              "      <td>9 days</td>\n",
              "      <td>16 days</td>\n",
              "      <td>12 days</td>\n",
              "    </tr>\n",
              "  </tbody>\n",
              "</table>\n",
              "</div>"
            ],
            "text/plain": [
              "                                         Concatenate   SMS Id  ...  ED_RA4  ED_RA5\n",
              "0    1609986Gudang Garam Red Soft Kspl 12 Stc (Sktb)  1609986  ... 16 days 12 days\n",
              "1        1610908Dji Sam Soe Soft Plain 12 Stc (Sktb)  1610908  ... 16 days 12 days\n",
              "2          1610908Panamas 1 Soft Plain 12 Stc (Sktb)  1610908  ... 16 days 12 days\n",
              "3  1610908Djarum Istimewa Soft Coklat Plain 12 St...  1610908  ... 16 days 12 days\n",
              "4    1610908Gudang Garam Red Soft Kspl 12 Stc (Sktb)  1610908  ... 16 days 12 days\n",
              "\n",
              "[5 rows x 66 columns]"
            ]
          },
          "metadata": {},
          "execution_count": 829
        }
      ]
    },
    {
      "cell_type": "markdown",
      "metadata": {
        "id": "nlzbZg1EhjZx"
      },
      "source": [
        "## Perhitungan Sales dengan Elapsed Day"
      ]
    },
    {
      "cell_type": "code",
      "metadata": {
        "id": "3MTd8DzmyeG6"
      },
      "source": [
        "oneday = pd.Timedelta(days=1)"
      ],
      "execution_count": 830,
      "outputs": []
    },
    {
      "cell_type": "code",
      "metadata": {
        "colab": {
          "base_uri": "https://localhost:8080/",
          "height": 70
        },
        "id": "MkIL3qA_3FPh",
        "outputId": "78e3089f-e73c-4633-a556-0c35ed77d0c9"
      },
      "source": [
        "# Merekap data Claimed Sales dari RA1 s/d RA4\n",
        "df_merge['Claimed_Sales_RA1'] = np.where(df_merge['Claimed_Sales_RA1(di_RA4)']>0, df_merge['Claimed_Sales_RA1(di_RA4)'],\n",
        "                                         np.where(df_merge['Claimed_Sales_RA1(di_RA3)']>0, df_merge['Claimed_Sales_RA1(di_RA3)'],\n",
        "                                                   np.where(df_merge['Claimed_Sales_RA1(di_RA2)']>0, df_merge['Claimed_Sales_RA1(di_RA2)'], np.nan)))\n",
        "df_merge['Claimed_Sales_RA2'] = np.where(df_merge['Claimed_Sales_RA2(di_RA4)']>0, df_merge['Claimed_Sales_RA2(di_RA4)'],\n",
        "                                          np.where(df_merge['Claimed_Sales_RA2(di_RA3)']>0, df_merge['Claimed_Sales_RA2(di_RA3)'],\n",
        "                                                   np.where(df_merge['Claimed_Sales_RA2(di_RA2)']>0, df_merge['Claimed_Sales_RA2(di_RA2)'], np.nan)))\n",
        "df_merge['Claimed_Sales_RA3'] = np.where(df_merge['Claimed_Sales_RA3(di_RA4)']>0, df_merge['Claimed_Sales_RA3(di_RA4)'],\n",
        "                                         np.where(df_merge['Claimed_Sales_RA3(di_RA3)']>0, df_merge['Claimed_Sales_RA3(di_RA3)'],\n",
        "                                                  np.where(df_merge['Claimed_Sales_RA3(di_RA5)']>0, df_merge['Claimed_Sales_RA3(di_RA5)'], np.nan)))\n",
        "df_merge['Claimed_Sales_RA4'] = np.where(df_merge['Claimed_Sales_RA4(di_RA4)']>0, df_merge['Claimed_Sales_RA4(di_RA4)'], \n",
        "                                         np.where(df_merge['Claimed_Sales_RA4(di_RA5)']>0, df_merge['Claimed_Sales_RA4(di_RA5)'], np.nan))\n",
        "df_merge['Claimed_Sales_RA5'] = np.where(df_merge['Claimed_Sales_RA5(di_RA5)']>0, df_merge['Claimed_Sales_RA5(di_RA5)'], np.nan)\n",
        "\n",
        "\n",
        "'''df_merge = df_merge.drop(['Claimed_Sales_RA1(di_RA2)','Claimed_Sales_RA2(di_RA2)',\n",
        "                          'Claimed_Sales_RA1(di_RA3)','Claimed_Sales_RA2(di_RA3)','Claimed_Sales_RA3(di_RA3)',\n",
        "                          'Claimed_Sales_RA1(di_RA4)','Claimed_Sales_RA2(di_RA4)','Claimed_Sales_RA3(di_RA4)','Claimed_Sales_RA4(di_RA4)'], \n",
        "                         axis=1)'''"
      ],
      "execution_count": 831,
      "outputs": [
        {
          "output_type": "execute_result",
          "data": {
            "application/vnd.google.colaboratory.intrinsic+json": {
              "type": "string"
            },
            "text/plain": [
              "\"df_merge = df_merge.drop(['Claimed_Sales_RA1(di_RA2)','Claimed_Sales_RA2(di_RA2)',\\n                          'Claimed_Sales_RA1(di_RA3)','Claimed_Sales_RA2(di_RA3)','Claimed_Sales_RA3(di_RA3)',\\n                          'Claimed_Sales_RA1(di_RA4)','Claimed_Sales_RA2(di_RA4)','Claimed_Sales_RA3(di_RA4)','Claimed_Sales_RA4(di_RA4)'], \\n                         axis=1)\""
            ]
          },
          "metadata": {},
          "execution_count": 831
        }
      ]
    },
    {
      "cell_type": "code",
      "metadata": {
        "id": "4fyQL0Eoyh7i"
      },
      "source": [
        "# Merubah bentuk time ke bilangan\n",
        "df_merge['ED_RA1'] = df_merge['ED_RA1']/oneday\n",
        "df_merge['ED_RA2'] = df_merge['ED_RA2']/oneday\n",
        "df_merge['ED_RA3'] = df_merge['ED_RA3']/oneday\n",
        "df_merge['ED_RA4'] = df_merge['ED_RA4']/oneday\n",
        "df_merge['ED_RA5'] = df_merge['ED_RA5']/oneday"
      ],
      "execution_count": 832,
      "outputs": []
    },
    {
      "cell_type": "code",
      "metadata": {
        "id": "rK0I9SL915sa"
      },
      "source": [
        "# Replace Elapsed Day yang NA dengan nol\n",
        "df_merge['ED_RA1'] = df_merge['ED_RA1'].fillna(0)\n",
        "df_merge['ED_RA2'] = df_merge['ED_RA2'].fillna(0)\n",
        "df_merge['ED_RA3'] = df_merge['ED_RA3'].fillna(0)\n",
        "df_merge['ED_RA4'] = df_merge['ED_RA4'].fillna(0)\n",
        "df_merge['ED_RA5'] = df_merge['ED_RA5'].fillna(0)"
      ],
      "execution_count": 833,
      "outputs": []
    },
    {
      "cell_type": "code",
      "metadata": {
        "id": "vG80_ixSVIta"
      },
      "source": [
        "df_merge['Sales_RA1'] = np.where(df_merge['ED_RA1']!=0, round((df_merge['Stock_IA']+df_merge['Purchase_RA1']-df_merge['Stock_RA1'])/df_merge['ED_RA1']*7), df_merge['Claimed_Sales_RA1'])\n",
        "df_merge['Sales_RA2'] = np.where(df_merge['ED_RA2']!=0, round((df_merge['Stock_RA1']+df_merge['Purchase_RA2']-df_merge['Stock_RA2'])/df_merge['ED_RA2']*7), df_merge['Claimed_Sales_RA2'])\n",
        "df_merge['Sales_RA3'] = np.where(df_merge['ED_RA3']!=0, round((df_merge['Stock_RA2']+df_merge['Purchase_RA3']-df_merge['Stock_RA3'])/df_merge['ED_RA3']*7), df_merge['Claimed_Sales_RA3'])\n",
        "df_merge['Sales_RA4'] = np.where(df_merge['ED_RA4']!=0, round((df_merge['Stock_RA3']+df_merge['Purchase_RA4']-df_merge['Stock_RA4'])/df_merge['ED_RA4']*14), df_merge['Claimed_Sales_RA4'])\n",
        "df_merge['Sales_RA5'] = np.where(df_merge['ED_RA5']!=0, round((df_merge['Stock_RA4']+df_merge['Purchase_RA5']-df_merge['Stock_RA5'])/df_merge['ED_RA5']*14), df_merge['Claimed_Sales_RA5'])"
      ],
      "execution_count": 845,
      "outputs": []
    },
    {
      "cell_type": "code",
      "metadata": {
        "colab": {
          "base_uri": "https://localhost:8080/",
          "height": 503
        },
        "id": "BLitnOog9ORk",
        "outputId": "95c8cda7-ce03-419e-f910-0a3bca4409c1"
      },
      "source": [
        "df_merge[df_merge['visit_RA1'].isna()].head()"
      ],
      "execution_count": 835,
      "outputs": [
        {
          "output_type": "execute_result",
          "data": {
            "text/html": [
              "<div>\n",
              "<style scoped>\n",
              "    .dataframe tbody tr th:only-of-type {\n",
              "        vertical-align: middle;\n",
              "    }\n",
              "\n",
              "    .dataframe tbody tr th {\n",
              "        vertical-align: top;\n",
              "    }\n",
              "\n",
              "    .dataframe thead th {\n",
              "        text-align: right;\n",
              "    }\n",
              "</style>\n",
              "<table border=\"1\" class=\"dataframe\">\n",
              "  <thead>\n",
              "    <tr style=\"text-align: right;\">\n",
              "      <th></th>\n",
              "      <th>Concatenate</th>\n",
              "      <th>SMS Id</th>\n",
              "      <th>Bar Code</th>\n",
              "      <th>Product Description</th>\n",
              "      <th>IA</th>\n",
              "      <th>RBP_IA</th>\n",
              "      <th>RSP_IA</th>\n",
              "      <th>Stock_IA</th>\n",
              "      <th>RA1</th>\n",
              "      <th>RBP_RA1</th>\n",
              "      <th>RSP_RA1</th>\n",
              "      <th>Stock_RA1</th>\n",
              "      <th>Purchase_RA1</th>\n",
              "      <th>Sales</th>\n",
              "      <th>RA2</th>\n",
              "      <th>RBP_RA2</th>\n",
              "      <th>RSP_RA2</th>\n",
              "      <th>Stock_RA2</th>\n",
              "      <th>Purchase_RA2</th>\n",
              "      <th>Claimed_Sales_RA1(di_RA2)</th>\n",
              "      <th>Claimed_Sales_RA2(di_RA2)</th>\n",
              "      <th>Comment_RA2</th>\n",
              "      <th>RA3</th>\n",
              "      <th>RBP_RA3</th>\n",
              "      <th>RSP_RA3</th>\n",
              "      <th>Stock_RA3</th>\n",
              "      <th>Purchase_RA3</th>\n",
              "      <th>Claimed_Sales_RA1(di_RA3)</th>\n",
              "      <th>Claimed_Sales_RA2(di_RA3)</th>\n",
              "      <th>Claimed_Sales_RA3(di_RA3)</th>\n",
              "      <th>Comment_RA3</th>\n",
              "      <th>RA4</th>\n",
              "      <th>RBP_RA4</th>\n",
              "      <th>RSP_RA4</th>\n",
              "      <th>Stock_RA4</th>\n",
              "      <th>Purchase_RA4</th>\n",
              "      <th>Claimed_Sales_RA1(di_RA4)</th>\n",
              "      <th>Claimed_Sales_RA2(di_RA4)</th>\n",
              "      <th>Claimed_Sales_RA3(di_RA4)</th>\n",
              "      <th>Claimed_Sales_RA4(di_RA4)</th>\n",
              "      <th>Comment_RA4</th>\n",
              "      <th>RA5</th>\n",
              "      <th>RBP_RA5</th>\n",
              "      <th>RSP_RA5</th>\n",
              "      <th>Stock_RA5</th>\n",
              "      <th>Purchase_RA5</th>\n",
              "      <th>Claimed_Sales_RA3(di_RA5)</th>\n",
              "      <th>Claimed_Sales_RA4(di_RA5)</th>\n",
              "      <th>Comment_RA5</th>\n",
              "      <th>Claimed_Sales_RA5(di_RA5)</th>\n",
              "      <th>Sales_W3</th>\n",
              "      <th>Sales_W2</th>\n",
              "      <th>Type Toko</th>\n",
              "      <th>Area</th>\n",
              "      <th>Item</th>\n",
              "      <th>visit_IA</th>\n",
              "      <th>visit_RA1</th>\n",
              "      <th>visit_RA2</th>\n",
              "      <th>visit_RA3</th>\n",
              "      <th>visit_RA4</th>\n",
              "      <th>visit_RA5</th>\n",
              "      <th>ED_RA1</th>\n",
              "      <th>ED_RA2</th>\n",
              "      <th>ED_RA3</th>\n",
              "      <th>ED_RA4</th>\n",
              "      <th>ED_RA5</th>\n",
              "      <th>Claimed_Sales_RA1</th>\n",
              "      <th>Claimed_Sales_RA2</th>\n",
              "      <th>Claimed_Sales_RA3</th>\n",
              "      <th>Claimed_Sales_RA4</th>\n",
              "      <th>Claimed_Sales_RA5</th>\n",
              "      <th>Sales_RA1</th>\n",
              "      <th>Sales_RA2</th>\n",
              "      <th>Sales_RA3</th>\n",
              "      <th>Sales_RA4</th>\n",
              "    </tr>\n",
              "  </thead>\n",
              "  <tbody>\n",
              "    <tr>\n",
              "      <th>847</th>\n",
              "      <td>1610126Minak Djinggo Kuning Soft Plain 10 Stc ...</td>\n",
              "      <td>1610126</td>\n",
              "      <td>8993989111008</td>\n",
              "      <td>Minak Djinggo Kuning Soft Plain 10 Stc (Sktb)</td>\n",
              "      <td>2021-07-26</td>\n",
              "      <td>8000.0</td>\n",
              "      <td>10000.0</td>\n",
              "      <td>3.0</td>\n",
              "      <td>NaT</td>\n",
              "      <td>NaN</td>\n",
              "      <td>NaN</td>\n",
              "      <td>NaN</td>\n",
              "      <td>NaN</td>\n",
              "      <td>NaN</td>\n",
              "      <td>2021-08-10</td>\n",
              "      <td>8000.0</td>\n",
              "      <td>10000.0</td>\n",
              "      <td>3.0</td>\n",
              "      <td>0.0</td>\n",
              "      <td>0.0</td>\n",
              "      <td>0.0</td>\n",
              "      <td>minggu lalu NA</td>\n",
              "      <td>2021-08-17</td>\n",
              "      <td>8000.0</td>\n",
              "      <td>10000.0</td>\n",
              "      <td>3.0</td>\n",
              "      <td>30.0</td>\n",
              "      <td>5.0</td>\n",
              "      <td>10.0</td>\n",
              "      <td>30.0</td>\n",
              "      <td>W3 10</td>\n",
              "      <td>2021-09-04</td>\n",
              "      <td>8000.0</td>\n",
              "      <td>9000.0</td>\n",
              "      <td>20.0</td>\n",
              "      <td>50.0</td>\n",
              "      <td>5.0</td>\n",
              "      <td>10.0</td>\n",
              "      <td>30.0</td>\n",
              "      <td>33.0</td>\n",
              "      <td>0</td>\n",
              "      <td>NaT</td>\n",
              "      <td>NaN</td>\n",
              "      <td>NaN</td>\n",
              "      <td>NaN</td>\n",
              "      <td>NaN</td>\n",
              "      <td>NaN</td>\n",
              "      <td>NaN</td>\n",
              "      <td>NaN</td>\n",
              "      <td>NaN</td>\n",
              "      <td>NaN</td>\n",
              "      <td>NaN</td>\n",
              "      <td>WARUNG MEDIUM</td>\n",
              "      <td>KARAWANG</td>\n",
              "      <td>MINAK DJINGGO 10</td>\n",
              "      <td>2021-07-26</td>\n",
              "      <td>NaT</td>\n",
              "      <td>2021-08-10</td>\n",
              "      <td>2021-08-17</td>\n",
              "      <td>2021-09-04</td>\n",
              "      <td>2021-09-18</td>\n",
              "      <td>0.0</td>\n",
              "      <td>0.0</td>\n",
              "      <td>7.0</td>\n",
              "      <td>18.0</td>\n",
              "      <td>14.0</td>\n",
              "      <td>5.0</td>\n",
              "      <td>10.0</td>\n",
              "      <td>30.0</td>\n",
              "      <td>33.0</td>\n",
              "      <td>NaN</td>\n",
              "      <td>5.0</td>\n",
              "      <td>10.0</td>\n",
              "      <td>30.0</td>\n",
              "      <td>NaN</td>\n",
              "    </tr>\n",
              "    <tr>\n",
              "      <th>848</th>\n",
              "      <td>1610126Djarum Coklat Soft Plain 12 Stc (Sktb)</td>\n",
              "      <td>1610126</td>\n",
              "      <td>8991906101644</td>\n",
              "      <td>Djarum Coklat Soft Plain 12 Stc (Sktb)</td>\n",
              "      <td>2021-07-26</td>\n",
              "      <td>13500.0</td>\n",
              "      <td>15000.0</td>\n",
              "      <td>8.0</td>\n",
              "      <td>NaT</td>\n",
              "      <td>NaN</td>\n",
              "      <td>NaN</td>\n",
              "      <td>NaN</td>\n",
              "      <td>NaN</td>\n",
              "      <td>NaN</td>\n",
              "      <td>2021-08-10</td>\n",
              "      <td>13500.0</td>\n",
              "      <td>15000.0</td>\n",
              "      <td>8.0</td>\n",
              "      <td>0.0</td>\n",
              "      <td>0.0</td>\n",
              "      <td>0.0</td>\n",
              "      <td>minggu lalu NA</td>\n",
              "      <td>2021-08-17</td>\n",
              "      <td>13500.0</td>\n",
              "      <td>15000.0</td>\n",
              "      <td>8.0</td>\n",
              "      <td>40.0</td>\n",
              "      <td>10.0</td>\n",
              "      <td>20.0</td>\n",
              "      <td>40.0</td>\n",
              "      <td>W3 20</td>\n",
              "      <td>2021-09-04</td>\n",
              "      <td>13000.0</td>\n",
              "      <td>14000.0</td>\n",
              "      <td>20.0</td>\n",
              "      <td>60.0</td>\n",
              "      <td>10.0</td>\n",
              "      <td>20.0</td>\n",
              "      <td>40.0</td>\n",
              "      <td>48.0</td>\n",
              "      <td>S4U: Pelanggan Baru</td>\n",
              "      <td>NaT</td>\n",
              "      <td>NaN</td>\n",
              "      <td>NaN</td>\n",
              "      <td>NaN</td>\n",
              "      <td>NaN</td>\n",
              "      <td>NaN</td>\n",
              "      <td>NaN</td>\n",
              "      <td>NaN</td>\n",
              "      <td>NaN</td>\n",
              "      <td>NaN</td>\n",
              "      <td>NaN</td>\n",
              "      <td>WARUNG MEDIUM</td>\n",
              "      <td>KARAWANG</td>\n",
              "      <td>DJARUM COKLAT 12</td>\n",
              "      <td>2021-07-26</td>\n",
              "      <td>NaT</td>\n",
              "      <td>2021-08-10</td>\n",
              "      <td>2021-08-17</td>\n",
              "      <td>2021-09-04</td>\n",
              "      <td>2021-09-18</td>\n",
              "      <td>0.0</td>\n",
              "      <td>0.0</td>\n",
              "      <td>7.0</td>\n",
              "      <td>18.0</td>\n",
              "      <td>14.0</td>\n",
              "      <td>10.0</td>\n",
              "      <td>20.0</td>\n",
              "      <td>40.0</td>\n",
              "      <td>48.0</td>\n",
              "      <td>NaN</td>\n",
              "      <td>10.0</td>\n",
              "      <td>20.0</td>\n",
              "      <td>40.0</td>\n",
              "      <td>NaN</td>\n",
              "    </tr>\n",
              "    <tr>\n",
              "      <th>849</th>\n",
              "      <td>1610126Dji Sam Soe Soft Plain 12 Stc (Sktb)</td>\n",
              "      <td>1610126</td>\n",
              "      <td>8999909028234</td>\n",
              "      <td>Dji Sam Soe Soft Plain 12 Stc (Sktb)</td>\n",
              "      <td>2021-07-26</td>\n",
              "      <td>16000.0</td>\n",
              "      <td>18000.0</td>\n",
              "      <td>15.0</td>\n",
              "      <td>NaT</td>\n",
              "      <td>NaN</td>\n",
              "      <td>NaN</td>\n",
              "      <td>NaN</td>\n",
              "      <td>NaN</td>\n",
              "      <td>NaN</td>\n",
              "      <td>2021-08-10</td>\n",
              "      <td>16000.0</td>\n",
              "      <td>18000.0</td>\n",
              "      <td>15.0</td>\n",
              "      <td>0.0</td>\n",
              "      <td>0.0</td>\n",
              "      <td>0.0</td>\n",
              "      <td>minggu lalu NA</td>\n",
              "      <td>2021-08-17</td>\n",
              "      <td>16000.0</td>\n",
              "      <td>18000.0</td>\n",
              "      <td>15.0</td>\n",
              "      <td>60.0</td>\n",
              "      <td>20.0</td>\n",
              "      <td>30.0</td>\n",
              "      <td>60.0</td>\n",
              "      <td>W3 30</td>\n",
              "      <td>2021-09-04</td>\n",
              "      <td>15900.0</td>\n",
              "      <td>17500.0</td>\n",
              "      <td>45.0</td>\n",
              "      <td>100.0</td>\n",
              "      <td>20.0</td>\n",
              "      <td>30.0</td>\n",
              "      <td>60.0</td>\n",
              "      <td>70.0</td>\n",
              "      <td>S4U: Pelanggan Baru</td>\n",
              "      <td>NaT</td>\n",
              "      <td>NaN</td>\n",
              "      <td>NaN</td>\n",
              "      <td>NaN</td>\n",
              "      <td>NaN</td>\n",
              "      <td>NaN</td>\n",
              "      <td>NaN</td>\n",
              "      <td>NaN</td>\n",
              "      <td>NaN</td>\n",
              "      <td>NaN</td>\n",
              "      <td>NaN</td>\n",
              "      <td>WARUNG MEDIUM</td>\n",
              "      <td>KARAWANG</td>\n",
              "      <td>DSS 12</td>\n",
              "      <td>2021-07-26</td>\n",
              "      <td>NaT</td>\n",
              "      <td>2021-08-10</td>\n",
              "      <td>2021-08-17</td>\n",
              "      <td>2021-09-04</td>\n",
              "      <td>2021-09-18</td>\n",
              "      <td>0.0</td>\n",
              "      <td>0.0</td>\n",
              "      <td>7.0</td>\n",
              "      <td>18.0</td>\n",
              "      <td>14.0</td>\n",
              "      <td>20.0</td>\n",
              "      <td>30.0</td>\n",
              "      <td>60.0</td>\n",
              "      <td>70.0</td>\n",
              "      <td>NaN</td>\n",
              "      <td>20.0</td>\n",
              "      <td>30.0</td>\n",
              "      <td>60.0</td>\n",
              "      <td>NaN</td>\n",
              "    </tr>\n",
              "    <tr>\n",
              "      <th>850</th>\n",
              "      <td>1610126Gudang Garam Red Soft Kspl 12 Stc (Sktb)</td>\n",
              "      <td>1610126</td>\n",
              "      <td>8998989501125</td>\n",
              "      <td>Gudang Garam Red Soft Kspl 12 Stc (Sktb)</td>\n",
              "      <td>2021-07-26</td>\n",
              "      <td>12600.0</td>\n",
              "      <td>14000.0</td>\n",
              "      <td>10.0</td>\n",
              "      <td>NaT</td>\n",
              "      <td>NaN</td>\n",
              "      <td>NaN</td>\n",
              "      <td>NaN</td>\n",
              "      <td>NaN</td>\n",
              "      <td>NaN</td>\n",
              "      <td>2021-08-10</td>\n",
              "      <td>12600.0</td>\n",
              "      <td>14000.0</td>\n",
              "      <td>10.0</td>\n",
              "      <td>0.0</td>\n",
              "      <td>0.0</td>\n",
              "      <td>0.0</td>\n",
              "      <td>Minggu lalu NA</td>\n",
              "      <td>2021-08-17</td>\n",
              "      <td>12600.0</td>\n",
              "      <td>14000.0</td>\n",
              "      <td>10.0</td>\n",
              "      <td>0.0</td>\n",
              "      <td>10.0</td>\n",
              "      <td>0.0</td>\n",
              "      <td>0.0</td>\n",
              "      <td>0</td>\n",
              "      <td>2021-09-04</td>\n",
              "      <td>12200.0</td>\n",
              "      <td>14000.0</td>\n",
              "      <td>50.0</td>\n",
              "      <td>100.0</td>\n",
              "      <td>10.0</td>\n",
              "      <td>0.0</td>\n",
              "      <td>0.0</td>\n",
              "      <td>60.0</td>\n",
              "      <td>baru belanaj</td>\n",
              "      <td>NaT</td>\n",
              "      <td>NaN</td>\n",
              "      <td>NaN</td>\n",
              "      <td>NaN</td>\n",
              "      <td>NaN</td>\n",
              "      <td>NaN</td>\n",
              "      <td>NaN</td>\n",
              "      <td>NaN</td>\n",
              "      <td>NaN</td>\n",
              "      <td>NaN</td>\n",
              "      <td>NaN</td>\n",
              "      <td>WARUNG MEDIUM</td>\n",
              "      <td>KARAWANG</td>\n",
              "      <td>GG MERAH 12</td>\n",
              "      <td>2021-07-26</td>\n",
              "      <td>NaT</td>\n",
              "      <td>2021-08-10</td>\n",
              "      <td>2021-08-17</td>\n",
              "      <td>2021-09-04</td>\n",
              "      <td>2021-09-18</td>\n",
              "      <td>0.0</td>\n",
              "      <td>0.0</td>\n",
              "      <td>7.0</td>\n",
              "      <td>18.0</td>\n",
              "      <td>14.0</td>\n",
              "      <td>10.0</td>\n",
              "      <td>NaN</td>\n",
              "      <td>NaN</td>\n",
              "      <td>60.0</td>\n",
              "      <td>NaN</td>\n",
              "      <td>10.0</td>\n",
              "      <td>NaN</td>\n",
              "      <td>0.0</td>\n",
              "      <td>NaN</td>\n",
              "    </tr>\n",
              "    <tr>\n",
              "      <th>851</th>\n",
              "      <td>1610126Sampoerna 'A' Hijau Box Plain 12 Stc (S...</td>\n",
              "      <td>1610126</td>\n",
              "      <td>8999909085114</td>\n",
              "      <td>Sampoerna 'A' Hijau Box Plain 12 Stc (Sktb)</td>\n",
              "      <td>2021-07-26</td>\n",
              "      <td>11700.0</td>\n",
              "      <td>14000.0</td>\n",
              "      <td>10.0</td>\n",
              "      <td>NaT</td>\n",
              "      <td>NaN</td>\n",
              "      <td>NaN</td>\n",
              "      <td>NaN</td>\n",
              "      <td>NaN</td>\n",
              "      <td>NaN</td>\n",
              "      <td>2021-08-10</td>\n",
              "      <td>11700.0</td>\n",
              "      <td>14000.0</td>\n",
              "      <td>10.0</td>\n",
              "      <td>0.0</td>\n",
              "      <td>0.0</td>\n",
              "      <td>0.0</td>\n",
              "      <td>minggu lalu NA</td>\n",
              "      <td>2021-08-17</td>\n",
              "      <td>11700.0</td>\n",
              "      <td>14000.0</td>\n",
              "      <td>10.0</td>\n",
              "      <td>40.0</td>\n",
              "      <td>10.0</td>\n",
              "      <td>20.0</td>\n",
              "      <td>40.0</td>\n",
              "      <td>w3 20</td>\n",
              "      <td>2021-09-04</td>\n",
              "      <td>11600.0</td>\n",
              "      <td>13000.0</td>\n",
              "      <td>30.0</td>\n",
              "      <td>70.0</td>\n",
              "      <td>10.0</td>\n",
              "      <td>20.0</td>\n",
              "      <td>40.0</td>\n",
              "      <td>50.0</td>\n",
              "      <td>S4U: Pelanggan Baru</td>\n",
              "      <td>NaT</td>\n",
              "      <td>NaN</td>\n",
              "      <td>NaN</td>\n",
              "      <td>NaN</td>\n",
              "      <td>NaN</td>\n",
              "      <td>NaN</td>\n",
              "      <td>NaN</td>\n",
              "      <td>NaN</td>\n",
              "      <td>NaN</td>\n",
              "      <td>NaN</td>\n",
              "      <td>NaN</td>\n",
              "      <td>WARUNG MEDIUM</td>\n",
              "      <td>KARAWANG</td>\n",
              "      <td>A HIJAU 12</td>\n",
              "      <td>2021-07-26</td>\n",
              "      <td>NaT</td>\n",
              "      <td>2021-08-10</td>\n",
              "      <td>2021-08-17</td>\n",
              "      <td>2021-09-04</td>\n",
              "      <td>2021-09-18</td>\n",
              "      <td>0.0</td>\n",
              "      <td>0.0</td>\n",
              "      <td>7.0</td>\n",
              "      <td>18.0</td>\n",
              "      <td>14.0</td>\n",
              "      <td>10.0</td>\n",
              "      <td>20.0</td>\n",
              "      <td>40.0</td>\n",
              "      <td>50.0</td>\n",
              "      <td>NaN</td>\n",
              "      <td>10.0</td>\n",
              "      <td>20.0</td>\n",
              "      <td>40.0</td>\n",
              "      <td>NaN</td>\n",
              "    </tr>\n",
              "  </tbody>\n",
              "</table>\n",
              "</div>"
            ],
            "text/plain": [
              "                                           Concatenate  ...  Sales_RA4\n",
              "847  1610126Minak Djinggo Kuning Soft Plain 10 Stc ...  ...        NaN\n",
              "848      1610126Djarum Coklat Soft Plain 12 Stc (Sktb)  ...        NaN\n",
              "849        1610126Dji Sam Soe Soft Plain 12 Stc (Sktb)  ...        NaN\n",
              "850    1610126Gudang Garam Red Soft Kspl 12 Stc (Sktb)  ...        NaN\n",
              "851  1610126Sampoerna 'A' Hijau Box Plain 12 Stc (S...  ...        NaN\n",
              "\n",
              "[5 rows x 75 columns]"
            ]
          },
          "metadata": {},
          "execution_count": 835
        }
      ]
    },
    {
      "cell_type": "markdown",
      "metadata": {
        "id": "0IX_tezfhrv4"
      },
      "source": [
        "## Perhitungan Growth per Product Description per Area"
      ]
    },
    {
      "cell_type": "code",
      "metadata": {
        "id": "2mQ_wUKxibm5"
      },
      "source": [
        "# Hanya ambil data yang lengkap saja dari RA1-RA3\n",
        "C1 = df_merge['Sales_RA1'].notna()\n",
        "C2 = df_merge['Sales_RA2'].notna()\n",
        "C3 = df_merge['Sales_RA3'].notna()\n",
        "data_lengkap = df_merge[C1 & C2 & C3]\n",
        "pivot_data = pd.pivot_table(data_lengkap,\n",
        "                            index=['Area','Product Description'],\n",
        "                            values=['Sales_RA1','Sales_RA2','Sales_RA3'],\n",
        "                            aggfunc='sum').reset_index()\n",
        "# Menghitung Growth RA1-RA2 dan Growth RA2-RA3\n",
        "pivot_data['Growth RA2'] = (pivot_data['Sales_RA2']-pivot_data['Sales_RA1'])/pivot_data['Sales_RA1']\n",
        "pivot_data['Growth RA3'] = (pivot_data['Sales_RA3']-pivot_data['Sales_RA2'])/pivot_data['Sales_RA2']"
      ],
      "execution_count": 836,
      "outputs": []
    },
    {
      "cell_type": "code",
      "metadata": {
        "id": "T9yOax3ftMIG"
      },
      "source": [
        "pivot_data.insert(0, 'Concatenate2', pivot_data['Area'] + pivot_data['Product Description'])\n",
        "pivot_data.drop(['Area','Product Description','Sales_RA1','Sales_RA2','Sales_RA3'], axis=1, inplace=True)\n",
        "growth_RA2_RA3 = pivot_data.copy()\n",
        "df_merge.insert(0, 'Concatenate2', df_merge['Area'] + df_merge['Product Description'])"
      ],
      "execution_count": 837,
      "outputs": []
    },
    {
      "cell_type": "code",
      "metadata": {
        "id": "tu3TGLbPEczC"
      },
      "source": [
        "# Memasukkan hasil kalkulasi Growth ke DataFrame\n",
        "df_merge = pd.merge(df_merge, \n",
        "                    growth_RA2_RA3, \n",
        "                    on='Concatenate2',\n",
        "                    how='left')"
      ],
      "execution_count": 838,
      "outputs": []
    },
    {
      "cell_type": "markdown",
      "metadata": {
        "id": "iyJww9KOW_1S"
      },
      "source": [
        "Growth RA4"
      ]
    },
    {
      "cell_type": "code",
      "metadata": {
        "id": "v1fs7HUrW-rz",
        "outputId": "9d32141c-4d60-451a-ef3b-e7b0bd3b160f",
        "colab": {
          "base_uri": "https://localhost:8080/",
          "height": 571
        }
      },
      "source": [
        "# Hanya ambil data yang lengkap saja dari RA3 dan RA4\n",
        "C3 = df_merge['Sales_RA3'].notna()\n",
        "C4 = df_merge['Sales_RA4'].notna()\n",
        "\n",
        "data_lengkap = df_merge[C3 & C4]\n",
        "pivot_data = pd.pivot_table(data_lengkap,\n",
        "                            index=['Area','Product Description'],\n",
        "                            values=['Sales_RA3','Sales_RA4'],\n",
        "                            aggfunc='sum').reset_index()\n",
        "pivot_data['Growth RA4'] = (pivot_data['Sales_RA4']-pivot_data['Sales_RA3'])/pivot_data['Sales_RA3']"
      ],
      "execution_count": 839,
      "outputs": [
        {
          "output_type": "error",
          "ename": "KeyError",
          "evalue": "ignored",
          "traceback": [
            "\u001b[0;31m---------------------------------------------------------------------------\u001b[0m",
            "\u001b[0;31mKeyError\u001b[0m                                  Traceback (most recent call last)",
            "\u001b[0;32m/usr/local/lib/python3.7/dist-packages/pandas/core/indexes/base.py\u001b[0m in \u001b[0;36mget_loc\u001b[0;34m(self, key, method, tolerance)\u001b[0m\n\u001b[1;32m   2897\u001b[0m             \u001b[0;32mtry\u001b[0m\u001b[0;34m:\u001b[0m\u001b[0;34m\u001b[0m\u001b[0;34m\u001b[0m\u001b[0m\n\u001b[0;32m-> 2898\u001b[0;31m                 \u001b[0;32mreturn\u001b[0m \u001b[0mself\u001b[0m\u001b[0;34m.\u001b[0m\u001b[0m_engine\u001b[0m\u001b[0;34m.\u001b[0m\u001b[0mget_loc\u001b[0m\u001b[0;34m(\u001b[0m\u001b[0mcasted_key\u001b[0m\u001b[0;34m)\u001b[0m\u001b[0;34m\u001b[0m\u001b[0;34m\u001b[0m\u001b[0m\n\u001b[0m\u001b[1;32m   2899\u001b[0m             \u001b[0;32mexcept\u001b[0m \u001b[0mKeyError\u001b[0m \u001b[0;32mas\u001b[0m \u001b[0merr\u001b[0m\u001b[0;34m:\u001b[0m\u001b[0;34m\u001b[0m\u001b[0;34m\u001b[0m\u001b[0m\n",
            "\u001b[0;32mpandas/_libs/index.pyx\u001b[0m in \u001b[0;36mpandas._libs.index.IndexEngine.get_loc\u001b[0;34m()\u001b[0m\n",
            "\u001b[0;32mpandas/_libs/index.pyx\u001b[0m in \u001b[0;36mpandas._libs.index.IndexEngine.get_loc\u001b[0;34m()\u001b[0m\n",
            "\u001b[0;32mpandas/_libs/hashtable_class_helper.pxi\u001b[0m in \u001b[0;36mpandas._libs.hashtable.PyObjectHashTable.get_item\u001b[0;34m()\u001b[0m\n",
            "\u001b[0;32mpandas/_libs/hashtable_class_helper.pxi\u001b[0m in \u001b[0;36mpandas._libs.hashtable.PyObjectHashTable.get_item\u001b[0;34m()\u001b[0m\n",
            "\u001b[0;31mKeyError\u001b[0m: 'Sales_RA4'",
            "\nThe above exception was the direct cause of the following exception:\n",
            "\u001b[0;31mKeyError\u001b[0m                                  Traceback (most recent call last)",
            "\u001b[0;32m<ipython-input-839-6624f981b63c>\u001b[0m in \u001b[0;36m<module>\u001b[0;34m()\u001b[0m\n\u001b[1;32m      8\u001b[0m                             \u001b[0mvalues\u001b[0m\u001b[0;34m=\u001b[0m\u001b[0;34m[\u001b[0m\u001b[0;34m'Sales_RA3'\u001b[0m\u001b[0;34m,\u001b[0m\u001b[0;34m'Sales_RA4'\u001b[0m\u001b[0;34m]\u001b[0m\u001b[0;34m,\u001b[0m\u001b[0;34m\u001b[0m\u001b[0;34m\u001b[0m\u001b[0m\n\u001b[1;32m      9\u001b[0m                             aggfunc='sum').reset_index()\n\u001b[0;32m---> 10\u001b[0;31m \u001b[0mpivot_data\u001b[0m\u001b[0;34m[\u001b[0m\u001b[0;34m'Growth RA4'\u001b[0m\u001b[0;34m]\u001b[0m \u001b[0;34m=\u001b[0m \u001b[0;34m(\u001b[0m\u001b[0mpivot_data\u001b[0m\u001b[0;34m[\u001b[0m\u001b[0;34m'Sales_RA4'\u001b[0m\u001b[0;34m]\u001b[0m\u001b[0;34m-\u001b[0m\u001b[0mpivot_data\u001b[0m\u001b[0;34m[\u001b[0m\u001b[0;34m'Sales_RA3'\u001b[0m\u001b[0;34m]\u001b[0m\u001b[0;34m)\u001b[0m\u001b[0;34m/\u001b[0m\u001b[0mpivot_data\u001b[0m\u001b[0;34m[\u001b[0m\u001b[0;34m'Sales_RA3'\u001b[0m\u001b[0;34m]\u001b[0m\u001b[0;34m\u001b[0m\u001b[0;34m\u001b[0m\u001b[0m\n\u001b[0m",
            "\u001b[0;32m/usr/local/lib/python3.7/dist-packages/pandas/core/frame.py\u001b[0m in \u001b[0;36m__getitem__\u001b[0;34m(self, key)\u001b[0m\n\u001b[1;32m   2904\u001b[0m             \u001b[0;32mif\u001b[0m \u001b[0mself\u001b[0m\u001b[0;34m.\u001b[0m\u001b[0mcolumns\u001b[0m\u001b[0;34m.\u001b[0m\u001b[0mnlevels\u001b[0m \u001b[0;34m>\u001b[0m \u001b[0;36m1\u001b[0m\u001b[0;34m:\u001b[0m\u001b[0;34m\u001b[0m\u001b[0;34m\u001b[0m\u001b[0m\n\u001b[1;32m   2905\u001b[0m                 \u001b[0;32mreturn\u001b[0m \u001b[0mself\u001b[0m\u001b[0;34m.\u001b[0m\u001b[0m_getitem_multilevel\u001b[0m\u001b[0;34m(\u001b[0m\u001b[0mkey\u001b[0m\u001b[0;34m)\u001b[0m\u001b[0;34m\u001b[0m\u001b[0;34m\u001b[0m\u001b[0m\n\u001b[0;32m-> 2906\u001b[0;31m             \u001b[0mindexer\u001b[0m \u001b[0;34m=\u001b[0m \u001b[0mself\u001b[0m\u001b[0;34m.\u001b[0m\u001b[0mcolumns\u001b[0m\u001b[0;34m.\u001b[0m\u001b[0mget_loc\u001b[0m\u001b[0;34m(\u001b[0m\u001b[0mkey\u001b[0m\u001b[0;34m)\u001b[0m\u001b[0;34m\u001b[0m\u001b[0;34m\u001b[0m\u001b[0m\n\u001b[0m\u001b[1;32m   2907\u001b[0m             \u001b[0;32mif\u001b[0m \u001b[0mis_integer\u001b[0m\u001b[0;34m(\u001b[0m\u001b[0mindexer\u001b[0m\u001b[0;34m)\u001b[0m\u001b[0;34m:\u001b[0m\u001b[0;34m\u001b[0m\u001b[0;34m\u001b[0m\u001b[0m\n\u001b[1;32m   2908\u001b[0m                 \u001b[0mindexer\u001b[0m \u001b[0;34m=\u001b[0m \u001b[0;34m[\u001b[0m\u001b[0mindexer\u001b[0m\u001b[0;34m]\u001b[0m\u001b[0;34m\u001b[0m\u001b[0;34m\u001b[0m\u001b[0m\n",
            "\u001b[0;32m/usr/local/lib/python3.7/dist-packages/pandas/core/indexes/base.py\u001b[0m in \u001b[0;36mget_loc\u001b[0;34m(self, key, method, tolerance)\u001b[0m\n\u001b[1;32m   2898\u001b[0m                 \u001b[0;32mreturn\u001b[0m \u001b[0mself\u001b[0m\u001b[0;34m.\u001b[0m\u001b[0m_engine\u001b[0m\u001b[0;34m.\u001b[0m\u001b[0mget_loc\u001b[0m\u001b[0;34m(\u001b[0m\u001b[0mcasted_key\u001b[0m\u001b[0;34m)\u001b[0m\u001b[0;34m\u001b[0m\u001b[0;34m\u001b[0m\u001b[0m\n\u001b[1;32m   2899\u001b[0m             \u001b[0;32mexcept\u001b[0m \u001b[0mKeyError\u001b[0m \u001b[0;32mas\u001b[0m \u001b[0merr\u001b[0m\u001b[0;34m:\u001b[0m\u001b[0;34m\u001b[0m\u001b[0;34m\u001b[0m\u001b[0m\n\u001b[0;32m-> 2900\u001b[0;31m                 \u001b[0;32mraise\u001b[0m \u001b[0mKeyError\u001b[0m\u001b[0;34m(\u001b[0m\u001b[0mkey\u001b[0m\u001b[0;34m)\u001b[0m \u001b[0;32mfrom\u001b[0m \u001b[0merr\u001b[0m\u001b[0;34m\u001b[0m\u001b[0;34m\u001b[0m\u001b[0m\n\u001b[0m\u001b[1;32m   2901\u001b[0m \u001b[0;34m\u001b[0m\u001b[0m\n\u001b[1;32m   2902\u001b[0m         \u001b[0;32mif\u001b[0m \u001b[0mtolerance\u001b[0m \u001b[0;32mis\u001b[0m \u001b[0;32mnot\u001b[0m \u001b[0;32mNone\u001b[0m\u001b[0;34m:\u001b[0m\u001b[0;34m\u001b[0m\u001b[0;34m\u001b[0m\u001b[0m\n",
            "\u001b[0;31mKeyError\u001b[0m: 'Sales_RA4'"
          ]
        }
      ]
    },
    {
      "cell_type": "code",
      "metadata": {
        "id": "2rtu1rGmW-r0"
      },
      "source": [
        "pivot_data.insert(0, 'Concatenate2', pivot_data['Area'] + pivot_data['Product Description'])\n",
        "pivot_data.drop(['Area','Product Description','Sales_RA3','Sales_RA4'], axis=1, inplace=True)\n",
        "growth_RA4 = pivot_data.copy()\n",
        "df_merge = pd.merge(df_merge, \n",
        "                    growth_RA4, \n",
        "                    on='Concatenate2',\n",
        "                    how='left')"
      ],
      "execution_count": null,
      "outputs": []
    },
    {
      "cell_type": "markdown",
      "metadata": {
        "id": "QBGED7ZIbqsD"
      },
      "source": [
        "# Drop toko2 yang 3NA, dan 4NA\n",
        "\n",
        "\n"
      ]
    },
    {
      "cell_type": "code",
      "metadata": {
        "id": "XO4_dcTl866R"
      },
      "source": [
        "#  Drop toko yg dari List Nielsen, ganti toko dari list client [Karawang & Madiun]\n",
        "list_toko_drop = (1614851, 1614852, 1614859, 1614860, 1614864, 1614865, 1614867,\n",
        "                      1614875, 1614879, 1614892, 1614898, 1614899, 1614905, 1614923,\n",
        "                      1614883, 1614884)\n",
        "drop_toko_ = pd.DataFrame(list_toko_drop, columns=['SMS Id'])"
      ],
      "execution_count": null,
      "outputs": []
    },
    {
      "cell_type": "code",
      "metadata": {
        "id": "fGfVTuSZc-iS"
      },
      "source": [
        "# menghitung store2 yang NA / tidak ada penjualan sama sekali\n",
        "Cek_NA = df_merge.groupby('SMS Id').sum()[['Sales_RA1','Sales_RA2','Sales_RA3','Sales_RA4']].reset_index()\n",
        "Cek_NA['RA1_NA'] = np.where(Cek_NA['Sales_RA1']==0, 1, 0)\n",
        "Cek_NA['RA2_NA'] = np.where(Cek_NA['Sales_RA2']==0, 1, 0)\n",
        "Cek_NA['RA3_NA'] = np.where(Cek_NA['Sales_RA3']==0, 1, 0)\n",
        "Cek_NA['RA4_NA'] = np.where(Cek_NA['Sales_RA4']==0, 1, 0)\n",
        "Cek_NA['Total_NA'] = Cek_NA['RA1_NA'] + Cek_NA['RA2_NA'] + Cek_NA['RA3_NA'] + Cek_NA['RA4_NA'] "
      ],
      "execution_count": null,
      "outputs": []
    },
    {
      "cell_type": "code",
      "metadata": {
        "id": "PPDS_QQ3evCH"
      },
      "source": [
        "# menggabungkan list toko yang 3NA, 4NA dengan toko karawang/madiun yg di drop\n",
        "drop_toko = Cek_NA[(Cek_NA['Total_NA']==4) | (Cek_NA['Total_NA']==3)].copy()\n",
        "drop_toko = drop_toko.drop(['Sales_RA1','Sales_RA2','Sales_RA3','Sales_RA4',\n",
        "                            'RA1_NA','RA2_NA','RA3_NA','RA4_NA',\n",
        "                            'Total_NA'], axis=1).reset_index(drop=True)\n",
        "drop_toko.append(drop_toko_, ignore_index=True)\n",
        "drop_toko['remarks'] = 'drop_toko'"
      ],
      "execution_count": null,
      "outputs": []
    },
    {
      "cell_type": "code",
      "metadata": {
        "id": "jQaiJDPylBfE"
      },
      "source": [
        "# drop toko dari list\n",
        "df_merge = pd.merge(df_merge, \n",
        "                    drop_toko, \n",
        "                    on='SMS Id',\n",
        "                    how='left')\n",
        "df_merge = df_merge[df_merge['remarks']!='drop_toko']"
      ],
      "execution_count": null,
      "outputs": []
    },
    {
      "cell_type": "code",
      "metadata": {
        "id": "q4Cbq-g4l6gL"
      },
      "source": [
        "# menghitung jumlah toko setelah di drop\n",
        "hitung_toko = pd.pivot_table(df_merge,\n",
        "               index=['Area','SMS Id'],\n",
        "               values='Bar Code',\n",
        "               aggfunc='count').reset_index()\n",
        "pd.pivot_table(hitung_toko,\n",
        "               index='Area',\n",
        "               values='SMS Id',\n",
        "               aggfunc='count')"
      ],
      "execution_count": null,
      "outputs": []
    },
    {
      "cell_type": "markdown",
      "metadata": {
        "id": "1CPHFHSqYCMN"
      },
      "source": [
        "## (*) Mengisi data jika sales RA1, RA2, dan RA3 blank; RA4 tidak blank"
      ]
    },
    {
      "cell_type": "code",
      "metadata": {
        "id": "OuVG4D1OX37I"
      },
      "source": [
        "'''C1 = df_merge['Sales_RA1'].isna()\n",
        "C2 = df_merge['Sales_RA2'].isna()\n",
        "C3 = df_merge['Sales_RA3'].isna()\n",
        "C4 = df_merge['Sales_RA4'].notna()\n",
        "\n",
        "df_merge['Sales_RA1'] = np.where(C1&C2&C3&C4, round((df_merge['Sales_RA4']/(df_merge['Growth RA4']+1))/3), df_merge['Sales_RA1'])\n",
        "df_merge['Sales_RA2'] = np.where(C1&C2&C3&C4, round((df_merge['Sales_RA4']/(df_merge['Growth RA4']+1))/3), df_merge['Sales_RA2'])\n",
        "df_merge['Sales_RA3'] = np.where(C1&C2&C3&C4, round((df_merge['Sales_RA4']/(df_merge['Growth RA4']+1))/3), df_merge['Sales_RA3'])'''"
      ],
      "execution_count": null,
      "outputs": []
    },
    {
      "cell_type": "markdown",
      "metadata": {
        "id": "cH_URXK-PqN7"
      },
      "source": [
        "##(*) Mengisi data jika sales R1 dan RA2 blank, RA3 tidak blank"
      ]
    },
    {
      "cell_type": "code",
      "metadata": {
        "id": "LemXQ-KVP_9l"
      },
      "source": [
        "C1 = (df_merge['Sales_RA1'].isna()) & (df_merge['ED_RA1']==0)\n",
        "C2 = (df_merge['Sales_RA2'].isna()) & (df_merge['ED_RA2']==0)\n",
        "C3 = df_merge['Sales_RA3'].notna()\n",
        "\n",
        "df_merge['Sales_RA1'] = np.where(C1&C2&C3, round((df_merge['Sales_RA3']/(df_merge['Growth RA3']+1))), df_merge['Sales_RA1'])\n",
        "df_merge['Sales_RA2'] = np.where(C1&C2&C3, round((df_merge['Sales_RA3']/(df_merge['Growth RA3']+1))), df_merge['Sales_RA2'])"
      ],
      "execution_count": null,
      "outputs": []
    },
    {
      "cell_type": "markdown",
      "metadata": {
        "id": "gdnJt2RgBzn_"
      },
      "source": [
        "## (*) Mengisi data jika hanya sales RA1 yang blank RA2 tidak blank\n",
        "\n",
        "\n"
      ]
    },
    {
      "cell_type": "code",
      "metadata": {
        "id": "tdL4cXBtB5y8"
      },
      "source": [
        "C1 = (df_merge['Sales_RA1'].isna()) & (df_merge['ED_RA1']==0)\n",
        "C2 = df_merge['Sales_RA2'].notna()\n",
        "\n",
        "df_merge['Sales_RA1'] = np.where(C1&C2, round(df_merge['Sales_RA2']/(df_merge['Growth RA2']+1)), df_merge['Sales_RA1'])"
      ],
      "execution_count": null,
      "outputs": []
    },
    {
      "cell_type": "markdown",
      "metadata": {
        "id": "GAMA3GalCO13"
      },
      "source": [
        "##(*) Mengisi data jika hanya sales RA2 yang blank RA1 tidak blank\n",
        "\n"
      ]
    },
    {
      "cell_type": "code",
      "metadata": {
        "id": "ifHZw7S4Byx_"
      },
      "source": [
        "C1 = df_merge['Sales_RA1'].notna()\n",
        "C2 = (df_merge['Sales_RA2'].isna()) & (df_merge['ED_RA2']==0)\n",
        "\n",
        "df_merge['Sales_RA2'] = np.where(C1&C2, round(df_merge['Sales_RA1']*(df_merge['Growth RA2']+1)), df_merge['Sales_RA2'])"
      ],
      "execution_count": null,
      "outputs": []
    },
    {
      "cell_type": "markdown",
      "metadata": {
        "id": "EFKX4m7SCS7c"
      },
      "source": [
        "##(*) Mengisi data jika sales RA3 yang blank RA2 tidak blank"
      ]
    },
    {
      "cell_type": "code",
      "metadata": {
        "id": "Nt2GxTSOPpwD"
      },
      "source": [
        "C2 = df_merge['Sales_RA2'].notna()\n",
        "C3 = (df_merge['Sales_RA3'].isna()) & (df_merge['ED_RA3']==0)\n",
        "\n",
        "df_merge['Sales_RA3'] = np.where(C2&C3, round(df_merge['Sales_RA2']*(df_merge['Growth RA3']+1)), df_merge['Sales_RA3'])"
      ],
      "execution_count": null,
      "outputs": []
    },
    {
      "cell_type": "markdown",
      "metadata": {
        "id": "pM4jOa2OO-3z"
      },
      "source": [
        "##(*) Mengisi data jika hanya sales R4 yang blank RA3 tidak blank"
      ]
    },
    {
      "cell_type": "code",
      "metadata": {
        "id": "sUm_TTPZO8iD"
      },
      "source": [
        "C3 = df_merge['Sales_RA3'].notna()\n",
        "C4 = (df_merge['Sales_RA4'].isna()) & (df_merge['ED_RA4']==0)\n",
        "\n",
        "df_merge['Sales_RA4'] = np.where(C3&C4, round(df_merge['Sales_RA3']*(df_merge['Growth RA4']+1)), df_merge['Sales_RA4'])"
      ],
      "execution_count": null,
      "outputs": []
    },
    {
      "cell_type": "markdown",
      "metadata": {
        "id": "ncV_uz9PLxoo"
      },
      "source": [
        "##(*) Mengisi RBP yang blank dengan RBP di periode sebelumnya atau setelahnya"
      ]
    },
    {
      "cell_type": "code",
      "metadata": {
        "id": "W3BCucZaLxoo"
      },
      "source": [
        "df_merge['RBP_IA'] = np.where(df_merge['RBP_IA'].isna(), df_merge['RBP_RA1'], df_merge['RBP_IA'])\n",
        "df_merge['RBP_RA1'] = np.where(df_merge['RBP_RA1'].isna(), df_merge['RBP_IA'], df_merge['RBP_RA1'])\n",
        "df_merge['RBP_RA1'] = np.where(df_merge['RBP_RA1'].isna(), df_merge['RBP_RA2'], df_merge['RBP_RA1'])\n",
        "df_merge['RBP_RA2'] = np.where(df_merge['RBP_RA2'].isna(), df_merge['RBP_RA1'], df_merge['RBP_RA2'])\n",
        "df_merge['RBP_RA2'] = np.where(df_merge['RBP_RA2'].isna(), df_merge['RBP_RA3'], df_merge['RBP_RA2'])\n",
        "df_merge['RBP_RA3'] = np.where(df_merge['RBP_RA3'].isna(), df_merge['RBP_RA2'], df_merge['RBP_RA3'])\n",
        "df_merge['RBP_RA3'] = np.where(df_merge['RBP_RA3'].isna(), df_merge['RBP_RA4'], df_merge['RBP_RA3'])\n",
        "df_merge['RBP_RA4'] = np.where(df_merge['RBP_RA4'].isna(), df_merge['RBP_RA3'], df_merge['RBP_RA4'])\n",
        "df_merge['RBP_IA'] = np.where(df_merge['RBP_IA'].isna(), df_merge['RBP_RA1'], df_merge['RBP_IA'])"
      ],
      "execution_count": null,
      "outputs": []
    },
    {
      "cell_type": "markdown",
      "metadata": {
        "id": "5PMcxjmxIxSZ"
      },
      "source": [
        "##(*) Mengisi RSP/Price yang blank dengan RSP/Price di periode sebelumnya atau setelahnya"
      ]
    },
    {
      "cell_type": "code",
      "metadata": {
        "id": "7wUGT0nWJZLJ"
      },
      "source": [
        "df_merge['RSP_IA'] = np.where(df_merge['RSP_IA'].isna(), df_merge['RSP_RA1'], df_merge['RSP_IA'])\n",
        "df_merge['RSP_RA1'] = np.where(df_merge['RSP_RA1'].isna(), df_merge['RSP_IA'], df_merge['RSP_RA1'])\n",
        "df_merge['RSP_RA1'] = np.where(df_merge['RSP_RA1'].isna(), df_merge['RSP_RA2'], df_merge['RSP_RA1'])\n",
        "df_merge['RSP_RA2'] = np.where(df_merge['RSP_RA2'].isna(), df_merge['RSP_RA1'], df_merge['RSP_RA2'])\n",
        "df_merge['RSP_RA2'] = np.where(df_merge['RSP_RA2'].isna(), df_merge['RSP_RA3'], df_merge['RSP_RA2'])\n",
        "df_merge['RSP_RA3'] = np.where(df_merge['RSP_RA3'].isna(), df_merge['RSP_RA2'], df_merge['RSP_RA3'])\n",
        "df_merge['RSP_RA3'] = np.where(df_merge['RSP_RA3'].isna(), df_merge['RSP_RA4'], df_merge['RSP_RA3'])\n",
        "df_merge['RSP_RA4'] = np.where(df_merge['RSP_RA4'].isna(), df_merge['RSP_RA3'], df_merge['RSP_RA4'])\n",
        "df_merge['RSP_IA'] = np.where(df_merge['RSP_IA'].isna(), df_merge['RSP_RA1'], df_merge['RSP_IA'])"
      ],
      "execution_count": null,
      "outputs": []
    },
    {
      "cell_type": "markdown",
      "metadata": {
        "id": "Hwtc8bG7MxBC"
      },
      "source": [
        "## (*) Mengisi data Stock yang blank"
      ]
    },
    {
      "cell_type": "code",
      "metadata": {
        "id": "IA6QLZhvQPZc"
      },
      "source": [
        "C1 = df_merge['Stock_RA1'].notna()\n",
        "C2 = df_merge['Stock_RA2'].notna()\n",
        "C3 = df_merge['Stock_RA3'].notna()\n",
        "C4 = df_merge['Stock_RA4'].notna()\n",
        "D1 = df_merge['Purchase_RA1'].notna()\n",
        "D2 = df_merge['Purchase_RA2'].notna()\n",
        "D3 = df_merge['Purchase_RA3'].notna()\n",
        "D4 = df_merge['Purchase_RA4'].notna()\n",
        "\n",
        "pivot_stock = pd.pivot_table(df_merge[C1&C2&C3&C4&D1&D2&D3&D4],\n",
        "                       index='Area',\n",
        "                       values=['Stock_RA1','Stock_RA2','Stock_RA3','Stock_RA4'],\n",
        "                       aggfunc='mean')\n",
        "pivot_sales = pd.pivot_table(df_merge[C1&C2&C3&C4&D1&D2&D3&D4],\n",
        "                       index='Area',\n",
        "                       values=['Sales_RA1','Sales_RA2','Sales_RA3','Sales_RA4'],\n",
        "                       aggfunc='mean')"
      ],
      "execution_count": null,
      "outputs": []
    },
    {
      "cell_type": "code",
      "metadata": {
        "id": "rtA_10vcU_b-"
      },
      "source": [
        "pivot_stock"
      ],
      "execution_count": null,
      "outputs": []
    },
    {
      "cell_type": "code",
      "metadata": {
        "id": "b6YEJhSQVDht"
      },
      "source": [
        "pivot_sales"
      ],
      "execution_count": null,
      "outputs": []
    },
    {
      "cell_type": "code",
      "metadata": {
        "id": "v3ztYjY-R8Jk"
      },
      "source": [
        "pivot_ = pivot_stock.merge(pivot_sales, on='Area')\n",
        "pivot_['Stock/Sales_RA1'] = pivot_['Stock_RA1']/pivot_['Sales_RA1']\n",
        "pivot_['Stock/Sales_RA2'] = pivot_['Stock_RA2']/pivot_['Sales_RA2']\n",
        "pivot_['Stock/Sales_RA3'] = pivot_['Stock_RA3']/pivot_['Sales_RA3']\n",
        "pivot_['Stock/Sales_RA4'] = pivot_['Stock_RA4']/pivot_['Sales_RA4']"
      ],
      "execution_count": null,
      "outputs": []
    },
    {
      "cell_type": "code",
      "metadata": {
        "id": "IMmolrXIR6XI"
      },
      "source": [
        "pivot_ = pivot_.drop(['Stock_RA1','Stock_RA2','Stock_RA3','Stock_RA4','Sales_RA1','Sales_RA2','Sales_RA3','Sales_RA4'],axis=1)\n",
        "pivot_ "
      ],
      "execution_count": null,
      "outputs": []
    },
    {
      "cell_type": "code",
      "metadata": {
        "id": "doGa5-5QZsyv"
      },
      "source": [
        "df_merge = pd.merge(df_merge,\n",
        "                    pivot_,\n",
        "                    on='Area',\n",
        "                    how='left')"
      ],
      "execution_count": null,
      "outputs": []
    },
    {
      "cell_type": "code",
      "metadata": {
        "id": "OvDi8l_cW_2Z"
      },
      "source": [
        "df_merge['Stock_RA1'] = np.where(df_merge['Stock_RA1'].isna(), round(df_merge['Stock/Sales_RA1']*df_merge['Sales_RA1']), df_merge['Stock_RA1'])\n",
        "df_merge['Stock_RA2'] = np.where(df_merge['Stock_RA2'].isna(), round(df_merge['Stock/Sales_RA2']*df_merge['Sales_RA2']), df_merge['Stock_RA2'])\n",
        "df_merge['Stock_RA3'] = np.where(df_merge['Stock_RA3'].isna(), round(df_merge['Stock/Sales_RA3']*df_merge['Sales_RA3']), df_merge['Stock_RA3'])\n",
        "df_merge['Stock_RA4'] = np.where(df_merge['Stock_RA4'].isna(), round(df_merge['Stock/Sales_RA4']*df_merge['Sales_RA4']), df_merge['Stock_RA4'])"
      ],
      "execution_count": null,
      "outputs": []
    },
    {
      "cell_type": "markdown",
      "metadata": {
        "id": "4CwTiMNJaxCO"
      },
      "source": [
        "## (*) Mengitung data purchase yang blank"
      ]
    },
    {
      "cell_type": "code",
      "metadata": {
        "id": "Bucn2p2aa63v"
      },
      "source": [
        "df_merge['Purchase_RA1'] = np.where(df_merge['Purchase_RA1'].isna(), df_merge['Sales_RA1']-df_merge['Stock_IA']+df_merge['Stock_RA1'], df_merge['Purchase_RA1'])\n",
        "df_merge['Purchase_RA2'] = np.where(df_merge['Purchase_RA2'].isna(), df_merge['Sales_RA2']-df_merge['Stock_RA1']+df_merge['Stock_RA2'], df_merge['Purchase_RA2'])\n",
        "df_merge['Purchase_RA3'] = np.where(df_merge['Purchase_RA3'].isna(), df_merge['Sales_RA3']-df_merge['Stock_RA2']+df_merge['Stock_RA3'], df_merge['Purchase_RA3'])\n",
        "df_merge['Purchase_RA4'] = np.where(df_merge['Purchase_RA4'].isna(), df_merge['Sales_RA4']-df_merge['Stock_RA3']+df_merge['Stock_RA4'], df_merge['Purchase_RA4'])"
      ],
      "execution_count": null,
      "outputs": []
    },
    {
      "cell_type": "markdown",
      "metadata": {
        "id": "6_hYijNNDz3K"
      },
      "source": [
        "##(*) Menambah Fact baru 'APM_AVAILABILITY\""
      ]
    },
    {
      "cell_type": "code",
      "metadata": {
        "id": "N7fZvEy4Bzqi"
      },
      "source": [
        "APM = df_merge['Item']=='APM 12'\n",
        "\n",
        "C1 = df_merge['Sales_RA1']>0\n",
        "C2 = df_merge['Stock_RA1']>0\n",
        "C3 = df_merge['Purchase_RA1']>0\n",
        "df_merge['APM_availability_RA1'] = np.where(APM & (C1|C2|C3),1,0)\n",
        "\n",
        "C1 = df_merge['Sales_RA2']>0\n",
        "C2 = df_merge['Stock_RA2']>0\n",
        "C3 = df_merge['Purchase_RA2']>0\n",
        "df_merge['APM_availability_RA2'] = np.where(APM & (C1|C2|C3),1,0)\n",
        "\n",
        "C1 = df_merge['Sales_RA3']>0\n",
        "C2 = df_merge['Stock_RA3']>0\n",
        "C3 = df_merge['Purchase_RA3']>0\n",
        "df_merge['APM_availability_RA3'] = np.where(APM & (C1|C2|C3),1,0)\n",
        "\n",
        "C1 = df_merge['Sales_RA4']>0\n",
        "C2 = df_merge['Stock_RA4']>0\n",
        "C3 = df_merge['Purchase_RA4']>0\n",
        "df_merge['APM_availability_RA4'] = np.where(APM & (C1|C2|C3),1,0)\n"
      ],
      "execution_count": null,
      "outputs": []
    },
    {
      "cell_type": "markdown",
      "metadata": {
        "id": "0eBSMelNXd-G"
      },
      "source": [
        "# Notes"
      ]
    },
    {
      "cell_type": "markdown",
      "metadata": {
        "id": "PXr33Hrn-yph"
      },
      "source": [
        "sales = prev_stock+purchase+missinginv+missinstock-shopstock-otherstock - goodreturn-wholesales\n",
        "\n"
      ]
    },
    {
      "cell_type": "markdown",
      "metadata": {
        "id": "Qw0CEO1TbKCY"
      },
      "source": [
        "# Recheck POINT\n",
        "\n"
      ]
    },
    {
      "cell_type": "markdown",
      "metadata": {
        "id": "Wb61ndGH5RaH"
      },
      "source": [
        "## 1.Cek Toko2 yang penjualannya terlalu tinggi daripada toko2 lainnya\n",
        "\n",
        "\n"
      ]
    },
    {
      "cell_type": "markdown",
      "metadata": {
        "id": "xCDG6dvFTUdL"
      },
      "source": [
        "### PALEMBANG"
      ]
    },
    {
      "cell_type": "code",
      "metadata": {
        "colab": {
          "base_uri": "https://localhost:8080/",
          "height": 206
        },
        "id": "kwRECQ-fGf_x",
        "outputId": "71ec4078-1d21-4fd4-95af-682a86fce30f"
      },
      "source": [
        "# TOP 5 Toko di PALEMBANG\n",
        "palembang = df_merge[df_merge['Area']=='PALEMBANG']\n",
        "piv_palembang = pd.pivot_table(palembang,\n",
        "               index='SMS Id',\n",
        "               values=['Sales_RA1','Sales_RA2','Sales_RA3','Sales_RA4','Sales_RA5'],\n",
        "               aggfunc='sum').reset_index()\n",
        "\n",
        "piv_palembang.sort_values('Sales_RA4', ascending=False).reset_index(drop=True).head(5)\n",
        "\n",
        "## ADA 1 TOKO YANG ANGKANYA JAUH DARI TOKO LAINNYA"
      ],
      "execution_count": 849,
      "outputs": [
        {
          "output_type": "execute_result",
          "data": {
            "text/html": [
              "<div>\n",
              "<style scoped>\n",
              "    .dataframe tbody tr th:only-of-type {\n",
              "        vertical-align: middle;\n",
              "    }\n",
              "\n",
              "    .dataframe tbody tr th {\n",
              "        vertical-align: top;\n",
              "    }\n",
              "\n",
              "    .dataframe thead th {\n",
              "        text-align: right;\n",
              "    }\n",
              "</style>\n",
              "<table border=\"1\" class=\"dataframe\">\n",
              "  <thead>\n",
              "    <tr style=\"text-align: right;\">\n",
              "      <th></th>\n",
              "      <th>SMS Id</th>\n",
              "      <th>Sales_RA1</th>\n",
              "      <th>Sales_RA2</th>\n",
              "      <th>Sales_RA3</th>\n",
              "      <th>Sales_RA4</th>\n",
              "      <th>Sales_RA5</th>\n",
              "    </tr>\n",
              "  </thead>\n",
              "  <tbody>\n",
              "    <tr>\n",
              "      <th>0</th>\n",
              "      <td>1609900</td>\n",
              "      <td>740.0</td>\n",
              "      <td>1313.0</td>\n",
              "      <td>1560.0</td>\n",
              "      <td>2853.0</td>\n",
              "      <td>0.0</td>\n",
              "    </tr>\n",
              "    <tr>\n",
              "      <th>1</th>\n",
              "      <td>1609940</td>\n",
              "      <td>147.0</td>\n",
              "      <td>396.0</td>\n",
              "      <td>570.0</td>\n",
              "      <td>881.0</td>\n",
              "      <td>0.0</td>\n",
              "    </tr>\n",
              "    <tr>\n",
              "      <th>2</th>\n",
              "      <td>1609907</td>\n",
              "      <td>137.0</td>\n",
              "      <td>0.0</td>\n",
              "      <td>0.0</td>\n",
              "      <td>806.0</td>\n",
              "      <td>0.0</td>\n",
              "    </tr>\n",
              "    <tr>\n",
              "      <th>3</th>\n",
              "      <td>1609946</td>\n",
              "      <td>37.0</td>\n",
              "      <td>254.0</td>\n",
              "      <td>290.0</td>\n",
              "      <td>598.0</td>\n",
              "      <td>0.0</td>\n",
              "    </tr>\n",
              "    <tr>\n",
              "      <th>4</th>\n",
              "      <td>1609896</td>\n",
              "      <td>131.0</td>\n",
              "      <td>172.0</td>\n",
              "      <td>276.0</td>\n",
              "      <td>461.0</td>\n",
              "      <td>0.0</td>\n",
              "    </tr>\n",
              "  </tbody>\n",
              "</table>\n",
              "</div>"
            ],
            "text/plain": [
              "    SMS Id  Sales_RA1  Sales_RA2  Sales_RA3  Sales_RA4  Sales_RA5\n",
              "0  1609900      740.0     1313.0     1560.0     2853.0        0.0\n",
              "1  1609940      147.0      396.0      570.0      881.0        0.0\n",
              "2  1609907      137.0        0.0        0.0      806.0        0.0\n",
              "3  1609946       37.0      254.0      290.0      598.0        0.0\n",
              "4  1609896      131.0      172.0      276.0      461.0        0.0"
            ]
          },
          "metadata": {},
          "execution_count": 849
        }
      ]
    },
    {
      "cell_type": "code",
      "metadata": {
        "colab": {
          "base_uri": "https://localhost:8080/",
          "height": 300
        },
        "id": "kHAXxq2OZbr_",
        "outputId": "4bd44c17-94e4-494c-a4cb-4315d31590ca"
      },
      "source": [
        "# Lihat profil toko 1609900\n",
        "pd.pivot_table(palembang[palembang['SMS Id']==1609900],\n",
        "               index='Item',\n",
        "               values=['Sales_RA1','Sales_RA2','Sales_RA3','Sales_RA4','Sales_RA5'],\n",
        "               aggfunc='sum').reset_index()"
      ],
      "execution_count": 850,
      "outputs": [
        {
          "output_type": "execute_result",
          "data": {
            "text/html": [
              "<div>\n",
              "<style scoped>\n",
              "    .dataframe tbody tr th:only-of-type {\n",
              "        vertical-align: middle;\n",
              "    }\n",
              "\n",
              "    .dataframe tbody tr th {\n",
              "        vertical-align: top;\n",
              "    }\n",
              "\n",
              "    .dataframe thead th {\n",
              "        text-align: right;\n",
              "    }\n",
              "</style>\n",
              "<table border=\"1\" class=\"dataframe\">\n",
              "  <thead>\n",
              "    <tr style=\"text-align: right;\">\n",
              "      <th></th>\n",
              "      <th>Item</th>\n",
              "      <th>Sales_RA1</th>\n",
              "      <th>Sales_RA2</th>\n",
              "      <th>Sales_RA3</th>\n",
              "      <th>Sales_RA4</th>\n",
              "      <th>Sales_RA5</th>\n",
              "    </tr>\n",
              "  </thead>\n",
              "  <tbody>\n",
              "    <tr>\n",
              "      <th>0</th>\n",
              "      <td>A HIJAU 12</td>\n",
              "      <td>100.0</td>\n",
              "      <td>44.0</td>\n",
              "      <td>80.0</td>\n",
              "      <td>0.0</td>\n",
              "      <td>0.0</td>\n",
              "    </tr>\n",
              "    <tr>\n",
              "      <th>1</th>\n",
              "      <td>APK 12</td>\n",
              "      <td>0.0</td>\n",
              "      <td>0.0</td>\n",
              "      <td>0.0</td>\n",
              "      <td>0.0</td>\n",
              "      <td>0.0</td>\n",
              "    </tr>\n",
              "    <tr>\n",
              "      <th>2</th>\n",
              "      <td>DADOS 12</td>\n",
              "      <td>200.0</td>\n",
              "      <td>350.0</td>\n",
              "      <td>400.0</td>\n",
              "      <td>1006.0</td>\n",
              "      <td>0.0</td>\n",
              "    </tr>\n",
              "    <tr>\n",
              "      <th>3</th>\n",
              "      <td>DJARUM ISTIMEWA 12</td>\n",
              "      <td>200.0</td>\n",
              "      <td>350.0</td>\n",
              "      <td>820.0</td>\n",
              "      <td>849.0</td>\n",
              "      <td>0.0</td>\n",
              "    </tr>\n",
              "    <tr>\n",
              "      <th>4</th>\n",
              "      <td>DSS 12</td>\n",
              "      <td>100.0</td>\n",
              "      <td>26.0</td>\n",
              "      <td>100.0</td>\n",
              "      <td>0.0</td>\n",
              "      <td>0.0</td>\n",
              "    </tr>\n",
              "    <tr>\n",
              "      <th>5</th>\n",
              "      <td>GG MERAH 12</td>\n",
              "      <td>40.0</td>\n",
              "      <td>350.0</td>\n",
              "      <td>100.0</td>\n",
              "      <td>306.0</td>\n",
              "      <td>0.0</td>\n",
              "    </tr>\n",
              "    <tr>\n",
              "      <th>6</th>\n",
              "      <td>PANAMAS 12</td>\n",
              "      <td>80.0</td>\n",
              "      <td>105.0</td>\n",
              "      <td>60.0</td>\n",
              "      <td>324.0</td>\n",
              "      <td>0.0</td>\n",
              "    </tr>\n",
              "    <tr>\n",
              "      <th>7</th>\n",
              "      <td>VIGOR 12</td>\n",
              "      <td>20.0</td>\n",
              "      <td>88.0</td>\n",
              "      <td>0.0</td>\n",
              "      <td>368.0</td>\n",
              "      <td>0.0</td>\n",
              "    </tr>\n",
              "  </tbody>\n",
              "</table>\n",
              "</div>"
            ],
            "text/plain": [
              "                 Item  Sales_RA1  Sales_RA2  Sales_RA3  Sales_RA4  Sales_RA5\n",
              "0          A HIJAU 12      100.0       44.0       80.0        0.0        0.0\n",
              "1              APK 12        0.0        0.0        0.0        0.0        0.0\n",
              "2            DADOS 12      200.0      350.0      400.0     1006.0        0.0\n",
              "3  DJARUM ISTIMEWA 12      200.0      350.0      820.0      849.0        0.0\n",
              "4              DSS 12      100.0       26.0      100.0        0.0        0.0\n",
              "5         GG MERAH 12       40.0      350.0      100.0      306.0        0.0\n",
              "6          PANAMAS 12       80.0      105.0       60.0      324.0        0.0\n",
              "7            VIGOR 12       20.0       88.0        0.0      368.0        0.0"
            ]
          },
          "metadata": {},
          "execution_count": 850
        }
      ]
    },
    {
      "cell_type": "code",
      "metadata": {
        "id": "VQOWZTpmaIGj"
      },
      "source": [
        "## Masukkan Toko ke List yang akan di Takeout\n",
        "outlier_palembang = [1609900]"
      ],
      "execution_count": 851,
      "outputs": []
    },
    {
      "cell_type": "markdown",
      "metadata": {
        "id": "_3IYnRY7TRo8"
      },
      "source": [
        "### KARAWANG"
      ]
    },
    {
      "cell_type": "code",
      "metadata": {
        "colab": {
          "base_uri": "https://localhost:8080/",
          "height": 362
        },
        "id": "-_Gomd1jFrrY",
        "outputId": "5365a457-77d4-4a3f-e771-9415430c6fad"
      },
      "source": [
        "# TOP 5 Toko di KARAWANG\n",
        "karawang = df_merge[df_merge['Area']=='KARAWANG']\n",
        "piv_karawang = pd.pivot_table(karawang,\n",
        "               index='SMS Id',\n",
        "               values=['Sales_RA1','Sales_RA2','Sales_RA3','Sales_RA4','Sales_RA5'],\n",
        "               aggfunc='sum').reset_index()\n",
        "\n",
        "piv_karawang.sort_values('Sales_RA4', ascending=False).reset_index(drop=True).head(10)\n",
        "\n",
        "## ADA 4 TOKO YANG ANGKANYA JAUH DARI TOKO LAINNYA"
      ],
      "execution_count": 852,
      "outputs": [
        {
          "output_type": "execute_result",
          "data": {
            "text/html": [
              "<div>\n",
              "<style scoped>\n",
              "    .dataframe tbody tr th:only-of-type {\n",
              "        vertical-align: middle;\n",
              "    }\n",
              "\n",
              "    .dataframe tbody tr th {\n",
              "        vertical-align: top;\n",
              "    }\n",
              "\n",
              "    .dataframe thead th {\n",
              "        text-align: right;\n",
              "    }\n",
              "</style>\n",
              "<table border=\"1\" class=\"dataframe\">\n",
              "  <thead>\n",
              "    <tr style=\"text-align: right;\">\n",
              "      <th></th>\n",
              "      <th>SMS Id</th>\n",
              "      <th>Sales_RA1</th>\n",
              "      <th>Sales_RA2</th>\n",
              "      <th>Sales_RA3</th>\n",
              "      <th>Sales_RA4</th>\n",
              "      <th>Sales_RA5</th>\n",
              "    </tr>\n",
              "  </thead>\n",
              "  <tbody>\n",
              "    <tr>\n",
              "      <th>0</th>\n",
              "      <td>1610071</td>\n",
              "      <td>1250.0</td>\n",
              "      <td>1300.0</td>\n",
              "      <td>4600.0</td>\n",
              "      <td>2620.0</td>\n",
              "      <td>0.0</td>\n",
              "    </tr>\n",
              "    <tr>\n",
              "      <th>1</th>\n",
              "      <td>1614176</td>\n",
              "      <td>730.0</td>\n",
              "      <td>730.0</td>\n",
              "      <td>1454.0</td>\n",
              "      <td>1940.0</td>\n",
              "      <td>0.0</td>\n",
              "    </tr>\n",
              "    <tr>\n",
              "      <th>2</th>\n",
              "      <td>1614206</td>\n",
              "      <td>460.0</td>\n",
              "      <td>460.0</td>\n",
              "      <td>918.0</td>\n",
              "      <td>1729.0</td>\n",
              "      <td>0.0</td>\n",
              "    </tr>\n",
              "    <tr>\n",
              "      <th>3</th>\n",
              "      <td>1614063</td>\n",
              "      <td>190.0</td>\n",
              "      <td>190.0</td>\n",
              "      <td>190.0</td>\n",
              "      <td>1558.0</td>\n",
              "      <td>0.0</td>\n",
              "    </tr>\n",
              "    <tr>\n",
              "      <th>4</th>\n",
              "      <td>1614153</td>\n",
              "      <td>280.0</td>\n",
              "      <td>280.0</td>\n",
              "      <td>568.0</td>\n",
              "      <td>940.0</td>\n",
              "      <td>0.0</td>\n",
              "    </tr>\n",
              "    <tr>\n",
              "      <th>5</th>\n",
              "      <td>1614189</td>\n",
              "      <td>105.0</td>\n",
              "      <td>105.0</td>\n",
              "      <td>210.0</td>\n",
              "      <td>676.0</td>\n",
              "      <td>0.0</td>\n",
              "    </tr>\n",
              "    <tr>\n",
              "      <th>6</th>\n",
              "      <td>1614191</td>\n",
              "      <td>170.0</td>\n",
              "      <td>170.0</td>\n",
              "      <td>326.0</td>\n",
              "      <td>542.0</td>\n",
              "      <td>0.0</td>\n",
              "    </tr>\n",
              "    <tr>\n",
              "      <th>7</th>\n",
              "      <td>1614216</td>\n",
              "      <td>210.0</td>\n",
              "      <td>210.0</td>\n",
              "      <td>418.0</td>\n",
              "      <td>421.0</td>\n",
              "      <td>0.0</td>\n",
              "    </tr>\n",
              "    <tr>\n",
              "      <th>8</th>\n",
              "      <td>1610069</td>\n",
              "      <td>100.0</td>\n",
              "      <td>0.0</td>\n",
              "      <td>327.0</td>\n",
              "      <td>411.0</td>\n",
              "      <td>0.0</td>\n",
              "    </tr>\n",
              "    <tr>\n",
              "      <th>9</th>\n",
              "      <td>1614213</td>\n",
              "      <td>145.0</td>\n",
              "      <td>145.0</td>\n",
              "      <td>298.0</td>\n",
              "      <td>380.0</td>\n",
              "      <td>0.0</td>\n",
              "    </tr>\n",
              "  </tbody>\n",
              "</table>\n",
              "</div>"
            ],
            "text/plain": [
              "    SMS Id  Sales_RA1  Sales_RA2  Sales_RA3  Sales_RA4  Sales_RA5\n",
              "0  1610071     1250.0     1300.0     4600.0     2620.0        0.0\n",
              "1  1614176      730.0      730.0     1454.0     1940.0        0.0\n",
              "2  1614206      460.0      460.0      918.0     1729.0        0.0\n",
              "3  1614063      190.0      190.0      190.0     1558.0        0.0\n",
              "4  1614153      280.0      280.0      568.0      940.0        0.0\n",
              "5  1614189      105.0      105.0      210.0      676.0        0.0\n",
              "6  1614191      170.0      170.0      326.0      542.0        0.0\n",
              "7  1614216      210.0      210.0      418.0      421.0        0.0\n",
              "8  1610069      100.0        0.0      327.0      411.0        0.0\n",
              "9  1614213      145.0      145.0      298.0      380.0        0.0"
            ]
          },
          "metadata": {},
          "execution_count": 852
        }
      ]
    },
    {
      "cell_type": "code",
      "metadata": {
        "id": "IzuIW9pxBYI_"
      },
      "source": [
        "## Masukkan Toko ke List yang akan di Takeout\n",
        "outlier_karawang = [1614176, 1614206, 1614063,\t1610071]"
      ],
      "execution_count": null,
      "outputs": []
    },
    {
      "cell_type": "markdown",
      "metadata": {
        "id": "PCPvAPCnTO2G"
      },
      "source": [
        "### MADIUN"
      ]
    },
    {
      "cell_type": "code",
      "metadata": {
        "colab": {
          "base_uri": "https://localhost:8080/",
          "height": 206
        },
        "id": "QKB2nflTZr0a",
        "outputId": "cb92b5eb-c51c-4570-a770-8931ed710bbe"
      },
      "source": [
        "# TOP 5 Toko di MADIUN\n",
        "madiun = df_merge[df_merge['Area']=='MADIUN']\n",
        "piv_madiun = pd.pivot_table(madiun,\n",
        "               index='SMS Id',\n",
        "               values=['Sales_RA1','Sales_RA2','Sales_RA3','Sales_RA4','Sales_RA5'],\n",
        "               aggfunc='sum').reset_index()\n",
        "\n",
        "piv_madiun.sort_values('Sales_RA4', ascending=False).reset_index(drop=True).head(5)\n",
        "\n",
        "## ADA 1 TOKO YANG ANGKANYA JAUH DARI TOKO LAINNYA"
      ],
      "execution_count": 853,
      "outputs": [
        {
          "output_type": "execute_result",
          "data": {
            "text/html": [
              "<div>\n",
              "<style scoped>\n",
              "    .dataframe tbody tr th:only-of-type {\n",
              "        vertical-align: middle;\n",
              "    }\n",
              "\n",
              "    .dataframe tbody tr th {\n",
              "        vertical-align: top;\n",
              "    }\n",
              "\n",
              "    .dataframe thead th {\n",
              "        text-align: right;\n",
              "    }\n",
              "</style>\n",
              "<table border=\"1\" class=\"dataframe\">\n",
              "  <thead>\n",
              "    <tr style=\"text-align: right;\">\n",
              "      <th></th>\n",
              "      <th>SMS Id</th>\n",
              "      <th>Sales_RA1</th>\n",
              "      <th>Sales_RA2</th>\n",
              "      <th>Sales_RA3</th>\n",
              "      <th>Sales_RA4</th>\n",
              "      <th>Sales_RA5</th>\n",
              "    </tr>\n",
              "  </thead>\n",
              "  <tbody>\n",
              "    <tr>\n",
              "      <th>0</th>\n",
              "      <td>1614399</td>\n",
              "      <td>130.0</td>\n",
              "      <td>130.0</td>\n",
              "      <td>84.0</td>\n",
              "      <td>2437.0</td>\n",
              "      <td>0.0</td>\n",
              "    </tr>\n",
              "    <tr>\n",
              "      <th>1</th>\n",
              "      <td>1610246</td>\n",
              "      <td>128.0</td>\n",
              "      <td>187.0</td>\n",
              "      <td>175.0</td>\n",
              "      <td>910.0</td>\n",
              "      <td>0.0</td>\n",
              "    </tr>\n",
              "    <tr>\n",
              "      <th>2</th>\n",
              "      <td>1614419</td>\n",
              "      <td>170.0</td>\n",
              "      <td>170.0</td>\n",
              "      <td>100.0</td>\n",
              "      <td>753.0</td>\n",
              "      <td>0.0</td>\n",
              "    </tr>\n",
              "    <tr>\n",
              "      <th>3</th>\n",
              "      <td>1610245</td>\n",
              "      <td>385.0</td>\n",
              "      <td>410.0</td>\n",
              "      <td>630.0</td>\n",
              "      <td>730.0</td>\n",
              "      <td>0.0</td>\n",
              "    </tr>\n",
              "    <tr>\n",
              "      <th>4</th>\n",
              "      <td>1614106</td>\n",
              "      <td>110.0</td>\n",
              "      <td>110.0</td>\n",
              "      <td>92.0</td>\n",
              "      <td>719.0</td>\n",
              "      <td>0.0</td>\n",
              "    </tr>\n",
              "  </tbody>\n",
              "</table>\n",
              "</div>"
            ],
            "text/plain": [
              "    SMS Id  Sales_RA1  Sales_RA2  Sales_RA3  Sales_RA4  Sales_RA5\n",
              "0  1614399      130.0      130.0       84.0     2437.0        0.0\n",
              "1  1610246      128.0      187.0      175.0      910.0        0.0\n",
              "2  1614419      170.0      170.0      100.0      753.0        0.0\n",
              "3  1610245      385.0      410.0      630.0      730.0        0.0\n",
              "4  1614106      110.0      110.0       92.0      719.0        0.0"
            ]
          },
          "metadata": {},
          "execution_count": 853
        }
      ]
    },
    {
      "cell_type": "code",
      "metadata": {
        "id": "A3jE1HaxZr0a"
      },
      "source": [
        "## Masukkan Toko ke List yang akan di Takeout\n",
        "outlier_madiun = [1614399]"
      ],
      "execution_count": null,
      "outputs": []
    },
    {
      "cell_type": "markdown",
      "metadata": {
        "id": "G2hTHn7FTYC2"
      },
      "source": [
        "### LAMPUNG"
      ]
    },
    {
      "cell_type": "code",
      "metadata": {
        "id": "WvSsVE9XaECt"
      },
      "source": [
        "# TOP 5 Toko di LAMPUNG\n",
        "lampung = df_merge[df_merge['Area']=='LAMPUNG']\n",
        "piv_lampung = pd.pivot_table(lampung,\n",
        "               index='SMS Id',\n",
        "               values=['Sales_RA1','Sales_RA2','Sales_RA3','Sales_RA4','Sales_RA5'],\n",
        "               aggfunc='sum').reset_index()\n",
        "\n",
        "piv_lampung.sort_values('Sales_RA5', ascending=False).reset_index(drop=True).head(5)\n",
        "\n",
        "## ADA 3 TOKO YANG ANGKANYA JAUH DARI TOKO LAINNYA"
      ],
      "execution_count": null,
      "outputs": []
    },
    {
      "cell_type": "code",
      "metadata": {
        "id": "FxFztlI1aECu"
      },
      "source": [
        "## Masukkan Toko ke List yang akan di Takeout\n",
        "outlier_lampung = [1609732, 1609724, 1609700]"
      ],
      "execution_count": null,
      "outputs": []
    },
    {
      "cell_type": "markdown",
      "metadata": {
        "id": "Nt4GQ5z5UK69"
      },
      "source": [
        "### KUPANG"
      ]
    },
    {
      "cell_type": "code",
      "metadata": {
        "id": "I3APnAhlakcd"
      },
      "source": [
        "# TOP 5 Toko di KUPANG\n",
        "kupang = df_merge[df_merge['Area']=='KUPANG']\n",
        "piv_kupang = pd.pivot_table(kupang,\n",
        "               index='SMS Id',\n",
        "               values=['Sales_RA1','Sales_RA2','Sales_RA3','Sales_RA4','Sales_RA5'],\n",
        "               aggfunc='sum').reset_index()\n",
        "\n",
        "piv_kupang.sort_values('Sales_RA5', ascending=False).reset_index(drop=True).head(5)\n",
        "\n",
        "## ADA 1 TOKO YANG ANGKANYA JAUH DARI TOKO LAINNYA"
      ],
      "execution_count": null,
      "outputs": []
    },
    {
      "cell_type": "code",
      "metadata": {
        "id": "wB2Oqjmpakce"
      },
      "source": [
        "## Masukkan Toko ke List yang akan di Takeout\n",
        "outlier_kupang = [1610489]"
      ],
      "execution_count": null,
      "outputs": []
    },
    {
      "cell_type": "markdown",
      "metadata": {
        "id": "W9Kf88cGbKv2"
      },
      "source": [
        "### Take Out Toko Outlier dari List"
      ]
    },
    {
      "cell_type": "code",
      "metadata": {
        "id": "ezXv7KCZfSTz"
      },
      "source": [
        "list_toko_outlier = outlier_palembang + outlier_karawang + outlier_madiun + outlier_lampung + outlier_kupang"
      ],
      "execution_count": null,
      "outputs": []
    },
    {
      "cell_type": "code",
      "metadata": {
        "id": "a_a0qACxb7SU"
      },
      "source": [
        "list_toko_outlier"
      ],
      "execution_count": null,
      "outputs": []
    },
    {
      "cell_type": "code",
      "metadata": {
        "id": "0YFh2mKqbJtT"
      },
      "source": [
        "## TAKEOUT TOKO FROM LIST\n",
        "df_clean = df_merge[~df_merge['SMS Id'].isin(list_toko_outlier)].reset_index(drop=True)"
      ],
      "execution_count": null,
      "outputs": []
    },
    {
      "cell_type": "code",
      "metadata": {
        "id": "_ezZ6YF1cZT8"
      },
      "source": [
        "df_clean.head()"
      ],
      "execution_count": null,
      "outputs": []
    },
    {
      "cell_type": "code",
      "metadata": {
        "id": "JH5fXa8hpNDu"
      },
      "source": [
        "hitung_toko = pd.pivot_table(df_clean,\n",
        "               index=['Area','SMS Id'],\n",
        "               values='Bar Code',\n",
        "               aggfunc='count').reset_index()\n",
        "pd.pivot_table(hitung_toko,\n",
        "               index='Area',\n",
        "               values='SMS Id',\n",
        "               aggfunc='count')"
      ],
      "execution_count": null,
      "outputs": []
    },
    {
      "cell_type": "code",
      "metadata": {
        "id": "NGL2_n1XqdBO"
      },
      "source": [
        "df_clean.to_excel('data_clean.xlsx')"
      ],
      "execution_count": null,
      "outputs": []
    },
    {
      "cell_type": "markdown",
      "metadata": {
        "id": "a6cKxhFjJKet"
      },
      "source": [
        "## CEK apakah masih ada data yang blank"
      ]
    },
    {
      "cell_type": "code",
      "metadata": {
        "id": "zqlAJD4VJGZy"
      },
      "source": [
        "C1 = df_clean['Sales_RA1'].isna()\n",
        "C2 = df_clean['Sales_RA2'].isna()\n",
        "C3 = df_clean['Sales_RA3'].isna()\n",
        "\n",
        "df_clean[C1 | C2 | C3].to_excel('data_blank.xlsx')"
      ],
      "execution_count": null,
      "outputs": []
    },
    {
      "cell_type": "markdown",
      "metadata": {
        "id": "TU7BRd_8JCzS"
      },
      "source": [
        "## Cek RBP harus < dari RSP"
      ]
    },
    {
      "cell_type": "code",
      "metadata": {
        "id": "cOvhtBOjHizp"
      },
      "source": [
        "df_clean[df_clean['RBP_IA']>df_clean['RSP_IA']].count().sum()"
      ],
      "execution_count": null,
      "outputs": []
    },
    {
      "cell_type": "code",
      "metadata": {
        "id": "GBPizvD0DK49"
      },
      "source": [
        "df_clean[df_clean['RBP_RA1']>df_clean['RSP_RA1']].count().sum()"
      ],
      "execution_count": null,
      "outputs": []
    },
    {
      "cell_type": "code",
      "metadata": {
        "id": "kGfY9Z3XHrBd"
      },
      "source": [
        "df_clean[df_clean['RBP_RA2']>df_clean['RSP_RA2']].count().sum()"
      ],
      "execution_count": null,
      "outputs": []
    },
    {
      "cell_type": "code",
      "metadata": {
        "id": "EZTpfIaiH3nj"
      },
      "source": [
        "df_clean[df_clean['RBP_RA3']>df_clean['RSP_RA3']].count().sum()"
      ],
      "execution_count": null,
      "outputs": []
    },
    {
      "cell_type": "code",
      "metadata": {
        "id": "_uMcrPjMH8k1"
      },
      "source": [
        "df_clean[df_clean['RBP_RA4']>df_clean['RSP_RA4']].count().sum()"
      ],
      "execution_count": null,
      "outputs": []
    },
    {
      "cell_type": "markdown",
      "metadata": {
        "id": "7JT7_ZOybLr7"
      },
      "source": [
        "##1. Ada Promotion tapi tidak ada sales"
      ]
    },
    {
      "cell_type": "code",
      "metadata": {
        "id": "qX8AoV2k86Ml"
      },
      "source": [
        "unique_store = pd.DataFrame(df_clean['SMS Id'].unique(), columns=['Store Code'])\n",
        "unique_store['remark'] = 'ok'\n",
        "merge_SO = pd.merge(merge_SO,\n",
        "                    unique_store,\n",
        "                    on='Store Code',\n",
        "                    how='left')\n",
        "merge_SO = merge_SO[merge_SO['remark']=='ok']"
      ],
      "execution_count": null,
      "outputs": []
    },
    {
      "cell_type": "code",
      "metadata": {
        "id": "WI3FPlY7-3l5"
      },
      "source": [
        "# count APM Promotion\n",
        "merge_SO['Promotion'] = 0\n",
        "merge_SO['Promotion'] = np.where(merge_SO['Q50B_Apakah ada promosi diskon untuk Brand di bawah ini ::Brand Apache Merah']=='Ya',merge_SO['Promotion']+1,merge_SO['Promotion']+0)\n",
        "merge_SO['Promotion'] = np.where(merge_SO['Q50C_Apakah ada promosi Beli berapa pack gratis berapa pack contoh beli 2 gratis 1, beli 4 gratis 1 untuk Brand di bawah ini ::Brand Apache Merah']=='Ya',merge_SO['Promotion']+1,merge_SO['Promotion']+0)\n",
        "merge_SO['Promotion'] = np.where(merge_SO['Q50D_Apakah ada promosi hadiah penjualan : Dapatkan Poin, Dapatkan Hadiah, dll. untuk Brand di bawah ini ::Brand Apache Merah']=='Ya',merge_SO['Promotion']+1,merge_SO['Promotion']+0)\n",
        "merge_SO['Promotion'] = np.where(merge_SO['Q50E_Apakah ada promosi tukar cangkang/bungkus untuk Brand di bawah ini ::Brand Apache Merah']=='Ya',merge_SO['Promotion']+1,merge_SO['Promotion']+0)\n",
        "merge_SO['Promotion'] = np.where(merge_SO['Q50F_Apakah ada promosi bundling produk untuk Brand di bawah ini ::Brand Apache Merah']=='Ya',merge_SO['Promotion']+1,merge_SO['Promotion']+0)\n",
        "merge_SO[merge_SO['Promotion']>0]"
      ],
      "execution_count": null,
      "outputs": []
    },
    {
      "cell_type": "code",
      "metadata": {
        "id": "sINMZRn6AyEu"
      },
      "source": [
        "# count APM visibility (POSM)\n",
        "merge_SO['Visibility'] = 0\n",
        "merge_SO['Visibility'] = np.where(merge_SO['Q50H_Apakah ada POSM sunscreen untuk brand berikut.:Brand Apache Merah']=='Ya',merge_SO['Visibility']+1,merge_SO['Visibility']+0)\n",
        "merge_SO['Visibility'] = np.where(merge_SO['Q50I_Apakah ada POSM Tape Blocking Display untuk brand berikut.:Brand Apache Merah']=='Ya',merge_SO['Visibility']+1,merge_SO['Visibility']+0)\n",
        "merge_SO['Visibility'] = np.where(merge_SO['Q50J_Apakah ada POSM decorative pack untuk brand berikut:Brand Apache Merah']=='Ya',merge_SO['Visibility']+1,merge_SO['Visibility']+0)\n",
        "merge_SO['Visibility'] = np.where(merge_SO['Q50K_Apakah ada POSM sticker per pack atau perbatang untuk brand berikut:Brand Apache Merah']=='Ya',merge_SO['Visibility']+1,merge_SO['Visibility']+0)\n",
        "merge_SO['Visibility'] = np.where(merge_SO['Q50L_Apakah ada POSM Blocking Display (Dummy Pack ada 5 Pack kosong) untuk brand berikut:Brand Apache Merah']=='Ya',merge_SO['Visibility']+1,merge_SO['Visibility']+0)\n",
        "merge_SO['Visibility'] = np.where(merge_SO['Q50M_Apakah ada POSM Hanging Lighter untuk brand berikut:Brand Apache Merah']=='Ya',merge_SO['Visibility']+1,merge_SO['Visibility']+0)\n",
        "merge_SO[merge_SO['Visibility']>0]"
      ],
      "execution_count": null,
      "outputs": []
    },
    {
      "cell_type": "markdown",
      "metadata": {
        "id": "-lmHWy1yjvn2"
      },
      "source": [
        "##2. Ada POSM tapi tidak ada sales"
      ]
    },
    {
      "cell_type": "markdown",
      "metadata": {
        "id": "7495XQbvbQ8R"
      },
      "source": [
        "##3. Ada sales tapi tidak ada promotion ataupun POSM"
      ]
    },
    {
      "cell_type": "markdown",
      "metadata": {
        "id": "ce3NznVqktED"
      },
      "source": [
        ""
      ]
    },
    {
      "cell_type": "code",
      "metadata": {
        "id": "JPEH1Y-eksV8"
      },
      "source": [
        ""
      ],
      "execution_count": null,
      "outputs": []
    }
  ]
}